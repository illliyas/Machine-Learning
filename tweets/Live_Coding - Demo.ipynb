{
  "cells": [
    {
      "cell_type": "markdown",
      "metadata": {
        "id": "view-in-github",
        "colab_type": "text"
      },
      "source": [
        "<a href=\"https://colab.research.google.com/github/illliyas/Machine-Learning/blob/master/tweets/Live_Coding.ipynb\" target=\"_parent\"><img src=\"https://colab.research.google.com/assets/colab-badge.svg\" alt=\"Open In Colab\"/></a>"
      ]
    },
    {
      "cell_type": "code",
      "source": [
        "!pip install bertopic\n",
        "!pip install joblib==1.1.0"
      ],
      "metadata": {
        "colab": {
          "base_uri": "https://localhost:8080/"
        },
        "id": "qRwOYt_nSyF8",
        "outputId": "86ea2d5a-4c00-436e-f946-37250c85e5f8"
      },
      "execution_count": 2,
      "outputs": [
        {
          "output_type": "stream",
          "name": "stdout",
          "text": [
            "Looking in indexes: https://pypi.org/simple, https://us-python.pkg.dev/colab-wheels/public/simple/\n",
            "Requirement already satisfied: bertopic in /usr/local/lib/python3.7/dist-packages (0.12.0)\n",
            "Requirement already satisfied: sentence-transformers>=0.4.1 in /usr/local/lib/python3.7/dist-packages (from bertopic) (2.2.2)\n",
            "Requirement already satisfied: scikit-learn>=0.22.2.post1 in /usr/local/lib/python3.7/dist-packages (from bertopic) (1.0.2)\n",
            "Requirement already satisfied: plotly>=4.7.0 in /usr/local/lib/python3.7/dist-packages (from bertopic) (5.5.0)\n",
            "Requirement already satisfied: pyyaml<6.0 in /usr/local/lib/python3.7/dist-packages (from bertopic) (5.4.1)\n",
            "Requirement already satisfied: tqdm>=4.41.1 in /usr/local/lib/python3.7/dist-packages (from bertopic) (4.64.1)\n",
            "Requirement already satisfied: hdbscan>=0.8.28 in /usr/local/lib/python3.7/dist-packages (from bertopic) (0.8.29)\n",
            "Requirement already satisfied: pandas>=1.1.5 in /usr/local/lib/python3.7/dist-packages (from bertopic) (1.3.5)\n",
            "Requirement already satisfied: numpy>=1.20.0 in /usr/local/lib/python3.7/dist-packages (from bertopic) (1.21.6)\n",
            "Requirement already satisfied: umap-learn>=0.5.0 in /usr/local/lib/python3.7/dist-packages (from bertopic) (0.5.3)\n",
            "Requirement already satisfied: joblib>=1.0 in /usr/local/lib/python3.7/dist-packages (from hdbscan>=0.8.28->bertopic) (1.1.0)\n",
            "Requirement already satisfied: scipy>=1.0 in /usr/local/lib/python3.7/dist-packages (from hdbscan>=0.8.28->bertopic) (1.7.3)\n",
            "Requirement already satisfied: cython>=0.27 in /usr/local/lib/python3.7/dist-packages (from hdbscan>=0.8.28->bertopic) (0.29.32)\n",
            "Requirement already satisfied: python-dateutil>=2.7.3 in /usr/local/lib/python3.7/dist-packages (from pandas>=1.1.5->bertopic) (2.8.2)\n",
            "Requirement already satisfied: pytz>=2017.3 in /usr/local/lib/python3.7/dist-packages (from pandas>=1.1.5->bertopic) (2022.5)\n",
            "Requirement already satisfied: tenacity>=6.2.0 in /usr/local/lib/python3.7/dist-packages (from plotly>=4.7.0->bertopic) (8.1.0)\n",
            "Requirement already satisfied: six in /usr/local/lib/python3.7/dist-packages (from plotly>=4.7.0->bertopic) (1.15.0)\n",
            "Requirement already satisfied: threadpoolctl>=2.0.0 in /usr/local/lib/python3.7/dist-packages (from scikit-learn>=0.22.2.post1->bertopic) (3.1.0)\n",
            "Requirement already satisfied: huggingface-hub>=0.4.0 in /usr/local/lib/python3.7/dist-packages (from sentence-transformers>=0.4.1->bertopic) (0.10.1)\n",
            "Requirement already satisfied: nltk in /usr/local/lib/python3.7/dist-packages (from sentence-transformers>=0.4.1->bertopic) (3.7)\n",
            "Requirement already satisfied: torch>=1.6.0 in /usr/local/lib/python3.7/dist-packages (from sentence-transformers>=0.4.1->bertopic) (1.12.1+cu113)\n",
            "Requirement already satisfied: sentencepiece in /usr/local/lib/python3.7/dist-packages (from sentence-transformers>=0.4.1->bertopic) (0.1.97)\n",
            "Requirement already satisfied: transformers<5.0.0,>=4.6.0 in /usr/local/lib/python3.7/dist-packages (from sentence-transformers>=0.4.1->bertopic) (4.24.0)\n",
            "Requirement already satisfied: torchvision in /usr/local/lib/python3.7/dist-packages (from sentence-transformers>=0.4.1->bertopic) (0.13.1+cu113)\n",
            "Requirement already satisfied: importlib-metadata in /usr/local/lib/python3.7/dist-packages (from huggingface-hub>=0.4.0->sentence-transformers>=0.4.1->bertopic) (4.13.0)\n",
            "Requirement already satisfied: filelock in /usr/local/lib/python3.7/dist-packages (from huggingface-hub>=0.4.0->sentence-transformers>=0.4.1->bertopic) (3.8.0)\n",
            "Requirement already satisfied: requests in /usr/local/lib/python3.7/dist-packages (from huggingface-hub>=0.4.0->sentence-transformers>=0.4.1->bertopic) (2.23.0)\n",
            "Requirement already satisfied: typing-extensions>=3.7.4.3 in /usr/local/lib/python3.7/dist-packages (from huggingface-hub>=0.4.0->sentence-transformers>=0.4.1->bertopic) (4.1.1)\n",
            "Requirement already satisfied: packaging>=20.9 in /usr/local/lib/python3.7/dist-packages (from huggingface-hub>=0.4.0->sentence-transformers>=0.4.1->bertopic) (21.3)\n",
            "Requirement already satisfied: pyparsing!=3.0.5,>=2.0.2 in /usr/local/lib/python3.7/dist-packages (from packaging>=20.9->huggingface-hub>=0.4.0->sentence-transformers>=0.4.1->bertopic) (3.0.9)\n",
            "Requirement already satisfied: regex!=2019.12.17 in /usr/local/lib/python3.7/dist-packages (from transformers<5.0.0,>=4.6.0->sentence-transformers>=0.4.1->bertopic) (2022.6.2)\n",
            "Requirement already satisfied: tokenizers!=0.11.3,<0.14,>=0.11.1 in /usr/local/lib/python3.7/dist-packages (from transformers<5.0.0,>=4.6.0->sentence-transformers>=0.4.1->bertopic) (0.13.1)\n",
            "Requirement already satisfied: numba>=0.49 in /usr/local/lib/python3.7/dist-packages (from umap-learn>=0.5.0->bertopic) (0.56.3)\n",
            "Requirement already satisfied: pynndescent>=0.5 in /usr/local/lib/python3.7/dist-packages (from umap-learn>=0.5.0->bertopic) (0.5.8)\n",
            "Requirement already satisfied: setuptools in /usr/local/lib/python3.7/dist-packages (from numba>=0.49->umap-learn>=0.5.0->bertopic) (57.4.0)\n",
            "Requirement already satisfied: llvmlite<0.40,>=0.39.0dev0 in /usr/local/lib/python3.7/dist-packages (from numba>=0.49->umap-learn>=0.5.0->bertopic) (0.39.1)\n",
            "Requirement already satisfied: zipp>=0.5 in /usr/local/lib/python3.7/dist-packages (from importlib-metadata->huggingface-hub>=0.4.0->sentence-transformers>=0.4.1->bertopic) (3.10.0)\n",
            "Requirement already satisfied: click in /usr/local/lib/python3.7/dist-packages (from nltk->sentence-transformers>=0.4.1->bertopic) (7.1.2)\n",
            "Requirement already satisfied: certifi>=2017.4.17 in /usr/local/lib/python3.7/dist-packages (from requests->huggingface-hub>=0.4.0->sentence-transformers>=0.4.1->bertopic) (2022.9.24)\n",
            "Requirement already satisfied: chardet<4,>=3.0.2 in /usr/local/lib/python3.7/dist-packages (from requests->huggingface-hub>=0.4.0->sentence-transformers>=0.4.1->bertopic) (3.0.4)\n",
            "Requirement already satisfied: idna<3,>=2.5 in /usr/local/lib/python3.7/dist-packages (from requests->huggingface-hub>=0.4.0->sentence-transformers>=0.4.1->bertopic) (2.10)\n",
            "Requirement already satisfied: urllib3!=1.25.0,!=1.25.1,<1.26,>=1.21.1 in /usr/local/lib/python3.7/dist-packages (from requests->huggingface-hub>=0.4.0->sentence-transformers>=0.4.1->bertopic) (1.24.3)\n",
            "Requirement already satisfied: pillow!=8.3.*,>=5.3.0 in /usr/local/lib/python3.7/dist-packages (from torchvision->sentence-transformers>=0.4.1->bertopic) (7.1.2)\n",
            "Looking in indexes: https://pypi.org/simple, https://us-python.pkg.dev/colab-wheels/public/simple/\n",
            "Requirement already satisfied: joblib==1.1.0 in /usr/local/lib/python3.7/dist-packages (1.1.0)\n"
          ]
        }
      ]
    },
    {
      "cell_type": "code",
      "source": [
        "#Lets import important libraries\n",
        "import pandas as pd\n",
        "import re\n",
        "import nltk\n",
        "from nltk.corpus import stopwords\n",
        "from nltk.stem import WordNetLemmatizer\n",
        "from nltk.tokenize import word_tokenize\n",
        "from bertopic import BERTopic"
      ],
      "metadata": {
        "id": "fgZ886uMN_wt"
      },
      "execution_count": 10,
      "outputs": []
    },
    {
      "cell_type": "code",
      "source": [
        "nltk.download('punkt')\n",
        "nltk.download('wordnet')\n",
        "nltk.download('omw-1.4')"
      ],
      "metadata": {
        "colab": {
          "base_uri": "https://localhost:8080/"
        },
        "id": "cCSRMPEFPDjo",
        "outputId": "13e84135-3086-437f-f280-2d86f8b8e3d1"
      },
      "execution_count": 4,
      "outputs": [
        {
          "output_type": "stream",
          "name": "stderr",
          "text": [
            "[nltk_data] Downloading package punkt to /root/nltk_data...\n",
            "[nltk_data]   Package punkt is already up-to-date!\n",
            "[nltk_data] Downloading package wordnet to /root/nltk_data...\n",
            "[nltk_data]   Package wordnet is already up-to-date!\n",
            "[nltk_data] Downloading package omw-1.4 to /root/nltk_data...\n",
            "[nltk_data]   Package omw-1.4 is already up-to-date!\n"
          ]
        },
        {
          "output_type": "execute_result",
          "data": {
            "text/plain": [
              "True"
            ]
          },
          "metadata": {},
          "execution_count": 4
        }
      ]
    },
    {
      "cell_type": "code",
      "source": [
        "df = pd.read_csv('ek_tweets4.csv')"
      ],
      "metadata": {
        "id": "6Smv4Hi4N7Ru"
      },
      "execution_count": 5,
      "outputs": []
    },
    {
      "cell_type": "code",
      "source": [
        "sw = stopwords.words('english')\n",
        "lemmatizer = WordNetLemmatizer()"
      ],
      "metadata": {
        "id": "WpKU1YQBN61g"
      },
      "execution_count": 6,
      "outputs": []
    },
    {
      "cell_type": "code",
      "source": [
        "def cleaning_tweets(tweet):\n",
        "    temp = tweet.lower()\n",
        "    #Removing hashtags and mentions\n",
        "    temp = re.sub(\"@[A-Za-z0-9_]+\",\"\", temp)\n",
        "    temp = re.sub(\"#[A-Za-z0-9_]+\",\"\", temp)\n",
        "    #Removing links\n",
        "    temp = re.sub(r\"http\\S+\", \"\", temp)\n",
        "    temp = re.sub(r\"www.\\S+\", \"\", temp)\n",
        "    #Removing punctuations\n",
        "    temp = re.sub('[()!?]', ' ', temp)\n",
        "    temp = re.sub('\\[.*?\\]',' ', temp)\n",
        "    #Filtering non-alphanumeric characters\n",
        "    temp = re.sub(\"[^a-z0-9]\",\" \", temp)\n",
        "    temp = re.sub(\"([a-z]*[0-9]+[a-z0-9]* )+\",\" \", temp)\n",
        "    #remove 2 letter words\n",
        "    temp = re.sub(r\"\\b[a-z]{2}\\b\",\" \", temp)\n",
        "    return temp\n",
        "\n",
        "def remove_stopwords(tweet):\n",
        "    words = word_tokenize(tweet)\n",
        "    words = [word for word in words if word not in sw]\n",
        "    words = [lemmatizer.lemmatize(word) for word in words]\n",
        "    return ' '.join(words) \n",
        "def number_of_words(tweet):\n",
        "  return len(word_tokenize(tweet))     "
      ],
      "metadata": {
        "id": "RyBk6HKLN6oK"
      },
      "execution_count": 7,
      "outputs": []
    },
    {
      "cell_type": "code",
      "source": [
        "df['tweet_clean'] = df.apply(lambda row: cleaning_tweets(row['tweet']),axis=1)\n",
        "df['tweet_clean2'] = df.apply(lambda row: remove_stopwords(row['tweet_clean']),axis=1)\n",
        "df['number_of_words'] = df.apply(lambda row: number_of_words(row['tweet_clean2']),axis=1)"
      ],
      "metadata": {
        "id": "Hpl7mT_hN6al"
      },
      "execution_count": 8,
      "outputs": []
    },
    {
      "cell_type": "code",
      "source": [
        "df2 = df[df['number_of_words']>2]\n",
        "df2=df2.reset_index()"
      ],
      "metadata": {
        "id": "750x1TnRN6C7"
      },
      "execution_count": 9,
      "outputs": []
    },
    {
      "cell_type": "code",
      "source": [
        "list(df2.tweet)[12:20]"
      ],
      "metadata": {
        "colab": {
          "base_uri": "https://localhost:8080/"
        },
        "id": "xPM5QjVXRTrL",
        "outputId": "441978f9-d503-441f-9682-b67857ba5c36"
      },
      "execution_count": 22,
      "outputs": [
        {
          "output_type": "execute_result",
          "data": {
            "text/plain": [
              "['@EmiratesSupport @emirates can you advise why we are now being quote £900+ for a room which, when we booked were told was included? https://t.co/tbMzz3bONr',\n",
              " '@EmiratesSupport any particular reason why your website is so shit? Online forms telling me to only use “valid characters” like I’m a cartoonist. Your site is shit and your customer service is abysmal',\n",
              " '@EmiratesSupport my elderly mother is suffering in Amsterdam airport and you took only first and business class people to the hotels and left everyone.. SHAME ON YOU',\n",
              " '@EmiratesSupport @emirates is this how the \"best airline\" in the world treats their passengers? You will be sued for mishandling all this. I read your terms and conditions',\n",
              " \"@EmiratesSupport Yeah pointless. Saying you can't book a hotel stay nor upgrade... this is basic EU regulation EC 261.... a flight cancellation of over 24 hrs and more than 3,500km\",\n",
              " '@EmiratesSupport, hi I need urgent help  as need to change  my tickets I was trying to call the helpline since morning but could not get through. Is there any other way to contact ??',\n",
              " '@EmiratesSupport Hi Team, Emirates changed my trip start date stating operation reasons due to which my whole schedule is now impacted. Can I request a change in my return date as well without any charge as it is not my fault at all!!! #customersupport #Emirates #consumerrights',\n",
              " '@EmiratesSupport Thanks very much, however, this was last updated in July, and things have moved on a fair bit since then.']"
            ]
          },
          "metadata": {},
          "execution_count": 22
        }
      ]
    },
    {
      "cell_type": "code",
      "source": [
        "list(df2.tweet_clean2)[12:20]"
      ],
      "metadata": {
        "colab": {
          "base_uri": "https://localhost:8080/"
        },
        "id": "Uk49Ox-YRbmA",
        "outputId": "7009b39d-9f3e-4cd6-f42d-405601740de3"
      },
      "execution_count": 23,
      "outputs": [
        {
          "output_type": "execute_result",
          "data": {
            "text/plain": [
              "['advise quote room booked told included',\n",
              " 'particular reason website shit online form telling use valid character like cartoonist site shit customer service abysmal',\n",
              " 'elderly mother suffering amsterdam airport took first business class people hotel left everyone shame',\n",
              " 'best airline world treat passenger sued mishandling read term condition',\n",
              " 'yeah pointless saying book hotel stay upgrade basic regulation flight cancellation hr 500km',\n",
              " 'need urgent help need change ticket trying call helpline since morning could get way contact',\n",
              " 'team emirate changed trip start date stating operation reason due whole schedule impacted request change return date well without charge fault',\n",
              " 'thanks much however last updated july thing moved fair bit since']"
            ]
          },
          "metadata": {},
          "execution_count": 23
        }
      ]
    },
    {
      "cell_type": "code",
      "source": [],
      "metadata": {
        "id": "0nt3T32GSBFi"
      },
      "execution_count": 9,
      "outputs": []
    },
    {
      "cell_type": "code",
      "source": [
        "df2['created_at'] = pd.to_datetime(df2['created_at'])\n",
        "tweets = df2.tweet_clean2.to_list()\n",
        "timestamps  = df2.created_at.to_list()"
      ],
      "metadata": {
        "id": "kc59CDYwSA57"
      },
      "execution_count": 11,
      "outputs": []
    },
    {
      "cell_type": "code",
      "source": [
        "model1 = BERTopic(verbose=True,embedding_model='all-MiniLM-L6-v2', min_topic_size= 6)\n",
        "topics, _ = model1.fit_transform(tweets)"
      ],
      "metadata": {
        "colab": {
          "base_uri": "https://localhost:8080/",
          "height": 101,
          "referenced_widgets": [
            "3f379643566a4aac8a1d896b7ed4d3d3",
            "7ce35d5ed4174d5aa44954892f201f7c",
            "477a0cd2912b41b8ab6df9c3488c1c68",
            "2c83350cd0e9409c91fecb7b3a587cbc",
            "df55840a69fe468393f474ebec333c3e",
            "3295b00171a24a15a64fb0c40c95d123",
            "7394dde33ce84b79920d7c5d7d79dec5",
            "f01ddad4bd064d5d9c795777b26fa604",
            "dc6d123099d14234b854f3bbfefe7ed7",
            "f8ac1dd9a8d94fb3b70e64f9a4743bf9",
            "7b8bc8a41fa44e0e9fcd1d488e806d93"
          ]
        },
        "id": "rGJcWlfmSAWo",
        "outputId": "2ebe3fd8-1198-4063-cdd7-e01e844524ef"
      },
      "execution_count": 23,
      "outputs": [
        {
          "output_type": "display_data",
          "data": {
            "text/plain": [
              "Batches:   0%|          | 0/18 [00:00<?, ?it/s]"
            ],
            "application/vnd.jupyter.widget-view+json": {
              "version_major": 2,
              "version_minor": 0,
              "model_id": "3f379643566a4aac8a1d896b7ed4d3d3"
            }
          },
          "metadata": {}
        },
        {
          "output_type": "stream",
          "name": "stderr",
          "text": [
            "2022-11-05 20:03:04,187 - BERTopic - Transformed documents to Embeddings\n",
            "2022-11-05 20:03:08,480 - BERTopic - Reduced dimensionality\n",
            "2022-11-05 20:03:08,530 - BERTopic - Clustered reduced embeddings\n"
          ]
        }
      ]
    },
    {
      "cell_type": "code",
      "source": [
        "model1.get_topic_info()"
      ],
      "metadata": {
        "colab": {
          "base_uri": "https://localhost:8080/",
          "height": 645
        },
        "id": "49ylPTXaTn0Q",
        "outputId": "603d6eea-b2f8-4011-b34b-3bc0b00c7239"
      },
      "execution_count": 24,
      "outputs": [
        {
          "output_type": "execute_result",
          "data": {
            "text/plain": [
              "    Topic  Count                                Name\n",
              "0      -1    110         -1_flight_response_get_time\n",
              "1       0     90        0_booking_change_help_flight\n",
              "2       1     73       1_luggage_baggage_bag_emirate\n",
              "3       2     41    2_complaint_customer_reply_email\n",
              "4       3     38           3_please_sent_thank_reply\n",
              "5       4     29         4_emirate_support_time_date\n",
              "6       5     21              5_meal_nut_food_infant\n",
              "7       6     20   6_vaccinated_test_vaccination_pcr\n",
              "8       7     17     7_refund_rebook_cancelled_money\n",
              "9       8     16       8_invoice_much_form_resolving\n",
              "10      9     15          9_staff_delhi_airline_made\n",
              "11     10     15    10_lounge_access_business_flying\n",
              "12     11     13        11_visa_transit_dubai_admins\n",
              "13     12     12    12_saturday_system_decided_shoul\n",
              "14     13     10  13_email_pathetic_whenever_equally\n",
              "15     14      8             14_knee_twin_family_dxb\n",
              "16     15      7     15_dublin_five_exhausted_flight\n",
              "17     16      7     16_selling_money_robbed_scammed\n",
              "18     17      7   17_complaint_nothing_emirate_made"
            ],
            "text/html": [
              "\n",
              "  <div id=\"df-151ab983-1157-4c72-8311-47f5b40d0cca\">\n",
              "    <div class=\"colab-df-container\">\n",
              "      <div>\n",
              "<style scoped>\n",
              "    .dataframe tbody tr th:only-of-type {\n",
              "        vertical-align: middle;\n",
              "    }\n",
              "\n",
              "    .dataframe tbody tr th {\n",
              "        vertical-align: top;\n",
              "    }\n",
              "\n",
              "    .dataframe thead th {\n",
              "        text-align: right;\n",
              "    }\n",
              "</style>\n",
              "<table border=\"1\" class=\"dataframe\">\n",
              "  <thead>\n",
              "    <tr style=\"text-align: right;\">\n",
              "      <th></th>\n",
              "      <th>Topic</th>\n",
              "      <th>Count</th>\n",
              "      <th>Name</th>\n",
              "    </tr>\n",
              "  </thead>\n",
              "  <tbody>\n",
              "    <tr>\n",
              "      <th>0</th>\n",
              "      <td>-1</td>\n",
              "      <td>110</td>\n",
              "      <td>-1_flight_response_get_time</td>\n",
              "    </tr>\n",
              "    <tr>\n",
              "      <th>1</th>\n",
              "      <td>0</td>\n",
              "      <td>90</td>\n",
              "      <td>0_booking_change_help_flight</td>\n",
              "    </tr>\n",
              "    <tr>\n",
              "      <th>2</th>\n",
              "      <td>1</td>\n",
              "      <td>73</td>\n",
              "      <td>1_luggage_baggage_bag_emirate</td>\n",
              "    </tr>\n",
              "    <tr>\n",
              "      <th>3</th>\n",
              "      <td>2</td>\n",
              "      <td>41</td>\n",
              "      <td>2_complaint_customer_reply_email</td>\n",
              "    </tr>\n",
              "    <tr>\n",
              "      <th>4</th>\n",
              "      <td>3</td>\n",
              "      <td>38</td>\n",
              "      <td>3_please_sent_thank_reply</td>\n",
              "    </tr>\n",
              "    <tr>\n",
              "      <th>5</th>\n",
              "      <td>4</td>\n",
              "      <td>29</td>\n",
              "      <td>4_emirate_support_time_date</td>\n",
              "    </tr>\n",
              "    <tr>\n",
              "      <th>6</th>\n",
              "      <td>5</td>\n",
              "      <td>21</td>\n",
              "      <td>5_meal_nut_food_infant</td>\n",
              "    </tr>\n",
              "    <tr>\n",
              "      <th>7</th>\n",
              "      <td>6</td>\n",
              "      <td>20</td>\n",
              "      <td>6_vaccinated_test_vaccination_pcr</td>\n",
              "    </tr>\n",
              "    <tr>\n",
              "      <th>8</th>\n",
              "      <td>7</td>\n",
              "      <td>17</td>\n",
              "      <td>7_refund_rebook_cancelled_money</td>\n",
              "    </tr>\n",
              "    <tr>\n",
              "      <th>9</th>\n",
              "      <td>8</td>\n",
              "      <td>16</td>\n",
              "      <td>8_invoice_much_form_resolving</td>\n",
              "    </tr>\n",
              "    <tr>\n",
              "      <th>10</th>\n",
              "      <td>9</td>\n",
              "      <td>15</td>\n",
              "      <td>9_staff_delhi_airline_made</td>\n",
              "    </tr>\n",
              "    <tr>\n",
              "      <th>11</th>\n",
              "      <td>10</td>\n",
              "      <td>15</td>\n",
              "      <td>10_lounge_access_business_flying</td>\n",
              "    </tr>\n",
              "    <tr>\n",
              "      <th>12</th>\n",
              "      <td>11</td>\n",
              "      <td>13</td>\n",
              "      <td>11_visa_transit_dubai_admins</td>\n",
              "    </tr>\n",
              "    <tr>\n",
              "      <th>13</th>\n",
              "      <td>12</td>\n",
              "      <td>12</td>\n",
              "      <td>12_saturday_system_decided_shoul</td>\n",
              "    </tr>\n",
              "    <tr>\n",
              "      <th>14</th>\n",
              "      <td>13</td>\n",
              "      <td>10</td>\n",
              "      <td>13_email_pathetic_whenever_equally</td>\n",
              "    </tr>\n",
              "    <tr>\n",
              "      <th>15</th>\n",
              "      <td>14</td>\n",
              "      <td>8</td>\n",
              "      <td>14_knee_twin_family_dxb</td>\n",
              "    </tr>\n",
              "    <tr>\n",
              "      <th>16</th>\n",
              "      <td>15</td>\n",
              "      <td>7</td>\n",
              "      <td>15_dublin_five_exhausted_flight</td>\n",
              "    </tr>\n",
              "    <tr>\n",
              "      <th>17</th>\n",
              "      <td>16</td>\n",
              "      <td>7</td>\n",
              "      <td>16_selling_money_robbed_scammed</td>\n",
              "    </tr>\n",
              "    <tr>\n",
              "      <th>18</th>\n",
              "      <td>17</td>\n",
              "      <td>7</td>\n",
              "      <td>17_complaint_nothing_emirate_made</td>\n",
              "    </tr>\n",
              "  </tbody>\n",
              "</table>\n",
              "</div>\n",
              "      <button class=\"colab-df-convert\" onclick=\"convertToInteractive('df-151ab983-1157-4c72-8311-47f5b40d0cca')\"\n",
              "              title=\"Convert this dataframe to an interactive table.\"\n",
              "              style=\"display:none;\">\n",
              "        \n",
              "  <svg xmlns=\"http://www.w3.org/2000/svg\" height=\"24px\"viewBox=\"0 0 24 24\"\n",
              "       width=\"24px\">\n",
              "    <path d=\"M0 0h24v24H0V0z\" fill=\"none\"/>\n",
              "    <path d=\"M18.56 5.44l.94 2.06.94-2.06 2.06-.94-2.06-.94-.94-2.06-.94 2.06-2.06.94zm-11 1L8.5 8.5l.94-2.06 2.06-.94-2.06-.94L8.5 2.5l-.94 2.06-2.06.94zm10 10l.94 2.06.94-2.06 2.06-.94-2.06-.94-.94-2.06-.94 2.06-2.06.94z\"/><path d=\"M17.41 7.96l-1.37-1.37c-.4-.4-.92-.59-1.43-.59-.52 0-1.04.2-1.43.59L10.3 9.45l-7.72 7.72c-.78.78-.78 2.05 0 2.83L4 21.41c.39.39.9.59 1.41.59.51 0 1.02-.2 1.41-.59l7.78-7.78 2.81-2.81c.8-.78.8-2.07 0-2.86zM5.41 20L4 18.59l7.72-7.72 1.47 1.35L5.41 20z\"/>\n",
              "  </svg>\n",
              "      </button>\n",
              "      \n",
              "  <style>\n",
              "    .colab-df-container {\n",
              "      display:flex;\n",
              "      flex-wrap:wrap;\n",
              "      gap: 12px;\n",
              "    }\n",
              "\n",
              "    .colab-df-convert {\n",
              "      background-color: #E8F0FE;\n",
              "      border: none;\n",
              "      border-radius: 50%;\n",
              "      cursor: pointer;\n",
              "      display: none;\n",
              "      fill: #1967D2;\n",
              "      height: 32px;\n",
              "      padding: 0 0 0 0;\n",
              "      width: 32px;\n",
              "    }\n",
              "\n",
              "    .colab-df-convert:hover {\n",
              "      background-color: #E2EBFA;\n",
              "      box-shadow: 0px 1px 2px rgba(60, 64, 67, 0.3), 0px 1px 3px 1px rgba(60, 64, 67, 0.15);\n",
              "      fill: #174EA6;\n",
              "    }\n",
              "\n",
              "    [theme=dark] .colab-df-convert {\n",
              "      background-color: #3B4455;\n",
              "      fill: #D2E3FC;\n",
              "    }\n",
              "\n",
              "    [theme=dark] .colab-df-convert:hover {\n",
              "      background-color: #434B5C;\n",
              "      box-shadow: 0px 1px 3px 1px rgba(0, 0, 0, 0.15);\n",
              "      filter: drop-shadow(0px 1px 2px rgba(0, 0, 0, 0.3));\n",
              "      fill: #FFFFFF;\n",
              "    }\n",
              "  </style>\n",
              "\n",
              "      <script>\n",
              "        const buttonEl =\n",
              "          document.querySelector('#df-151ab983-1157-4c72-8311-47f5b40d0cca button.colab-df-convert');\n",
              "        buttonEl.style.display =\n",
              "          google.colab.kernel.accessAllowed ? 'block' : 'none';\n",
              "\n",
              "        async function convertToInteractive(key) {\n",
              "          const element = document.querySelector('#df-151ab983-1157-4c72-8311-47f5b40d0cca');\n",
              "          const dataTable =\n",
              "            await google.colab.kernel.invokeFunction('convertToInteractive',\n",
              "                                                     [key], {});\n",
              "          if (!dataTable) return;\n",
              "\n",
              "          const docLinkHtml = 'Like what you see? Visit the ' +\n",
              "            '<a target=\"_blank\" href=https://colab.research.google.com/notebooks/data_table.ipynb>data table notebook</a>'\n",
              "            + ' to learn more about interactive tables.';\n",
              "          element.innerHTML = '';\n",
              "          dataTable['output_type'] = 'display_data';\n",
              "          await google.colab.output.renderOutput(dataTable, element);\n",
              "          const docLink = document.createElement('div');\n",
              "          docLink.innerHTML = docLinkHtml;\n",
              "          element.appendChild(docLink);\n",
              "        }\n",
              "      </script>\n",
              "    </div>\n",
              "  </div>\n",
              "  "
            ]
          },
          "metadata": {},
          "execution_count": 24
        }
      ]
    },
    {
      "cell_type": "code",
      "source": [
        "df2['tweet_topics'] = topics\n",
        "model1.topic_labels_"
      ],
      "metadata": {
        "colab": {
          "base_uri": "https://localhost:8080/"
        },
        "id": "0GpK7GzVXP0S",
        "outputId": "6e43a5bd-2897-4d58-dfa6-f8c507ae3435"
      },
      "execution_count": 27,
      "outputs": [
        {
          "output_type": "execute_result",
          "data": {
            "text/plain": [
              "{-1: '-1_flight_response_get_time',\n",
              " 0: '0_booking_change_help_flight',\n",
              " 1: '1_luggage_baggage_bag_emirate',\n",
              " 2: '2_complaint_customer_reply_email',\n",
              " 3: '3_please_sent_thank_reply',\n",
              " 4: '4_emirate_support_time_date',\n",
              " 5: '5_meal_nut_food_infant',\n",
              " 6: '6_vaccinated_test_vaccination_pcr',\n",
              " 7: '7_refund_rebook_cancelled_money',\n",
              " 8: '8_invoice_much_form_resolving',\n",
              " 9: '9_staff_delhi_airline_made',\n",
              " 10: '10_lounge_access_business_flying',\n",
              " 11: '11_visa_transit_dubai_admins',\n",
              " 12: '12_saturday_system_decided_shoul',\n",
              " 13: '13_email_pathetic_whenever_equally',\n",
              " 14: '14_knee_twin_family_dxb',\n",
              " 15: '15_dublin_five_exhausted_flight',\n",
              " 16: '16_selling_money_robbed_scammed',\n",
              " 17: '17_complaint_nothing_emirate_made'}"
            ]
          },
          "metadata": {},
          "execution_count": 27
        }
      ]
    },
    {
      "cell_type": "code",
      "source": [
        "model1.visualize_topics()"
      ],
      "metadata": {
        "colab": {
          "base_uri": "https://localhost:8080/",
          "height": 667
        },
        "id": "evMl8hGMXZ-5",
        "outputId": "89979029-3b6a-4281-dd75-a46141e98e9a"
      },
      "execution_count": 29,
      "outputs": [
        {
          "output_type": "display_data",
          "data": {
            "text/html": [
              "<html>\n",
              "<head><meta charset=\"utf-8\" /></head>\n",
              "<body>\n",
              "    <div>            <script src=\"https://cdnjs.cloudflare.com/ajax/libs/mathjax/2.7.5/MathJax.js?config=TeX-AMS-MML_SVG\"></script><script type=\"text/javascript\">if (window.MathJax) {MathJax.Hub.Config({SVG: {font: \"STIX-Web\"}});}</script>                <script type=\"text/javascript\">window.PlotlyConfig = {MathJaxConfig: 'local'};</script>\n",
              "        <script src=\"https://cdn.plot.ly/plotly-2.8.3.min.js\"></script>                <div id=\"14865c55-9ef5-4e7e-ba9c-b7e6eb8d6679\" class=\"plotly-graph-div\" style=\"height:650px; width:650px;\"></div>            <script type=\"text/javascript\">                                    window.PLOTLYENV=window.PLOTLYENV || {};                                    if (document.getElementById(\"14865c55-9ef5-4e7e-ba9c-b7e6eb8d6679\")) {                    Plotly.newPlot(                        \"14865c55-9ef5-4e7e-ba9c-b7e6eb8d6679\",                        [{\"customdata\":[[0,\"booking | change | help | flight | trying\",90],[1,\"luggage | baggage | bag | emirate | dubai\",73],[2,\"complaint | customer | reply | email | response\",41],[3,\"please | sent | thank | reply | thanks\",38],[4,\"emirate | support | time | date | schedule\",29],[5,\"meal | nut | food | infant | cater\",21],[6,\"vaccinated | test | vaccination | pcr | covid\",20],[7,\"refund | rebook | cancelled | money | cancellation\",17],[8,\"invoice | much | form | resolving | appreciated\",16],[9,\"staff | delhi | airline | made | airport\",15],[10,\"lounge | access | business | flying | class\",15],[11,\"visa | transit | dubai | admins | regarding\",13],[12,\"saturday | system | decided | shoul | year\",12],[13,\"email | pathetic | whenever | equally | write\",10],[14,\"knee | twin | family | dxb | able\",8],[15,\"dublin | five | exhausted | flight | star\",7],[16,\"selling | money | robbed | scammed | package\",7],[17,\"complaint | nothing | emirate | made | heard\",7]],\"hovertemplate\":\"<b>Topic %{customdata[0]}</b><br>Words: %{customdata[1]}<br>Size: %{customdata[2]}\",\"legendgroup\":\"\",\"marker\":{\"color\":\"#B0BEC5\",\"size\":[90,73,41,38,29,21,20,17,16,15,15,13,12,10,8,7,7,7],\"sizemode\":\"area\",\"sizeref\":0.05625,\"symbol\":\"circle\",\"line\":{\"color\":\"DarkSlateGrey\",\"width\":2}},\"mode\":\"markers\",\"name\":\"\",\"orientation\":\"v\",\"showlegend\":false,\"x\":[7.166540145874023,6.198915958404541,6.023134231567383,-9.979355812072754,6.83076810836792,7.272562026977539,5.816553115844727,6.931726455688477,-10.093165397644043,6.468330383300781,7.504671573638916,6.7852983474731445,6.591992378234863,5.151504039764404,6.673396587371826,4.852207183837891,6.894985198974609,5.605174541473389],\"xaxis\":\"x\",\"y\":[2.7683751583099365,3.8001716136932373,5.61228084564209,-4.079541206359863,4.165464878082275,4.509970188140869,4.3070244789123535,3.0180156230926514,-4.193033218383789,4.505331993103027,4.0692596435546875,3.827080011367798,2.044105052947998,6.122419357299805,2.427079677581787,5.857564926147461,4.723626136779785,6.0000224113464355],\"yaxis\":\"y\",\"type\":\"scatter\"}],                        {\"template\":{\"data\":{\"barpolar\":[{\"marker\":{\"line\":{\"color\":\"white\",\"width\":0.5},\"pattern\":{\"fillmode\":\"overlay\",\"size\":10,\"solidity\":0.2}},\"type\":\"barpolar\"}],\"bar\":[{\"error_x\":{\"color\":\"rgb(36,36,36)\"},\"error_y\":{\"color\":\"rgb(36,36,36)\"},\"marker\":{\"line\":{\"color\":\"white\",\"width\":0.5},\"pattern\":{\"fillmode\":\"overlay\",\"size\":10,\"solidity\":0.2}},\"type\":\"bar\"}],\"carpet\":[{\"aaxis\":{\"endlinecolor\":\"rgb(36,36,36)\",\"gridcolor\":\"white\",\"linecolor\":\"white\",\"minorgridcolor\":\"white\",\"startlinecolor\":\"rgb(36,36,36)\"},\"baxis\":{\"endlinecolor\":\"rgb(36,36,36)\",\"gridcolor\":\"white\",\"linecolor\":\"white\",\"minorgridcolor\":\"white\",\"startlinecolor\":\"rgb(36,36,36)\"},\"type\":\"carpet\"}],\"choropleth\":[{\"colorbar\":{\"outlinewidth\":1,\"tickcolor\":\"rgb(36,36,36)\",\"ticks\":\"outside\"},\"type\":\"choropleth\"}],\"contourcarpet\":[{\"colorbar\":{\"outlinewidth\":1,\"tickcolor\":\"rgb(36,36,36)\",\"ticks\":\"outside\"},\"type\":\"contourcarpet\"}],\"contour\":[{\"colorbar\":{\"outlinewidth\":1,\"tickcolor\":\"rgb(36,36,36)\",\"ticks\":\"outside\"},\"colorscale\":[[0.0,\"#440154\"],[0.1111111111111111,\"#482878\"],[0.2222222222222222,\"#3e4989\"],[0.3333333333333333,\"#31688e\"],[0.4444444444444444,\"#26828e\"],[0.5555555555555556,\"#1f9e89\"],[0.6666666666666666,\"#35b779\"],[0.7777777777777778,\"#6ece58\"],[0.8888888888888888,\"#b5de2b\"],[1.0,\"#fde725\"]],\"type\":\"contour\"}],\"heatmapgl\":[{\"colorbar\":{\"outlinewidth\":1,\"tickcolor\":\"rgb(36,36,36)\",\"ticks\":\"outside\"},\"colorscale\":[[0.0,\"#440154\"],[0.1111111111111111,\"#482878\"],[0.2222222222222222,\"#3e4989\"],[0.3333333333333333,\"#31688e\"],[0.4444444444444444,\"#26828e\"],[0.5555555555555556,\"#1f9e89\"],[0.6666666666666666,\"#35b779\"],[0.7777777777777778,\"#6ece58\"],[0.8888888888888888,\"#b5de2b\"],[1.0,\"#fde725\"]],\"type\":\"heatmapgl\"}],\"heatmap\":[{\"colorbar\":{\"outlinewidth\":1,\"tickcolor\":\"rgb(36,36,36)\",\"ticks\":\"outside\"},\"colorscale\":[[0.0,\"#440154\"],[0.1111111111111111,\"#482878\"],[0.2222222222222222,\"#3e4989\"],[0.3333333333333333,\"#31688e\"],[0.4444444444444444,\"#26828e\"],[0.5555555555555556,\"#1f9e89\"],[0.6666666666666666,\"#35b779\"],[0.7777777777777778,\"#6ece58\"],[0.8888888888888888,\"#b5de2b\"],[1.0,\"#fde725\"]],\"type\":\"heatmap\"}],\"histogram2dcontour\":[{\"colorbar\":{\"outlinewidth\":1,\"tickcolor\":\"rgb(36,36,36)\",\"ticks\":\"outside\"},\"colorscale\":[[0.0,\"#440154\"],[0.1111111111111111,\"#482878\"],[0.2222222222222222,\"#3e4989\"],[0.3333333333333333,\"#31688e\"],[0.4444444444444444,\"#26828e\"],[0.5555555555555556,\"#1f9e89\"],[0.6666666666666666,\"#35b779\"],[0.7777777777777778,\"#6ece58\"],[0.8888888888888888,\"#b5de2b\"],[1.0,\"#fde725\"]],\"type\":\"histogram2dcontour\"}],\"histogram2d\":[{\"colorbar\":{\"outlinewidth\":1,\"tickcolor\":\"rgb(36,36,36)\",\"ticks\":\"outside\"},\"colorscale\":[[0.0,\"#440154\"],[0.1111111111111111,\"#482878\"],[0.2222222222222222,\"#3e4989\"],[0.3333333333333333,\"#31688e\"],[0.4444444444444444,\"#26828e\"],[0.5555555555555556,\"#1f9e89\"],[0.6666666666666666,\"#35b779\"],[0.7777777777777778,\"#6ece58\"],[0.8888888888888888,\"#b5de2b\"],[1.0,\"#fde725\"]],\"type\":\"histogram2d\"}],\"histogram\":[{\"marker\":{\"line\":{\"color\":\"white\",\"width\":0.6}},\"type\":\"histogram\"}],\"mesh3d\":[{\"colorbar\":{\"outlinewidth\":1,\"tickcolor\":\"rgb(36,36,36)\",\"ticks\":\"outside\"},\"type\":\"mesh3d\"}],\"parcoords\":[{\"line\":{\"colorbar\":{\"outlinewidth\":1,\"tickcolor\":\"rgb(36,36,36)\",\"ticks\":\"outside\"}},\"type\":\"parcoords\"}],\"pie\":[{\"automargin\":true,\"type\":\"pie\"}],\"scatter3d\":[{\"line\":{\"colorbar\":{\"outlinewidth\":1,\"tickcolor\":\"rgb(36,36,36)\",\"ticks\":\"outside\"}},\"marker\":{\"colorbar\":{\"outlinewidth\":1,\"tickcolor\":\"rgb(36,36,36)\",\"ticks\":\"outside\"}},\"type\":\"scatter3d\"}],\"scattercarpet\":[{\"marker\":{\"colorbar\":{\"outlinewidth\":1,\"tickcolor\":\"rgb(36,36,36)\",\"ticks\":\"outside\"}},\"type\":\"scattercarpet\"}],\"scattergeo\":[{\"marker\":{\"colorbar\":{\"outlinewidth\":1,\"tickcolor\":\"rgb(36,36,36)\",\"ticks\":\"outside\"}},\"type\":\"scattergeo\"}],\"scattergl\":[{\"marker\":{\"colorbar\":{\"outlinewidth\":1,\"tickcolor\":\"rgb(36,36,36)\",\"ticks\":\"outside\"}},\"type\":\"scattergl\"}],\"scattermapbox\":[{\"marker\":{\"colorbar\":{\"outlinewidth\":1,\"tickcolor\":\"rgb(36,36,36)\",\"ticks\":\"outside\"}},\"type\":\"scattermapbox\"}],\"scatterpolargl\":[{\"marker\":{\"colorbar\":{\"outlinewidth\":1,\"tickcolor\":\"rgb(36,36,36)\",\"ticks\":\"outside\"}},\"type\":\"scatterpolargl\"}],\"scatterpolar\":[{\"marker\":{\"colorbar\":{\"outlinewidth\":1,\"tickcolor\":\"rgb(36,36,36)\",\"ticks\":\"outside\"}},\"type\":\"scatterpolar\"}],\"scatter\":[{\"marker\":{\"colorbar\":{\"outlinewidth\":1,\"tickcolor\":\"rgb(36,36,36)\",\"ticks\":\"outside\"}},\"type\":\"scatter\"}],\"scatterternary\":[{\"marker\":{\"colorbar\":{\"outlinewidth\":1,\"tickcolor\":\"rgb(36,36,36)\",\"ticks\":\"outside\"}},\"type\":\"scatterternary\"}],\"surface\":[{\"colorbar\":{\"outlinewidth\":1,\"tickcolor\":\"rgb(36,36,36)\",\"ticks\":\"outside\"},\"colorscale\":[[0.0,\"#440154\"],[0.1111111111111111,\"#482878\"],[0.2222222222222222,\"#3e4989\"],[0.3333333333333333,\"#31688e\"],[0.4444444444444444,\"#26828e\"],[0.5555555555555556,\"#1f9e89\"],[0.6666666666666666,\"#35b779\"],[0.7777777777777778,\"#6ece58\"],[0.8888888888888888,\"#b5de2b\"],[1.0,\"#fde725\"]],\"type\":\"surface\"}],\"table\":[{\"cells\":{\"fill\":{\"color\":\"rgb(237,237,237)\"},\"line\":{\"color\":\"white\"}},\"header\":{\"fill\":{\"color\":\"rgb(217,217,217)\"},\"line\":{\"color\":\"white\"}},\"type\":\"table\"}]},\"layout\":{\"annotationdefaults\":{\"arrowhead\":0,\"arrowwidth\":1},\"autotypenumbers\":\"strict\",\"coloraxis\":{\"colorbar\":{\"outlinewidth\":1,\"tickcolor\":\"rgb(36,36,36)\",\"ticks\":\"outside\"}},\"colorscale\":{\"diverging\":[[0.0,\"rgb(103,0,31)\"],[0.1,\"rgb(178,24,43)\"],[0.2,\"rgb(214,96,77)\"],[0.3,\"rgb(244,165,130)\"],[0.4,\"rgb(253,219,199)\"],[0.5,\"rgb(247,247,247)\"],[0.6,\"rgb(209,229,240)\"],[0.7,\"rgb(146,197,222)\"],[0.8,\"rgb(67,147,195)\"],[0.9,\"rgb(33,102,172)\"],[1.0,\"rgb(5,48,97)\"]],\"sequential\":[[0.0,\"#440154\"],[0.1111111111111111,\"#482878\"],[0.2222222222222222,\"#3e4989\"],[0.3333333333333333,\"#31688e\"],[0.4444444444444444,\"#26828e\"],[0.5555555555555556,\"#1f9e89\"],[0.6666666666666666,\"#35b779\"],[0.7777777777777778,\"#6ece58\"],[0.8888888888888888,\"#b5de2b\"],[1.0,\"#fde725\"]],\"sequentialminus\":[[0.0,\"#440154\"],[0.1111111111111111,\"#482878\"],[0.2222222222222222,\"#3e4989\"],[0.3333333333333333,\"#31688e\"],[0.4444444444444444,\"#26828e\"],[0.5555555555555556,\"#1f9e89\"],[0.6666666666666666,\"#35b779\"],[0.7777777777777778,\"#6ece58\"],[0.8888888888888888,\"#b5de2b\"],[1.0,\"#fde725\"]]},\"colorway\":[\"#1F77B4\",\"#FF7F0E\",\"#2CA02C\",\"#D62728\",\"#9467BD\",\"#8C564B\",\"#E377C2\",\"#7F7F7F\",\"#BCBD22\",\"#17BECF\"],\"font\":{\"color\":\"rgb(36,36,36)\"},\"geo\":{\"bgcolor\":\"white\",\"lakecolor\":\"white\",\"landcolor\":\"white\",\"showlakes\":true,\"showland\":true,\"subunitcolor\":\"white\"},\"hoverlabel\":{\"align\":\"left\"},\"hovermode\":\"closest\",\"mapbox\":{\"style\":\"light\"},\"paper_bgcolor\":\"white\",\"plot_bgcolor\":\"white\",\"polar\":{\"angularaxis\":{\"gridcolor\":\"rgb(232,232,232)\",\"linecolor\":\"rgb(36,36,36)\",\"showgrid\":false,\"showline\":true,\"ticks\":\"outside\"},\"bgcolor\":\"white\",\"radialaxis\":{\"gridcolor\":\"rgb(232,232,232)\",\"linecolor\":\"rgb(36,36,36)\",\"showgrid\":false,\"showline\":true,\"ticks\":\"outside\"}},\"scene\":{\"xaxis\":{\"backgroundcolor\":\"white\",\"gridcolor\":\"rgb(232,232,232)\",\"gridwidth\":2,\"linecolor\":\"rgb(36,36,36)\",\"showbackground\":true,\"showgrid\":false,\"showline\":true,\"ticks\":\"outside\",\"zeroline\":false,\"zerolinecolor\":\"rgb(36,36,36)\"},\"yaxis\":{\"backgroundcolor\":\"white\",\"gridcolor\":\"rgb(232,232,232)\",\"gridwidth\":2,\"linecolor\":\"rgb(36,36,36)\",\"showbackground\":true,\"showgrid\":false,\"showline\":true,\"ticks\":\"outside\",\"zeroline\":false,\"zerolinecolor\":\"rgb(36,36,36)\"},\"zaxis\":{\"backgroundcolor\":\"white\",\"gridcolor\":\"rgb(232,232,232)\",\"gridwidth\":2,\"linecolor\":\"rgb(36,36,36)\",\"showbackground\":true,\"showgrid\":false,\"showline\":true,\"ticks\":\"outside\",\"zeroline\":false,\"zerolinecolor\":\"rgb(36,36,36)\"}},\"shapedefaults\":{\"fillcolor\":\"black\",\"line\":{\"width\":0},\"opacity\":0.3},\"ternary\":{\"aaxis\":{\"gridcolor\":\"rgb(232,232,232)\",\"linecolor\":\"rgb(36,36,36)\",\"showgrid\":false,\"showline\":true,\"ticks\":\"outside\"},\"baxis\":{\"gridcolor\":\"rgb(232,232,232)\",\"linecolor\":\"rgb(36,36,36)\",\"showgrid\":false,\"showline\":true,\"ticks\":\"outside\"},\"bgcolor\":\"white\",\"caxis\":{\"gridcolor\":\"rgb(232,232,232)\",\"linecolor\":\"rgb(36,36,36)\",\"showgrid\":false,\"showline\":true,\"ticks\":\"outside\"}},\"title\":{\"x\":0.05},\"xaxis\":{\"automargin\":true,\"gridcolor\":\"rgb(232,232,232)\",\"linecolor\":\"rgb(36,36,36)\",\"showgrid\":false,\"showline\":true,\"ticks\":\"outside\",\"title\":{\"standoff\":15},\"zeroline\":false,\"zerolinecolor\":\"rgb(36,36,36)\"},\"yaxis\":{\"automargin\":true,\"gridcolor\":\"rgb(232,232,232)\",\"linecolor\":\"rgb(36,36,36)\",\"showgrid\":false,\"showline\":true,\"ticks\":\"outside\",\"title\":{\"standoff\":15},\"zeroline\":false,\"zerolinecolor\":\"rgb(36,36,36)\"}}},\"xaxis\":{\"anchor\":\"y\",\"domain\":[0.0,1.0],\"title\":{\"text\":\"\"},\"visible\":false,\"range\":[-11.60714020729065,8.630372309684754]},\"yaxis\":{\"anchor\":\"x\",\"domain\":[0.0,1.0],\"title\":{\"text\":\"\"},\"visible\":false,\"range\":[-4.821988201141357,7.040782260894775]},\"legend\":{\"tracegroupgap\":0,\"itemsizing\":\"constant\"},\"margin\":{\"t\":60},\"title\":{\"font\":{\"size\":22,\"color\":\"Black\"},\"text\":\"<b>Intertopic Distance Map\",\"y\":0.95,\"x\":0.5,\"xanchor\":\"center\",\"yanchor\":\"top\"},\"hoverlabel\":{\"font\":{\"size\":16,\"family\":\"Rockwell\"},\"bgcolor\":\"white\"},\"width\":650,\"height\":650,\"sliders\":[{\"active\":0,\"pad\":{\"t\":50},\"steps\":[{\"args\":[{\"marker.color\":[[\"red\",\"#B0BEC5\",\"#B0BEC5\",\"#B0BEC5\",\"#B0BEC5\",\"#B0BEC5\",\"#B0BEC5\",\"#B0BEC5\",\"#B0BEC5\",\"#B0BEC5\",\"#B0BEC5\",\"#B0BEC5\",\"#B0BEC5\",\"#B0BEC5\",\"#B0BEC5\",\"#B0BEC5\",\"#B0BEC5\",\"#B0BEC5\"]]}],\"label\":\"Topic 0\",\"method\":\"update\"},{\"args\":[{\"marker.color\":[[\"#B0BEC5\",\"red\",\"#B0BEC5\",\"#B0BEC5\",\"#B0BEC5\",\"#B0BEC5\",\"#B0BEC5\",\"#B0BEC5\",\"#B0BEC5\",\"#B0BEC5\",\"#B0BEC5\",\"#B0BEC5\",\"#B0BEC5\",\"#B0BEC5\",\"#B0BEC5\",\"#B0BEC5\",\"#B0BEC5\",\"#B0BEC5\"]]}],\"label\":\"Topic 1\",\"method\":\"update\"},{\"args\":[{\"marker.color\":[[\"#B0BEC5\",\"#B0BEC5\",\"red\",\"#B0BEC5\",\"#B0BEC5\",\"#B0BEC5\",\"#B0BEC5\",\"#B0BEC5\",\"#B0BEC5\",\"#B0BEC5\",\"#B0BEC5\",\"#B0BEC5\",\"#B0BEC5\",\"#B0BEC5\",\"#B0BEC5\",\"#B0BEC5\",\"#B0BEC5\",\"#B0BEC5\"]]}],\"label\":\"Topic 2\",\"method\":\"update\"},{\"args\":[{\"marker.color\":[[\"#B0BEC5\",\"#B0BEC5\",\"#B0BEC5\",\"red\",\"#B0BEC5\",\"#B0BEC5\",\"#B0BEC5\",\"#B0BEC5\",\"#B0BEC5\",\"#B0BEC5\",\"#B0BEC5\",\"#B0BEC5\",\"#B0BEC5\",\"#B0BEC5\",\"#B0BEC5\",\"#B0BEC5\",\"#B0BEC5\",\"#B0BEC5\"]]}],\"label\":\"Topic 3\",\"method\":\"update\"},{\"args\":[{\"marker.color\":[[\"#B0BEC5\",\"#B0BEC5\",\"#B0BEC5\",\"#B0BEC5\",\"red\",\"#B0BEC5\",\"#B0BEC5\",\"#B0BEC5\",\"#B0BEC5\",\"#B0BEC5\",\"#B0BEC5\",\"#B0BEC5\",\"#B0BEC5\",\"#B0BEC5\",\"#B0BEC5\",\"#B0BEC5\",\"#B0BEC5\",\"#B0BEC5\"]]}],\"label\":\"Topic 4\",\"method\":\"update\"},{\"args\":[{\"marker.color\":[[\"#B0BEC5\",\"#B0BEC5\",\"#B0BEC5\",\"#B0BEC5\",\"#B0BEC5\",\"red\",\"#B0BEC5\",\"#B0BEC5\",\"#B0BEC5\",\"#B0BEC5\",\"#B0BEC5\",\"#B0BEC5\",\"#B0BEC5\",\"#B0BEC5\",\"#B0BEC5\",\"#B0BEC5\",\"#B0BEC5\",\"#B0BEC5\"]]}],\"label\":\"Topic 5\",\"method\":\"update\"},{\"args\":[{\"marker.color\":[[\"#B0BEC5\",\"#B0BEC5\",\"#B0BEC5\",\"#B0BEC5\",\"#B0BEC5\",\"#B0BEC5\",\"red\",\"#B0BEC5\",\"#B0BEC5\",\"#B0BEC5\",\"#B0BEC5\",\"#B0BEC5\",\"#B0BEC5\",\"#B0BEC5\",\"#B0BEC5\",\"#B0BEC5\",\"#B0BEC5\",\"#B0BEC5\"]]}],\"label\":\"Topic 6\",\"method\":\"update\"},{\"args\":[{\"marker.color\":[[\"#B0BEC5\",\"#B0BEC5\",\"#B0BEC5\",\"#B0BEC5\",\"#B0BEC5\",\"#B0BEC5\",\"#B0BEC5\",\"red\",\"#B0BEC5\",\"#B0BEC5\",\"#B0BEC5\",\"#B0BEC5\",\"#B0BEC5\",\"#B0BEC5\",\"#B0BEC5\",\"#B0BEC5\",\"#B0BEC5\",\"#B0BEC5\"]]}],\"label\":\"Topic 7\",\"method\":\"update\"},{\"args\":[{\"marker.color\":[[\"#B0BEC5\",\"#B0BEC5\",\"#B0BEC5\",\"#B0BEC5\",\"#B0BEC5\",\"#B0BEC5\",\"#B0BEC5\",\"#B0BEC5\",\"red\",\"#B0BEC5\",\"#B0BEC5\",\"#B0BEC5\",\"#B0BEC5\",\"#B0BEC5\",\"#B0BEC5\",\"#B0BEC5\",\"#B0BEC5\",\"#B0BEC5\"]]}],\"label\":\"Topic 8\",\"method\":\"update\"},{\"args\":[{\"marker.color\":[[\"#B0BEC5\",\"#B0BEC5\",\"#B0BEC5\",\"#B0BEC5\",\"#B0BEC5\",\"#B0BEC5\",\"#B0BEC5\",\"#B0BEC5\",\"#B0BEC5\",\"red\",\"#B0BEC5\",\"#B0BEC5\",\"#B0BEC5\",\"#B0BEC5\",\"#B0BEC5\",\"#B0BEC5\",\"#B0BEC5\",\"#B0BEC5\"]]}],\"label\":\"Topic 9\",\"method\":\"update\"},{\"args\":[{\"marker.color\":[[\"#B0BEC5\",\"#B0BEC5\",\"#B0BEC5\",\"#B0BEC5\",\"#B0BEC5\",\"#B0BEC5\",\"#B0BEC5\",\"#B0BEC5\",\"#B0BEC5\",\"#B0BEC5\",\"red\",\"#B0BEC5\",\"#B0BEC5\",\"#B0BEC5\",\"#B0BEC5\",\"#B0BEC5\",\"#B0BEC5\",\"#B0BEC5\"]]}],\"label\":\"Topic 10\",\"method\":\"update\"},{\"args\":[{\"marker.color\":[[\"#B0BEC5\",\"#B0BEC5\",\"#B0BEC5\",\"#B0BEC5\",\"#B0BEC5\",\"#B0BEC5\",\"#B0BEC5\",\"#B0BEC5\",\"#B0BEC5\",\"#B0BEC5\",\"#B0BEC5\",\"red\",\"#B0BEC5\",\"#B0BEC5\",\"#B0BEC5\",\"#B0BEC5\",\"#B0BEC5\",\"#B0BEC5\"]]}],\"label\":\"Topic 11\",\"method\":\"update\"},{\"args\":[{\"marker.color\":[[\"#B0BEC5\",\"#B0BEC5\",\"#B0BEC5\",\"#B0BEC5\",\"#B0BEC5\",\"#B0BEC5\",\"#B0BEC5\",\"#B0BEC5\",\"#B0BEC5\",\"#B0BEC5\",\"#B0BEC5\",\"#B0BEC5\",\"red\",\"#B0BEC5\",\"#B0BEC5\",\"#B0BEC5\",\"#B0BEC5\",\"#B0BEC5\"]]}],\"label\":\"Topic 12\",\"method\":\"update\"},{\"args\":[{\"marker.color\":[[\"#B0BEC5\",\"#B0BEC5\",\"#B0BEC5\",\"#B0BEC5\",\"#B0BEC5\",\"#B0BEC5\",\"#B0BEC5\",\"#B0BEC5\",\"#B0BEC5\",\"#B0BEC5\",\"#B0BEC5\",\"#B0BEC5\",\"#B0BEC5\",\"red\",\"#B0BEC5\",\"#B0BEC5\",\"#B0BEC5\",\"#B0BEC5\"]]}],\"label\":\"Topic 13\",\"method\":\"update\"},{\"args\":[{\"marker.color\":[[\"#B0BEC5\",\"#B0BEC5\",\"#B0BEC5\",\"#B0BEC5\",\"#B0BEC5\",\"#B0BEC5\",\"#B0BEC5\",\"#B0BEC5\",\"#B0BEC5\",\"#B0BEC5\",\"#B0BEC5\",\"#B0BEC5\",\"#B0BEC5\",\"#B0BEC5\",\"red\",\"#B0BEC5\",\"#B0BEC5\",\"#B0BEC5\"]]}],\"label\":\"Topic 14\",\"method\":\"update\"},{\"args\":[{\"marker.color\":[[\"#B0BEC5\",\"#B0BEC5\",\"#B0BEC5\",\"#B0BEC5\",\"#B0BEC5\",\"#B0BEC5\",\"#B0BEC5\",\"#B0BEC5\",\"#B0BEC5\",\"#B0BEC5\",\"#B0BEC5\",\"#B0BEC5\",\"#B0BEC5\",\"#B0BEC5\",\"#B0BEC5\",\"red\",\"#B0BEC5\",\"#B0BEC5\"]]}],\"label\":\"Topic 15\",\"method\":\"update\"},{\"args\":[{\"marker.color\":[[\"#B0BEC5\",\"#B0BEC5\",\"#B0BEC5\",\"#B0BEC5\",\"#B0BEC5\",\"#B0BEC5\",\"#B0BEC5\",\"#B0BEC5\",\"#B0BEC5\",\"#B0BEC5\",\"#B0BEC5\",\"#B0BEC5\",\"#B0BEC5\",\"#B0BEC5\",\"#B0BEC5\",\"#B0BEC5\",\"red\",\"#B0BEC5\"]]}],\"label\":\"Topic 16\",\"method\":\"update\"},{\"args\":[{\"marker.color\":[[\"#B0BEC5\",\"#B0BEC5\",\"#B0BEC5\",\"#B0BEC5\",\"#B0BEC5\",\"#B0BEC5\",\"#B0BEC5\",\"#B0BEC5\",\"#B0BEC5\",\"#B0BEC5\",\"#B0BEC5\",\"#B0BEC5\",\"#B0BEC5\",\"#B0BEC5\",\"#B0BEC5\",\"#B0BEC5\",\"#B0BEC5\",\"red\"]]}],\"label\":\"Topic 17\",\"method\":\"update\"}]}],\"shapes\":[{\"line\":{\"color\":\"#CFD8DC\",\"width\":2},\"type\":\"line\",\"x0\":-1.488383948802948,\"x1\":-1.488383948802948,\"y0\":-4.821988201141357,\"y1\":7.040782260894775},{\"line\":{\"color\":\"#9E9E9E\",\"width\":2},\"type\":\"line\",\"x0\":-11.60714020729065,\"x1\":8.630372309684754,\"y0\":1.109397029876709,\"y1\":1.109397029876709}],\"annotations\":[{\"showarrow\":false,\"text\":\"D1\",\"x\":-11.60714020729065,\"y\":1.109397029876709,\"yshift\":10},{\"showarrow\":false,\"text\":\"D2\",\"x\":-1.488383948802948,\"xshift\":10,\"y\":7.040782260894775}]},                        {\"responsive\": true}                    ).then(function(){\n",
              "                            \n",
              "var gd = document.getElementById('14865c55-9ef5-4e7e-ba9c-b7e6eb8d6679');\n",
              "var x = new MutationObserver(function (mutations, observer) {{\n",
              "        var display = window.getComputedStyle(gd).display;\n",
              "        if (!display || display === 'none') {{\n",
              "            console.log([gd, 'removed!']);\n",
              "            Plotly.purge(gd);\n",
              "            observer.disconnect();\n",
              "        }}\n",
              "}});\n",
              "\n",
              "// Listen for the removal of the full notebook cells\n",
              "var notebookContainer = gd.closest('#notebook-container');\n",
              "if (notebookContainer) {{\n",
              "    x.observe(notebookContainer, {childList: true});\n",
              "}}\n",
              "\n",
              "// Listen for the clearing of the current output cell\n",
              "var outputEl = gd.closest('.output');\n",
              "if (outputEl) {{\n",
              "    x.observe(outputEl, {childList: true});\n",
              "}}\n",
              "\n",
              "                        })                };                            </script>        </div>\n",
              "</body>\n",
              "</html>"
            ]
          },
          "metadata": {}
        }
      ]
    },
    {
      "cell_type": "code",
      "source": [
        "model1.visualize_barchart()"
      ],
      "metadata": {
        "colab": {
          "base_uri": "https://localhost:8080/",
          "height": 517
        },
        "id": "zlebN99HXboS",
        "outputId": "c49f725f-ded9-4de5-e2d2-481fdb76e907"
      },
      "execution_count": 32,
      "outputs": [
        {
          "output_type": "display_data",
          "data": {
            "text/html": [
              "<html>\n",
              "<head><meta charset=\"utf-8\" /></head>\n",
              "<body>\n",
              "    <div>            <script src=\"https://cdnjs.cloudflare.com/ajax/libs/mathjax/2.7.5/MathJax.js?config=TeX-AMS-MML_SVG\"></script><script type=\"text/javascript\">if (window.MathJax) {MathJax.Hub.Config({SVG: {font: \"STIX-Web\"}});}</script>                <script type=\"text/javascript\">window.PlotlyConfig = {MathJaxConfig: 'local'};</script>\n",
              "        <script src=\"https://cdn.plot.ly/plotly-2.8.3.min.js\"></script>                <div id=\"3fb3d594-f48b-463d-aae0-c38e62de85f9\" class=\"plotly-graph-div\" style=\"height:500px; width:1000px;\"></div>            <script type=\"text/javascript\">                                    window.PLOTLYENV=window.PLOTLYENV || {};                                    if (document.getElementById(\"3fb3d594-f48b-463d-aae0-c38e62de85f9\")) {                    Plotly.newPlot(                        \"3fb3d594-f48b-463d-aae0-c38e62de85f9\",                        [{\"marker\":{\"color\":\"#D55E00\"},\"orientation\":\"h\",\"x\":[0.03699971556022624,0.03929812492055332,0.04235166069397031,0.043529077129677934,0.04412348878347935],\"y\":[\"trying  \",\"flight  \",\"help  \",\"change  \",\"booking  \"],\"type\":\"bar\",\"xaxis\":\"x\",\"yaxis\":\"y\"},{\"marker\":{\"color\":\"#0072B2\"},\"orientation\":\"h\",\"x\":[0.04132500292975779,0.04504622822172181,0.0596444513473222,0.062283449193707326,0.07190870013141665],\"y\":[\"dubai  \",\"emirate  \",\"bag  \",\"baggage  \",\"luggage  \"],\"type\":\"bar\",\"xaxis\":\"x2\",\"yaxis\":\"y2\"},{\"marker\":{\"color\":\"#CC79A7\"},\"orientation\":\"h\",\"x\":[0.042376278633006866,0.06591865565134401,0.06780903307854637,0.07409620882952453,0.10867667054966115],\"y\":[\"response  \",\"email  \",\"reply  \",\"customer  \",\"complaint  \"],\"type\":\"bar\",\"xaxis\":\"x3\",\"yaxis\":\"y3\"},{\"marker\":{\"color\":\"#E69F00\"},\"orientation\":\"h\",\"x\":[0.11010923367242888,0.11116991137367126,0.11694852918641656,0.12225846064171446,0.18853268791235603],\"y\":[\"thanks  \",\"reply  \",\"thank  \",\"sent  \",\"please  \"],\"type\":\"bar\",\"xaxis\":\"x4\",\"yaxis\":\"y4\"},{\"marker\":{\"color\":\"#56B4E9\"},\"orientation\":\"h\",\"x\":[0.03392500616662776,0.03627313329538906,0.04065168400977531,0.05663522378756877,0.09472174078028411],\"y\":[\"schedule  \",\"date  \",\"time  \",\"support  \",\"emirate  \"],\"type\":\"bar\",\"xaxis\":\"x5\",\"yaxis\":\"y5\"},{\"marker\":{\"color\":\"#009E73\"},\"orientation\":\"h\",\"x\":[0.05493596164746973,0.05493596164746973,0.07515003146563815,0.08170243152304549,0.14039620268218528],\"y\":[\"cater  \",\"infant  \",\"food  \",\"nut  \",\"meal  \"],\"type\":\"bar\",\"xaxis\":\"x6\",\"yaxis\":\"y6\"},{\"marker\":{\"color\":\"#F0E442\"},\"orientation\":\"h\",\"x\":[0.0835060971928182,0.08504246803184923,0.08792398655866612,0.10317311026943209,0.1060810197529346],\"y\":[\"covid  \",\"pcr  \",\"vaccination  \",\"test  \",\"vaccinated  \"],\"type\":\"bar\",\"xaxis\":\"x7\",\"yaxis\":\"y7\"},{\"marker\":{\"color\":\"#D55E00\"},\"orientation\":\"h\",\"x\":[0.061926528738994076,0.06432882487237447,0.08065899266278567,0.0838266721547575,0.13851522503791955],\"y\":[\"cancellation  \",\"money  \",\"cancelled  \",\"rebook  \",\"refund  \"],\"type\":\"bar\",\"xaxis\":\"x8\",\"yaxis\":\"y8\"}],                        {\"template\":{\"data\":{\"barpolar\":[{\"marker\":{\"line\":{\"color\":\"white\",\"width\":0.5},\"pattern\":{\"fillmode\":\"overlay\",\"size\":10,\"solidity\":0.2}},\"type\":\"barpolar\"}],\"bar\":[{\"error_x\":{\"color\":\"#2a3f5f\"},\"error_y\":{\"color\":\"#2a3f5f\"},\"marker\":{\"line\":{\"color\":\"white\",\"width\":0.5},\"pattern\":{\"fillmode\":\"overlay\",\"size\":10,\"solidity\":0.2}},\"type\":\"bar\"}],\"carpet\":[{\"aaxis\":{\"endlinecolor\":\"#2a3f5f\",\"gridcolor\":\"#C8D4E3\",\"linecolor\":\"#C8D4E3\",\"minorgridcolor\":\"#C8D4E3\",\"startlinecolor\":\"#2a3f5f\"},\"baxis\":{\"endlinecolor\":\"#2a3f5f\",\"gridcolor\":\"#C8D4E3\",\"linecolor\":\"#C8D4E3\",\"minorgridcolor\":\"#C8D4E3\",\"startlinecolor\":\"#2a3f5f\"},\"type\":\"carpet\"}],\"choropleth\":[{\"colorbar\":{\"outlinewidth\":0,\"ticks\":\"\"},\"type\":\"choropleth\"}],\"contourcarpet\":[{\"colorbar\":{\"outlinewidth\":0,\"ticks\":\"\"},\"type\":\"contourcarpet\"}],\"contour\":[{\"colorbar\":{\"outlinewidth\":0,\"ticks\":\"\"},\"colorscale\":[[0.0,\"#0d0887\"],[0.1111111111111111,\"#46039f\"],[0.2222222222222222,\"#7201a8\"],[0.3333333333333333,\"#9c179e\"],[0.4444444444444444,\"#bd3786\"],[0.5555555555555556,\"#d8576b\"],[0.6666666666666666,\"#ed7953\"],[0.7777777777777778,\"#fb9f3a\"],[0.8888888888888888,\"#fdca26\"],[1.0,\"#f0f921\"]],\"type\":\"contour\"}],\"heatmapgl\":[{\"colorbar\":{\"outlinewidth\":0,\"ticks\":\"\"},\"colorscale\":[[0.0,\"#0d0887\"],[0.1111111111111111,\"#46039f\"],[0.2222222222222222,\"#7201a8\"],[0.3333333333333333,\"#9c179e\"],[0.4444444444444444,\"#bd3786\"],[0.5555555555555556,\"#d8576b\"],[0.6666666666666666,\"#ed7953\"],[0.7777777777777778,\"#fb9f3a\"],[0.8888888888888888,\"#fdca26\"],[1.0,\"#f0f921\"]],\"type\":\"heatmapgl\"}],\"heatmap\":[{\"colorbar\":{\"outlinewidth\":0,\"ticks\":\"\"},\"colorscale\":[[0.0,\"#0d0887\"],[0.1111111111111111,\"#46039f\"],[0.2222222222222222,\"#7201a8\"],[0.3333333333333333,\"#9c179e\"],[0.4444444444444444,\"#bd3786\"],[0.5555555555555556,\"#d8576b\"],[0.6666666666666666,\"#ed7953\"],[0.7777777777777778,\"#fb9f3a\"],[0.8888888888888888,\"#fdca26\"],[1.0,\"#f0f921\"]],\"type\":\"heatmap\"}],\"histogram2dcontour\":[{\"colorbar\":{\"outlinewidth\":0,\"ticks\":\"\"},\"colorscale\":[[0.0,\"#0d0887\"],[0.1111111111111111,\"#46039f\"],[0.2222222222222222,\"#7201a8\"],[0.3333333333333333,\"#9c179e\"],[0.4444444444444444,\"#bd3786\"],[0.5555555555555556,\"#d8576b\"],[0.6666666666666666,\"#ed7953\"],[0.7777777777777778,\"#fb9f3a\"],[0.8888888888888888,\"#fdca26\"],[1.0,\"#f0f921\"]],\"type\":\"histogram2dcontour\"}],\"histogram2d\":[{\"colorbar\":{\"outlinewidth\":0,\"ticks\":\"\"},\"colorscale\":[[0.0,\"#0d0887\"],[0.1111111111111111,\"#46039f\"],[0.2222222222222222,\"#7201a8\"],[0.3333333333333333,\"#9c179e\"],[0.4444444444444444,\"#bd3786\"],[0.5555555555555556,\"#d8576b\"],[0.6666666666666666,\"#ed7953\"],[0.7777777777777778,\"#fb9f3a\"],[0.8888888888888888,\"#fdca26\"],[1.0,\"#f0f921\"]],\"type\":\"histogram2d\"}],\"histogram\":[{\"marker\":{\"pattern\":{\"fillmode\":\"overlay\",\"size\":10,\"solidity\":0.2}},\"type\":\"histogram\"}],\"mesh3d\":[{\"colorbar\":{\"outlinewidth\":0,\"ticks\":\"\"},\"type\":\"mesh3d\"}],\"parcoords\":[{\"line\":{\"colorbar\":{\"outlinewidth\":0,\"ticks\":\"\"}},\"type\":\"parcoords\"}],\"pie\":[{\"automargin\":true,\"type\":\"pie\"}],\"scatter3d\":[{\"line\":{\"colorbar\":{\"outlinewidth\":0,\"ticks\":\"\"}},\"marker\":{\"colorbar\":{\"outlinewidth\":0,\"ticks\":\"\"}},\"type\":\"scatter3d\"}],\"scattercarpet\":[{\"marker\":{\"colorbar\":{\"outlinewidth\":0,\"ticks\":\"\"}},\"type\":\"scattercarpet\"}],\"scattergeo\":[{\"marker\":{\"colorbar\":{\"outlinewidth\":0,\"ticks\":\"\"}},\"type\":\"scattergeo\"}],\"scattergl\":[{\"marker\":{\"colorbar\":{\"outlinewidth\":0,\"ticks\":\"\"}},\"type\":\"scattergl\"}],\"scattermapbox\":[{\"marker\":{\"colorbar\":{\"outlinewidth\":0,\"ticks\":\"\"}},\"type\":\"scattermapbox\"}],\"scatterpolargl\":[{\"marker\":{\"colorbar\":{\"outlinewidth\":0,\"ticks\":\"\"}},\"type\":\"scatterpolargl\"}],\"scatterpolar\":[{\"marker\":{\"colorbar\":{\"outlinewidth\":0,\"ticks\":\"\"}},\"type\":\"scatterpolar\"}],\"scatter\":[{\"marker\":{\"colorbar\":{\"outlinewidth\":0,\"ticks\":\"\"}},\"type\":\"scatter\"}],\"scatterternary\":[{\"marker\":{\"colorbar\":{\"outlinewidth\":0,\"ticks\":\"\"}},\"type\":\"scatterternary\"}],\"surface\":[{\"colorbar\":{\"outlinewidth\":0,\"ticks\":\"\"},\"colorscale\":[[0.0,\"#0d0887\"],[0.1111111111111111,\"#46039f\"],[0.2222222222222222,\"#7201a8\"],[0.3333333333333333,\"#9c179e\"],[0.4444444444444444,\"#bd3786\"],[0.5555555555555556,\"#d8576b\"],[0.6666666666666666,\"#ed7953\"],[0.7777777777777778,\"#fb9f3a\"],[0.8888888888888888,\"#fdca26\"],[1.0,\"#f0f921\"]],\"type\":\"surface\"}],\"table\":[{\"cells\":{\"fill\":{\"color\":\"#EBF0F8\"},\"line\":{\"color\":\"white\"}},\"header\":{\"fill\":{\"color\":\"#C8D4E3\"},\"line\":{\"color\":\"white\"}},\"type\":\"table\"}]},\"layout\":{\"annotationdefaults\":{\"arrowcolor\":\"#2a3f5f\",\"arrowhead\":0,\"arrowwidth\":1},\"autotypenumbers\":\"strict\",\"coloraxis\":{\"colorbar\":{\"outlinewidth\":0,\"ticks\":\"\"}},\"colorscale\":{\"diverging\":[[0,\"#8e0152\"],[0.1,\"#c51b7d\"],[0.2,\"#de77ae\"],[0.3,\"#f1b6da\"],[0.4,\"#fde0ef\"],[0.5,\"#f7f7f7\"],[0.6,\"#e6f5d0\"],[0.7,\"#b8e186\"],[0.8,\"#7fbc41\"],[0.9,\"#4d9221\"],[1,\"#276419\"]],\"sequential\":[[0.0,\"#0d0887\"],[0.1111111111111111,\"#46039f\"],[0.2222222222222222,\"#7201a8\"],[0.3333333333333333,\"#9c179e\"],[0.4444444444444444,\"#bd3786\"],[0.5555555555555556,\"#d8576b\"],[0.6666666666666666,\"#ed7953\"],[0.7777777777777778,\"#fb9f3a\"],[0.8888888888888888,\"#fdca26\"],[1.0,\"#f0f921\"]],\"sequentialminus\":[[0.0,\"#0d0887\"],[0.1111111111111111,\"#46039f\"],[0.2222222222222222,\"#7201a8\"],[0.3333333333333333,\"#9c179e\"],[0.4444444444444444,\"#bd3786\"],[0.5555555555555556,\"#d8576b\"],[0.6666666666666666,\"#ed7953\"],[0.7777777777777778,\"#fb9f3a\"],[0.8888888888888888,\"#fdca26\"],[1.0,\"#f0f921\"]]},\"colorway\":[\"#636efa\",\"#EF553B\",\"#00cc96\",\"#ab63fa\",\"#FFA15A\",\"#19d3f3\",\"#FF6692\",\"#B6E880\",\"#FF97FF\",\"#FECB52\"],\"font\":{\"color\":\"#2a3f5f\"},\"geo\":{\"bgcolor\":\"white\",\"lakecolor\":\"white\",\"landcolor\":\"white\",\"showlakes\":true,\"showland\":true,\"subunitcolor\":\"#C8D4E3\"},\"hoverlabel\":{\"align\":\"left\"},\"hovermode\":\"closest\",\"mapbox\":{\"style\":\"light\"},\"paper_bgcolor\":\"white\",\"plot_bgcolor\":\"white\",\"polar\":{\"angularaxis\":{\"gridcolor\":\"#EBF0F8\",\"linecolor\":\"#EBF0F8\",\"ticks\":\"\"},\"bgcolor\":\"white\",\"radialaxis\":{\"gridcolor\":\"#EBF0F8\",\"linecolor\":\"#EBF0F8\",\"ticks\":\"\"}},\"scene\":{\"xaxis\":{\"backgroundcolor\":\"white\",\"gridcolor\":\"#DFE8F3\",\"gridwidth\":2,\"linecolor\":\"#EBF0F8\",\"showbackground\":true,\"ticks\":\"\",\"zerolinecolor\":\"#EBF0F8\"},\"yaxis\":{\"backgroundcolor\":\"white\",\"gridcolor\":\"#DFE8F3\",\"gridwidth\":2,\"linecolor\":\"#EBF0F8\",\"showbackground\":true,\"ticks\":\"\",\"zerolinecolor\":\"#EBF0F8\"},\"zaxis\":{\"backgroundcolor\":\"white\",\"gridcolor\":\"#DFE8F3\",\"gridwidth\":2,\"linecolor\":\"#EBF0F8\",\"showbackground\":true,\"ticks\":\"\",\"zerolinecolor\":\"#EBF0F8\"}},\"shapedefaults\":{\"line\":{\"color\":\"#2a3f5f\"}},\"ternary\":{\"aaxis\":{\"gridcolor\":\"#DFE8F3\",\"linecolor\":\"#A2B1C6\",\"ticks\":\"\"},\"baxis\":{\"gridcolor\":\"#DFE8F3\",\"linecolor\":\"#A2B1C6\",\"ticks\":\"\"},\"bgcolor\":\"white\",\"caxis\":{\"gridcolor\":\"#DFE8F3\",\"linecolor\":\"#A2B1C6\",\"ticks\":\"\"}},\"title\":{\"x\":0.05},\"xaxis\":{\"automargin\":true,\"gridcolor\":\"#EBF0F8\",\"linecolor\":\"#EBF0F8\",\"ticks\":\"\",\"title\":{\"standoff\":15},\"zerolinecolor\":\"#EBF0F8\",\"zerolinewidth\":2},\"yaxis\":{\"automargin\":true,\"gridcolor\":\"#EBF0F8\",\"linecolor\":\"#EBF0F8\",\"ticks\":\"\",\"title\":{\"standoff\":15},\"zerolinecolor\":\"#EBF0F8\",\"zerolinewidth\":2}}},\"xaxis\":{\"anchor\":\"y\",\"domain\":[0.0,0.175],\"showgrid\":true},\"yaxis\":{\"anchor\":\"x\",\"domain\":[0.6000000000000001,1.0],\"showgrid\":true},\"xaxis2\":{\"anchor\":\"y2\",\"domain\":[0.275,0.45],\"showgrid\":true},\"yaxis2\":{\"anchor\":\"x2\",\"domain\":[0.6000000000000001,1.0],\"showgrid\":true},\"xaxis3\":{\"anchor\":\"y3\",\"domain\":[0.55,0.7250000000000001],\"showgrid\":true},\"yaxis3\":{\"anchor\":\"x3\",\"domain\":[0.6000000000000001,1.0],\"showgrid\":true},\"xaxis4\":{\"anchor\":\"y4\",\"domain\":[0.825,1.0],\"showgrid\":true},\"yaxis4\":{\"anchor\":\"x4\",\"domain\":[0.6000000000000001,1.0],\"showgrid\":true},\"xaxis5\":{\"anchor\":\"y5\",\"domain\":[0.0,0.175],\"showgrid\":true},\"yaxis5\":{\"anchor\":\"x5\",\"domain\":[0.0,0.4],\"showgrid\":true},\"xaxis6\":{\"anchor\":\"y6\",\"domain\":[0.275,0.45],\"showgrid\":true},\"yaxis6\":{\"anchor\":\"x6\",\"domain\":[0.0,0.4],\"showgrid\":true},\"xaxis7\":{\"anchor\":\"y7\",\"domain\":[0.55,0.7250000000000001],\"showgrid\":true},\"yaxis7\":{\"anchor\":\"x7\",\"domain\":[0.0,0.4],\"showgrid\":true},\"xaxis8\":{\"anchor\":\"y8\",\"domain\":[0.825,1.0],\"showgrid\":true},\"yaxis8\":{\"anchor\":\"x8\",\"domain\":[0.0,0.4],\"showgrid\":true},\"annotations\":[{\"font\":{\"size\":16},\"showarrow\":false,\"text\":\"Topic 0\",\"x\":0.0875,\"xanchor\":\"center\",\"xref\":\"paper\",\"y\":1.0,\"yanchor\":\"bottom\",\"yref\":\"paper\"},{\"font\":{\"size\":16},\"showarrow\":false,\"text\":\"Topic 1\",\"x\":0.36250000000000004,\"xanchor\":\"center\",\"xref\":\"paper\",\"y\":1.0,\"yanchor\":\"bottom\",\"yref\":\"paper\"},{\"font\":{\"size\":16},\"showarrow\":false,\"text\":\"Topic 2\",\"x\":0.6375000000000001,\"xanchor\":\"center\",\"xref\":\"paper\",\"y\":1.0,\"yanchor\":\"bottom\",\"yref\":\"paper\"},{\"font\":{\"size\":16},\"showarrow\":false,\"text\":\"Topic 3\",\"x\":0.9125,\"xanchor\":\"center\",\"xref\":\"paper\",\"y\":1.0,\"yanchor\":\"bottom\",\"yref\":\"paper\"},{\"font\":{\"size\":16},\"showarrow\":false,\"text\":\"Topic 4\",\"x\":0.0875,\"xanchor\":\"center\",\"xref\":\"paper\",\"y\":0.4,\"yanchor\":\"bottom\",\"yref\":\"paper\"},{\"font\":{\"size\":16},\"showarrow\":false,\"text\":\"Topic 5\",\"x\":0.36250000000000004,\"xanchor\":\"center\",\"xref\":\"paper\",\"y\":0.4,\"yanchor\":\"bottom\",\"yref\":\"paper\"},{\"font\":{\"size\":16},\"showarrow\":false,\"text\":\"Topic 6\",\"x\":0.6375000000000001,\"xanchor\":\"center\",\"xref\":\"paper\",\"y\":0.4,\"yanchor\":\"bottom\",\"yref\":\"paper\"},{\"font\":{\"size\":16},\"showarrow\":false,\"text\":\"Topic 7\",\"x\":0.9125,\"xanchor\":\"center\",\"xref\":\"paper\",\"y\":0.4,\"yanchor\":\"bottom\",\"yref\":\"paper\"}],\"title\":{\"font\":{\"size\":22,\"color\":\"Black\"},\"text\":\"<b>Topic Word Scores\",\"x\":0.5,\"xanchor\":\"center\",\"yanchor\":\"top\"},\"hoverlabel\":{\"font\":{\"size\":16,\"family\":\"Rockwell\"},\"bgcolor\":\"white\"},\"showlegend\":false,\"width\":1000,\"height\":500},                        {\"responsive\": true}                    ).then(function(){\n",
              "                            \n",
              "var gd = document.getElementById('3fb3d594-f48b-463d-aae0-c38e62de85f9');\n",
              "var x = new MutationObserver(function (mutations, observer) {{\n",
              "        var display = window.getComputedStyle(gd).display;\n",
              "        if (!display || display === 'none') {{\n",
              "            console.log([gd, 'removed!']);\n",
              "            Plotly.purge(gd);\n",
              "            observer.disconnect();\n",
              "        }}\n",
              "}});\n",
              "\n",
              "// Listen for the removal of the full notebook cells\n",
              "var notebookContainer = gd.closest('#notebook-container');\n",
              "if (notebookContainer) {{\n",
              "    x.observe(notebookContainer, {childList: true});\n",
              "}}\n",
              "\n",
              "// Listen for the clearing of the current output cell\n",
              "var outputEl = gd.closest('.output');\n",
              "if (outputEl) {{\n",
              "    x.observe(outputEl, {childList: true});\n",
              "}}\n",
              "\n",
              "                        })                };                            </script>        </div>\n",
              "</body>\n",
              "</html>"
            ]
          },
          "metadata": {}
        }
      ]
    },
    {
      "cell_type": "code",
      "source": [
        "topics_over_time = model1.topics_over_time(tweets, timestamps)\n",
        "\n",
        "model1.visualize_topics_over_time(topics_over_time, topics=[0, 1, 2, 3, 9])"
      ],
      "metadata": {
        "colab": {
          "base_uri": "https://localhost:8080/",
          "height": 504
        },
        "id": "OwjH9Db7Tnj7",
        "outputId": "296ecbbe-a672-4785-a861-ecd74d551c9e"
      },
      "execution_count": 62,
      "outputs": [
        {
          "output_type": "stream",
          "name": "stderr",
          "text": [
            "530it [00:05, 98.39it/s] \n"
          ]
        },
        {
          "output_type": "display_data",
          "data": {
            "text/html": [
              "<html>\n",
              "<head><meta charset=\"utf-8\" /></head>\n",
              "<body>\n",
              "    <div>            <script src=\"https://cdnjs.cloudflare.com/ajax/libs/mathjax/2.7.5/MathJax.js?config=TeX-AMS-MML_SVG\"></script><script type=\"text/javascript\">if (window.MathJax) {MathJax.Hub.Config({SVG: {font: \"STIX-Web\"}});}</script>                <script type=\"text/javascript\">window.PlotlyConfig = {MathJaxConfig: 'local'};</script>\n",
              "        <script src=\"https://cdn.plot.ly/plotly-2.8.3.min.js\"></script>                <div id=\"25f3f711-b37c-48b9-95d3-ff692e9de939\" class=\"plotly-graph-div\" style=\"height:450px; width:1250px;\"></div>            <script type=\"text/javascript\">                                    window.PLOTLYENV=window.PLOTLYENV || {};                                    if (document.getElementById(\"25f3f711-b37c-48b9-95d3-ff692e9de939\")) {                    Plotly.newPlot(                        \"25f3f711-b37c-48b9-95d3-ff692e9de939\",                        [{\"hoverinfo\":\"text\",\"hovertext\":[\"<b>Topic 0</b><br>Words: quote, included, room, advise, told\",\"<b>Topic 0</b><br>Words: helpline, need, urgent, morning, way\",\"<b>Topic 0</b><br>Words: notice, responded, reservation, changed, assistance\",\"<b>Topic 0</b><br>Words: exceptionally, chauffeur, busy, line, chat\",\"<b>Topic 0</b><br>Words: sending, booking, need, help, change\",\"<b>Topic 0</b><br>Words: am, bom, use, mile, working\",\"<b>Topic 0</b><br>Words: waiting, message, seat, booking, still\",\"<b>Topic 0</b><br>Words: japan, iran, corona, become, positive\",\"<b>Topic 0</b><br>Words: somebody, urgent, asap, today, could\",\"<b>Topic 0</b><br>Words: error, entering, checking, frequent, flyer\",\"<b>Topic 0</b><br>Words: currently, available, tell, could, hello\",\"<b>Topic 0</b><br>Words: mile, without, transferring, suffered, concurring\",\"<b>Topic 0</b><br>Words: chat, hey, available, possible, online\",\"<b>Topic 0</b><br>Words: surname, passport, name, field, column\",\"<b>Topic 0</b><br>Words: screen, button, video, crashed, twitter\",\"<b>Topic 0</b><br>Words: one, appalling, situation, resolve, try\",\"<b>Topic 0</b><br>Words: hanging, contact, package, keep, line\",\"<b>Topic 0</b><br>Words: retrieve, held, booking, hour, change\",\"<b>Topic 0</b><br>Words: redeem, anyone, unable, family, mile\",\"<b>Topic 0</b><br>Words: modify, would, apps, reservation, trip\",\"<b>Topic 0</b><br>Words: upgrade, working, trying, ticket, help\",\"<b>Topic 0</b><br>Words: join, program, incorrectly, busy, telling\",\"<b>Topic 0</b><br>Words: toooo, phone, hold, answer, london\",\"<b>Topic 0</b><br>Words: skywards, getting, account, need, help\",\"<b>Topic 0</b><br>Words: andrijana, unhelpful, listening, whatsapp, helpful\",\"<b>Topic 0</b><br>Words: seat, complimentary, silver, restricted, selection\",\"<b>Topic 0</b><br>Words: attempting, running, good, offer, number\",\"<b>Topic 0</b><br>Words: soon, nothing, tried, could, booking\",\"<b>Topic 0</b><br>Words: change, fixed, idea, keep, error\",\"<b>Topic 0</b><br>Words: able, app, via, promptness, web\",\"<b>Topic 0</b><br>Words: confirmation, ref, look, advise, unable\",\"<b>Topic 0</b><br>Words: change, awake, domestic, half, whole\",\"<b>Topic 0</b><br>Words: responsive, entire, addressing, concern, reservation\",\"<b>Topic 0</b><br>Words: window, get, unable, checked, could\",\"<b>Topic 0</b><br>Words: amor, town, cape, attitude, horrible\",\"<b>Topic 0</b><br>Words: pilot, cockpit, officer, second, quick\",\"<b>Topic 0</b><br>Words: com, mhbblrek, nobody, ekbif, right\",\"<b>Topic 0</b><br>Words: chat, live, working, vfs, another\",\"<b>Topic 0</b><br>Words: thursday, asking, october, know, made\",\"<b>Topic 0</b><br>Words: error, zrh, plzz, web, continue\",\"<b>Topic 0</b><br>Words: know, leave, enter, feedback, let\",\"<b>Topic 0</b><br>Words: difficult, pretzel, swapping, book, booking\",\"<b>Topic 0</b><br>Words: suraina, brother, kinha, malik, ticket\",\"<b>Topic 0</b><br>Words: pending, covid, book, ticket, time\",\"<b>Topic 0</b><br>Words: balance, family, mile, dashboard, payment\",\"<b>Topic 0</b><br>Words: train, listen, redha, correct, said\",\"<b>Topic 0</b><br>Words: care, boomerang, contact, say, customer\",\"<b>Topic 0</b><br>Words: telephone, incentive, flyer, frequent, line\",\"<b>Topic 0</b><br>Words: appreciate, layover, would, alternatively, shorter\",\"<b>Topic 0</b><br>Words: informing, processing, inboxed, value, regarding\",\"<b>Topic 0</b><br>Words: change, difference, big, process, service\",\"<b>Topic 0</b><br>Words: seat, change, need, help, booking\",\"<b>Topic 0</b><br>Words: kindly, ready, needful, usd, fee\",\"<b>Topic 0</b><br>Words: balance, seen, logged, wanting, cash\",\"<b>Topic 0</b><br>Words: wanted, yet, booked, booking, thanks\",\"<b>Topic 0</b><br>Words: sky, newark, returned, round, athens\",\"<b>Topic 0</b><br>Words: bhavana, sarikonda, highly, confirmation, com\",\"<b>Topic 0</b><br>Words: girl, move, hospital, discus, sick\",\"<b>Topic 0</b><br>Words: incorrect, mentioned, correct, seems, provide\",\"<b>Topic 0</b><br>Words: name, shorten, error, long, make\",\"<b>Topic 0</b><br>Words: premium, economy, confirm, class, new\",\"<b>Topic 0</b><br>Words: impossible, hard, actually, let, skywards\",\"<b>Topic 0</b><br>Words: belgrade, hiring, happening, appear, canceled\",\"<b>Topic 0</b><br>Words: missing, claim, mile, help, please\",\"<b>Topic 0</b><br>Words: june, right, skyward, connecting, add\",\"<b>Topic 0</b><br>Words: surname, married, name, first, maiden\",\"<b>Topic 0</b><br>Words: shortly, coming, sydney, soon, possible\",\"<b>Topic 0</b><br>Words: gift, friend, skyward, cost, mile\",\"<b>Topic 0</b><br>Words: scheduled, chauffeur, pick, confirm, contact\",\"<b>Topic 0</b><br>Words: account, reset, setting, yikes, password\",\"<b>Topic 0</b><br>Words: le, showing, around, advance, day\",\"<b>Topic 0</b><br>Words: showi, price, around, date, booked\",\"<b>Topic 0</b><br>Words: aware, technical, buy, problem, guy\",\"<b>Topic 0</b><br>Words: cash, available, upgrade, december, become\",\"<b>Topic 0</b><br>Words: authority, bcz, suggesting, platform, selecting\",\"<b>Topic 0</b><br>Words: cost, restitution, changing, amount, two\",\"<b>Topic 0</b><br>Words: name, space, middle, first, joining\",\"<b>Topic 0</b><br>Words: seem, technical, able, book, issue\",\"<b>Topic 0</b><br>Words: mvd, promo, active, code, february\",\"<b>Topic 0</b><br>Words: assist, destination, asap, trip, call\",\"<b>Topic 0</b><br>Words: call, issued, happening, straight, ticket\",\"<b>Topic 0</b><br>Words: circle, skysurfer, round, phone, unable\",\"<b>Topic 0</b><br>Words: toll, counterpart, inquire, particular, pls\",\"<b>Topic 0</b><br>Words: difficulty, rather, currently, balance, manage\",\"<b>Topic 0</b><br>Words: fra, hamburg, fly, type, aircraft\",\"<b>Topic 0</b><br>Words: touch, suggest, booking, proper, connection\",\"<b>Topic 0</b><br>Words: le, showing, around, advance, day\",\"<b>Topic 0</b><br>Words: roaming, connected, travalled, communicate, pakistan\"],\"marker\":{\"color\":\"#E69F00\"},\"mode\":\"lines\",\"name\":\"0_booking_change_help_flight\",\"x\":[\"2022-10-06T15:39:46+00:00\",\"2022-10-06T21:45:15+00:00\",\"2022-10-07T04:34:45+00:00\",\"2022-10-07T09:06:07+00:00\",\"2022-10-07T09:49:57+00:00\",\"2022-10-07T13:24:03+00:00\",\"2022-10-07T13:29:44+00:00\",\"2022-10-08T06:13:15+00:00\",\"2022-10-08T08:58:14+00:00\",\"2022-10-08T12:59:18+00:00\",\"2022-10-08T16:50:00+00:00\",\"2022-10-08T18:03:10+00:00\",\"2022-10-08T18:08:07+00:00\",\"2022-10-09T10:50:37+00:00\",\"2022-10-09T13:43:34+00:00\",\"2022-10-10T06:37:10+00:00\",\"2022-10-10T11:37:09+00:00\",\"2022-10-10T15:46:06+00:00\",\"2022-10-10T17:16:19+00:00\",\"2022-10-10T19:03:14+00:00\",\"2022-10-10T19:11:05+00:00\",\"2022-10-11T11:06:26+00:00\",\"2022-10-11T12:20:21+00:00\",\"2022-10-11T23:10:35+00:00\",\"2022-10-12T08:49:11+00:00\",\"2022-10-12T10:56:58+00:00\",\"2022-10-12T13:30:43+00:00\",\"2022-10-12T18:29:00+00:00\",\"2022-10-13T01:10:43+00:00\",\"2022-10-13T05:18:55+00:00\",\"2022-10-13T08:31:55+00:00\",\"2022-10-13T17:16:16+00:00\",\"2022-10-13T19:25:11+00:00\",\"2022-10-13T22:40:35+00:00\",\"2022-10-13T23:17:06+00:00\",\"2022-10-14T00:05:35+00:00\",\"2022-10-14T01:05:07+00:00\",\"2022-10-14T11:36:33+00:00\",\"2022-10-14T16:50:47+00:00\",\"2022-10-15T08:31:55+00:00\",\"2022-10-15T14:09:59+00:00\",\"2022-10-16T07:53:28+00:00\",\"2022-10-16T09:59:02+00:00\",\"2022-10-16T14:18:20+00:00\",\"2022-10-18T19:51:46+00:00\",\"2022-10-19T03:53:37+00:00\",\"2022-10-19T12:35:05+00:00\",\"2022-10-19T15:56:20+00:00\",\"2022-10-19T19:44:12+00:00\",\"2022-10-20T15:52:20+00:00\",\"2022-10-20T17:00:38+00:00\",\"2022-10-20T18:49:01+00:00\",\"2022-10-21T03:35:10+00:00\",\"2022-10-21T17:07:20+00:00\",\"2022-10-21T22:37:37+00:00\",\"2022-10-22T14:45:31+00:00\",\"2022-10-22T19:49:23+00:00\",\"2022-10-23T10:52:13+00:00\",\"2022-10-24T04:20:11+00:00\",\"2022-10-24T09:10:42+00:00\",\"2022-10-24T13:17:29+00:00\",\"2022-10-24T13:46:20+00:00\",\"2022-10-24T19:03:05+00:00\",\"2022-10-25T05:50:47+00:00\",\"2022-10-25T15:16:01+00:00\",\"2022-10-25T18:53:09+00:00\",\"2022-10-25T22:15:22+00:00\",\"2022-10-26T08:41:45+00:00\",\"2022-10-27T16:18:28+00:00\",\"2022-10-27T18:28:21+00:00\",\"2022-10-27T23:06:47+00:00\",\"2022-10-27T23:31:51+00:00\",\"2022-10-28T09:49:52+00:00\",\"2022-10-29T00:21:20+00:00\",\"2022-10-29T07:56:59+00:00\",\"2022-10-29T19:48:47+00:00\",\"2022-10-30T20:10:58+00:00\",\"2022-10-31T01:12:02+00:00\",\"2022-10-31T02:44:41+00:00\",\"2022-10-31T05:16:20+00:00\",\"2022-10-31T14:45:32+00:00\",\"2022-10-31T15:04:23+00:00\",\"2022-10-31T15:56:27+00:00\",\"2022-11-02T11:10:34+00:00\",\"2022-11-02T14:23:15+00:00\",\"2022-11-02T17:23:25+00:00\",\"2022-11-02T18:08:21+00:00\",\"2022-11-03T03:35:47+00:00\"],\"y\":[1,1,1,1,1,1,1,1,1,1,1,1,1,1,1,1,1,1,1,1,1,1,1,2,1,1,1,1,1,1,1,1,1,1,1,1,1,1,1,1,1,1,1,1,1,1,1,1,1,1,1,1,1,1,1,1,1,2,1,1,1,1,1,1,1,1,1,1,1,1,1,1,1,1,1,1,1,1,1,1,1,1,1,1,1,1,1,1],\"type\":\"scatter\"},{\"hoverinfo\":\"text\",\"hovertext\":[\"<b>Topic 1</b><br>Words: say, hold, cabin, lgw, either\",\"<b>Topic 1</b><br>Words: driver, supposed, priority, pay, almost\",\"<b>Topic 1</b><br>Words: hold, amp, pram, versa, vice\",\"<b>Topic 1</b><br>Words: jfk, complain, traveled, emirate, solve\",\"<b>Topic 1</b><br>Words: malaysia, mask, thursday, rule, wear\",\"<b>Topic 1</b><br>Words: handler, bkk, unusable, replace, guess\",\"<b>Topic 1</b><br>Words: student, extra, offer, baggage, merge\",\"<b>Topic 1</b><br>Words: personalise, finally, day, wait, broken\",\"<b>Topic 1</b><br>Words: missing, kabul, funny, located, story\",\"<b>Topic 1</b><br>Words: ireland, wondering, chennai, per, extra\",\"<b>Topic 1</b><br>Words: option, send, webpage, went, replying\",\"<b>Topic 1</b><br>Words: ireland, wondering, chennai, per, extra\",\"<b>Topic 1</b><br>Words: jakarta, heathrow, bring, onboard, checked\",\"<b>Topic 1</b><br>Words: pir, missing, number, luggage, help\",\"<b>Topic 1</b><br>Words: stopover, mask, wear, looked, face\",\"<b>Topic 1</b><br>Words: premium, kind, update, lost, called\",\"<b>Topic 1</b><br>Words: unfit, badly, report, recent, damaged\",\"<b>Topic 1</b><br>Words: important, update, belt, help, lost\",\"<b>Topic 1</b><br>Words: bag, travelling, italy, economic, cousin\",\"<b>Topic 1</b><br>Words: lighter, beg, fuel, suppose, liquid\",\"<b>Topic 1</b><br>Words: suitable, allergy, son, nut, looking\",\"<b>Topic 1</b><br>Words: orlando, find, jfk, allocation, kuala\",\"<b>Topic 1</b><br>Words: bali, arrive, asap, luggage, contact\",\"<b>Topic 1</b><br>Words: landing, four, disrupted, amsterdam, definite\",\"<b>Topic 1</b><br>Words: baklava, syrup, tia, honey, bring\",\"<b>Topic 1</b><br>Words: emirate, flew, belt, receive, pnr\",\"<b>Topic 1</b><br>Words: bearing, bought, travelled, compensate, along\",\"<b>Topic 1</b><br>Words: relief, insensitive, survival, interim, condition\",\"<b>Topic 1</b><br>Words: bag, baggage, mco, accessory, delivered\",\"<b>Topic 1</b><br>Words: ahead, gold, tia, fee, card\",\"<b>Topic 1</b><br>Words: abv, tag, file, jetblue, report\",\"<b>Topic 1</b><br>Words: supplement, creatine, joint, gym, supply\",\"<b>Topic 1</b><br>Words: ripped, happy, help, luggage, baggage\",\"<b>Topic 1</b><br>Words: since, commit, mishandled, pir, following\",\"<b>Topic 1</b><br>Words: sat, review, understatement, lhr, heading\",\"<b>Topic 1</b><br>Words: jfk, got, elder, diego, san\",\"<b>Topic 1</b><br>Words: luggage, located, monday, thing, arrived\",\"<b>Topic 1</b><br>Words: beyond, item, effort, absolutely, frustrating\",\"<b>Topic 1</b><br>Words: item, frustrating, extremely, missing, flying\",\"<b>Topic 1</b><br>Words: inform, whereabouts, luggage, someone, baggage\",\"<b>Topic 1</b><br>Words: restriction, cardboard, carrying, box, checked\",\"<b>Topic 1</b><br>Words: usa, india, purse, one, allowed\",\"<b>Topic 1</b><br>Words: aviv, tel, bag, safari, according\",\"<b>Topic 1</b><br>Words: bag, country, airindia, understanding, feeling\",\"<b>Topic 1</b><br>Words: euro, stolen, filed, valuable, madrid\",\"<b>Topic 1</b><br>Words: madrid, valuable, checked, took, bag\",\"<b>Topic 1</b><br>Words: feeling, helpless, missed, bag, dubai\",\"<b>Topic 1</b><br>Words: airtags, apple, allowed, checked, luggage\",\"<b>Topic 1</b><br>Words: close, unprofessional, update, disappointing, matter\",\"<b>Topic 1</b><br>Words: airmiles, added, honeymoon, refused, offered\",\"<b>Topic 1</b><br>Words: allowance, let, child, flying, know\",\"<b>Topic 1</b><br>Words: baggage, clueless, note, important, trace\",\"<b>Topic 1</b><br>Words: responds, dead, calling, belt, find\",\"<b>Topic 1</b><br>Words: checked, luggage, bottle, juice, liter\",\"<b>Topic 1</b><br>Words: travel, wid, regrdlss, awaiting, aug\",\"<b>Topic 1</b><br>Words: loose, overhead, decline, athens, screw\",\"<b>Topic 1</b><br>Words: frust, mum, emirtes, manchstr, aug\",\"<b>Topic 1</b><br>Words: baggage, number, confused, badly, damage\",\"<b>Topic 1</b><br>Words: internationally, travelled, flown, catch, brand\",\"<b>Topic 1</b><br>Words: suitcase, reimbursement, usable, damage, brand\",\"<b>Topic 1</b><br>Words: shared, executive, image, handled, behaviour\",\"<b>Topic 1</b><br>Words: listed, specifically, wooden, bamboo, knitting\",\"<b>Topic 1</b><br>Words: maldives, least, satisfaction, poor, missing\",\"<b>Topic 1</b><br>Words: satisfaction, full, almost, missing, cancelled\",\"<b>Topic 1</b><br>Words: knitting, australia, forward, shame, looking\",\"<b>Topic 1</b><br>Words: bag, sling, addition, purse, economy\",\"<b>Topic 1</b><br>Words: plant, either, live, checked, carry\",\"<b>Topic 1</b><br>Words: apple, airtags, checked, morning, due\",\"<b>Topic 1</b><br>Words: carry, hang, true, wedding, huge\",\"<b>Topic 1</b><br>Words: period, day, air, wait, yes\",\"<b>Topic 1</b><br>Words: reported, assist, heathrow, regard, update\",\"<b>Topic 1</b><br>Words: germany, knitting, australia, allow, needle\"],\"marker\":{\"color\":\"#56B4E9\"},\"mode\":\"lines\",\"name\":\"1_luggage_baggage_bag_emirate\",\"x\":[\"2022-10-06T09:48:29+00:00\",\"2022-10-07T20:51:04+00:00\",\"2022-10-08T14:28:02+00:00\",\"2022-10-09T23:48:56+00:00\",\"2022-10-10T11:25:30+00:00\",\"2022-10-10T14:04:55+00:00\",\"2022-10-10T22:19:46+00:00\",\"2022-10-11T06:27:45+00:00\",\"2022-10-11T08:40:56+00:00\",\"2022-10-11T12:08:31+00:00\",\"2022-10-12T01:15:09+00:00\",\"2022-10-12T16:18:36+00:00\",\"2022-10-12T16:20:08+00:00\",\"2022-10-12T16:46:55+00:00\",\"2022-10-12T17:52:03+00:00\",\"2022-10-13T11:22:26+00:00\",\"2022-10-13T11:47:23+00:00\",\"2022-10-14T08:55:20+00:00\",\"2022-10-15T10:49:49+00:00\",\"2022-10-15T18:15:43+00:00\",\"2022-10-15T23:44:29+00:00\",\"2022-10-16T14:49:08+00:00\",\"2022-10-17T01:22:02+00:00\",\"2022-10-17T06:54:52+00:00\",\"2022-10-17T07:54:55+00:00\",\"2022-10-17T11:45:00+00:00\",\"2022-10-17T16:22:33+00:00\",\"2022-10-17T16:24:38+00:00\",\"2022-10-17T17:00:20+00:00\",\"2022-10-17T21:11:08+00:00\",\"2022-10-18T02:32:06+00:00\",\"2022-10-18T07:24:19+00:00\",\"2022-10-18T09:43:31+00:00\",\"2022-10-18T11:02:58+00:00\",\"2022-10-19T20:02:10+00:00\",\"2022-10-19T23:47:20+00:00\",\"2022-10-21T07:22:10+00:00\",\"2022-10-21T08:41:55+00:00\",\"2022-10-21T08:43:23+00:00\",\"2022-10-21T10:45:13+00:00\",\"2022-10-21T23:07:18+00:00\",\"2022-10-22T02:50:12+00:00\",\"2022-10-25T06:26:22+00:00\",\"2022-10-25T08:28:55+00:00\",\"2022-10-25T19:00:31+00:00\",\"2022-10-25T19:01:45+00:00\",\"2022-10-26T05:06:47+00:00\",\"2022-10-26T06:12:12+00:00\",\"2022-10-26T09:53:39+00:00\",\"2022-10-26T12:41:43+00:00\",\"2022-10-27T20:30:10+00:00\",\"2022-10-28T09:39:55+00:00\",\"2022-10-28T10:15:45+00:00\",\"2022-10-28T15:13:23+00:00\",\"2022-10-28T17:06:07+00:00\",\"2022-10-28T18:27:43+00:00\",\"2022-10-29T04:54:43+00:00\",\"2022-10-30T19:47:21+00:00\",\"2022-10-30T22:02:45+00:00\",\"2022-10-31T00:43:05+00:00\",\"2022-10-31T01:29:10+00:00\",\"2022-10-31T09:15:04+00:00\",\"2022-10-31T15:13:36+00:00\",\"2022-10-31T15:23:07+00:00\",\"2022-10-31T18:14:04+00:00\",\"2022-10-31T19:54:34+00:00\",\"2022-11-01T06:03:22+00:00\",\"2022-11-01T10:20:48+00:00\",\"2022-11-02T03:09:03+00:00\",\"2022-11-02T19:43:57+00:00\",\"2022-11-03T02:22:22+00:00\",\"2022-11-03T07:06:17+00:00\"],\"y\":[1,1,1,1,1,1,1,1,1,1,1,1,1,1,1,1,1,1,2,1,1,1,1,1,1,1,1,1,1,1,1,1,1,1,1,1,1,1,1,1,1,1,1,1,1,1,1,1,1,1,1,1,1,1,1,1,1,1,1,1,1,1,1,1,1,1,1,1,1,1,1,1],\"type\":\"scatter\"},{\"hoverinfo\":\"text\",\"hovertext\":[\"<b>Topic 2</b><br>Words: automated, message, reply, complaint, customer\",\"<b>Topic 2</b><br>Words: shit, cartoonist, abysmal, site, valid\",\"<b>Topic 2</b><br>Words: comment, sure, forward, could, team\",\"<b>Topic 2</b><br>Words: complaint, objection, inane, easier, would\",\"<b>Topic 2</b><br>Words: msg, responding, company, one, complaint\",\"<b>Topic 2</b><br>Words: acknowledge, great, filled, quick, appreciate\",\"<b>Topic 2</b><br>Words: formal, revert, send, already, waiting\",\"<b>Topic 2</b><br>Words: upsetting, politely, put, hey, really\",\"<b>Topic 2</b><br>Words: arm, rocketmiles, reminder, acknowledgment, submitted\",\"<b>Topic 2</b><br>Words: invalid, character, form, complaint, comma\",\"<b>Topic 2</b><br>Words: follow, expectation, ended, sticker, official\",\"<b>Topic 2</b><br>Words: chance, start, submitted, october, respond\",\"<b>Topic 2</b><br>Words: successful, couple, emailed, complaint, reply\",\"<b>Topic 2</b><br>Words: rough, hint, team, thousand, handling\",\"<b>Topic 2</b><br>Words: uploaded, two, ago, complaint, reply\",\"<b>Topic 2</b><br>Words: formal, revert, send, already, waiting\",\"<b>Topic 2</b><br>Words: pushed, empathy, lack, tweet, done\",\"<b>Topic 2</b><br>Words: reply, reported, automated, expect, brand\",\"<b>Topic 2</b><br>Words: take, apologize, thought, hahahaha, towards\",\"<b>Topic 2</b><br>Words: feedback, via, fine, resend, shared\",\"<b>Topic 2</b><br>Words: aim, assurance, reached, ridicule, forget\",\"<b>Topic 2</b><br>Words: relation, delete, waste, past, anything\",\"<b>Topic 2</b><br>Words: tedious, form, complaint, thank, customer\",\"<b>Topic 2</b><br>Words: page, register, feedback, emailed, complain\",\"<b>Topic 2</b><br>Words: raised, complaint, cabin, stated, escalated\",\"<b>Topic 2</b><br>Words: retort, except, receipt, social, acknowledgment\",\"<b>Topic 2</b><br>Words: level, higher, giving, acceptable, else\",\"<b>Topic 2</b><br>Words: noted, channel, automated, far, yes\",\"<b>Topic 2</b><br>Words: enirates, apology, disgrace, closed, news\",\"<b>Topic 2</b><br>Words: address, make, complaint, email, customer\",\"<b>Topic 2</b><br>Words: complained, explaining, mechanical, human, logic\",\"<b>Topic 2</b><br>Words: avoiding, public, solve, tweet, private\",\"<b>Topic 2</b><br>Words: monitoring, several, customer, unacceptable, min\",\"<b>Topic 2</b><br>Words: solution, offer, message, reply, complaint\",\"<b>Topic 2</b><br>Words: acting, stop, idiot, everyone, solution\",\"<b>Topic 2</b><br>Words: emailed, detail, response, complaint, customer\",\"<b>Topic 2</b><br>Words: frustrating, received, response, complaint, customer\",\"<b>Topic 2</b><br>Words: suggested, tier, email, three, colleague\",\"<b>Topic 2</b><br>Words: complaint, wonder, email, auto, day\",\"<b>Topic 2</b><br>Words: legal, otherwise, revert, immediately, action\"],\"marker\":{\"color\":\"#009E73\"},\"mode\":\"lines\",\"name\":\"2_complaint_customer_reply_email\",\"x\":[\"2022-10-06T14:46:09+00:00\",\"2022-10-06T18:24:47+00:00\",\"2022-10-07T02:47:19+00:00\",\"2022-10-07T08:29:08+00:00\",\"2022-10-07T09:11:01+00:00\",\"2022-10-08T09:30:47+00:00\",\"2022-10-08T17:07:40+00:00\",\"2022-10-08T17:23:35+00:00\",\"2022-10-09T11:42:31+00:00\",\"2022-10-10T06:31:31+00:00\",\"2022-10-11T08:35:31+00:00\",\"2022-10-11T09:56:20+00:00\",\"2022-10-11T16:29:25+00:00\",\"2022-10-12T06:07:29+00:00\",\"2022-10-12T08:48:27+00:00\",\"2022-10-12T11:14:33+00:00\",\"2022-10-14T14:31:40+00:00\",\"2022-10-14T16:08:22+00:00\",\"2022-10-14T17:32:31+00:00\",\"2022-10-15T11:29:55+00:00\",\"2022-10-16T07:49:11+00:00\",\"2022-10-16T17:28:19+00:00\",\"2022-10-17T07:10:38+00:00\",\"2022-10-17T17:01:06+00:00\",\"2022-10-18T08:12:56+00:00\",\"2022-10-19T11:39:17+00:00\",\"2022-10-19T16:34:26+00:00\",\"2022-10-21T05:59:24+00:00\",\"2022-10-22T12:59:23+00:00\",\"2022-10-23T07:38:10+00:00\",\"2022-10-25T05:48:29+00:00\",\"2022-10-25T07:20:36+00:00\",\"2022-10-25T08:12:07+00:00\",\"2022-10-25T08:32:03+00:00\",\"2022-10-25T10:13:16+00:00\",\"2022-10-28T12:48:47+00:00\",\"2022-10-29T23:19:00+00:00\",\"2022-10-30T18:53:43+00:00\",\"2022-11-01T18:49:32+00:00\",\"2022-11-02T18:24:39+00:00\"],\"y\":[1,1,1,1,1,1,1,1,1,1,1,1,1,1,1,1,1,1,1,1,1,1,1,1,1,1,1,1,1,2,1,1,1,1,1,1,1,1,1,1],\"type\":\"scatter\"},{\"hoverinfo\":\"text\",\"hovertext\":[\"<b>Topic 3</b><br>Words: replied, message, check, please, sent\",\"<b>Topic 3</b><br>Words: regard, seems, reply, one, please\",\"<b>Topic 3</b><br>Words: generic, nearly, respond, sent, got\",\"<b>Topic 3</b><br>Words: unfair, bit, think, got, reply\",\"<b>Topic 3</b><br>Words: hey, asap, someone, back, please\",\"<b>Topic 3</b><br>Words: ask, question, could, someone, please\",\"<b>Topic 3</b><br>Words: answer, someone, please, sent, thank\",\"<b>Topic 3</b><br>Words: back, get, please, urgent, asap\",\"<b>Topic 3</b><br>Words: urgent, answer, please, sent, thank\",\"<b>Topic 3</b><br>Words: look, detail, please, sent, thank\",\"<b>Topic 3</b><br>Words: pointless, another, reply, please, sent\",\"<b>Topic 3</b><br>Words: information, quick, required, sent, thank\",\"<b>Topic 3</b><br>Words: dm, check, please, sent, thank\",\"<b>Topic 3</b><br>Words: exactly, mentioned, asked, please, sent\",\"<b>Topic 3</b><br>Words: speedy, hoping, sure, done, response\",\"<b>Topic 3</b><br>Words: respond, hello, please, sent, thank\",\"<b>Topic 3</b><br>Words: anyone, answer, thank, please, sent\",\"<b>Topic 3</b><br>Words: earliest, hoping, news, dear, way\",\"<b>Topic 3</b><br>Words: message, sent, thank, please, reply\",\"<b>Topic 3</b><br>Words: much, message, sent, thank, please\",\"<b>Topic 3</b><br>Words: needful, done, thanks, please, sent\",\"<b>Topic 3</b><br>Words: asap, respond, please, sent, thank\",\"<b>Topic 3</b><br>Words: okay, quick, appreciate, thank, response\",\"<b>Topic 3</b><br>Words: copy, check, please, sent, thank\",\"<b>Topic 3</b><br>Words: relpy, kindly, message, thank, check\",\"<b>Topic 3</b><br>Words: though, question, thanks, please, sent\",\"<b>Topic 3</b><br>Words: inbox, kindly, thanks, check, please\",\"<b>Topic 3</b><br>Words: inbox, query, could, check, please\",\"<b>Topic 3</b><br>Words: could, sent, reply, thanks, detail\",\"<b>Topic 3</b><br>Words: prompt, sent, thanks, response, please\",\"<b>Topic 3</b><br>Words: option, see, sent, please, thank\",\"<b>Topic 3</b><br>Words: anyone, available, please, help, sent\",\"<b>Topic 3</b><br>Words: replied, yet, response, please, sent\",\"<b>Topic 3</b><br>Words: real, reply, please, sent, thank\",\"<b>Topic 3</b><br>Words: hear, forward, looking, reply, thanks\",\"<b>Topic 3</b><br>Words: inbox, check, please, sent, thank\",\"<b>Topic 3</b><br>Words: kindly, thank, check, please, sent\"],\"marker\":{\"color\":\"#F0E442\"},\"mode\":\"lines\",\"name\":\"3_please_sent_thank_reply\",\"x\":[\"2022-10-06T02:34:23+00:00\",\"2022-10-06T04:37:50+00:00\",\"2022-10-06T15:12:38+00:00\",\"2022-10-07T10:32:11+00:00\",\"2022-10-08T09:28:42+00:00\",\"2022-10-08T17:05:47+00:00\",\"2022-10-08T17:13:13+00:00\",\"2022-10-08T17:36:49+00:00\",\"2022-10-08T17:38:09+00:00\",\"2022-10-10T16:43:36+00:00\",\"2022-10-10T17:49:46+00:00\",\"2022-10-12T11:17:35+00:00\",\"2022-10-13T08:45:33+00:00\",\"2022-10-14T04:07:52+00:00\",\"2022-10-18T14:39:27+00:00\",\"2022-10-18T17:55:34+00:00\",\"2022-10-20T11:56:17+00:00\",\"2022-10-22T09:51:06+00:00\",\"2022-10-23T11:03:12+00:00\",\"2022-10-23T18:14:47+00:00\",\"2022-10-24T17:40:42+00:00\",\"2022-10-25T05:35:21+00:00\",\"2022-10-25T13:26:08+00:00\",\"2022-10-25T21:16:41+00:00\",\"2022-10-27T13:52:30+00:00\",\"2022-10-28T01:51:43+00:00\",\"2022-10-28T07:16:52+00:00\",\"2022-10-28T11:10:39+00:00\",\"2022-10-28T20:23:35+00:00\",\"2022-10-29T02:45:03+00:00\",\"2022-10-29T03:10:08+00:00\",\"2022-10-30T05:42:02+00:00\",\"2022-10-30T05:53:53+00:00\",\"2022-10-31T18:19:56+00:00\",\"2022-11-01T17:30:01+00:00\",\"2022-11-01T19:03:26+00:00\",\"2022-11-02T08:26:53+00:00\"],\"y\":[1,1,1,1,1,1,1,1,1,1,1,1,1,1,1,1,1,1,2,1,1,1,1,1,1,1,1,1,1,1,1,1,1,1,1,1,1],\"type\":\"scatter\"},{\"hoverinfo\":\"text\",\"hovertext\":[\"<b>Topic 9</b><br>Words: collect, backpack, rome, told, courier\",\"<b>Topic 9</b><br>Words: corrupt, ill, causing, tho, relative\",\"<b>Topic 9</b><br>Words: serious, wonderful, shrouded, bothered, section\",\"<b>Topic 9</b><br>Words: kid, duba, handle, behavior, unaccompanied\",\"<b>Topic 9</b><br>Words: came, centre, deeply, deserve, amir\",\"<b>Topic 9</b><br>Words: came, centre, deeply, deserve, amir\",\"<b>Topic 9</b><br>Words: premier, embarrassment, shun, face, inconvenience\",\"<b>Topic 9</b><br>Words: staff, denying, role, cosof, demand\",\"<b>Topic 9</b><br>Words: shaking, refusing, speaking, law, language\",\"<b>Topic 9</b><br>Words: blaming, fault, vice, versa, mistake\",\"<b>Topic 9</b><br>Words: advice, welcome, voucher, manilla, omelette\"],\"marker\":{\"color\":\"#D55E00\"},\"mode\":\"lines\",\"name\":\"9_staff_delhi_airline_made\",\"x\":[\"2022-10-06T13:53:49+00:00\",\"2022-10-21T09:41:57+00:00\",\"2022-10-21T10:23:43+00:00\",\"2022-10-22T05:14:22+00:00\",\"2022-10-22T21:11:40+00:00\",\"2022-10-22T21:43:57+00:00\",\"2022-10-23T03:16:40+00:00\",\"2022-10-23T03:21:27+00:00\",\"2022-10-23T06:57:31+00:00\",\"2022-10-23T09:31:48+00:00\",\"2022-10-30T08:25:57+00:00\"],\"y\":[1,1,1,1,1,1,2,2,2,2,1],\"type\":\"scatter\"}],                        {\"template\":{\"data\":{\"barpolar\":[{\"marker\":{\"line\":{\"color\":\"white\",\"width\":0.5},\"pattern\":{\"fillmode\":\"overlay\",\"size\":10,\"solidity\":0.2}},\"type\":\"barpolar\"}],\"bar\":[{\"error_x\":{\"color\":\"rgb(36,36,36)\"},\"error_y\":{\"color\":\"rgb(36,36,36)\"},\"marker\":{\"line\":{\"color\":\"white\",\"width\":0.5},\"pattern\":{\"fillmode\":\"overlay\",\"size\":10,\"solidity\":0.2}},\"type\":\"bar\"}],\"carpet\":[{\"aaxis\":{\"endlinecolor\":\"rgb(36,36,36)\",\"gridcolor\":\"white\",\"linecolor\":\"white\",\"minorgridcolor\":\"white\",\"startlinecolor\":\"rgb(36,36,36)\"},\"baxis\":{\"endlinecolor\":\"rgb(36,36,36)\",\"gridcolor\":\"white\",\"linecolor\":\"white\",\"minorgridcolor\":\"white\",\"startlinecolor\":\"rgb(36,36,36)\"},\"type\":\"carpet\"}],\"choropleth\":[{\"colorbar\":{\"outlinewidth\":1,\"tickcolor\":\"rgb(36,36,36)\",\"ticks\":\"outside\"},\"type\":\"choropleth\"}],\"contourcarpet\":[{\"colorbar\":{\"outlinewidth\":1,\"tickcolor\":\"rgb(36,36,36)\",\"ticks\":\"outside\"},\"type\":\"contourcarpet\"}],\"contour\":[{\"colorbar\":{\"outlinewidth\":1,\"tickcolor\":\"rgb(36,36,36)\",\"ticks\":\"outside\"},\"colorscale\":[[0.0,\"#440154\"],[0.1111111111111111,\"#482878\"],[0.2222222222222222,\"#3e4989\"],[0.3333333333333333,\"#31688e\"],[0.4444444444444444,\"#26828e\"],[0.5555555555555556,\"#1f9e89\"],[0.6666666666666666,\"#35b779\"],[0.7777777777777778,\"#6ece58\"],[0.8888888888888888,\"#b5de2b\"],[1.0,\"#fde725\"]],\"type\":\"contour\"}],\"heatmapgl\":[{\"colorbar\":{\"outlinewidth\":1,\"tickcolor\":\"rgb(36,36,36)\",\"ticks\":\"outside\"},\"colorscale\":[[0.0,\"#440154\"],[0.1111111111111111,\"#482878\"],[0.2222222222222222,\"#3e4989\"],[0.3333333333333333,\"#31688e\"],[0.4444444444444444,\"#26828e\"],[0.5555555555555556,\"#1f9e89\"],[0.6666666666666666,\"#35b779\"],[0.7777777777777778,\"#6ece58\"],[0.8888888888888888,\"#b5de2b\"],[1.0,\"#fde725\"]],\"type\":\"heatmapgl\"}],\"heatmap\":[{\"colorbar\":{\"outlinewidth\":1,\"tickcolor\":\"rgb(36,36,36)\",\"ticks\":\"outside\"},\"colorscale\":[[0.0,\"#440154\"],[0.1111111111111111,\"#482878\"],[0.2222222222222222,\"#3e4989\"],[0.3333333333333333,\"#31688e\"],[0.4444444444444444,\"#26828e\"],[0.5555555555555556,\"#1f9e89\"],[0.6666666666666666,\"#35b779\"],[0.7777777777777778,\"#6ece58\"],[0.8888888888888888,\"#b5de2b\"],[1.0,\"#fde725\"]],\"type\":\"heatmap\"}],\"histogram2dcontour\":[{\"colorbar\":{\"outlinewidth\":1,\"tickcolor\":\"rgb(36,36,36)\",\"ticks\":\"outside\"},\"colorscale\":[[0.0,\"#440154\"],[0.1111111111111111,\"#482878\"],[0.2222222222222222,\"#3e4989\"],[0.3333333333333333,\"#31688e\"],[0.4444444444444444,\"#26828e\"],[0.5555555555555556,\"#1f9e89\"],[0.6666666666666666,\"#35b779\"],[0.7777777777777778,\"#6ece58\"],[0.8888888888888888,\"#b5de2b\"],[1.0,\"#fde725\"]],\"type\":\"histogram2dcontour\"}],\"histogram2d\":[{\"colorbar\":{\"outlinewidth\":1,\"tickcolor\":\"rgb(36,36,36)\",\"ticks\":\"outside\"},\"colorscale\":[[0.0,\"#440154\"],[0.1111111111111111,\"#482878\"],[0.2222222222222222,\"#3e4989\"],[0.3333333333333333,\"#31688e\"],[0.4444444444444444,\"#26828e\"],[0.5555555555555556,\"#1f9e89\"],[0.6666666666666666,\"#35b779\"],[0.7777777777777778,\"#6ece58\"],[0.8888888888888888,\"#b5de2b\"],[1.0,\"#fde725\"]],\"type\":\"histogram2d\"}],\"histogram\":[{\"marker\":{\"line\":{\"color\":\"white\",\"width\":0.6}},\"type\":\"histogram\"}],\"mesh3d\":[{\"colorbar\":{\"outlinewidth\":1,\"tickcolor\":\"rgb(36,36,36)\",\"ticks\":\"outside\"},\"type\":\"mesh3d\"}],\"parcoords\":[{\"line\":{\"colorbar\":{\"outlinewidth\":1,\"tickcolor\":\"rgb(36,36,36)\",\"ticks\":\"outside\"}},\"type\":\"parcoords\"}],\"pie\":[{\"automargin\":true,\"type\":\"pie\"}],\"scatter3d\":[{\"line\":{\"colorbar\":{\"outlinewidth\":1,\"tickcolor\":\"rgb(36,36,36)\",\"ticks\":\"outside\"}},\"marker\":{\"colorbar\":{\"outlinewidth\":1,\"tickcolor\":\"rgb(36,36,36)\",\"ticks\":\"outside\"}},\"type\":\"scatter3d\"}],\"scattercarpet\":[{\"marker\":{\"colorbar\":{\"outlinewidth\":1,\"tickcolor\":\"rgb(36,36,36)\",\"ticks\":\"outside\"}},\"type\":\"scattercarpet\"}],\"scattergeo\":[{\"marker\":{\"colorbar\":{\"outlinewidth\":1,\"tickcolor\":\"rgb(36,36,36)\",\"ticks\":\"outside\"}},\"type\":\"scattergeo\"}],\"scattergl\":[{\"marker\":{\"colorbar\":{\"outlinewidth\":1,\"tickcolor\":\"rgb(36,36,36)\",\"ticks\":\"outside\"}},\"type\":\"scattergl\"}],\"scattermapbox\":[{\"marker\":{\"colorbar\":{\"outlinewidth\":1,\"tickcolor\":\"rgb(36,36,36)\",\"ticks\":\"outside\"}},\"type\":\"scattermapbox\"}],\"scatterpolargl\":[{\"marker\":{\"colorbar\":{\"outlinewidth\":1,\"tickcolor\":\"rgb(36,36,36)\",\"ticks\":\"outside\"}},\"type\":\"scatterpolargl\"}],\"scatterpolar\":[{\"marker\":{\"colorbar\":{\"outlinewidth\":1,\"tickcolor\":\"rgb(36,36,36)\",\"ticks\":\"outside\"}},\"type\":\"scatterpolar\"}],\"scatter\":[{\"marker\":{\"colorbar\":{\"outlinewidth\":1,\"tickcolor\":\"rgb(36,36,36)\",\"ticks\":\"outside\"}},\"type\":\"scatter\"}],\"scatterternary\":[{\"marker\":{\"colorbar\":{\"outlinewidth\":1,\"tickcolor\":\"rgb(36,36,36)\",\"ticks\":\"outside\"}},\"type\":\"scatterternary\"}],\"surface\":[{\"colorbar\":{\"outlinewidth\":1,\"tickcolor\":\"rgb(36,36,36)\",\"ticks\":\"outside\"},\"colorscale\":[[0.0,\"#440154\"],[0.1111111111111111,\"#482878\"],[0.2222222222222222,\"#3e4989\"],[0.3333333333333333,\"#31688e\"],[0.4444444444444444,\"#26828e\"],[0.5555555555555556,\"#1f9e89\"],[0.6666666666666666,\"#35b779\"],[0.7777777777777778,\"#6ece58\"],[0.8888888888888888,\"#b5de2b\"],[1.0,\"#fde725\"]],\"type\":\"surface\"}],\"table\":[{\"cells\":{\"fill\":{\"color\":\"rgb(237,237,237)\"},\"line\":{\"color\":\"white\"}},\"header\":{\"fill\":{\"color\":\"rgb(217,217,217)\"},\"line\":{\"color\":\"white\"}},\"type\":\"table\"}]},\"layout\":{\"annotationdefaults\":{\"arrowhead\":0,\"arrowwidth\":1},\"autotypenumbers\":\"strict\",\"coloraxis\":{\"colorbar\":{\"outlinewidth\":1,\"tickcolor\":\"rgb(36,36,36)\",\"ticks\":\"outside\"}},\"colorscale\":{\"diverging\":[[0.0,\"rgb(103,0,31)\"],[0.1,\"rgb(178,24,43)\"],[0.2,\"rgb(214,96,77)\"],[0.3,\"rgb(244,165,130)\"],[0.4,\"rgb(253,219,199)\"],[0.5,\"rgb(247,247,247)\"],[0.6,\"rgb(209,229,240)\"],[0.7,\"rgb(146,197,222)\"],[0.8,\"rgb(67,147,195)\"],[0.9,\"rgb(33,102,172)\"],[1.0,\"rgb(5,48,97)\"]],\"sequential\":[[0.0,\"#440154\"],[0.1111111111111111,\"#482878\"],[0.2222222222222222,\"#3e4989\"],[0.3333333333333333,\"#31688e\"],[0.4444444444444444,\"#26828e\"],[0.5555555555555556,\"#1f9e89\"],[0.6666666666666666,\"#35b779\"],[0.7777777777777778,\"#6ece58\"],[0.8888888888888888,\"#b5de2b\"],[1.0,\"#fde725\"]],\"sequentialminus\":[[0.0,\"#440154\"],[0.1111111111111111,\"#482878\"],[0.2222222222222222,\"#3e4989\"],[0.3333333333333333,\"#31688e\"],[0.4444444444444444,\"#26828e\"],[0.5555555555555556,\"#1f9e89\"],[0.6666666666666666,\"#35b779\"],[0.7777777777777778,\"#6ece58\"],[0.8888888888888888,\"#b5de2b\"],[1.0,\"#fde725\"]]},\"colorway\":[\"#1F77B4\",\"#FF7F0E\",\"#2CA02C\",\"#D62728\",\"#9467BD\",\"#8C564B\",\"#E377C2\",\"#7F7F7F\",\"#BCBD22\",\"#17BECF\"],\"font\":{\"color\":\"rgb(36,36,36)\"},\"geo\":{\"bgcolor\":\"white\",\"lakecolor\":\"white\",\"landcolor\":\"white\",\"showlakes\":true,\"showland\":true,\"subunitcolor\":\"white\"},\"hoverlabel\":{\"align\":\"left\"},\"hovermode\":\"closest\",\"mapbox\":{\"style\":\"light\"},\"paper_bgcolor\":\"white\",\"plot_bgcolor\":\"white\",\"polar\":{\"angularaxis\":{\"gridcolor\":\"rgb(232,232,232)\",\"linecolor\":\"rgb(36,36,36)\",\"showgrid\":false,\"showline\":true,\"ticks\":\"outside\"},\"bgcolor\":\"white\",\"radialaxis\":{\"gridcolor\":\"rgb(232,232,232)\",\"linecolor\":\"rgb(36,36,36)\",\"showgrid\":false,\"showline\":true,\"ticks\":\"outside\"}},\"scene\":{\"xaxis\":{\"backgroundcolor\":\"white\",\"gridcolor\":\"rgb(232,232,232)\",\"gridwidth\":2,\"linecolor\":\"rgb(36,36,36)\",\"showbackground\":true,\"showgrid\":false,\"showline\":true,\"ticks\":\"outside\",\"zeroline\":false,\"zerolinecolor\":\"rgb(36,36,36)\"},\"yaxis\":{\"backgroundcolor\":\"white\",\"gridcolor\":\"rgb(232,232,232)\",\"gridwidth\":2,\"linecolor\":\"rgb(36,36,36)\",\"showbackground\":true,\"showgrid\":false,\"showline\":true,\"ticks\":\"outside\",\"zeroline\":false,\"zerolinecolor\":\"rgb(36,36,36)\"},\"zaxis\":{\"backgroundcolor\":\"white\",\"gridcolor\":\"rgb(232,232,232)\",\"gridwidth\":2,\"linecolor\":\"rgb(36,36,36)\",\"showbackground\":true,\"showgrid\":false,\"showline\":true,\"ticks\":\"outside\",\"zeroline\":false,\"zerolinecolor\":\"rgb(36,36,36)\"}},\"shapedefaults\":{\"fillcolor\":\"black\",\"line\":{\"width\":0},\"opacity\":0.3},\"ternary\":{\"aaxis\":{\"gridcolor\":\"rgb(232,232,232)\",\"linecolor\":\"rgb(36,36,36)\",\"showgrid\":false,\"showline\":true,\"ticks\":\"outside\"},\"baxis\":{\"gridcolor\":\"rgb(232,232,232)\",\"linecolor\":\"rgb(36,36,36)\",\"showgrid\":false,\"showline\":true,\"ticks\":\"outside\"},\"bgcolor\":\"white\",\"caxis\":{\"gridcolor\":\"rgb(232,232,232)\",\"linecolor\":\"rgb(36,36,36)\",\"showgrid\":false,\"showline\":true,\"ticks\":\"outside\"}},\"title\":{\"x\":0.05},\"xaxis\":{\"automargin\":true,\"gridcolor\":\"rgb(232,232,232)\",\"linecolor\":\"rgb(36,36,36)\",\"showgrid\":false,\"showline\":true,\"ticks\":\"outside\",\"title\":{\"standoff\":15},\"zeroline\":false,\"zerolinecolor\":\"rgb(36,36,36)\"},\"yaxis\":{\"automargin\":true,\"gridcolor\":\"rgb(232,232,232)\",\"linecolor\":\"rgb(36,36,36)\",\"showgrid\":false,\"showline\":true,\"ticks\":\"outside\",\"title\":{\"standoff\":15},\"zeroline\":false,\"zerolinecolor\":\"rgb(36,36,36)\"}}},\"xaxis\":{\"showgrid\":true},\"yaxis\":{\"showgrid\":true,\"title\":{\"text\":\"Frequency\"}},\"title\":{\"font\":{\"size\":22,\"color\":\"Black\"},\"text\":\"<b>Topics over Time\",\"y\":0.95,\"x\":0.4,\"xanchor\":\"center\",\"yanchor\":\"top\"},\"hoverlabel\":{\"font\":{\"size\":16,\"family\":\"Rockwell\"},\"bgcolor\":\"white\"},\"width\":1250,\"height\":450,\"legend\":{\"title\":{\"text\":\"<b>Global Topic Representation\"}}},                        {\"responsive\": true}                    ).then(function(){\n",
              "                            \n",
              "var gd = document.getElementById('25f3f711-b37c-48b9-95d3-ff692e9de939');\n",
              "var x = new MutationObserver(function (mutations, observer) {{\n",
              "        var display = window.getComputedStyle(gd).display;\n",
              "        if (!display || display === 'none') {{\n",
              "            console.log([gd, 'removed!']);\n",
              "            Plotly.purge(gd);\n",
              "            observer.disconnect();\n",
              "        }}\n",
              "}});\n",
              "\n",
              "// Listen for the removal of the full notebook cells\n",
              "var notebookContainer = gd.closest('#notebook-container');\n",
              "if (notebookContainer) {{\n",
              "    x.observe(notebookContainer, {childList: true});\n",
              "}}\n",
              "\n",
              "// Listen for the clearing of the current output cell\n",
              "var outputEl = gd.closest('.output');\n",
              "if (outputEl) {{\n",
              "    x.observe(outputEl, {childList: true});\n",
              "}}\n",
              "\n",
              "                        })                };                            </script>        </div>\n",
              "</body>\n",
              "</html>"
            ]
          },
          "metadata": {}
        }
      ]
    },
    {
      "cell_type": "code",
      "source": [
        "type(model1.topic_labels_)"
      ],
      "metadata": {
        "colab": {
          "base_uri": "https://localhost:8080/"
        },
        "id": "QUqXI9SvTnTK",
        "outputId": "ed26ca94-3c29-4227-fb43-a8ea6baa61a2"
      },
      "execution_count": 36,
      "outputs": [
        {
          "output_type": "execute_result",
          "data": {
            "text/plain": [
              "dict"
            ]
          },
          "metadata": {},
          "execution_count": 36
        }
      ]
    },
    {
      "cell_type": "code",
      "source": [
        "topics_df = pd.DataFrame(model1.topic_labels_.items(), columns=['topic_id', 'topic_name'])"
      ],
      "metadata": {
        "id": "IAx188MjTnKX"
      },
      "execution_count": 39,
      "outputs": []
    },
    {
      "cell_type": "code",
      "source": [
        "df2 = df2.merge(topics_df,how='left',left_on='tweet_topics',right_on='topic_id')"
      ],
      "metadata": {
        "id": "bPtxbBLRacdS"
      },
      "execution_count": 41,
      "outputs": []
    },
    {
      "cell_type": "code",
      "source": [
        "df2['like_count'] = df2['like_count'].astype(int)"
      ],
      "metadata": {
        "id": "If0BtTk-bPGs"
      },
      "execution_count": 49,
      "outputs": []
    },
    {
      "cell_type": "code",
      "source": [
        "df2[['like_count','tweet','topic_name']].sort_values('like_count',ascending=False)"
      ],
      "metadata": {
        "colab": {
          "base_uri": "https://localhost:8080/",
          "height": 424
        },
        "id": "bUA-djNvTnAp",
        "outputId": "fda6a346-1cdd-4b3f-e77a-8c3d84117ae4"
      },
      "execution_count": 52,
      "outputs": [
        {
          "output_type": "execute_result",
          "data": {
            "text/plain": [
              "     like_count                                              tweet  \\\n",
              "162         290  @EmiratesSupport just tried to check in for ou...   \n",
              "270         141  @EmiratesSupport It doesn’t help. And I’m not ...   \n",
              "169          10  @EmiratesSupport Thank you so much for resolvi...   \n",
              "72            7  @EmiratesSupport I'm not the type to complain ...   \n",
              "225           3  @EmiratesSupport hello we’re looking to fly to...   \n",
              "..          ...                                                ...   \n",
              "180           0  @EmiratesSupport I get that now calling is not...   \n",
              "179           0  @EmiratesSupport since 2019 Feb till today the...   \n",
              "178           0  @EmiratesSupport @EmiratesSupport @emirates th...   \n",
              "177           0  @EmiratesSupport quick question is the second ...   \n",
              "548           0  @EmiratesSupport Does Emirates allow knitting ...   \n",
              "\n",
              "                           topic_name  \n",
              "162  12_saturday_system_decided_shoul  \n",
              "270     1_luggage_baggage_bag_emirate  \n",
              "169     8_invoice_much_form_resolving  \n",
              "72       0_booking_change_help_flight  \n",
              "225            5_meal_nut_food_infant  \n",
              "..                                ...  \n",
              "180       -1_flight_response_get_time  \n",
              "179       4_emirate_support_time_date  \n",
              "178      0_booking_change_help_flight  \n",
              "177      0_booking_change_help_flight  \n",
              "548     1_luggage_baggage_bag_emirate  \n",
              "\n",
              "[549 rows x 3 columns]"
            ],
            "text/html": [
              "\n",
              "  <div id=\"df-67ce214d-1d59-4470-a2ed-416a793ca19a\">\n",
              "    <div class=\"colab-df-container\">\n",
              "      <div>\n",
              "<style scoped>\n",
              "    .dataframe tbody tr th:only-of-type {\n",
              "        vertical-align: middle;\n",
              "    }\n",
              "\n",
              "    .dataframe tbody tr th {\n",
              "        vertical-align: top;\n",
              "    }\n",
              "\n",
              "    .dataframe thead th {\n",
              "        text-align: right;\n",
              "    }\n",
              "</style>\n",
              "<table border=\"1\" class=\"dataframe\">\n",
              "  <thead>\n",
              "    <tr style=\"text-align: right;\">\n",
              "      <th></th>\n",
              "      <th>like_count</th>\n",
              "      <th>tweet</th>\n",
              "      <th>topic_name</th>\n",
              "    </tr>\n",
              "  </thead>\n",
              "  <tbody>\n",
              "    <tr>\n",
              "      <th>162</th>\n",
              "      <td>290</td>\n",
              "      <td>@EmiratesSupport just tried to check in for ou...</td>\n",
              "      <td>12_saturday_system_decided_shoul</td>\n",
              "    </tr>\n",
              "    <tr>\n",
              "      <th>270</th>\n",
              "      <td>141</td>\n",
              "      <td>@EmiratesSupport It doesn’t help. And I’m not ...</td>\n",
              "      <td>1_luggage_baggage_bag_emirate</td>\n",
              "    </tr>\n",
              "    <tr>\n",
              "      <th>169</th>\n",
              "      <td>10</td>\n",
              "      <td>@EmiratesSupport Thank you so much for resolvi...</td>\n",
              "      <td>8_invoice_much_form_resolving</td>\n",
              "    </tr>\n",
              "    <tr>\n",
              "      <th>72</th>\n",
              "      <td>7</td>\n",
              "      <td>@EmiratesSupport I'm not the type to complain ...</td>\n",
              "      <td>0_booking_change_help_flight</td>\n",
              "    </tr>\n",
              "    <tr>\n",
              "      <th>225</th>\n",
              "      <td>3</td>\n",
              "      <td>@EmiratesSupport hello we’re looking to fly to...</td>\n",
              "      <td>5_meal_nut_food_infant</td>\n",
              "    </tr>\n",
              "    <tr>\n",
              "      <th>...</th>\n",
              "      <td>...</td>\n",
              "      <td>...</td>\n",
              "      <td>...</td>\n",
              "    </tr>\n",
              "    <tr>\n",
              "      <th>180</th>\n",
              "      <td>0</td>\n",
              "      <td>@EmiratesSupport I get that now calling is not...</td>\n",
              "      <td>-1_flight_response_get_time</td>\n",
              "    </tr>\n",
              "    <tr>\n",
              "      <th>179</th>\n",
              "      <td>0</td>\n",
              "      <td>@EmiratesSupport since 2019 Feb till today the...</td>\n",
              "      <td>4_emirate_support_time_date</td>\n",
              "    </tr>\n",
              "    <tr>\n",
              "      <th>178</th>\n",
              "      <td>0</td>\n",
              "      <td>@EmiratesSupport @EmiratesSupport @emirates th...</td>\n",
              "      <td>0_booking_change_help_flight</td>\n",
              "    </tr>\n",
              "    <tr>\n",
              "      <th>177</th>\n",
              "      <td>0</td>\n",
              "      <td>@EmiratesSupport quick question is the second ...</td>\n",
              "      <td>0_booking_change_help_flight</td>\n",
              "    </tr>\n",
              "    <tr>\n",
              "      <th>548</th>\n",
              "      <td>0</td>\n",
              "      <td>@EmiratesSupport Does Emirates allow knitting ...</td>\n",
              "      <td>1_luggage_baggage_bag_emirate</td>\n",
              "    </tr>\n",
              "  </tbody>\n",
              "</table>\n",
              "<p>549 rows × 3 columns</p>\n",
              "</div>\n",
              "      <button class=\"colab-df-convert\" onclick=\"convertToInteractive('df-67ce214d-1d59-4470-a2ed-416a793ca19a')\"\n",
              "              title=\"Convert this dataframe to an interactive table.\"\n",
              "              style=\"display:none;\">\n",
              "        \n",
              "  <svg xmlns=\"http://www.w3.org/2000/svg\" height=\"24px\"viewBox=\"0 0 24 24\"\n",
              "       width=\"24px\">\n",
              "    <path d=\"M0 0h24v24H0V0z\" fill=\"none\"/>\n",
              "    <path d=\"M18.56 5.44l.94 2.06.94-2.06 2.06-.94-2.06-.94-.94-2.06-.94 2.06-2.06.94zm-11 1L8.5 8.5l.94-2.06 2.06-.94-2.06-.94L8.5 2.5l-.94 2.06-2.06.94zm10 10l.94 2.06.94-2.06 2.06-.94-2.06-.94-.94-2.06-.94 2.06-2.06.94z\"/><path d=\"M17.41 7.96l-1.37-1.37c-.4-.4-.92-.59-1.43-.59-.52 0-1.04.2-1.43.59L10.3 9.45l-7.72 7.72c-.78.78-.78 2.05 0 2.83L4 21.41c.39.39.9.59 1.41.59.51 0 1.02-.2 1.41-.59l7.78-7.78 2.81-2.81c.8-.78.8-2.07 0-2.86zM5.41 20L4 18.59l7.72-7.72 1.47 1.35L5.41 20z\"/>\n",
              "  </svg>\n",
              "      </button>\n",
              "      \n",
              "  <style>\n",
              "    .colab-df-container {\n",
              "      display:flex;\n",
              "      flex-wrap:wrap;\n",
              "      gap: 12px;\n",
              "    }\n",
              "\n",
              "    .colab-df-convert {\n",
              "      background-color: #E8F0FE;\n",
              "      border: none;\n",
              "      border-radius: 50%;\n",
              "      cursor: pointer;\n",
              "      display: none;\n",
              "      fill: #1967D2;\n",
              "      height: 32px;\n",
              "      padding: 0 0 0 0;\n",
              "      width: 32px;\n",
              "    }\n",
              "\n",
              "    .colab-df-convert:hover {\n",
              "      background-color: #E2EBFA;\n",
              "      box-shadow: 0px 1px 2px rgba(60, 64, 67, 0.3), 0px 1px 3px 1px rgba(60, 64, 67, 0.15);\n",
              "      fill: #174EA6;\n",
              "    }\n",
              "\n",
              "    [theme=dark] .colab-df-convert {\n",
              "      background-color: #3B4455;\n",
              "      fill: #D2E3FC;\n",
              "    }\n",
              "\n",
              "    [theme=dark] .colab-df-convert:hover {\n",
              "      background-color: #434B5C;\n",
              "      box-shadow: 0px 1px 3px 1px rgba(0, 0, 0, 0.15);\n",
              "      filter: drop-shadow(0px 1px 2px rgba(0, 0, 0, 0.3));\n",
              "      fill: #FFFFFF;\n",
              "    }\n",
              "  </style>\n",
              "\n",
              "      <script>\n",
              "        const buttonEl =\n",
              "          document.querySelector('#df-67ce214d-1d59-4470-a2ed-416a793ca19a button.colab-df-convert');\n",
              "        buttonEl.style.display =\n",
              "          google.colab.kernel.accessAllowed ? 'block' : 'none';\n",
              "\n",
              "        async function convertToInteractive(key) {\n",
              "          const element = document.querySelector('#df-67ce214d-1d59-4470-a2ed-416a793ca19a');\n",
              "          const dataTable =\n",
              "            await google.colab.kernel.invokeFunction('convertToInteractive',\n",
              "                                                     [key], {});\n",
              "          if (!dataTable) return;\n",
              "\n",
              "          const docLinkHtml = 'Like what you see? Visit the ' +\n",
              "            '<a target=\"_blank\" href=https://colab.research.google.com/notebooks/data_table.ipynb>data table notebook</a>'\n",
              "            + ' to learn more about interactive tables.';\n",
              "          element.innerHTML = '';\n",
              "          dataTable['output_type'] = 'display_data';\n",
              "          await google.colab.output.renderOutput(dataTable, element);\n",
              "          const docLink = document.createElement('div');\n",
              "          docLink.innerHTML = docLinkHtml;\n",
              "          element.appendChild(docLink);\n",
              "        }\n",
              "      </script>\n",
              "    </div>\n",
              "  </div>\n",
              "  "
            ]
          },
          "metadata": {},
          "execution_count": 52
        }
      ]
    },
    {
      "cell_type": "code",
      "source": [
        "topics_df"
      ],
      "metadata": {
        "id": "yIdZDmruc0mw",
        "outputId": "2abd4bfa-4aa7-4c53-d5d3-8707a435121b",
        "colab": {
          "base_uri": "https://localhost:8080/",
          "height": 645
        }
      },
      "execution_count": 57,
      "outputs": [
        {
          "output_type": "execute_result",
          "data": {
            "text/plain": [
              "    topic_id                          topic_name\n",
              "0         -1         -1_flight_response_get_time\n",
              "1          0        0_booking_change_help_flight\n",
              "2          1       1_luggage_baggage_bag_emirate\n",
              "3          2    2_complaint_customer_reply_email\n",
              "4          3           3_please_sent_thank_reply\n",
              "5          4         4_emirate_support_time_date\n",
              "6          5              5_meal_nut_food_infant\n",
              "7          6   6_vaccinated_test_vaccination_pcr\n",
              "8          7     7_refund_rebook_cancelled_money\n",
              "9          8       8_invoice_much_form_resolving\n",
              "10         9          9_staff_delhi_airline_made\n",
              "11        10    10_lounge_access_business_flying\n",
              "12        11        11_visa_transit_dubai_admins\n",
              "13        12    12_saturday_system_decided_shoul\n",
              "14        13  13_email_pathetic_whenever_equally\n",
              "15        14             14_knee_twin_family_dxb\n",
              "16        15     15_dublin_five_exhausted_flight\n",
              "17        16     16_selling_money_robbed_scammed\n",
              "18        17   17_complaint_nothing_emirate_made"
            ],
            "text/html": [
              "\n",
              "  <div id=\"df-41126ac1-64f3-4de5-b854-d00894e1a816\">\n",
              "    <div class=\"colab-df-container\">\n",
              "      <div>\n",
              "<style scoped>\n",
              "    .dataframe tbody tr th:only-of-type {\n",
              "        vertical-align: middle;\n",
              "    }\n",
              "\n",
              "    .dataframe tbody tr th {\n",
              "        vertical-align: top;\n",
              "    }\n",
              "\n",
              "    .dataframe thead th {\n",
              "        text-align: right;\n",
              "    }\n",
              "</style>\n",
              "<table border=\"1\" class=\"dataframe\">\n",
              "  <thead>\n",
              "    <tr style=\"text-align: right;\">\n",
              "      <th></th>\n",
              "      <th>topic_id</th>\n",
              "      <th>topic_name</th>\n",
              "    </tr>\n",
              "  </thead>\n",
              "  <tbody>\n",
              "    <tr>\n",
              "      <th>0</th>\n",
              "      <td>-1</td>\n",
              "      <td>-1_flight_response_get_time</td>\n",
              "    </tr>\n",
              "    <tr>\n",
              "      <th>1</th>\n",
              "      <td>0</td>\n",
              "      <td>0_booking_change_help_flight</td>\n",
              "    </tr>\n",
              "    <tr>\n",
              "      <th>2</th>\n",
              "      <td>1</td>\n",
              "      <td>1_luggage_baggage_bag_emirate</td>\n",
              "    </tr>\n",
              "    <tr>\n",
              "      <th>3</th>\n",
              "      <td>2</td>\n",
              "      <td>2_complaint_customer_reply_email</td>\n",
              "    </tr>\n",
              "    <tr>\n",
              "      <th>4</th>\n",
              "      <td>3</td>\n",
              "      <td>3_please_sent_thank_reply</td>\n",
              "    </tr>\n",
              "    <tr>\n",
              "      <th>5</th>\n",
              "      <td>4</td>\n",
              "      <td>4_emirate_support_time_date</td>\n",
              "    </tr>\n",
              "    <tr>\n",
              "      <th>6</th>\n",
              "      <td>5</td>\n",
              "      <td>5_meal_nut_food_infant</td>\n",
              "    </tr>\n",
              "    <tr>\n",
              "      <th>7</th>\n",
              "      <td>6</td>\n",
              "      <td>6_vaccinated_test_vaccination_pcr</td>\n",
              "    </tr>\n",
              "    <tr>\n",
              "      <th>8</th>\n",
              "      <td>7</td>\n",
              "      <td>7_refund_rebook_cancelled_money</td>\n",
              "    </tr>\n",
              "    <tr>\n",
              "      <th>9</th>\n",
              "      <td>8</td>\n",
              "      <td>8_invoice_much_form_resolving</td>\n",
              "    </tr>\n",
              "    <tr>\n",
              "      <th>10</th>\n",
              "      <td>9</td>\n",
              "      <td>9_staff_delhi_airline_made</td>\n",
              "    </tr>\n",
              "    <tr>\n",
              "      <th>11</th>\n",
              "      <td>10</td>\n",
              "      <td>10_lounge_access_business_flying</td>\n",
              "    </tr>\n",
              "    <tr>\n",
              "      <th>12</th>\n",
              "      <td>11</td>\n",
              "      <td>11_visa_transit_dubai_admins</td>\n",
              "    </tr>\n",
              "    <tr>\n",
              "      <th>13</th>\n",
              "      <td>12</td>\n",
              "      <td>12_saturday_system_decided_shoul</td>\n",
              "    </tr>\n",
              "    <tr>\n",
              "      <th>14</th>\n",
              "      <td>13</td>\n",
              "      <td>13_email_pathetic_whenever_equally</td>\n",
              "    </tr>\n",
              "    <tr>\n",
              "      <th>15</th>\n",
              "      <td>14</td>\n",
              "      <td>14_knee_twin_family_dxb</td>\n",
              "    </tr>\n",
              "    <tr>\n",
              "      <th>16</th>\n",
              "      <td>15</td>\n",
              "      <td>15_dublin_five_exhausted_flight</td>\n",
              "    </tr>\n",
              "    <tr>\n",
              "      <th>17</th>\n",
              "      <td>16</td>\n",
              "      <td>16_selling_money_robbed_scammed</td>\n",
              "    </tr>\n",
              "    <tr>\n",
              "      <th>18</th>\n",
              "      <td>17</td>\n",
              "      <td>17_complaint_nothing_emirate_made</td>\n",
              "    </tr>\n",
              "  </tbody>\n",
              "</table>\n",
              "</div>\n",
              "      <button class=\"colab-df-convert\" onclick=\"convertToInteractive('df-41126ac1-64f3-4de5-b854-d00894e1a816')\"\n",
              "              title=\"Convert this dataframe to an interactive table.\"\n",
              "              style=\"display:none;\">\n",
              "        \n",
              "  <svg xmlns=\"http://www.w3.org/2000/svg\" height=\"24px\"viewBox=\"0 0 24 24\"\n",
              "       width=\"24px\">\n",
              "    <path d=\"M0 0h24v24H0V0z\" fill=\"none\"/>\n",
              "    <path d=\"M18.56 5.44l.94 2.06.94-2.06 2.06-.94-2.06-.94-.94-2.06-.94 2.06-2.06.94zm-11 1L8.5 8.5l.94-2.06 2.06-.94-2.06-.94L8.5 2.5l-.94 2.06-2.06.94zm10 10l.94 2.06.94-2.06 2.06-.94-2.06-.94-.94-2.06-.94 2.06-2.06.94z\"/><path d=\"M17.41 7.96l-1.37-1.37c-.4-.4-.92-.59-1.43-.59-.52 0-1.04.2-1.43.59L10.3 9.45l-7.72 7.72c-.78.78-.78 2.05 0 2.83L4 21.41c.39.39.9.59 1.41.59.51 0 1.02-.2 1.41-.59l7.78-7.78 2.81-2.81c.8-.78.8-2.07 0-2.86zM5.41 20L4 18.59l7.72-7.72 1.47 1.35L5.41 20z\"/>\n",
              "  </svg>\n",
              "      </button>\n",
              "      \n",
              "  <style>\n",
              "    .colab-df-container {\n",
              "      display:flex;\n",
              "      flex-wrap:wrap;\n",
              "      gap: 12px;\n",
              "    }\n",
              "\n",
              "    .colab-df-convert {\n",
              "      background-color: #E8F0FE;\n",
              "      border: none;\n",
              "      border-radius: 50%;\n",
              "      cursor: pointer;\n",
              "      display: none;\n",
              "      fill: #1967D2;\n",
              "      height: 32px;\n",
              "      padding: 0 0 0 0;\n",
              "      width: 32px;\n",
              "    }\n",
              "\n",
              "    .colab-df-convert:hover {\n",
              "      background-color: #E2EBFA;\n",
              "      box-shadow: 0px 1px 2px rgba(60, 64, 67, 0.3), 0px 1px 3px 1px rgba(60, 64, 67, 0.15);\n",
              "      fill: #174EA6;\n",
              "    }\n",
              "\n",
              "    [theme=dark] .colab-df-convert {\n",
              "      background-color: #3B4455;\n",
              "      fill: #D2E3FC;\n",
              "    }\n",
              "\n",
              "    [theme=dark] .colab-df-convert:hover {\n",
              "      background-color: #434B5C;\n",
              "      box-shadow: 0px 1px 3px 1px rgba(0, 0, 0, 0.15);\n",
              "      filter: drop-shadow(0px 1px 2px rgba(0, 0, 0, 0.3));\n",
              "      fill: #FFFFFF;\n",
              "    }\n",
              "  </style>\n",
              "\n",
              "      <script>\n",
              "        const buttonEl =\n",
              "          document.querySelector('#df-41126ac1-64f3-4de5-b854-d00894e1a816 button.colab-df-convert');\n",
              "        buttonEl.style.display =\n",
              "          google.colab.kernel.accessAllowed ? 'block' : 'none';\n",
              "\n",
              "        async function convertToInteractive(key) {\n",
              "          const element = document.querySelector('#df-41126ac1-64f3-4de5-b854-d00894e1a816');\n",
              "          const dataTable =\n",
              "            await google.colab.kernel.invokeFunction('convertToInteractive',\n",
              "                                                     [key], {});\n",
              "          if (!dataTable) return;\n",
              "\n",
              "          const docLinkHtml = 'Like what you see? Visit the ' +\n",
              "            '<a target=\"_blank\" href=https://colab.research.google.com/notebooks/data_table.ipynb>data table notebook</a>'\n",
              "            + ' to learn more about interactive tables.';\n",
              "          element.innerHTML = '';\n",
              "          dataTable['output_type'] = 'display_data';\n",
              "          await google.colab.output.renderOutput(dataTable, element);\n",
              "          const docLink = document.createElement('div');\n",
              "          docLink.innerHTML = docLinkHtml;\n",
              "          element.appendChild(docLink);\n",
              "        }\n",
              "      </script>\n",
              "    </div>\n",
              "  </div>\n",
              "  "
            ]
          },
          "metadata": {},
          "execution_count": 57
        }
      ]
    },
    {
      "cell_type": "code",
      "source": [
        "list(df2[df2['topic_name']=='1_luggage_baggage_bag_emirate']['tweet'])"
      ],
      "metadata": {
        "id": "KedbPR3-c4Nv",
        "outputId": "d6d95c89-3962-4d50-e3ed-b91fa7031a2c",
        "colab": {
          "base_uri": "https://localhost:8080/"
        }
      },
      "execution_count": 63,
      "outputs": [
        {
          "output_type": "execute_result",
          "data": {
            "text/plain": [
              "['@EmiratesSupport Hi, we are flying economy from LGW to DXB on 15th October. What are our luggage allowances? Your website says 23kg hold + 7kg in the cabin. My ticket from you just says 30kg with no reference to either hold or cabin and my ticket from my TA says 20kg. Thanks',\n",
              " '@EmiratesSupport I pay over £5K for business and the baggage is supposed to be a priority, and yet I’m still here and no bags 45 minutes later. Booked my driver for 8.45 and it’s almost 10pm! https://t.co/CwcoWlTTkb',\n",
              " '@EmiratesSupport are we able to add a pram in the hold for our 1yr old as part of our luggage allowance &amp; if so, can we hold on to it until boarding at the gate? London -&gt; Dubai &amp; vice versa',\n",
              " '@EmiratesSupport   Hi I am a frequent flyer of emirates airlines I traveled from emirate’s airlines on 18th of May to JFK USA on arrival I found my one of my checkin baggage broken.I complain to your emirates counter at JFK .They give me complain no JFKD550185.Till date not solve',\n",
              " '@EmiratesSupport I know all this. And this is why I am asking why on Thursday 6th October Flight  EK346 I was made to wear a mask from Dubai to Malaysia. When Malaysia has no mask rules. The staff said, \"this flight you have to.\" why?',\n",
              " '@EmiratesSupport still waiting since Friday afternoon to hear back from you baggage department in Bkk. I guess they are hoping I will just forget about this. THB1200 to replace a 6 month old suitcase which your handlers made unusable.\\r\\nWorlds #1 airline, seriously ?? https://t.co/7NdDAZJINr',\n",
              " '@EmiratesSupport I booked my flight from HYD-EWR for 3rd Nov using Student offer... I just wanted to know if I can merge the extra 10kg baggage allowance as per student offer in the luggage itself or do I need to carry an extra baggage of 10kg separately. Please reply!',\n",
              " '@EmiratesSupport Finally, almost 45 days after my bag was broken, I have an answer: please, wait 20 days more for a \"personalise response\". Seriously? @EmiratesSupport @emirates @facua https://t.co/UQmSUTN443',\n",
              " '@EmiratesSupport  @DubaiAirports 65 days since my luggage is missing. Actually not missing, it has been located in @MumbaiAirport a month ago - instead of being sent to Kabul. Funny story - no one in @Emirates or in @Marhaba wants to take responsibility for the mistake https://t.co/GdIcXjDbM4',\n",
              " '@EmiratesSupport  \\r\\nHi, just wondering how much does Emirates charge for extra luggage per kg. I am traveling from Chennai to Ireland.',\n",
              " '@EmiratesSupport Thanks for replying! I went to the link you shared and it took me to the help webpage but with no option to send a DM. There’s options like baggage, Dubai connect etc. How do I send you the info requested?',\n",
              " '@EmiratesSupport Hi, just wondering how much does Emirates charge for extra luggage per kg. I am traveling from Chennai to Ireland.',\n",
              " '@EmiratesSupport hi there i’m looking to bring my PS5 onboard a flight from Heathrow to Dubai and then Dubai to Jakarta in my checked in luggage, is that ok?',\n",
              " '@EmiratesSupport our luggage is missing. Flight number EK0510. PIR DELA702176. Please help.',\n",
              " '@EmiratesSupport hello, I’m flying London to Sydney with a few hours stopover in Dubai. Do I need to wear a face mask on board the flight and in Dubai airport? I looked on website and it had two different answers. Thank you.',\n",
              " '@EmiratesSupport My baggage is lost from 1 month. I have not received an update- BLREK13672. What kind of service is this from a so called premium airline like Emirates?',\n",
              " '@EmiratesSupport i sent a message from my account in your app 7 days ago to report my baggage was badly damaged on my recent flight but have received no response. Please contact me as I fly again next week but my bag is unfit to use. Thanks',\n",
              " \"@EmiratesSupport Can someone please help me with this LHRA701629. It's been 3 days I lost my baggage in airport belt.. I haven't received any update. This bag very much important to me. Please help me.\",\n",
              " \"@EmiratesSupport hey there, my cousin is travelling from Italy to india via dubai, could you please tell me if he can carry both laptop bag and hand bag? And what's the maximum luggage limit he is travelling in economic class\",\n",
              " \"@EmiratesSupport hey there, my cousin is travelling from Italy to india via dubai, could you please tell me if he can carry both laptop bag and hand bag? And what's the maximum luggage limit he is travelling in economic class\",\n",
              " '@EmiratesSupport One more question, suppose if I used all the liquid fuel from lighter, in that case can I carry lighter to check-in or hand beg',\n",
              " 'RT @AbbyHants: @EmiratesSupport hello we’re looking to fly to SA and Emirates has suitable flights. My son has a nut allergy and carries ep…',\n",
              " '@EmiratesSupport hi I have a Kuala Lumpur - Orlando flight via Dubai &amp; JFK this friday. But I can’t find the cabin baggage allocation for the JFK - Orlando leg operated by @JetBlue. Where do I find this info?',\n",
              " \"@EmiratesSupport I'm in Bali, my luggage didn't arrive. Can you contact me ASAP?\",\n",
              " '@EmiratesSupport I have not received my baggage after landing at Amsterdam airport on 14th October 1:15pm. This has seriously disrupted my travel and even after four days of landing there hasn’t been a definite response from Emirates. https://t.co/rWOZEL2PO2',\n",
              " '@EmiratesSupport can I bring baklava on my carry on luggage or will it be a problem because of the honey and/or syrup? TIA',\n",
              " \"@EmiratesSupport @Emirates247 @emirates \\r\\nHello Emirates,\\r\\nI flew with Emirates from India to Dubai on October 15, 2022, PNR: OL4Q6F, and did not receive my luggage from belt 13. DXBA706831 is the reference number. Emirates says it's not their responsibility.\",\n",
              " '@EmiratesSupport I have been living without my only luggage bag that I had bought along.. its 3rd day today and I’m bearing the costs for calling card and trying to contact the customer support and travelled to the airport couple kf time in the past 2days.. how is Emirates going to compensate it?',\n",
              " '@EmiratesSupport I have to even buy clothes for survival.. you do not understand my condition seriously and being very insensitive about it but not trying to provide the interim relief atleast until you find the luggage back to me.',\n",
              " '@EmiratesSupport   MCO-JFK-Dubai-Mumbai -delayed baggage.\\r\\nTicket No -  607 7827277856 JetBlue-Emirates . \\r\\nBaggage Ref # BOMA697858\\r\\nTag no # B6472176/77\\r\\nFlight #  1284 - EK204 - EK506\\r\\nBags delivered after my return to the US. Compensate $500 for 2 news bags, clothes,accessories',\n",
              " '@EmiratesSupport I have Emirates Skywards gold card. Am I allowed up to 3 check-in luggages for no fee and do I need to request ahead of time? TIA',\n",
              " '@EmiratesSupport My ticket No -  607 7827277856 JetBlue-Emirates . \\r\\nMy baggage report reference # BOMA697858\\r\\nTag no # B6472176/77\\r\\nFlight No. details - 1284 - EK204 - EK506 . With the abv ticket # I cannot file complain on emirates website',\n",
              " \"@EmiratesSupport Hi, are we allowed to carry a week's supply of gym supplements such as Omega 3, Creatine and a Joint Support supplement (powder form) in small containers on a flight to the UAE?\",\n",
              " '@EmiratesSupport It doesn’t help. And I’m not happy being ripped off. Now what can you do? 🤣',\n",
              " \"@EmiratesSupport @emirates have been following up since a couple of months since my baggage's were completely broken and mishandled by your team. Commit from your airport counter was resolution in a few weeks. Claim no - ( PIR ) - BOMD650233. Can we have a timeline ?\",\n",
              " '@EmiratesSupport we have arrived in Dubai this evening on EK008 from LHR. We were so excited about this flight having never been on an emirates flight before and heading such reviews. To say we are disappointed is an understatement; we sat in row 78/79 and it would appear that',\n",
              " '@EmiratesSupport My friend’s parents are struck in JFK(they are traveling from Indian to San Diego)… There flight to JFK got delayed because of which the connecting flight got missed .no one is helping them in airport.. they are elder and heart patients #heartpatient @emirates',\n",
              " '@EmiratesSupport Monday I arrived to dubai now it is Friday and my luggage is still missing. Did not expect this kind of thing to happen on a emirates airline. I’ve had one phone call @EmiratesSupport during this time to tell me my luggage has not been located.',\n",
              " '@EmiratesSupport @rahulchawlasir Flying with emirates is extremely frustrating. How an item of luggage can go missing from london to dubai is beyond me. With absolutely no efforts to be in touch with the customer',\n",
              " 'RT @AksaKha54226395: @EmiratesSupport @rahulchawlasir Flying with emirates is extremely frustrating. How an item of luggage can go missing…',\n",
              " '@EmiratesSupport when will someone inform me about the whereabouts of my luggage ?',\n",
              " '@EmiratesSupport is there any restriction on carrying cardboard boxes as checked baggage?',\n",
              " '@EmiratesSupport Hello.We will be traveling USA to India and India to USA via Dubai. Is one carry on+ one purse allowed?',\n",
              " \"@EmiratesSupport We took a flight in Tel Aviv to Dubai with a connection to Nairobi. 1 of our 2 bags didn't arrive. According to the airport office it´s still in Tel Aviv. That bag had all the clothes we needed for the safari we start tomorrow. How can we ask for a compensation?\",\n",
              " '@EmiratesSupport @emirates @dnatatravel @dnataSupport @airindiain Feeling helpless! Emirates missed my bags in Dubai and now telling AirIndia that bags can only reach on 29th (8days delay), I need to travel back to my home country (SF) on 28th which no one understanding! Strange!',\n",
              " '@EmiratesSupport @emirates Hello I took the flight from Madrid to Dubai on 22.10.2022 and valuables from my checked in bag around 2000 euros were stolen. The complaint has been filed but there’s no response. Kindly check and investigate the same. https://t.co/ol4umZQpKo',\n",
              " 'RT @khanna244: @EmiratesSupport @emirates Hello I took the flight from Madrid to Dubai on 22.10.2022 and valuables from my checked in bag a…',\n",
              " 'RT @Akhiles77012252: @EmiratesSupport @emirates @dnatatravel @dnataSupport @airindiain Feeling helpless! Emirates missed my bags in Dubai a…',\n",
              " '@EmiratesSupport are Apple AirTags allowed in checked in luggage?',\n",
              " \"@EmiratesSupport Hi @emirates @EmiratesSupport . It's been around 2 months since the baggage was lost on the Emirates flight. Still no information or update on the claim. Very disappointing and unprofessional. Request to close the matter ASAP.\",\n",
              " '@EmiratesSupport My luggage was lost on my honeymoon.  @emirates have refused compensation, but offered airmiles. a month later airmiles have not been added and emails are ignored.',\n",
              " '@EmiratesSupport Hi, can you please let me know if there is any luggage allowance when flying with a child under 2yrs old from the uk to dubai?',\n",
              " '@EmiratesSupport @emirates It has been over 30 hours but you have not been able to trace my missing baggage. Arrived on EK504 on 26Oct22 and support team is clueless as to where it is. Pls note there is important medication in that baggage. Please DM me for details.',\n",
              " '@EmiratesSupport is this your service Emirates? I Lost my bag in airport belt. On October 11th. LHRA701629 please find this. I am dead calling you people. No one responds.. please help me https://t.co/d45S07IhIh',\n",
              " '@EmiratesSupport Hi, was wondering how much liquid I can take in checked luggage. How many 1,5 Liter bottles of juice can I put in 1 suitcase (checked luggage)? Thanks.',\n",
              " \"@EmiratesSupport while travel'g to Mum from Manchstr on 13 Aug my luggage ws damaged by Emirtes ground staff and it's frustrating as after 3mnths still awaiting response from Emirates... Regrdlss of inconvenience travel v had wid broken suitcase during my whole India trip\",\n",
              " '@EmiratesSupport   I am on the flight from Athens to Dubai - Flight EK210 on 28-Oct-2022.   I am very disappointing,  away 19G does not decline and was known to be broken, never told.  Also,  my bag got stuck on a loose screw in the overhead and it took me 10 min to get loose',\n",
              " \"RT @sunnyspuri: @EmiratesSupport while travel'g to Mum from Manchstr on 13 Aug my luggage ws damaged by Emirtes ground staff and it's frust…\",\n",
              " '@EmiratesSupport It confused me badly. You’ve created a damage baggage reference number for me: AMMD700000, 20days ago. But  this number can’t be found online when checking the status of my baggage claim. What’s wrong with it?',\n",
              " '@EmiratesSupport My brand new suitcase was damaged on the way back from Dubai yesterday, October 29th 2022. I had a connecting flight to catch so could not go to the baggage office at the airport. I have travelled a lot internationally but never flown Emirates. Very sad:( https://t.co/cxLLWpfBxr',\n",
              " '@EmiratesSupport Emirates airlines damaged my brand new suitcase on the way back from Dubai yesterday, October 29th 2022. I need reimbursement because suitcase is not usable anymore. Emirates customer support, please help. Where do I file claim for damage? https://t.co/Drps8FRSfT',\n",
              " '@EmiratesSupport I have already shared the way the baggage was handled and the poor behaviour of your executive... Image shared of the bag',\n",
              " '@EmiratesSupport are wooden (bamboo) knitting needles allowed in the cabin? I can’t see them specifically listed on your website, so just wanted to check :)',\n",
              " '@EmiratesSupport still no satisfaction from Emirates 6 weeks after cancelled flight and missing almost 2 full days of our holiday in The Maldives.\\nPoor to say the least.',\n",
              " 'RT @KennyMcKie17: @EmiratesSupport still no satisfaction from Emirates 6 weeks after cancelled flight and missing almost 2 full days of our…',\n",
              " '@EmiratesSupport Oh no! I was so looking forward to knitting on my 19 hour flight to Australia! What a shame',\n",
              " \"@EmiratesSupport Hey, I've got a question: is a small sling bag/purse allowed in addition to a carry-on bag in the Economy class?\",\n",
              " '@EmiratesSupport @emirates hi there! Can I fly with a live plant either as a carry on or in my checked in luggage?',\n",
              " '@EmiratesSupport Morning! We are due to take an Emirates flight to Delhi via Dubai.  Is it ok to have Apple AirTags in our checked in  luggage? Thanks 😊',\n",
              " '@EmiratesSupport Boston to Mumbai via Dubai . I have my wedding gown with me . Can I carry it as an carry on. Will someone be able to hang it during the flight . Please. It would be a huge favor and make my dream come true @DestWeds@internationwedding',\n",
              " '@EmiratesSupport Yes 30 days wait period for 45 days old baggage issue.. air india is better then you guys',\n",
              " '@EmiratesSupport Hi. Could you please assist with regards to my lost baggage in Heathrow Airport. It has been 2 days since I reported and I am waiting for your update.',\n",
              " '@EmiratesSupport Does Emirates allow knitting needles now in cabin luggage for flight from Germany to Australia?']"
            ]
          },
          "metadata": {},
          "execution_count": 63
        }
      ]
    },
    {
      "cell_type": "code",
      "source": [
        "df2.iloc[162]['tweet']"
      ],
      "metadata": {
        "colab": {
          "base_uri": "https://localhost:8080/",
          "height": 53
        },
        "id": "eVmIdVFnTmsa",
        "outputId": "502fd41b-c6bb-4a69-9b80-e6b4af57a6a6"
      },
      "execution_count": 55,
      "outputs": [
        {
          "output_type": "execute_result",
          "data": {
            "text/plain": [
              "'@EmiratesSupport just tried to check in for our flight Saturday and your system has decided that my 4 and 6 year old should be sitting on opposite ends of the plane away from my wife and I 😵\\u200d💫'"
            ],
            "application/vnd.google.colaboratory.intrinsic+json": {
              "type": "string"
            }
          },
          "metadata": {},
          "execution_count": 55
        }
      ]
    },
    {
      "cell_type": "code",
      "source": [
        "df2.iloc[270]['tweet']"
      ],
      "metadata": {
        "id": "4NJ6NwZ4clCp",
        "outputId": "89e0d8a3-92c9-4640-837f-47b4d182b9ea",
        "colab": {
          "base_uri": "https://localhost:8080/",
          "height": 36
        }
      },
      "execution_count": 56,
      "outputs": [
        {
          "output_type": "execute_result",
          "data": {
            "text/plain": [
              "'@EmiratesSupport It doesn’t help. And I’m not happy being ripped off. Now what can you do? 🤣'"
            ],
            "application/vnd.google.colaboratory.intrinsic+json": {
              "type": "string"
            }
          },
          "metadata": {},
          "execution_count": 56
        }
      ]
    },
    {
      "cell_type": "code",
      "source": [],
      "metadata": {
        "id": "gCiM5L-8cmj3"
      },
      "execution_count": null,
      "outputs": []
    },
    {
      "cell_type": "code",
      "source": [],
      "metadata": {
        "id": "OtOyckzGcmaJ"
      },
      "execution_count": null,
      "outputs": []
    },
    {
      "cell_type": "code",
      "source": [],
      "metadata": {
        "id": "NsE5nCsvcmTA"
      },
      "execution_count": null,
      "outputs": []
    },
    {
      "cell_type": "code",
      "source": [],
      "metadata": {
        "id": "S7bLh2b9cmKx"
      },
      "execution_count": null,
      "outputs": []
    },
    {
      "cell_type": "code",
      "source": [],
      "metadata": {
        "id": "HUtMviwgcltX"
      },
      "execution_count": null,
      "outputs": []
    }
  ],
  "metadata": {
    "kernelspec": {
      "display_name": "Python (notam1)",
      "language": "python",
      "name": "notam"
    },
    "language_info": {
      "codemirror_mode": {
        "name": "ipython",
        "version": 3
      },
      "file_extension": ".py",
      "mimetype": "text/x-python",
      "name": "python",
      "nbconvert_exporter": "python",
      "pygments_lexer": "ipython3",
      "version": "3.7.9"
    },
    "colab": {
      "provenance": [],
      "include_colab_link": true
    },
    "widgets": {
      "application/vnd.jupyter.widget-state+json": {
        "3f379643566a4aac8a1d896b7ed4d3d3": {
          "model_module": "@jupyter-widgets/controls",
          "model_name": "HBoxModel",
          "model_module_version": "1.5.0",
          "state": {
            "_dom_classes": [],
            "_model_module": "@jupyter-widgets/controls",
            "_model_module_version": "1.5.0",
            "_model_name": "HBoxModel",
            "_view_count": null,
            "_view_module": "@jupyter-widgets/controls",
            "_view_module_version": "1.5.0",
            "_view_name": "HBoxView",
            "box_style": "",
            "children": [
              "IPY_MODEL_7ce35d5ed4174d5aa44954892f201f7c",
              "IPY_MODEL_477a0cd2912b41b8ab6df9c3488c1c68",
              "IPY_MODEL_2c83350cd0e9409c91fecb7b3a587cbc"
            ],
            "layout": "IPY_MODEL_df55840a69fe468393f474ebec333c3e"
          }
        },
        "7ce35d5ed4174d5aa44954892f201f7c": {
          "model_module": "@jupyter-widgets/controls",
          "model_name": "HTMLModel",
          "model_module_version": "1.5.0",
          "state": {
            "_dom_classes": [],
            "_model_module": "@jupyter-widgets/controls",
            "_model_module_version": "1.5.0",
            "_model_name": "HTMLModel",
            "_view_count": null,
            "_view_module": "@jupyter-widgets/controls",
            "_view_module_version": "1.5.0",
            "_view_name": "HTMLView",
            "description": "",
            "description_tooltip": null,
            "layout": "IPY_MODEL_3295b00171a24a15a64fb0c40c95d123",
            "placeholder": "​",
            "style": "IPY_MODEL_7394dde33ce84b79920d7c5d7d79dec5",
            "value": "Batches: 100%"
          }
        },
        "477a0cd2912b41b8ab6df9c3488c1c68": {
          "model_module": "@jupyter-widgets/controls",
          "model_name": "FloatProgressModel",
          "model_module_version": "1.5.0",
          "state": {
            "_dom_classes": [],
            "_model_module": "@jupyter-widgets/controls",
            "_model_module_version": "1.5.0",
            "_model_name": "FloatProgressModel",
            "_view_count": null,
            "_view_module": "@jupyter-widgets/controls",
            "_view_module_version": "1.5.0",
            "_view_name": "ProgressView",
            "bar_style": "success",
            "description": "",
            "description_tooltip": null,
            "layout": "IPY_MODEL_f01ddad4bd064d5d9c795777b26fa604",
            "max": 18,
            "min": 0,
            "orientation": "horizontal",
            "style": "IPY_MODEL_dc6d123099d14234b854f3bbfefe7ed7",
            "value": 18
          }
        },
        "2c83350cd0e9409c91fecb7b3a587cbc": {
          "model_module": "@jupyter-widgets/controls",
          "model_name": "HTMLModel",
          "model_module_version": "1.5.0",
          "state": {
            "_dom_classes": [],
            "_model_module": "@jupyter-widgets/controls",
            "_model_module_version": "1.5.0",
            "_model_name": "HTMLModel",
            "_view_count": null,
            "_view_module": "@jupyter-widgets/controls",
            "_view_module_version": "1.5.0",
            "_view_name": "HTMLView",
            "description": "",
            "description_tooltip": null,
            "layout": "IPY_MODEL_f8ac1dd9a8d94fb3b70e64f9a4743bf9",
            "placeholder": "​",
            "style": "IPY_MODEL_7b8bc8a41fa44e0e9fcd1d488e806d93",
            "value": " 18/18 [00:06&lt;00:00,  4.86it/s]"
          }
        },
        "df55840a69fe468393f474ebec333c3e": {
          "model_module": "@jupyter-widgets/base",
          "model_name": "LayoutModel",
          "model_module_version": "1.2.0",
          "state": {
            "_model_module": "@jupyter-widgets/base",
            "_model_module_version": "1.2.0",
            "_model_name": "LayoutModel",
            "_view_count": null,
            "_view_module": "@jupyter-widgets/base",
            "_view_module_version": "1.2.0",
            "_view_name": "LayoutView",
            "align_content": null,
            "align_items": null,
            "align_self": null,
            "border": null,
            "bottom": null,
            "display": null,
            "flex": null,
            "flex_flow": null,
            "grid_area": null,
            "grid_auto_columns": null,
            "grid_auto_flow": null,
            "grid_auto_rows": null,
            "grid_column": null,
            "grid_gap": null,
            "grid_row": null,
            "grid_template_areas": null,
            "grid_template_columns": null,
            "grid_template_rows": null,
            "height": null,
            "justify_content": null,
            "justify_items": null,
            "left": null,
            "margin": null,
            "max_height": null,
            "max_width": null,
            "min_height": null,
            "min_width": null,
            "object_fit": null,
            "object_position": null,
            "order": null,
            "overflow": null,
            "overflow_x": null,
            "overflow_y": null,
            "padding": null,
            "right": null,
            "top": null,
            "visibility": null,
            "width": null
          }
        },
        "3295b00171a24a15a64fb0c40c95d123": {
          "model_module": "@jupyter-widgets/base",
          "model_name": "LayoutModel",
          "model_module_version": "1.2.0",
          "state": {
            "_model_module": "@jupyter-widgets/base",
            "_model_module_version": "1.2.0",
            "_model_name": "LayoutModel",
            "_view_count": null,
            "_view_module": "@jupyter-widgets/base",
            "_view_module_version": "1.2.0",
            "_view_name": "LayoutView",
            "align_content": null,
            "align_items": null,
            "align_self": null,
            "border": null,
            "bottom": null,
            "display": null,
            "flex": null,
            "flex_flow": null,
            "grid_area": null,
            "grid_auto_columns": null,
            "grid_auto_flow": null,
            "grid_auto_rows": null,
            "grid_column": null,
            "grid_gap": null,
            "grid_row": null,
            "grid_template_areas": null,
            "grid_template_columns": null,
            "grid_template_rows": null,
            "height": null,
            "justify_content": null,
            "justify_items": null,
            "left": null,
            "margin": null,
            "max_height": null,
            "max_width": null,
            "min_height": null,
            "min_width": null,
            "object_fit": null,
            "object_position": null,
            "order": null,
            "overflow": null,
            "overflow_x": null,
            "overflow_y": null,
            "padding": null,
            "right": null,
            "top": null,
            "visibility": null,
            "width": null
          }
        },
        "7394dde33ce84b79920d7c5d7d79dec5": {
          "model_module": "@jupyter-widgets/controls",
          "model_name": "DescriptionStyleModel",
          "model_module_version": "1.5.0",
          "state": {
            "_model_module": "@jupyter-widgets/controls",
            "_model_module_version": "1.5.0",
            "_model_name": "DescriptionStyleModel",
            "_view_count": null,
            "_view_module": "@jupyter-widgets/base",
            "_view_module_version": "1.2.0",
            "_view_name": "StyleView",
            "description_width": ""
          }
        },
        "f01ddad4bd064d5d9c795777b26fa604": {
          "model_module": "@jupyter-widgets/base",
          "model_name": "LayoutModel",
          "model_module_version": "1.2.0",
          "state": {
            "_model_module": "@jupyter-widgets/base",
            "_model_module_version": "1.2.0",
            "_model_name": "LayoutModel",
            "_view_count": null,
            "_view_module": "@jupyter-widgets/base",
            "_view_module_version": "1.2.0",
            "_view_name": "LayoutView",
            "align_content": null,
            "align_items": null,
            "align_self": null,
            "border": null,
            "bottom": null,
            "display": null,
            "flex": null,
            "flex_flow": null,
            "grid_area": null,
            "grid_auto_columns": null,
            "grid_auto_flow": null,
            "grid_auto_rows": null,
            "grid_column": null,
            "grid_gap": null,
            "grid_row": null,
            "grid_template_areas": null,
            "grid_template_columns": null,
            "grid_template_rows": null,
            "height": null,
            "justify_content": null,
            "justify_items": null,
            "left": null,
            "margin": null,
            "max_height": null,
            "max_width": null,
            "min_height": null,
            "min_width": null,
            "object_fit": null,
            "object_position": null,
            "order": null,
            "overflow": null,
            "overflow_x": null,
            "overflow_y": null,
            "padding": null,
            "right": null,
            "top": null,
            "visibility": null,
            "width": null
          }
        },
        "dc6d123099d14234b854f3bbfefe7ed7": {
          "model_module": "@jupyter-widgets/controls",
          "model_name": "ProgressStyleModel",
          "model_module_version": "1.5.0",
          "state": {
            "_model_module": "@jupyter-widgets/controls",
            "_model_module_version": "1.5.0",
            "_model_name": "ProgressStyleModel",
            "_view_count": null,
            "_view_module": "@jupyter-widgets/base",
            "_view_module_version": "1.2.0",
            "_view_name": "StyleView",
            "bar_color": null,
            "description_width": ""
          }
        },
        "f8ac1dd9a8d94fb3b70e64f9a4743bf9": {
          "model_module": "@jupyter-widgets/base",
          "model_name": "LayoutModel",
          "model_module_version": "1.2.0",
          "state": {
            "_model_module": "@jupyter-widgets/base",
            "_model_module_version": "1.2.0",
            "_model_name": "LayoutModel",
            "_view_count": null,
            "_view_module": "@jupyter-widgets/base",
            "_view_module_version": "1.2.0",
            "_view_name": "LayoutView",
            "align_content": null,
            "align_items": null,
            "align_self": null,
            "border": null,
            "bottom": null,
            "display": null,
            "flex": null,
            "flex_flow": null,
            "grid_area": null,
            "grid_auto_columns": null,
            "grid_auto_flow": null,
            "grid_auto_rows": null,
            "grid_column": null,
            "grid_gap": null,
            "grid_row": null,
            "grid_template_areas": null,
            "grid_template_columns": null,
            "grid_template_rows": null,
            "height": null,
            "justify_content": null,
            "justify_items": null,
            "left": null,
            "margin": null,
            "max_height": null,
            "max_width": null,
            "min_height": null,
            "min_width": null,
            "object_fit": null,
            "object_position": null,
            "order": null,
            "overflow": null,
            "overflow_x": null,
            "overflow_y": null,
            "padding": null,
            "right": null,
            "top": null,
            "visibility": null,
            "width": null
          }
        },
        "7b8bc8a41fa44e0e9fcd1d488e806d93": {
          "model_module": "@jupyter-widgets/controls",
          "model_name": "DescriptionStyleModel",
          "model_module_version": "1.5.0",
          "state": {
            "_model_module": "@jupyter-widgets/controls",
            "_model_module_version": "1.5.0",
            "_model_name": "DescriptionStyleModel",
            "_view_count": null,
            "_view_module": "@jupyter-widgets/base",
            "_view_module_version": "1.2.0",
            "_view_name": "StyleView",
            "description_width": ""
          }
        }
      }
    }
  },
  "nbformat": 4,
  "nbformat_minor": 0
}