{
  "cells": [
    {
      "cell_type": "markdown",
      "metadata": {
        "id": "view-in-github",
        "colab_type": "text"
      },
      "source": [
        "<a href=\"https://colab.research.google.com/github/illliyas/Machine-Learning/blob/master/tweets/Live_Coding.ipynb\" target=\"_parent\"><img src=\"https://colab.research.google.com/assets/colab-badge.svg\" alt=\"Open In Colab\"/></a>"
      ]
    },
    {
      "cell_type": "code",
      "source": [
        "!pip install bertopic\n",
        "!pip install joblib==1.1.0"
      ],
      "metadata": {
        "colab": {
          "base_uri": "https://localhost:8080/"
        },
        "id": "qRwOYt_nSyF8",
        "outputId": "33c3a496-1773-49da-e410-1b0054943d71"
      },
      "execution_count": 1,
      "outputs": [
        {
          "output_type": "stream",
          "name": "stdout",
          "text": [
            "Looking in indexes: https://pypi.org/simple, https://us-python.pkg.dev/colab-wheels/public/simple/\n",
            "Requirement already satisfied: bertopic in /usr/local/lib/python3.7/dist-packages (0.12.0)\n",
            "Requirement already satisfied: sentence-transformers>=0.4.1 in /usr/local/lib/python3.7/dist-packages (from bertopic) (2.2.2)\n",
            "Requirement already satisfied: plotly>=4.7.0 in /usr/local/lib/python3.7/dist-packages (from bertopic) (5.5.0)\n",
            "Requirement already satisfied: scikit-learn>=0.22.2.post1 in /usr/local/lib/python3.7/dist-packages (from bertopic) (1.0.2)\n",
            "Requirement already satisfied: pyyaml<6.0 in /usr/local/lib/python3.7/dist-packages (from bertopic) (5.4.1)\n",
            "Requirement already satisfied: umap-learn>=0.5.0 in /usr/local/lib/python3.7/dist-packages (from bertopic) (0.5.3)\n",
            "Requirement already satisfied: pandas>=1.1.5 in /usr/local/lib/python3.7/dist-packages (from bertopic) (1.3.5)\n",
            "Requirement already satisfied: numpy>=1.20.0 in /usr/local/lib/python3.7/dist-packages (from bertopic) (1.21.6)\n",
            "Requirement already satisfied: tqdm>=4.41.1 in /usr/local/lib/python3.7/dist-packages (from bertopic) (4.64.1)\n",
            "Requirement already satisfied: hdbscan>=0.8.28 in /usr/local/lib/python3.7/dist-packages (from bertopic) (0.8.29)\n",
            "Requirement already satisfied: joblib>=1.0 in /usr/local/lib/python3.7/dist-packages (from hdbscan>=0.8.28->bertopic) (1.1.0)\n",
            "Requirement already satisfied: scipy>=1.0 in /usr/local/lib/python3.7/dist-packages (from hdbscan>=0.8.28->bertopic) (1.7.3)\n",
            "Requirement already satisfied: cython>=0.27 in /usr/local/lib/python3.7/dist-packages (from hdbscan>=0.8.28->bertopic) (0.29.32)\n",
            "Requirement already satisfied: pytz>=2017.3 in /usr/local/lib/python3.7/dist-packages (from pandas>=1.1.5->bertopic) (2022.6)\n",
            "Requirement already satisfied: python-dateutil>=2.7.3 in /usr/local/lib/python3.7/dist-packages (from pandas>=1.1.5->bertopic) (2.8.2)\n",
            "Requirement already satisfied: six in /usr/local/lib/python3.7/dist-packages (from plotly>=4.7.0->bertopic) (1.15.0)\n",
            "Requirement already satisfied: tenacity>=6.2.0 in /usr/local/lib/python3.7/dist-packages (from plotly>=4.7.0->bertopic) (8.1.0)\n",
            "Requirement already satisfied: threadpoolctl>=2.0.0 in /usr/local/lib/python3.7/dist-packages (from scikit-learn>=0.22.2.post1->bertopic) (3.1.0)\n",
            "Requirement already satisfied: sentencepiece in /usr/local/lib/python3.7/dist-packages (from sentence-transformers>=0.4.1->bertopic) (0.1.97)\n",
            "Requirement already satisfied: torch>=1.6.0 in /usr/local/lib/python3.7/dist-packages (from sentence-transformers>=0.4.1->bertopic) (1.12.1+cu113)\n",
            "Requirement already satisfied: transformers<5.0.0,>=4.6.0 in /usr/local/lib/python3.7/dist-packages (from sentence-transformers>=0.4.1->bertopic) (4.24.0)\n",
            "Requirement already satisfied: nltk in /usr/local/lib/python3.7/dist-packages (from sentence-transformers>=0.4.1->bertopic) (3.7)\n",
            "Requirement already satisfied: torchvision in /usr/local/lib/python3.7/dist-packages (from sentence-transformers>=0.4.1->bertopic) (0.13.1+cu113)\n",
            "Requirement already satisfied: huggingface-hub>=0.4.0 in /usr/local/lib/python3.7/dist-packages (from sentence-transformers>=0.4.1->bertopic) (0.11.0)\n",
            "Requirement already satisfied: typing-extensions>=3.7.4.3 in /usr/local/lib/python3.7/dist-packages (from huggingface-hub>=0.4.0->sentence-transformers>=0.4.1->bertopic) (4.1.1)\n",
            "Requirement already satisfied: importlib-metadata in /usr/local/lib/python3.7/dist-packages (from huggingface-hub>=0.4.0->sentence-transformers>=0.4.1->bertopic) (4.13.0)\n",
            "Requirement already satisfied: filelock in /usr/local/lib/python3.7/dist-packages (from huggingface-hub>=0.4.0->sentence-transformers>=0.4.1->bertopic) (3.8.0)\n",
            "Requirement already satisfied: packaging>=20.9 in /usr/local/lib/python3.7/dist-packages (from huggingface-hub>=0.4.0->sentence-transformers>=0.4.1->bertopic) (21.3)\n",
            "Requirement already satisfied: requests in /usr/local/lib/python3.7/dist-packages (from huggingface-hub>=0.4.0->sentence-transformers>=0.4.1->bertopic) (2.23.0)\n",
            "Requirement already satisfied: pyparsing!=3.0.5,>=2.0.2 in /usr/local/lib/python3.7/dist-packages (from packaging>=20.9->huggingface-hub>=0.4.0->sentence-transformers>=0.4.1->bertopic) (3.0.9)\n",
            "Requirement already satisfied: regex!=2019.12.17 in /usr/local/lib/python3.7/dist-packages (from transformers<5.0.0,>=4.6.0->sentence-transformers>=0.4.1->bertopic) (2022.6.2)\n",
            "Requirement already satisfied: tokenizers!=0.11.3,<0.14,>=0.11.1 in /usr/local/lib/python3.7/dist-packages (from transformers<5.0.0,>=4.6.0->sentence-transformers>=0.4.1->bertopic) (0.13.2)\n",
            "Requirement already satisfied: pynndescent>=0.5 in /usr/local/lib/python3.7/dist-packages (from umap-learn>=0.5.0->bertopic) (0.5.8)\n",
            "Requirement already satisfied: numba>=0.49 in /usr/local/lib/python3.7/dist-packages (from umap-learn>=0.5.0->bertopic) (0.56.4)\n",
            "Requirement already satisfied: llvmlite<0.40,>=0.39.0dev0 in /usr/local/lib/python3.7/dist-packages (from numba>=0.49->umap-learn>=0.5.0->bertopic) (0.39.1)\n",
            "Requirement already satisfied: setuptools in /usr/local/lib/python3.7/dist-packages (from numba>=0.49->umap-learn>=0.5.0->bertopic) (57.4.0)\n",
            "Requirement already satisfied: zipp>=0.5 in /usr/local/lib/python3.7/dist-packages (from importlib-metadata->huggingface-hub>=0.4.0->sentence-transformers>=0.4.1->bertopic) (3.10.0)\n",
            "Requirement already satisfied: click in /usr/local/lib/python3.7/dist-packages (from nltk->sentence-transformers>=0.4.1->bertopic) (7.1.2)\n",
            "Requirement already satisfied: urllib3!=1.25.0,!=1.25.1,<1.26,>=1.21.1 in /usr/local/lib/python3.7/dist-packages (from requests->huggingface-hub>=0.4.0->sentence-transformers>=0.4.1->bertopic) (1.24.3)\n",
            "Requirement already satisfied: certifi>=2017.4.17 in /usr/local/lib/python3.7/dist-packages (from requests->huggingface-hub>=0.4.0->sentence-transformers>=0.4.1->bertopic) (2022.9.24)\n",
            "Requirement already satisfied: chardet<4,>=3.0.2 in /usr/local/lib/python3.7/dist-packages (from requests->huggingface-hub>=0.4.0->sentence-transformers>=0.4.1->bertopic) (3.0.4)\n",
            "Requirement already satisfied: idna<3,>=2.5 in /usr/local/lib/python3.7/dist-packages (from requests->huggingface-hub>=0.4.0->sentence-transformers>=0.4.1->bertopic) (2.10)\n",
            "Requirement already satisfied: pillow!=8.3.*,>=5.3.0 in /usr/local/lib/python3.7/dist-packages (from torchvision->sentence-transformers>=0.4.1->bertopic) (7.1.2)\n",
            "Looking in indexes: https://pypi.org/simple, https://us-python.pkg.dev/colab-wheels/public/simple/\n",
            "Requirement already satisfied: joblib==1.1.0 in /usr/local/lib/python3.7/dist-packages (1.1.0)\n"
          ]
        }
      ]
    },
    {
      "cell_type": "code",
      "source": [
        "#Lets import important libraries\n",
        "import pandas as pd\n",
        "import re\n",
        "import nltk\n",
        "from nltk.corpus import stopwords\n",
        "from nltk.stem import WordNetLemmatizer\n",
        "from nltk.tokenize import word_tokenize\n",
        "from bertopic import BERTopic"
      ],
      "metadata": {
        "id": "fgZ886uMN_wt"
      },
      "execution_count": 2,
      "outputs": []
    },
    {
      "cell_type": "code",
      "source": [
        "nltk.download('punkt')\n",
        "nltk.download('wordnet')\n",
        "nltk.download('omw-1.4')\n",
        "nltk.download('stopwords')"
      ],
      "metadata": {
        "colab": {
          "base_uri": "https://localhost:8080/"
        },
        "id": "cCSRMPEFPDjo",
        "outputId": "9e93b177-b49d-436f-894e-7ad1fd3179e5"
      },
      "execution_count": 3,
      "outputs": [
        {
          "output_type": "stream",
          "name": "stderr",
          "text": [
            "[nltk_data] Downloading package punkt to /root/nltk_data...\n",
            "[nltk_data]   Package punkt is already up-to-date!\n",
            "[nltk_data] Downloading package wordnet to /root/nltk_data...\n",
            "[nltk_data]   Package wordnet is already up-to-date!\n",
            "[nltk_data] Downloading package omw-1.4 to /root/nltk_data...\n",
            "[nltk_data]   Package omw-1.4 is already up-to-date!\n",
            "[nltk_data] Downloading package stopwords to /root/nltk_data...\n",
            "[nltk_data]   Package stopwords is already up-to-date!\n"
          ]
        },
        {
          "output_type": "execute_result",
          "data": {
            "text/plain": [
              "True"
            ]
          },
          "metadata": {},
          "execution_count": 3
        }
      ]
    },
    {
      "cell_type": "code",
      "source": [
        "df = pd.read_csv('ek_tweets7.csv')"
      ],
      "metadata": {
        "id": "6Smv4Hi4N7Ru"
      },
      "execution_count": 4,
      "outputs": []
    },
    {
      "cell_type": "code",
      "source": [
        "df.head()"
      ],
      "metadata": {
        "id": "0rdlEMmOUpqh",
        "outputId": "cf0e9b88-3ceb-4006-860a-1d6c9d44e5ba",
        "colab": {
          "base_uri": "https://localhost:8080/",
          "height": 354
        }
      },
      "execution_count": 73,
      "outputs": [
        {
          "output_type": "execute_result",
          "data": {
            "text/plain": [
              "      author id                 created_at geo            id lang  like_count  \\\n",
              "0  3.278147e+09  2022-10-06 01:48:35+00:00      1.580000e+18   en           0   \n",
              "1  1.304480e+08  2022-10-06 02:34:23+00:00      1.580000e+18   en           0   \n",
              "2  1.693349e+08  2022-10-06 04:37:50+00:00      1.580000e+18   en           0   \n",
              "3  4.855336e+08  2022-10-06 04:41:22+00:00      1.580000e+18   en           0   \n",
              "4  6.556422e+07  2022-10-06 06:29:02+00:00      1.580000e+18   en           0   \n",
              "\n",
              "   quote_count  reply_count  retweet_count               source  \\\n",
              "0            0            0              0  Twitter for Android   \n",
              "1            0            1              0   Twitter for iPhone   \n",
              "2            0            0              0      Twitter Web App   \n",
              "3            0            1              0   Twitter for iPhone   \n",
              "4            0            1              0   Twitter for iPhone   \n",
              "\n",
              "                                               tweet  \n",
              "0  @EmiratesSupport Thanks for the support, hope ...  \n",
              "1  @EmiratesSupport Have replied to message. Plea...  \n",
              "2  @EmiratesSupport @EmiratesSupport i have DM'd ...  \n",
              "3              @EmiratesSupport sent you a dm Janine  \n",
              "4  @EmiratesSupport I have been mailing for fligh...  "
            ],
            "text/html": [
              "\n",
              "  <div id=\"df-1b84c226-aa66-48c4-8ad3-d5f40553e953\">\n",
              "    <div class=\"colab-df-container\">\n",
              "      <div>\n",
              "<style scoped>\n",
              "    .dataframe tbody tr th:only-of-type {\n",
              "        vertical-align: middle;\n",
              "    }\n",
              "\n",
              "    .dataframe tbody tr th {\n",
              "        vertical-align: top;\n",
              "    }\n",
              "\n",
              "    .dataframe thead th {\n",
              "        text-align: right;\n",
              "    }\n",
              "</style>\n",
              "<table border=\"1\" class=\"dataframe\">\n",
              "  <thead>\n",
              "    <tr style=\"text-align: right;\">\n",
              "      <th></th>\n",
              "      <th>author id</th>\n",
              "      <th>created_at</th>\n",
              "      <th>geo</th>\n",
              "      <th>id</th>\n",
              "      <th>lang</th>\n",
              "      <th>like_count</th>\n",
              "      <th>quote_count</th>\n",
              "      <th>reply_count</th>\n",
              "      <th>retweet_count</th>\n",
              "      <th>source</th>\n",
              "      <th>tweet</th>\n",
              "    </tr>\n",
              "  </thead>\n",
              "  <tbody>\n",
              "    <tr>\n",
              "      <th>0</th>\n",
              "      <td>3.278147e+09</td>\n",
              "      <td>2022-10-06 01:48:35+00:00</td>\n",
              "      <td></td>\n",
              "      <td>1.580000e+18</td>\n",
              "      <td>en</td>\n",
              "      <td>0</td>\n",
              "      <td>0</td>\n",
              "      <td>0</td>\n",
              "      <td>0</td>\n",
              "      <td>Twitter for Android</td>\n",
              "      <td>@EmiratesSupport Thanks for the support, hope ...</td>\n",
              "    </tr>\n",
              "    <tr>\n",
              "      <th>1</th>\n",
              "      <td>1.304480e+08</td>\n",
              "      <td>2022-10-06 02:34:23+00:00</td>\n",
              "      <td></td>\n",
              "      <td>1.580000e+18</td>\n",
              "      <td>en</td>\n",
              "      <td>0</td>\n",
              "      <td>0</td>\n",
              "      <td>1</td>\n",
              "      <td>0</td>\n",
              "      <td>Twitter for iPhone</td>\n",
              "      <td>@EmiratesSupport Have replied to message. Plea...</td>\n",
              "    </tr>\n",
              "    <tr>\n",
              "      <th>2</th>\n",
              "      <td>1.693349e+08</td>\n",
              "      <td>2022-10-06 04:37:50+00:00</td>\n",
              "      <td></td>\n",
              "      <td>1.580000e+18</td>\n",
              "      <td>en</td>\n",
              "      <td>0</td>\n",
              "      <td>0</td>\n",
              "      <td>0</td>\n",
              "      <td>0</td>\n",
              "      <td>Twitter Web App</td>\n",
              "      <td>@EmiratesSupport @EmiratesSupport i have DM'd ...</td>\n",
              "    </tr>\n",
              "    <tr>\n",
              "      <th>3</th>\n",
              "      <td>4.855336e+08</td>\n",
              "      <td>2022-10-06 04:41:22+00:00</td>\n",
              "      <td></td>\n",
              "      <td>1.580000e+18</td>\n",
              "      <td>en</td>\n",
              "      <td>0</td>\n",
              "      <td>0</td>\n",
              "      <td>1</td>\n",
              "      <td>0</td>\n",
              "      <td>Twitter for iPhone</td>\n",
              "      <td>@EmiratesSupport sent you a dm Janine</td>\n",
              "    </tr>\n",
              "    <tr>\n",
              "      <th>4</th>\n",
              "      <td>6.556422e+07</td>\n",
              "      <td>2022-10-06 06:29:02+00:00</td>\n",
              "      <td></td>\n",
              "      <td>1.580000e+18</td>\n",
              "      <td>en</td>\n",
              "      <td>0</td>\n",
              "      <td>0</td>\n",
              "      <td>1</td>\n",
              "      <td>0</td>\n",
              "      <td>Twitter for iPhone</td>\n",
              "      <td>@EmiratesSupport I have been mailing for fligh...</td>\n",
              "    </tr>\n",
              "  </tbody>\n",
              "</table>\n",
              "</div>\n",
              "      <button class=\"colab-df-convert\" onclick=\"convertToInteractive('df-1b84c226-aa66-48c4-8ad3-d5f40553e953')\"\n",
              "              title=\"Convert this dataframe to an interactive table.\"\n",
              "              style=\"display:none;\">\n",
              "        \n",
              "  <svg xmlns=\"http://www.w3.org/2000/svg\" height=\"24px\"viewBox=\"0 0 24 24\"\n",
              "       width=\"24px\">\n",
              "    <path d=\"M0 0h24v24H0V0z\" fill=\"none\"/>\n",
              "    <path d=\"M18.56 5.44l.94 2.06.94-2.06 2.06-.94-2.06-.94-.94-2.06-.94 2.06-2.06.94zm-11 1L8.5 8.5l.94-2.06 2.06-.94-2.06-.94L8.5 2.5l-.94 2.06-2.06.94zm10 10l.94 2.06.94-2.06 2.06-.94-2.06-.94-.94-2.06-.94 2.06-2.06.94z\"/><path d=\"M17.41 7.96l-1.37-1.37c-.4-.4-.92-.59-1.43-.59-.52 0-1.04.2-1.43.59L10.3 9.45l-7.72 7.72c-.78.78-.78 2.05 0 2.83L4 21.41c.39.39.9.59 1.41.59.51 0 1.02-.2 1.41-.59l7.78-7.78 2.81-2.81c.8-.78.8-2.07 0-2.86zM5.41 20L4 18.59l7.72-7.72 1.47 1.35L5.41 20z\"/>\n",
              "  </svg>\n",
              "      </button>\n",
              "      \n",
              "  <style>\n",
              "    .colab-df-container {\n",
              "      display:flex;\n",
              "      flex-wrap:wrap;\n",
              "      gap: 12px;\n",
              "    }\n",
              "\n",
              "    .colab-df-convert {\n",
              "      background-color: #E8F0FE;\n",
              "      border: none;\n",
              "      border-radius: 50%;\n",
              "      cursor: pointer;\n",
              "      display: none;\n",
              "      fill: #1967D2;\n",
              "      height: 32px;\n",
              "      padding: 0 0 0 0;\n",
              "      width: 32px;\n",
              "    }\n",
              "\n",
              "    .colab-df-convert:hover {\n",
              "      background-color: #E2EBFA;\n",
              "      box-shadow: 0px 1px 2px rgba(60, 64, 67, 0.3), 0px 1px 3px 1px rgba(60, 64, 67, 0.15);\n",
              "      fill: #174EA6;\n",
              "    }\n",
              "\n",
              "    [theme=dark] .colab-df-convert {\n",
              "      background-color: #3B4455;\n",
              "      fill: #D2E3FC;\n",
              "    }\n",
              "\n",
              "    [theme=dark] .colab-df-convert:hover {\n",
              "      background-color: #434B5C;\n",
              "      box-shadow: 0px 1px 3px 1px rgba(0, 0, 0, 0.15);\n",
              "      filter: drop-shadow(0px 1px 2px rgba(0, 0, 0, 0.3));\n",
              "      fill: #FFFFFF;\n",
              "    }\n",
              "  </style>\n",
              "\n",
              "      <script>\n",
              "        const buttonEl =\n",
              "          document.querySelector('#df-1b84c226-aa66-48c4-8ad3-d5f40553e953 button.colab-df-convert');\n",
              "        buttonEl.style.display =\n",
              "          google.colab.kernel.accessAllowed ? 'block' : 'none';\n",
              "\n",
              "        async function convertToInteractive(key) {\n",
              "          const element = document.querySelector('#df-1b84c226-aa66-48c4-8ad3-d5f40553e953');\n",
              "          const dataTable =\n",
              "            await google.colab.kernel.invokeFunction('convertToInteractive',\n",
              "                                                     [key], {});\n",
              "          if (!dataTable) return;\n",
              "\n",
              "          const docLinkHtml = 'Like what you see? Visit the ' +\n",
              "            '<a target=\"_blank\" href=https://colab.research.google.com/notebooks/data_table.ipynb>data table notebook</a>'\n",
              "            + ' to learn more about interactive tables.';\n",
              "          element.innerHTML = '';\n",
              "          dataTable['output_type'] = 'display_data';\n",
              "          await google.colab.output.renderOutput(dataTable, element);\n",
              "          const docLink = document.createElement('div');\n",
              "          docLink.innerHTML = docLinkHtml;\n",
              "          element.appendChild(docLink);\n",
              "        }\n",
              "      </script>\n",
              "    </div>\n",
              "  </div>\n",
              "  "
            ]
          },
          "metadata": {},
          "execution_count": 73
        }
      ]
    },
    {
      "cell_type": "code",
      "source": [
        "df.info()"
      ],
      "metadata": {
        "id": "VxLy09hIUu67",
        "outputId": "309be04f-8924-4aa5-c328-3e5ca609af04",
        "colab": {
          "base_uri": "https://localhost:8080/"
        }
      },
      "execution_count": 74,
      "outputs": [
        {
          "output_type": "stream",
          "name": "stdout",
          "text": [
            "<class 'pandas.core.frame.DataFrame'>\n",
            "RangeIndex: 934 entries, 0 to 933\n",
            "Data columns (total 11 columns):\n",
            " #   Column         Non-Null Count  Dtype  \n",
            "---  ------         --------------  -----  \n",
            " 0   author id      934 non-null    float64\n",
            " 1   created_at     934 non-null    object \n",
            " 2   geo            934 non-null    object \n",
            " 3   id             934 non-null    float64\n",
            " 4   lang           934 non-null    object \n",
            " 5   like_count     934 non-null    int64  \n",
            " 6   quote_count    934 non-null    int64  \n",
            " 7   reply_count    934 non-null    int64  \n",
            " 8   retweet_count  934 non-null    int64  \n",
            " 9   source         934 non-null    object \n",
            " 10  tweet          934 non-null    object \n",
            "dtypes: float64(2), int64(4), object(5)\n",
            "memory usage: 80.4+ KB\n"
          ]
        }
      ]
    },
    {
      "cell_type": "code",
      "source": [
        "df = df.drop_duplicates(subset='tweet', keep=\"first\")"
      ],
      "metadata": {
        "id": "xnzeYuLOcV3Z"
      },
      "execution_count": 5,
      "outputs": []
    },
    {
      "cell_type": "code",
      "source": [
        "df."
      ],
      "metadata": {
        "id": "-lIJnbDYc8S-",
        "outputId": "74b9fbec-664a-4439-8efb-f810869fead0",
        "colab": {
          "base_uri": "https://localhost:8080/"
        }
      },
      "execution_count": 77,
      "outputs": [
        {
          "output_type": "stream",
          "name": "stdout",
          "text": [
            "<class 'pandas.core.frame.DataFrame'>\n",
            "Int64Index: 903 entries, 0 to 933\n",
            "Data columns (total 11 columns):\n",
            " #   Column         Non-Null Count  Dtype  \n",
            "---  ------         --------------  -----  \n",
            " 0   author id      903 non-null    float64\n",
            " 1   created_at     903 non-null    object \n",
            " 2   geo            903 non-null    object \n",
            " 3   id             903 non-null    float64\n",
            " 4   lang           903 non-null    object \n",
            " 5   like_count     903 non-null    int64  \n",
            " 6   quote_count    903 non-null    int64  \n",
            " 7   reply_count    903 non-null    int64  \n",
            " 8   retweet_count  903 non-null    int64  \n",
            " 9   source         903 non-null    object \n",
            " 10  tweet          903 non-null    object \n",
            "dtypes: float64(2), int64(4), object(5)\n",
            "memory usage: 84.7+ KB\n"
          ]
        }
      ]
    },
    {
      "cell_type": "code",
      "source": [
        "list(df['tweet'][106:120])"
      ],
      "metadata": {
        "id": "QCla6nGpU3HB",
        "outputId": "e25dd7e2-fc8c-477a-b740-0df14b5a5bdd",
        "colab": {
          "base_uri": "https://localhost:8080/"
        }
      },
      "execution_count": 6,
      "outputs": [
        {
          "output_type": "execute_result",
          "data": {
            "text/plain": [
              "['@EmiratesSupport I booked my flight from HYD-EWR for 3rd Nov using Student offer... I just wanted to know if I can merge the extra 10kg baggage allowance as per student offer in the luggage itself or do I need to carry an extra baggage of 10kg separately. Please reply!',\n",
              " '@EmiratesSupport I have shared details in ur DM',\n",
              " '@EmiratesSupport I have now given up.  Possibly easy to take this to a small claims court when I return to Australia',\n",
              " '@EmiratesSupport Finally, almost 45 days after my bag was broken, I have an answer: please, wait 20 days more for a \"personalise response\". Seriously? @EmiratesSupport @emirates @facua https://t.co/UQmSUTN443',\n",
              " '@EmiratesSupport See you this Friday for the return trip back. 🙂',\n",
              " 'RT @fatman73: @EmiratesSupport @emirates @EmiratesSupport ticket cancelled on 07th Oct. Still no word from @emirates on refund amount and r…',\n",
              " '@EmiratesSupport The reply is useless I cannot submit the form. I paid over £3000 for my ticket and was delayed over 24 hours.. what characters are not acceptable 🤷\\u200d♀️ https://t.co/ExdzMyujgU',\n",
              " '@EmiratesSupport @emirates  I asked for Fragile sticker and ended with this. Despite official complaint and follow up for 18 days there is no resolution timeline and not even single follow up call. This is way below expectations. https://t.co/gCPzWkeHJf',\n",
              " '@EmiratesSupport  @DubaiAirports 65 days since my luggage is missing. Actually not missing, it has been located in @MumbaiAirport a month ago - instead of being sent to Kabul. Funny story - no one in @Emirates or in @Marhaba wants to take responsibility for the mistake https://t.co/GdIcXjDbM4',\n",
              " '@EmiratesSupport have submitted 2 complaints since the start of October. Any chance someone could respond to these emails?',\n",
              " '@EmiratesSupport Hi I have a Partner Visa from UAQ FTZ. What is the new time limit to stay out of UAE for such Visa holders?',\n",
              " \"@EmiratesSupport Hi. I tried to join your skywards program but filled in my name incorrectly and can't change it. I was told to use Live Chat but have been trying for almost 2 months and it is always busy and telling me to come back later and try again. Help please.\",\n",
              " '@EmiratesSupport  \\r\\nHi, just wondering how much does Emirates charge for extra luggage per kg. I am traveling from Chennai to Ireland.',\n",
              " '@EmiratesSupport PLEASE would someone answer the phone in London????  I have been on hold for TOOOO LONG!!!']"
            ]
          },
          "metadata": {},
          "execution_count": 6
        }
      ]
    },
    {
      "cell_type": "code",
      "source": [
        "stopwords"
      ],
      "metadata": {
        "id": "3SmhoL4jWNaN",
        "outputId": "a1e0d9f0-27d5-4b7f-bcbb-dec577a9f2a3",
        "colab": {
          "base_uri": "https://localhost:8080/"
        }
      },
      "execution_count": 17,
      "outputs": [
        {
          "output_type": "execute_result",
          "data": {
            "text/plain": [
              "<WordListCorpusReader in '.../corpora/stopwords' (not loaded yet)>"
            ]
          },
          "metadata": {},
          "execution_count": 17
        }
      ]
    },
    {
      "cell_type": "code",
      "source": [
        "sw = stopwords.words('english')\n",
        "lemmatizer = WordNetLemmatizer()"
      ],
      "metadata": {
        "id": "WpKU1YQBN61g"
      },
      "execution_count": 7,
      "outputs": []
    },
    {
      "cell_type": "code",
      "source": [],
      "metadata": {
        "id": "41xU6iKyWLjR"
      },
      "execution_count": null,
      "outputs": []
    },
    {
      "cell_type": "code",
      "source": [
        "def cleaning_tweets(tweet):\n",
        "    temp = tweet.lower()\n",
        "    #Removing hashtags and mentions\n",
        "    temp = re.sub(\"@[A-Za-z0-9_]+\",\"\", temp)\n",
        "    temp = re.sub(\"#[A-Za-z0-9_]+\",\"\", temp)\n",
        "    #Removing links\n",
        "    temp = re.sub(r\"http\\S+\", \"\", temp)\n",
        "    temp = re.sub(r\"www.\\S+\", \"\", temp)\n",
        "    #Removing punctuations\n",
        "    temp = re.sub('[()!?]', ' ', temp)\n",
        "    temp = re.sub('\\[.*?\\]',' ', temp)\n",
        "    #Filtering non-alphanumeric characters\n",
        "    temp = re.sub(\"[^a-z0-9]\",\" \", temp)\n",
        "    temp = re.sub(\"([a-z]*[0-9]+[a-z0-9]* )+\",\" \", temp)\n",
        "    #remove 2 letter words\n",
        "    temp = re.sub(r\"\\b[a-z]{2}\\b\",\" \", temp)\n",
        "    return temp\n",
        "\n",
        "def remove_stopwords(tweet):\n",
        "    words = word_tokenize(tweet)\n",
        "    words = [word for word in words if word not in sw]\n",
        "    words = [lemmatizer.lemmatize(word) for word in words]\n",
        "    return ' '.join(words) \n",
        "def number_of_words(tweet):\n",
        "  return len(word_tokenize(tweet))     "
      ],
      "metadata": {
        "id": "RyBk6HKLN6oK"
      },
      "execution_count": 8,
      "outputs": []
    },
    {
      "cell_type": "code",
      "source": [
        "df['tweet_clean'] = df.apply(lambda row: cleaning_tweets(row['tweet']),axis=1)\n",
        "df['tweet_clean2'] = df.apply(lambda row: remove_stopwords(row['tweet_clean']),axis=1)\n",
        "df['number_of_words'] = df.apply(lambda row: number_of_words(row['tweet_clean2']),axis=1)"
      ],
      "metadata": {
        "id": "Hpl7mT_hN6al"
      },
      "execution_count": 9,
      "outputs": []
    },
    {
      "cell_type": "code",
      "source": [
        "df2 = df[df['number_of_words']>2]\n",
        "df2=df2.reset_index()"
      ],
      "metadata": {
        "id": "750x1TnRN6C7"
      },
      "execution_count": 10,
      "outputs": []
    },
    {
      "cell_type": "code",
      "source": [
        "list(df2.tweet)[106:120]"
      ],
      "metadata": {
        "colab": {
          "base_uri": "https://localhost:8080/"
        },
        "id": "xPM5QjVXRTrL",
        "outputId": "bb9af683-2b9b-4e5a-be1d-402dba417b46"
      },
      "execution_count": 11,
      "outputs": [
        {
          "output_type": "execute_result",
          "data": {
            "text/plain": [
              "['@EmiratesSupport Hi I have a Partner Visa from UAQ FTZ. What is the new time limit to stay out of UAE for such Visa holders?',\n",
              " \"@EmiratesSupport Hi. I tried to join your skywards program but filled in my name incorrectly and can't change it. I was told to use Live Chat but have been trying for almost 2 months and it is always busy and telling me to come back later and try again. Help please.\",\n",
              " '@EmiratesSupport  \\r\\nHi, just wondering how much does Emirates charge for extra luggage per kg. I am traveling from Chennai to Ireland.',\n",
              " '@EmiratesSupport PLEASE would someone answer the phone in London????  I have been on hold for TOOOO LONG!!!',\n",
              " '@EmiratesSupport I’m a caregiver to my elderly sick mom who has cancer. Her wish is to do Umrah. To fly she needs a lay flat seat cuz she’s always in pain, tired &amp; needs to lie down. Need help getting an affordable lay flat seat in Business/First Class to get to Mecca. Expensive',\n",
              " '@EmiratesSupport hi, your pet form wasn’t working online. Can you transport a small cat on the Dubai-Yangon route operated by Emirates and Bangkok Airlines? Thanks',\n",
              " '@EmiratesSupport I emailed my complaint a couple of times with no successful reply',\n",
              " '@EmiratesSupport @emirates worst customer service of any airline I have dealt with. No answers on refund request for delayed and lost baggage. Filing a complaint with the Department of Transportation next if no response.',\n",
              " \"@EmiratesSupport sorry to say what it mean emirates support for what when people ask help from ground staff they didn't in which dept of emirates I had send emails tweet when arrive on 27th Feb 2019 duty manager ground staff from hyd to dubai no one help till today even ceo also\",\n",
              " '@EmiratesSupport need help getting into skywards account',\n",
              " '@EmiratesSupport pathetic experience on return flight EK -2124 from Dubai to New Delhi at 22:15 pm on 9 oct…. Flight was delayed… had no charger… no inhouse entertainment device.. no blankets…food was worse than domestic airlines',\n",
              " '@EmiratesSupport where was the ‘luxury’ experience that emirates promises? It was as if they decided to send us back in their oldest ever aircraft',\n",
              " '@EmiratesSupport how can you not have charging points especially when it is known that T2 of dubai airport has disabled charging points all over',\n",
              " '@EmiratesSupport extremely poor service….. nit going to recommend anyone instead discourage everyone from flying Emirates in future']"
            ]
          },
          "metadata": {},
          "execution_count": 11
        }
      ]
    },
    {
      "cell_type": "code",
      "source": [
        "list(df2.tweet_clean2)[106:120]"
      ],
      "metadata": {
        "colab": {
          "base_uri": "https://localhost:8080/"
        },
        "id": "Uk49Ox-YRbmA",
        "outputId": "136afebd-2b73-40ce-ab0b-66f9559188f5"
      },
      "execution_count": 12,
      "outputs": [
        {
          "output_type": "execute_result",
          "data": {
            "text/plain": [
              "['partner visa uaq ftz new time limit stay uae visa holder',\n",
              " 'tried join skywards program filled name incorrectly change told use live chat trying almost month always busy telling come back later try help please',\n",
              " 'wondering much emirate charge extra luggage per traveling chennai ireland',\n",
              " 'please would someone answer phone london hold toooo long',\n",
              " 'caregiver elderly sick mom cancer wish umrah fly need lay flat seat cuz always pain tired amp need lie need help getting affordable lay flat seat business first class get mecca expensive',\n",
              " 'pet form working online transport small cat dubai yangon route operated emirate bangkok airline thanks',\n",
              " 'emailed complaint couple time successful reply',\n",
              " 'worst customer service airline dealt answer refund request delayed lost baggage filing complaint department transportation next response',\n",
              " 'sorry say mean emirate support people ask help ground staff dept emirate send email tweet arrive feb duty manager ground staff hyd dubai one help till today even ceo also',\n",
              " 'need help getting skywards account',\n",
              " 'pathetic experience return flight dubai new delhi oct flight delayed charger inhouse entertainment device blanket food worse domestic airline',\n",
              " 'luxury experience emirate promise decided send back oldest ever aircraft',\n",
              " 'charging point especially known dubai airport disabled charging point',\n",
              " 'extremely poor service nit going recommend anyone instead discourage everyone flying emirate future']"
            ]
          },
          "metadata": {},
          "execution_count": 12
        }
      ]
    },
    {
      "cell_type": "code",
      "source": [],
      "metadata": {
        "id": "0nt3T32GSBFi"
      },
      "execution_count": null,
      "outputs": []
    },
    {
      "cell_type": "code",
      "source": [
        "df2['created_at'] = pd.to_datetime(df2['created_at'])\n",
        "tweets = df2.tweet_clean2.to_list()\n",
        "timestamps  = df2.created_at.to_list()"
      ],
      "metadata": {
        "id": "kc59CDYwSA57"
      },
      "execution_count": 13,
      "outputs": []
    },
    {
      "cell_type": "code",
      "source": [
        "model1 = BERTopic(verbose=True,embedding_model='all-MiniLM-L6-v2', min_topic_size= 6)\n",
        "topics, _ = model1.fit_transform(tweets)"
      ],
      "metadata": {
        "colab": {
          "base_uri": "https://localhost:8080/",
          "height": 101,
          "referenced_widgets": [
            "918d0de596fb41fea1078902c3d2dedb",
            "6b6364685c65402da2e3263a80ab58e5",
            "acf57ad10639450797c4c7324e21da8e",
            "10f0460adf014e389fe510b6c198bd4f",
            "f483bd0c46444f49a0cc520c88728dd8",
            "759a2716255c438ebedc7b55dfdde9a9",
            "090fc1d50db244838a1989f3a01400e1",
            "b5f139511715409290de7aecca345009",
            "002eef570a4543beb6b82d84452e36b8",
            "0d932a27f4ca4a89a3d5586c54dc2783",
            "65c8365f8d4940f58c0ca82eec158042"
          ]
        },
        "id": "rGJcWlfmSAWo",
        "outputId": "c357c948-e91e-4da4-8ed8-5da8a90b810f"
      },
      "execution_count": 14,
      "outputs": [
        {
          "output_type": "display_data",
          "data": {
            "text/plain": [
              "Batches:   0%|          | 0/27 [00:00<?, ?it/s]"
            ],
            "application/vnd.jupyter.widget-view+json": {
              "version_major": 2,
              "version_minor": 0,
              "model_id": "918d0de596fb41fea1078902c3d2dedb"
            }
          },
          "metadata": {}
        },
        {
          "output_type": "stream",
          "name": "stderr",
          "text": [
            "2022-11-19 19:58:07,562 - BERTopic - Transformed documents to Embeddings\n",
            "2022-11-19 19:58:15,468 - BERTopic - Reduced dimensionality\n",
            "2022-11-19 19:58:15,503 - BERTopic - Clustered reduced embeddings\n"
          ]
        }
      ]
    },
    {
      "cell_type": "code",
      "source": [
        "model1.get_topic_info()"
      ],
      "metadata": {
        "id": "Dundfj2GYJ45",
        "outputId": "f6f20b7e-c28f-4acd-97db-b756a64f2568",
        "colab": {
          "base_uri": "https://localhost:8080/",
          "height": 676
        }
      },
      "execution_count": 15,
      "outputs": [
        {
          "output_type": "execute_result",
          "data": {
            "text/plain": [
              "    Topic  Count                                Name\n",
              "0      -1    226       -1_flight_ticket_please_would\n",
              "1       0    145    0_emirate_dubai_flight_complaint\n",
              "2       1    112       1_bag_luggage_baggage_checked\n",
              "3       2     48        2_refund_cancel_rebook_money\n",
              "4       3     37          3_booking_call_help_ticket\n",
              "5       4     35     4_complaint_customer_email_take\n",
              "6       5     27   5_vaccination_vaccinated_pcr_test\n",
              "7       6     26      6_lounge_business_class_access\n",
              "8       7     22          7_sent_thanks_thank_prompt\n",
              "9       8     22       8_flight_chat_trying_possible\n",
              "10      9     20        9_seat_able_select_selection\n",
              "11     10     20              10_meal_food_nut_cater\n",
              "12     11     19  11_message_response_reply_messaged\n",
              "13     12     19       12_please_check_urgent_kindly\n",
              "14     13     18        13_mile_skyward_balance_help\n",
              "15     14     10        14_book_trying_error_website\n",
              "16     15      8       15_name_surname_first_payment\n",
              "17     16      8        16_counter_early_check_reach\n",
              "18     17      7           17_upgrade_help_paid_grab\n",
              "19     18      6       18_dublin_exhausted_five_star"
            ],
            "text/html": [
              "\n",
              "  <div id=\"df-42bfe7c0-1a1e-472c-95e4-67c9a7ef631f\">\n",
              "    <div class=\"colab-df-container\">\n",
              "      <div>\n",
              "<style scoped>\n",
              "    .dataframe tbody tr th:only-of-type {\n",
              "        vertical-align: middle;\n",
              "    }\n",
              "\n",
              "    .dataframe tbody tr th {\n",
              "        vertical-align: top;\n",
              "    }\n",
              "\n",
              "    .dataframe thead th {\n",
              "        text-align: right;\n",
              "    }\n",
              "</style>\n",
              "<table border=\"1\" class=\"dataframe\">\n",
              "  <thead>\n",
              "    <tr style=\"text-align: right;\">\n",
              "      <th></th>\n",
              "      <th>Topic</th>\n",
              "      <th>Count</th>\n",
              "      <th>Name</th>\n",
              "    </tr>\n",
              "  </thead>\n",
              "  <tbody>\n",
              "    <tr>\n",
              "      <th>0</th>\n",
              "      <td>-1</td>\n",
              "      <td>226</td>\n",
              "      <td>-1_flight_ticket_please_would</td>\n",
              "    </tr>\n",
              "    <tr>\n",
              "      <th>1</th>\n",
              "      <td>0</td>\n",
              "      <td>145</td>\n",
              "      <td>0_emirate_dubai_flight_complaint</td>\n",
              "    </tr>\n",
              "    <tr>\n",
              "      <th>2</th>\n",
              "      <td>1</td>\n",
              "      <td>112</td>\n",
              "      <td>1_bag_luggage_baggage_checked</td>\n",
              "    </tr>\n",
              "    <tr>\n",
              "      <th>3</th>\n",
              "      <td>2</td>\n",
              "      <td>48</td>\n",
              "      <td>2_refund_cancel_rebook_money</td>\n",
              "    </tr>\n",
              "    <tr>\n",
              "      <th>4</th>\n",
              "      <td>3</td>\n",
              "      <td>37</td>\n",
              "      <td>3_booking_call_help_ticket</td>\n",
              "    </tr>\n",
              "    <tr>\n",
              "      <th>5</th>\n",
              "      <td>4</td>\n",
              "      <td>35</td>\n",
              "      <td>4_complaint_customer_email_take</td>\n",
              "    </tr>\n",
              "    <tr>\n",
              "      <th>6</th>\n",
              "      <td>5</td>\n",
              "      <td>27</td>\n",
              "      <td>5_vaccination_vaccinated_pcr_test</td>\n",
              "    </tr>\n",
              "    <tr>\n",
              "      <th>7</th>\n",
              "      <td>6</td>\n",
              "      <td>26</td>\n",
              "      <td>6_lounge_business_class_access</td>\n",
              "    </tr>\n",
              "    <tr>\n",
              "      <th>8</th>\n",
              "      <td>7</td>\n",
              "      <td>22</td>\n",
              "      <td>7_sent_thanks_thank_prompt</td>\n",
              "    </tr>\n",
              "    <tr>\n",
              "      <th>9</th>\n",
              "      <td>8</td>\n",
              "      <td>22</td>\n",
              "      <td>8_flight_chat_trying_possible</td>\n",
              "    </tr>\n",
              "    <tr>\n",
              "      <th>10</th>\n",
              "      <td>9</td>\n",
              "      <td>20</td>\n",
              "      <td>9_seat_able_select_selection</td>\n",
              "    </tr>\n",
              "    <tr>\n",
              "      <th>11</th>\n",
              "      <td>10</td>\n",
              "      <td>20</td>\n",
              "      <td>10_meal_food_nut_cater</td>\n",
              "    </tr>\n",
              "    <tr>\n",
              "      <th>12</th>\n",
              "      <td>11</td>\n",
              "      <td>19</td>\n",
              "      <td>11_message_response_reply_messaged</td>\n",
              "    </tr>\n",
              "    <tr>\n",
              "      <th>13</th>\n",
              "      <td>12</td>\n",
              "      <td>19</td>\n",
              "      <td>12_please_check_urgent_kindly</td>\n",
              "    </tr>\n",
              "    <tr>\n",
              "      <th>14</th>\n",
              "      <td>13</td>\n",
              "      <td>18</td>\n",
              "      <td>13_mile_skyward_balance_help</td>\n",
              "    </tr>\n",
              "    <tr>\n",
              "      <th>15</th>\n",
              "      <td>14</td>\n",
              "      <td>10</td>\n",
              "      <td>14_book_trying_error_website</td>\n",
              "    </tr>\n",
              "    <tr>\n",
              "      <th>16</th>\n",
              "      <td>15</td>\n",
              "      <td>8</td>\n",
              "      <td>15_name_surname_first_payment</td>\n",
              "    </tr>\n",
              "    <tr>\n",
              "      <th>17</th>\n",
              "      <td>16</td>\n",
              "      <td>8</td>\n",
              "      <td>16_counter_early_check_reach</td>\n",
              "    </tr>\n",
              "    <tr>\n",
              "      <th>18</th>\n",
              "      <td>17</td>\n",
              "      <td>7</td>\n",
              "      <td>17_upgrade_help_paid_grab</td>\n",
              "    </tr>\n",
              "    <tr>\n",
              "      <th>19</th>\n",
              "      <td>18</td>\n",
              "      <td>6</td>\n",
              "      <td>18_dublin_exhausted_five_star</td>\n",
              "    </tr>\n",
              "  </tbody>\n",
              "</table>\n",
              "</div>\n",
              "      <button class=\"colab-df-convert\" onclick=\"convertToInteractive('df-42bfe7c0-1a1e-472c-95e4-67c9a7ef631f')\"\n",
              "              title=\"Convert this dataframe to an interactive table.\"\n",
              "              style=\"display:none;\">\n",
              "        \n",
              "  <svg xmlns=\"http://www.w3.org/2000/svg\" height=\"24px\"viewBox=\"0 0 24 24\"\n",
              "       width=\"24px\">\n",
              "    <path d=\"M0 0h24v24H0V0z\" fill=\"none\"/>\n",
              "    <path d=\"M18.56 5.44l.94 2.06.94-2.06 2.06-.94-2.06-.94-.94-2.06-.94 2.06-2.06.94zm-11 1L8.5 8.5l.94-2.06 2.06-.94-2.06-.94L8.5 2.5l-.94 2.06-2.06.94zm10 10l.94 2.06.94-2.06 2.06-.94-2.06-.94-.94-2.06-.94 2.06-2.06.94z\"/><path d=\"M17.41 7.96l-1.37-1.37c-.4-.4-.92-.59-1.43-.59-.52 0-1.04.2-1.43.59L10.3 9.45l-7.72 7.72c-.78.78-.78 2.05 0 2.83L4 21.41c.39.39.9.59 1.41.59.51 0 1.02-.2 1.41-.59l7.78-7.78 2.81-2.81c.8-.78.8-2.07 0-2.86zM5.41 20L4 18.59l7.72-7.72 1.47 1.35L5.41 20z\"/>\n",
              "  </svg>\n",
              "      </button>\n",
              "      \n",
              "  <style>\n",
              "    .colab-df-container {\n",
              "      display:flex;\n",
              "      flex-wrap:wrap;\n",
              "      gap: 12px;\n",
              "    }\n",
              "\n",
              "    .colab-df-convert {\n",
              "      background-color: #E8F0FE;\n",
              "      border: none;\n",
              "      border-radius: 50%;\n",
              "      cursor: pointer;\n",
              "      display: none;\n",
              "      fill: #1967D2;\n",
              "      height: 32px;\n",
              "      padding: 0 0 0 0;\n",
              "      width: 32px;\n",
              "    }\n",
              "\n",
              "    .colab-df-convert:hover {\n",
              "      background-color: #E2EBFA;\n",
              "      box-shadow: 0px 1px 2px rgba(60, 64, 67, 0.3), 0px 1px 3px 1px rgba(60, 64, 67, 0.15);\n",
              "      fill: #174EA6;\n",
              "    }\n",
              "\n",
              "    [theme=dark] .colab-df-convert {\n",
              "      background-color: #3B4455;\n",
              "      fill: #D2E3FC;\n",
              "    }\n",
              "\n",
              "    [theme=dark] .colab-df-convert:hover {\n",
              "      background-color: #434B5C;\n",
              "      box-shadow: 0px 1px 3px 1px rgba(0, 0, 0, 0.15);\n",
              "      filter: drop-shadow(0px 1px 2px rgba(0, 0, 0, 0.3));\n",
              "      fill: #FFFFFF;\n",
              "    }\n",
              "  </style>\n",
              "\n",
              "      <script>\n",
              "        const buttonEl =\n",
              "          document.querySelector('#df-42bfe7c0-1a1e-472c-95e4-67c9a7ef631f button.colab-df-convert');\n",
              "        buttonEl.style.display =\n",
              "          google.colab.kernel.accessAllowed ? 'block' : 'none';\n",
              "\n",
              "        async function convertToInteractive(key) {\n",
              "          const element = document.querySelector('#df-42bfe7c0-1a1e-472c-95e4-67c9a7ef631f');\n",
              "          const dataTable =\n",
              "            await google.colab.kernel.invokeFunction('convertToInteractive',\n",
              "                                                     [key], {});\n",
              "          if (!dataTable) return;\n",
              "\n",
              "          const docLinkHtml = 'Like what you see? Visit the ' +\n",
              "            '<a target=\"_blank\" href=https://colab.research.google.com/notebooks/data_table.ipynb>data table notebook</a>'\n",
              "            + ' to learn more about interactive tables.';\n",
              "          element.innerHTML = '';\n",
              "          dataTable['output_type'] = 'display_data';\n",
              "          await google.colab.output.renderOutput(dataTable, element);\n",
              "          const docLink = document.createElement('div');\n",
              "          docLink.innerHTML = docLinkHtml;\n",
              "          element.appendChild(docLink);\n",
              "        }\n",
              "      </script>\n",
              "    </div>\n",
              "  </div>\n",
              "  "
            ]
          },
          "metadata": {},
          "execution_count": 15
        }
      ]
    },
    {
      "cell_type": "code",
      "source": [
        "df2['tweet_topics'] = topics\n",
        "model1.topic_labels_"
      ],
      "metadata": {
        "colab": {
          "base_uri": "https://localhost:8080/"
        },
        "id": "0GpK7GzVXP0S",
        "outputId": "72ad1d49-7f37-4bca-9b66-ef1f150f22cb"
      },
      "execution_count": 16,
      "outputs": [
        {
          "output_type": "execute_result",
          "data": {
            "text/plain": [
              "{-1: '-1_flight_ticket_please_would',\n",
              " 0: '0_emirate_dubai_flight_complaint',\n",
              " 1: '1_bag_luggage_baggage_checked',\n",
              " 2: '2_refund_cancel_rebook_money',\n",
              " 3: '3_booking_call_help_ticket',\n",
              " 4: '4_complaint_customer_email_take',\n",
              " 5: '5_vaccination_vaccinated_pcr_test',\n",
              " 6: '6_lounge_business_class_access',\n",
              " 7: '7_sent_thanks_thank_prompt',\n",
              " 8: '8_flight_chat_trying_possible',\n",
              " 9: '9_seat_able_select_selection',\n",
              " 10: '10_meal_food_nut_cater',\n",
              " 11: '11_message_response_reply_messaged',\n",
              " 12: '12_please_check_urgent_kindly',\n",
              " 13: '13_mile_skyward_balance_help',\n",
              " 14: '14_book_trying_error_website',\n",
              " 15: '15_name_surname_first_payment',\n",
              " 16: '16_counter_early_check_reach',\n",
              " 17: '17_upgrade_help_paid_grab',\n",
              " 18: '18_dublin_exhausted_five_star'}"
            ]
          },
          "metadata": {},
          "execution_count": 16
        }
      ]
    },
    {
      "cell_type": "code",
      "source": [
        "model1.visualize_topics()"
      ],
      "metadata": {
        "colab": {
          "base_uri": "https://localhost:8080/",
          "height": 667
        },
        "id": "evMl8hGMXZ-5",
        "outputId": "642ebaf3-41b4-41cb-f320-a421e39941a3"
      },
      "execution_count": 17,
      "outputs": [
        {
          "output_type": "display_data",
          "data": {
            "text/html": [
              "<html>\n",
              "<head><meta charset=\"utf-8\" /></head>\n",
              "<body>\n",
              "    <div>            <script src=\"https://cdnjs.cloudflare.com/ajax/libs/mathjax/2.7.5/MathJax.js?config=TeX-AMS-MML_SVG\"></script><script type=\"text/javascript\">if (window.MathJax) {MathJax.Hub.Config({SVG: {font: \"STIX-Web\"}});}</script>                <script type=\"text/javascript\">window.PlotlyConfig = {MathJaxConfig: 'local'};</script>\n",
              "        <script src=\"https://cdn.plot.ly/plotly-2.8.3.min.js\"></script>                <div id=\"756d4585-9002-497d-b310-577630905d8e\" class=\"plotly-graph-div\" style=\"height:650px; width:650px;\"></div>            <script type=\"text/javascript\">                                    window.PLOTLYENV=window.PLOTLYENV || {};                                    if (document.getElementById(\"756d4585-9002-497d-b310-577630905d8e\")) {                    Plotly.newPlot(                        \"756d4585-9002-497d-b310-577630905d8e\",                        [{\"customdata\":[[0,\"emirate | dubai | flight | complaint | visa\",145],[1,\"bag | luggage | baggage | checked | emirate\",112],[2,\"refund | cancel | rebook | money | cancellation\",48],[3,\"booking | call | help | ticket | booked\",37],[4,\"complaint | customer | email | take | send\",35],[5,\"vaccination | vaccinated | pcr | test | covid\",27],[6,\"lounge | business | class | access | flying\",26],[7,\"sent | thanks | thank | prompt | done\",22],[8,\"flight | chat | trying | possible | live\",22],[9,\"seat | able | select | selection | bassinet\",20],[10,\"meal | food | nut | cater | offer\",20],[11,\"message | response | reply | messaged | information\",19],[12,\"please | check | urgent | kindly | anyone\",19],[13,\"mile | skyward | balance | help | account\",18],[14,\"book | trying | error | website | app\",10],[15,\"name | surname | first | payment | passport\",8],[16,\"counter | early | check | reach | fill\",8],[17,\"upgrade | help | paid | grab | refunding\",7],[18,\"dublin | exhausted | five | star | flight\",6]],\"hovertemplate\":\"<b>Topic %{customdata[0]}</b><br>Words: %{customdata[1]}<br>Size: %{customdata[2]}\",\"legendgroup\":\"\",\"marker\":{\"color\":\"#B0BEC5\",\"size\":[145,112,48,37,35,27,26,22,22,20,20,19,19,18,10,8,8,7,6],\"sizemode\":\"area\",\"sizeref\":0.090625,\"symbol\":\"circle\",\"line\":{\"color\":\"DarkSlateGrey\",\"width\":2}},\"mode\":\"markers\",\"name\":\"\",\"orientation\":\"v\",\"showlegend\":false,\"x\":[19.23405647277832,19.714088439941406,7.0233540534973145,7.676807880401611,6.807378768920898,19.375957489013672,6.925953388214111,6.149234771728516,6.921454429626465,8.002861976623535,8.361165046691895,6.360937595367432,5.909048080444336,9.577006340026855,10.431012153625488,7.526785373687744,6.493412971496582,10.397107124328613,10.766789436340332],\"xaxis\":\"x\",\"y\":[-8.574140548706055,-8.093646049499512,2.810045003890991,3.277498245239258,2.596564769744873,-8.432098388671875,4.277612686157227,-15.961581230163574,3.9268341064453125,3.2745649814605713,2.953186511993408,-16.172664642333984,-15.721576690673828,2.7711806297302246,1.9102755784988403,3.6552200317382812,2.3558647632598877,2.3136801719665527,2.1003191471099854],\"yaxis\":\"y\",\"type\":\"scatter\"}],                        {\"template\":{\"data\":{\"barpolar\":[{\"marker\":{\"line\":{\"color\":\"white\",\"width\":0.5},\"pattern\":{\"fillmode\":\"overlay\",\"size\":10,\"solidity\":0.2}},\"type\":\"barpolar\"}],\"bar\":[{\"error_x\":{\"color\":\"rgb(36,36,36)\"},\"error_y\":{\"color\":\"rgb(36,36,36)\"},\"marker\":{\"line\":{\"color\":\"white\",\"width\":0.5},\"pattern\":{\"fillmode\":\"overlay\",\"size\":10,\"solidity\":0.2}},\"type\":\"bar\"}],\"carpet\":[{\"aaxis\":{\"endlinecolor\":\"rgb(36,36,36)\",\"gridcolor\":\"white\",\"linecolor\":\"white\",\"minorgridcolor\":\"white\",\"startlinecolor\":\"rgb(36,36,36)\"},\"baxis\":{\"endlinecolor\":\"rgb(36,36,36)\",\"gridcolor\":\"white\",\"linecolor\":\"white\",\"minorgridcolor\":\"white\",\"startlinecolor\":\"rgb(36,36,36)\"},\"type\":\"carpet\"}],\"choropleth\":[{\"colorbar\":{\"outlinewidth\":1,\"tickcolor\":\"rgb(36,36,36)\",\"ticks\":\"outside\"},\"type\":\"choropleth\"}],\"contourcarpet\":[{\"colorbar\":{\"outlinewidth\":1,\"tickcolor\":\"rgb(36,36,36)\",\"ticks\":\"outside\"},\"type\":\"contourcarpet\"}],\"contour\":[{\"colorbar\":{\"outlinewidth\":1,\"tickcolor\":\"rgb(36,36,36)\",\"ticks\":\"outside\"},\"colorscale\":[[0.0,\"#440154\"],[0.1111111111111111,\"#482878\"],[0.2222222222222222,\"#3e4989\"],[0.3333333333333333,\"#31688e\"],[0.4444444444444444,\"#26828e\"],[0.5555555555555556,\"#1f9e89\"],[0.6666666666666666,\"#35b779\"],[0.7777777777777778,\"#6ece58\"],[0.8888888888888888,\"#b5de2b\"],[1.0,\"#fde725\"]],\"type\":\"contour\"}],\"heatmapgl\":[{\"colorbar\":{\"outlinewidth\":1,\"tickcolor\":\"rgb(36,36,36)\",\"ticks\":\"outside\"},\"colorscale\":[[0.0,\"#440154\"],[0.1111111111111111,\"#482878\"],[0.2222222222222222,\"#3e4989\"],[0.3333333333333333,\"#31688e\"],[0.4444444444444444,\"#26828e\"],[0.5555555555555556,\"#1f9e89\"],[0.6666666666666666,\"#35b779\"],[0.7777777777777778,\"#6ece58\"],[0.8888888888888888,\"#b5de2b\"],[1.0,\"#fde725\"]],\"type\":\"heatmapgl\"}],\"heatmap\":[{\"colorbar\":{\"outlinewidth\":1,\"tickcolor\":\"rgb(36,36,36)\",\"ticks\":\"outside\"},\"colorscale\":[[0.0,\"#440154\"],[0.1111111111111111,\"#482878\"],[0.2222222222222222,\"#3e4989\"],[0.3333333333333333,\"#31688e\"],[0.4444444444444444,\"#26828e\"],[0.5555555555555556,\"#1f9e89\"],[0.6666666666666666,\"#35b779\"],[0.7777777777777778,\"#6ece58\"],[0.8888888888888888,\"#b5de2b\"],[1.0,\"#fde725\"]],\"type\":\"heatmap\"}],\"histogram2dcontour\":[{\"colorbar\":{\"outlinewidth\":1,\"tickcolor\":\"rgb(36,36,36)\",\"ticks\":\"outside\"},\"colorscale\":[[0.0,\"#440154\"],[0.1111111111111111,\"#482878\"],[0.2222222222222222,\"#3e4989\"],[0.3333333333333333,\"#31688e\"],[0.4444444444444444,\"#26828e\"],[0.5555555555555556,\"#1f9e89\"],[0.6666666666666666,\"#35b779\"],[0.7777777777777778,\"#6ece58\"],[0.8888888888888888,\"#b5de2b\"],[1.0,\"#fde725\"]],\"type\":\"histogram2dcontour\"}],\"histogram2d\":[{\"colorbar\":{\"outlinewidth\":1,\"tickcolor\":\"rgb(36,36,36)\",\"ticks\":\"outside\"},\"colorscale\":[[0.0,\"#440154\"],[0.1111111111111111,\"#482878\"],[0.2222222222222222,\"#3e4989\"],[0.3333333333333333,\"#31688e\"],[0.4444444444444444,\"#26828e\"],[0.5555555555555556,\"#1f9e89\"],[0.6666666666666666,\"#35b779\"],[0.7777777777777778,\"#6ece58\"],[0.8888888888888888,\"#b5de2b\"],[1.0,\"#fde725\"]],\"type\":\"histogram2d\"}],\"histogram\":[{\"marker\":{\"line\":{\"color\":\"white\",\"width\":0.6}},\"type\":\"histogram\"}],\"mesh3d\":[{\"colorbar\":{\"outlinewidth\":1,\"tickcolor\":\"rgb(36,36,36)\",\"ticks\":\"outside\"},\"type\":\"mesh3d\"}],\"parcoords\":[{\"line\":{\"colorbar\":{\"outlinewidth\":1,\"tickcolor\":\"rgb(36,36,36)\",\"ticks\":\"outside\"}},\"type\":\"parcoords\"}],\"pie\":[{\"automargin\":true,\"type\":\"pie\"}],\"scatter3d\":[{\"line\":{\"colorbar\":{\"outlinewidth\":1,\"tickcolor\":\"rgb(36,36,36)\",\"ticks\":\"outside\"}},\"marker\":{\"colorbar\":{\"outlinewidth\":1,\"tickcolor\":\"rgb(36,36,36)\",\"ticks\":\"outside\"}},\"type\":\"scatter3d\"}],\"scattercarpet\":[{\"marker\":{\"colorbar\":{\"outlinewidth\":1,\"tickcolor\":\"rgb(36,36,36)\",\"ticks\":\"outside\"}},\"type\":\"scattercarpet\"}],\"scattergeo\":[{\"marker\":{\"colorbar\":{\"outlinewidth\":1,\"tickcolor\":\"rgb(36,36,36)\",\"ticks\":\"outside\"}},\"type\":\"scattergeo\"}],\"scattergl\":[{\"marker\":{\"colorbar\":{\"outlinewidth\":1,\"tickcolor\":\"rgb(36,36,36)\",\"ticks\":\"outside\"}},\"type\":\"scattergl\"}],\"scattermapbox\":[{\"marker\":{\"colorbar\":{\"outlinewidth\":1,\"tickcolor\":\"rgb(36,36,36)\",\"ticks\":\"outside\"}},\"type\":\"scattermapbox\"}],\"scatterpolargl\":[{\"marker\":{\"colorbar\":{\"outlinewidth\":1,\"tickcolor\":\"rgb(36,36,36)\",\"ticks\":\"outside\"}},\"type\":\"scatterpolargl\"}],\"scatterpolar\":[{\"marker\":{\"colorbar\":{\"outlinewidth\":1,\"tickcolor\":\"rgb(36,36,36)\",\"ticks\":\"outside\"}},\"type\":\"scatterpolar\"}],\"scatter\":[{\"marker\":{\"colorbar\":{\"outlinewidth\":1,\"tickcolor\":\"rgb(36,36,36)\",\"ticks\":\"outside\"}},\"type\":\"scatter\"}],\"scatterternary\":[{\"marker\":{\"colorbar\":{\"outlinewidth\":1,\"tickcolor\":\"rgb(36,36,36)\",\"ticks\":\"outside\"}},\"type\":\"scatterternary\"}],\"surface\":[{\"colorbar\":{\"outlinewidth\":1,\"tickcolor\":\"rgb(36,36,36)\",\"ticks\":\"outside\"},\"colorscale\":[[0.0,\"#440154\"],[0.1111111111111111,\"#482878\"],[0.2222222222222222,\"#3e4989\"],[0.3333333333333333,\"#31688e\"],[0.4444444444444444,\"#26828e\"],[0.5555555555555556,\"#1f9e89\"],[0.6666666666666666,\"#35b779\"],[0.7777777777777778,\"#6ece58\"],[0.8888888888888888,\"#b5de2b\"],[1.0,\"#fde725\"]],\"type\":\"surface\"}],\"table\":[{\"cells\":{\"fill\":{\"color\":\"rgb(237,237,237)\"},\"line\":{\"color\":\"white\"}},\"header\":{\"fill\":{\"color\":\"rgb(217,217,217)\"},\"line\":{\"color\":\"white\"}},\"type\":\"table\"}]},\"layout\":{\"annotationdefaults\":{\"arrowhead\":0,\"arrowwidth\":1},\"autotypenumbers\":\"strict\",\"coloraxis\":{\"colorbar\":{\"outlinewidth\":1,\"tickcolor\":\"rgb(36,36,36)\",\"ticks\":\"outside\"}},\"colorscale\":{\"diverging\":[[0.0,\"rgb(103,0,31)\"],[0.1,\"rgb(178,24,43)\"],[0.2,\"rgb(214,96,77)\"],[0.3,\"rgb(244,165,130)\"],[0.4,\"rgb(253,219,199)\"],[0.5,\"rgb(247,247,247)\"],[0.6,\"rgb(209,229,240)\"],[0.7,\"rgb(146,197,222)\"],[0.8,\"rgb(67,147,195)\"],[0.9,\"rgb(33,102,172)\"],[1.0,\"rgb(5,48,97)\"]],\"sequential\":[[0.0,\"#440154\"],[0.1111111111111111,\"#482878\"],[0.2222222222222222,\"#3e4989\"],[0.3333333333333333,\"#31688e\"],[0.4444444444444444,\"#26828e\"],[0.5555555555555556,\"#1f9e89\"],[0.6666666666666666,\"#35b779\"],[0.7777777777777778,\"#6ece58\"],[0.8888888888888888,\"#b5de2b\"],[1.0,\"#fde725\"]],\"sequentialminus\":[[0.0,\"#440154\"],[0.1111111111111111,\"#482878\"],[0.2222222222222222,\"#3e4989\"],[0.3333333333333333,\"#31688e\"],[0.4444444444444444,\"#26828e\"],[0.5555555555555556,\"#1f9e89\"],[0.6666666666666666,\"#35b779\"],[0.7777777777777778,\"#6ece58\"],[0.8888888888888888,\"#b5de2b\"],[1.0,\"#fde725\"]]},\"colorway\":[\"#1F77B4\",\"#FF7F0E\",\"#2CA02C\",\"#D62728\",\"#9467BD\",\"#8C564B\",\"#E377C2\",\"#7F7F7F\",\"#BCBD22\",\"#17BECF\"],\"font\":{\"color\":\"rgb(36,36,36)\"},\"geo\":{\"bgcolor\":\"white\",\"lakecolor\":\"white\",\"landcolor\":\"white\",\"showlakes\":true,\"showland\":true,\"subunitcolor\":\"white\"},\"hoverlabel\":{\"align\":\"left\"},\"hovermode\":\"closest\",\"mapbox\":{\"style\":\"light\"},\"paper_bgcolor\":\"white\",\"plot_bgcolor\":\"white\",\"polar\":{\"angularaxis\":{\"gridcolor\":\"rgb(232,232,232)\",\"linecolor\":\"rgb(36,36,36)\",\"showgrid\":false,\"showline\":true,\"ticks\":\"outside\"},\"bgcolor\":\"white\",\"radialaxis\":{\"gridcolor\":\"rgb(232,232,232)\",\"linecolor\":\"rgb(36,36,36)\",\"showgrid\":false,\"showline\":true,\"ticks\":\"outside\"}},\"scene\":{\"xaxis\":{\"backgroundcolor\":\"white\",\"gridcolor\":\"rgb(232,232,232)\",\"gridwidth\":2,\"linecolor\":\"rgb(36,36,36)\",\"showbackground\":true,\"showgrid\":false,\"showline\":true,\"ticks\":\"outside\",\"zeroline\":false,\"zerolinecolor\":\"rgb(36,36,36)\"},\"yaxis\":{\"backgroundcolor\":\"white\",\"gridcolor\":\"rgb(232,232,232)\",\"gridwidth\":2,\"linecolor\":\"rgb(36,36,36)\",\"showbackground\":true,\"showgrid\":false,\"showline\":true,\"ticks\":\"outside\",\"zeroline\":false,\"zerolinecolor\":\"rgb(36,36,36)\"},\"zaxis\":{\"backgroundcolor\":\"white\",\"gridcolor\":\"rgb(232,232,232)\",\"gridwidth\":2,\"linecolor\":\"rgb(36,36,36)\",\"showbackground\":true,\"showgrid\":false,\"showline\":true,\"ticks\":\"outside\",\"zeroline\":false,\"zerolinecolor\":\"rgb(36,36,36)\"}},\"shapedefaults\":{\"fillcolor\":\"black\",\"line\":{\"width\":0},\"opacity\":0.3},\"ternary\":{\"aaxis\":{\"gridcolor\":\"rgb(232,232,232)\",\"linecolor\":\"rgb(36,36,36)\",\"showgrid\":false,\"showline\":true,\"ticks\":\"outside\"},\"baxis\":{\"gridcolor\":\"rgb(232,232,232)\",\"linecolor\":\"rgb(36,36,36)\",\"showgrid\":false,\"showline\":true,\"ticks\":\"outside\"},\"bgcolor\":\"white\",\"caxis\":{\"gridcolor\":\"rgb(232,232,232)\",\"linecolor\":\"rgb(36,36,36)\",\"showgrid\":false,\"showline\":true,\"ticks\":\"outside\"}},\"title\":{\"x\":0.05},\"xaxis\":{\"automargin\":true,\"gridcolor\":\"rgb(232,232,232)\",\"linecolor\":\"rgb(36,36,36)\",\"showgrid\":false,\"showline\":true,\"ticks\":\"outside\",\"title\":{\"standoff\":15},\"zeroline\":false,\"zerolinecolor\":\"rgb(36,36,36)\"},\"yaxis\":{\"automargin\":true,\"gridcolor\":\"rgb(232,232,232)\",\"linecolor\":\"rgb(36,36,36)\",\"showgrid\":false,\"showline\":true,\"ticks\":\"outside\",\"title\":{\"standoff\":15},\"zeroline\":false,\"zerolinecolor\":\"rgb(36,36,36)\"}}},\"xaxis\":{\"anchor\":\"y\",\"domain\":[0.0,1.0],\"title\":{\"text\":\"\"},\"visible\":false,\"range\":[5.022690868377685,22.671201705932617]},\"yaxis\":{\"anchor\":\"x\",\"domain\":[0.0,1.0],\"title\":{\"text\":\"\"},\"visible\":false,\"range\":[-18.59856433868408,4.91925458908081]},\"legend\":{\"tracegroupgap\":0,\"itemsizing\":\"constant\"},\"margin\":{\"t\":60},\"title\":{\"font\":{\"size\":22,\"color\":\"Black\"},\"text\":\"<b>Intertopic Distance Map\",\"y\":0.95,\"x\":0.5,\"xanchor\":\"center\",\"yanchor\":\"top\"},\"hoverlabel\":{\"font\":{\"size\":16,\"family\":\"Rockwell\"},\"bgcolor\":\"white\"},\"width\":650,\"height\":650,\"sliders\":[{\"active\":0,\"pad\":{\"t\":50},\"steps\":[{\"args\":[{\"marker.color\":[[\"red\",\"#B0BEC5\",\"#B0BEC5\",\"#B0BEC5\",\"#B0BEC5\",\"#B0BEC5\",\"#B0BEC5\",\"#B0BEC5\",\"#B0BEC5\",\"#B0BEC5\",\"#B0BEC5\",\"#B0BEC5\",\"#B0BEC5\",\"#B0BEC5\",\"#B0BEC5\",\"#B0BEC5\",\"#B0BEC5\",\"#B0BEC5\",\"#B0BEC5\"]]}],\"label\":\"Topic 0\",\"method\":\"update\"},{\"args\":[{\"marker.color\":[[\"#B0BEC5\",\"red\",\"#B0BEC5\",\"#B0BEC5\",\"#B0BEC5\",\"#B0BEC5\",\"#B0BEC5\",\"#B0BEC5\",\"#B0BEC5\",\"#B0BEC5\",\"#B0BEC5\",\"#B0BEC5\",\"#B0BEC5\",\"#B0BEC5\",\"#B0BEC5\",\"#B0BEC5\",\"#B0BEC5\",\"#B0BEC5\",\"#B0BEC5\"]]}],\"label\":\"Topic 1\",\"method\":\"update\"},{\"args\":[{\"marker.color\":[[\"#B0BEC5\",\"#B0BEC5\",\"red\",\"#B0BEC5\",\"#B0BEC5\",\"#B0BEC5\",\"#B0BEC5\",\"#B0BEC5\",\"#B0BEC5\",\"#B0BEC5\",\"#B0BEC5\",\"#B0BEC5\",\"#B0BEC5\",\"#B0BEC5\",\"#B0BEC5\",\"#B0BEC5\",\"#B0BEC5\",\"#B0BEC5\",\"#B0BEC5\"]]}],\"label\":\"Topic 2\",\"method\":\"update\"},{\"args\":[{\"marker.color\":[[\"#B0BEC5\",\"#B0BEC5\",\"#B0BEC5\",\"red\",\"#B0BEC5\",\"#B0BEC5\",\"#B0BEC5\",\"#B0BEC5\",\"#B0BEC5\",\"#B0BEC5\",\"#B0BEC5\",\"#B0BEC5\",\"#B0BEC5\",\"#B0BEC5\",\"#B0BEC5\",\"#B0BEC5\",\"#B0BEC5\",\"#B0BEC5\",\"#B0BEC5\"]]}],\"label\":\"Topic 3\",\"method\":\"update\"},{\"args\":[{\"marker.color\":[[\"#B0BEC5\",\"#B0BEC5\",\"#B0BEC5\",\"#B0BEC5\",\"red\",\"#B0BEC5\",\"#B0BEC5\",\"#B0BEC5\",\"#B0BEC5\",\"#B0BEC5\",\"#B0BEC5\",\"#B0BEC5\",\"#B0BEC5\",\"#B0BEC5\",\"#B0BEC5\",\"#B0BEC5\",\"#B0BEC5\",\"#B0BEC5\",\"#B0BEC5\"]]}],\"label\":\"Topic 4\",\"method\":\"update\"},{\"args\":[{\"marker.color\":[[\"#B0BEC5\",\"#B0BEC5\",\"#B0BEC5\",\"#B0BEC5\",\"#B0BEC5\",\"red\",\"#B0BEC5\",\"#B0BEC5\",\"#B0BEC5\",\"#B0BEC5\",\"#B0BEC5\",\"#B0BEC5\",\"#B0BEC5\",\"#B0BEC5\",\"#B0BEC5\",\"#B0BEC5\",\"#B0BEC5\",\"#B0BEC5\",\"#B0BEC5\"]]}],\"label\":\"Topic 5\",\"method\":\"update\"},{\"args\":[{\"marker.color\":[[\"#B0BEC5\",\"#B0BEC5\",\"#B0BEC5\",\"#B0BEC5\",\"#B0BEC5\",\"#B0BEC5\",\"red\",\"#B0BEC5\",\"#B0BEC5\",\"#B0BEC5\",\"#B0BEC5\",\"#B0BEC5\",\"#B0BEC5\",\"#B0BEC5\",\"#B0BEC5\",\"#B0BEC5\",\"#B0BEC5\",\"#B0BEC5\",\"#B0BEC5\"]]}],\"label\":\"Topic 6\",\"method\":\"update\"},{\"args\":[{\"marker.color\":[[\"#B0BEC5\",\"#B0BEC5\",\"#B0BEC5\",\"#B0BEC5\",\"#B0BEC5\",\"#B0BEC5\",\"#B0BEC5\",\"red\",\"#B0BEC5\",\"#B0BEC5\",\"#B0BEC5\",\"#B0BEC5\",\"#B0BEC5\",\"#B0BEC5\",\"#B0BEC5\",\"#B0BEC5\",\"#B0BEC5\",\"#B0BEC5\",\"#B0BEC5\"]]}],\"label\":\"Topic 7\",\"method\":\"update\"},{\"args\":[{\"marker.color\":[[\"#B0BEC5\",\"#B0BEC5\",\"#B0BEC5\",\"#B0BEC5\",\"#B0BEC5\",\"#B0BEC5\",\"#B0BEC5\",\"#B0BEC5\",\"red\",\"#B0BEC5\",\"#B0BEC5\",\"#B0BEC5\",\"#B0BEC5\",\"#B0BEC5\",\"#B0BEC5\",\"#B0BEC5\",\"#B0BEC5\",\"#B0BEC5\",\"#B0BEC5\"]]}],\"label\":\"Topic 8\",\"method\":\"update\"},{\"args\":[{\"marker.color\":[[\"#B0BEC5\",\"#B0BEC5\",\"#B0BEC5\",\"#B0BEC5\",\"#B0BEC5\",\"#B0BEC5\",\"#B0BEC5\",\"#B0BEC5\",\"#B0BEC5\",\"red\",\"#B0BEC5\",\"#B0BEC5\",\"#B0BEC5\",\"#B0BEC5\",\"#B0BEC5\",\"#B0BEC5\",\"#B0BEC5\",\"#B0BEC5\",\"#B0BEC5\"]]}],\"label\":\"Topic 9\",\"method\":\"update\"},{\"args\":[{\"marker.color\":[[\"#B0BEC5\",\"#B0BEC5\",\"#B0BEC5\",\"#B0BEC5\",\"#B0BEC5\",\"#B0BEC5\",\"#B0BEC5\",\"#B0BEC5\",\"#B0BEC5\",\"#B0BEC5\",\"red\",\"#B0BEC5\",\"#B0BEC5\",\"#B0BEC5\",\"#B0BEC5\",\"#B0BEC5\",\"#B0BEC5\",\"#B0BEC5\",\"#B0BEC5\"]]}],\"label\":\"Topic 10\",\"method\":\"update\"},{\"args\":[{\"marker.color\":[[\"#B0BEC5\",\"#B0BEC5\",\"#B0BEC5\",\"#B0BEC5\",\"#B0BEC5\",\"#B0BEC5\",\"#B0BEC5\",\"#B0BEC5\",\"#B0BEC5\",\"#B0BEC5\",\"#B0BEC5\",\"red\",\"#B0BEC5\",\"#B0BEC5\",\"#B0BEC5\",\"#B0BEC5\",\"#B0BEC5\",\"#B0BEC5\",\"#B0BEC5\"]]}],\"label\":\"Topic 11\",\"method\":\"update\"},{\"args\":[{\"marker.color\":[[\"#B0BEC5\",\"#B0BEC5\",\"#B0BEC5\",\"#B0BEC5\",\"#B0BEC5\",\"#B0BEC5\",\"#B0BEC5\",\"#B0BEC5\",\"#B0BEC5\",\"#B0BEC5\",\"#B0BEC5\",\"#B0BEC5\",\"red\",\"#B0BEC5\",\"#B0BEC5\",\"#B0BEC5\",\"#B0BEC5\",\"#B0BEC5\",\"#B0BEC5\"]]}],\"label\":\"Topic 12\",\"method\":\"update\"},{\"args\":[{\"marker.color\":[[\"#B0BEC5\",\"#B0BEC5\",\"#B0BEC5\",\"#B0BEC5\",\"#B0BEC5\",\"#B0BEC5\",\"#B0BEC5\",\"#B0BEC5\",\"#B0BEC5\",\"#B0BEC5\",\"#B0BEC5\",\"#B0BEC5\",\"#B0BEC5\",\"red\",\"#B0BEC5\",\"#B0BEC5\",\"#B0BEC5\",\"#B0BEC5\",\"#B0BEC5\"]]}],\"label\":\"Topic 13\",\"method\":\"update\"},{\"args\":[{\"marker.color\":[[\"#B0BEC5\",\"#B0BEC5\",\"#B0BEC5\",\"#B0BEC5\",\"#B0BEC5\",\"#B0BEC5\",\"#B0BEC5\",\"#B0BEC5\",\"#B0BEC5\",\"#B0BEC5\",\"#B0BEC5\",\"#B0BEC5\",\"#B0BEC5\",\"#B0BEC5\",\"red\",\"#B0BEC5\",\"#B0BEC5\",\"#B0BEC5\",\"#B0BEC5\"]]}],\"label\":\"Topic 14\",\"method\":\"update\"},{\"args\":[{\"marker.color\":[[\"#B0BEC5\",\"#B0BEC5\",\"#B0BEC5\",\"#B0BEC5\",\"#B0BEC5\",\"#B0BEC5\",\"#B0BEC5\",\"#B0BEC5\",\"#B0BEC5\",\"#B0BEC5\",\"#B0BEC5\",\"#B0BEC5\",\"#B0BEC5\",\"#B0BEC5\",\"#B0BEC5\",\"red\",\"#B0BEC5\",\"#B0BEC5\",\"#B0BEC5\"]]}],\"label\":\"Topic 15\",\"method\":\"update\"},{\"args\":[{\"marker.color\":[[\"#B0BEC5\",\"#B0BEC5\",\"#B0BEC5\",\"#B0BEC5\",\"#B0BEC5\",\"#B0BEC5\",\"#B0BEC5\",\"#B0BEC5\",\"#B0BEC5\",\"#B0BEC5\",\"#B0BEC5\",\"#B0BEC5\",\"#B0BEC5\",\"#B0BEC5\",\"#B0BEC5\",\"#B0BEC5\",\"red\",\"#B0BEC5\",\"#B0BEC5\"]]}],\"label\":\"Topic 16\",\"method\":\"update\"},{\"args\":[{\"marker.color\":[[\"#B0BEC5\",\"#B0BEC5\",\"#B0BEC5\",\"#B0BEC5\",\"#B0BEC5\",\"#B0BEC5\",\"#B0BEC5\",\"#B0BEC5\",\"#B0BEC5\",\"#B0BEC5\",\"#B0BEC5\",\"#B0BEC5\",\"#B0BEC5\",\"#B0BEC5\",\"#B0BEC5\",\"#B0BEC5\",\"#B0BEC5\",\"red\",\"#B0BEC5\"]]}],\"label\":\"Topic 17\",\"method\":\"update\"},{\"args\":[{\"marker.color\":[[\"#B0BEC5\",\"#B0BEC5\",\"#B0BEC5\",\"#B0BEC5\",\"#B0BEC5\",\"#B0BEC5\",\"#B0BEC5\",\"#B0BEC5\",\"#B0BEC5\",\"#B0BEC5\",\"#B0BEC5\",\"#B0BEC5\",\"#B0BEC5\",\"#B0BEC5\",\"#B0BEC5\",\"#B0BEC5\",\"#B0BEC5\",\"#B0BEC5\",\"red\"]]}],\"label\":\"Topic 18\",\"method\":\"update\"}]}],\"shapes\":[{\"line\":{\"color\":\"#CFD8DC\",\"width\":2},\"type\":\"line\",\"x0\":13.846946287155152,\"x1\":13.846946287155152,\"y0\":-18.59856433868408,\"y1\":4.91925458908081},{\"line\":{\"color\":\"#9E9E9E\",\"width\":2},\"type\":\"line\",\"x0\":5.022690868377685,\"x1\":22.671201705932617,\"y0\":-6.839654874801635,\"y1\":-6.839654874801635}],\"annotations\":[{\"showarrow\":false,\"text\":\"D1\",\"x\":5.022690868377685,\"y\":-6.839654874801635,\"yshift\":10},{\"showarrow\":false,\"text\":\"D2\",\"x\":13.846946287155152,\"xshift\":10,\"y\":4.91925458908081}]},                        {\"responsive\": true}                    ).then(function(){\n",
              "                            \n",
              "var gd = document.getElementById('756d4585-9002-497d-b310-577630905d8e');\n",
              "var x = new MutationObserver(function (mutations, observer) {{\n",
              "        var display = window.getComputedStyle(gd).display;\n",
              "        if (!display || display === 'none') {{\n",
              "            console.log([gd, 'removed!']);\n",
              "            Plotly.purge(gd);\n",
              "            observer.disconnect();\n",
              "        }}\n",
              "}});\n",
              "\n",
              "// Listen for the removal of the full notebook cells\n",
              "var notebookContainer = gd.closest('#notebook-container');\n",
              "if (notebookContainer) {{\n",
              "    x.observe(notebookContainer, {childList: true});\n",
              "}}\n",
              "\n",
              "// Listen for the clearing of the current output cell\n",
              "var outputEl = gd.closest('.output');\n",
              "if (outputEl) {{\n",
              "    x.observe(outputEl, {childList: true});\n",
              "}}\n",
              "\n",
              "                        })                };                            </script>        </div>\n",
              "</body>\n",
              "</html>"
            ]
          },
          "metadata": {}
        }
      ]
    },
    {
      "cell_type": "code",
      "source": [
        "model1.visualize_barchart()"
      ],
      "metadata": {
        "colab": {
          "base_uri": "https://localhost:8080/",
          "height": 517
        },
        "id": "zlebN99HXboS",
        "outputId": "eedfa8b4-4466-4f21-9869-f5daa2873ee5"
      },
      "execution_count": 18,
      "outputs": [
        {
          "output_type": "display_data",
          "data": {
            "text/html": [
              "<html>\n",
              "<head><meta charset=\"utf-8\" /></head>\n",
              "<body>\n",
              "    <div>            <script src=\"https://cdnjs.cloudflare.com/ajax/libs/mathjax/2.7.5/MathJax.js?config=TeX-AMS-MML_SVG\"></script><script type=\"text/javascript\">if (window.MathJax) {MathJax.Hub.Config({SVG: {font: \"STIX-Web\"}});}</script>                <script type=\"text/javascript\">window.PlotlyConfig = {MathJaxConfig: 'local'};</script>\n",
              "        <script src=\"https://cdn.plot.ly/plotly-2.8.3.min.js\"></script>                <div id=\"4f2a3264-e347-4f52-987a-803e77c935c9\" class=\"plotly-graph-div\" style=\"height:500px; width:1000px;\"></div>            <script type=\"text/javascript\">                                    window.PLOTLYENV=window.PLOTLYENV || {};                                    if (document.getElementById(\"4f2a3264-e347-4f52-987a-803e77c935c9\")) {                    Plotly.newPlot(                        \"4f2a3264-e347-4f52-987a-803e77c935c9\",                        [{\"marker\":{\"color\":\"#D55E00\"},\"orientation\":\"h\",\"x\":[0.024577751654840645,0.02797624866725359,0.029990911351788593,0.03530530578635687,0.05411518519138426],\"y\":[\"visa  \",\"complaint  \",\"flight  \",\"dubai  \",\"emirate  \"],\"type\":\"bar\",\"xaxis\":\"x\",\"yaxis\":\"y\"},{\"marker\":{\"color\":\"#0072B2\"},\"orientation\":\"h\",\"x\":[0.03125765457828141,0.032219032145725045,0.06416345222803706,0.06786173994594827,0.07577149308922922],\"y\":[\"emirate  \",\"checked  \",\"baggage  \",\"luggage  \",\"bag  \"],\"type\":\"bar\",\"xaxis\":\"x2\",\"yaxis\":\"y2\"},{\"marker\":{\"color\":\"#CC79A7\"},\"orientation\":\"h\",\"x\":[0.04123064675589785,0.04177326137470739,0.04593243855871375,0.05269264676524614,0.11303691901156093],\"y\":[\"cancellation  \",\"money  \",\"rebook  \",\"cancel  \",\"refund  \"],\"type\":\"bar\",\"xaxis\":\"x3\",\"yaxis\":\"y3\"},{\"marker\":{\"color\":\"#E69F00\"},\"orientation\":\"h\",\"x\":[0.04407857320374764,0.05042810317350777,0.052083278105696025,0.06491371013919656,0.09079942746497992],\"y\":[\"booked  \",\"ticket  \",\"help  \",\"call  \",\"booking  \"],\"type\":\"bar\",\"xaxis\":\"x4\",\"yaxis\":\"y4\"},{\"marker\":{\"color\":\"#56B4E9\"},\"orientation\":\"h\",\"x\":[0.04786810023558695,0.05465954531150341,0.06595807961526048,0.07551238017899337,0.12755917058194602],\"y\":[\"send  \",\"take  \",\"email  \",\"customer  \",\"complaint  \"],\"type\":\"bar\",\"xaxis\":\"x5\",\"yaxis\":\"y5\"},{\"marker\":{\"color\":\"#009E73\"},\"orientation\":\"h\",\"x\":[0.07753107337349857,0.08485114076348559,0.09049440548957642,0.09283555172280948,0.1152721143232622],\"y\":[\"covid  \",\"test  \",\"pcr  \",\"vaccinated  \",\"vaccination  \"],\"type\":\"bar\",\"xaxis\":\"x6\",\"yaxis\":\"y6\"},{\"marker\":{\"color\":\"#F0E442\"},\"orientation\":\"h\",\"x\":[0.0599501889299545,0.09350197316710264,0.11980279573636943,0.13410545300585913,0.15691611501190453],\"y\":[\"flying  \",\"access  \",\"class  \",\"business  \",\"lounge  \"],\"type\":\"bar\",\"xaxis\":\"x7\",\"yaxis\":\"y7\"},{\"marker\":{\"color\":\"#D55E00\"},\"orientation\":\"h\",\"x\":[0.10289174122804,0.10707127527608681,0.12421807336843521,0.1947752321730324,0.3430670459123148],\"y\":[\"done  \",\"prompt  \",\"thank  \",\"thanks  \",\"sent  \"],\"type\":\"bar\",\"xaxis\":\"x8\",\"yaxis\":\"y8\"}],                        {\"template\":{\"data\":{\"barpolar\":[{\"marker\":{\"line\":{\"color\":\"white\",\"width\":0.5},\"pattern\":{\"fillmode\":\"overlay\",\"size\":10,\"solidity\":0.2}},\"type\":\"barpolar\"}],\"bar\":[{\"error_x\":{\"color\":\"#2a3f5f\"},\"error_y\":{\"color\":\"#2a3f5f\"},\"marker\":{\"line\":{\"color\":\"white\",\"width\":0.5},\"pattern\":{\"fillmode\":\"overlay\",\"size\":10,\"solidity\":0.2}},\"type\":\"bar\"}],\"carpet\":[{\"aaxis\":{\"endlinecolor\":\"#2a3f5f\",\"gridcolor\":\"#C8D4E3\",\"linecolor\":\"#C8D4E3\",\"minorgridcolor\":\"#C8D4E3\",\"startlinecolor\":\"#2a3f5f\"},\"baxis\":{\"endlinecolor\":\"#2a3f5f\",\"gridcolor\":\"#C8D4E3\",\"linecolor\":\"#C8D4E3\",\"minorgridcolor\":\"#C8D4E3\",\"startlinecolor\":\"#2a3f5f\"},\"type\":\"carpet\"}],\"choropleth\":[{\"colorbar\":{\"outlinewidth\":0,\"ticks\":\"\"},\"type\":\"choropleth\"}],\"contourcarpet\":[{\"colorbar\":{\"outlinewidth\":0,\"ticks\":\"\"},\"type\":\"contourcarpet\"}],\"contour\":[{\"colorbar\":{\"outlinewidth\":0,\"ticks\":\"\"},\"colorscale\":[[0.0,\"#0d0887\"],[0.1111111111111111,\"#46039f\"],[0.2222222222222222,\"#7201a8\"],[0.3333333333333333,\"#9c179e\"],[0.4444444444444444,\"#bd3786\"],[0.5555555555555556,\"#d8576b\"],[0.6666666666666666,\"#ed7953\"],[0.7777777777777778,\"#fb9f3a\"],[0.8888888888888888,\"#fdca26\"],[1.0,\"#f0f921\"]],\"type\":\"contour\"}],\"heatmapgl\":[{\"colorbar\":{\"outlinewidth\":0,\"ticks\":\"\"},\"colorscale\":[[0.0,\"#0d0887\"],[0.1111111111111111,\"#46039f\"],[0.2222222222222222,\"#7201a8\"],[0.3333333333333333,\"#9c179e\"],[0.4444444444444444,\"#bd3786\"],[0.5555555555555556,\"#d8576b\"],[0.6666666666666666,\"#ed7953\"],[0.7777777777777778,\"#fb9f3a\"],[0.8888888888888888,\"#fdca26\"],[1.0,\"#f0f921\"]],\"type\":\"heatmapgl\"}],\"heatmap\":[{\"colorbar\":{\"outlinewidth\":0,\"ticks\":\"\"},\"colorscale\":[[0.0,\"#0d0887\"],[0.1111111111111111,\"#46039f\"],[0.2222222222222222,\"#7201a8\"],[0.3333333333333333,\"#9c179e\"],[0.4444444444444444,\"#bd3786\"],[0.5555555555555556,\"#d8576b\"],[0.6666666666666666,\"#ed7953\"],[0.7777777777777778,\"#fb9f3a\"],[0.8888888888888888,\"#fdca26\"],[1.0,\"#f0f921\"]],\"type\":\"heatmap\"}],\"histogram2dcontour\":[{\"colorbar\":{\"outlinewidth\":0,\"ticks\":\"\"},\"colorscale\":[[0.0,\"#0d0887\"],[0.1111111111111111,\"#46039f\"],[0.2222222222222222,\"#7201a8\"],[0.3333333333333333,\"#9c179e\"],[0.4444444444444444,\"#bd3786\"],[0.5555555555555556,\"#d8576b\"],[0.6666666666666666,\"#ed7953\"],[0.7777777777777778,\"#fb9f3a\"],[0.8888888888888888,\"#fdca26\"],[1.0,\"#f0f921\"]],\"type\":\"histogram2dcontour\"}],\"histogram2d\":[{\"colorbar\":{\"outlinewidth\":0,\"ticks\":\"\"},\"colorscale\":[[0.0,\"#0d0887\"],[0.1111111111111111,\"#46039f\"],[0.2222222222222222,\"#7201a8\"],[0.3333333333333333,\"#9c179e\"],[0.4444444444444444,\"#bd3786\"],[0.5555555555555556,\"#d8576b\"],[0.6666666666666666,\"#ed7953\"],[0.7777777777777778,\"#fb9f3a\"],[0.8888888888888888,\"#fdca26\"],[1.0,\"#f0f921\"]],\"type\":\"histogram2d\"}],\"histogram\":[{\"marker\":{\"pattern\":{\"fillmode\":\"overlay\",\"size\":10,\"solidity\":0.2}},\"type\":\"histogram\"}],\"mesh3d\":[{\"colorbar\":{\"outlinewidth\":0,\"ticks\":\"\"},\"type\":\"mesh3d\"}],\"parcoords\":[{\"line\":{\"colorbar\":{\"outlinewidth\":0,\"ticks\":\"\"}},\"type\":\"parcoords\"}],\"pie\":[{\"automargin\":true,\"type\":\"pie\"}],\"scatter3d\":[{\"line\":{\"colorbar\":{\"outlinewidth\":0,\"ticks\":\"\"}},\"marker\":{\"colorbar\":{\"outlinewidth\":0,\"ticks\":\"\"}},\"type\":\"scatter3d\"}],\"scattercarpet\":[{\"marker\":{\"colorbar\":{\"outlinewidth\":0,\"ticks\":\"\"}},\"type\":\"scattercarpet\"}],\"scattergeo\":[{\"marker\":{\"colorbar\":{\"outlinewidth\":0,\"ticks\":\"\"}},\"type\":\"scattergeo\"}],\"scattergl\":[{\"marker\":{\"colorbar\":{\"outlinewidth\":0,\"ticks\":\"\"}},\"type\":\"scattergl\"}],\"scattermapbox\":[{\"marker\":{\"colorbar\":{\"outlinewidth\":0,\"ticks\":\"\"}},\"type\":\"scattermapbox\"}],\"scatterpolargl\":[{\"marker\":{\"colorbar\":{\"outlinewidth\":0,\"ticks\":\"\"}},\"type\":\"scatterpolargl\"}],\"scatterpolar\":[{\"marker\":{\"colorbar\":{\"outlinewidth\":0,\"ticks\":\"\"}},\"type\":\"scatterpolar\"}],\"scatter\":[{\"marker\":{\"colorbar\":{\"outlinewidth\":0,\"ticks\":\"\"}},\"type\":\"scatter\"}],\"scatterternary\":[{\"marker\":{\"colorbar\":{\"outlinewidth\":0,\"ticks\":\"\"}},\"type\":\"scatterternary\"}],\"surface\":[{\"colorbar\":{\"outlinewidth\":0,\"ticks\":\"\"},\"colorscale\":[[0.0,\"#0d0887\"],[0.1111111111111111,\"#46039f\"],[0.2222222222222222,\"#7201a8\"],[0.3333333333333333,\"#9c179e\"],[0.4444444444444444,\"#bd3786\"],[0.5555555555555556,\"#d8576b\"],[0.6666666666666666,\"#ed7953\"],[0.7777777777777778,\"#fb9f3a\"],[0.8888888888888888,\"#fdca26\"],[1.0,\"#f0f921\"]],\"type\":\"surface\"}],\"table\":[{\"cells\":{\"fill\":{\"color\":\"#EBF0F8\"},\"line\":{\"color\":\"white\"}},\"header\":{\"fill\":{\"color\":\"#C8D4E3\"},\"line\":{\"color\":\"white\"}},\"type\":\"table\"}]},\"layout\":{\"annotationdefaults\":{\"arrowcolor\":\"#2a3f5f\",\"arrowhead\":0,\"arrowwidth\":1},\"autotypenumbers\":\"strict\",\"coloraxis\":{\"colorbar\":{\"outlinewidth\":0,\"ticks\":\"\"}},\"colorscale\":{\"diverging\":[[0,\"#8e0152\"],[0.1,\"#c51b7d\"],[0.2,\"#de77ae\"],[0.3,\"#f1b6da\"],[0.4,\"#fde0ef\"],[0.5,\"#f7f7f7\"],[0.6,\"#e6f5d0\"],[0.7,\"#b8e186\"],[0.8,\"#7fbc41\"],[0.9,\"#4d9221\"],[1,\"#276419\"]],\"sequential\":[[0.0,\"#0d0887\"],[0.1111111111111111,\"#46039f\"],[0.2222222222222222,\"#7201a8\"],[0.3333333333333333,\"#9c179e\"],[0.4444444444444444,\"#bd3786\"],[0.5555555555555556,\"#d8576b\"],[0.6666666666666666,\"#ed7953\"],[0.7777777777777778,\"#fb9f3a\"],[0.8888888888888888,\"#fdca26\"],[1.0,\"#f0f921\"]],\"sequentialminus\":[[0.0,\"#0d0887\"],[0.1111111111111111,\"#46039f\"],[0.2222222222222222,\"#7201a8\"],[0.3333333333333333,\"#9c179e\"],[0.4444444444444444,\"#bd3786\"],[0.5555555555555556,\"#d8576b\"],[0.6666666666666666,\"#ed7953\"],[0.7777777777777778,\"#fb9f3a\"],[0.8888888888888888,\"#fdca26\"],[1.0,\"#f0f921\"]]},\"colorway\":[\"#636efa\",\"#EF553B\",\"#00cc96\",\"#ab63fa\",\"#FFA15A\",\"#19d3f3\",\"#FF6692\",\"#B6E880\",\"#FF97FF\",\"#FECB52\"],\"font\":{\"color\":\"#2a3f5f\"},\"geo\":{\"bgcolor\":\"white\",\"lakecolor\":\"white\",\"landcolor\":\"white\",\"showlakes\":true,\"showland\":true,\"subunitcolor\":\"#C8D4E3\"},\"hoverlabel\":{\"align\":\"left\"},\"hovermode\":\"closest\",\"mapbox\":{\"style\":\"light\"},\"paper_bgcolor\":\"white\",\"plot_bgcolor\":\"white\",\"polar\":{\"angularaxis\":{\"gridcolor\":\"#EBF0F8\",\"linecolor\":\"#EBF0F8\",\"ticks\":\"\"},\"bgcolor\":\"white\",\"radialaxis\":{\"gridcolor\":\"#EBF0F8\",\"linecolor\":\"#EBF0F8\",\"ticks\":\"\"}},\"scene\":{\"xaxis\":{\"backgroundcolor\":\"white\",\"gridcolor\":\"#DFE8F3\",\"gridwidth\":2,\"linecolor\":\"#EBF0F8\",\"showbackground\":true,\"ticks\":\"\",\"zerolinecolor\":\"#EBF0F8\"},\"yaxis\":{\"backgroundcolor\":\"white\",\"gridcolor\":\"#DFE8F3\",\"gridwidth\":2,\"linecolor\":\"#EBF0F8\",\"showbackground\":true,\"ticks\":\"\",\"zerolinecolor\":\"#EBF0F8\"},\"zaxis\":{\"backgroundcolor\":\"white\",\"gridcolor\":\"#DFE8F3\",\"gridwidth\":2,\"linecolor\":\"#EBF0F8\",\"showbackground\":true,\"ticks\":\"\",\"zerolinecolor\":\"#EBF0F8\"}},\"shapedefaults\":{\"line\":{\"color\":\"#2a3f5f\"}},\"ternary\":{\"aaxis\":{\"gridcolor\":\"#DFE8F3\",\"linecolor\":\"#A2B1C6\",\"ticks\":\"\"},\"baxis\":{\"gridcolor\":\"#DFE8F3\",\"linecolor\":\"#A2B1C6\",\"ticks\":\"\"},\"bgcolor\":\"white\",\"caxis\":{\"gridcolor\":\"#DFE8F3\",\"linecolor\":\"#A2B1C6\",\"ticks\":\"\"}},\"title\":{\"x\":0.05},\"xaxis\":{\"automargin\":true,\"gridcolor\":\"#EBF0F8\",\"linecolor\":\"#EBF0F8\",\"ticks\":\"\",\"title\":{\"standoff\":15},\"zerolinecolor\":\"#EBF0F8\",\"zerolinewidth\":2},\"yaxis\":{\"automargin\":true,\"gridcolor\":\"#EBF0F8\",\"linecolor\":\"#EBF0F8\",\"ticks\":\"\",\"title\":{\"standoff\":15},\"zerolinecolor\":\"#EBF0F8\",\"zerolinewidth\":2}}},\"xaxis\":{\"anchor\":\"y\",\"domain\":[0.0,0.175],\"showgrid\":true},\"yaxis\":{\"anchor\":\"x\",\"domain\":[0.6000000000000001,1.0],\"showgrid\":true},\"xaxis2\":{\"anchor\":\"y2\",\"domain\":[0.275,0.45],\"showgrid\":true},\"yaxis2\":{\"anchor\":\"x2\",\"domain\":[0.6000000000000001,1.0],\"showgrid\":true},\"xaxis3\":{\"anchor\":\"y3\",\"domain\":[0.55,0.7250000000000001],\"showgrid\":true},\"yaxis3\":{\"anchor\":\"x3\",\"domain\":[0.6000000000000001,1.0],\"showgrid\":true},\"xaxis4\":{\"anchor\":\"y4\",\"domain\":[0.825,1.0],\"showgrid\":true},\"yaxis4\":{\"anchor\":\"x4\",\"domain\":[0.6000000000000001,1.0],\"showgrid\":true},\"xaxis5\":{\"anchor\":\"y5\",\"domain\":[0.0,0.175],\"showgrid\":true},\"yaxis5\":{\"anchor\":\"x5\",\"domain\":[0.0,0.4],\"showgrid\":true},\"xaxis6\":{\"anchor\":\"y6\",\"domain\":[0.275,0.45],\"showgrid\":true},\"yaxis6\":{\"anchor\":\"x6\",\"domain\":[0.0,0.4],\"showgrid\":true},\"xaxis7\":{\"anchor\":\"y7\",\"domain\":[0.55,0.7250000000000001],\"showgrid\":true},\"yaxis7\":{\"anchor\":\"x7\",\"domain\":[0.0,0.4],\"showgrid\":true},\"xaxis8\":{\"anchor\":\"y8\",\"domain\":[0.825,1.0],\"showgrid\":true},\"yaxis8\":{\"anchor\":\"x8\",\"domain\":[0.0,0.4],\"showgrid\":true},\"annotations\":[{\"font\":{\"size\":16},\"showarrow\":false,\"text\":\"Topic 0\",\"x\":0.0875,\"xanchor\":\"center\",\"xref\":\"paper\",\"y\":1.0,\"yanchor\":\"bottom\",\"yref\":\"paper\"},{\"font\":{\"size\":16},\"showarrow\":false,\"text\":\"Topic 1\",\"x\":0.36250000000000004,\"xanchor\":\"center\",\"xref\":\"paper\",\"y\":1.0,\"yanchor\":\"bottom\",\"yref\":\"paper\"},{\"font\":{\"size\":16},\"showarrow\":false,\"text\":\"Topic 2\",\"x\":0.6375000000000001,\"xanchor\":\"center\",\"xref\":\"paper\",\"y\":1.0,\"yanchor\":\"bottom\",\"yref\":\"paper\"},{\"font\":{\"size\":16},\"showarrow\":false,\"text\":\"Topic 3\",\"x\":0.9125,\"xanchor\":\"center\",\"xref\":\"paper\",\"y\":1.0,\"yanchor\":\"bottom\",\"yref\":\"paper\"},{\"font\":{\"size\":16},\"showarrow\":false,\"text\":\"Topic 4\",\"x\":0.0875,\"xanchor\":\"center\",\"xref\":\"paper\",\"y\":0.4,\"yanchor\":\"bottom\",\"yref\":\"paper\"},{\"font\":{\"size\":16},\"showarrow\":false,\"text\":\"Topic 5\",\"x\":0.36250000000000004,\"xanchor\":\"center\",\"xref\":\"paper\",\"y\":0.4,\"yanchor\":\"bottom\",\"yref\":\"paper\"},{\"font\":{\"size\":16},\"showarrow\":false,\"text\":\"Topic 6\",\"x\":0.6375000000000001,\"xanchor\":\"center\",\"xref\":\"paper\",\"y\":0.4,\"yanchor\":\"bottom\",\"yref\":\"paper\"},{\"font\":{\"size\":16},\"showarrow\":false,\"text\":\"Topic 7\",\"x\":0.9125,\"xanchor\":\"center\",\"xref\":\"paper\",\"y\":0.4,\"yanchor\":\"bottom\",\"yref\":\"paper\"}],\"title\":{\"font\":{\"size\":22,\"color\":\"Black\"},\"text\":\"<b>Topic Word Scores\",\"x\":0.5,\"xanchor\":\"center\",\"yanchor\":\"top\"},\"hoverlabel\":{\"font\":{\"size\":16,\"family\":\"Rockwell\"},\"bgcolor\":\"white\"},\"showlegend\":false,\"width\":1000,\"height\":500},                        {\"responsive\": true}                    ).then(function(){\n",
              "                            \n",
              "var gd = document.getElementById('4f2a3264-e347-4f52-987a-803e77c935c9');\n",
              "var x = new MutationObserver(function (mutations, observer) {{\n",
              "        var display = window.getComputedStyle(gd).display;\n",
              "        if (!display || display === 'none') {{\n",
              "            console.log([gd, 'removed!']);\n",
              "            Plotly.purge(gd);\n",
              "            observer.disconnect();\n",
              "        }}\n",
              "}});\n",
              "\n",
              "// Listen for the removal of the full notebook cells\n",
              "var notebookContainer = gd.closest('#notebook-container');\n",
              "if (notebookContainer) {{\n",
              "    x.observe(notebookContainer, {childList: true});\n",
              "}}\n",
              "\n",
              "// Listen for the clearing of the current output cell\n",
              "var outputEl = gd.closest('.output');\n",
              "if (outputEl) {{\n",
              "    x.observe(outputEl, {childList: true});\n",
              "}}\n",
              "\n",
              "                        })                };                            </script>        </div>\n",
              "</body>\n",
              "</html>"
            ]
          },
          "metadata": {}
        }
      ]
    },
    {
      "cell_type": "code",
      "source": [
        "topics_over_time = model1.topics_over_time(tweets, timestamps)\n",
        "\n",
        "model1.visualize_topics_over_time(topics_over_time)"
      ],
      "metadata": {
        "colab": {
          "base_uri": "https://localhost:8080/",
          "height": 504
        },
        "id": "OwjH9Db7Tnj7",
        "outputId": "4121929b-9189-468b-ecbd-aa0d0661ca97"
      },
      "execution_count": 23,
      "outputs": [
        {
          "output_type": "stream",
          "name": "stderr",
          "text": [
            "835it [00:06, 120.21it/s]\n"
          ]
        },
        {
          "output_type": "display_data",
          "data": {
            "text/html": [
              "<html>\n",
              "<head><meta charset=\"utf-8\" /></head>\n",
              "<body>\n",
              "    <div>            <script src=\"https://cdnjs.cloudflare.com/ajax/libs/mathjax/2.7.5/MathJax.js?config=TeX-AMS-MML_SVG\"></script><script type=\"text/javascript\">if (window.MathJax) {MathJax.Hub.Config({SVG: {font: \"STIX-Web\"}});}</script>                <script type=\"text/javascript\">window.PlotlyConfig = {MathJaxConfig: 'local'};</script>\n",
              "        <script src=\"https://cdn.plot.ly/plotly-2.8.3.min.js\"></script>                <div id=\"ca6fc881-c1e3-48ee-8b01-fd432d2a0abe\" class=\"plotly-graph-div\" style=\"height:450px; width:1250px;\"></div>            <script type=\"text/javascript\">                                    window.PLOTLYENV=window.PLOTLYENV || {};                                    if (document.getElementById(\"ca6fc881-c1e3-48ee-8b01-fd432d2a0abe\")) {                    Plotly.newPlot(                        \"ca6fc881-c1e3-48ee-8b01-fd432d2a0abe\",                        [{\"hoverinfo\":\"text\",\"hovertext\":[\"<b>Topic 0</b><br>Words: dublin, transit, visa, whoever, investigating\",\"<b>Topic 0</b><br>Words: shocking, existent, bother, non, joke\",\"<b>Topic 0</b><br>Words: date, impacted, stating, fault, operation\",\"<b>Topic 0</b><br>Words: stating, operation, schedule, changed, start\",\"<b>Topic 0</b><br>Words: schedule, happy, joke, changed, far\",\"<b>Topic 0</b><br>Words: written, ignored, complaint, helpful, confirmation\",\"<b>Topic 0</b><br>Words: crap, warning, last, service, customer\",\"<b>Topic 0</b><br>Words: usual, belonging, contempt, reviewed, mail\",\"<b>Topic 0</b><br>Words: concept, client, rip, else, despite\",\"<b>Topic 0</b><br>Words: bos, ek238, cancelled, dubai, emirate\",\"<b>Topic 0</b><br>Words: expired, nearly, ticketed, taking, holiday\",\"<b>Topic 0</b><br>Words: issuing, pas, october, new, emirate\",\"<b>Topic 0</b><br>Words: apply, airport, leave, transit, need\",\"<b>Topic 0</b><br>Words: smart, needed, app, dxb, alhosn\",\"<b>Topic 0</b><br>Words: visa, uaq, ftz, holder, partner\",\"<b>Topic 0</b><br>Words: transport, yangon, pet, bangkok, route\",\"<b>Topic 0</b><br>Words: transportation, filing, dealt, department, worst\",\"<b>Topic 0</b><br>Words: ground, duty, staff, ceo, feb\",\"<b>Topic 0</b><br>Words: charging, point, disabled, especially, known\",\"<b>Topic 0</b><br>Words: discourage, nit, future, everyone, recommend\",\"<b>Topic 0</b><br>Words: perhaps, lack, rectify, appalling, communication\",\"<b>Topic 0</b><br>Words: thereafter, reminder, mail, responded, end\",\"<b>Topic 0</b><br>Words: unforeseen, appears, treatment, longer, event\",\"<b>Topic 0</b><br>Words: suffering, happy, little, baby, shame\",\"<b>Topic 0</b><br>Words: chairman, handicap, prestige, helpfull, hospitality\",\"<b>Topic 0</b><br>Words: festival, internet, peak, calling, purchased\",\"<b>Topic 0</b><br>Words: scornful, expression, curt, doubt, wear\",\"<b>Topic 0</b><br>Words: blr, neither, website, big, dubai\",\"<b>Topic 0</b><br>Words: contacting, partner, disappointing, pas, uae\",\"<b>Topic 0</b><br>Words: log, holiday, website, trying, emirate\",\"<b>Topic 0</b><br>Words: support, winning, several, giving, award\",\"<b>Topic 0</b><br>Words: vape, security, throw, delhi, last\",\"<b>Topic 0</b><br>Words: reported, automated, stand, reply, speak\",\"<b>Topic 0</b><br>Words: write, milan, email, bad, see\",\"<b>Topic 0</b><br>Words: linked, meep, sort, seems, provided\",\"<b>Topic 0</b><br>Words: onboard, may, bring, guy, around\",\"<b>Topic 0</b><br>Words: pregnant, catch, sufficient, worried, time\",\"<b>Topic 0</b><br>Words: concerned, made, contact, airline, email\",\"<b>Topic 0</b><br>Words: routing, ruh, paper, logistics, iad\",\"<b>Topic 0</b><br>Words: sla, regret, raised, choose, soon\",\"<b>Topic 0</b><br>Words: tip, upgraded, friend, asking, get\",\"<b>Topic 0</b><br>Words: option, worthless, shuttle, wer, providing\",\"<b>Topic 0</b><br>Words: nothing, heard, complaint, made, somehow\",\"<b>Topic 0</b><br>Words: raised, cabin, escalated, marcus, absolutely\",\"<b>Topic 0</b><br>Words: kindly, respond, thank, emirate, please\",\"<b>Topic 0</b><br>Words: stopped, lagos, although, ghana, immigration\",\"<b>Topic 0</b><br>Words: indicating, setup, alhosn, register, mobile\",\"<b>Topic 0</b><br>Words: review, understatement, lhr, heading, excited\",\"<b>Topic 0</b><br>Words: layover, long, hour, airport, dubai\",\"<b>Topic 0</b><br>Words: gone, discount, page, pas, found\",\"<b>Topic 0</b><br>Words: hoped, blacklog, pound, turn, might\",\"<b>Topic 0</b><br>Words: causing, corrupt, ill, inconvenience, relative\",\"<b>Topic 0</b><br>Words: serious, wonderful, shrouded, bothered, struggling\",\"<b>Topic 0</b><br>Words: desk, unfortunately, application, check, wrong\",\"<b>Topic 0</b><br>Words: pallavi, cheated, ashamed, loyal, engaging\",\"<b>Topic 0</b><br>Words: thankyou, admins, regarding, question, visa\",\"<b>Topic 0</b><br>Words: jainish, amir, deeply, liar, deserve\",\"<b>Topic 0</b><br>Words: jainish, amir, deeply, liar, deserve\",\"<b>Topic 0</b><br>Words: premier, embarrassment, shun, face, inconvenience\",\"<b>Topic 0</b><br>Words: translate, barely, refusing, language, shaking\",\"<b>Topic 0</b><br>Words: blaming, fault, versa, vice, mistake\",\"<b>Topic 0</b><br>Words: admins, transit, regarding, question, visa\",\"<b>Topic 0</b><br>Words: multiple, skyrewards, register, flown, time\",\"<b>Topic 0</b><br>Words: spend, departure, november, minute, hotel\",\"<b>Topic 0</b><br>Words: tourist, document, london, travelling, travel\",\"<b>Topic 0</b><br>Words: track, alongwith, photograph, trust, detailed\",\"<b>Topic 0</b><br>Words: 919167003333, coverage, reschedule, urgently, always\",\"<b>Topic 0</b><br>Words: dubaiconnect, instructed, islamabad, arrange, site\",\"<b>Topic 0</b><br>Words: conclusion, conversation, staff, lying, started\",\"<b>Topic 0</b><br>Words: managed, inbound, private, late, connecting\",\"<b>Topic 0</b><br>Words: plight, dm, expected, sad, never\",\"<b>Topic 0</b><br>Words: hear, issue, waiting, still, response\",\"<b>Topic 0</b><br>Words: dealing, tour, bringing, attention, dealt\",\"<b>Topic 0</b><br>Words: firm, history, unprofessional, couple, going\",\"<b>Topic 0</b><br>Words: least, satisfaction, maldives, poor, full\",\"<b>Topic 0</b><br>Words: pregnancy, female, pregnant, single, requirement\",\"<b>Topic 0</b><br>Words: satisfaction, full, almost, missing, cancelled\",\"<b>Topic 0</b><br>Words: toll, counterpart, inquire, particular, free\",\"<b>Topic 0</b><br>Words: uae, football, visiting, apply, holder\",\"<b>Topic 0</b><br>Words: full, ensure, cmon, client, value\",\"<b>Topic 0</b><br>Words: chauffer, pickup, messed, amazing, pick\",\"<b>Topic 0</b><br>Words: hearing, forward, looking, back, emirate\",\"<b>Topic 0</b><br>Words: passport, april, vacation, expires, renewing\",\"<b>Topic 0</b><br>Words: resolution, investigation, faced, honest, privately\",\"<b>Topic 0</b><br>Words: residence, gdrfa, investor, expire, valid\",\"<b>Topic 0</b><br>Words: 7823505, unnecessary, satisfactory, loss, face\",\"<b>Topic 0</b><br>Words: official, handle, confirm, hello, emirate\",\"<b>Topic 0</b><br>Words: experience, departing, ppl, horrible, level\",\"<b>Topic 0</b><br>Words: site, throw, hey, forward, bring\",\"<b>Topic 0</b><br>Words: direct, costly, consider, ahmedabad, singapore\",\"<b>Topic 0</b><br>Words: consider, ahmedabad, enough, singapore, direct\",\"<b>Topic 0</b><br>Words: dosis, pfizer, necessary, fly, thank\",\"<b>Topic 0</b><br>Words: keep, worked, weekend, look, error\",\"<b>Topic 0</b><br>Words: served, peaceful, hypocrisy, manila, recommended\",\"<b>Topic 0</b><br>Words: barcelona, mex, mexico, bcn, july\",\"<b>Topic 0</b><br>Words: ham, government, quantity, iberian, regulation\",\"<b>Topic 0</b><br>Words: jeddah, chance, company, family, fly\",\"<b>Topic 0</b><br>Words: lodge, dis, sector, specially, respect\",\"<b>Topic 0</b><br>Words: bot, internally, thread, raise, dear\",\"<b>Topic 0</b><br>Words: amd, usa, dxb, flt, sdf\",\"<b>Topic 0</b><br>Words: restriction, hence, dos, understand, enter\",\"<b>Topic 0</b><br>Words: warsaw, ruined, subsequent, dubai, arrange\",\"<b>Topic 0</b><br>Words: airway, literally, mad, easily, khi\",\"<b>Topic 0</b><br>Words: prescription, purpose, doctor, medicine, safety\",\"<b>Topic 0</b><br>Words: layover, donot, hii, paris, leave\",\"<b>Topic 0</b><br>Words: even, spent, experience, way, answer\",\"<b>Topic 0</b><br>Words: experienced, lodged, mail, detailed, thing\",\"<b>Topic 0</b><br>Words: conf, originally, confirmed, happen, resolve\",\"<b>Topic 0</b><br>Words: anniversary, kindly, upgrade, memorable, possibile\",\"<b>Topic 0</b><br>Words: boast, amp, escalate, appropriate, lame\",\"<b>Topic 0</b><br>Words: glasgow, starting, wondering, night, dubai\",\"<b>Topic 0</b><br>Words: cancelled, delhi, stranded, dallas, airport\",\"<b>Topic 0</b><br>Words: delhi, airpor, stranded, cancelled, dubai\",\"<b>Topic 0</b><br>Words: nigeria, direct, uae, possible, month\",\"<b>Topic 0</b><br>Words: visa, yyz, accomodation, approval, waiting\",\"<b>Topic 0</b><br>Words: change, hello, emirate, please, flight\",\"<b>Topic 0</b><br>Words: everyime, calculation, emirares, journey, reschedule\",\"<b>Topic 0</b><br>Words: fleet, aiport, runway, stand, left\",\"<b>Topic 0</b><br>Words: charged, backdate, boston, november, reference\",\"<b>Topic 0</b><br>Words: complains, premiere, assume, expected, better\",\"<b>Topic 0</b><br>Words: afghan, visit, national, eligible, uae\",\"<b>Topic 0</b><br>Words: simply, alia, content, outcome, individual\",\"<b>Topic 0</b><br>Words: hello, check, emirate, please, dubai\",\"<b>Topic 0</b><br>Words: gatwick, wifi, air, left, work\",\"<b>Topic 0</b><br>Words: coverage, poor, mere, smartphone, alert\",\"<b>Topic 0</b><br>Words: lie, board, let, people, know\",\"<b>Topic 0</b><br>Words: highlight, recording, disgusting, furnish, spoil\",\"<b>Topic 0</b><br>Words: remains, unknown, vanished, charm, lacked\",\"<b>Topic 0</b><br>Words: improve, anyways, significantly, focused, thx\",\"<b>Topic 0</b><br>Words: responded, away, right, expect, airline\",\"<b>Topic 0</b><br>Words: implemented, yikes, reset, password, team\",\"<b>Topic 0</b><br>Words: requires, documentation, number, complete, flew\",\"<b>Topic 0</b><br>Words: threat, organisation, abuse, based, receiving\",\"<b>Topic 0</b><br>Words: bluffing, pkr, black, pakistani, animal\",\"<b>Topic 0</b><br>Words: pdf, printout, suvidha, application, air\",\"<b>Topic 0</b><br>Words: educate, surly, actual, represent, especially\",\"<b>Topic 0</b><br>Words: ownership, negligence, furious, use, expired\",\"<b>Topic 0</b><br>Words: thailand, sharing, uploading, residential, residing\",\"<b>Topic 0</b><br>Words: latest, gov, quickly, group, traveller\",\"<b>Topic 0</b><br>Words: regret, certain, raising, side, link\",\"<b>Topic 0</b><br>Words: similar, emirats, screenshot, ordeal, faced\",\"<b>Topic 0</b><br>Words: surprised, repeated, similar, happened, despite\",\"<b>Topic 0</b><br>Words: karachi, pessenger, tourchered, thus, misbehaved\",\"<b>Topic 0</b><br>Words: profile, correct, assistance, name, need\",\"<b>Topic 0</b><br>Words: eco, gesture, commercial, downgrading, understanding\"],\"marker\":{\"color\":\"#E69F00\"},\"mode\":\"lines\",\"name\":\"0_emirate_dubai_flight_complaint\",\"x\":[\"2022-10-06T10:40:59+00:00\",\"2022-10-06T10:58:18+00:00\",\"2022-10-06T21:47:17+00:00\",\"2022-10-07T06:50:58+00:00\",\"2022-10-07T12:51:12+00:00\",\"2022-10-07T17:47:16+00:00\",\"2022-10-07T20:45:24+00:00\",\"2022-10-08T08:45:49+00:00\",\"2022-10-08T18:45:59+00:00\",\"2022-10-08T23:56:19+00:00\",\"2022-10-10T05:08:23+00:00\",\"2022-10-10T07:36:23+00:00\",\"2022-10-10T11:50:16+00:00\",\"2022-10-10T12:19:28+00:00\",\"2022-10-11T10:44:37+00:00\",\"2022-10-11T13:48:40+00:00\",\"2022-10-11T18:49:40+00:00\",\"2022-10-11T22:53:10+00:00\",\"2022-10-11T23:50:47+00:00\",\"2022-10-11T23:51:44+00:00\",\"2022-10-12T09:56:40+00:00\",\"2022-10-12T18:11:29+00:00\",\"2022-10-13T13:32:24+00:00\",\"2022-10-13T21:01:44+00:00\",\"2022-10-14T02:04:03+00:00\",\"2022-10-14T02:55:21+00:00\",\"2022-10-14T03:33:24+00:00\",\"2022-10-14T03:40:27+00:00\",\"2022-10-14T06:46:57+00:00\",\"2022-10-14T09:18:52+00:00\",\"2022-10-14T14:09:25+00:00\",\"2022-10-14T15:39:12+00:00\",\"2022-10-14T16:08:22+00:00\",\"2022-10-15T01:26:57+00:00\",\"2022-10-15T20:42:29+00:00\",\"2022-10-15T22:38:23+00:00\",\"2022-10-16T09:24:27+00:00\",\"2022-10-16T15:09:06+00:00\",\"2022-10-17T02:41:57+00:00\",\"2022-10-17T17:05:04+00:00\",\"2022-10-17T19:37:36+00:00\",\"2022-10-18T01:17:44+00:00\",\"2022-10-18T08:08:37+00:00\",\"2022-10-18T08:12:56+00:00\",\"2022-10-19T02:31:43+00:00\",\"2022-10-19T02:33:20+00:00\",\"2022-10-19T19:36:42+00:00\",\"2022-10-19T20:02:10+00:00\",\"2022-10-20T07:54:40+00:00\",\"2022-10-20T14:59:25+00:00\",\"2022-10-20T16:14:09+00:00\",\"2022-10-21T09:41:57+00:00\",\"2022-10-21T10:23:43+00:00\",\"2022-10-21T18:50:00+00:00\",\"2022-10-22T09:16:35+00:00\",\"2022-10-22T11:31:29+00:00\",\"2022-10-22T21:11:40+00:00\",\"2022-10-22T21:43:57+00:00\",\"2022-10-23T03:16:40+00:00\",\"2022-10-23T06:57:31+00:00\",\"2022-10-23T09:31:48+00:00\",\"2022-10-23T11:16:16+00:00\",\"2022-10-23T22:48:55+00:00\",\"2022-10-24T11:16:56+00:00\",\"2022-10-25T09:00:58+00:00\",\"2022-10-25T16:08:27+00:00\",\"2022-10-26T04:58:53+00:00\",\"2022-10-26T08:02:13+00:00\",\"2022-10-29T00:46:25+00:00\",\"2022-10-29T16:33:07+00:00\",\"2022-10-29T23:03:40+00:00\",\"2022-10-30T18:02:49+00:00\",\"2022-10-30T23:36:18+00:00\",\"2022-10-31T06:39:04+00:00\",\"2022-10-31T15:13:36+00:00\",\"2022-10-31T15:18:02+00:00\",\"2022-10-31T15:23:07+00:00\",\"2022-10-31T15:56:27+00:00\",\"2022-11-01T03:16:47+00:00\",\"2022-11-01T07:20:23+00:00\",\"2022-11-01T17:49:02+00:00\",\"2022-11-02T05:33:54+00:00\",\"2022-11-02T08:05:34+00:00\",\"2022-11-03T13:24:06+00:00\",\"2022-11-03T13:32:59+00:00\",\"2022-11-03T13:51:10+00:00\",\"2022-11-04T14:01:15+00:00\",\"2022-11-04T15:52:32+00:00\",\"2022-11-05T16:28:12+00:00\",\"2022-11-06T07:24:25+00:00\",\"2022-11-06T07:47:29+00:00\",\"2022-11-06T12:17:37+00:00\",\"2022-11-06T20:16:45+00:00\",\"2022-11-07T04:44:37+00:00\",\"2022-11-07T06:54:17+00:00\",\"2022-11-07T07:56:07+00:00\",\"2022-11-07T08:14:24+00:00\",\"2022-11-08T10:48:19+00:00\",\"2022-11-08T17:41:35+00:00\",\"2022-11-08T17:45:56+00:00\",\"2022-11-08T23:06:39+00:00\",\"2022-11-09T03:10:51+00:00\",\"2022-11-09T06:32:55+00:00\",\"2022-11-09T06:36:12+00:00\",\"2022-11-09T06:37:17+00:00\",\"2022-11-09T09:49:58+00:00\",\"2022-11-09T10:52:14+00:00\",\"2022-11-09T14:27:59+00:00\",\"2022-11-09T17:00:08+00:00\",\"2022-11-10T00:40:20+00:00\",\"2022-11-10T15:38:50+00:00\",\"2022-11-10T17:04:11+00:00\",\"2022-11-10T22:50:54+00:00\",\"2022-11-11T08:15:23+00:00\",\"2022-11-11T16:37:13+00:00\",\"2022-11-12T10:09:14+00:00\",\"2022-11-12T17:58:06+00:00\",\"2022-11-13T04:20:07+00:00\",\"2022-11-13T06:01:22+00:00\",\"2022-11-13T19:51:20+00:00\",\"2022-11-14T00:26:16+00:00\",\"2022-11-14T16:34:20+00:00\",\"2022-11-15T08:22:58+00:00\",\"2022-11-15T21:34:41+00:00\",\"2022-11-16T05:25:39+00:00\",\"2022-11-16T18:26:44+00:00\",\"2022-11-16T19:11:16+00:00\",\"2022-11-16T19:24:54+00:00\",\"2022-11-16T19:56:42+00:00\",\"2022-11-16T22:43:39+00:00\",\"2022-11-17T06:21:41+00:00\",\"2022-11-17T08:53:46+00:00\",\"2022-11-17T18:30:01+00:00\",\"2022-11-17T18:43:53+00:00\",\"2022-11-17T19:14:59+00:00\",\"2022-11-17T20:03:35+00:00\",\"2022-11-17T22:48:36+00:00\",\"2022-11-18T07:40:04+00:00\",\"2022-11-18T07:44:49+00:00\",\"2022-11-18T12:29:03+00:00\",\"2022-11-18T13:46:37+00:00\",\"2022-11-18T13:58:05+00:00\",\"2022-11-19T06:36:15+00:00\",\"2022-11-19T08:04:36+00:00\",\"2022-11-19T10:19:34+00:00\"],\"y\":[1,1,1,1,1,1,1,1,1,1,1,1,1,1,1,1,1,1,1,1,1,1,1,1,1,1,1,1,1,1,1,1,1,1,1,1,1,1,1,1,1,1,1,1,1,1,1,1,1,1,1,1,1,1,1,1,1,1,1,1,1,1,1,1,1,1,1,1,1,1,1,1,1,1,1,1,1,1,1,1,1,1,1,1,1,1,1,1,1,1,1,1,1,1,1,1,1,1,1,1,1,1,1,1,1,1,1,1,1,1,1,1,1,1,1,1,1,1,1,1,1,1,1,1,1,1,1,1,1,1,1,1,1,1,1,1,1,1,1,1,1,1,1,1,1],\"type\":\"scatter\"},{\"hoverinfo\":\"text\",\"hovertext\":[\"<b>Topic 1</b><br>Words: say, hold, cabin, lgw, allowance\",\"<b>Topic 1</b><br>Words: backpack, rome, collect, told, refuse\",\"<b>Topic 1</b><br>Words: driver, priority, supposed, minute, later\",\"<b>Topic 1</b><br>Words: hold, pram, amp, versa, vice\",\"<b>Topic 1</b><br>Words: jfk, complain, traveled, solve, airline\",\"<b>Topic 1</b><br>Words: replace, afternoon, unusable, bkk, handler\",\"<b>Topic 1</b><br>Words: student, extra, offer, baggage, ewr\",\"<b>Topic 1</b><br>Words: personalise, finally, day, broken, seriously\",\"<b>Topic 1</b><br>Words: missing, funny, kabul, located, story\",\"<b>Topic 1</b><br>Words: ireland, chennai, per, wondering, extra\",\"<b>Topic 1</b><br>Words: option, send, webpage, replying, went\",\"<b>Topic 1</b><br>Words: ireland, chennai, per, wondering, extra\",\"<b>Topic 1</b><br>Words: jakarta, onboard, heathrow, bring, checked\",\"<b>Topic 1</b><br>Words: pir, missing, number, luggage, help\",\"<b>Topic 1</b><br>Words: kind, premium, update, called, lost\",\"<b>Topic 1</b><br>Words: unfit, badly, recent, report, damaged\",\"<b>Topic 1</b><br>Words: belt, important, update, help, lost\",\"<b>Topic 1</b><br>Words: travelling, bag, economic, cousin, italy\",\"<b>Topic 1</b><br>Words: lighter, suppose, beg, fuel, liquid\",\"<b>Topic 1</b><br>Words: orlando, jfk, find, allocation, info\",\"<b>Topic 1</b><br>Words: arrive, bali, asap, contact, luggage\",\"<b>Topic 1</b><br>Words: respond, posted, courtesy, timeline, status\",\"<b>Topic 1</b><br>Words: landing, disrupted, four, amsterdam, definite\",\"<b>Topic 1</b><br>Words: baklava, syrup, tia, honey, bring\",\"<b>Topic 1</b><br>Words: belt, flew, emirate, pnr, responsibility\",\"<b>Topic 1</b><br>Words: bearing, travelled, along, compensate, living\",\"<b>Topic 1</b><br>Words: relief, insensitive, survival, interim, condition\",\"<b>Topic 1</b><br>Words: baggage, accessory, bag, tag, compensate\",\"<b>Topic 1</b><br>Words: kindle, left, plane, touch, think\",\"<b>Topic 1</b><br>Words: ahead, tia, gold, fee, allowed\",\"<b>Topic 1</b><br>Words: abv, tag, file, jetblue, report\",\"<b>Topic 1</b><br>Words: supplement, supply, joint, omega, container\",\"<b>Topic 1</b><br>Words: ripped, happy, help, bag, luggage\",\"<b>Topic 1</b><br>Words: since, mishandled, commit, pir, timeline\",\"<b>Topic 1</b><br>Words: jfk, struck, elder, diego, san\",\"<b>Topic 1</b><br>Words: airpods, safely, grateful, singapore, took\",\"<b>Topic 1</b><br>Words: luggage, located, kind, monday, friday\",\"<b>Topic 1</b><br>Words: effort, absolutely, beyond, item, frustrating\",\"<b>Topic 1</b><br>Words: item, frustrating, extremely, missing, flying\",\"<b>Topic 1</b><br>Words: whereabouts, inform, luggage, someone, bag\",\"<b>Topic 1</b><br>Words: carrying, cardboard, restriction, box, checked\",\"<b>Topic 1</b><br>Words: usa, india, purse, one, allowed\",\"<b>Topic 1</b><br>Words: aviv, tel, bag, safari, according\",\"<b>Topic 1</b><br>Words: country, airindia, bag, helpless, understanding\",\"<b>Topic 1</b><br>Words: euro, stolen, valuable, madrid, filed\",\"<b>Topic 1</b><br>Words: madrid, valuable, took, checked, bag\",\"<b>Topic 1</b><br>Words: helpless, feeling, missed, bag, dubai\",\"<b>Topic 1</b><br>Words: apple, airtags, allowed, checked, luggage\",\"<b>Topic 1</b><br>Words: close, unprofessional, disappointing, matter, update\",\"<b>Topic 1</b><br>Words: airmiles, refused, added, ignored, offered\",\"<b>Topic 1</b><br>Words: allowance, child, let, old, flying\",\"<b>Topic 1</b><br>Words: note, clueless, baggage, trace, medication\",\"<b>Topic 1</b><br>Words: dead, responds, calling, belt, october\",\"<b>Topic 1</b><br>Words: checked, liter, juice, bottle, luggage\",\"<b>Topic 1</b><br>Words: regrdlss, wid, travel, emirtes, aug\",\"<b>Topic 1</b><br>Words: loose, overhead, decline, athens, screw\",\"<b>Topic 1</b><br>Words: frust, manchstr, emirtes, aug, mum\",\"<b>Topic 1</b><br>Words: confused, baggage, number, badly, created\",\"<b>Topic 1</b><br>Words: internationally, travelled, catch, flown, sad\",\"<b>Topic 1</b><br>Words: suitcase, usable, reimbursement, damage, file\",\"<b>Topic 1</b><br>Words: shared, image, handled, executive, behaviour\",\"<b>Topic 1</b><br>Words: bamboo, wooden, specifically, listed, knitting\",\"<b>Topic 1</b><br>Words: addition, sling, bag, purse, small\",\"<b>Topic 1</b><br>Words: broke, reply, following, worst, complain\",\"<b>Topic 1</b><br>Words: plant, either, checked, live, carry\",\"<b>Topic 1</b><br>Words: apple, airtags, morning, checked, due\",\"<b>Topic 1</b><br>Words: period, day, air, better, yes\",\"<b>Topic 1</b><br>Words: reported, assist, regard, heathrow, update\",\"<b>Topic 1</b><br>Words: germany, knitting, needle, australia, allow\",\"<b>Topic 1</b><br>Words: syd, dxb, laptop, hand, bhx\",\"<b>Topic 1</b><br>Words: broken, suitcase, wait, ago, long\",\"<b>Topic 1</b><br>Words: whether, apple, airtags, confirm, allowed\",\"<b>Topic 1</b><br>Words: wax, candle, mumbai, checked, carry\",\"<b>Topic 1</b><br>Words: numerous, afs, followup, nairobi, treat\",\"<b>Topic 1</b><br>Words: sad, kglkq26095, kenya, medication, bag\",\"<b>Topic 1</b><br>Words: opening, followed, ranking, went, fixed\",\"<b>Topic 1</b><br>Words: cheer, upon, drop, prompt, report\",\"<b>Topic 1</b><br>Words: venice, airport, friend, connecting, missed\",\"<b>Topic 1</b><br>Words: reimburse, nyc, broke, arrived, responsibility\",\"<b>Topic 1</b><br>Words: bat, fit, worried, gift, planning\",\"<b>Topic 1</b><br>Words: baggage, maximum, check, weight, allowance\",\"<b>Topic 1</b><br>Words: mco, amd, alllwance, dxb, separate\",\"<b>Topic 1</b><br>Words: laptop, checked, hve, stored, student\",\"<b>Topic 1</b><br>Words: magic, arrived, twitter, quick, bag\",\"<b>Topic 1</b><br>Words: explanation, operational, kept, responding, mean\",\"<b>Topic 1</b><br>Words: airtags, allowed, carry, luggage, check\",\"<b>Topic 1</b><br>Words: bag, ripped, lodged, came, news\",\"<b>Topic 1</b><br>Words: apparently, noticed, damage, report, handle\",\"<b>Topic 1</b><br>Words: weight, exceeding, split, bag, allowance\",\"<b>Topic 1</b><br>Words: handle, damaged, bng, paste, traveled\",\"<b>Topic 1</b><br>Words: student, canada, coupon, kg, offered\",\"<b>Topic 1</b><br>Words: plan, baggage, bag, weighing, stated\",\"<b>Topic 1</b><br>Words: plan, baggage, bag, weighing, stated\",\"<b>Topic 1</b><br>Words: delivered, bag, stuff, gotten, important\",\"<b>Topic 1</b><br>Words: fro, gotten, delivered, bali, waiting\",\"<b>Topic 1</b><br>Words: relentlessly, lisbon, bag, following, taken\",\"<b>Topic 1</b><br>Words: yous, bag, reached, tonight, inform\",\"<b>Topic 1</b><br>Words: responds, one, understand, people, bag\",\"<b>Topic 1</b><br>Words: lame, recommend, ever, lost, never\",\"<b>Topic 1</b><br>Words: turned, landing, arrive, confirmed, friend\",\"<b>Topic 1</b><br>Words: kid, lgw, clothes, found, left\",\"<b>Topic 1</b><br>Words: landed, bali, bag, luggage, baggage\",\"<b>Topic 1</b><br>Words: fed, cairo, stuff, traveller, tourist\",\"<b>Topic 1</b><br>Words: returned, damaged, heard, home, advise\",\"<b>Topic 1</b><br>Words: body, know, calling, damaged, world\",\"<b>Topic 1</b><br>Words: realized, ring, men, area, shower\",\"<b>Topic 1</b><br>Words: complicated, clarification, quite, allowance, assistance\",\"<b>Topic 1</b><br>Words: told, pooled, permitted, pax, definite\",\"<b>Topic 1</b><br>Words: answer, nobody, give, since, hygienic\",\"<b>Topic 1</b><br>Words: dammam, dimension, bag, specific, weight\",\"<b>Topic 1</b><br>Words: newcastle, airtags, soon, allowed, checked\",\"<b>Topic 1</b><br>Words: lost, reaching, section, mother, understand\"],\"marker\":{\"color\":\"#56B4E9\"},\"mode\":\"lines\",\"name\":\"1_bag_luggage_baggage_checked\",\"x\":[\"2022-10-06T09:48:29+00:00\",\"2022-10-06T13:53:49+00:00\",\"2022-10-07T20:51:04+00:00\",\"2022-10-08T14:28:02+00:00\",\"2022-10-09T23:48:56+00:00\",\"2022-10-10T14:04:55+00:00\",\"2022-10-10T22:19:46+00:00\",\"2022-10-11T06:27:45+00:00\",\"2022-10-11T08:40:56+00:00\",\"2022-10-11T12:08:31+00:00\",\"2022-10-12T01:15:09+00:00\",\"2022-10-12T16:18:36+00:00\",\"2022-10-12T16:20:08+00:00\",\"2022-10-12T16:46:55+00:00\",\"2022-10-13T11:22:26+00:00\",\"2022-10-13T11:47:23+00:00\",\"2022-10-14T08:55:20+00:00\",\"2022-10-15T10:49:49+00:00\",\"2022-10-15T18:15:43+00:00\",\"2022-10-16T14:49:08+00:00\",\"2022-10-17T01:22:02+00:00\",\"2022-10-17T01:52:28+00:00\",\"2022-10-17T06:54:52+00:00\",\"2022-10-17T07:54:55+00:00\",\"2022-10-17T11:45:00+00:00\",\"2022-10-17T16:22:33+00:00\",\"2022-10-17T16:24:38+00:00\",\"2022-10-17T17:00:20+00:00\",\"2022-10-17T20:25:13+00:00\",\"2022-10-17T21:11:08+00:00\",\"2022-10-18T02:32:06+00:00\",\"2022-10-18T07:24:19+00:00\",\"2022-10-18T09:43:31+00:00\",\"2022-10-18T11:02:58+00:00\",\"2022-10-19T23:47:20+00:00\",\"2022-10-20T00:29:04+00:00\",\"2022-10-21T07:22:10+00:00\",\"2022-10-21T08:41:55+00:00\",\"2022-10-21T08:43:23+00:00\",\"2022-10-21T10:45:13+00:00\",\"2022-10-21T23:07:18+00:00\",\"2022-10-22T02:50:12+00:00\",\"2022-10-25T06:26:22+00:00\",\"2022-10-25T08:28:55+00:00\",\"2022-10-25T19:00:31+00:00\",\"2022-10-25T19:01:45+00:00\",\"2022-10-26T05:06:47+00:00\",\"2022-10-26T06:12:12+00:00\",\"2022-10-26T09:53:39+00:00\",\"2022-10-26T12:41:43+00:00\",\"2022-10-27T20:30:10+00:00\",\"2022-10-28T09:39:55+00:00\",\"2022-10-28T10:15:45+00:00\",\"2022-10-28T15:13:23+00:00\",\"2022-10-28T17:06:07+00:00\",\"2022-10-28T18:27:43+00:00\",\"2022-10-29T04:54:43+00:00\",\"2022-10-30T19:47:21+00:00\",\"2022-10-30T22:02:45+00:00\",\"2022-10-31T00:43:05+00:00\",\"2022-10-31T01:29:10+00:00\",\"2022-10-31T09:15:04+00:00\",\"2022-10-31T19:54:34+00:00\",\"2022-10-31T20:17:13+00:00\",\"2022-11-01T06:03:22+00:00\",\"2022-11-01T10:20:48+00:00\",\"2022-11-02T19:43:57+00:00\",\"2022-11-03T02:22:22+00:00\",\"2022-11-03T07:06:17+00:00\",\"2022-11-03T15:13:38+00:00\",\"2022-11-03T21:51:37+00:00\",\"2022-11-04T05:41:29+00:00\",\"2022-11-04T13:37:26+00:00\",\"2022-11-04T17:05:50+00:00\",\"2022-11-05T04:15:32+00:00\",\"2022-11-05T05:47:20+00:00\",\"2022-11-06T04:49:53+00:00\",\"2022-11-06T06:42:30+00:00\",\"2022-11-06T14:53:51+00:00\",\"2022-11-07T04:57:52+00:00\",\"2022-11-07T10:55:44+00:00\",\"2022-11-07T16:02:18+00:00\",\"2022-11-07T18:50:34+00:00\",\"2022-11-07T23:21:49+00:00\",\"2022-11-09T17:40:53+00:00\",\"2022-11-11T13:53:59+00:00\",\"2022-11-11T17:03:27+00:00\",\"2022-11-12T10:14:18+00:00\",\"2022-11-12T11:05:37+00:00\",\"2022-11-12T14:14:20+00:00\",\"2022-11-12T20:17:11+00:00\",\"2022-11-13T08:56:57+00:00\",\"2022-11-13T09:11:16+00:00\",\"2022-11-13T13:13:01+00:00\",\"2022-11-13T13:13:46+00:00\",\"2022-11-14T04:25:52+00:00\",\"2022-11-14T16:43:49+00:00\",\"2022-11-14T17:21:49+00:00\",\"2022-11-14T17:26:21+00:00\",\"2022-11-15T00:47:43+00:00\",\"2022-11-15T06:44:36+00:00\",\"2022-11-15T12:14:59+00:00\",\"2022-11-15T16:33:09+00:00\",\"2022-11-16T07:41:26+00:00\",\"2022-11-16T13:04:23+00:00\",\"2022-11-16T18:44:42+00:00\",\"2022-11-17T09:27:33+00:00\",\"2022-11-17T13:41:01+00:00\",\"2022-11-18T08:20:54+00:00\",\"2022-11-18T12:55:00+00:00\",\"2022-11-18T13:51:52+00:00\",\"2022-11-18T19:13:44+00:00\"],\"y\":[1,1,1,1,1,1,1,1,1,1,1,1,1,1,1,1,1,1,1,1,1,1,1,1,1,1,1,1,1,1,1,1,1,1,1,1,1,1,1,1,1,1,1,1,1,1,1,1,1,1,1,1,1,1,1,1,1,1,1,1,1,1,1,1,1,1,1,1,1,1,1,1,1,1,1,1,1,1,1,1,1,1,1,1,1,1,1,1,1,1,1,1,1,1,1,1,1,1,1,1,1,1,1,1,1,1,1,1,1,1,1,1],\"type\":\"scatter\"},{\"hoverinfo\":\"text\",\"hovertext\":[\"<b>Topic 2</b><br>Words: 500km, basic, yeah, pointless, regulation\",\"<b>Topic 2</b><br>Words: chargeback, believe, gor, amex, initiate\",\"<b>Topic 2</b><br>Words: cancelled, account, debited, even, third\",\"<b>Topic 2</b><br>Words: refund, shell, gas, event, best\",\"<b>Topic 2</b><br>Words: word, amount, oct, cancelled, refund\",\"<b>Topic 2</b><br>Words: crazy, resolve, wife, extra, charge\",\"<b>Topic 2</b><br>Words: irresponsible, arrangement, august, expense, totally\",\"<b>Topic 2</b><br>Words: opened, repose, arrangement, august, expense\",\"<b>Topic 2</b><br>Words: arr, august, cancellation, rebook, care\",\"<b>Topic 2</b><br>Words: difference, cheaper, refund, would, flight\",\"<b>Topic 2</b><br>Words: canceled, rebook, year, due, covid\",\"<b>Topic 2</b><br>Words: cancel, shocked, living, totally, expected\",\"<b>Topic 2</b><br>Words: honour, entered, contract, part, failed\",\"<b>Topic 2</b><br>Words: living, minute, cost, cancel, today\",\"<b>Topic 2</b><br>Words: procedure, refund, ticket, cancel, rebook\",\"<b>Topic 2</b><br>Words: solution, got, thief, showed, robbed\",\"<b>Topic 2</b><br>Words: act, robbed, happen, company, refund\",\"<b>Topic 2</b><br>Words: selling, agency, edreams, scam, travel\",\"<b>Topic 2</b><br>Words: accessing, basically, contacted, cell, complementary\",\"<b>Topic 2</b><br>Words: bank, money, bounced, deceased, stalling\",\"<b>Topic 2</b><br>Words: positiv, emergency, medical, positive, credit\",\"<b>Topic 2</b><br>Words: wife, cant, hav, token, happiness\",\"<b>Topic 2</b><br>Words: speak, person, advise, cancelled, refund\",\"<b>Topic 2</b><br>Words: comply, written, walk, ready, policy\",\"<b>Topic 2</b><br>Words: account, zero, husband, different, feedback\",\"<b>Topic 2</b><br>Words: new, everytime, correctly, story, behaviour\",\"<b>Topic 2</b><br>Words: cancel, request, unused, anymore, submitted\",\"<b>Topic 2</b><br>Words: kul, bhx, booking, return, fall\",\"<b>Topic 2</b><br>Words: letter, cancelation, health, depart, accept\",\"<b>Topic 2</b><br>Words: lost, illogical, precious, shahin, reluctance\",\"<b>Topic 2</b><br>Words: utilized, proof, refund, ticket, cancel\",\"<b>Topic 2</b><br>Words: cancel, solution, care, give, like\",\"<b>Topic 2</b><br>Words: cancel, need, flight, refund, rebook\",\"<b>Topic 2</b><br>Words: war, imposing, iran, appropriate, cancelling\",\"<b>Topic 2</b><br>Words: happens, alternative, offer, cancelled, flight\",\"<b>Topic 2</b><br>Words: moral, huge, sort, hope, something\",\"<b>Topic 2</b><br>Words: ticket, refund, idj2gw, completed, june\",\"<b>Topic 2</b><br>Words: reference, money, number, unused, order\",\"<b>Topic 2</b><br>Words: progress, havent, may, refund, two\",\"<b>Topic 2</b><br>Words: twice, additional, baggage, policy, mistake\",\"<b>Topic 2</b><br>Words: statement, bank, far, update, refund\",\"<b>Topic 2</b><br>Words: spoke, original, appreciated, thing, helpful\",\"<b>Topic 2</b><br>Words: swift, remittance, advice, copy, provide\",\"<b>Topic 2</b><br>Words: refund, release, helping, nobody, amount\",\"<b>Topic 2</b><br>Words: fellow, equivalent, sit, refunded, sick\",\"<b>Topic 2</b><br>Words: mhd, clt, sept, cancellation, filled\",\"<b>Topic 2</b><br>Words: benefit, hubby, silver, gold, honeymoon\",\"<b>Topic 2</b><br>Words: supporting, refund, waiting, still, reply\"],\"marker\":{\"color\":\"#009E73\"},\"mode\":\"lines\",\"name\":\"2_refund_cancel_rebook_money\",\"x\":[\"2022-10-06T21:23:30+00:00\",\"2022-10-07T05:58:36+00:00\",\"2022-10-07T14:31:00+00:00\",\"2022-10-09T14:51:18+00:00\",\"2022-10-11T08:04:14+00:00\",\"2022-10-13T11:29:31+00:00\",\"2022-10-14T19:39:27+00:00\",\"2022-10-14T19:42:31+00:00\",\"2022-10-18T15:20:16+00:00\",\"2022-10-18T18:30:56+00:00\",\"2022-10-19T01:08:39+00:00\",\"2022-10-19T14:37:29+00:00\",\"2022-10-20T16:52:16+00:00\",\"2022-10-22T08:55:26+00:00\",\"2022-10-24T17:35:50+00:00\",\"2022-10-25T06:12:28+00:00\",\"2022-10-25T06:24:22+00:00\",\"2022-10-25T07:01:37+00:00\",\"2022-10-25T18:08:36+00:00\",\"2022-10-25T19:06:28+00:00\",\"2022-10-27T08:21:36+00:00\",\"2022-10-29T01:57:17+00:00\",\"2022-10-29T13:34:42+00:00\",\"2022-11-01T00:18:22+00:00\",\"2022-11-01T03:43:55+00:00\",\"2022-11-01T06:19:15+00:00\",\"2022-11-01T12:37:39+00:00\",\"2022-11-03T14:43:37+00:00\",\"2022-11-04T01:01:23+00:00\",\"2022-11-05T16:00:02+00:00\",\"2022-11-05T21:52:20+00:00\",\"2022-11-06T07:22:56+00:00\",\"2022-11-06T13:46:05+00:00\",\"2022-11-07T20:59:30+00:00\",\"2022-11-07T23:16:54+00:00\",\"2022-11-09T00:22:51+00:00\",\"2022-11-09T16:18:59+00:00\",\"2022-11-09T17:25:49+00:00\",\"2022-11-10T02:44:41+00:00\",\"2022-11-11T03:58:31+00:00\",\"2022-11-11T09:34:55+00:00\",\"2022-11-12T14:22:35+00:00\",\"2022-11-14T17:10:59+00:00\",\"2022-11-14T21:14:15+00:00\",\"2022-11-16T15:10:17+00:00\",\"2022-11-17T04:13:04+00:00\",\"2022-11-18T16:25:58+00:00\",\"2022-11-19T15:16:07+00:00\"],\"y\":[1,1,1,1,1,1,1,1,1,1,1,1,1,1,1,1,1,1,1,1,1,1,1,1,1,1,1,1,1,1,1,1,1,1,1,1,1,1,1,1,1,1,1,1,1,1,1,1],\"type\":\"scatter\"},{\"hoverinfo\":\"text\",\"hovertext\":[\"<b>Topic 3</b><br>Words: quote, included, room, advise, told\",\"<b>Topic 3</b><br>Words: helpline, need, morning, urgent, call\",\"<b>Topic 3</b><br>Words: notice, responded, reservation, changed, assistance\",\"<b>Topic 3</b><br>Words: exceptionally, chauffeur, busy, line, chat\",\"<b>Topic 3</b><br>Words: sending, booking, need, help, call\",\"<b>Topic 3</b><br>Words: message, waiting, booking, seat, still\",\"<b>Topic 3</b><br>Words: one, appalling, situation, talk, resolve\",\"<b>Topic 3</b><br>Words: hanging, contact, package, line, keep\",\"<b>Topic 3</b><br>Words: held, retrieve, booking, hour, call\",\"<b>Topic 3</b><br>Words: soon, nothing, tried, could, booking\",\"<b>Topic 3</b><br>Words: confirmation, ref, look, advise, unable\",\"<b>Topic 3</b><br>Words: responsive, entire, addressing, concern, reservation\",\"<b>Topic 3</b><br>Words: know, leave, enter, feedback, let\",\"<b>Topic 3</b><br>Words: redha, train, listen, correct, said\",\"<b>Topic 3</b><br>Words: incentive, telephone, flyer, frequent, line\",\"<b>Topic 3</b><br>Words: informing, processing, inboxed, value, regarding\",\"<b>Topic 3</b><br>Words: wanted, yet, booked, booking, check\",\"<b>Topic 3</b><br>Words: cause, upcoming, send, change, travel\",\"<b>Topic 3</b><br>Words: belgrade, hiring, canceled, appear, event\",\"<b>Topic 3</b><br>Words: chauffeur, scheduled, pick, confirm, contact\",\"<b>Topic 3</b><br>Words: cash, available, upgrade, become, clarification\",\"<b>Topic 3</b><br>Words: assist, destination, asap, tried, trip\",\"<b>Topic 3</b><br>Words: call, straight, issued, happening, ticket\",\"<b>Topic 3</b><br>Words: difficulty, rather, ref, manage, currently\",\"<b>Topic 3</b><br>Words: touch, booking, proper, suggest, connection\",\"<b>Topic 3</b><br>Words: rebooking, gotten, ive, anyone, morning\",\"<b>Topic 3</b><br>Words: destination, change, booking, hello, call\",\"<b>Topic 3</b><br>Words: retrieve, group, confirmation, way, also\",\"<b>Topic 3</b><br>Words: returning, msg, keep, unable, error\",\"<b>Topic 3</b><br>Words: appalling, bother, hear, service, soon\",\"<b>Topic 3</b><br>Words: senior, showed, checking, channel, guess\",\"<b>Topic 3</b><br>Words: open, make, ticket, please, booking\",\"<b>Topic 3</b><br>Words: reservation, paid, holding, hung, team\",\"<b>Topic 3</b><br>Words: hung, bangkok, car, hotel, booked\",\"<b>Topic 3</b><br>Words: call, centre, daughter, wednesday, confirmation\",\"<b>Topic 3</b><br>Words: message, sent, ticket, thanks, need\",\"<b>Topic 3</b><br>Words: assistance, thanks, ticket, need, please\"],\"marker\":{\"color\":\"#F0E442\"},\"mode\":\"lines\",\"name\":\"3_booking_call_help_ticket\",\"x\":[\"2022-10-06T15:39:46+00:00\",\"2022-10-06T21:45:15+00:00\",\"2022-10-07T04:34:45+00:00\",\"2022-10-07T09:06:07+00:00\",\"2022-10-07T09:49:57+00:00\",\"2022-10-07T13:29:44+00:00\",\"2022-10-10T06:37:10+00:00\",\"2022-10-10T11:37:09+00:00\",\"2022-10-10T15:46:06+00:00\",\"2022-10-12T18:29:00+00:00\",\"2022-10-13T08:31:55+00:00\",\"2022-10-13T19:25:11+00:00\",\"2022-10-15T14:09:59+00:00\",\"2022-10-19T03:53:37+00:00\",\"2022-10-19T15:56:20+00:00\",\"2022-10-20T15:52:20+00:00\",\"2022-10-21T22:37:37+00:00\",\"2022-10-24T07:02:41+00:00\",\"2022-10-24T19:03:05+00:00\",\"2022-10-27T16:18:28+00:00\",\"2022-10-29T00:21:20+00:00\",\"2022-10-31T05:16:20+00:00\",\"2022-10-31T14:45:32+00:00\",\"2022-11-02T11:10:34+00:00\",\"2022-11-02T17:23:25+00:00\",\"2022-11-03T16:51:33+00:00\",\"2022-11-03T18:43:14+00:00\",\"2022-11-04T11:03:01+00:00\",\"2022-11-04T15:01:17+00:00\",\"2022-11-08T18:01:45+00:00\",\"2022-11-09T06:04:26+00:00\",\"2022-11-09T11:24:11+00:00\",\"2022-11-12T10:06:01+00:00\",\"2022-11-14T06:19:11+00:00\",\"2022-11-14T07:44:00+00:00\",\"2022-11-15T23:42:57+00:00\",\"2022-11-16T04:19:40+00:00\"],\"y\":[1,1,1,1,1,1,1,1,1,1,1,1,1,1,1,1,1,1,1,1,1,1,1,1,1,1,1,1,1,1,1,1,1,1,1,1,1],\"type\":\"scatter\"},{\"hoverinfo\":\"text\",\"hovertext\":[\"<b>Topic 4</b><br>Words: comment, sure, forward, could, team\",\"<b>Topic 4</b><br>Words: complaint, inane, objection, easier, discus\",\"<b>Topic 4</b><br>Words: acknowledge, great, filled, quick, appreciate\",\"<b>Topic 4</b><br>Words: revert, formal, send, already, waiting\",\"<b>Topic 4</b><br>Words: upsetting, politely, hey, put, really\",\"<b>Topic 4</b><br>Words: rocketmiles, arm, reminder, acknowledgment, submitted\",\"<b>Topic 4</b><br>Words: invalid, character, complaint, form, deliberately\",\"<b>Topic 4</b><br>Words: chance, start, submitted, october, respond\",\"<b>Topic 4</b><br>Words: successful, couple, emailed, complaint, reply\",\"<b>Topic 4</b><br>Words: uploaded, ago, two, complaint, month\",\"<b>Topic 4</b><br>Words: revert, formal, send, already, waiting\",\"<b>Topic 4</b><br>Words: take, thought, apologize, hahahaha, customer\",\"<b>Topic 4</b><br>Words: ridicule, aim, assurance, forget, reached\",\"<b>Topic 4</b><br>Words: relation, delete, waste, past, anything\",\"<b>Topic 4</b><br>Words: tedious, form, complaint, thank, customer\",\"<b>Topic 4</b><br>Words: register, page, emailed, complain, feedback\",\"<b>Topic 4</b><br>Words: retort, except, receipt, social, acknowledgment\",\"<b>Topic 4</b><br>Words: enirates, disgrace, apology, closed, news\",\"<b>Topic 4</b><br>Words: address, make, complaint, email, customer\",\"<b>Topic 4</b><br>Words: monitoring, customer, several, unacceptable, min\",\"<b>Topic 4</b><br>Words: suggested, tier, email, colleague, three\",\"<b>Topic 4</b><br>Words: effort, side, handling, unprofessional, disappointing\",\"<b>Topic 4</b><br>Words: complaint, wonder, email, auto, day\",\"<b>Topic 4</b><br>Words: legal, otherwise, revert, immediately, action\",\"<b>Topic 4</b><br>Words: download, remit, watsapp, fake, mishandling\",\"<b>Topic 4</b><br>Words: respect, respond, would, customer, complaint\",\"<b>Topic 4</b><br>Words: responded, left, point, claim, response\",\"<b>Topic 4</b><br>Words: directly, send, told, complaint, long\",\"<b>Topic 4</b><br>Words: consumer, court, guess, update, guy\",\"<b>Topic 4</b><br>Words: digital, world, acceptable, working, today\",\"<b>Topic 4</b><br>Words: action, multiple, submitted, without, claim\",\"<b>Topic 4</b><br>Words: promise, take, intention, fulfil, false\",\"<b>Topic 4</b><br>Words: send, permission, bounce, recipient, emailing\",\"<b>Topic 4</b><br>Words: complaint, blocked, create, allowing, happening\",\"<b>Topic 4</b><br>Words: document, work, compensation, asked, really\"],\"marker\":{\"color\":\"#D55E00\"},\"mode\":\"lines\",\"name\":\"4_complaint_customer_email_take\",\"x\":[\"2022-10-07T02:47:19+00:00\",\"2022-10-07T08:29:08+00:00\",\"2022-10-08T09:30:47+00:00\",\"2022-10-08T17:07:40+00:00\",\"2022-10-08T17:23:35+00:00\",\"2022-10-09T11:42:31+00:00\",\"2022-10-10T06:31:31+00:00\",\"2022-10-11T09:56:20+00:00\",\"2022-10-11T16:29:25+00:00\",\"2022-10-12T08:48:27+00:00\",\"2022-10-12T11:14:33+00:00\",\"2022-10-14T17:32:31+00:00\",\"2022-10-16T07:49:11+00:00\",\"2022-10-16T17:28:19+00:00\",\"2022-10-17T07:10:38+00:00\",\"2022-10-17T17:01:06+00:00\",\"2022-10-19T11:39:17+00:00\",\"2022-10-22T12:59:23+00:00\",\"2022-10-23T07:38:10+00:00\",\"2022-10-25T08:12:07+00:00\",\"2022-10-30T18:53:43+00:00\",\"2022-10-31T01:46:10+00:00\",\"2022-11-01T18:49:32+00:00\",\"2022-11-02T18:24:39+00:00\",\"2022-11-05T18:41:24+00:00\",\"2022-11-07T13:20:07+00:00\",\"2022-11-07T14:13:45+00:00\",\"2022-11-08T06:22:53+00:00\",\"2022-11-08T16:38:46+00:00\",\"2022-11-11T20:51:33+00:00\",\"2022-11-12T00:27:38+00:00\",\"2022-11-16T06:53:04+00:00\",\"2022-11-16T13:38:01+00:00\",\"2022-11-17T10:55:09+00:00\",\"2022-11-17T14:57:04+00:00\"],\"y\":[1,1,1,1,1,1,1,1,1,1,1,1,1,1,1,1,1,1,1,1,1,1,1,1,1,1,1,1,1,1,1,1,1,1,1],\"type\":\"scatter\"},{\"hoverinfo\":\"text\",\"hovertext\":[\"<b>Topic 5</b><br>Words: thru, vaccinated, test, certificate, islamabad\",\"<b>Topic 5</b><br>Words: spain, vaccination, test, pcr, dos\",\"<b>Topic 5</b><br>Words: american, cdc, version, entering, vaccination\",\"<b>Topic 5</b><br>Words: seeing, booster, count, dos, vaccination\",\"<b>Topic 5</b><br>Words: hyderabad, require, travel, planning, johannesburg\",\"<b>Topic 5</b><br>Words: booster, classed, fully, vaccinated, dos\",\"<b>Topic 5</b><br>Words: classed, fully, vaccinated, nowhere, state\",\"<b>Topic 5</b><br>Words: zealous, govt, insisting, kong, subjected\",\"<b>Topic 5</b><br>Words: mandatory, doubt, vaccination, certificate, clear\",\"<b>Topic 5</b><br>Words: negative, resident, dose, spain, vaccination\",\"<b>Topic 5</b><br>Words: york, test, lumpur, kuala, required\",\"<b>Topic 5</b><br>Words: unvaccinated, test, pcr, requirement, traveling\",\"<b>Topic 5</b><br>Words: vaccination, say, section, pcr, top\",\"<b>Topic 5</b><br>Words: covid, milan, test, sydney, pre\",\"<b>Topic 5</b><br>Words: green, test, abu, dhabi, pcr\",\"<b>Topic 5</b><br>Words: nh, batch, enquiring, app, certificate\",\"<b>Topic 5</b><br>Words: transiting, thailand, vaccinated, soon, transit\",\"<b>Topic 5</b><br>Words: fully, vaccinated, primary, refer, classed\",\"<b>Topic 5</b><br>Words: attached, tweeted, contradictory, mid, putting\",\"<b>Topic 5</b><br>Words: unlike, expanded, cowin, portal, initial\",\"<b>Topic 5</b><br>Words: resident, rest, covid, travelling, hello\",\"<b>Topic 5</b><br>Words: recheck, zealand, pakistan, new, vaccination\",\"<b>Topic 5</b><br>Words: printed, code, certificate, vaccination, acceptable\",\"<b>Topic 5</b><br>Words: vaccination, pcr, record, yr, exempted\",\"<b>Topic 5</b><br>Words: bahrain, stopping, unvaccinated, pcr, end\",\"<b>Topic 5</b><br>Words: regardless, entry, testing, vaccination, status\",\"<b>Topic 5</b><br>Words: vaccine, dose, vaccinated, specific, loss\"],\"marker\":{\"color\":\"#0072B2\"},\"mode\":\"lines\",\"name\":\"5_vaccination_vaccinated_pcr_test\",\"x\":[\"2022-10-07T20:37:36+00:00\",\"2022-10-08T07:43:34+00:00\",\"2022-10-08T08:47:46+00:00\",\"2022-10-09T06:31:51+00:00\",\"2022-10-12T05:11:13+00:00\",\"2022-10-16T19:46:39+00:00\",\"2022-10-17T03:19:23+00:00\",\"2022-10-19T02:02:32+00:00\",\"2022-10-19T05:08:13+00:00\",\"2022-10-19T10:56:28+00:00\",\"2022-10-19T14:40:22+00:00\",\"2022-10-22T05:35:18+00:00\",\"2022-10-22T12:11:08+00:00\",\"2022-10-25T05:02:18+00:00\",\"2022-10-25T06:01:13+00:00\",\"2022-10-25T20:47:02+00:00\",\"2022-10-31T14:54:13+00:00\",\"2022-11-01T20:14:39+00:00\",\"2022-11-04T11:49:11+00:00\",\"2022-11-05T14:55:34+00:00\",\"2022-11-06T15:06:28+00:00\",\"2022-11-07T14:52:35+00:00\",\"2022-11-08T03:26:25+00:00\",\"2022-11-09T22:42:31+00:00\",\"2022-11-12T17:27:19+00:00\",\"2022-11-14T08:54:48+00:00\",\"2022-11-15T21:22:01+00:00\"],\"y\":[1,1,1,1,1,1,1,1,1,1,1,1,1,1,1,1,1,1,1,1,1,1,1,1,1,1,1],\"type\":\"scatter\"},{\"hoverinfo\":\"text\",\"hovertext\":[\"<b>Topic 6</b><br>Words: amsterdam, suffering, elderly, everyone, mother\",\"<b>Topic 6</b><br>Words: lane, gatwick, priority, security, class\",\"<b>Topic 6</b><br>Words: bangalore, floor, incredible, skill, teach\",\"<b>Topic 6</b><br>Words: flat, lay, business, class, need\",\"<b>Topic 6</b><br>Words: lounge, sunday, closed, bhx, used\",\"<b>Topic 6</b><br>Words: purchase, access, used, lounge, advise\",\"<b>Topic 6</b><br>Words: lounge, use, thanks, flight, business\",\"<b>Topic 6</b><br>Words: professionalism, increase, lounge, hour, giving\",\"<b>Topic 6</b><br>Words: heathrow, open, lounge, hello, business\",\"<b>Topic 6</b><br>Words: average, lounge, access, complementary, future\",\"<b>Topic 6</b><br>Words: access, lounge, life, gentleman, nice\",\"<b>Topic 6</b><br>Words: gardermoen, oslo, lounge, hey, class\",\"<b>Topic 6</b><br>Words: biz, aire, buenos, eze, gig\",\"<b>Topic 6</b><br>Words: blue, access, lounge, member, economy\",\"<b>Topic 6</b><br>Words: lounge, terminal, shower, private, including\",\"<b>Topic 6</b><br>Words: amenity, kit, london, class, business\",\"<b>Topic 6</b><br>Words: lounge, octavia, spectacular, annetta, shabby\",\"<b>Topic 6</b><br>Words: lounge, escape, stn, previously, stansted\",\"<b>Topic 6</b><br>Words: business, uncharacteristically, transfer, accompany, accommodate\",\"<b>Topic 6</b><br>Words: plz, reconfirm, guide, wheelchair, mother\",\"<b>Topic 6</b><br>Words: mumbai, wheelchair, traveling, book, airport\",\"<b>Topic 6</b><br>Words: allows, stansted, priority, security, class\",\"<b>Topic 6</b><br>Words: finding, airbus, circuit, running, wanted\",\"<b>Topic 6</b><br>Words: access, lounge, class, business, endorsed\",\"<b>Topic 6</b><br>Words: business, empty, upgrading, okay, economy\",\"<b>Topic 6</b><br>Words: assistance, class, business, upgrade, need\"],\"marker\":{\"color\":\"#CC79A7\"},\"mode\":\"lines\",\"name\":\"6_lounge_business_class_access\",\"x\":[\"2022-10-06T20:32:57+00:00\",\"2022-10-07T15:52:57+00:00\",\"2022-10-09T04:03:53+00:00\",\"2022-10-11T13:30:55+00:00\",\"2022-10-12T14:32:50+00:00\",\"2022-10-12T19:20:23+00:00\",\"2022-10-13T06:47:39+00:00\",\"2022-10-13T16:24:18+00:00\",\"2022-10-16T20:22:32+00:00\",\"2022-10-21T03:30:03+00:00\",\"2022-10-25T12:31:47+00:00\",\"2022-10-25T13:08:08+00:00\",\"2022-10-26T00:16:39+00:00\",\"2022-10-28T00:15:03+00:00\",\"2022-10-28T14:46:54+00:00\",\"2022-11-02T06:55:42+00:00\",\"2022-11-04T06:51:22+00:00\",\"2022-11-04T08:02:10+00:00\",\"2022-11-06T21:12:21+00:00\",\"2022-11-07T04:20:32+00:00\",\"2022-11-08T05:18:30+00:00\",\"2022-11-09T13:47:49+00:00\",\"2022-11-12T15:38:34+00:00\",\"2022-11-14T09:28:27+00:00\",\"2022-11-15T16:08:32+00:00\",\"2022-11-17T03:42:10+00:00\"],\"y\":[1,1,1,1,1,1,1,1,1,1,1,1,1,1,1,1,1,1,1,1,1,1,1,1,1,1],\"type\":\"scatter\"},{\"hoverinfo\":\"text\",\"hovertext\":[\"<b>Topic 7</b><br>Words: generic, nearly, sent, respond, got\",\"<b>Topic 7</b><br>Words: unfair, bit, think, thanks, got\",\"<b>Topic 7</b><br>Words: quick, required, sent, information, thank\",\"<b>Topic 7</b><br>Words: mentioned, exactly, asked, sent, thanks\",\"<b>Topic 7</b><br>Words: sent, message, thank, thanks, prompt\",\"<b>Topic 7</b><br>Words: sent, much, message, thank, thanks\",\"<b>Topic 7</b><br>Words: needful, done, thanks, sent, thank\",\"<b>Topic 7</b><br>Words: okay, quick, appreciate, thank, response\",\"<b>Topic 7</b><br>Words: though, question, thanks, sent, thank\",\"<b>Topic 7</b><br>Words: sent, detail, could, thanks, reply\",\"<b>Topic 7</b><br>Words: prompt, sent, thanks, response, thank\",\"<b>Topic 7</b><br>Words: option, sent, see, thanks, thank\",\"<b>Topic 7</b><br>Words: great, many, thanks, sent, thank\",\"<b>Topic 7</b><br>Words: thread, question, done, submitted, pls\",\"<b>Topic 7</b><br>Words: across, ive, sent, thanks, thank\",\"<b>Topic 7</b><br>Words: sent, detail, help, thanks, thank\",\"<b>Topic 7</b><br>Words: inquiry, sent, thanks, thank, prompt\",\"<b>Topic 7</b><br>Words: quite, sent, many, urgent, thanks\",\"<b>Topic 7</b><br>Words: sent, already, email, help, please\",\"<b>Topic 7</b><br>Words: advised, prompt, sent, thanks, detail\",\"<b>Topic 7</b><br>Words: resolve, replied, asap, please, sent\",\"<b>Topic 7</b><br>Words: sort, done, already, please, sent\"],\"marker\":{\"color\":\"#E69F00\"},\"mode\":\"lines\",\"name\":\"7_sent_thanks_thank_prompt\",\"x\":[\"2022-10-06T15:12:38+00:00\",\"2022-10-07T10:32:11+00:00\",\"2022-10-12T11:17:35+00:00\",\"2022-10-14T04:07:52+00:00\",\"2022-10-23T11:03:12+00:00\",\"2022-10-23T18:14:47+00:00\",\"2022-10-24T17:40:42+00:00\",\"2022-10-25T13:26:08+00:00\",\"2022-10-28T01:51:43+00:00\",\"2022-10-28T20:23:35+00:00\",\"2022-10-29T02:45:03+00:00\",\"2022-10-29T03:10:08+00:00\",\"2022-11-03T15:24:37+00:00\",\"2022-11-07T09:14:46+00:00\",\"2022-11-07T09:29:25+00:00\",\"2022-11-07T17:58:42+00:00\",\"2022-11-12T01:25:47+00:00\",\"2022-11-15T16:15:53+00:00\",\"2022-11-16T20:21:38+00:00\",\"2022-11-17T10:57:58+00:00\",\"2022-11-17T16:36:21+00:00\",\"2022-11-18T11:32:46+00:00\"],\"y\":[1,1,1,1,1,1,1,1,1,1,1,1,1,1,1,1,1,1,1,1,1,1],\"type\":\"scatter\"},{\"hoverinfo\":\"text\",\"hovertext\":[\"<b>Topic 8</b><br>Words: somebody, urgent, asap, today, could\",\"<b>Topic 8</b><br>Words: currently, available, tell, could, someone\",\"<b>Topic 8</b><br>Words: chat, hey, possible, available, see\",\"<b>Topic 8</b><br>Words: screen, crashed, play, video, overnight\",\"<b>Topic 8</b><br>Words: toooo, hold, london, phone, long\",\"<b>Topic 8</b><br>Words: amor, cape, town, attitude, horrible\",\"<b>Topic 8</b><br>Words: chat, live, working, vfs, another\",\"<b>Topic 8</b><br>Words: thursday, asking, october, made, know\",\"<b>Topic 8</b><br>Words: appreciate, layover, alternatively, shorter, would\",\"<b>Topic 8</b><br>Words: girl, hospital, discus, move, chat\",\"<b>Topic 8</b><br>Words: shortly, sydney, coming, soon, possible\",\"<b>Topic 8</b><br>Words: aware, buy, technical, problem, guy\",\"<b>Topic 8</b><br>Words: connected, roaming, travalled, communicate, sydney\",\"<b>Topic 8</b><br>Words: 30, december, november, flight, chat\",\"<b>Topic 8</b><br>Words: forever, impossible, arrange, special, hold\",\"<b>Topic 8</b><br>Words: date, earlier, possible, want, change\",\"<b>Topic 8</b><br>Words: like, support, would, hello, please\",\"<b>Topic 8</b><br>Words: saw, corresponded, stansted, original, checking\",\"<b>Topic 8</b><br>Words: everything, ocean, towards, fine, heading\",\"<b>Topic 8</b><br>Words: wait, tomorrow, flying, month, flight\",\"<b>Topic 8</b><br>Words: option, indicates, norm, added, december\",\"<b>Topic 8</b><br>Words: could, center, chat, either, get\"],\"marker\":{\"color\":\"#56B4E9\"},\"mode\":\"lines\",\"name\":\"8_flight_chat_trying_possible\",\"x\":[\"2022-10-08T08:58:14+00:00\",\"2022-10-08T16:50:00+00:00\",\"2022-10-08T18:08:07+00:00\",\"2022-10-09T13:43:34+00:00\",\"2022-10-11T12:20:21+00:00\",\"2022-10-13T23:17:06+00:00\",\"2022-10-14T11:36:33+00:00\",\"2022-10-14T16:50:47+00:00\",\"2022-10-19T19:44:12+00:00\",\"2022-10-23T10:52:13+00:00\",\"2022-10-25T22:15:22+00:00\",\"2022-10-28T09:49:52+00:00\",\"2022-11-03T03:35:47+00:00\",\"2022-11-04T05:54:05+00:00\",\"2022-11-05T14:46:32+00:00\",\"2022-11-07T15:16:58+00:00\",\"2022-11-07T16:19:03+00:00\",\"2022-11-10T07:47:59+00:00\",\"2022-11-10T19:12:52+00:00\",\"2022-11-12T18:07:33+00:00\",\"2022-11-13T13:41:59+00:00\",\"2022-11-18T21:05:16+00:00\"],\"y\":[1,1,1,1,1,1,1,1,1,1,1,1,1,1,1,1,1,1,1,1,1,1],\"type\":\"scatter\"},{\"hoverinfo\":\"text\",\"hovertext\":[\"<b>Topic 9</b><br>Words: bassinet, baby, manage, add, option\",\"<b>Topic 9</b><br>Words: seat, restricted, complimentary, silver, select\",\"<b>Topic 9</b><br>Words: hefty, shameless, penalty, bassinet, baby\",\"<b>Topic 9</b><br>Words: able, promptness, via, app, love\",\"<b>Topic 9</b><br>Words: window, get, seat, unable, checked\",\"<b>Topic 9</b><br>Words: legroom, dbx, boarded, allocated, love\",\"<b>Topic 9</b><br>Words: seat, change, need, help, able\",\"<b>Topic 9</b><br>Words: twin, able, seat, convenience, allocate\",\"<b>Topic 9</b><br>Words: cabin, 22, schooler, swapped, split\",\"<b>Topic 9</b><br>Words: pal, extenders, allow, plane, seat\",\"<b>Topic 9</b><br>Words: knee, tray, hematoma, falling, add\",\"<b>Topic 9</b><br>Words: platform, authority, selecting, suggesting, bcz\",\"<b>Topic 9</b><br>Words: seat, wont, moment, selection, choose\",\"<b>Topic 9</b><br>Words: seat, two, dad, janqrb, adjacent\",\"<b>Topic 9</b><br>Words: seat, skid, fob, altogether, allocated\",\"<b>Topic 9</b><br>Words: foldable, airplane, chargeable, seat, stroller\",\"<b>Topic 9</b><br>Words: seat, chosen, showing, paid, app\",\"<b>Topic 9</b><br>Words: selection, seat, international, rip, traveller\",\"<b>Topic 9</b><br>Words: guaranteed, opportunity, one, seat, next\",\"<b>Topic 9</b><br>Words: bassinet, select, advise, seat, could\"],\"marker\":{\"color\":\"#009E73\"},\"mode\":\"lines\",\"name\":\"9_seat_able_select_selection\",\"x\":[\"2022-10-09T17:45:27+00:00\",\"2022-10-12T10:56:58+00:00\",\"2022-10-12T17:39:37+00:00\",\"2022-10-13T05:18:55+00:00\",\"2022-10-13T22:40:35+00:00\",\"2022-10-14T04:46:56+00:00\",\"2022-10-20T18:49:01+00:00\",\"2022-10-21T20:13:35+00:00\",\"2022-10-22T20:10:30+00:00\",\"2022-10-24T11:31:25+00:00\",\"2022-10-29T05:44:24+00:00\",\"2022-10-29T07:56:59+00:00\",\"2022-11-04T03:43:40+00:00\",\"2022-11-06T18:01:24+00:00\",\"2022-11-08T00:30:52+00:00\",\"2022-11-09T09:03:01+00:00\",\"2022-11-11T10:50:38+00:00\",\"2022-11-14T23:57:56+00:00\",\"2022-11-15T09:29:44+00:00\",\"2022-11-18T10:00:48+00:00\"],\"y\":[1,1,1,1,1,1,1,1,1,1,1,1,1,1,1,1,1,1,1,1],\"type\":\"scatter\"},{\"hoverinfo\":\"text\",\"hovertext\":[\"<b>Topic 10</b><br>Words: spicy, particularly, vegetarian, meal, indian\",\"<b>Topic 10</b><br>Words: enjoy, meal, offer, solution, paid\",\"<b>Topic 10</b><br>Words: lettuce, dinner, meal, stuck, special\",\"<b>Topic 10</b><br>Words: meal, child, request, infant, boy\",\"<b>Topic 10</b><br>Words: infant, boy, meal, little, child\",\"<b>Topic 10</b><br>Words: nut, meal, passed, residue, ingredient\",\"<b>Topic 10</b><br>Words: low, etc, different, meal, diabetic\",\"<b>Topic 10</b><br>Words: awful, cater, food, religion, severe\",\"<b>Topic 10</b><br>Words: seems, guarantee, myside, prepared, allergen\",\"<b>Topic 10</b><br>Words: probably, drink, affair, nut, onboard\",\"<b>Topic 10</b><br>Words: dietary, milk, insane, place, cater\",\"<b>Topic 10</b><br>Words: young, diary, oat, intolerant, melbourne\",\"<b>Topic 10</b><br>Words: accommodation, helped, meal, lot, hotel\",\"<b>Topic 10</b><br>Words: vegan, meal, stick, whipped, chocolate\",\"<b>Topic 10</b><br>Words: january, meal, osaka, display, preference\",\"<b>Topic 10</b><br>Words: gluten, vegan, cater, food, hour\",\"<b>Topic 10</b><br>Words: didnt, whole, meal, dnt, forgot\",\"<b>Topic 10</b><br>Words: dietary, inform, requirement, booked, flight\",\"<b>Topic 10</b><br>Words: allergy, tokyo, menu, narita, gla\",\"<b>Topic 10</b><br>Words: baby, ahemdabad, chilling, enjoying, walk\"],\"marker\":{\"color\":\"#F0E442\"},\"mode\":\"lines\",\"name\":\"10_meal_food_nut_cater\",\"x\":[\"2022-10-08T14:13:45+00:00\",\"2022-10-10T16:42:18+00:00\",\"2022-10-13T22:41:12+00:00\",\"2022-10-14T07:19:35+00:00\",\"2022-10-14T13:41:14+00:00\",\"2022-10-16T07:52:46+00:00\",\"2022-10-16T07:58:39+00:00\",\"2022-10-16T08:00:06+00:00\",\"2022-10-19T11:38:47+00:00\",\"2022-10-20T18:45:26+00:00\",\"2022-10-22T12:58:28+00:00\",\"2022-10-22T16:04:22+00:00\",\"2022-10-22T17:58:41+00:00\",\"2022-10-23T16:00:42+00:00\",\"2022-10-29T02:52:59+00:00\",\"2022-10-30T17:04:45+00:00\",\"2022-11-03T16:22:05+00:00\",\"2022-11-04T16:35:55+00:00\",\"2022-11-07T11:24:56+00:00\",\"2022-11-17T21:33:14+00:00\"],\"y\":[1,1,1,1,1,1,1,1,1,1,1,1,1,1,1,1,1,1,1,1],\"type\":\"scatter\"},{\"hoverinfo\":\"text\",\"hovertext\":[\"<b>Topic 11</b><br>Words: automated, message, reply, response, messaged\",\"<b>Topic 11</b><br>Words: sometime, ongoing, respond, waiting, still\",\"<b>Topic 11</b><br>Words: ive, arrival, submitted, night, already\",\"<b>Topic 11</b><br>Words: enquiry, initiate, needed, well, information\",\"<b>Topic 11</b><br>Words: noted, automated, channel, far, message\",\"<b>Topic 11</b><br>Words: follow, question, send, message, response\",\"<b>Topic 11</b><br>Words: solution, offer, message, reply, response\",\"<b>Topic 11</b><br>Words: emailed, detail, response, message, reply\",\"<b>Topic 11</b><br>Words: frustrating, received, response, message, reply\",\"<b>Topic 11</b><br>Words: shamble, ball, ups, turned, sorting\",\"<b>Topic 11</b><br>Words: task, completed, awaiting, different, already\",\"<b>Topic 11</b><br>Words: follow, feedback, already, sent, response\",\"<b>Topic 11</b><br>Words: await, step, next, resolution, see\",\"<b>Topic 11</b><br>Words: urgent, information, message, respond, support\",\"<b>Topic 11</b><br>Words: messaged, ago, hour, response, message\",\"<b>Topic 11</b><br>Words: awaiting, expect, reply, one, message\",\"<b>Topic 11</b><br>Words: incident, information, via, detail, sent\",\"<b>Topic 11</b><br>Words: expected, waiting, still, response, message\",\"<b>Topic 11</b><br>Words: messaged, close, gate, till, hour\"],\"marker\":{\"color\":\"#D55E00\"},\"mode\":\"lines\",\"name\":\"11_message_response_reply_messaged\",\"x\":[\"2022-10-06T14:46:09+00:00\",\"2022-10-10T09:58:41+00:00\",\"2022-10-12T08:38:48+00:00\",\"2022-10-17T21:59:55+00:00\",\"2022-10-21T05:59:24+00:00\",\"2022-10-22T21:17:13+00:00\",\"2022-10-25T08:32:03+00:00\",\"2022-10-28T12:48:47+00:00\",\"2022-10-29T23:19:00+00:00\",\"2022-11-01T16:42:08+00:00\",\"2022-11-04T23:17:06+00:00\",\"2022-11-05T07:00:56+00:00\",\"2022-11-10T19:38:11+00:00\",\"2022-11-11T21:43:43+00:00\",\"2022-11-12T08:26:26+00:00\",\"2022-11-13T08:52:10+00:00\",\"2022-11-13T10:43:29+00:00\",\"2022-11-14T23:11:17+00:00\",\"2022-11-18T20:03:45+00:00\"],\"y\":[1,1,1,1,1,1,1,1,1,1,1,1,1,1,1,1,1,1,1],\"type\":\"scatter\"},{\"hoverinfo\":\"text\",\"hovertext\":[\"<b>Topic 12</b><br>Words: asap, hey, someone, please, back\",\"<b>Topic 12</b><br>Words: please, question, ask, someone, back\",\"<b>Topic 12</b><br>Words: answer, someone, please, check, urgent\",\"<b>Topic 12</b><br>Words: back, urgent, please, get, asap\",\"<b>Topic 12</b><br>Words: urgent, please, answer, check, kindly\",\"<b>Topic 12</b><br>Words: look, detail, please, check, urgent\",\"<b>Topic 12</b><br>Words: dm, check, please, urgent, kindly\",\"<b>Topic 12</b><br>Words: anyone, answer, thank, please, check\",\"<b>Topic 12</b><br>Words: asap, respond, please, check, urgent\",\"<b>Topic 12</b><br>Words: copy, check, please, urgent, kindly\",\"<b>Topic 12</b><br>Words: relpy, kindly, check, please, message\",\"<b>Topic 12</b><br>Words: inbox, kindly, check, thanks, please\",\"<b>Topic 12</b><br>Words: anyone, available, please, help, check\",\"<b>Topic 12</b><br>Words: kindly, check, thank, please, urgent\",\"<b>Topic 12</b><br>Words: kindly, check, please, urgent, anyone\",\"<b>Topic 12</b><br>Words: dmed, urgently, please, help, check\",\"<b>Topic 12</b><br>Words: dm, miss, urgent, bit, please\",\"<b>Topic 12</b><br>Words: anyone, wondering, available, help, please\",\"<b>Topic 12</b><br>Words: urgent, please, thanks, help, need\"],\"marker\":{\"color\":\"#0072B2\"},\"mode\":\"lines\",\"name\":\"12_please_check_urgent_kindly\",\"x\":[\"2022-10-08T09:28:42+00:00\",\"2022-10-08T17:05:47+00:00\",\"2022-10-08T17:13:13+00:00\",\"2022-10-08T17:36:49+00:00\",\"2022-10-08T17:38:09+00:00\",\"2022-10-10T16:43:36+00:00\",\"2022-10-13T08:45:33+00:00\",\"2022-10-20T11:56:17+00:00\",\"2022-10-25T05:35:21+00:00\",\"2022-10-25T21:16:41+00:00\",\"2022-10-27T13:52:30+00:00\",\"2022-10-28T07:16:52+00:00\",\"2022-10-30T05:42:02+00:00\",\"2022-11-02T08:26:53+00:00\",\"2022-11-07T08:40:59+00:00\",\"2022-11-12T21:13:35+00:00\",\"2022-11-13T08:15:20+00:00\",\"2022-11-14T00:18:42+00:00\",\"2022-11-16T05:23:07+00:00\"],\"y\":[1,1,1,1,1,1,1,1,1,1,1,1,1,1,1,1,1,1,1],\"type\":\"scatter\"},{\"hoverinfo\":\"text\",\"hovertext\":[\"<b>Topic 13</b><br>Words: am, bom, mile, working, use\",\"<b>Topic 13</b><br>Words: mile, without, suffered, concurring, transferring\",\"<b>Topic 13</b><br>Words: redeem, mile, anyone, unable, family\",\"<b>Topic 13</b><br>Words: skywards, account, getting, help, need\",\"<b>Topic 13</b><br>Words: time, worse, mile, lounge, apology\",\"<b>Topic 13</b><br>Words: balance, mile, family, dashboard, spend\",\"<b>Topic 13</b><br>Words: balance, mile, skyward, seen, logged\",\"<b>Topic 13</b><br>Words: newark, mile, sky, round, returned\",\"<b>Topic 13</b><br>Words: missing, mile, claim, help, please\",\"<b>Topic 13</b><br>Words: mile, skyward, june, add, right\",\"<b>Topic 13</b><br>Words: gift, skyward, mile, friend, cost\",\"<b>Topic 13</b><br>Words: account, setting, reset, yikes, password\",\"<b>Topic 13</b><br>Words: skysurfer, round, mile, circle, unable\",\"<b>Topic 13</b><br>Words: mile, presenting, occasion, avois, transferring\",\"<b>Topic 13</b><br>Words: mile, ward, sky, skyward, useless\",\"<b>Topic 13</b><br>Words: skyward, number, reply, thanks, mile\",\"<b>Topic 13</b><br>Words: mile, representative, skyward, sufficient, though\",\"<b>Topic 13</b><br>Words: mile, waited, adding, transferred, got\"],\"marker\":{\"color\":\"#CC79A7\"},\"mode\":\"lines\",\"name\":\"13_mile_skyward_balance_help\",\"x\":[\"2022-10-07T13:24:03+00:00\",\"2022-10-08T18:03:10+00:00\",\"2022-10-10T17:16:19+00:00\",\"2022-10-11T23:10:35+00:00\",\"2022-10-18T06:46:50+00:00\",\"2022-10-18T19:51:46+00:00\",\"2022-10-21T17:07:20+00:00\",\"2022-10-22T14:45:31+00:00\",\"2022-10-25T05:50:47+00:00\",\"2022-10-25T15:16:01+00:00\",\"2022-10-26T08:41:45+00:00\",\"2022-10-27T18:28:21+00:00\",\"2022-10-31T15:04:23+00:00\",\"2022-11-06T11:59:43+00:00\",\"2022-11-10T05:44:33+00:00\",\"2022-11-14T03:35:21+00:00\",\"2022-11-15T20:27:52+00:00\",\"2022-11-18T10:52:58+00:00\"],\"y\":[1,1,1,1,1,1,1,1,1,1,1,1,1,1,1,1,1,1],\"type\":\"scatter\"},{\"hoverinfo\":\"text\",\"hovertext\":[\"<b>Topic 14</b><br>Words: error, entering, flyer, frequent, checking\",\"<b>Topic 14</b><br>Words: attempting, running, book, good, offer\",\"<b>Topic 14</b><br>Words: idea, change, fixed, error, website\",\"<b>Topic 14</b><br>Words: impossible, hard, book, actually, skywards\",\"<b>Topic 14</b><br>Words: technical, seem, book, website, issue\",\"<b>Topic 14</b><br>Words: book, working, website, trying, flight\",\"<b>Topic 14</b><br>Words: various, book, sorting, aware, device\",\"<b>Topic 14</b><br>Words: kick, arabia, saudi, book, three\",\"<b>Topic 14</b><br>Words: technical, error, book, app, website\",\"<b>Topic 14</b><br>Words: constant, technical, error, book, app\"],\"marker\":{\"color\":\"#E69F00\"},\"mode\":\"lines\",\"name\":\"14_book_trying_error_website\",\"x\":[\"2022-10-08T12:59:18+00:00\",\"2022-10-12T13:30:43+00:00\",\"2022-10-13T01:10:43+00:00\",\"2022-10-24T13:46:20+00:00\",\"2022-10-31T01:12:02+00:00\",\"2022-11-05T13:57:45+00:00\",\"2022-11-05T14:43:41+00:00\",\"2022-11-13T07:18:09+00:00\",\"2022-11-14T13:56:21+00:00\",\"2022-11-15T17:59:03+00:00\"],\"y\":[1,1,1,1,1,1,1,1,1,1],\"type\":\"scatter\"},{\"hoverinfo\":\"text\",\"hovertext\":[\"<b>Topic 15</b><br>Words: surname, name, passport, blank, column\",\"<b>Topic 15</b><br>Words: suraina, surname, brother, malik, kinha\",\"<b>Topic 15</b><br>Words: kindly, name, needful, ready, usd\",\"<b>Topic 15</b><br>Words: name, highly, bhavana, sarikonda, com\",\"<b>Topic 15</b><br>Words: name, shorten, make, error, long\",\"<b>Topic 15</b><br>Words: surname, married, name, first, maiden\",\"<b>Topic 15</b><br>Words: name, middle, space, first, normal\",\"<b>Topic 15</b><br>Words: payment, filling, make, website, detail\"],\"marker\":{\"color\":\"#56B4E9\"},\"mode\":\"lines\",\"name\":\"15_name_surname_first_payment\",\"x\":[\"2022-10-09T10:50:37+00:00\",\"2022-10-16T09:59:02+00:00\",\"2022-10-21T03:35:10+00:00\",\"2022-10-22T19:49:23+00:00\",\"2022-10-24T09:10:42+00:00\",\"2022-10-25T18:53:09+00:00\",\"2022-10-30T20:10:58+00:00\",\"2022-11-07T04:46:24+00:00\"],\"y\":[1,1,1,1,1,1,1,1],\"type\":\"scatter\"},{\"hoverinfo\":\"text\",\"hovertext\":[\"<b>Topic 16</b><br>Words: fill, declaration, counter, reach, stand\",\"<b>Topic 16</b><br>Words: line, standing, staff, min, joke\",\"<b>Topic 16</b><br>Words: employee, checkin, shame, many, waiting\",\"<b>Topic 16</b><br>Words: queue, counter, told, standing, ruckus\",\"<b>Topic 16</b><br>Words: early, crowded, harm, safe, allowing\",\"<b>Topic 16</b><br>Words: allowin, crowded, safe, harm, early\",\"<b>Topic 16</b><br>Words: boarding, continuously, check, scheduled, stand\",\"<b>Topic 16</b><br>Words: visible, check, frankfurt, current, counter\"],\"marker\":{\"color\":\"#009E73\"},\"mode\":\"lines\",\"name\":\"16_counter_early_check_reach\",\"x\":[\"2022-10-14T03:32:14+00:00\",\"2022-10-14T07:41:46+00:00\",\"2022-10-15T12:00:47+00:00\",\"2022-10-21T20:54:56+00:00\",\"2022-10-29T10:59:08+00:00\",\"2022-10-29T11:42:10+00:00\",\"2022-11-12T08:29:38+00:00\",\"2022-11-13T09:17:47+00:00\"],\"y\":[1,1,1,1,1,1,1,1],\"type\":\"scatter\"},{\"hoverinfo\":\"text\",\"hovertext\":[\"<b>Topic 17</b><br>Words: paid, upgrade, company, appreciate, thank\",\"<b>Topic 17</b><br>Words: upgrade, working, trying, ticket, help\",\"<b>Topic 17</b><br>Words: upgrade, grab, preferably, rather, buy\",\"<b>Topic 17</b><br>Words: hope, upgrade, detail, help, paid\",\"<b>Topic 17</b><br>Words: redo, upgrade, button, mid, failed\",\"<b>Topic 17</b><br>Words: upgrade, refunding, evidently, attempted, order\",\"<b>Topic 17</b><br>Words: upgrade, reward, frustrating, point, family\"],\"marker\":{\"color\":\"#F0E442\"},\"mode\":\"lines\",\"name\":\"17_upgrade_help_paid_grab\",\"x\":[\"2022-10-09T16:17:30+00:00\",\"2022-10-10T19:11:05+00:00\",\"2022-10-31T14:08:45+00:00\",\"2022-11-03T13:36:47+00:00\",\"2022-11-09T11:43:48+00:00\",\"2022-11-11T05:29:33+00:00\",\"2022-11-18T21:11:10+00:00\"],\"y\":[1,1,1,1,1,1,1],\"type\":\"scatter\"},{\"hoverinfo\":\"text\",\"hovertext\":[\"<b>Topic 18</b><br>Words: five, star, dublin, staying, tonight\",\"<b>Topic 18</b><br>Words: dublin, reception, disembarked, diverted, bus\",\"<b>Topic 18</b><br>Words: dublin, exhausted, function, realize, selected\",\"<b>Topic 18</b><br>Words: exhausted, dublin, cancellation, layover, day\",\"<b>Topic 18</b><br>Words: beside, corridor, putting, nightmare, rest\",\"<b>Topic 18</b><br>Words: haul, blanket, time, night, long\"],\"marker\":{\"color\":\"#D55E00\"},\"mode\":\"lines\",\"name\":\"18_dublin_exhausted_five_star\",\"x\":[\"2022-10-19T15:41:39+00:00\",\"2022-10-19T18:54:30+00:00\",\"2022-10-22T06:40:08+00:00\",\"2022-10-22T06:46:08+00:00\",\"2022-10-29T05:28:36+00:00\",\"2022-11-02T19:10:19+00:00\"],\"y\":[1,1,1,1,1,1],\"type\":\"scatter\"}],                        {\"template\":{\"data\":{\"barpolar\":[{\"marker\":{\"line\":{\"color\":\"white\",\"width\":0.5},\"pattern\":{\"fillmode\":\"overlay\",\"size\":10,\"solidity\":0.2}},\"type\":\"barpolar\"}],\"bar\":[{\"error_x\":{\"color\":\"rgb(36,36,36)\"},\"error_y\":{\"color\":\"rgb(36,36,36)\"},\"marker\":{\"line\":{\"color\":\"white\",\"width\":0.5},\"pattern\":{\"fillmode\":\"overlay\",\"size\":10,\"solidity\":0.2}},\"type\":\"bar\"}],\"carpet\":[{\"aaxis\":{\"endlinecolor\":\"rgb(36,36,36)\",\"gridcolor\":\"white\",\"linecolor\":\"white\",\"minorgridcolor\":\"white\",\"startlinecolor\":\"rgb(36,36,36)\"},\"baxis\":{\"endlinecolor\":\"rgb(36,36,36)\",\"gridcolor\":\"white\",\"linecolor\":\"white\",\"minorgridcolor\":\"white\",\"startlinecolor\":\"rgb(36,36,36)\"},\"type\":\"carpet\"}],\"choropleth\":[{\"colorbar\":{\"outlinewidth\":1,\"tickcolor\":\"rgb(36,36,36)\",\"ticks\":\"outside\"},\"type\":\"choropleth\"}],\"contourcarpet\":[{\"colorbar\":{\"outlinewidth\":1,\"tickcolor\":\"rgb(36,36,36)\",\"ticks\":\"outside\"},\"type\":\"contourcarpet\"}],\"contour\":[{\"colorbar\":{\"outlinewidth\":1,\"tickcolor\":\"rgb(36,36,36)\",\"ticks\":\"outside\"},\"colorscale\":[[0.0,\"#440154\"],[0.1111111111111111,\"#482878\"],[0.2222222222222222,\"#3e4989\"],[0.3333333333333333,\"#31688e\"],[0.4444444444444444,\"#26828e\"],[0.5555555555555556,\"#1f9e89\"],[0.6666666666666666,\"#35b779\"],[0.7777777777777778,\"#6ece58\"],[0.8888888888888888,\"#b5de2b\"],[1.0,\"#fde725\"]],\"type\":\"contour\"}],\"heatmapgl\":[{\"colorbar\":{\"outlinewidth\":1,\"tickcolor\":\"rgb(36,36,36)\",\"ticks\":\"outside\"},\"colorscale\":[[0.0,\"#440154\"],[0.1111111111111111,\"#482878\"],[0.2222222222222222,\"#3e4989\"],[0.3333333333333333,\"#31688e\"],[0.4444444444444444,\"#26828e\"],[0.5555555555555556,\"#1f9e89\"],[0.6666666666666666,\"#35b779\"],[0.7777777777777778,\"#6ece58\"],[0.8888888888888888,\"#b5de2b\"],[1.0,\"#fde725\"]],\"type\":\"heatmapgl\"}],\"heatmap\":[{\"colorbar\":{\"outlinewidth\":1,\"tickcolor\":\"rgb(36,36,36)\",\"ticks\":\"outside\"},\"colorscale\":[[0.0,\"#440154\"],[0.1111111111111111,\"#482878\"],[0.2222222222222222,\"#3e4989\"],[0.3333333333333333,\"#31688e\"],[0.4444444444444444,\"#26828e\"],[0.5555555555555556,\"#1f9e89\"],[0.6666666666666666,\"#35b779\"],[0.7777777777777778,\"#6ece58\"],[0.8888888888888888,\"#b5de2b\"],[1.0,\"#fde725\"]],\"type\":\"heatmap\"}],\"histogram2dcontour\":[{\"colorbar\":{\"outlinewidth\":1,\"tickcolor\":\"rgb(36,36,36)\",\"ticks\":\"outside\"},\"colorscale\":[[0.0,\"#440154\"],[0.1111111111111111,\"#482878\"],[0.2222222222222222,\"#3e4989\"],[0.3333333333333333,\"#31688e\"],[0.4444444444444444,\"#26828e\"],[0.5555555555555556,\"#1f9e89\"],[0.6666666666666666,\"#35b779\"],[0.7777777777777778,\"#6ece58\"],[0.8888888888888888,\"#b5de2b\"],[1.0,\"#fde725\"]],\"type\":\"histogram2dcontour\"}],\"histogram2d\":[{\"colorbar\":{\"outlinewidth\":1,\"tickcolor\":\"rgb(36,36,36)\",\"ticks\":\"outside\"},\"colorscale\":[[0.0,\"#440154\"],[0.1111111111111111,\"#482878\"],[0.2222222222222222,\"#3e4989\"],[0.3333333333333333,\"#31688e\"],[0.4444444444444444,\"#26828e\"],[0.5555555555555556,\"#1f9e89\"],[0.6666666666666666,\"#35b779\"],[0.7777777777777778,\"#6ece58\"],[0.8888888888888888,\"#b5de2b\"],[1.0,\"#fde725\"]],\"type\":\"histogram2d\"}],\"histogram\":[{\"marker\":{\"line\":{\"color\":\"white\",\"width\":0.6}},\"type\":\"histogram\"}],\"mesh3d\":[{\"colorbar\":{\"outlinewidth\":1,\"tickcolor\":\"rgb(36,36,36)\",\"ticks\":\"outside\"},\"type\":\"mesh3d\"}],\"parcoords\":[{\"line\":{\"colorbar\":{\"outlinewidth\":1,\"tickcolor\":\"rgb(36,36,36)\",\"ticks\":\"outside\"}},\"type\":\"parcoords\"}],\"pie\":[{\"automargin\":true,\"type\":\"pie\"}],\"scatter3d\":[{\"line\":{\"colorbar\":{\"outlinewidth\":1,\"tickcolor\":\"rgb(36,36,36)\",\"ticks\":\"outside\"}},\"marker\":{\"colorbar\":{\"outlinewidth\":1,\"tickcolor\":\"rgb(36,36,36)\",\"ticks\":\"outside\"}},\"type\":\"scatter3d\"}],\"scattercarpet\":[{\"marker\":{\"colorbar\":{\"outlinewidth\":1,\"tickcolor\":\"rgb(36,36,36)\",\"ticks\":\"outside\"}},\"type\":\"scattercarpet\"}],\"scattergeo\":[{\"marker\":{\"colorbar\":{\"outlinewidth\":1,\"tickcolor\":\"rgb(36,36,36)\",\"ticks\":\"outside\"}},\"type\":\"scattergeo\"}],\"scattergl\":[{\"marker\":{\"colorbar\":{\"outlinewidth\":1,\"tickcolor\":\"rgb(36,36,36)\",\"ticks\":\"outside\"}},\"type\":\"scattergl\"}],\"scattermapbox\":[{\"marker\":{\"colorbar\":{\"outlinewidth\":1,\"tickcolor\":\"rgb(36,36,36)\",\"ticks\":\"outside\"}},\"type\":\"scattermapbox\"}],\"scatterpolargl\":[{\"marker\":{\"colorbar\":{\"outlinewidth\":1,\"tickcolor\":\"rgb(36,36,36)\",\"ticks\":\"outside\"}},\"type\":\"scatterpolargl\"}],\"scatterpolar\":[{\"marker\":{\"colorbar\":{\"outlinewidth\":1,\"tickcolor\":\"rgb(36,36,36)\",\"ticks\":\"outside\"}},\"type\":\"scatterpolar\"}],\"scatter\":[{\"marker\":{\"colorbar\":{\"outlinewidth\":1,\"tickcolor\":\"rgb(36,36,36)\",\"ticks\":\"outside\"}},\"type\":\"scatter\"}],\"scatterternary\":[{\"marker\":{\"colorbar\":{\"outlinewidth\":1,\"tickcolor\":\"rgb(36,36,36)\",\"ticks\":\"outside\"}},\"type\":\"scatterternary\"}],\"surface\":[{\"colorbar\":{\"outlinewidth\":1,\"tickcolor\":\"rgb(36,36,36)\",\"ticks\":\"outside\"},\"colorscale\":[[0.0,\"#440154\"],[0.1111111111111111,\"#482878\"],[0.2222222222222222,\"#3e4989\"],[0.3333333333333333,\"#31688e\"],[0.4444444444444444,\"#26828e\"],[0.5555555555555556,\"#1f9e89\"],[0.6666666666666666,\"#35b779\"],[0.7777777777777778,\"#6ece58\"],[0.8888888888888888,\"#b5de2b\"],[1.0,\"#fde725\"]],\"type\":\"surface\"}],\"table\":[{\"cells\":{\"fill\":{\"color\":\"rgb(237,237,237)\"},\"line\":{\"color\":\"white\"}},\"header\":{\"fill\":{\"color\":\"rgb(217,217,217)\"},\"line\":{\"color\":\"white\"}},\"type\":\"table\"}]},\"layout\":{\"annotationdefaults\":{\"arrowhead\":0,\"arrowwidth\":1},\"autotypenumbers\":\"strict\",\"coloraxis\":{\"colorbar\":{\"outlinewidth\":1,\"tickcolor\":\"rgb(36,36,36)\",\"ticks\":\"outside\"}},\"colorscale\":{\"diverging\":[[0.0,\"rgb(103,0,31)\"],[0.1,\"rgb(178,24,43)\"],[0.2,\"rgb(214,96,77)\"],[0.3,\"rgb(244,165,130)\"],[0.4,\"rgb(253,219,199)\"],[0.5,\"rgb(247,247,247)\"],[0.6,\"rgb(209,229,240)\"],[0.7,\"rgb(146,197,222)\"],[0.8,\"rgb(67,147,195)\"],[0.9,\"rgb(33,102,172)\"],[1.0,\"rgb(5,48,97)\"]],\"sequential\":[[0.0,\"#440154\"],[0.1111111111111111,\"#482878\"],[0.2222222222222222,\"#3e4989\"],[0.3333333333333333,\"#31688e\"],[0.4444444444444444,\"#26828e\"],[0.5555555555555556,\"#1f9e89\"],[0.6666666666666666,\"#35b779\"],[0.7777777777777778,\"#6ece58\"],[0.8888888888888888,\"#b5de2b\"],[1.0,\"#fde725\"]],\"sequentialminus\":[[0.0,\"#440154\"],[0.1111111111111111,\"#482878\"],[0.2222222222222222,\"#3e4989\"],[0.3333333333333333,\"#31688e\"],[0.4444444444444444,\"#26828e\"],[0.5555555555555556,\"#1f9e89\"],[0.6666666666666666,\"#35b779\"],[0.7777777777777778,\"#6ece58\"],[0.8888888888888888,\"#b5de2b\"],[1.0,\"#fde725\"]]},\"colorway\":[\"#1F77B4\",\"#FF7F0E\",\"#2CA02C\",\"#D62728\",\"#9467BD\",\"#8C564B\",\"#E377C2\",\"#7F7F7F\",\"#BCBD22\",\"#17BECF\"],\"font\":{\"color\":\"rgb(36,36,36)\"},\"geo\":{\"bgcolor\":\"white\",\"lakecolor\":\"white\",\"landcolor\":\"white\",\"showlakes\":true,\"showland\":true,\"subunitcolor\":\"white\"},\"hoverlabel\":{\"align\":\"left\"},\"hovermode\":\"closest\",\"mapbox\":{\"style\":\"light\"},\"paper_bgcolor\":\"white\",\"plot_bgcolor\":\"white\",\"polar\":{\"angularaxis\":{\"gridcolor\":\"rgb(232,232,232)\",\"linecolor\":\"rgb(36,36,36)\",\"showgrid\":false,\"showline\":true,\"ticks\":\"outside\"},\"bgcolor\":\"white\",\"radialaxis\":{\"gridcolor\":\"rgb(232,232,232)\",\"linecolor\":\"rgb(36,36,36)\",\"showgrid\":false,\"showline\":true,\"ticks\":\"outside\"}},\"scene\":{\"xaxis\":{\"backgroundcolor\":\"white\",\"gridcolor\":\"rgb(232,232,232)\",\"gridwidth\":2,\"linecolor\":\"rgb(36,36,36)\",\"showbackground\":true,\"showgrid\":false,\"showline\":true,\"ticks\":\"outside\",\"zeroline\":false,\"zerolinecolor\":\"rgb(36,36,36)\"},\"yaxis\":{\"backgroundcolor\":\"white\",\"gridcolor\":\"rgb(232,232,232)\",\"gridwidth\":2,\"linecolor\":\"rgb(36,36,36)\",\"showbackground\":true,\"showgrid\":false,\"showline\":true,\"ticks\":\"outside\",\"zeroline\":false,\"zerolinecolor\":\"rgb(36,36,36)\"},\"zaxis\":{\"backgroundcolor\":\"white\",\"gridcolor\":\"rgb(232,232,232)\",\"gridwidth\":2,\"linecolor\":\"rgb(36,36,36)\",\"showbackground\":true,\"showgrid\":false,\"showline\":true,\"ticks\":\"outside\",\"zeroline\":false,\"zerolinecolor\":\"rgb(36,36,36)\"}},\"shapedefaults\":{\"fillcolor\":\"black\",\"line\":{\"width\":0},\"opacity\":0.3},\"ternary\":{\"aaxis\":{\"gridcolor\":\"rgb(232,232,232)\",\"linecolor\":\"rgb(36,36,36)\",\"showgrid\":false,\"showline\":true,\"ticks\":\"outside\"},\"baxis\":{\"gridcolor\":\"rgb(232,232,232)\",\"linecolor\":\"rgb(36,36,36)\",\"showgrid\":false,\"showline\":true,\"ticks\":\"outside\"},\"bgcolor\":\"white\",\"caxis\":{\"gridcolor\":\"rgb(232,232,232)\",\"linecolor\":\"rgb(36,36,36)\",\"showgrid\":false,\"showline\":true,\"ticks\":\"outside\"}},\"title\":{\"x\":0.05},\"xaxis\":{\"automargin\":true,\"gridcolor\":\"rgb(232,232,232)\",\"linecolor\":\"rgb(36,36,36)\",\"showgrid\":false,\"showline\":true,\"ticks\":\"outside\",\"title\":{\"standoff\":15},\"zeroline\":false,\"zerolinecolor\":\"rgb(36,36,36)\"},\"yaxis\":{\"automargin\":true,\"gridcolor\":\"rgb(232,232,232)\",\"linecolor\":\"rgb(36,36,36)\",\"showgrid\":false,\"showline\":true,\"ticks\":\"outside\",\"title\":{\"standoff\":15},\"zeroline\":false,\"zerolinecolor\":\"rgb(36,36,36)\"}}},\"xaxis\":{\"showgrid\":true},\"yaxis\":{\"showgrid\":true,\"title\":{\"text\":\"Frequency\"}},\"title\":{\"font\":{\"size\":22,\"color\":\"Black\"},\"text\":\"<b>Topics over Time\",\"y\":0.95,\"x\":0.4,\"xanchor\":\"center\",\"yanchor\":\"top\"},\"hoverlabel\":{\"font\":{\"size\":16,\"family\":\"Rockwell\"},\"bgcolor\":\"white\"},\"width\":1250,\"height\":450,\"legend\":{\"title\":{\"text\":\"<b>Global Topic Representation\"}}},                        {\"responsive\": true}                    ).then(function(){\n",
              "                            \n",
              "var gd = document.getElementById('ca6fc881-c1e3-48ee-8b01-fd432d2a0abe');\n",
              "var x = new MutationObserver(function (mutations, observer) {{\n",
              "        var display = window.getComputedStyle(gd).display;\n",
              "        if (!display || display === 'none') {{\n",
              "            console.log([gd, 'removed!']);\n",
              "            Plotly.purge(gd);\n",
              "            observer.disconnect();\n",
              "        }}\n",
              "}});\n",
              "\n",
              "// Listen for the removal of the full notebook cells\n",
              "var notebookContainer = gd.closest('#notebook-container');\n",
              "if (notebookContainer) {{\n",
              "    x.observe(notebookContainer, {childList: true});\n",
              "}}\n",
              "\n",
              "// Listen for the clearing of the current output cell\n",
              "var outputEl = gd.closest('.output');\n",
              "if (outputEl) {{\n",
              "    x.observe(outputEl, {childList: true});\n",
              "}}\n",
              "\n",
              "                        })                };                            </script>        </div>\n",
              "</body>\n",
              "</html>"
            ]
          },
          "metadata": {}
        }
      ]
    },
    {
      "cell_type": "code",
      "source": [
        "type(model1.topic_labels_)"
      ],
      "metadata": {
        "colab": {
          "base_uri": "https://localhost:8080/"
        },
        "id": "QUqXI9SvTnTK",
        "outputId": "ed26ca94-3c29-4227-fb43-a8ea6baa61a2"
      },
      "execution_count": null,
      "outputs": [
        {
          "output_type": "execute_result",
          "data": {
            "text/plain": [
              "dict"
            ]
          },
          "metadata": {},
          "execution_count": 36
        }
      ]
    },
    {
      "cell_type": "code",
      "source": [
        "topics_df = pd.DataFrame(model1.topic_labels_.items(), columns=['topic_id', 'topic_name'])"
      ],
      "metadata": {
        "id": "IAx188MjTnKX"
      },
      "execution_count": 24,
      "outputs": []
    },
    {
      "cell_type": "code",
      "source": [
        "df2 = df2.merge(topics_df,how='left',left_on='tweet_topics',right_on='topic_id')"
      ],
      "metadata": {
        "id": "bPtxbBLRacdS"
      },
      "execution_count": 25,
      "outputs": []
    },
    {
      "cell_type": "code",
      "source": [
        "df2['retweet_count'] = df2['retweet_count'].astype(int)"
      ],
      "metadata": {
        "id": "If0BtTk-bPGs"
      },
      "execution_count": 26,
      "outputs": []
    },
    {
      "cell_type": "code",
      "source": [
        "df2[['retweet_count','tweet','topic_name']].sort_values('retweet_count',ascending=False)"
      ],
      "metadata": {
        "colab": {
          "base_uri": "https://localhost:8080/",
          "height": 424
        },
        "id": "bUA-djNvTnAp",
        "outputId": "5eb53d99-483f-49c4-cc39-02473dd8d2de"
      },
      "execution_count": 27,
      "outputs": [
        {
          "output_type": "execute_result",
          "data": {
            "text/plain": [
              "     retweet_count                                              tweet  \\\n",
              "157              9  RT @chrisfroome: @EmiratesSupport just tried t...   \n",
              "156              9  @EmiratesSupport just tried to check in for ou...   \n",
              "177              3  @EmiratesSupport good morning! Can you tell me...   \n",
              "187              3  RT @DeborahKnipe: @EmiratesSupport good mornin...   \n",
              "273              1  @EmiratesSupport \\r\\nOk, so I had to cancel my...   \n",
              "..             ...                                                ...   \n",
              "288              0  @EmiratesSupport @emirates @Emirates247 can an...   \n",
              "289              0  @EmiratesSupport is the Emirates pass gone? Th...   \n",
              "290              0  @EmiratesSupport I have inboxed you regarding ...   \n",
              "291              0  @EmiratesSupport cannot get an Indian visa bec...   \n",
              "834              0  @EmiratesSupport hi need some assistance. I wa...   \n",
              "\n",
              "                           topic_name  \n",
              "157     -1_flight_ticket_please_would  \n",
              "156     -1_flight_ticket_please_would  \n",
              "177            10_meal_food_nut_cater  \n",
              "187            10_meal_food_nut_cater  \n",
              "273      2_refund_cancel_rebook_money  \n",
              "..                                ...  \n",
              "288     12_please_check_urgent_kindly  \n",
              "289  0_emirate_dubai_flight_complaint  \n",
              "290        3_booking_call_help_ticket  \n",
              "291  0_emirate_dubai_flight_complaint  \n",
              "834     -1_flight_ticket_please_would  \n",
              "\n",
              "[835 rows x 3 columns]"
            ],
            "text/html": [
              "\n",
              "  <div id=\"df-d7175ef7-f9d1-42c4-beb5-4823a680f73b\">\n",
              "    <div class=\"colab-df-container\">\n",
              "      <div>\n",
              "<style scoped>\n",
              "    .dataframe tbody tr th:only-of-type {\n",
              "        vertical-align: middle;\n",
              "    }\n",
              "\n",
              "    .dataframe tbody tr th {\n",
              "        vertical-align: top;\n",
              "    }\n",
              "\n",
              "    .dataframe thead th {\n",
              "        text-align: right;\n",
              "    }\n",
              "</style>\n",
              "<table border=\"1\" class=\"dataframe\">\n",
              "  <thead>\n",
              "    <tr style=\"text-align: right;\">\n",
              "      <th></th>\n",
              "      <th>retweet_count</th>\n",
              "      <th>tweet</th>\n",
              "      <th>topic_name</th>\n",
              "    </tr>\n",
              "  </thead>\n",
              "  <tbody>\n",
              "    <tr>\n",
              "      <th>157</th>\n",
              "      <td>9</td>\n",
              "      <td>RT @chrisfroome: @EmiratesSupport just tried t...</td>\n",
              "      <td>-1_flight_ticket_please_would</td>\n",
              "    </tr>\n",
              "    <tr>\n",
              "      <th>156</th>\n",
              "      <td>9</td>\n",
              "      <td>@EmiratesSupport just tried to check in for ou...</td>\n",
              "      <td>-1_flight_ticket_please_would</td>\n",
              "    </tr>\n",
              "    <tr>\n",
              "      <th>177</th>\n",
              "      <td>3</td>\n",
              "      <td>@EmiratesSupport good morning! Can you tell me...</td>\n",
              "      <td>10_meal_food_nut_cater</td>\n",
              "    </tr>\n",
              "    <tr>\n",
              "      <th>187</th>\n",
              "      <td>3</td>\n",
              "      <td>RT @DeborahKnipe: @EmiratesSupport good mornin...</td>\n",
              "      <td>10_meal_food_nut_cater</td>\n",
              "    </tr>\n",
              "    <tr>\n",
              "      <th>273</th>\n",
              "      <td>1</td>\n",
              "      <td>@EmiratesSupport \\r\\nOk, so I had to cancel my...</td>\n",
              "      <td>2_refund_cancel_rebook_money</td>\n",
              "    </tr>\n",
              "    <tr>\n",
              "      <th>...</th>\n",
              "      <td>...</td>\n",
              "      <td>...</td>\n",
              "      <td>...</td>\n",
              "    </tr>\n",
              "    <tr>\n",
              "      <th>288</th>\n",
              "      <td>0</td>\n",
              "      <td>@EmiratesSupport @emirates @Emirates247 can an...</td>\n",
              "      <td>12_please_check_urgent_kindly</td>\n",
              "    </tr>\n",
              "    <tr>\n",
              "      <th>289</th>\n",
              "      <td>0</td>\n",
              "      <td>@EmiratesSupport is the Emirates pass gone? Th...</td>\n",
              "      <td>0_emirate_dubai_flight_complaint</td>\n",
              "    </tr>\n",
              "    <tr>\n",
              "      <th>290</th>\n",
              "      <td>0</td>\n",
              "      <td>@EmiratesSupport I have inboxed you regarding ...</td>\n",
              "      <td>3_booking_call_help_ticket</td>\n",
              "    </tr>\n",
              "    <tr>\n",
              "      <th>291</th>\n",
              "      <td>0</td>\n",
              "      <td>@EmiratesSupport cannot get an Indian visa bec...</td>\n",
              "      <td>0_emirate_dubai_flight_complaint</td>\n",
              "    </tr>\n",
              "    <tr>\n",
              "      <th>834</th>\n",
              "      <td>0</td>\n",
              "      <td>@EmiratesSupport hi need some assistance. I wa...</td>\n",
              "      <td>-1_flight_ticket_please_would</td>\n",
              "    </tr>\n",
              "  </tbody>\n",
              "</table>\n",
              "<p>835 rows × 3 columns</p>\n",
              "</div>\n",
              "      <button class=\"colab-df-convert\" onclick=\"convertToInteractive('df-d7175ef7-f9d1-42c4-beb5-4823a680f73b')\"\n",
              "              title=\"Convert this dataframe to an interactive table.\"\n",
              "              style=\"display:none;\">\n",
              "        \n",
              "  <svg xmlns=\"http://www.w3.org/2000/svg\" height=\"24px\"viewBox=\"0 0 24 24\"\n",
              "       width=\"24px\">\n",
              "    <path d=\"M0 0h24v24H0V0z\" fill=\"none\"/>\n",
              "    <path d=\"M18.56 5.44l.94 2.06.94-2.06 2.06-.94-2.06-.94-.94-2.06-.94 2.06-2.06.94zm-11 1L8.5 8.5l.94-2.06 2.06-.94-2.06-.94L8.5 2.5l-.94 2.06-2.06.94zm10 10l.94 2.06.94-2.06 2.06-.94-2.06-.94-.94-2.06-.94 2.06-2.06.94z\"/><path d=\"M17.41 7.96l-1.37-1.37c-.4-.4-.92-.59-1.43-.59-.52 0-1.04.2-1.43.59L10.3 9.45l-7.72 7.72c-.78.78-.78 2.05 0 2.83L4 21.41c.39.39.9.59 1.41.59.51 0 1.02-.2 1.41-.59l7.78-7.78 2.81-2.81c.8-.78.8-2.07 0-2.86zM5.41 20L4 18.59l7.72-7.72 1.47 1.35L5.41 20z\"/>\n",
              "  </svg>\n",
              "      </button>\n",
              "      \n",
              "  <style>\n",
              "    .colab-df-container {\n",
              "      display:flex;\n",
              "      flex-wrap:wrap;\n",
              "      gap: 12px;\n",
              "    }\n",
              "\n",
              "    .colab-df-convert {\n",
              "      background-color: #E8F0FE;\n",
              "      border: none;\n",
              "      border-radius: 50%;\n",
              "      cursor: pointer;\n",
              "      display: none;\n",
              "      fill: #1967D2;\n",
              "      height: 32px;\n",
              "      padding: 0 0 0 0;\n",
              "      width: 32px;\n",
              "    }\n",
              "\n",
              "    .colab-df-convert:hover {\n",
              "      background-color: #E2EBFA;\n",
              "      box-shadow: 0px 1px 2px rgba(60, 64, 67, 0.3), 0px 1px 3px 1px rgba(60, 64, 67, 0.15);\n",
              "      fill: #174EA6;\n",
              "    }\n",
              "\n",
              "    [theme=dark] .colab-df-convert {\n",
              "      background-color: #3B4455;\n",
              "      fill: #D2E3FC;\n",
              "    }\n",
              "\n",
              "    [theme=dark] .colab-df-convert:hover {\n",
              "      background-color: #434B5C;\n",
              "      box-shadow: 0px 1px 3px 1px rgba(0, 0, 0, 0.15);\n",
              "      filter: drop-shadow(0px 1px 2px rgba(0, 0, 0, 0.3));\n",
              "      fill: #FFFFFF;\n",
              "    }\n",
              "  </style>\n",
              "\n",
              "      <script>\n",
              "        const buttonEl =\n",
              "          document.querySelector('#df-d7175ef7-f9d1-42c4-beb5-4823a680f73b button.colab-df-convert');\n",
              "        buttonEl.style.display =\n",
              "          google.colab.kernel.accessAllowed ? 'block' : 'none';\n",
              "\n",
              "        async function convertToInteractive(key) {\n",
              "          const element = document.querySelector('#df-d7175ef7-f9d1-42c4-beb5-4823a680f73b');\n",
              "          const dataTable =\n",
              "            await google.colab.kernel.invokeFunction('convertToInteractive',\n",
              "                                                     [key], {});\n",
              "          if (!dataTable) return;\n",
              "\n",
              "          const docLinkHtml = 'Like what you see? Visit the ' +\n",
              "            '<a target=\"_blank\" href=https://colab.research.google.com/notebooks/data_table.ipynb>data table notebook</a>'\n",
              "            + ' to learn more about interactive tables.';\n",
              "          element.innerHTML = '';\n",
              "          dataTable['output_type'] = 'display_data';\n",
              "          await google.colab.output.renderOutput(dataTable, element);\n",
              "          const docLink = document.createElement('div');\n",
              "          docLink.innerHTML = docLinkHtml;\n",
              "          element.appendChild(docLink);\n",
              "        }\n",
              "      </script>\n",
              "    </div>\n",
              "  </div>\n",
              "  "
            ]
          },
          "metadata": {},
          "execution_count": 27
        }
      ]
    },
    {
      "cell_type": "code",
      "source": [
        "topics_df"
      ],
      "metadata": {
        "id": "yIdZDmruc0mw",
        "outputId": "2abd4bfa-4aa7-4c53-d5d3-8707a435121b",
        "colab": {
          "base_uri": "https://localhost:8080/",
          "height": 645
        }
      },
      "execution_count": null,
      "outputs": [
        {
          "output_type": "execute_result",
          "data": {
            "text/plain": [
              "    topic_id                          topic_name\n",
              "0         -1         -1_flight_response_get_time\n",
              "1          0        0_booking_change_help_flight\n",
              "2          1       1_luggage_baggage_bag_emirate\n",
              "3          2    2_complaint_customer_reply_email\n",
              "4          3           3_please_sent_thank_reply\n",
              "5          4         4_emirate_support_time_date\n",
              "6          5              5_meal_nut_food_infant\n",
              "7          6   6_vaccinated_test_vaccination_pcr\n",
              "8          7     7_refund_rebook_cancelled_money\n",
              "9          8       8_invoice_much_form_resolving\n",
              "10         9          9_staff_delhi_airline_made\n",
              "11        10    10_lounge_access_business_flying\n",
              "12        11        11_visa_transit_dubai_admins\n",
              "13        12    12_saturday_system_decided_shoul\n",
              "14        13  13_email_pathetic_whenever_equally\n",
              "15        14             14_knee_twin_family_dxb\n",
              "16        15     15_dublin_five_exhausted_flight\n",
              "17        16     16_selling_money_robbed_scammed\n",
              "18        17   17_complaint_nothing_emirate_made"
            ],
            "text/html": [
              "\n",
              "  <div id=\"df-41126ac1-64f3-4de5-b854-d00894e1a816\">\n",
              "    <div class=\"colab-df-container\">\n",
              "      <div>\n",
              "<style scoped>\n",
              "    .dataframe tbody tr th:only-of-type {\n",
              "        vertical-align: middle;\n",
              "    }\n",
              "\n",
              "    .dataframe tbody tr th {\n",
              "        vertical-align: top;\n",
              "    }\n",
              "\n",
              "    .dataframe thead th {\n",
              "        text-align: right;\n",
              "    }\n",
              "</style>\n",
              "<table border=\"1\" class=\"dataframe\">\n",
              "  <thead>\n",
              "    <tr style=\"text-align: right;\">\n",
              "      <th></th>\n",
              "      <th>topic_id</th>\n",
              "      <th>topic_name</th>\n",
              "    </tr>\n",
              "  </thead>\n",
              "  <tbody>\n",
              "    <tr>\n",
              "      <th>0</th>\n",
              "      <td>-1</td>\n",
              "      <td>-1_flight_response_get_time</td>\n",
              "    </tr>\n",
              "    <tr>\n",
              "      <th>1</th>\n",
              "      <td>0</td>\n",
              "      <td>0_booking_change_help_flight</td>\n",
              "    </tr>\n",
              "    <tr>\n",
              "      <th>2</th>\n",
              "      <td>1</td>\n",
              "      <td>1_luggage_baggage_bag_emirate</td>\n",
              "    </tr>\n",
              "    <tr>\n",
              "      <th>3</th>\n",
              "      <td>2</td>\n",
              "      <td>2_complaint_customer_reply_email</td>\n",
              "    </tr>\n",
              "    <tr>\n",
              "      <th>4</th>\n",
              "      <td>3</td>\n",
              "      <td>3_please_sent_thank_reply</td>\n",
              "    </tr>\n",
              "    <tr>\n",
              "      <th>5</th>\n",
              "      <td>4</td>\n",
              "      <td>4_emirate_support_time_date</td>\n",
              "    </tr>\n",
              "    <tr>\n",
              "      <th>6</th>\n",
              "      <td>5</td>\n",
              "      <td>5_meal_nut_food_infant</td>\n",
              "    </tr>\n",
              "    <tr>\n",
              "      <th>7</th>\n",
              "      <td>6</td>\n",
              "      <td>6_vaccinated_test_vaccination_pcr</td>\n",
              "    </tr>\n",
              "    <tr>\n",
              "      <th>8</th>\n",
              "      <td>7</td>\n",
              "      <td>7_refund_rebook_cancelled_money</td>\n",
              "    </tr>\n",
              "    <tr>\n",
              "      <th>9</th>\n",
              "      <td>8</td>\n",
              "      <td>8_invoice_much_form_resolving</td>\n",
              "    </tr>\n",
              "    <tr>\n",
              "      <th>10</th>\n",
              "      <td>9</td>\n",
              "      <td>9_staff_delhi_airline_made</td>\n",
              "    </tr>\n",
              "    <tr>\n",
              "      <th>11</th>\n",
              "      <td>10</td>\n",
              "      <td>10_lounge_access_business_flying</td>\n",
              "    </tr>\n",
              "    <tr>\n",
              "      <th>12</th>\n",
              "      <td>11</td>\n",
              "      <td>11_visa_transit_dubai_admins</td>\n",
              "    </tr>\n",
              "    <tr>\n",
              "      <th>13</th>\n",
              "      <td>12</td>\n",
              "      <td>12_saturday_system_decided_shoul</td>\n",
              "    </tr>\n",
              "    <tr>\n",
              "      <th>14</th>\n",
              "      <td>13</td>\n",
              "      <td>13_email_pathetic_whenever_equally</td>\n",
              "    </tr>\n",
              "    <tr>\n",
              "      <th>15</th>\n",
              "      <td>14</td>\n",
              "      <td>14_knee_twin_family_dxb</td>\n",
              "    </tr>\n",
              "    <tr>\n",
              "      <th>16</th>\n",
              "      <td>15</td>\n",
              "      <td>15_dublin_five_exhausted_flight</td>\n",
              "    </tr>\n",
              "    <tr>\n",
              "      <th>17</th>\n",
              "      <td>16</td>\n",
              "      <td>16_selling_money_robbed_scammed</td>\n",
              "    </tr>\n",
              "    <tr>\n",
              "      <th>18</th>\n",
              "      <td>17</td>\n",
              "      <td>17_complaint_nothing_emirate_made</td>\n",
              "    </tr>\n",
              "  </tbody>\n",
              "</table>\n",
              "</div>\n",
              "      <button class=\"colab-df-convert\" onclick=\"convertToInteractive('df-41126ac1-64f3-4de5-b854-d00894e1a816')\"\n",
              "              title=\"Convert this dataframe to an interactive table.\"\n",
              "              style=\"display:none;\">\n",
              "        \n",
              "  <svg xmlns=\"http://www.w3.org/2000/svg\" height=\"24px\"viewBox=\"0 0 24 24\"\n",
              "       width=\"24px\">\n",
              "    <path d=\"M0 0h24v24H0V0z\" fill=\"none\"/>\n",
              "    <path d=\"M18.56 5.44l.94 2.06.94-2.06 2.06-.94-2.06-.94-.94-2.06-.94 2.06-2.06.94zm-11 1L8.5 8.5l.94-2.06 2.06-.94-2.06-.94L8.5 2.5l-.94 2.06-2.06.94zm10 10l.94 2.06.94-2.06 2.06-.94-2.06-.94-.94-2.06-.94 2.06-2.06.94z\"/><path d=\"M17.41 7.96l-1.37-1.37c-.4-.4-.92-.59-1.43-.59-.52 0-1.04.2-1.43.59L10.3 9.45l-7.72 7.72c-.78.78-.78 2.05 0 2.83L4 21.41c.39.39.9.59 1.41.59.51 0 1.02-.2 1.41-.59l7.78-7.78 2.81-2.81c.8-.78.8-2.07 0-2.86zM5.41 20L4 18.59l7.72-7.72 1.47 1.35L5.41 20z\"/>\n",
              "  </svg>\n",
              "      </button>\n",
              "      \n",
              "  <style>\n",
              "    .colab-df-container {\n",
              "      display:flex;\n",
              "      flex-wrap:wrap;\n",
              "      gap: 12px;\n",
              "    }\n",
              "\n",
              "    .colab-df-convert {\n",
              "      background-color: #E8F0FE;\n",
              "      border: none;\n",
              "      border-radius: 50%;\n",
              "      cursor: pointer;\n",
              "      display: none;\n",
              "      fill: #1967D2;\n",
              "      height: 32px;\n",
              "      padding: 0 0 0 0;\n",
              "      width: 32px;\n",
              "    }\n",
              "\n",
              "    .colab-df-convert:hover {\n",
              "      background-color: #E2EBFA;\n",
              "      box-shadow: 0px 1px 2px rgba(60, 64, 67, 0.3), 0px 1px 3px 1px rgba(60, 64, 67, 0.15);\n",
              "      fill: #174EA6;\n",
              "    }\n",
              "\n",
              "    [theme=dark] .colab-df-convert {\n",
              "      background-color: #3B4455;\n",
              "      fill: #D2E3FC;\n",
              "    }\n",
              "\n",
              "    [theme=dark] .colab-df-convert:hover {\n",
              "      background-color: #434B5C;\n",
              "      box-shadow: 0px 1px 3px 1px rgba(0, 0, 0, 0.15);\n",
              "      filter: drop-shadow(0px 1px 2px rgba(0, 0, 0, 0.3));\n",
              "      fill: #FFFFFF;\n",
              "    }\n",
              "  </style>\n",
              "\n",
              "      <script>\n",
              "        const buttonEl =\n",
              "          document.querySelector('#df-41126ac1-64f3-4de5-b854-d00894e1a816 button.colab-df-convert');\n",
              "        buttonEl.style.display =\n",
              "          google.colab.kernel.accessAllowed ? 'block' : 'none';\n",
              "\n",
              "        async function convertToInteractive(key) {\n",
              "          const element = document.querySelector('#df-41126ac1-64f3-4de5-b854-d00894e1a816');\n",
              "          const dataTable =\n",
              "            await google.colab.kernel.invokeFunction('convertToInteractive',\n",
              "                                                     [key], {});\n",
              "          if (!dataTable) return;\n",
              "\n",
              "          const docLinkHtml = 'Like what you see? Visit the ' +\n",
              "            '<a target=\"_blank\" href=https://colab.research.google.com/notebooks/data_table.ipynb>data table notebook</a>'\n",
              "            + ' to learn more about interactive tables.';\n",
              "          element.innerHTML = '';\n",
              "          dataTable['output_type'] = 'display_data';\n",
              "          await google.colab.output.renderOutput(dataTable, element);\n",
              "          const docLink = document.createElement('div');\n",
              "          docLink.innerHTML = docLinkHtml;\n",
              "          element.appendChild(docLink);\n",
              "        }\n",
              "      </script>\n",
              "    </div>\n",
              "  </div>\n",
              "  "
            ]
          },
          "metadata": {},
          "execution_count": 57
        }
      ]
    },
    {
      "cell_type": "code",
      "source": [
        "list(df2[df2['topic_name']=='1_luggage_baggage_bag_emirate']['tweet'])"
      ],
      "metadata": {
        "id": "KedbPR3-c4Nv",
        "outputId": "d6d95c89-3962-4d50-e3ed-b91fa7031a2c",
        "colab": {
          "base_uri": "https://localhost:8080/"
        }
      },
      "execution_count": null,
      "outputs": [
        {
          "output_type": "execute_result",
          "data": {
            "text/plain": [
              "['@EmiratesSupport Hi, we are flying economy from LGW to DXB on 15th October. What are our luggage allowances? Your website says 23kg hold + 7kg in the cabin. My ticket from you just says 30kg with no reference to either hold or cabin and my ticket from my TA says 20kg. Thanks',\n",
              " '@EmiratesSupport I pay over £5K for business and the baggage is supposed to be a priority, and yet I’m still here and no bags 45 minutes later. Booked my driver for 8.45 and it’s almost 10pm! https://t.co/CwcoWlTTkb',\n",
              " '@EmiratesSupport are we able to add a pram in the hold for our 1yr old as part of our luggage allowance &amp; if so, can we hold on to it until boarding at the gate? London -&gt; Dubai &amp; vice versa',\n",
              " '@EmiratesSupport   Hi I am a frequent flyer of emirates airlines I traveled from emirate’s airlines on 18th of May to JFK USA on arrival I found my one of my checkin baggage broken.I complain to your emirates counter at JFK .They give me complain no JFKD550185.Till date not solve',\n",
              " '@EmiratesSupport I know all this. And this is why I am asking why on Thursday 6th October Flight  EK346 I was made to wear a mask from Dubai to Malaysia. When Malaysia has no mask rules. The staff said, \"this flight you have to.\" why?',\n",
              " '@EmiratesSupport still waiting since Friday afternoon to hear back from you baggage department in Bkk. I guess they are hoping I will just forget about this. THB1200 to replace a 6 month old suitcase which your handlers made unusable.\\r\\nWorlds #1 airline, seriously ?? https://t.co/7NdDAZJINr',\n",
              " '@EmiratesSupport I booked my flight from HYD-EWR for 3rd Nov using Student offer... I just wanted to know if I can merge the extra 10kg baggage allowance as per student offer in the luggage itself or do I need to carry an extra baggage of 10kg separately. Please reply!',\n",
              " '@EmiratesSupport Finally, almost 45 days after my bag was broken, I have an answer: please, wait 20 days more for a \"personalise response\". Seriously? @EmiratesSupport @emirates @facua https://t.co/UQmSUTN443',\n",
              " '@EmiratesSupport  @DubaiAirports 65 days since my luggage is missing. Actually not missing, it has been located in @MumbaiAirport a month ago - instead of being sent to Kabul. Funny story - no one in @Emirates or in @Marhaba wants to take responsibility for the mistake https://t.co/GdIcXjDbM4',\n",
              " '@EmiratesSupport  \\r\\nHi, just wondering how much does Emirates charge for extra luggage per kg. I am traveling from Chennai to Ireland.',\n",
              " '@EmiratesSupport Thanks for replying! I went to the link you shared and it took me to the help webpage but with no option to send a DM. There’s options like baggage, Dubai connect etc. How do I send you the info requested?',\n",
              " '@EmiratesSupport Hi, just wondering how much does Emirates charge for extra luggage per kg. I am traveling from Chennai to Ireland.',\n",
              " '@EmiratesSupport hi there i’m looking to bring my PS5 onboard a flight from Heathrow to Dubai and then Dubai to Jakarta in my checked in luggage, is that ok?',\n",
              " '@EmiratesSupport our luggage is missing. Flight number EK0510. PIR DELA702176. Please help.',\n",
              " '@EmiratesSupport hello, I’m flying London to Sydney with a few hours stopover in Dubai. Do I need to wear a face mask on board the flight and in Dubai airport? I looked on website and it had two different answers. Thank you.',\n",
              " '@EmiratesSupport My baggage is lost from 1 month. I have not received an update- BLREK13672. What kind of service is this from a so called premium airline like Emirates?',\n",
              " '@EmiratesSupport i sent a message from my account in your app 7 days ago to report my baggage was badly damaged on my recent flight but have received no response. Please contact me as I fly again next week but my bag is unfit to use. Thanks',\n",
              " \"@EmiratesSupport Can someone please help me with this LHRA701629. It's been 3 days I lost my baggage in airport belt.. I haven't received any update. This bag very much important to me. Please help me.\",\n",
              " \"@EmiratesSupport hey there, my cousin is travelling from Italy to india via dubai, could you please tell me if he can carry both laptop bag and hand bag? And what's the maximum luggage limit he is travelling in economic class\",\n",
              " \"@EmiratesSupport hey there, my cousin is travelling from Italy to india via dubai, could you please tell me if he can carry both laptop bag and hand bag? And what's the maximum luggage limit he is travelling in economic class\",\n",
              " '@EmiratesSupport One more question, suppose if I used all the liquid fuel from lighter, in that case can I carry lighter to check-in or hand beg',\n",
              " 'RT @AbbyHants: @EmiratesSupport hello we’re looking to fly to SA and Emirates has suitable flights. My son has a nut allergy and carries ep…',\n",
              " '@EmiratesSupport hi I have a Kuala Lumpur - Orlando flight via Dubai &amp; JFK this friday. But I can’t find the cabin baggage allocation for the JFK - Orlando leg operated by @JetBlue. Where do I find this info?',\n",
              " \"@EmiratesSupport I'm in Bali, my luggage didn't arrive. Can you contact me ASAP?\",\n",
              " '@EmiratesSupport I have not received my baggage after landing at Amsterdam airport on 14th October 1:15pm. This has seriously disrupted my travel and even after four days of landing there hasn’t been a definite response from Emirates. https://t.co/rWOZEL2PO2',\n",
              " '@EmiratesSupport can I bring baklava on my carry on luggage or will it be a problem because of the honey and/or syrup? TIA',\n",
              " \"@EmiratesSupport @Emirates247 @emirates \\r\\nHello Emirates,\\r\\nI flew with Emirates from India to Dubai on October 15, 2022, PNR: OL4Q6F, and did not receive my luggage from belt 13. DXBA706831 is the reference number. Emirates says it's not their responsibility.\",\n",
              " '@EmiratesSupport I have been living without my only luggage bag that I had bought along.. its 3rd day today and I’m bearing the costs for calling card and trying to contact the customer support and travelled to the airport couple kf time in the past 2days.. how is Emirates going to compensate it?',\n",
              " '@EmiratesSupport I have to even buy clothes for survival.. you do not understand my condition seriously and being very insensitive about it but not trying to provide the interim relief atleast until you find the luggage back to me.',\n",
              " '@EmiratesSupport   MCO-JFK-Dubai-Mumbai -delayed baggage.\\r\\nTicket No -  607 7827277856 JetBlue-Emirates . \\r\\nBaggage Ref # BOMA697858\\r\\nTag no # B6472176/77\\r\\nFlight #  1284 - EK204 - EK506\\r\\nBags delivered after my return to the US. Compensate $500 for 2 news bags, clothes,accessories',\n",
              " '@EmiratesSupport I have Emirates Skywards gold card. Am I allowed up to 3 check-in luggages for no fee and do I need to request ahead of time? TIA',\n",
              " '@EmiratesSupport My ticket No -  607 7827277856 JetBlue-Emirates . \\r\\nMy baggage report reference # BOMA697858\\r\\nTag no # B6472176/77\\r\\nFlight No. details - 1284 - EK204 - EK506 . With the abv ticket # I cannot file complain on emirates website',\n",
              " \"@EmiratesSupport Hi, are we allowed to carry a week's supply of gym supplements such as Omega 3, Creatine and a Joint Support supplement (powder form) in small containers on a flight to the UAE?\",\n",
              " '@EmiratesSupport It doesn’t help. And I’m not happy being ripped off. Now what can you do? 🤣',\n",
              " \"@EmiratesSupport @emirates have been following up since a couple of months since my baggage's were completely broken and mishandled by your team. Commit from your airport counter was resolution in a few weeks. Claim no - ( PIR ) - BOMD650233. Can we have a timeline ?\",\n",
              " '@EmiratesSupport we have arrived in Dubai this evening on EK008 from LHR. We were so excited about this flight having never been on an emirates flight before and heading such reviews. To say we are disappointed is an understatement; we sat in row 78/79 and it would appear that',\n",
              " '@EmiratesSupport My friend’s parents are struck in JFK(they are traveling from Indian to San Diego)… There flight to JFK got delayed because of which the connecting flight got missed .no one is helping them in airport.. they are elder and heart patients #heartpatient @emirates',\n",
              " '@EmiratesSupport Monday I arrived to dubai now it is Friday and my luggage is still missing. Did not expect this kind of thing to happen on a emirates airline. I’ve had one phone call @EmiratesSupport during this time to tell me my luggage has not been located.',\n",
              " '@EmiratesSupport @rahulchawlasir Flying with emirates is extremely frustrating. How an item of luggage can go missing from london to dubai is beyond me. With absolutely no efforts to be in touch with the customer',\n",
              " 'RT @AksaKha54226395: @EmiratesSupport @rahulchawlasir Flying with emirates is extremely frustrating. How an item of luggage can go missing…',\n",
              " '@EmiratesSupport when will someone inform me about the whereabouts of my luggage ?',\n",
              " '@EmiratesSupport is there any restriction on carrying cardboard boxes as checked baggage?',\n",
              " '@EmiratesSupport Hello.We will be traveling USA to India and India to USA via Dubai. Is one carry on+ one purse allowed?',\n",
              " \"@EmiratesSupport We took a flight in Tel Aviv to Dubai with a connection to Nairobi. 1 of our 2 bags didn't arrive. According to the airport office it´s still in Tel Aviv. That bag had all the clothes we needed for the safari we start tomorrow. How can we ask for a compensation?\",\n",
              " '@EmiratesSupport @emirates @dnatatravel @dnataSupport @airindiain Feeling helpless! Emirates missed my bags in Dubai and now telling AirIndia that bags can only reach on 29th (8days delay), I need to travel back to my home country (SF) on 28th which no one understanding! Strange!',\n",
              " '@EmiratesSupport @emirates Hello I took the flight from Madrid to Dubai on 22.10.2022 and valuables from my checked in bag around 2000 euros were stolen. The complaint has been filed but there’s no response. Kindly check and investigate the same. https://t.co/ol4umZQpKo',\n",
              " 'RT @khanna244: @EmiratesSupport @emirates Hello I took the flight from Madrid to Dubai on 22.10.2022 and valuables from my checked in bag a…',\n",
              " 'RT @Akhiles77012252: @EmiratesSupport @emirates @dnatatravel @dnataSupport @airindiain Feeling helpless! Emirates missed my bags in Dubai a…',\n",
              " '@EmiratesSupport are Apple AirTags allowed in checked in luggage?',\n",
              " \"@EmiratesSupport Hi @emirates @EmiratesSupport . It's been around 2 months since the baggage was lost on the Emirates flight. Still no information or update on the claim. Very disappointing and unprofessional. Request to close the matter ASAP.\",\n",
              " '@EmiratesSupport My luggage was lost on my honeymoon.  @emirates have refused compensation, but offered airmiles. a month later airmiles have not been added and emails are ignored.',\n",
              " '@EmiratesSupport Hi, can you please let me know if there is any luggage allowance when flying with a child under 2yrs old from the uk to dubai?',\n",
              " '@EmiratesSupport @emirates It has been over 30 hours but you have not been able to trace my missing baggage. Arrived on EK504 on 26Oct22 and support team is clueless as to where it is. Pls note there is important medication in that baggage. Please DM me for details.',\n",
              " '@EmiratesSupport is this your service Emirates? I Lost my bag in airport belt. On October 11th. LHRA701629 please find this. I am dead calling you people. No one responds.. please help me https://t.co/d45S07IhIh',\n",
              " '@EmiratesSupport Hi, was wondering how much liquid I can take in checked luggage. How many 1,5 Liter bottles of juice can I put in 1 suitcase (checked luggage)? Thanks.',\n",
              " \"@EmiratesSupport while travel'g to Mum from Manchstr on 13 Aug my luggage ws damaged by Emirtes ground staff and it's frustrating as after 3mnths still awaiting response from Emirates... Regrdlss of inconvenience travel v had wid broken suitcase during my whole India trip\",\n",
              " '@EmiratesSupport   I am on the flight from Athens to Dubai - Flight EK210 on 28-Oct-2022.   I am very disappointing,  away 19G does not decline and was known to be broken, never told.  Also,  my bag got stuck on a loose screw in the overhead and it took me 10 min to get loose',\n",
              " \"RT @sunnyspuri: @EmiratesSupport while travel'g to Mum from Manchstr on 13 Aug my luggage ws damaged by Emirtes ground staff and it's frust…\",\n",
              " '@EmiratesSupport It confused me badly. You’ve created a damage baggage reference number for me: AMMD700000, 20days ago. But  this number can’t be found online when checking the status of my baggage claim. What’s wrong with it?',\n",
              " '@EmiratesSupport My brand new suitcase was damaged on the way back from Dubai yesterday, October 29th 2022. I had a connecting flight to catch so could not go to the baggage office at the airport. I have travelled a lot internationally but never flown Emirates. Very sad:( https://t.co/cxLLWpfBxr',\n",
              " '@EmiratesSupport Emirates airlines damaged my brand new suitcase on the way back from Dubai yesterday, October 29th 2022. I need reimbursement because suitcase is not usable anymore. Emirates customer support, please help. Where do I file claim for damage? https://t.co/Drps8FRSfT',\n",
              " '@EmiratesSupport I have already shared the way the baggage was handled and the poor behaviour of your executive... Image shared of the bag',\n",
              " '@EmiratesSupport are wooden (bamboo) knitting needles allowed in the cabin? I can’t see them specifically listed on your website, so just wanted to check :)',\n",
              " '@EmiratesSupport still no satisfaction from Emirates 6 weeks after cancelled flight and missing almost 2 full days of our holiday in The Maldives.\\nPoor to say the least.',\n",
              " 'RT @KennyMcKie17: @EmiratesSupport still no satisfaction from Emirates 6 weeks after cancelled flight and missing almost 2 full days of our…',\n",
              " '@EmiratesSupport Oh no! I was so looking forward to knitting on my 19 hour flight to Australia! What a shame',\n",
              " \"@EmiratesSupport Hey, I've got a question: is a small sling bag/purse allowed in addition to a carry-on bag in the Economy class?\",\n",
              " '@EmiratesSupport @emirates hi there! Can I fly with a live plant either as a carry on or in my checked in luggage?',\n",
              " '@EmiratesSupport Morning! We are due to take an Emirates flight to Delhi via Dubai.  Is it ok to have Apple AirTags in our checked in  luggage? Thanks 😊',\n",
              " '@EmiratesSupport Boston to Mumbai via Dubai . I have my wedding gown with me . Can I carry it as an carry on. Will someone be able to hang it during the flight . Please. It would be a huge favor and make my dream come true @DestWeds@internationwedding',\n",
              " '@EmiratesSupport Yes 30 days wait period for 45 days old baggage issue.. air india is better then you guys',\n",
              " '@EmiratesSupport Hi. Could you please assist with regards to my lost baggage in Heathrow Airport. It has been 2 days since I reported and I am waiting for your update.',\n",
              " '@EmiratesSupport Does Emirates allow knitting needles now in cabin luggage for flight from Germany to Australia?']"
            ]
          },
          "metadata": {},
          "execution_count": 63
        }
      ]
    },
    {
      "cell_type": "code",
      "source": [
        "df2.iloc[162]['tweet']"
      ],
      "metadata": {
        "colab": {
          "base_uri": "https://localhost:8080/",
          "height": 53
        },
        "id": "eVmIdVFnTmsa",
        "outputId": "502fd41b-c6bb-4a69-9b80-e6b4af57a6a6"
      },
      "execution_count": null,
      "outputs": [
        {
          "output_type": "execute_result",
          "data": {
            "text/plain": [
              "'@EmiratesSupport just tried to check in for our flight Saturday and your system has decided that my 4 and 6 year old should be sitting on opposite ends of the plane away from my wife and I 😵\\u200d💫'"
            ],
            "application/vnd.google.colaboratory.intrinsic+json": {
              "type": "string"
            }
          },
          "metadata": {},
          "execution_count": 55
        }
      ]
    },
    {
      "cell_type": "code",
      "source": [
        "df2.iloc[270]['tweet']"
      ],
      "metadata": {
        "id": "4NJ6NwZ4clCp",
        "outputId": "89e0d8a3-92c9-4640-837f-47b4d182b9ea",
        "colab": {
          "base_uri": "https://localhost:8080/",
          "height": 36
        }
      },
      "execution_count": null,
      "outputs": [
        {
          "output_type": "execute_result",
          "data": {
            "text/plain": [
              "'@EmiratesSupport It doesn’t help. And I’m not happy being ripped off. Now what can you do? 🤣'"
            ],
            "application/vnd.google.colaboratory.intrinsic+json": {
              "type": "string"
            }
          },
          "metadata": {},
          "execution_count": 56
        }
      ]
    },
    {
      "cell_type": "code",
      "source": [],
      "metadata": {
        "id": "gCiM5L-8cmj3"
      },
      "execution_count": null,
      "outputs": []
    },
    {
      "cell_type": "code",
      "source": [],
      "metadata": {
        "id": "OtOyckzGcmaJ"
      },
      "execution_count": null,
      "outputs": []
    },
    {
      "cell_type": "code",
      "source": [],
      "metadata": {
        "id": "NsE5nCsvcmTA"
      },
      "execution_count": null,
      "outputs": []
    },
    {
      "cell_type": "code",
      "source": [],
      "metadata": {
        "id": "S7bLh2b9cmKx"
      },
      "execution_count": null,
      "outputs": []
    },
    {
      "cell_type": "code",
      "source": [],
      "metadata": {
        "id": "HUtMviwgcltX"
      },
      "execution_count": null,
      "outputs": []
    }
  ],
  "metadata": {
    "kernelspec": {
      "display_name": "Python (notam1)",
      "language": "python",
      "name": "notam"
    },
    "language_info": {
      "codemirror_mode": {
        "name": "ipython",
        "version": 3
      },
      "file_extension": ".py",
      "mimetype": "text/x-python",
      "name": "python",
      "nbconvert_exporter": "python",
      "pygments_lexer": "ipython3",
      "version": "3.7.9"
    },
    "colab": {
      "provenance": [],
      "include_colab_link": true
    },
    "widgets": {
      "application/vnd.jupyter.widget-state+json": {
        "918d0de596fb41fea1078902c3d2dedb": {
          "model_module": "@jupyter-widgets/controls",
          "model_name": "HBoxModel",
          "model_module_version": "1.5.0",
          "state": {
            "_dom_classes": [],
            "_model_module": "@jupyter-widgets/controls",
            "_model_module_version": "1.5.0",
            "_model_name": "HBoxModel",
            "_view_count": null,
            "_view_module": "@jupyter-widgets/controls",
            "_view_module_version": "1.5.0",
            "_view_name": "HBoxView",
            "box_style": "",
            "children": [
              "IPY_MODEL_6b6364685c65402da2e3263a80ab58e5",
              "IPY_MODEL_acf57ad10639450797c4c7324e21da8e",
              "IPY_MODEL_10f0460adf014e389fe510b6c198bd4f"
            ],
            "layout": "IPY_MODEL_f483bd0c46444f49a0cc520c88728dd8"
          }
        },
        "6b6364685c65402da2e3263a80ab58e5": {
          "model_module": "@jupyter-widgets/controls",
          "model_name": "HTMLModel",
          "model_module_version": "1.5.0",
          "state": {
            "_dom_classes": [],
            "_model_module": "@jupyter-widgets/controls",
            "_model_module_version": "1.5.0",
            "_model_name": "HTMLModel",
            "_view_count": null,
            "_view_module": "@jupyter-widgets/controls",
            "_view_module_version": "1.5.0",
            "_view_name": "HTMLView",
            "description": "",
            "description_tooltip": null,
            "layout": "IPY_MODEL_759a2716255c438ebedc7b55dfdde9a9",
            "placeholder": "​",
            "style": "IPY_MODEL_090fc1d50db244838a1989f3a01400e1",
            "value": "Batches: 100%"
          }
        },
        "acf57ad10639450797c4c7324e21da8e": {
          "model_module": "@jupyter-widgets/controls",
          "model_name": "FloatProgressModel",
          "model_module_version": "1.5.0",
          "state": {
            "_dom_classes": [],
            "_model_module": "@jupyter-widgets/controls",
            "_model_module_version": "1.5.0",
            "_model_name": "FloatProgressModel",
            "_view_count": null,
            "_view_module": "@jupyter-widgets/controls",
            "_view_module_version": "1.5.0",
            "_view_name": "ProgressView",
            "bar_style": "success",
            "description": "",
            "description_tooltip": null,
            "layout": "IPY_MODEL_b5f139511715409290de7aecca345009",
            "max": 27,
            "min": 0,
            "orientation": "horizontal",
            "style": "IPY_MODEL_002eef570a4543beb6b82d84452e36b8",
            "value": 27
          }
        },
        "10f0460adf014e389fe510b6c198bd4f": {
          "model_module": "@jupyter-widgets/controls",
          "model_name": "HTMLModel",
          "model_module_version": "1.5.0",
          "state": {
            "_dom_classes": [],
            "_model_module": "@jupyter-widgets/controls",
            "_model_module_version": "1.5.0",
            "_model_name": "HTMLModel",
            "_view_count": null,
            "_view_module": "@jupyter-widgets/controls",
            "_view_module_version": "1.5.0",
            "_view_name": "HTMLView",
            "description": "",
            "description_tooltip": null,
            "layout": "IPY_MODEL_0d932a27f4ca4a89a3d5586c54dc2783",
            "placeholder": "​",
            "style": "IPY_MODEL_65c8365f8d4940f58c0ca82eec158042",
            "value": " 27/27 [00:19&lt;00:00,  3.56it/s]"
          }
        },
        "f483bd0c46444f49a0cc520c88728dd8": {
          "model_module": "@jupyter-widgets/base",
          "model_name": "LayoutModel",
          "model_module_version": "1.2.0",
          "state": {
            "_model_module": "@jupyter-widgets/base",
            "_model_module_version": "1.2.0",
            "_model_name": "LayoutModel",
            "_view_count": null,
            "_view_module": "@jupyter-widgets/base",
            "_view_module_version": "1.2.0",
            "_view_name": "LayoutView",
            "align_content": null,
            "align_items": null,
            "align_self": null,
            "border": null,
            "bottom": null,
            "display": null,
            "flex": null,
            "flex_flow": null,
            "grid_area": null,
            "grid_auto_columns": null,
            "grid_auto_flow": null,
            "grid_auto_rows": null,
            "grid_column": null,
            "grid_gap": null,
            "grid_row": null,
            "grid_template_areas": null,
            "grid_template_columns": null,
            "grid_template_rows": null,
            "height": null,
            "justify_content": null,
            "justify_items": null,
            "left": null,
            "margin": null,
            "max_height": null,
            "max_width": null,
            "min_height": null,
            "min_width": null,
            "object_fit": null,
            "object_position": null,
            "order": null,
            "overflow": null,
            "overflow_x": null,
            "overflow_y": null,
            "padding": null,
            "right": null,
            "top": null,
            "visibility": null,
            "width": null
          }
        },
        "759a2716255c438ebedc7b55dfdde9a9": {
          "model_module": "@jupyter-widgets/base",
          "model_name": "LayoutModel",
          "model_module_version": "1.2.0",
          "state": {
            "_model_module": "@jupyter-widgets/base",
            "_model_module_version": "1.2.0",
            "_model_name": "LayoutModel",
            "_view_count": null,
            "_view_module": "@jupyter-widgets/base",
            "_view_module_version": "1.2.0",
            "_view_name": "LayoutView",
            "align_content": null,
            "align_items": null,
            "align_self": null,
            "border": null,
            "bottom": null,
            "display": null,
            "flex": null,
            "flex_flow": null,
            "grid_area": null,
            "grid_auto_columns": null,
            "grid_auto_flow": null,
            "grid_auto_rows": null,
            "grid_column": null,
            "grid_gap": null,
            "grid_row": null,
            "grid_template_areas": null,
            "grid_template_columns": null,
            "grid_template_rows": null,
            "height": null,
            "justify_content": null,
            "justify_items": null,
            "left": null,
            "margin": null,
            "max_height": null,
            "max_width": null,
            "min_height": null,
            "min_width": null,
            "object_fit": null,
            "object_position": null,
            "order": null,
            "overflow": null,
            "overflow_x": null,
            "overflow_y": null,
            "padding": null,
            "right": null,
            "top": null,
            "visibility": null,
            "width": null
          }
        },
        "090fc1d50db244838a1989f3a01400e1": {
          "model_module": "@jupyter-widgets/controls",
          "model_name": "DescriptionStyleModel",
          "model_module_version": "1.5.0",
          "state": {
            "_model_module": "@jupyter-widgets/controls",
            "_model_module_version": "1.5.0",
            "_model_name": "DescriptionStyleModel",
            "_view_count": null,
            "_view_module": "@jupyter-widgets/base",
            "_view_module_version": "1.2.0",
            "_view_name": "StyleView",
            "description_width": ""
          }
        },
        "b5f139511715409290de7aecca345009": {
          "model_module": "@jupyter-widgets/base",
          "model_name": "LayoutModel",
          "model_module_version": "1.2.0",
          "state": {
            "_model_module": "@jupyter-widgets/base",
            "_model_module_version": "1.2.0",
            "_model_name": "LayoutModel",
            "_view_count": null,
            "_view_module": "@jupyter-widgets/base",
            "_view_module_version": "1.2.0",
            "_view_name": "LayoutView",
            "align_content": null,
            "align_items": null,
            "align_self": null,
            "border": null,
            "bottom": null,
            "display": null,
            "flex": null,
            "flex_flow": null,
            "grid_area": null,
            "grid_auto_columns": null,
            "grid_auto_flow": null,
            "grid_auto_rows": null,
            "grid_column": null,
            "grid_gap": null,
            "grid_row": null,
            "grid_template_areas": null,
            "grid_template_columns": null,
            "grid_template_rows": null,
            "height": null,
            "justify_content": null,
            "justify_items": null,
            "left": null,
            "margin": null,
            "max_height": null,
            "max_width": null,
            "min_height": null,
            "min_width": null,
            "object_fit": null,
            "object_position": null,
            "order": null,
            "overflow": null,
            "overflow_x": null,
            "overflow_y": null,
            "padding": null,
            "right": null,
            "top": null,
            "visibility": null,
            "width": null
          }
        },
        "002eef570a4543beb6b82d84452e36b8": {
          "model_module": "@jupyter-widgets/controls",
          "model_name": "ProgressStyleModel",
          "model_module_version": "1.5.0",
          "state": {
            "_model_module": "@jupyter-widgets/controls",
            "_model_module_version": "1.5.0",
            "_model_name": "ProgressStyleModel",
            "_view_count": null,
            "_view_module": "@jupyter-widgets/base",
            "_view_module_version": "1.2.0",
            "_view_name": "StyleView",
            "bar_color": null,
            "description_width": ""
          }
        },
        "0d932a27f4ca4a89a3d5586c54dc2783": {
          "model_module": "@jupyter-widgets/base",
          "model_name": "LayoutModel",
          "model_module_version": "1.2.0",
          "state": {
            "_model_module": "@jupyter-widgets/base",
            "_model_module_version": "1.2.0",
            "_model_name": "LayoutModel",
            "_view_count": null,
            "_view_module": "@jupyter-widgets/base",
            "_view_module_version": "1.2.0",
            "_view_name": "LayoutView",
            "align_content": null,
            "align_items": null,
            "align_self": null,
            "border": null,
            "bottom": null,
            "display": null,
            "flex": null,
            "flex_flow": null,
            "grid_area": null,
            "grid_auto_columns": null,
            "grid_auto_flow": null,
            "grid_auto_rows": null,
            "grid_column": null,
            "grid_gap": null,
            "grid_row": null,
            "grid_template_areas": null,
            "grid_template_columns": null,
            "grid_template_rows": null,
            "height": null,
            "justify_content": null,
            "justify_items": null,
            "left": null,
            "margin": null,
            "max_height": null,
            "max_width": null,
            "min_height": null,
            "min_width": null,
            "object_fit": null,
            "object_position": null,
            "order": null,
            "overflow": null,
            "overflow_x": null,
            "overflow_y": null,
            "padding": null,
            "right": null,
            "top": null,
            "visibility": null,
            "width": null
          }
        },
        "65c8365f8d4940f58c0ca82eec158042": {
          "model_module": "@jupyter-widgets/controls",
          "model_name": "DescriptionStyleModel",
          "model_module_version": "1.5.0",
          "state": {
            "_model_module": "@jupyter-widgets/controls",
            "_model_module_version": "1.5.0",
            "_model_name": "DescriptionStyleModel",
            "_view_count": null,
            "_view_module": "@jupyter-widgets/base",
            "_view_module_version": "1.2.0",
            "_view_name": "StyleView",
            "description_width": ""
          }
        }
      }
    }
  },
  "nbformat": 4,
  "nbformat_minor": 0
}