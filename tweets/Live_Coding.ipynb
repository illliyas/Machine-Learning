{
  "cells": [
    {
      "cell_type": "markdown",
      "metadata": {
        "id": "view-in-github",
        "colab_type": "text"
      },
      "source": [
        "<a href=\"https://colab.research.google.com/github/illliyas/Machine-Learning/blob/master/tweets/Topic_modelling.ipynb\" target=\"_parent\"><img src=\"https://colab.research.google.com/assets/colab-badge.svg\" alt=\"Open In Colab\"/></a>"
      ]
    },
    {
      "cell_type": "code",
      "execution_count": 1,
      "metadata": {
        "id": "A9XM5DU3MXqX",
        "outputId": "9ae88bef-dbc7-4a25-fc98-64bcaa40b569",
        "colab": {
          "base_uri": "https://localhost:8080/"
        }
      },
      "outputs": [
        {
          "output_type": "stream",
          "name": "stderr",
          "text": [
            "[nltk_data] Downloading package punkt to /root/nltk_data...\n",
            "[nltk_data]   Package punkt is already up-to-date!\n",
            "[nltk_data] Downloading package wordnet to /root/nltk_data...\n",
            "[nltk_data]   Package wordnet is already up-to-date!\n",
            "[nltk_data] Downloading package stopwords to /root/nltk_data...\n",
            "[nltk_data]   Package stopwords is already up-to-date!\n",
            "[nltk_data] Downloading package omw-1.4 to /root/nltk_data...\n",
            "[nltk_data]   Package omw-1.4 is already up-to-date!\n",
            "[nltk_data] Downloading package maxent_ne_chunker to\n",
            "[nltk_data]     /root/nltk_data...\n",
            "[nltk_data]   Package maxent_ne_chunker is already up-to-date!\n",
            "[nltk_data] Downloading package words to /root/nltk_data...\n",
            "[nltk_data]   Package words is already up-to-date!\n",
            "[nltk_data] Downloading package treebank to /root/nltk_data...\n",
            "[nltk_data]   Package treebank is already up-to-date!\n",
            "[nltk_data] Downloading package maxent_treebank_pos_tagger to\n",
            "[nltk_data]     /root/nltk_data...\n",
            "[nltk_data]   Package maxent_treebank_pos_tagger is already up-to-\n",
            "[nltk_data]       date!\n",
            "[nltk_data] Downloading package punkt to /root/nltk_data...\n",
            "[nltk_data]   Package punkt is already up-to-date!\n",
            "[nltk_data] Downloading package averaged_perceptron_tagger to\n",
            "[nltk_data]     /root/nltk_data...\n",
            "[nltk_data]   Package averaged_perceptron_tagger is already up-to-\n",
            "[nltk_data]       date!\n"
          ]
        }
      ],
      "source": [
        "import pandas as pd\n",
        "import re\n",
        "import nltk\n",
        "nltk.download('punkt')\n",
        "nltk.download('wordnet')\n",
        "nltk.download('stopwords')\n",
        "nltk.download('omw-1.4')\n",
        "nltk.downloader.download('maxent_ne_chunker')\n",
        "nltk.downloader.download('words')\n",
        "nltk.downloader.download('treebank')\n",
        "nltk.downloader.download('maxent_treebank_pos_tagger')\n",
        "nltk.downloader.download('punkt')\n",
        "nltk.download('averaged_perceptron_tagger')\n",
        "from nltk.tokenize import word_tokenize\n",
        "from nltk.corpus import stopwords\n",
        "from nltk.stem import PorterStemmer, WordNetLemmatizer\n",
        "import matplotlib.pyplot as plt\n",
        "from math import log, sqrt\n",
        "import pandas as pd\n",
        "import numpy as np\n",
        "import re\n",
        "import spacy\n",
        "%matplotlib inline"
      ]
    },
    {
      "cell_type": "code",
      "execution_count": 2,
      "metadata": {
        "id": "vHfWDZnvMXqZ",
        "outputId": "6977fefe-eb5f-4977-92bf-93d3492011b4",
        "colab": {
          "base_uri": "https://localhost:8080/"
        }
      },
      "outputs": [
        {
          "output_type": "stream",
          "name": "stdout",
          "text": [
            "2022-11-05 12:53:14.814844: E tensorflow/stream_executor/cuda/cuda_driver.cc:271] failed call to cuInit: CUDA_ERROR_NO_DEVICE: no CUDA-capable device is detected\n",
            "Looking in indexes: https://pypi.org/simple, https://us-python.pkg.dev/colab-wheels/public/simple/\n",
            "Collecting en-core-web-sm==3.4.1\n",
            "  Downloading https://github.com/explosion/spacy-models/releases/download/en_core_web_sm-3.4.1/en_core_web_sm-3.4.1-py3-none-any.whl (12.8 MB)\n",
            "\u001b[K     |████████████████████████████████| 12.8 MB 14.4 MB/s \n",
            "\u001b[?25hRequirement already satisfied: spacy<3.5.0,>=3.4.0 in /usr/local/lib/python3.7/dist-packages (from en-core-web-sm==3.4.1) (3.4.2)\n",
            "Requirement already satisfied: jinja2 in /usr/local/lib/python3.7/dist-packages (from spacy<3.5.0,>=3.4.0->en-core-web-sm==3.4.1) (2.11.3)\n",
            "Requirement already satisfied: wasabi<1.1.0,>=0.9.1 in /usr/local/lib/python3.7/dist-packages (from spacy<3.5.0,>=3.4.0->en-core-web-sm==3.4.1) (0.10.1)\n",
            "Requirement already satisfied: tqdm<5.0.0,>=4.38.0 in /usr/local/lib/python3.7/dist-packages (from spacy<3.5.0,>=3.4.0->en-core-web-sm==3.4.1) (4.64.1)\n",
            "Requirement already satisfied: langcodes<4.0.0,>=3.2.0 in /usr/local/lib/python3.7/dist-packages (from spacy<3.5.0,>=3.4.0->en-core-web-sm==3.4.1) (3.3.0)\n",
            "Requirement already satisfied: catalogue<2.1.0,>=2.0.6 in /usr/local/lib/python3.7/dist-packages (from spacy<3.5.0,>=3.4.0->en-core-web-sm==3.4.1) (2.0.8)\n",
            "Requirement already satisfied: cymem<2.1.0,>=2.0.2 in /usr/local/lib/python3.7/dist-packages (from spacy<3.5.0,>=3.4.0->en-core-web-sm==3.4.1) (2.0.7)\n",
            "Requirement already satisfied: requests<3.0.0,>=2.13.0 in /usr/local/lib/python3.7/dist-packages (from spacy<3.5.0,>=3.4.0->en-core-web-sm==3.4.1) (2.23.0)\n",
            "Requirement already satisfied: srsly<3.0.0,>=2.4.3 in /usr/local/lib/python3.7/dist-packages (from spacy<3.5.0,>=3.4.0->en-core-web-sm==3.4.1) (2.4.5)\n",
            "Requirement already satisfied: murmurhash<1.1.0,>=0.28.0 in /usr/local/lib/python3.7/dist-packages (from spacy<3.5.0,>=3.4.0->en-core-web-sm==3.4.1) (1.0.9)\n",
            "Requirement already satisfied: preshed<3.1.0,>=3.0.2 in /usr/local/lib/python3.7/dist-packages (from spacy<3.5.0,>=3.4.0->en-core-web-sm==3.4.1) (3.0.8)\n",
            "Requirement already satisfied: pydantic!=1.8,!=1.8.1,<1.11.0,>=1.7.4 in /usr/local/lib/python3.7/dist-packages (from spacy<3.5.0,>=3.4.0->en-core-web-sm==3.4.1) (1.10.2)\n",
            "Requirement already satisfied: typing-extensions<4.2.0,>=3.7.4 in /usr/local/lib/python3.7/dist-packages (from spacy<3.5.0,>=3.4.0->en-core-web-sm==3.4.1) (4.1.1)\n",
            "Requirement already satisfied: packaging>=20.0 in /usr/local/lib/python3.7/dist-packages (from spacy<3.5.0,>=3.4.0->en-core-web-sm==3.4.1) (21.3)\n",
            "Requirement already satisfied: thinc<8.2.0,>=8.1.0 in /usr/local/lib/python3.7/dist-packages (from spacy<3.5.0,>=3.4.0->en-core-web-sm==3.4.1) (8.1.5)\n",
            "Requirement already satisfied: spacy-legacy<3.1.0,>=3.0.10 in /usr/local/lib/python3.7/dist-packages (from spacy<3.5.0,>=3.4.0->en-core-web-sm==3.4.1) (3.0.10)\n",
            "Requirement already satisfied: spacy-loggers<2.0.0,>=1.0.0 in /usr/local/lib/python3.7/dist-packages (from spacy<3.5.0,>=3.4.0->en-core-web-sm==3.4.1) (1.0.3)\n",
            "Requirement already satisfied: pathy>=0.3.5 in /usr/local/lib/python3.7/dist-packages (from spacy<3.5.0,>=3.4.0->en-core-web-sm==3.4.1) (0.6.2)\n",
            "Requirement already satisfied: setuptools in /usr/local/lib/python3.7/dist-packages (from spacy<3.5.0,>=3.4.0->en-core-web-sm==3.4.1) (57.4.0)\n",
            "Requirement already satisfied: numpy>=1.15.0 in /usr/local/lib/python3.7/dist-packages (from spacy<3.5.0,>=3.4.0->en-core-web-sm==3.4.1) (1.21.6)\n",
            "Requirement already satisfied: typer<0.5.0,>=0.3.0 in /usr/local/lib/python3.7/dist-packages (from spacy<3.5.0,>=3.4.0->en-core-web-sm==3.4.1) (0.4.2)\n",
            "Requirement already satisfied: zipp>=0.5 in /usr/local/lib/python3.7/dist-packages (from catalogue<2.1.0,>=2.0.6->spacy<3.5.0,>=3.4.0->en-core-web-sm==3.4.1) (3.10.0)\n",
            "Requirement already satisfied: pyparsing!=3.0.5,>=2.0.2 in /usr/local/lib/python3.7/dist-packages (from packaging>=20.0->spacy<3.5.0,>=3.4.0->en-core-web-sm==3.4.1) (3.0.9)\n",
            "Requirement already satisfied: smart-open<6.0.0,>=5.2.1 in /usr/local/lib/python3.7/dist-packages (from pathy>=0.3.5->spacy<3.5.0,>=3.4.0->en-core-web-sm==3.4.1) (5.2.1)\n",
            "Requirement already satisfied: certifi>=2017.4.17 in /usr/local/lib/python3.7/dist-packages (from requests<3.0.0,>=2.13.0->spacy<3.5.0,>=3.4.0->en-core-web-sm==3.4.1) (2022.9.24)\n",
            "Requirement already satisfied: idna<3,>=2.5 in /usr/local/lib/python3.7/dist-packages (from requests<3.0.0,>=2.13.0->spacy<3.5.0,>=3.4.0->en-core-web-sm==3.4.1) (2.10)\n",
            "Requirement already satisfied: chardet<4,>=3.0.2 in /usr/local/lib/python3.7/dist-packages (from requests<3.0.0,>=2.13.0->spacy<3.5.0,>=3.4.0->en-core-web-sm==3.4.1) (3.0.4)\n",
            "Requirement already satisfied: urllib3!=1.25.0,!=1.25.1,<1.26,>=1.21.1 in /usr/local/lib/python3.7/dist-packages (from requests<3.0.0,>=2.13.0->spacy<3.5.0,>=3.4.0->en-core-web-sm==3.4.1) (1.24.3)\n",
            "Requirement already satisfied: confection<1.0.0,>=0.0.1 in /usr/local/lib/python3.7/dist-packages (from thinc<8.2.0,>=8.1.0->spacy<3.5.0,>=3.4.0->en-core-web-sm==3.4.1) (0.0.3)\n",
            "Requirement already satisfied: blis<0.8.0,>=0.7.8 in /usr/local/lib/python3.7/dist-packages (from thinc<8.2.0,>=8.1.0->spacy<3.5.0,>=3.4.0->en-core-web-sm==3.4.1) (0.7.9)\n",
            "Requirement already satisfied: click<9.0.0,>=7.1.1 in /usr/local/lib/python3.7/dist-packages (from typer<0.5.0,>=0.3.0->spacy<3.5.0,>=3.4.0->en-core-web-sm==3.4.1) (7.1.2)\n",
            "Requirement already satisfied: MarkupSafe>=0.23 in /usr/local/lib/python3.7/dist-packages (from jinja2->spacy<3.5.0,>=3.4.0->en-core-web-sm==3.4.1) (2.0.1)\n",
            "\u001b[38;5;2m✔ Download and installation successful\u001b[0m\n",
            "You can now load the package via spacy.load('en_core_web_sm')\n",
            "Looking in indexes: https://pypi.org/simple, https://us-python.pkg.dev/colab-wheels/public/simple/\n",
            "Collecting locationtagger\n",
            "  Downloading locationtagger-0.0.1-py3-none-any.whl (1.6 MB)\n",
            "\u001b[K     |████████████████████████████████| 1.6 MB 14.7 MB/s \n",
            "\u001b[?25hCollecting newspaper3k\n",
            "  Downloading newspaper3k-0.2.8-py3-none-any.whl (211 kB)\n",
            "\u001b[K     |████████████████████████████████| 211 kB 60.5 MB/s \n",
            "\u001b[?25hRequirement already satisfied: spacy in /usr/local/lib/python3.7/dist-packages (from locationtagger) (3.4.2)\n",
            "Requirement already satisfied: nltk in /usr/local/lib/python3.7/dist-packages (from locationtagger) (3.7)\n",
            "Collecting pycountry\n",
            "  Downloading pycountry-22.3.5.tar.gz (10.1 MB)\n",
            "\u001b[K     |████████████████████████████████| 10.1 MB 46.0 MB/s \n",
            "\u001b[?25h  Installing build dependencies ... \u001b[?25l\u001b[?25hdone\n",
            "  Getting requirements to build wheel ... \u001b[?25l\u001b[?25hdone\n",
            "    Preparing wheel metadata ... \u001b[?25l\u001b[?25hdone\n",
            "Requirement already satisfied: PyYAML>=3.11 in /usr/local/lib/python3.7/dist-packages (from newspaper3k->locationtagger) (6.0)\n",
            "Requirement already satisfied: requests>=2.10.0 in /usr/local/lib/python3.7/dist-packages (from newspaper3k->locationtagger) (2.23.0)\n",
            "Collecting feedparser>=5.2.1\n",
            "  Downloading feedparser-6.0.10-py3-none-any.whl (81 kB)\n",
            "\u001b[K     |████████████████████████████████| 81 kB 7.7 MB/s \n",
            "\u001b[?25hRequirement already satisfied: lxml>=3.6.0 in /usr/local/lib/python3.7/dist-packages (from newspaper3k->locationtagger) (4.9.1)\n",
            "Collecting feedfinder2>=0.0.4\n",
            "  Downloading feedfinder2-0.0.4.tar.gz (3.3 kB)\n",
            "Collecting jieba3k>=0.35.1\n",
            "  Downloading jieba3k-0.35.1.zip (7.4 MB)\n",
            "\u001b[K     |████████████████████████████████| 7.4 MB 44.4 MB/s \n",
            "\u001b[?25hRequirement already satisfied: Pillow>=3.3.0 in /usr/local/lib/python3.7/dist-packages (from newspaper3k->locationtagger) (7.1.2)\n",
            "Requirement already satisfied: python-dateutil>=2.5.3 in /usr/local/lib/python3.7/dist-packages (from newspaper3k->locationtagger) (2.8.2)\n",
            "Collecting tinysegmenter==0.3\n",
            "  Downloading tinysegmenter-0.3.tar.gz (16 kB)\n",
            "Requirement already satisfied: beautifulsoup4>=4.4.1 in /usr/local/lib/python3.7/dist-packages (from newspaper3k->locationtagger) (4.6.3)\n",
            "Collecting tldextract>=2.0.1\n",
            "  Downloading tldextract-3.4.0-py3-none-any.whl (93 kB)\n",
            "\u001b[K     |████████████████████████████████| 93 kB 2.3 MB/s \n",
            "\u001b[?25hCollecting cssselect>=0.9.2\n",
            "  Downloading cssselect-1.2.0-py2.py3-none-any.whl (18 kB)\n",
            "Requirement already satisfied: six in /usr/local/lib/python3.7/dist-packages (from feedfinder2>=0.0.4->newspaper3k->locationtagger) (1.15.0)\n",
            "Collecting sgmllib3k\n",
            "  Downloading sgmllib3k-1.0.0.tar.gz (5.8 kB)\n",
            "Requirement already satisfied: regex>=2021.8.3 in /usr/local/lib/python3.7/dist-packages (from nltk->locationtagger) (2022.6.2)\n",
            "Requirement already satisfied: tqdm in /usr/local/lib/python3.7/dist-packages (from nltk->locationtagger) (4.64.1)\n",
            "Requirement already satisfied: joblib in /usr/local/lib/python3.7/dist-packages (from nltk->locationtagger) (1.2.0)\n",
            "Requirement already satisfied: click in /usr/local/lib/python3.7/dist-packages (from nltk->locationtagger) (7.1.2)\n",
            "Requirement already satisfied: certifi>=2017.4.17 in /usr/local/lib/python3.7/dist-packages (from requests>=2.10.0->newspaper3k->locationtagger) (2022.9.24)\n",
            "Requirement already satisfied: urllib3!=1.25.0,!=1.25.1,<1.26,>=1.21.1 in /usr/local/lib/python3.7/dist-packages (from requests>=2.10.0->newspaper3k->locationtagger) (1.24.3)\n",
            "Requirement already satisfied: chardet<4,>=3.0.2 in /usr/local/lib/python3.7/dist-packages (from requests>=2.10.0->newspaper3k->locationtagger) (3.0.4)\n",
            "Requirement already satisfied: idna<3,>=2.5 in /usr/local/lib/python3.7/dist-packages (from requests>=2.10.0->newspaper3k->locationtagger) (2.10)\n",
            "Requirement already satisfied: filelock>=3.0.8 in /usr/local/lib/python3.7/dist-packages (from tldextract>=2.0.1->newspaper3k->locationtagger) (3.8.0)\n",
            "Collecting requests-file>=1.4\n",
            "  Downloading requests_file-1.5.1-py2.py3-none-any.whl (3.7 kB)\n",
            "Requirement already satisfied: setuptools in /usr/local/lib/python3.7/dist-packages (from pycountry->locationtagger) (57.4.0)\n",
            "Requirement already satisfied: srsly<3.0.0,>=2.4.3 in /usr/local/lib/python3.7/dist-packages (from spacy->locationtagger) (2.4.5)\n",
            "Requirement already satisfied: spacy-legacy<3.1.0,>=3.0.10 in /usr/local/lib/python3.7/dist-packages (from spacy->locationtagger) (3.0.10)\n",
            "Requirement already satisfied: preshed<3.1.0,>=3.0.2 in /usr/local/lib/python3.7/dist-packages (from spacy->locationtagger) (3.0.8)\n",
            "Requirement already satisfied: pydantic!=1.8,!=1.8.1,<1.11.0,>=1.7.4 in /usr/local/lib/python3.7/dist-packages (from spacy->locationtagger) (1.10.2)\n",
            "Requirement already satisfied: typer<0.5.0,>=0.3.0 in /usr/local/lib/python3.7/dist-packages (from spacy->locationtagger) (0.4.2)\n",
            "Requirement already satisfied: typing-extensions<4.2.0,>=3.7.4 in /usr/local/lib/python3.7/dist-packages (from spacy->locationtagger) (4.1.1)\n",
            "Requirement already satisfied: packaging>=20.0 in /usr/local/lib/python3.7/dist-packages (from spacy->locationtagger) (21.3)\n",
            "Requirement already satisfied: thinc<8.2.0,>=8.1.0 in /usr/local/lib/python3.7/dist-packages (from spacy->locationtagger) (8.1.5)\n",
            "Requirement already satisfied: jinja2 in /usr/local/lib/python3.7/dist-packages (from spacy->locationtagger) (2.11.3)\n",
            "Requirement already satisfied: cymem<2.1.0,>=2.0.2 in /usr/local/lib/python3.7/dist-packages (from spacy->locationtagger) (2.0.7)\n",
            "Requirement already satisfied: murmurhash<1.1.0,>=0.28.0 in /usr/local/lib/python3.7/dist-packages (from spacy->locationtagger) (1.0.9)\n",
            "Requirement already satisfied: wasabi<1.1.0,>=0.9.1 in /usr/local/lib/python3.7/dist-packages (from spacy->locationtagger) (0.10.1)\n",
            "Requirement already satisfied: spacy-loggers<2.0.0,>=1.0.0 in /usr/local/lib/python3.7/dist-packages (from spacy->locationtagger) (1.0.3)\n",
            "Requirement already satisfied: numpy>=1.15.0 in /usr/local/lib/python3.7/dist-packages (from spacy->locationtagger) (1.21.6)\n",
            "Requirement already satisfied: catalogue<2.1.0,>=2.0.6 in /usr/local/lib/python3.7/dist-packages (from spacy->locationtagger) (2.0.8)\n",
            "Requirement already satisfied: langcodes<4.0.0,>=3.2.0 in /usr/local/lib/python3.7/dist-packages (from spacy->locationtagger) (3.3.0)\n",
            "Requirement already satisfied: pathy>=0.3.5 in /usr/local/lib/python3.7/dist-packages (from spacy->locationtagger) (0.6.2)\n",
            "Requirement already satisfied: zipp>=0.5 in /usr/local/lib/python3.7/dist-packages (from catalogue<2.1.0,>=2.0.6->spacy->locationtagger) (3.10.0)\n",
            "Requirement already satisfied: pyparsing!=3.0.5,>=2.0.2 in /usr/local/lib/python3.7/dist-packages (from packaging>=20.0->spacy->locationtagger) (3.0.9)\n",
            "Requirement already satisfied: smart-open<6.0.0,>=5.2.1 in /usr/local/lib/python3.7/dist-packages (from pathy>=0.3.5->spacy->locationtagger) (5.2.1)\n",
            "Requirement already satisfied: confection<1.0.0,>=0.0.1 in /usr/local/lib/python3.7/dist-packages (from thinc<8.2.0,>=8.1.0->spacy->locationtagger) (0.0.3)\n",
            "Requirement already satisfied: blis<0.8.0,>=0.7.8 in /usr/local/lib/python3.7/dist-packages (from thinc<8.2.0,>=8.1.0->spacy->locationtagger) (0.7.9)\n",
            "Requirement already satisfied: MarkupSafe>=0.23 in /usr/local/lib/python3.7/dist-packages (from jinja2->spacy->locationtagger) (2.0.1)\n",
            "Building wheels for collected packages: tinysegmenter, feedfinder2, jieba3k, pycountry, sgmllib3k\n",
            "  Building wheel for tinysegmenter (setup.py) ... \u001b[?25l\u001b[?25hdone\n",
            "  Created wheel for tinysegmenter: filename=tinysegmenter-0.3-py3-none-any.whl size=13553 sha256=6a361398732fc652e5fa6df391ac3b30bf61672216c4de4a36013246bd901d06\n",
            "  Stored in directory: /root/.cache/pip/wheels/df/67/41/faca10fa501ca010be41b49d40360c2959e1c4f09bcbfa37fa\n",
            "  Building wheel for feedfinder2 (setup.py) ... \u001b[?25l\u001b[?25hdone\n",
            "  Created wheel for feedfinder2: filename=feedfinder2-0.0.4-py3-none-any.whl size=3357 sha256=f37f69a388929dab3a133f3737ebbebd43c5566cb74257bba72e2df38adafb85\n",
            "  Stored in directory: /root/.cache/pip/wheels/7f/d4/8f/6e2ca54744c9d7292d88ddb8d42876bcdab5e6d84a21c10346\n",
            "  Building wheel for jieba3k (setup.py) ... \u001b[?25l\u001b[?25hdone\n",
            "  Created wheel for jieba3k: filename=jieba3k-0.35.1-py3-none-any.whl size=7398404 sha256=c384be77a305a8cb680482e5ded488b5b58a0dffc5a5acb24dd6e2e3bc61eea3\n",
            "  Stored in directory: /root/.cache/pip/wheels/4c/91/46/3c208287b726df325a5979574324878b679116e4baae1af3c3\n",
            "  Building wheel for pycountry (PEP 517) ... \u001b[?25l\u001b[?25hdone\n",
            "  Created wheel for pycountry: filename=pycountry-22.3.5-py2.py3-none-any.whl size=10681845 sha256=b74ed160400b3cc0750052d3d2ec27eb3d8c97ba9620d5e68ee0e19241639518\n",
            "  Stored in directory: /root/.cache/pip/wheels/0e/06/e8/7ee176e95ea9a8a8c3b3afcb1869f20adbd42413d4611c6eb4\n",
            "  Building wheel for sgmllib3k (setup.py) ... \u001b[?25l\u001b[?25hdone\n",
            "  Created wheel for sgmllib3k: filename=sgmllib3k-1.0.0-py3-none-any.whl size=6066 sha256=7626ded9e98dface0fc27a7f3b804c76c4d800a40b989abc2d206268ad6bfb0d\n",
            "  Stored in directory: /root/.cache/pip/wheels/73/ad/a4/0dff4a6ef231fc0dfa12ffbac2a36cebfdddfe059f50e019aa\n",
            "Successfully built tinysegmenter feedfinder2 jieba3k pycountry sgmllib3k\n",
            "Installing collected packages: sgmllib3k, requests-file, tldextract, tinysegmenter, jieba3k, feedparser, feedfinder2, cssselect, pycountry, newspaper3k, locationtagger\n",
            "Successfully installed cssselect-1.2.0 feedfinder2-0.0.4 feedparser-6.0.10 jieba3k-0.35.1 locationtagger-0.0.1 newspaper3k-0.2.8 pycountry-22.3.5 requests-file-1.5.1 sgmllib3k-1.0.0 tinysegmenter-0.3 tldextract-3.4.0\n"
          ]
        }
      ],
      "source": [
        "!python -m spacy download en_core_web_sm\n",
        "!pip install locationtagger"
      ]
    },
    {
      "cell_type": "code",
      "execution_count": 3,
      "metadata": {
        "id": "ghk3SWRgMXqZ"
      },
      "outputs": [],
      "source": [
        "import locationtagger"
      ]
    },
    {
      "cell_type": "code",
      "execution_count": 4,
      "metadata": {
        "id": "oeNYyBf9MXqb"
      },
      "outputs": [],
      "source": [
        "df = pd.read_csv('ek_tweets4.csv')"
      ]
    },
    {
      "cell_type": "code",
      "execution_count": 5,
      "metadata": {
        "id": "CCaJXdDvMXqb"
      },
      "outputs": [],
      "source": [
        "def cleaning_tweets(tweet):\n",
        "    temp = tweet.lower()\n",
        "    #Removing hashtags and mentions\n",
        "    temp = re.sub(\"@[A-Za-z0-9_]+\",\"\", temp)\n",
        "    temp = re.sub(\"#[A-Za-z0-9_]+\",\"\", temp)\n",
        "    #Removing links\n",
        "    temp = re.sub(r\"http\\S+\", \"\", temp)\n",
        "    temp = re.sub(r\"www.\\S+\", \"\", temp)\n",
        "    #Removing punctuations\n",
        "    temp = re.sub('[()!?]', ' ', temp)\n",
        "    temp = re.sub('\\[.*?\\]',' ', temp)\n",
        "    #Filtering non-alphanumeric characters\n",
        "    temp = re.sub(\"[^a-z0-9]\",\" \", temp)\n",
        "    temp = re.sub(\"([a-z]*[0-9]+[a-z0-9]* )+\",\" \", temp)\n",
        "    #remove 2 letter words\n",
        "    temp = re.sub(r\"\\b[a-z]{2}\\b\",\" \", temp)\n",
        "    return temp\n",
        "sw = stopwords.words('english')\n",
        "lemmatizer = WordNetLemmatizer()\n",
        "stemmer = PorterStemmer()\n",
        "def remove_stopwords(tweet):\n",
        "    words = word_tokenize(tweet)\n",
        "    words = [word for word in words if word not in sw]\n",
        "    words = [lemmatizer.lemmatize(word) for word in words]\n",
        "    #words = [stemmer.stem(word) for word in words]\n",
        "    return ' '.join(words) \n",
        "def get_places(tweet):\n",
        "    place_entity = locationtagger.find_locations(text = tweet)\n",
        "    places_list = [y for x in [ place_entity.countries + place_entity.regions + place_entity.cities] for y in x]\n",
        "    places_list = [x.lower() for x in places_list]\n",
        "    places_list = list(dict.fromkeys(places_list))\n",
        "    return ' '.join(places_list)\n",
        "def remove_places(tweet):\n",
        "    place_entity = locationtagger.find_locations(text = tweet)\n",
        "    places_list = [y for x in [ place_entity.countries + place_entity.regions + place_entity.cities] for y in x]\n",
        "    places_list = [x.lower() for x in places_list]\n",
        "    places_list = list(dict.fromkeys(places_list))\n",
        "    words = word_tokenize(tweet)\n",
        "    words = [i for i in words if i not in places_list]\n",
        "    return ' '.join(words)\n",
        "def number_of_words(tweet):\n",
        "  return len(word_tokenize(tweet))    "
      ]
    },
    {
      "cell_type": "code",
      "execution_count": 6,
      "metadata": {
        "id": "T1gckm4oMXqb"
      },
      "outputs": [],
      "source": [
        "df['tweet_clean'] = df.apply(lambda row: cleaning_tweets(row['tweet']),axis=1)\n",
        "df['tweet_clean2'] = df.apply(lambda row: remove_stopwords(row['tweet_clean']),axis=1)\n",
        "df['tweet_places'] = df.apply(lambda row: get_places(row['tweet_clean2']),axis=1)\n",
        "df['tweet_clean3'] = df.apply(lambda row: remove_places(row['tweet_clean2']),axis=1)\n",
        "df['number_of_words'] = df.apply(lambda row: number_of_words(row['tweet_clean3']),axis=1)"
      ]
    },
    {
      "cell_type": "code",
      "execution_count": 7,
      "metadata": {
        "id": "tBJm3hjyMXqd",
        "outputId": "79ec51f1-9f0e-4d1f-b173-91427d143e15",
        "colab": {
          "base_uri": "https://localhost:8080/"
        }
      },
      "outputs": [
        {
          "output_type": "execute_result",
          "data": {
            "text/plain": [
              "['@EmiratesSupport Thanks for the support, hope it will get resolved asap :)',\n",
              " '@EmiratesSupport Have replied to message. Please check',\n",
              " \"@EmiratesSupport @EmiratesSupport i have DM'd u. but no one seems to reply.  can u please help in this regard?\",\n",
              " '@EmiratesSupport sent you a dm Janine',\n",
              " '@EmiratesSupport I have been mailing for flight delay compensation but no one is responding till now. Please let me know  when can I get a proper reply.']"
            ]
          },
          "metadata": {},
          "execution_count": 7
        }
      ],
      "source": [
        "list(df['tweet'])[:5]"
      ]
    },
    {
      "cell_type": "code",
      "execution_count": 8,
      "metadata": {
        "id": "M8zEBjoeMXqd",
        "outputId": "d0b1db4c-7e46-406a-d8aa-516301810ba3",
        "colab": {
          "base_uri": "https://localhost:8080/"
        }
      },
      "outputs": [
        {
          "output_type": "execute_result",
          "data": {
            "text/plain": [
              "['thanks support hope get resolved asap',\n",
              " 'replied message please check',\n",
              " 'u one seems reply u please help regard',\n",
              " 'sent janine',\n",
              " 'mailing flight delay compensation one responding till please let know get proper reply']"
            ]
          },
          "metadata": {},
          "execution_count": 8
        }
      ],
      "source": [
        "list(df['tweet_clean3'])[:5]"
      ]
    },
    {
      "cell_type": "code",
      "source": [
        "df2 = df[df['number_of_words']>2]"
      ],
      "metadata": {
        "id": "G7MraLtyQMkY"
      },
      "execution_count": 9,
      "outputs": []
    },
    {
      "cell_type": "code",
      "source": [
        "df2=df2.reset_index()"
      ],
      "metadata": {
        "id": "5LC2QD0wQc2T"
      },
      "execution_count": 10,
      "outputs": []
    },
    {
      "cell_type": "code",
      "source": [
        "df2.to_csv('ek_tweets_clean.csv',index=False)"
      ],
      "metadata": {
        "id": "23AH1H54UQvO"
      },
      "execution_count": 11,
      "outputs": []
    },
    {
      "cell_type": "code",
      "execution_count": null,
      "metadata": {
        "id": "4WpvuLBLMXqd"
      },
      "outputs": [],
      "source": [
        "---------------------"
      ]
    },
    {
      "cell_type": "code",
      "source": [
        "!pip install --upgrade joblib==1.1.0"
      ],
      "metadata": {
        "id": "xuEG55o7STDY",
        "outputId": "a50feb46-daf9-4fba-a561-b0379d980ce9",
        "colab": {
          "base_uri": "https://localhost:8080/"
        }
      },
      "execution_count": 2,
      "outputs": [
        {
          "output_type": "stream",
          "name": "stdout",
          "text": [
            "Looking in indexes: https://pypi.org/simple, https://us-python.pkg.dev/colab-wheels/public/simple/\n",
            "Requirement already satisfied: joblib==1.1.0 in /usr/local/lib/python3.7/dist-packages (1.1.0)\n"
          ]
        }
      ]
    },
    {
      "cell_type": "code",
      "source": [
        "!pip install bertopic"
      ],
      "metadata": {
        "id": "PVlDAjMSQ14L",
        "outputId": "7542e5d4-c9c6-484c-c095-6bf5a1841659",
        "colab": {
          "base_uri": "https://localhost:8080/"
        }
      },
      "execution_count": 3,
      "outputs": [
        {
          "output_type": "stream",
          "name": "stdout",
          "text": [
            "Looking in indexes: https://pypi.org/simple, https://us-python.pkg.dev/colab-wheels/public/simple/\n",
            "Requirement already satisfied: bertopic in /usr/local/lib/python3.7/dist-packages (0.12.0)\n",
            "Requirement already satisfied: plotly>=4.7.0 in /usr/local/lib/python3.7/dist-packages (from bertopic) (5.5.0)\n",
            "Requirement already satisfied: numpy>=1.20.0 in /usr/local/lib/python3.7/dist-packages (from bertopic) (1.21.6)\n",
            "Requirement already satisfied: tqdm>=4.41.1 in /usr/local/lib/python3.7/dist-packages (from bertopic) (4.64.1)\n",
            "Requirement already satisfied: scikit-learn>=0.22.2.post1 in /usr/local/lib/python3.7/dist-packages (from bertopic) (1.0.2)\n",
            "Requirement already satisfied: pandas>=1.1.5 in /usr/local/lib/python3.7/dist-packages (from bertopic) (1.3.5)\n",
            "Requirement already satisfied: sentence-transformers>=0.4.1 in /usr/local/lib/python3.7/dist-packages (from bertopic) (2.2.2)\n",
            "Requirement already satisfied: umap-learn>=0.5.0 in /usr/local/lib/python3.7/dist-packages (from bertopic) (0.5.3)\n",
            "Requirement already satisfied: hdbscan>=0.8.28 in /usr/local/lib/python3.7/dist-packages (from bertopic) (0.8.29)\n",
            "Requirement already satisfied: pyyaml<6.0 in /usr/local/lib/python3.7/dist-packages (from bertopic) (5.4.1)\n",
            "Requirement already satisfied: joblib>=1.0 in /usr/local/lib/python3.7/dist-packages (from hdbscan>=0.8.28->bertopic) (1.1.0)\n",
            "Requirement already satisfied: cython>=0.27 in /usr/local/lib/python3.7/dist-packages (from hdbscan>=0.8.28->bertopic) (0.29.32)\n",
            "Requirement already satisfied: scipy>=1.0 in /usr/local/lib/python3.7/dist-packages (from hdbscan>=0.8.28->bertopic) (1.7.3)\n",
            "Requirement already satisfied: python-dateutil>=2.7.3 in /usr/local/lib/python3.7/dist-packages (from pandas>=1.1.5->bertopic) (2.8.2)\n",
            "Requirement already satisfied: pytz>=2017.3 in /usr/local/lib/python3.7/dist-packages (from pandas>=1.1.5->bertopic) (2022.5)\n",
            "Requirement already satisfied: tenacity>=6.2.0 in /usr/local/lib/python3.7/dist-packages (from plotly>=4.7.0->bertopic) (8.1.0)\n",
            "Requirement already satisfied: six in /usr/local/lib/python3.7/dist-packages (from plotly>=4.7.0->bertopic) (1.15.0)\n",
            "Requirement already satisfied: threadpoolctl>=2.0.0 in /usr/local/lib/python3.7/dist-packages (from scikit-learn>=0.22.2.post1->bertopic) (3.1.0)\n",
            "Requirement already satisfied: torchvision in /usr/local/lib/python3.7/dist-packages (from sentence-transformers>=0.4.1->bertopic) (0.13.1+cu113)\n",
            "Requirement already satisfied: transformers<5.0.0,>=4.6.0 in /usr/local/lib/python3.7/dist-packages (from sentence-transformers>=0.4.1->bertopic) (4.24.0)\n",
            "Requirement already satisfied: nltk in /usr/local/lib/python3.7/dist-packages (from sentence-transformers>=0.4.1->bertopic) (3.7)\n",
            "Requirement already satisfied: torch>=1.6.0 in /usr/local/lib/python3.7/dist-packages (from sentence-transformers>=0.4.1->bertopic) (1.12.1+cu113)\n",
            "Requirement already satisfied: sentencepiece in /usr/local/lib/python3.7/dist-packages (from sentence-transformers>=0.4.1->bertopic) (0.1.97)\n",
            "Requirement already satisfied: huggingface-hub>=0.4.0 in /usr/local/lib/python3.7/dist-packages (from sentence-transformers>=0.4.1->bertopic) (0.10.1)\n",
            "Requirement already satisfied: importlib-metadata in /usr/local/lib/python3.7/dist-packages (from huggingface-hub>=0.4.0->sentence-transformers>=0.4.1->bertopic) (4.13.0)\n",
            "Requirement already satisfied: requests in /usr/local/lib/python3.7/dist-packages (from huggingface-hub>=0.4.0->sentence-transformers>=0.4.1->bertopic) (2.23.0)\n",
            "Requirement already satisfied: filelock in /usr/local/lib/python3.7/dist-packages (from huggingface-hub>=0.4.0->sentence-transformers>=0.4.1->bertopic) (3.8.0)\n",
            "Requirement already satisfied: typing-extensions>=3.7.4.3 in /usr/local/lib/python3.7/dist-packages (from huggingface-hub>=0.4.0->sentence-transformers>=0.4.1->bertopic) (4.1.1)\n",
            "Requirement already satisfied: packaging>=20.9 in /usr/local/lib/python3.7/dist-packages (from huggingface-hub>=0.4.0->sentence-transformers>=0.4.1->bertopic) (21.3)\n",
            "Requirement already satisfied: pyparsing!=3.0.5,>=2.0.2 in /usr/local/lib/python3.7/dist-packages (from packaging>=20.9->huggingface-hub>=0.4.0->sentence-transformers>=0.4.1->bertopic) (3.0.9)\n",
            "Requirement already satisfied: tokenizers!=0.11.3,<0.14,>=0.11.1 in /usr/local/lib/python3.7/dist-packages (from transformers<5.0.0,>=4.6.0->sentence-transformers>=0.4.1->bertopic) (0.13.1)\n",
            "Requirement already satisfied: regex!=2019.12.17 in /usr/local/lib/python3.7/dist-packages (from transformers<5.0.0,>=4.6.0->sentence-transformers>=0.4.1->bertopic) (2022.6.2)\n",
            "Requirement already satisfied: numba>=0.49 in /usr/local/lib/python3.7/dist-packages (from umap-learn>=0.5.0->bertopic) (0.56.3)\n",
            "Requirement already satisfied: pynndescent>=0.5 in /usr/local/lib/python3.7/dist-packages (from umap-learn>=0.5.0->bertopic) (0.5.8)\n",
            "Requirement already satisfied: setuptools in /usr/local/lib/python3.7/dist-packages (from numba>=0.49->umap-learn>=0.5.0->bertopic) (57.4.0)\n",
            "Requirement already satisfied: llvmlite<0.40,>=0.39.0dev0 in /usr/local/lib/python3.7/dist-packages (from numba>=0.49->umap-learn>=0.5.0->bertopic) (0.39.1)\n",
            "Requirement already satisfied: zipp>=0.5 in /usr/local/lib/python3.7/dist-packages (from importlib-metadata->huggingface-hub>=0.4.0->sentence-transformers>=0.4.1->bertopic) (3.10.0)\n",
            "Requirement already satisfied: click in /usr/local/lib/python3.7/dist-packages (from nltk->sentence-transformers>=0.4.1->bertopic) (7.1.2)\n",
            "Requirement already satisfied: idna<3,>=2.5 in /usr/local/lib/python3.7/dist-packages (from requests->huggingface-hub>=0.4.0->sentence-transformers>=0.4.1->bertopic) (2.10)\n",
            "Requirement already satisfied: chardet<4,>=3.0.2 in /usr/local/lib/python3.7/dist-packages (from requests->huggingface-hub>=0.4.0->sentence-transformers>=0.4.1->bertopic) (3.0.4)\n",
            "Requirement already satisfied: urllib3!=1.25.0,!=1.25.1,<1.26,>=1.21.1 in /usr/local/lib/python3.7/dist-packages (from requests->huggingface-hub>=0.4.0->sentence-transformers>=0.4.1->bertopic) (1.24.3)\n",
            "Requirement already satisfied: certifi>=2017.4.17 in /usr/local/lib/python3.7/dist-packages (from requests->huggingface-hub>=0.4.0->sentence-transformers>=0.4.1->bertopic) (2022.9.24)\n",
            "Requirement already satisfied: pillow!=8.3.*,>=5.3.0 in /usr/local/lib/python3.7/dist-packages (from torchvision->sentence-transformers>=0.4.1->bertopic) (7.1.2)\n"
          ]
        }
      ]
    },
    {
      "cell_type": "code",
      "source": [
        "pip install joblib==1.1.0"
      ],
      "metadata": {
        "id": "K6tAO-a6SDGu",
        "outputId": "d86e7252-a8c3-4091-dc5d-9c515916a02c",
        "colab": {
          "base_uri": "https://localhost:8080/"
        }
      },
      "execution_count": 15,
      "outputs": [
        {
          "output_type": "stream",
          "name": "stdout",
          "text": [
            "Looking in indexes: https://pypi.org/simple, https://us-python.pkg.dev/colab-wheels/public/simple/\n",
            "Requirement already satisfied: joblib==1.1.0 in /usr/local/lib/python3.7/dist-packages (1.1.0)\n"
          ]
        }
      ]
    },
    {
      "cell_type": "code",
      "source": [
        "from bertopic import BERTopic"
      ],
      "metadata": {
        "id": "G-U3BAPARd_a"
      },
      "execution_count": 4,
      "outputs": []
    },
    {
      "cell_type": "code",
      "source": [
        "df2 = pd.read_csv('ek_tweets_clean.csv')"
      ],
      "metadata": {
        "id": "iGUP7s0MPq-M"
      },
      "execution_count": 5,
      "outputs": []
    },
    {
      "cell_type": "code",
      "source": [
        "df2['created_at'] = pd.to_datetime(df2['created_at'])"
      ],
      "metadata": {
        "id": "Xuf5tfRF7Cjd"
      },
      "execution_count": 6,
      "outputs": []
    },
    {
      "cell_type": "code",
      "source": [
        "tweets = df2.tweet_clean2.to_list()\n",
        "timestamps  = df2.created_at.to_list()"
      ],
      "metadata": {
        "id": "zMfOLLp7S4Et"
      },
      "execution_count": 7,
      "outputs": []
    },
    {
      "cell_type": "code",
      "source": [
        "model = BERTopic(verbose=True,embedding_model='paraphrase-MiniLM-L3-v2', min_topic_size= 6)\n",
        "topics, _ = model.fit_transform(tweets)"
      ],
      "metadata": {
        "id": "KyCCP1Z9XXuI",
        "outputId": "692dcaa8-4156-4b71-cd30-37632c9e543d",
        "colab": {
          "base_uri": "https://localhost:8080/",
          "height": 101,
          "referenced_widgets": [
            "f67b25b1abee4a04a680e7a236c8e059",
            "b927c417bf744dd482b4f47ad78b86cc",
            "847852584f024232b17721a28029a30a",
            "53afa1224b5f4fd2b73a2a9e7501b9c0",
            "c3c6be7b3b81488c917d5f58326c005d",
            "89419824ac16421784edd7e65e0131b9",
            "4a791e5fc5dc41a79ec32cd2d5bca925",
            "954755c122514f42bcd39960d708c482",
            "c405517506f0419ba4f01f6411be764d",
            "fad8adfae553443ba023ccaee47a5ee1",
            "25bf3097098a43099e175afaccac346c"
          ]
        }
      },
      "execution_count": 12,
      "outputs": [
        {
          "output_type": "display_data",
          "data": {
            "text/plain": [
              "Batches:   0%|          | 0/18 [00:00<?, ?it/s]"
            ],
            "application/vnd.jupyter.widget-view+json": {
              "version_major": 2,
              "version_minor": 0,
              "model_id": "f67b25b1abee4a04a680e7a236c8e059"
            }
          },
          "metadata": {}
        },
        {
          "output_type": "stream",
          "name": "stderr",
          "text": [
            "2022-11-05 13:37:11,697 - BERTopic - Transformed documents to Embeddings\n",
            "2022-11-05 13:37:15,817 - BERTopic - Reduced dimensionality\n",
            "2022-11-05 13:37:15,854 - BERTopic - Clustered reduced embeddings\n"
          ]
        }
      ]
    },
    {
      "cell_type": "code",
      "source": [
        "model = BERTopic(verbose=True,embedding_model='all-mpnet-base-v2', min_topic_size= 3)\n",
        "topics, _ = model.fit_transform(tweets)"
      ],
      "metadata": {
        "id": "jYmnqxxrYjR4",
        "outputId": "bfbd31cb-fc8f-4a24-9386-3a61291d612f",
        "colab": {
          "base_uri": "https://localhost:8080/",
          "height": 101,
          "referenced_widgets": [
            "8ad7b67fdbef4d749f3f6986d46aae30",
            "a8fc36a5719c45a191eee02892c5a955",
            "4eebb92c94d2499fbccd52e6a6a81014",
            "9ffadc6279d74ae69190bdc00393feb6",
            "1b981d7e1b5247638696e36c95f13b57",
            "afcc899b911449859b2efd57b34ff875",
            "ec59a10ea9b44178828d811d29219de8",
            "2c51e759112c41b69e99814d7d74dff5",
            "ea5c8afbf686437d88ae715612e29e2c",
            "a892451c8d53475f8a4a6c7af25492b4",
            "74f32d6b8f664b95b0b1a655a9c24227"
          ]
        }
      },
      "execution_count": null,
      "outputs": [
        {
          "output_type": "display_data",
          "data": {
            "text/plain": [
              "Batches:   0%|          | 0/12 [00:00<?, ?it/s]"
            ],
            "application/vnd.jupyter.widget-view+json": {
              "version_major": 2,
              "version_minor": 0,
              "model_id": "8ad7b67fdbef4d749f3f6986d46aae30"
            }
          },
          "metadata": {}
        },
        {
          "output_type": "stream",
          "name": "stderr",
          "text": [
            "2022-10-23 19:52:47,568 - BERTopic - Transformed documents to Embeddings\n",
            "2022-10-23 19:52:51,252 - BERTopic - Reduced dimensionality\n",
            "2022-10-23 19:52:51,292 - BERTopic - Clustered reduced embeddings\n"
          ]
        }
      ]
    },
    {
      "cell_type": "code",
      "source": [
        "model.get_topic_info()"
      ],
      "metadata": {
        "id": "_fGR5xaCU_m_",
        "outputId": "62b66c9c-5c30-4776-d141-a0c6cc9c3ce4",
        "colab": {
          "base_uri": "https://localhost:8080/",
          "height": 582
        }
      },
      "execution_count": 13,
      "outputs": [
        {
          "output_type": "execute_result",
          "data": {
            "text/plain": [
              "    Topic  Count                                 Name\n",
              "0      -1    131        -1_flight_change_hour_service\n",
              "1       0    110      0_dubai_luggage_baggage_emirate\n",
              "2       1     61          1_please_reply_thank_thanks\n",
              "3       2     60      2_complaint_email_customer_form\n",
              "4       3     35      3_booking_ticket_booked_showing\n",
              "5       4     22     4_flight_refund_rebook_cancelled\n",
              "6       5     20       5_emirate_ground_staff_support\n",
              "7       6     18  6_test_vaccinated_vaccination_covid\n",
              "8       7     14             7_seat_dxb_selection_get\n",
              "9       8     12               8_nut_meal_offer_cater\n",
              "10      9     11      9_saturday_system_decided_shoul\n",
              "11     10     11         10_dublin_hotel_layover_five\n",
              "12     11     10           11_book_mile_family_flight\n",
              "13     12     10    12_flight_shortly_bizarre_equally\n",
              "14     13      9         13_little_morning_infant_boy\n",
              "15     14      9        14_account_skywards_help_mile\n",
              "16     15      6         15_airline_liar_deserve_came"
            ],
            "text/html": [
              "\n",
              "  <div id=\"df-e976a524-0225-4099-abe9-2bc21802144f\">\n",
              "    <div class=\"colab-df-container\">\n",
              "      <div>\n",
              "<style scoped>\n",
              "    .dataframe tbody tr th:only-of-type {\n",
              "        vertical-align: middle;\n",
              "    }\n",
              "\n",
              "    .dataframe tbody tr th {\n",
              "        vertical-align: top;\n",
              "    }\n",
              "\n",
              "    .dataframe thead th {\n",
              "        text-align: right;\n",
              "    }\n",
              "</style>\n",
              "<table border=\"1\" class=\"dataframe\">\n",
              "  <thead>\n",
              "    <tr style=\"text-align: right;\">\n",
              "      <th></th>\n",
              "      <th>Topic</th>\n",
              "      <th>Count</th>\n",
              "      <th>Name</th>\n",
              "    </tr>\n",
              "  </thead>\n",
              "  <tbody>\n",
              "    <tr>\n",
              "      <th>0</th>\n",
              "      <td>-1</td>\n",
              "      <td>131</td>\n",
              "      <td>-1_flight_change_hour_service</td>\n",
              "    </tr>\n",
              "    <tr>\n",
              "      <th>1</th>\n",
              "      <td>0</td>\n",
              "      <td>110</td>\n",
              "      <td>0_dubai_luggage_baggage_emirate</td>\n",
              "    </tr>\n",
              "    <tr>\n",
              "      <th>2</th>\n",
              "      <td>1</td>\n",
              "      <td>61</td>\n",
              "      <td>1_please_reply_thank_thanks</td>\n",
              "    </tr>\n",
              "    <tr>\n",
              "      <th>3</th>\n",
              "      <td>2</td>\n",
              "      <td>60</td>\n",
              "      <td>2_complaint_email_customer_form</td>\n",
              "    </tr>\n",
              "    <tr>\n",
              "      <th>4</th>\n",
              "      <td>3</td>\n",
              "      <td>35</td>\n",
              "      <td>3_booking_ticket_booked_showing</td>\n",
              "    </tr>\n",
              "    <tr>\n",
              "      <th>5</th>\n",
              "      <td>4</td>\n",
              "      <td>22</td>\n",
              "      <td>4_flight_refund_rebook_cancelled</td>\n",
              "    </tr>\n",
              "    <tr>\n",
              "      <th>6</th>\n",
              "      <td>5</td>\n",
              "      <td>20</td>\n",
              "      <td>5_emirate_ground_staff_support</td>\n",
              "    </tr>\n",
              "    <tr>\n",
              "      <th>7</th>\n",
              "      <td>6</td>\n",
              "      <td>18</td>\n",
              "      <td>6_test_vaccinated_vaccination_covid</td>\n",
              "    </tr>\n",
              "    <tr>\n",
              "      <th>8</th>\n",
              "      <td>7</td>\n",
              "      <td>14</td>\n",
              "      <td>7_seat_dxb_selection_get</td>\n",
              "    </tr>\n",
              "    <tr>\n",
              "      <th>9</th>\n",
              "      <td>8</td>\n",
              "      <td>12</td>\n",
              "      <td>8_nut_meal_offer_cater</td>\n",
              "    </tr>\n",
              "    <tr>\n",
              "      <th>10</th>\n",
              "      <td>9</td>\n",
              "      <td>11</td>\n",
              "      <td>9_saturday_system_decided_shoul</td>\n",
              "    </tr>\n",
              "    <tr>\n",
              "      <th>11</th>\n",
              "      <td>10</td>\n",
              "      <td>11</td>\n",
              "      <td>10_dublin_hotel_layover_five</td>\n",
              "    </tr>\n",
              "    <tr>\n",
              "      <th>12</th>\n",
              "      <td>11</td>\n",
              "      <td>10</td>\n",
              "      <td>11_book_mile_family_flight</td>\n",
              "    </tr>\n",
              "    <tr>\n",
              "      <th>13</th>\n",
              "      <td>12</td>\n",
              "      <td>10</td>\n",
              "      <td>12_flight_shortly_bizarre_equally</td>\n",
              "    </tr>\n",
              "    <tr>\n",
              "      <th>14</th>\n",
              "      <td>13</td>\n",
              "      <td>9</td>\n",
              "      <td>13_little_morning_infant_boy</td>\n",
              "    </tr>\n",
              "    <tr>\n",
              "      <th>15</th>\n",
              "      <td>14</td>\n",
              "      <td>9</td>\n",
              "      <td>14_account_skywards_help_mile</td>\n",
              "    </tr>\n",
              "    <tr>\n",
              "      <th>16</th>\n",
              "      <td>15</td>\n",
              "      <td>6</td>\n",
              "      <td>15_airline_liar_deserve_came</td>\n",
              "    </tr>\n",
              "  </tbody>\n",
              "</table>\n",
              "</div>\n",
              "      <button class=\"colab-df-convert\" onclick=\"convertToInteractive('df-e976a524-0225-4099-abe9-2bc21802144f')\"\n",
              "              title=\"Convert this dataframe to an interactive table.\"\n",
              "              style=\"display:none;\">\n",
              "        \n",
              "  <svg xmlns=\"http://www.w3.org/2000/svg\" height=\"24px\"viewBox=\"0 0 24 24\"\n",
              "       width=\"24px\">\n",
              "    <path d=\"M0 0h24v24H0V0z\" fill=\"none\"/>\n",
              "    <path d=\"M18.56 5.44l.94 2.06.94-2.06 2.06-.94-2.06-.94-.94-2.06-.94 2.06-2.06.94zm-11 1L8.5 8.5l.94-2.06 2.06-.94-2.06-.94L8.5 2.5l-.94 2.06-2.06.94zm10 10l.94 2.06.94-2.06 2.06-.94-2.06-.94-.94-2.06-.94 2.06-2.06.94z\"/><path d=\"M17.41 7.96l-1.37-1.37c-.4-.4-.92-.59-1.43-.59-.52 0-1.04.2-1.43.59L10.3 9.45l-7.72 7.72c-.78.78-.78 2.05 0 2.83L4 21.41c.39.39.9.59 1.41.59.51 0 1.02-.2 1.41-.59l7.78-7.78 2.81-2.81c.8-.78.8-2.07 0-2.86zM5.41 20L4 18.59l7.72-7.72 1.47 1.35L5.41 20z\"/>\n",
              "  </svg>\n",
              "      </button>\n",
              "      \n",
              "  <style>\n",
              "    .colab-df-container {\n",
              "      display:flex;\n",
              "      flex-wrap:wrap;\n",
              "      gap: 12px;\n",
              "    }\n",
              "\n",
              "    .colab-df-convert {\n",
              "      background-color: #E8F0FE;\n",
              "      border: none;\n",
              "      border-radius: 50%;\n",
              "      cursor: pointer;\n",
              "      display: none;\n",
              "      fill: #1967D2;\n",
              "      height: 32px;\n",
              "      padding: 0 0 0 0;\n",
              "      width: 32px;\n",
              "    }\n",
              "\n",
              "    .colab-df-convert:hover {\n",
              "      background-color: #E2EBFA;\n",
              "      box-shadow: 0px 1px 2px rgba(60, 64, 67, 0.3), 0px 1px 3px 1px rgba(60, 64, 67, 0.15);\n",
              "      fill: #174EA6;\n",
              "    }\n",
              "\n",
              "    [theme=dark] .colab-df-convert {\n",
              "      background-color: #3B4455;\n",
              "      fill: #D2E3FC;\n",
              "    }\n",
              "\n",
              "    [theme=dark] .colab-df-convert:hover {\n",
              "      background-color: #434B5C;\n",
              "      box-shadow: 0px 1px 3px 1px rgba(0, 0, 0, 0.15);\n",
              "      filter: drop-shadow(0px 1px 2px rgba(0, 0, 0, 0.3));\n",
              "      fill: #FFFFFF;\n",
              "    }\n",
              "  </style>\n",
              "\n",
              "      <script>\n",
              "        const buttonEl =\n",
              "          document.querySelector('#df-e976a524-0225-4099-abe9-2bc21802144f button.colab-df-convert');\n",
              "        buttonEl.style.display =\n",
              "          google.colab.kernel.accessAllowed ? 'block' : 'none';\n",
              "\n",
              "        async function convertToInteractive(key) {\n",
              "          const element = document.querySelector('#df-e976a524-0225-4099-abe9-2bc21802144f');\n",
              "          const dataTable =\n",
              "            await google.colab.kernel.invokeFunction('convertToInteractive',\n",
              "                                                     [key], {});\n",
              "          if (!dataTable) return;\n",
              "\n",
              "          const docLinkHtml = 'Like what you see? Visit the ' +\n",
              "            '<a target=\"_blank\" href=https://colab.research.google.com/notebooks/data_table.ipynb>data table notebook</a>'\n",
              "            + ' to learn more about interactive tables.';\n",
              "          element.innerHTML = '';\n",
              "          dataTable['output_type'] = 'display_data';\n",
              "          await google.colab.output.renderOutput(dataTable, element);\n",
              "          const docLink = document.createElement('div');\n",
              "          docLink.innerHTML = docLinkHtml;\n",
              "          element.appendChild(docLink);\n",
              "        }\n",
              "      </script>\n",
              "    </div>\n",
              "  </div>\n",
              "  "
            ]
          },
          "metadata": {},
          "execution_count": 13
        }
      ]
    },
    {
      "cell_type": "code",
      "source": [
        "model.reduce_topics(tweets, nr_topics=10)"
      ],
      "metadata": {
        "id": "7DBPGTj3AtB7",
        "outputId": "9cc09ece-aed5-4a8d-ec0c-30d39753a3f5",
        "colab": {
          "base_uri": "https://localhost:8080/"
        }
      },
      "execution_count": 15,
      "outputs": [
        {
          "output_type": "stream",
          "name": "stderr",
          "text": [
            "2022-11-05 13:38:03,123 - BERTopic - Reduced number of topics from 17 to 11\n"
          ]
        },
        {
          "output_type": "execute_result",
          "data": {
            "text/plain": [
              "<bertopic._bertopic.BERTopic at 0x7ff8664b31d0>"
            ]
          },
          "metadata": {},
          "execution_count": 15
        }
      ]
    },
    {
      "cell_type": "code",
      "source": [
        "df2.info()"
      ],
      "metadata": {
        "id": "QYcOdDOuB3LF",
        "outputId": "28f5b0ac-9827-499b-adbf-ddb501e09784",
        "colab": {
          "base_uri": "https://localhost:8080/"
        }
      },
      "execution_count": 22,
      "outputs": [
        {
          "output_type": "stream",
          "name": "stdout",
          "text": [
            "<class 'pandas.core.frame.DataFrame'>\n",
            "RangeIndex: 549 entries, 0 to 548\n",
            "Data columns (total 17 columns):\n",
            " #   Column           Non-Null Count  Dtype              \n",
            "---  ------           --------------  -----              \n",
            " 0   index            549 non-null    int64              \n",
            " 1   author id        549 non-null    float64            \n",
            " 2   created_at       549 non-null    datetime64[ns, UTC]\n",
            " 3   geo              549 non-null    object             \n",
            " 4   id               549 non-null    float64            \n",
            " 5   lang             549 non-null    object             \n",
            " 6   like_count       549 non-null    int64              \n",
            " 7   quote_count      549 non-null    int64              \n",
            " 8   reply_count      549 non-null    int64              \n",
            " 9   retweet_count    549 non-null    int64              \n",
            " 10  source           549 non-null    object             \n",
            " 11  tweet            549 non-null    object             \n",
            " 12  tweet_clean      549 non-null    object             \n",
            " 13  tweet_clean2     549 non-null    object             \n",
            " 14  tweet_places     95 non-null     object             \n",
            " 15  tweet_clean3     549 non-null    object             \n",
            " 16  number_of_words  549 non-null    int64              \n",
            "dtypes: datetime64[ns, UTC](1), float64(2), int64(6), object(8)\n",
            "memory usage: 73.0+ KB\n"
          ]
        }
      ]
    },
    {
      "cell_type": "code",
      "source": [],
      "metadata": {
        "id": "aXPBIlrsBRc1",
        "outputId": "238876f0-36e0-45f3-e2c9-3d020decc3b7",
        "colab": {
          "base_uri": "https://localhost:8080/",
          "height": 280
        }
      },
      "execution_count": 23,
      "outputs": [
        {
          "output_type": "execute_result",
          "data": {
            "text/plain": [
              "     index   author id                created_at geo            id lang  \\\n",
              "162    179  63525135.0 2022-10-13 14:19:36+00:00      1.580000e+18   en   \n",
              "169    186  63525135.0 2022-10-13 16:26:42+00:00      1.580000e+18   en   \n",
              "\n",
              "     like_count  quote_count  reply_count  retweet_count              source  \\\n",
              "162         290            0           19              9  Twitter for iPhone   \n",
              "169          10            0            2              1           TweetDeck   \n",
              "\n",
              "                                                 tweet  \\\n",
              "162  @EmiratesSupport just tried to check in for ou...   \n",
              "169  @EmiratesSupport Thank you so much for resolvi...   \n",
              "\n",
              "                                           tweet_clean  \\\n",
              "162   just tried   check   for our flight saturday ...   \n",
              "169   thank you   much for resolving the issue  muc...   \n",
              "\n",
              "                                          tweet_clean2 tweet_places  \\\n",
              "162  tried check flight saturday system decided yea...          NaN   \n",
              "169        thank much resolving issue much appreciated          NaN   \n",
              "\n",
              "                                          tweet_clean3  number_of_words  \n",
              "162  tried check flight saturday system decided yea...               14  \n",
              "169        thank much resolving issue much appreciated                6  "
            ],
            "text/html": [
              "\n",
              "  <div id=\"df-fdd93d5d-0504-40bb-b6a9-6c5a3214b24e\">\n",
              "    <div class=\"colab-df-container\">\n",
              "      <div>\n",
              "<style scoped>\n",
              "    .dataframe tbody tr th:only-of-type {\n",
              "        vertical-align: middle;\n",
              "    }\n",
              "\n",
              "    .dataframe tbody tr th {\n",
              "        vertical-align: top;\n",
              "    }\n",
              "\n",
              "    .dataframe thead th {\n",
              "        text-align: right;\n",
              "    }\n",
              "</style>\n",
              "<table border=\"1\" class=\"dataframe\">\n",
              "  <thead>\n",
              "    <tr style=\"text-align: right;\">\n",
              "      <th></th>\n",
              "      <th>index</th>\n",
              "      <th>author id</th>\n",
              "      <th>created_at</th>\n",
              "      <th>geo</th>\n",
              "      <th>id</th>\n",
              "      <th>lang</th>\n",
              "      <th>like_count</th>\n",
              "      <th>quote_count</th>\n",
              "      <th>reply_count</th>\n",
              "      <th>retweet_count</th>\n",
              "      <th>source</th>\n",
              "      <th>tweet</th>\n",
              "      <th>tweet_clean</th>\n",
              "      <th>tweet_clean2</th>\n",
              "      <th>tweet_places</th>\n",
              "      <th>tweet_clean3</th>\n",
              "      <th>number_of_words</th>\n",
              "    </tr>\n",
              "  </thead>\n",
              "  <tbody>\n",
              "    <tr>\n",
              "      <th>162</th>\n",
              "      <td>179</td>\n",
              "      <td>63525135.0</td>\n",
              "      <td>2022-10-13 14:19:36+00:00</td>\n",
              "      <td></td>\n",
              "      <td>1.580000e+18</td>\n",
              "      <td>en</td>\n",
              "      <td>290</td>\n",
              "      <td>0</td>\n",
              "      <td>19</td>\n",
              "      <td>9</td>\n",
              "      <td>Twitter for iPhone</td>\n",
              "      <td>@EmiratesSupport just tried to check in for ou...</td>\n",
              "      <td>just tried   check   for our flight saturday ...</td>\n",
              "      <td>tried check flight saturday system decided yea...</td>\n",
              "      <td>NaN</td>\n",
              "      <td>tried check flight saturday system decided yea...</td>\n",
              "      <td>14</td>\n",
              "    </tr>\n",
              "    <tr>\n",
              "      <th>169</th>\n",
              "      <td>186</td>\n",
              "      <td>63525135.0</td>\n",
              "      <td>2022-10-13 16:26:42+00:00</td>\n",
              "      <td></td>\n",
              "      <td>1.580000e+18</td>\n",
              "      <td>en</td>\n",
              "      <td>10</td>\n",
              "      <td>0</td>\n",
              "      <td>2</td>\n",
              "      <td>1</td>\n",
              "      <td>TweetDeck</td>\n",
              "      <td>@EmiratesSupport Thank you so much for resolvi...</td>\n",
              "      <td>thank you   much for resolving the issue  muc...</td>\n",
              "      <td>thank much resolving issue much appreciated</td>\n",
              "      <td>NaN</td>\n",
              "      <td>thank much resolving issue much appreciated</td>\n",
              "      <td>6</td>\n",
              "    </tr>\n",
              "  </tbody>\n",
              "</table>\n",
              "</div>\n",
              "      <button class=\"colab-df-convert\" onclick=\"convertToInteractive('df-fdd93d5d-0504-40bb-b6a9-6c5a3214b24e')\"\n",
              "              title=\"Convert this dataframe to an interactive table.\"\n",
              "              style=\"display:none;\">\n",
              "        \n",
              "  <svg xmlns=\"http://www.w3.org/2000/svg\" height=\"24px\"viewBox=\"0 0 24 24\"\n",
              "       width=\"24px\">\n",
              "    <path d=\"M0 0h24v24H0V0z\" fill=\"none\"/>\n",
              "    <path d=\"M18.56 5.44l.94 2.06.94-2.06 2.06-.94-2.06-.94-.94-2.06-.94 2.06-2.06.94zm-11 1L8.5 8.5l.94-2.06 2.06-.94-2.06-.94L8.5 2.5l-.94 2.06-2.06.94zm10 10l.94 2.06.94-2.06 2.06-.94-2.06-.94-.94-2.06-.94 2.06-2.06.94z\"/><path d=\"M17.41 7.96l-1.37-1.37c-.4-.4-.92-.59-1.43-.59-.52 0-1.04.2-1.43.59L10.3 9.45l-7.72 7.72c-.78.78-.78 2.05 0 2.83L4 21.41c.39.39.9.59 1.41.59.51 0 1.02-.2 1.41-.59l7.78-7.78 2.81-2.81c.8-.78.8-2.07 0-2.86zM5.41 20L4 18.59l7.72-7.72 1.47 1.35L5.41 20z\"/>\n",
              "  </svg>\n",
              "      </button>\n",
              "      \n",
              "  <style>\n",
              "    .colab-df-container {\n",
              "      display:flex;\n",
              "      flex-wrap:wrap;\n",
              "      gap: 12px;\n",
              "    }\n",
              "\n",
              "    .colab-df-convert {\n",
              "      background-color: #E8F0FE;\n",
              "      border: none;\n",
              "      border-radius: 50%;\n",
              "      cursor: pointer;\n",
              "      display: none;\n",
              "      fill: #1967D2;\n",
              "      height: 32px;\n",
              "      padding: 0 0 0 0;\n",
              "      width: 32px;\n",
              "    }\n",
              "\n",
              "    .colab-df-convert:hover {\n",
              "      background-color: #E2EBFA;\n",
              "      box-shadow: 0px 1px 2px rgba(60, 64, 67, 0.3), 0px 1px 3px 1px rgba(60, 64, 67, 0.15);\n",
              "      fill: #174EA6;\n",
              "    }\n",
              "\n",
              "    [theme=dark] .colab-df-convert {\n",
              "      background-color: #3B4455;\n",
              "      fill: #D2E3FC;\n",
              "    }\n",
              "\n",
              "    [theme=dark] .colab-df-convert:hover {\n",
              "      background-color: #434B5C;\n",
              "      box-shadow: 0px 1px 3px 1px rgba(0, 0, 0, 0.15);\n",
              "      filter: drop-shadow(0px 1px 2px rgba(0, 0, 0, 0.3));\n",
              "      fill: #FFFFFF;\n",
              "    }\n",
              "  </style>\n",
              "\n",
              "      <script>\n",
              "        const buttonEl =\n",
              "          document.querySelector('#df-fdd93d5d-0504-40bb-b6a9-6c5a3214b24e button.colab-df-convert');\n",
              "        buttonEl.style.display =\n",
              "          google.colab.kernel.accessAllowed ? 'block' : 'none';\n",
              "\n",
              "        async function convertToInteractive(key) {\n",
              "          const element = document.querySelector('#df-fdd93d5d-0504-40bb-b6a9-6c5a3214b24e');\n",
              "          const dataTable =\n",
              "            await google.colab.kernel.invokeFunction('convertToInteractive',\n",
              "                                                     [key], {});\n",
              "          if (!dataTable) return;\n",
              "\n",
              "          const docLinkHtml = 'Like what you see? Visit the ' +\n",
              "            '<a target=\"_blank\" href=https://colab.research.google.com/notebooks/data_table.ipynb>data table notebook</a>'\n",
              "            + ' to learn more about interactive tables.';\n",
              "          element.innerHTML = '';\n",
              "          dataTable['output_type'] = 'display_data';\n",
              "          await google.colab.output.renderOutput(dataTable, element);\n",
              "          const docLink = document.createElement('div');\n",
              "          docLink.innerHTML = docLinkHtml;\n",
              "          element.appendChild(docLink);\n",
              "        }\n",
              "      </script>\n",
              "    </div>\n",
              "  </div>\n",
              "  "
            ]
          },
          "metadata": {},
          "execution_count": 23
        }
      ]
    },
    {
      "cell_type": "code",
      "source": [
        "df2['tweet_topics'] = topics"
      ],
      "metadata": {
        "id": "j9YsOi57BLDY"
      },
      "execution_count": 25,
      "outputs": []
    },
    {
      "cell_type": "code",
      "source": [
        "df2[df2['author id']==63525135]"
      ],
      "metadata": {
        "id": "oDJGc2SUCGxg",
        "outputId": "38b8f1db-25a7-450c-c989-8bebc9156b93",
        "colab": {
          "base_uri": "https://localhost:8080/",
          "height": 280
        }
      },
      "execution_count": 26,
      "outputs": [
        {
          "output_type": "execute_result",
          "data": {
            "text/plain": [
              "     index   author id                created_at geo            id lang  \\\n",
              "162    179  63525135.0 2022-10-13 14:19:36+00:00      1.580000e+18   en   \n",
              "169    186  63525135.0 2022-10-13 16:26:42+00:00      1.580000e+18   en   \n",
              "\n",
              "     like_count  quote_count  reply_count  retweet_count              source  \\\n",
              "162         290            0           19              9  Twitter for iPhone   \n",
              "169          10            0            2              1           TweetDeck   \n",
              "\n",
              "                                                 tweet  \\\n",
              "162  @EmiratesSupport just tried to check in for ou...   \n",
              "169  @EmiratesSupport Thank you so much for resolvi...   \n",
              "\n",
              "                                           tweet_clean  \\\n",
              "162   just tried   check   for our flight saturday ...   \n",
              "169   thank you   much for resolving the issue  muc...   \n",
              "\n",
              "                                          tweet_clean2 tweet_places  \\\n",
              "162  tried check flight saturday system decided yea...          NaN   \n",
              "169        thank much resolving issue much appreciated          NaN   \n",
              "\n",
              "                                          tweet_clean3  number_of_words  \\\n",
              "162  tried check flight saturday system decided yea...               14   \n",
              "169        thank much resolving issue much appreciated                6   \n",
              "\n",
              "     tweet_topics  \n",
              "162             9  \n",
              "169             1  "
            ],
            "text/html": [
              "\n",
              "  <div id=\"df-78541410-8eca-4759-a25d-2cc0d8365cb0\">\n",
              "    <div class=\"colab-df-container\">\n",
              "      <div>\n",
              "<style scoped>\n",
              "    .dataframe tbody tr th:only-of-type {\n",
              "        vertical-align: middle;\n",
              "    }\n",
              "\n",
              "    .dataframe tbody tr th {\n",
              "        vertical-align: top;\n",
              "    }\n",
              "\n",
              "    .dataframe thead th {\n",
              "        text-align: right;\n",
              "    }\n",
              "</style>\n",
              "<table border=\"1\" class=\"dataframe\">\n",
              "  <thead>\n",
              "    <tr style=\"text-align: right;\">\n",
              "      <th></th>\n",
              "      <th>index</th>\n",
              "      <th>author id</th>\n",
              "      <th>created_at</th>\n",
              "      <th>geo</th>\n",
              "      <th>id</th>\n",
              "      <th>lang</th>\n",
              "      <th>like_count</th>\n",
              "      <th>quote_count</th>\n",
              "      <th>reply_count</th>\n",
              "      <th>retweet_count</th>\n",
              "      <th>source</th>\n",
              "      <th>tweet</th>\n",
              "      <th>tweet_clean</th>\n",
              "      <th>tweet_clean2</th>\n",
              "      <th>tweet_places</th>\n",
              "      <th>tweet_clean3</th>\n",
              "      <th>number_of_words</th>\n",
              "      <th>tweet_topics</th>\n",
              "    </tr>\n",
              "  </thead>\n",
              "  <tbody>\n",
              "    <tr>\n",
              "      <th>162</th>\n",
              "      <td>179</td>\n",
              "      <td>63525135.0</td>\n",
              "      <td>2022-10-13 14:19:36+00:00</td>\n",
              "      <td></td>\n",
              "      <td>1.580000e+18</td>\n",
              "      <td>en</td>\n",
              "      <td>290</td>\n",
              "      <td>0</td>\n",
              "      <td>19</td>\n",
              "      <td>9</td>\n",
              "      <td>Twitter for iPhone</td>\n",
              "      <td>@EmiratesSupport just tried to check in for ou...</td>\n",
              "      <td>just tried   check   for our flight saturday ...</td>\n",
              "      <td>tried check flight saturday system decided yea...</td>\n",
              "      <td>NaN</td>\n",
              "      <td>tried check flight saturday system decided yea...</td>\n",
              "      <td>14</td>\n",
              "      <td>9</td>\n",
              "    </tr>\n",
              "    <tr>\n",
              "      <th>169</th>\n",
              "      <td>186</td>\n",
              "      <td>63525135.0</td>\n",
              "      <td>2022-10-13 16:26:42+00:00</td>\n",
              "      <td></td>\n",
              "      <td>1.580000e+18</td>\n",
              "      <td>en</td>\n",
              "      <td>10</td>\n",
              "      <td>0</td>\n",
              "      <td>2</td>\n",
              "      <td>1</td>\n",
              "      <td>TweetDeck</td>\n",
              "      <td>@EmiratesSupport Thank you so much for resolvi...</td>\n",
              "      <td>thank you   much for resolving the issue  muc...</td>\n",
              "      <td>thank much resolving issue much appreciated</td>\n",
              "      <td>NaN</td>\n",
              "      <td>thank much resolving issue much appreciated</td>\n",
              "      <td>6</td>\n",
              "      <td>1</td>\n",
              "    </tr>\n",
              "  </tbody>\n",
              "</table>\n",
              "</div>\n",
              "      <button class=\"colab-df-convert\" onclick=\"convertToInteractive('df-78541410-8eca-4759-a25d-2cc0d8365cb0')\"\n",
              "              title=\"Convert this dataframe to an interactive table.\"\n",
              "              style=\"display:none;\">\n",
              "        \n",
              "  <svg xmlns=\"http://www.w3.org/2000/svg\" height=\"24px\"viewBox=\"0 0 24 24\"\n",
              "       width=\"24px\">\n",
              "    <path d=\"M0 0h24v24H0V0z\" fill=\"none\"/>\n",
              "    <path d=\"M18.56 5.44l.94 2.06.94-2.06 2.06-.94-2.06-.94-.94-2.06-.94 2.06-2.06.94zm-11 1L8.5 8.5l.94-2.06 2.06-.94-2.06-.94L8.5 2.5l-.94 2.06-2.06.94zm10 10l.94 2.06.94-2.06 2.06-.94-2.06-.94-.94-2.06-.94 2.06-2.06.94z\"/><path d=\"M17.41 7.96l-1.37-1.37c-.4-.4-.92-.59-1.43-.59-.52 0-1.04.2-1.43.59L10.3 9.45l-7.72 7.72c-.78.78-.78 2.05 0 2.83L4 21.41c.39.39.9.59 1.41.59.51 0 1.02-.2 1.41-.59l7.78-7.78 2.81-2.81c.8-.78.8-2.07 0-2.86zM5.41 20L4 18.59l7.72-7.72 1.47 1.35L5.41 20z\"/>\n",
              "  </svg>\n",
              "      </button>\n",
              "      \n",
              "  <style>\n",
              "    .colab-df-container {\n",
              "      display:flex;\n",
              "      flex-wrap:wrap;\n",
              "      gap: 12px;\n",
              "    }\n",
              "\n",
              "    .colab-df-convert {\n",
              "      background-color: #E8F0FE;\n",
              "      border: none;\n",
              "      border-radius: 50%;\n",
              "      cursor: pointer;\n",
              "      display: none;\n",
              "      fill: #1967D2;\n",
              "      height: 32px;\n",
              "      padding: 0 0 0 0;\n",
              "      width: 32px;\n",
              "    }\n",
              "\n",
              "    .colab-df-convert:hover {\n",
              "      background-color: #E2EBFA;\n",
              "      box-shadow: 0px 1px 2px rgba(60, 64, 67, 0.3), 0px 1px 3px 1px rgba(60, 64, 67, 0.15);\n",
              "      fill: #174EA6;\n",
              "    }\n",
              "\n",
              "    [theme=dark] .colab-df-convert {\n",
              "      background-color: #3B4455;\n",
              "      fill: #D2E3FC;\n",
              "    }\n",
              "\n",
              "    [theme=dark] .colab-df-convert:hover {\n",
              "      background-color: #434B5C;\n",
              "      box-shadow: 0px 1px 3px 1px rgba(0, 0, 0, 0.15);\n",
              "      filter: drop-shadow(0px 1px 2px rgba(0, 0, 0, 0.3));\n",
              "      fill: #FFFFFF;\n",
              "    }\n",
              "  </style>\n",
              "\n",
              "      <script>\n",
              "        const buttonEl =\n",
              "          document.querySelector('#df-78541410-8eca-4759-a25d-2cc0d8365cb0 button.colab-df-convert');\n",
              "        buttonEl.style.display =\n",
              "          google.colab.kernel.accessAllowed ? 'block' : 'none';\n",
              "\n",
              "        async function convertToInteractive(key) {\n",
              "          const element = document.querySelector('#df-78541410-8eca-4759-a25d-2cc0d8365cb0');\n",
              "          const dataTable =\n",
              "            await google.colab.kernel.invokeFunction('convertToInteractive',\n",
              "                                                     [key], {});\n",
              "          if (!dataTable) return;\n",
              "\n",
              "          const docLinkHtml = 'Like what you see? Visit the ' +\n",
              "            '<a target=\"_blank\" href=https://colab.research.google.com/notebooks/data_table.ipynb>data table notebook</a>'\n",
              "            + ' to learn more about interactive tables.';\n",
              "          element.innerHTML = '';\n",
              "          dataTable['output_type'] = 'display_data';\n",
              "          await google.colab.output.renderOutput(dataTable, element);\n",
              "          const docLink = document.createElement('div');\n",
              "          docLink.innerHTML = docLinkHtml;\n",
              "          element.appendChild(docLink);\n",
              "        }\n",
              "      </script>\n",
              "    </div>\n",
              "  </div>\n",
              "  "
            ]
          },
          "metadata": {},
          "execution_count": 26
        }
      ]
    },
    {
      "cell_type": "code",
      "source": [
        "model.topic_labels_"
      ],
      "metadata": {
        "id": "wk96ST-wCK9n",
        "outputId": "6f3d5798-d48c-469d-b4c1-67edbc14c7b9",
        "colab": {
          "base_uri": "https://localhost:8080/"
        }
      },
      "execution_count": 30,
      "outputs": [
        {
          "output_type": "execute_result",
          "data": {
            "text/plain": [
              "{-1: '-1_flight_help_change_please',\n",
              " 0: '0_dubai_luggage_emirate_baggage',\n",
              " 1: '1_please_reply_thank_thanks',\n",
              " 2: '2_complaint_email_customer_form',\n",
              " 3: '3_booking_ticket_booked_showing',\n",
              " 4: '4_emirate_airline_issue_sorry',\n",
              " 5: '5_flight_refund_rebook_cancelled',\n",
              " 6: '6_test_vaccinated_vaccination_covid',\n",
              " 7: '7_seat_dxb_get_selection',\n",
              " 8: '8_nut_meal_offer_cater',\n",
              " 9: '9_saturday_system_decided_shoul'}"
            ]
          },
          "metadata": {},
          "execution_count": 30
        }
      ]
    },
    {
      "cell_type": "code",
      "source": [
        "model.visualize_topics()"
      ],
      "metadata": {
        "id": "2QDwnnIhcaYd",
        "outputId": "00760c5d-384e-4d47-8890-8ce0669e4370",
        "colab": {
          "base_uri": "https://localhost:8080/",
          "height": 667
        }
      },
      "execution_count": 13,
      "outputs": [
        {
          "output_type": "display_data",
          "data": {
            "text/html": [
              "<html>\n",
              "<head><meta charset=\"utf-8\" /></head>\n",
              "<body>\n",
              "    <div>            <script src=\"https://cdnjs.cloudflare.com/ajax/libs/mathjax/2.7.5/MathJax.js?config=TeX-AMS-MML_SVG\"></script><script type=\"text/javascript\">if (window.MathJax) {MathJax.Hub.Config({SVG: {font: \"STIX-Web\"}});}</script>                <script type=\"text/javascript\">window.PlotlyConfig = {MathJaxConfig: 'local'};</script>\n",
              "        <script src=\"https://cdn.plot.ly/plotly-2.8.3.min.js\"></script>                <div id=\"bf5e6c84-64b4-42a6-aaf0-feef99736eb1\" class=\"plotly-graph-div\" style=\"height:650px; width:650px;\"></div>            <script type=\"text/javascript\">                                    window.PLOTLYENV=window.PLOTLYENV || {};                                    if (document.getElementById(\"bf5e6c84-64b4-42a6-aaf0-feef99736eb1\")) {                    Plotly.newPlot(                        \"bf5e6c84-64b4-42a6-aaf0-feef99736eb1\",                        [{\"customdata\":[[0,\"complaint | reply | email | response | customer\",138],[1,\"dubai | luggage | emirate | baggage | bag\",103],[2,\"booking | ticket | refund | flight | booked\",62],[3,\"emirate | ground | staff | customer | support\",20],[4,\"flight | pathetic | back | would | possible\",19],[5,\"test | vaccinated | vaccination | covid | pcr\",18],[6,\"seat | dxb | get | selection | select\",17],[7,\"lounge | dublin | layover | hotel | access\",17],[8,\"counter | airport | early | elderly | fill\",12],[9,\"nut | meal | offer | cater | etc\",12],[10,\"saturday | system | decided | shoul | year\",11],[11,\"account | skywards | joiner | help | mile\",11],[12,\"little | morning | infant | boy | child\",9],[13,\"book | mile | trying | family | flight\",9]],\"hovertemplate\":\"<b>Topic %{customdata[0]}</b><br>Words: %{customdata[1]}<br>Size: %{customdata[2]}\",\"legendgroup\":\"\",\"marker\":{\"color\":\"#B0BEC5\",\"size\":[138,103,62,20,19,18,17,17,12,12,11,11,9,9],\"sizemode\":\"area\",\"sizeref\":0.08625,\"symbol\":\"circle\",\"line\":{\"color\":\"DarkSlateGrey\",\"width\":2}},\"mode\":\"markers\",\"name\":\"\",\"orientation\":\"v\",\"showlegend\":false,\"x\":[-0.6713315844535828,-0.39421457052230835,1.068352222442627,-0.23055970668792725,-2.0361196994781494,-0.17477744817733765,1.6470940113067627,-1.6534740924835205,2.0380566120147705,2.084620475769043,-2.5669524669647217,-2.3752822875976562,-7.228234767913818,-7.508406162261963],\"xaxis\":\"x\",\"y\":[2.0328829288482666,2.9257700443267822,2.75347900390625,2.058351755142212,0.7371427416801453,3.382560968399048,2.947951078414917,0.7501940131187439,2.6536917686462402,3.1882450580596924,1.0914226770401,1.256170630455017,12.536498069763184,12.816699981689453],\"yaxis\":\"y\",\"type\":\"scatter\"}],                        {\"template\":{\"data\":{\"barpolar\":[{\"marker\":{\"line\":{\"color\":\"white\",\"width\":0.5},\"pattern\":{\"fillmode\":\"overlay\",\"size\":10,\"solidity\":0.2}},\"type\":\"barpolar\"}],\"bar\":[{\"error_x\":{\"color\":\"rgb(36,36,36)\"},\"error_y\":{\"color\":\"rgb(36,36,36)\"},\"marker\":{\"line\":{\"color\":\"white\",\"width\":0.5},\"pattern\":{\"fillmode\":\"overlay\",\"size\":10,\"solidity\":0.2}},\"type\":\"bar\"}],\"carpet\":[{\"aaxis\":{\"endlinecolor\":\"rgb(36,36,36)\",\"gridcolor\":\"white\",\"linecolor\":\"white\",\"minorgridcolor\":\"white\",\"startlinecolor\":\"rgb(36,36,36)\"},\"baxis\":{\"endlinecolor\":\"rgb(36,36,36)\",\"gridcolor\":\"white\",\"linecolor\":\"white\",\"minorgridcolor\":\"white\",\"startlinecolor\":\"rgb(36,36,36)\"},\"type\":\"carpet\"}],\"choropleth\":[{\"colorbar\":{\"outlinewidth\":1,\"tickcolor\":\"rgb(36,36,36)\",\"ticks\":\"outside\"},\"type\":\"choropleth\"}],\"contourcarpet\":[{\"colorbar\":{\"outlinewidth\":1,\"tickcolor\":\"rgb(36,36,36)\",\"ticks\":\"outside\"},\"type\":\"contourcarpet\"}],\"contour\":[{\"colorbar\":{\"outlinewidth\":1,\"tickcolor\":\"rgb(36,36,36)\",\"ticks\":\"outside\"},\"colorscale\":[[0.0,\"#440154\"],[0.1111111111111111,\"#482878\"],[0.2222222222222222,\"#3e4989\"],[0.3333333333333333,\"#31688e\"],[0.4444444444444444,\"#26828e\"],[0.5555555555555556,\"#1f9e89\"],[0.6666666666666666,\"#35b779\"],[0.7777777777777778,\"#6ece58\"],[0.8888888888888888,\"#b5de2b\"],[1.0,\"#fde725\"]],\"type\":\"contour\"}],\"heatmapgl\":[{\"colorbar\":{\"outlinewidth\":1,\"tickcolor\":\"rgb(36,36,36)\",\"ticks\":\"outside\"},\"colorscale\":[[0.0,\"#440154\"],[0.1111111111111111,\"#482878\"],[0.2222222222222222,\"#3e4989\"],[0.3333333333333333,\"#31688e\"],[0.4444444444444444,\"#26828e\"],[0.5555555555555556,\"#1f9e89\"],[0.6666666666666666,\"#35b779\"],[0.7777777777777778,\"#6ece58\"],[0.8888888888888888,\"#b5de2b\"],[1.0,\"#fde725\"]],\"type\":\"heatmapgl\"}],\"heatmap\":[{\"colorbar\":{\"outlinewidth\":1,\"tickcolor\":\"rgb(36,36,36)\",\"ticks\":\"outside\"},\"colorscale\":[[0.0,\"#440154\"],[0.1111111111111111,\"#482878\"],[0.2222222222222222,\"#3e4989\"],[0.3333333333333333,\"#31688e\"],[0.4444444444444444,\"#26828e\"],[0.5555555555555556,\"#1f9e89\"],[0.6666666666666666,\"#35b779\"],[0.7777777777777778,\"#6ece58\"],[0.8888888888888888,\"#b5de2b\"],[1.0,\"#fde725\"]],\"type\":\"heatmap\"}],\"histogram2dcontour\":[{\"colorbar\":{\"outlinewidth\":1,\"tickcolor\":\"rgb(36,36,36)\",\"ticks\":\"outside\"},\"colorscale\":[[0.0,\"#440154\"],[0.1111111111111111,\"#482878\"],[0.2222222222222222,\"#3e4989\"],[0.3333333333333333,\"#31688e\"],[0.4444444444444444,\"#26828e\"],[0.5555555555555556,\"#1f9e89\"],[0.6666666666666666,\"#35b779\"],[0.7777777777777778,\"#6ece58\"],[0.8888888888888888,\"#b5de2b\"],[1.0,\"#fde725\"]],\"type\":\"histogram2dcontour\"}],\"histogram2d\":[{\"colorbar\":{\"outlinewidth\":1,\"tickcolor\":\"rgb(36,36,36)\",\"ticks\":\"outside\"},\"colorscale\":[[0.0,\"#440154\"],[0.1111111111111111,\"#482878\"],[0.2222222222222222,\"#3e4989\"],[0.3333333333333333,\"#31688e\"],[0.4444444444444444,\"#26828e\"],[0.5555555555555556,\"#1f9e89\"],[0.6666666666666666,\"#35b779\"],[0.7777777777777778,\"#6ece58\"],[0.8888888888888888,\"#b5de2b\"],[1.0,\"#fde725\"]],\"type\":\"histogram2d\"}],\"histogram\":[{\"marker\":{\"line\":{\"color\":\"white\",\"width\":0.6}},\"type\":\"histogram\"}],\"mesh3d\":[{\"colorbar\":{\"outlinewidth\":1,\"tickcolor\":\"rgb(36,36,36)\",\"ticks\":\"outside\"},\"type\":\"mesh3d\"}],\"parcoords\":[{\"line\":{\"colorbar\":{\"outlinewidth\":1,\"tickcolor\":\"rgb(36,36,36)\",\"ticks\":\"outside\"}},\"type\":\"parcoords\"}],\"pie\":[{\"automargin\":true,\"type\":\"pie\"}],\"scatter3d\":[{\"line\":{\"colorbar\":{\"outlinewidth\":1,\"tickcolor\":\"rgb(36,36,36)\",\"ticks\":\"outside\"}},\"marker\":{\"colorbar\":{\"outlinewidth\":1,\"tickcolor\":\"rgb(36,36,36)\",\"ticks\":\"outside\"}},\"type\":\"scatter3d\"}],\"scattercarpet\":[{\"marker\":{\"colorbar\":{\"outlinewidth\":1,\"tickcolor\":\"rgb(36,36,36)\",\"ticks\":\"outside\"}},\"type\":\"scattercarpet\"}],\"scattergeo\":[{\"marker\":{\"colorbar\":{\"outlinewidth\":1,\"tickcolor\":\"rgb(36,36,36)\",\"ticks\":\"outside\"}},\"type\":\"scattergeo\"}],\"scattergl\":[{\"marker\":{\"colorbar\":{\"outlinewidth\":1,\"tickcolor\":\"rgb(36,36,36)\",\"ticks\":\"outside\"}},\"type\":\"scattergl\"}],\"scattermapbox\":[{\"marker\":{\"colorbar\":{\"outlinewidth\":1,\"tickcolor\":\"rgb(36,36,36)\",\"ticks\":\"outside\"}},\"type\":\"scattermapbox\"}],\"scatterpolargl\":[{\"marker\":{\"colorbar\":{\"outlinewidth\":1,\"tickcolor\":\"rgb(36,36,36)\",\"ticks\":\"outside\"}},\"type\":\"scatterpolargl\"}],\"scatterpolar\":[{\"marker\":{\"colorbar\":{\"outlinewidth\":1,\"tickcolor\":\"rgb(36,36,36)\",\"ticks\":\"outside\"}},\"type\":\"scatterpolar\"}],\"scatter\":[{\"marker\":{\"colorbar\":{\"outlinewidth\":1,\"tickcolor\":\"rgb(36,36,36)\",\"ticks\":\"outside\"}},\"type\":\"scatter\"}],\"scatterternary\":[{\"marker\":{\"colorbar\":{\"outlinewidth\":1,\"tickcolor\":\"rgb(36,36,36)\",\"ticks\":\"outside\"}},\"type\":\"scatterternary\"}],\"surface\":[{\"colorbar\":{\"outlinewidth\":1,\"tickcolor\":\"rgb(36,36,36)\",\"ticks\":\"outside\"},\"colorscale\":[[0.0,\"#440154\"],[0.1111111111111111,\"#482878\"],[0.2222222222222222,\"#3e4989\"],[0.3333333333333333,\"#31688e\"],[0.4444444444444444,\"#26828e\"],[0.5555555555555556,\"#1f9e89\"],[0.6666666666666666,\"#35b779\"],[0.7777777777777778,\"#6ece58\"],[0.8888888888888888,\"#b5de2b\"],[1.0,\"#fde725\"]],\"type\":\"surface\"}],\"table\":[{\"cells\":{\"fill\":{\"color\":\"rgb(237,237,237)\"},\"line\":{\"color\":\"white\"}},\"header\":{\"fill\":{\"color\":\"rgb(217,217,217)\"},\"line\":{\"color\":\"white\"}},\"type\":\"table\"}]},\"layout\":{\"annotationdefaults\":{\"arrowhead\":0,\"arrowwidth\":1},\"autotypenumbers\":\"strict\",\"coloraxis\":{\"colorbar\":{\"outlinewidth\":1,\"tickcolor\":\"rgb(36,36,36)\",\"ticks\":\"outside\"}},\"colorscale\":{\"diverging\":[[0.0,\"rgb(103,0,31)\"],[0.1,\"rgb(178,24,43)\"],[0.2,\"rgb(214,96,77)\"],[0.3,\"rgb(244,165,130)\"],[0.4,\"rgb(253,219,199)\"],[0.5,\"rgb(247,247,247)\"],[0.6,\"rgb(209,229,240)\"],[0.7,\"rgb(146,197,222)\"],[0.8,\"rgb(67,147,195)\"],[0.9,\"rgb(33,102,172)\"],[1.0,\"rgb(5,48,97)\"]],\"sequential\":[[0.0,\"#440154\"],[0.1111111111111111,\"#482878\"],[0.2222222222222222,\"#3e4989\"],[0.3333333333333333,\"#31688e\"],[0.4444444444444444,\"#26828e\"],[0.5555555555555556,\"#1f9e89\"],[0.6666666666666666,\"#35b779\"],[0.7777777777777778,\"#6ece58\"],[0.8888888888888888,\"#b5de2b\"],[1.0,\"#fde725\"]],\"sequentialminus\":[[0.0,\"#440154\"],[0.1111111111111111,\"#482878\"],[0.2222222222222222,\"#3e4989\"],[0.3333333333333333,\"#31688e\"],[0.4444444444444444,\"#26828e\"],[0.5555555555555556,\"#1f9e89\"],[0.6666666666666666,\"#35b779\"],[0.7777777777777778,\"#6ece58\"],[0.8888888888888888,\"#b5de2b\"],[1.0,\"#fde725\"]]},\"colorway\":[\"#1F77B4\",\"#FF7F0E\",\"#2CA02C\",\"#D62728\",\"#9467BD\",\"#8C564B\",\"#E377C2\",\"#7F7F7F\",\"#BCBD22\",\"#17BECF\"],\"font\":{\"color\":\"rgb(36,36,36)\"},\"geo\":{\"bgcolor\":\"white\",\"lakecolor\":\"white\",\"landcolor\":\"white\",\"showlakes\":true,\"showland\":true,\"subunitcolor\":\"white\"},\"hoverlabel\":{\"align\":\"left\"},\"hovermode\":\"closest\",\"mapbox\":{\"style\":\"light\"},\"paper_bgcolor\":\"white\",\"plot_bgcolor\":\"white\",\"polar\":{\"angularaxis\":{\"gridcolor\":\"rgb(232,232,232)\",\"linecolor\":\"rgb(36,36,36)\",\"showgrid\":false,\"showline\":true,\"ticks\":\"outside\"},\"bgcolor\":\"white\",\"radialaxis\":{\"gridcolor\":\"rgb(232,232,232)\",\"linecolor\":\"rgb(36,36,36)\",\"showgrid\":false,\"showline\":true,\"ticks\":\"outside\"}},\"scene\":{\"xaxis\":{\"backgroundcolor\":\"white\",\"gridcolor\":\"rgb(232,232,232)\",\"gridwidth\":2,\"linecolor\":\"rgb(36,36,36)\",\"showbackground\":true,\"showgrid\":false,\"showline\":true,\"ticks\":\"outside\",\"zeroline\":false,\"zerolinecolor\":\"rgb(36,36,36)\"},\"yaxis\":{\"backgroundcolor\":\"white\",\"gridcolor\":\"rgb(232,232,232)\",\"gridwidth\":2,\"linecolor\":\"rgb(36,36,36)\",\"showbackground\":true,\"showgrid\":false,\"showline\":true,\"ticks\":\"outside\",\"zeroline\":false,\"zerolinecolor\":\"rgb(36,36,36)\"},\"zaxis\":{\"backgroundcolor\":\"white\",\"gridcolor\":\"rgb(232,232,232)\",\"gridwidth\":2,\"linecolor\":\"rgb(36,36,36)\",\"showbackground\":true,\"showgrid\":false,\"showline\":true,\"ticks\":\"outside\",\"zeroline\":false,\"zerolinecolor\":\"rgb(36,36,36)\"}},\"shapedefaults\":{\"fillcolor\":\"black\",\"line\":{\"width\":0},\"opacity\":0.3},\"ternary\":{\"aaxis\":{\"gridcolor\":\"rgb(232,232,232)\",\"linecolor\":\"rgb(36,36,36)\",\"showgrid\":false,\"showline\":true,\"ticks\":\"outside\"},\"baxis\":{\"gridcolor\":\"rgb(232,232,232)\",\"linecolor\":\"rgb(36,36,36)\",\"showgrid\":false,\"showline\":true,\"ticks\":\"outside\"},\"bgcolor\":\"white\",\"caxis\":{\"gridcolor\":\"rgb(232,232,232)\",\"linecolor\":\"rgb(36,36,36)\",\"showgrid\":false,\"showline\":true,\"ticks\":\"outside\"}},\"title\":{\"x\":0.05},\"xaxis\":{\"automargin\":true,\"gridcolor\":\"rgb(232,232,232)\",\"linecolor\":\"rgb(36,36,36)\",\"showgrid\":false,\"showline\":true,\"ticks\":\"outside\",\"title\":{\"standoff\":15},\"zeroline\":false,\"zerolinecolor\":\"rgb(36,36,36)\"},\"yaxis\":{\"automargin\":true,\"gridcolor\":\"rgb(232,232,232)\",\"linecolor\":\"rgb(36,36,36)\",\"showgrid\":false,\"showline\":true,\"ticks\":\"outside\",\"title\":{\"standoff\":15},\"zeroline\":false,\"zerolinecolor\":\"rgb(36,36,36)\"}}},\"xaxis\":{\"anchor\":\"y\",\"domain\":[0.0,1.0],\"title\":{\"text\":\"\"},\"visible\":false,\"range\":[-8.634667086601258,2.3973135471343996]},\"yaxis\":{\"anchor\":\"x\",\"domain\":[0.0,1.0],\"title\":{\"text\":\"\"},\"visible\":false,\"range\":[0.6265713304281235,14.73920497894287]},\"legend\":{\"tracegroupgap\":0,\"itemsizing\":\"constant\"},\"margin\":{\"t\":60},\"title\":{\"font\":{\"size\":22,\"color\":\"Black\"},\"text\":\"<b>Intertopic Distance Map\",\"y\":0.95,\"x\":0.5,\"xanchor\":\"center\",\"yanchor\":\"top\"},\"hoverlabel\":{\"font\":{\"size\":16,\"family\":\"Rockwell\"},\"bgcolor\":\"white\"},\"width\":650,\"height\":650,\"sliders\":[{\"active\":0,\"pad\":{\"t\":50},\"steps\":[{\"args\":[{\"marker.color\":[[\"red\",\"#B0BEC5\",\"#B0BEC5\",\"#B0BEC5\",\"#B0BEC5\",\"#B0BEC5\",\"#B0BEC5\",\"#B0BEC5\",\"#B0BEC5\",\"#B0BEC5\",\"#B0BEC5\",\"#B0BEC5\",\"#B0BEC5\",\"#B0BEC5\"]]}],\"label\":\"Topic 0\",\"method\":\"update\"},{\"args\":[{\"marker.color\":[[\"#B0BEC5\",\"red\",\"#B0BEC5\",\"#B0BEC5\",\"#B0BEC5\",\"#B0BEC5\",\"#B0BEC5\",\"#B0BEC5\",\"#B0BEC5\",\"#B0BEC5\",\"#B0BEC5\",\"#B0BEC5\",\"#B0BEC5\",\"#B0BEC5\"]]}],\"label\":\"Topic 1\",\"method\":\"update\"},{\"args\":[{\"marker.color\":[[\"#B0BEC5\",\"#B0BEC5\",\"red\",\"#B0BEC5\",\"#B0BEC5\",\"#B0BEC5\",\"#B0BEC5\",\"#B0BEC5\",\"#B0BEC5\",\"#B0BEC5\",\"#B0BEC5\",\"#B0BEC5\",\"#B0BEC5\",\"#B0BEC5\"]]}],\"label\":\"Topic 2\",\"method\":\"update\"},{\"args\":[{\"marker.color\":[[\"#B0BEC5\",\"#B0BEC5\",\"#B0BEC5\",\"red\",\"#B0BEC5\",\"#B0BEC5\",\"#B0BEC5\",\"#B0BEC5\",\"#B0BEC5\",\"#B0BEC5\",\"#B0BEC5\",\"#B0BEC5\",\"#B0BEC5\",\"#B0BEC5\"]]}],\"label\":\"Topic 3\",\"method\":\"update\"},{\"args\":[{\"marker.color\":[[\"#B0BEC5\",\"#B0BEC5\",\"#B0BEC5\",\"#B0BEC5\",\"red\",\"#B0BEC5\",\"#B0BEC5\",\"#B0BEC5\",\"#B0BEC5\",\"#B0BEC5\",\"#B0BEC5\",\"#B0BEC5\",\"#B0BEC5\",\"#B0BEC5\"]]}],\"label\":\"Topic 4\",\"method\":\"update\"},{\"args\":[{\"marker.color\":[[\"#B0BEC5\",\"#B0BEC5\",\"#B0BEC5\",\"#B0BEC5\",\"#B0BEC5\",\"red\",\"#B0BEC5\",\"#B0BEC5\",\"#B0BEC5\",\"#B0BEC5\",\"#B0BEC5\",\"#B0BEC5\",\"#B0BEC5\",\"#B0BEC5\"]]}],\"label\":\"Topic 5\",\"method\":\"update\"},{\"args\":[{\"marker.color\":[[\"#B0BEC5\",\"#B0BEC5\",\"#B0BEC5\",\"#B0BEC5\",\"#B0BEC5\",\"#B0BEC5\",\"red\",\"#B0BEC5\",\"#B0BEC5\",\"#B0BEC5\",\"#B0BEC5\",\"#B0BEC5\",\"#B0BEC5\",\"#B0BEC5\"]]}],\"label\":\"Topic 6\",\"method\":\"update\"},{\"args\":[{\"marker.color\":[[\"#B0BEC5\",\"#B0BEC5\",\"#B0BEC5\",\"#B0BEC5\",\"#B0BEC5\",\"#B0BEC5\",\"#B0BEC5\",\"red\",\"#B0BEC5\",\"#B0BEC5\",\"#B0BEC5\",\"#B0BEC5\",\"#B0BEC5\",\"#B0BEC5\"]]}],\"label\":\"Topic 7\",\"method\":\"update\"},{\"args\":[{\"marker.color\":[[\"#B0BEC5\",\"#B0BEC5\",\"#B0BEC5\",\"#B0BEC5\",\"#B0BEC5\",\"#B0BEC5\",\"#B0BEC5\",\"#B0BEC5\",\"red\",\"#B0BEC5\",\"#B0BEC5\",\"#B0BEC5\",\"#B0BEC5\",\"#B0BEC5\"]]}],\"label\":\"Topic 8\",\"method\":\"update\"},{\"args\":[{\"marker.color\":[[\"#B0BEC5\",\"#B0BEC5\",\"#B0BEC5\",\"#B0BEC5\",\"#B0BEC5\",\"#B0BEC5\",\"#B0BEC5\",\"#B0BEC5\",\"#B0BEC5\",\"red\",\"#B0BEC5\",\"#B0BEC5\",\"#B0BEC5\",\"#B0BEC5\"]]}],\"label\":\"Topic 9\",\"method\":\"update\"},{\"args\":[{\"marker.color\":[[\"#B0BEC5\",\"#B0BEC5\",\"#B0BEC5\",\"#B0BEC5\",\"#B0BEC5\",\"#B0BEC5\",\"#B0BEC5\",\"#B0BEC5\",\"#B0BEC5\",\"#B0BEC5\",\"red\",\"#B0BEC5\",\"#B0BEC5\",\"#B0BEC5\"]]}],\"label\":\"Topic 10\",\"method\":\"update\"},{\"args\":[{\"marker.color\":[[\"#B0BEC5\",\"#B0BEC5\",\"#B0BEC5\",\"#B0BEC5\",\"#B0BEC5\",\"#B0BEC5\",\"#B0BEC5\",\"#B0BEC5\",\"#B0BEC5\",\"#B0BEC5\",\"#B0BEC5\",\"red\",\"#B0BEC5\",\"#B0BEC5\"]]}],\"label\":\"Topic 11\",\"method\":\"update\"},{\"args\":[{\"marker.color\":[[\"#B0BEC5\",\"#B0BEC5\",\"#B0BEC5\",\"#B0BEC5\",\"#B0BEC5\",\"#B0BEC5\",\"#B0BEC5\",\"#B0BEC5\",\"#B0BEC5\",\"#B0BEC5\",\"#B0BEC5\",\"#B0BEC5\",\"red\",\"#B0BEC5\"]]}],\"label\":\"Topic 12\",\"method\":\"update\"},{\"args\":[{\"marker.color\":[[\"#B0BEC5\",\"#B0BEC5\",\"#B0BEC5\",\"#B0BEC5\",\"#B0BEC5\",\"#B0BEC5\",\"#B0BEC5\",\"#B0BEC5\",\"#B0BEC5\",\"#B0BEC5\",\"#B0BEC5\",\"#B0BEC5\",\"#B0BEC5\",\"red\"]]}],\"label\":\"Topic 13\",\"method\":\"update\"}]}],\"shapes\":[{\"line\":{\"color\":\"#CFD8DC\",\"width\":2},\"type\":\"line\",\"x0\":-3.118676769733429,\"x1\":-3.118676769733429,\"y0\":0.6265713304281235,\"y1\":14.73920497894287},{\"line\":{\"color\":\"#9E9E9E\",\"width\":2},\"type\":\"line\",\"x0\":-8.634667086601258,\"x1\":2.3973135471343996,\"y0\":7.6828881546854975,\"y1\":7.6828881546854975}],\"annotations\":[{\"showarrow\":false,\"text\":\"D1\",\"x\":-8.634667086601258,\"y\":7.6828881546854975,\"yshift\":10},{\"showarrow\":false,\"text\":\"D2\",\"x\":-3.118676769733429,\"xshift\":10,\"y\":14.73920497894287}]},                        {\"responsive\": true}                    ).then(function(){\n",
              "                            \n",
              "var gd = document.getElementById('bf5e6c84-64b4-42a6-aaf0-feef99736eb1');\n",
              "var x = new MutationObserver(function (mutations, observer) {{\n",
              "        var display = window.getComputedStyle(gd).display;\n",
              "        if (!display || display === 'none') {{\n",
              "            console.log([gd, 'removed!']);\n",
              "            Plotly.purge(gd);\n",
              "            observer.disconnect();\n",
              "        }}\n",
              "}});\n",
              "\n",
              "// Listen for the removal of the full notebook cells\n",
              "var notebookContainer = gd.closest('#notebook-container');\n",
              "if (notebookContainer) {{\n",
              "    x.observe(notebookContainer, {childList: true});\n",
              "}}\n",
              "\n",
              "// Listen for the clearing of the current output cell\n",
              "var outputEl = gd.closest('.output');\n",
              "if (outputEl) {{\n",
              "    x.observe(outputEl, {childList: true});\n",
              "}}\n",
              "\n",
              "                        })                };                            </script>        </div>\n",
              "</body>\n",
              "</html>"
            ]
          },
          "metadata": {}
        }
      ]
    },
    {
      "cell_type": "code",
      "source": [
        "model.visualize_barchart()"
      ],
      "metadata": {
        "id": "szrTL6l0U39G",
        "outputId": "f3142007-c5f9-4371-c64a-6730893b057a",
        "colab": {
          "base_uri": "https://localhost:8080/",
          "height": 517
        }
      },
      "execution_count": 14,
      "outputs": [
        {
          "output_type": "display_data",
          "data": {
            "text/html": [
              "<html>\n",
              "<head><meta charset=\"utf-8\" /></head>\n",
              "<body>\n",
              "    <div>            <script src=\"https://cdnjs.cloudflare.com/ajax/libs/mathjax/2.7.5/MathJax.js?config=TeX-AMS-MML_SVG\"></script><script type=\"text/javascript\">if (window.MathJax) {MathJax.Hub.Config({SVG: {font: \"STIX-Web\"}});}</script>                <script type=\"text/javascript\">window.PlotlyConfig = {MathJaxConfig: 'local'};</script>\n",
              "        <script src=\"https://cdn.plot.ly/plotly-2.8.3.min.js\"></script>                <div id=\"b27da88d-dadb-4111-a35c-df3b945b3924\" class=\"plotly-graph-div\" style=\"height:500px; width:1000px;\"></div>            <script type=\"text/javascript\">                                    window.PLOTLYENV=window.PLOTLYENV || {};                                    if (document.getElementById(\"b27da88d-dadb-4111-a35c-df3b945b3924\")) {                    Plotly.newPlot(                        \"b27da88d-dadb-4111-a35c-df3b945b3924\",                        [{\"marker\":{\"color\":\"#D55E00\"},\"orientation\":\"h\",\"x\":[0.041592313956029706,0.04469987432161571,0.04876349925994441,0.05632682138882624,0.0679976040680901],\"y\":[\"customer  \",\"response  \",\"email  \",\"reply  \",\"complaint  \"],\"type\":\"bar\",\"xaxis\":\"x\",\"yaxis\":\"y\"},{\"marker\":{\"color\":\"#0072B2\"},\"orientation\":\"h\",\"x\":[0.043349672500956456,0.045546495174270944,0.04567718209495176,0.05147649162991455,0.06865142600099865],\"y\":[\"bag  \",\"baggage  \",\"emirate  \",\"luggage  \",\"dubai  \"],\"type\":\"bar\",\"xaxis\":\"x2\",\"yaxis\":\"y2\"},{\"marker\":{\"color\":\"#CC79A7\"},\"orientation\":\"h\",\"x\":[0.038829768757187993,0.046670311953912365,0.05893842575611401,0.06127790196194191,0.06976332825570566],\"y\":[\"booked  \",\"flight  \",\"refund  \",\"ticket  \",\"booking  \"],\"type\":\"bar\",\"xaxis\":\"x3\",\"yaxis\":\"y3\"},{\"marker\":{\"color\":\"#E69F00\"},\"orientation\":\"h\",\"x\":[0.06375948188503344,0.06400427803488433,0.06479561834817812,0.07314664281741563,0.13636464169354573],\"y\":[\"support  \",\"customer  \",\"staff  \",\"ground  \",\"emirate  \"],\"type\":\"bar\",\"xaxis\":\"x4\",\"yaxis\":\"y4\"},{\"marker\":{\"color\":\"#56B4E9\"},\"orientation\":\"h\",\"x\":[0.05147033045121938,0.05363780877431298,0.05696378271924472,0.07045521303919258,0.08983002522102601],\"y\":[\"possible  \",\"would  \",\"back  \",\"pathetic  \",\"flight  \"],\"type\":\"bar\",\"xaxis\":\"x5\",\"yaxis\":\"y5\"},{\"marker\":{\"color\":\"#009E73\"},\"orientation\":\"h\",\"x\":[0.08593900129564878,0.0992785117053799,0.10347948141232993,0.1113487982297729,0.12201707708365994],\"y\":[\"pcr  \",\"covid  \",\"vaccination  \",\"vaccinated  \",\"test  \"],\"type\":\"bar\",\"xaxis\":\"x6\",\"yaxis\":\"y6\"},{\"marker\":{\"color\":\"#F0E442\"},\"orientation\":\"h\",\"x\":[0.05663716976098526,0.06182614822976445,0.07029164810852162,0.07504881906790813,0.21649423483366645],\"y\":[\"select  \",\"selection  \",\"get  \",\"dxb  \",\"seat  \"],\"type\":\"bar\",\"xaxis\":\"x7\",\"yaxis\":\"y7\"},{\"marker\":{\"color\":\"#D55E00\"},\"orientation\":\"h\",\"x\":[0.07350581157646496,0.07765735978058626,0.12554183619634043,0.14026128760154674,0.14101730487718106],\"y\":[\"access  \",\"hotel  \",\"layover  \",\"dublin  \",\"lounge  \"],\"type\":\"bar\",\"xaxis\":\"x8\",\"yaxis\":\"y8\"}],                        {\"template\":{\"data\":{\"barpolar\":[{\"marker\":{\"line\":{\"color\":\"white\",\"width\":0.5},\"pattern\":{\"fillmode\":\"overlay\",\"size\":10,\"solidity\":0.2}},\"type\":\"barpolar\"}],\"bar\":[{\"error_x\":{\"color\":\"#2a3f5f\"},\"error_y\":{\"color\":\"#2a3f5f\"},\"marker\":{\"line\":{\"color\":\"white\",\"width\":0.5},\"pattern\":{\"fillmode\":\"overlay\",\"size\":10,\"solidity\":0.2}},\"type\":\"bar\"}],\"carpet\":[{\"aaxis\":{\"endlinecolor\":\"#2a3f5f\",\"gridcolor\":\"#C8D4E3\",\"linecolor\":\"#C8D4E3\",\"minorgridcolor\":\"#C8D4E3\",\"startlinecolor\":\"#2a3f5f\"},\"baxis\":{\"endlinecolor\":\"#2a3f5f\",\"gridcolor\":\"#C8D4E3\",\"linecolor\":\"#C8D4E3\",\"minorgridcolor\":\"#C8D4E3\",\"startlinecolor\":\"#2a3f5f\"},\"type\":\"carpet\"}],\"choropleth\":[{\"colorbar\":{\"outlinewidth\":0,\"ticks\":\"\"},\"type\":\"choropleth\"}],\"contourcarpet\":[{\"colorbar\":{\"outlinewidth\":0,\"ticks\":\"\"},\"type\":\"contourcarpet\"}],\"contour\":[{\"colorbar\":{\"outlinewidth\":0,\"ticks\":\"\"},\"colorscale\":[[0.0,\"#0d0887\"],[0.1111111111111111,\"#46039f\"],[0.2222222222222222,\"#7201a8\"],[0.3333333333333333,\"#9c179e\"],[0.4444444444444444,\"#bd3786\"],[0.5555555555555556,\"#d8576b\"],[0.6666666666666666,\"#ed7953\"],[0.7777777777777778,\"#fb9f3a\"],[0.8888888888888888,\"#fdca26\"],[1.0,\"#f0f921\"]],\"type\":\"contour\"}],\"heatmapgl\":[{\"colorbar\":{\"outlinewidth\":0,\"ticks\":\"\"},\"colorscale\":[[0.0,\"#0d0887\"],[0.1111111111111111,\"#46039f\"],[0.2222222222222222,\"#7201a8\"],[0.3333333333333333,\"#9c179e\"],[0.4444444444444444,\"#bd3786\"],[0.5555555555555556,\"#d8576b\"],[0.6666666666666666,\"#ed7953\"],[0.7777777777777778,\"#fb9f3a\"],[0.8888888888888888,\"#fdca26\"],[1.0,\"#f0f921\"]],\"type\":\"heatmapgl\"}],\"heatmap\":[{\"colorbar\":{\"outlinewidth\":0,\"ticks\":\"\"},\"colorscale\":[[0.0,\"#0d0887\"],[0.1111111111111111,\"#46039f\"],[0.2222222222222222,\"#7201a8\"],[0.3333333333333333,\"#9c179e\"],[0.4444444444444444,\"#bd3786\"],[0.5555555555555556,\"#d8576b\"],[0.6666666666666666,\"#ed7953\"],[0.7777777777777778,\"#fb9f3a\"],[0.8888888888888888,\"#fdca26\"],[1.0,\"#f0f921\"]],\"type\":\"heatmap\"}],\"histogram2dcontour\":[{\"colorbar\":{\"outlinewidth\":0,\"ticks\":\"\"},\"colorscale\":[[0.0,\"#0d0887\"],[0.1111111111111111,\"#46039f\"],[0.2222222222222222,\"#7201a8\"],[0.3333333333333333,\"#9c179e\"],[0.4444444444444444,\"#bd3786\"],[0.5555555555555556,\"#d8576b\"],[0.6666666666666666,\"#ed7953\"],[0.7777777777777778,\"#fb9f3a\"],[0.8888888888888888,\"#fdca26\"],[1.0,\"#f0f921\"]],\"type\":\"histogram2dcontour\"}],\"histogram2d\":[{\"colorbar\":{\"outlinewidth\":0,\"ticks\":\"\"},\"colorscale\":[[0.0,\"#0d0887\"],[0.1111111111111111,\"#46039f\"],[0.2222222222222222,\"#7201a8\"],[0.3333333333333333,\"#9c179e\"],[0.4444444444444444,\"#bd3786\"],[0.5555555555555556,\"#d8576b\"],[0.6666666666666666,\"#ed7953\"],[0.7777777777777778,\"#fb9f3a\"],[0.8888888888888888,\"#fdca26\"],[1.0,\"#f0f921\"]],\"type\":\"histogram2d\"}],\"histogram\":[{\"marker\":{\"pattern\":{\"fillmode\":\"overlay\",\"size\":10,\"solidity\":0.2}},\"type\":\"histogram\"}],\"mesh3d\":[{\"colorbar\":{\"outlinewidth\":0,\"ticks\":\"\"},\"type\":\"mesh3d\"}],\"parcoords\":[{\"line\":{\"colorbar\":{\"outlinewidth\":0,\"ticks\":\"\"}},\"type\":\"parcoords\"}],\"pie\":[{\"automargin\":true,\"type\":\"pie\"}],\"scatter3d\":[{\"line\":{\"colorbar\":{\"outlinewidth\":0,\"ticks\":\"\"}},\"marker\":{\"colorbar\":{\"outlinewidth\":0,\"ticks\":\"\"}},\"type\":\"scatter3d\"}],\"scattercarpet\":[{\"marker\":{\"colorbar\":{\"outlinewidth\":0,\"ticks\":\"\"}},\"type\":\"scattercarpet\"}],\"scattergeo\":[{\"marker\":{\"colorbar\":{\"outlinewidth\":0,\"ticks\":\"\"}},\"type\":\"scattergeo\"}],\"scattergl\":[{\"marker\":{\"colorbar\":{\"outlinewidth\":0,\"ticks\":\"\"}},\"type\":\"scattergl\"}],\"scattermapbox\":[{\"marker\":{\"colorbar\":{\"outlinewidth\":0,\"ticks\":\"\"}},\"type\":\"scattermapbox\"}],\"scatterpolargl\":[{\"marker\":{\"colorbar\":{\"outlinewidth\":0,\"ticks\":\"\"}},\"type\":\"scatterpolargl\"}],\"scatterpolar\":[{\"marker\":{\"colorbar\":{\"outlinewidth\":0,\"ticks\":\"\"}},\"type\":\"scatterpolar\"}],\"scatter\":[{\"marker\":{\"colorbar\":{\"outlinewidth\":0,\"ticks\":\"\"}},\"type\":\"scatter\"}],\"scatterternary\":[{\"marker\":{\"colorbar\":{\"outlinewidth\":0,\"ticks\":\"\"}},\"type\":\"scatterternary\"}],\"surface\":[{\"colorbar\":{\"outlinewidth\":0,\"ticks\":\"\"},\"colorscale\":[[0.0,\"#0d0887\"],[0.1111111111111111,\"#46039f\"],[0.2222222222222222,\"#7201a8\"],[0.3333333333333333,\"#9c179e\"],[0.4444444444444444,\"#bd3786\"],[0.5555555555555556,\"#d8576b\"],[0.6666666666666666,\"#ed7953\"],[0.7777777777777778,\"#fb9f3a\"],[0.8888888888888888,\"#fdca26\"],[1.0,\"#f0f921\"]],\"type\":\"surface\"}],\"table\":[{\"cells\":{\"fill\":{\"color\":\"#EBF0F8\"},\"line\":{\"color\":\"white\"}},\"header\":{\"fill\":{\"color\":\"#C8D4E3\"},\"line\":{\"color\":\"white\"}},\"type\":\"table\"}]},\"layout\":{\"annotationdefaults\":{\"arrowcolor\":\"#2a3f5f\",\"arrowhead\":0,\"arrowwidth\":1},\"autotypenumbers\":\"strict\",\"coloraxis\":{\"colorbar\":{\"outlinewidth\":0,\"ticks\":\"\"}},\"colorscale\":{\"diverging\":[[0,\"#8e0152\"],[0.1,\"#c51b7d\"],[0.2,\"#de77ae\"],[0.3,\"#f1b6da\"],[0.4,\"#fde0ef\"],[0.5,\"#f7f7f7\"],[0.6,\"#e6f5d0\"],[0.7,\"#b8e186\"],[0.8,\"#7fbc41\"],[0.9,\"#4d9221\"],[1,\"#276419\"]],\"sequential\":[[0.0,\"#0d0887\"],[0.1111111111111111,\"#46039f\"],[0.2222222222222222,\"#7201a8\"],[0.3333333333333333,\"#9c179e\"],[0.4444444444444444,\"#bd3786\"],[0.5555555555555556,\"#d8576b\"],[0.6666666666666666,\"#ed7953\"],[0.7777777777777778,\"#fb9f3a\"],[0.8888888888888888,\"#fdca26\"],[1.0,\"#f0f921\"]],\"sequentialminus\":[[0.0,\"#0d0887\"],[0.1111111111111111,\"#46039f\"],[0.2222222222222222,\"#7201a8\"],[0.3333333333333333,\"#9c179e\"],[0.4444444444444444,\"#bd3786\"],[0.5555555555555556,\"#d8576b\"],[0.6666666666666666,\"#ed7953\"],[0.7777777777777778,\"#fb9f3a\"],[0.8888888888888888,\"#fdca26\"],[1.0,\"#f0f921\"]]},\"colorway\":[\"#636efa\",\"#EF553B\",\"#00cc96\",\"#ab63fa\",\"#FFA15A\",\"#19d3f3\",\"#FF6692\",\"#B6E880\",\"#FF97FF\",\"#FECB52\"],\"font\":{\"color\":\"#2a3f5f\"},\"geo\":{\"bgcolor\":\"white\",\"lakecolor\":\"white\",\"landcolor\":\"white\",\"showlakes\":true,\"showland\":true,\"subunitcolor\":\"#C8D4E3\"},\"hoverlabel\":{\"align\":\"left\"},\"hovermode\":\"closest\",\"mapbox\":{\"style\":\"light\"},\"paper_bgcolor\":\"white\",\"plot_bgcolor\":\"white\",\"polar\":{\"angularaxis\":{\"gridcolor\":\"#EBF0F8\",\"linecolor\":\"#EBF0F8\",\"ticks\":\"\"},\"bgcolor\":\"white\",\"radialaxis\":{\"gridcolor\":\"#EBF0F8\",\"linecolor\":\"#EBF0F8\",\"ticks\":\"\"}},\"scene\":{\"xaxis\":{\"backgroundcolor\":\"white\",\"gridcolor\":\"#DFE8F3\",\"gridwidth\":2,\"linecolor\":\"#EBF0F8\",\"showbackground\":true,\"ticks\":\"\",\"zerolinecolor\":\"#EBF0F8\"},\"yaxis\":{\"backgroundcolor\":\"white\",\"gridcolor\":\"#DFE8F3\",\"gridwidth\":2,\"linecolor\":\"#EBF0F8\",\"showbackground\":true,\"ticks\":\"\",\"zerolinecolor\":\"#EBF0F8\"},\"zaxis\":{\"backgroundcolor\":\"white\",\"gridcolor\":\"#DFE8F3\",\"gridwidth\":2,\"linecolor\":\"#EBF0F8\",\"showbackground\":true,\"ticks\":\"\",\"zerolinecolor\":\"#EBF0F8\"}},\"shapedefaults\":{\"line\":{\"color\":\"#2a3f5f\"}},\"ternary\":{\"aaxis\":{\"gridcolor\":\"#DFE8F3\",\"linecolor\":\"#A2B1C6\",\"ticks\":\"\"},\"baxis\":{\"gridcolor\":\"#DFE8F3\",\"linecolor\":\"#A2B1C6\",\"ticks\":\"\"},\"bgcolor\":\"white\",\"caxis\":{\"gridcolor\":\"#DFE8F3\",\"linecolor\":\"#A2B1C6\",\"ticks\":\"\"}},\"title\":{\"x\":0.05},\"xaxis\":{\"automargin\":true,\"gridcolor\":\"#EBF0F8\",\"linecolor\":\"#EBF0F8\",\"ticks\":\"\",\"title\":{\"standoff\":15},\"zerolinecolor\":\"#EBF0F8\",\"zerolinewidth\":2},\"yaxis\":{\"automargin\":true,\"gridcolor\":\"#EBF0F8\",\"linecolor\":\"#EBF0F8\",\"ticks\":\"\",\"title\":{\"standoff\":15},\"zerolinecolor\":\"#EBF0F8\",\"zerolinewidth\":2}}},\"xaxis\":{\"anchor\":\"y\",\"domain\":[0.0,0.175],\"showgrid\":true},\"yaxis\":{\"anchor\":\"x\",\"domain\":[0.6000000000000001,1.0],\"showgrid\":true},\"xaxis2\":{\"anchor\":\"y2\",\"domain\":[0.275,0.45],\"showgrid\":true},\"yaxis2\":{\"anchor\":\"x2\",\"domain\":[0.6000000000000001,1.0],\"showgrid\":true},\"xaxis3\":{\"anchor\":\"y3\",\"domain\":[0.55,0.7250000000000001],\"showgrid\":true},\"yaxis3\":{\"anchor\":\"x3\",\"domain\":[0.6000000000000001,1.0],\"showgrid\":true},\"xaxis4\":{\"anchor\":\"y4\",\"domain\":[0.825,1.0],\"showgrid\":true},\"yaxis4\":{\"anchor\":\"x4\",\"domain\":[0.6000000000000001,1.0],\"showgrid\":true},\"xaxis5\":{\"anchor\":\"y5\",\"domain\":[0.0,0.175],\"showgrid\":true},\"yaxis5\":{\"anchor\":\"x5\",\"domain\":[0.0,0.4],\"showgrid\":true},\"xaxis6\":{\"anchor\":\"y6\",\"domain\":[0.275,0.45],\"showgrid\":true},\"yaxis6\":{\"anchor\":\"x6\",\"domain\":[0.0,0.4],\"showgrid\":true},\"xaxis7\":{\"anchor\":\"y7\",\"domain\":[0.55,0.7250000000000001],\"showgrid\":true},\"yaxis7\":{\"anchor\":\"x7\",\"domain\":[0.0,0.4],\"showgrid\":true},\"xaxis8\":{\"anchor\":\"y8\",\"domain\":[0.825,1.0],\"showgrid\":true},\"yaxis8\":{\"anchor\":\"x8\",\"domain\":[0.0,0.4],\"showgrid\":true},\"annotations\":[{\"font\":{\"size\":16},\"showarrow\":false,\"text\":\"Topic 0\",\"x\":0.0875,\"xanchor\":\"center\",\"xref\":\"paper\",\"y\":1.0,\"yanchor\":\"bottom\",\"yref\":\"paper\"},{\"font\":{\"size\":16},\"showarrow\":false,\"text\":\"Topic 1\",\"x\":0.36250000000000004,\"xanchor\":\"center\",\"xref\":\"paper\",\"y\":1.0,\"yanchor\":\"bottom\",\"yref\":\"paper\"},{\"font\":{\"size\":16},\"showarrow\":false,\"text\":\"Topic 2\",\"x\":0.6375000000000001,\"xanchor\":\"center\",\"xref\":\"paper\",\"y\":1.0,\"yanchor\":\"bottom\",\"yref\":\"paper\"},{\"font\":{\"size\":16},\"showarrow\":false,\"text\":\"Topic 3\",\"x\":0.9125,\"xanchor\":\"center\",\"xref\":\"paper\",\"y\":1.0,\"yanchor\":\"bottom\",\"yref\":\"paper\"},{\"font\":{\"size\":16},\"showarrow\":false,\"text\":\"Topic 4\",\"x\":0.0875,\"xanchor\":\"center\",\"xref\":\"paper\",\"y\":0.4,\"yanchor\":\"bottom\",\"yref\":\"paper\"},{\"font\":{\"size\":16},\"showarrow\":false,\"text\":\"Topic 5\",\"x\":0.36250000000000004,\"xanchor\":\"center\",\"xref\":\"paper\",\"y\":0.4,\"yanchor\":\"bottom\",\"yref\":\"paper\"},{\"font\":{\"size\":16},\"showarrow\":false,\"text\":\"Topic 6\",\"x\":0.6375000000000001,\"xanchor\":\"center\",\"xref\":\"paper\",\"y\":0.4,\"yanchor\":\"bottom\",\"yref\":\"paper\"},{\"font\":{\"size\":16},\"showarrow\":false,\"text\":\"Topic 7\",\"x\":0.9125,\"xanchor\":\"center\",\"xref\":\"paper\",\"y\":0.4,\"yanchor\":\"bottom\",\"yref\":\"paper\"}],\"title\":{\"font\":{\"size\":22,\"color\":\"Black\"},\"text\":\"<b>Topic Word Scores\",\"x\":0.5,\"xanchor\":\"center\",\"yanchor\":\"top\"},\"hoverlabel\":{\"font\":{\"size\":16,\"family\":\"Rockwell\"},\"bgcolor\":\"white\"},\"showlegend\":false,\"width\":1000,\"height\":500},                        {\"responsive\": true}                    ).then(function(){\n",
              "                            \n",
              "var gd = document.getElementById('b27da88d-dadb-4111-a35c-df3b945b3924');\n",
              "var x = new MutationObserver(function (mutations, observer) {{\n",
              "        var display = window.getComputedStyle(gd).display;\n",
              "        if (!display || display === 'none') {{\n",
              "            console.log([gd, 'removed!']);\n",
              "            Plotly.purge(gd);\n",
              "            observer.disconnect();\n",
              "        }}\n",
              "}});\n",
              "\n",
              "// Listen for the removal of the full notebook cells\n",
              "var notebookContainer = gd.closest('#notebook-container');\n",
              "if (notebookContainer) {{\n",
              "    x.observe(notebookContainer, {childList: true});\n",
              "}}\n",
              "\n",
              "// Listen for the clearing of the current output cell\n",
              "var outputEl = gd.closest('.output');\n",
              "if (outputEl) {{\n",
              "    x.observe(outputEl, {childList: true});\n",
              "}}\n",
              "\n",
              "                        })                };                            </script>        </div>\n",
              "</body>\n",
              "</html>"
            ]
          },
          "metadata": {}
        }
      ]
    },
    {
      "cell_type": "code",
      "source": [
        "topics_over_time = model.topics_over_time(tweets, timestamps)"
      ],
      "metadata": {
        "id": "gEiY3vXH7I-x",
        "outputId": "29a7bc2f-dcfd-43aa-e71f-5e07f165b288",
        "colab": {
          "base_uri": "https://localhost:8080/"
        }
      },
      "execution_count": 33,
      "outputs": [
        {
          "output_type": "stream",
          "name": "stderr",
          "text": [
            "530it [00:04, 111.98it/s]\n"
          ]
        }
      ]
    },
    {
      "cell_type": "code",
      "source": [
        "model.visualize_topics_over_time(topics_over_time, topics=[0, 1, 2, 3])"
      ],
      "metadata": {
        "id": "ocqFvHtD7Wq9",
        "outputId": "960132b0-a4ca-45e6-a5b3-053b81c80ae2",
        "colab": {
          "base_uri": "https://localhost:8080/",
          "height": 487
        }
      },
      "execution_count": 35,
      "outputs": [
        {
          "output_type": "display_data",
          "data": {
            "text/html": [
              "<html>\n",
              "<head><meta charset=\"utf-8\" /></head>\n",
              "<body>\n",
              "    <div>            <script src=\"https://cdnjs.cloudflare.com/ajax/libs/mathjax/2.7.5/MathJax.js?config=TeX-AMS-MML_SVG\"></script><script type=\"text/javascript\">if (window.MathJax) {MathJax.Hub.Config({SVG: {font: \"STIX-Web\"}});}</script>                <script type=\"text/javascript\">window.PlotlyConfig = {MathJaxConfig: 'local'};</script>\n",
              "        <script src=\"https://cdn.plot.ly/plotly-2.8.3.min.js\"></script>                <div id=\"4db50793-efca-4f32-8409-33ed95a3d674\" class=\"plotly-graph-div\" style=\"height:450px; width:1250px;\"></div>            <script type=\"text/javascript\">                                    window.PLOTLYENV=window.PLOTLYENV || {};                                    if (document.getElementById(\"4db50793-efca-4f32-8409-33ed95a3d674\")) {                    Plotly.newPlot(                        \"4db50793-efca-4f32-8409-33ed95a3d674\",                        [{\"hoverinfo\":\"text\",\"hovertext\":[\"<b>Topic 0</b><br>Words: hope, resolved, asap, support, thanks\",\"<b>Topic 0</b><br>Words: replied, message, check, please, complaint\",\"<b>Topic 0</b><br>Words: regard, seems, reply, one, help\",\"<b>Topic 0</b><br>Words: great, needed, assistance, almost, ago\",\"<b>Topic 0</b><br>Words: automated, message, reply, complaint, email\",\"<b>Topic 0</b><br>Words: generic, nearly, respond, got, sent\",\"<b>Topic 0</b><br>Words: shit, abysmal, cartoonist, site, valid\",\"<b>Topic 0</b><br>Words: july, fair, moved, thing, bit\",\"<b>Topic 0</b><br>Words: store, emailed, ago, reply, still\",\"<b>Topic 0</b><br>Words: comment, sure, forward, could, team\",\"<b>Topic 0</b><br>Words: notice, responded, reservation, assistance, changed\",\"<b>Topic 0</b><br>Words: punctuation, website, shambolic, accept, manages\",\"<b>Topic 0</b><br>Words: complaint, would, easier, inane, objection\",\"<b>Topic 0</b><br>Words: msg, responding, company, one, complaint\",\"<b>Topic 0</b><br>Words: bit, unfair, think, got, reply\",\"<b>Topic 0</b><br>Words: complaint, written, confirmation, ignored, helpful\",\"<b>Topic 0</b><br>Words: sent, supplied, recommended, email, therefore\",\"<b>Topic 0</b><br>Words: warning, crap, last, service, customer\",\"<b>Topic 0</b><br>Words: hey, asap, someone, back, get\",\"<b>Topic 0</b><br>Words: acknowledge, great, filled, quick, appreciate\",\"<b>Topic 0</b><br>Words: shafik, named, colleague, wonderful, one\",\"<b>Topic 0</b><br>Words: sure, filled, forward, looking, form\",\"<b>Topic 0</b><br>Words: ask, question, want, could, someone\",\"<b>Topic 0</b><br>Words: formal, revert, send, already, waiting\",\"<b>Topic 0</b><br>Words: answer, someone, please, complaint, reply\",\"<b>Topic 0</b><br>Words: upsetting, politely, hey, put, really\",\"<b>Topic 0</b><br>Words: back, get, urgent, asap, please\",\"<b>Topic 0</b><br>Words: urgent, answer, please, complaint, reply\",\"<b>Topic 0</b><br>Words: arm, rocketmiles, reminder, acknowledgment, submitted\",\"<b>Topic 0</b><br>Words: invalid, character, form, complaint, designed\",\"<b>Topic 0</b><br>Words: sometime, ongoing, respond, waiting, still\",\"<b>Topic 0</b><br>Words: look, detail, please, complaint, reply\",\"<b>Topic 0</b><br>Words: ignore, necessary, assume, month, detail\",\"<b>Topic 0</b><br>Words: pointless, another, reply, complaint, email\",\"<b>Topic 0</b><br>Words: easy, court, possibly, australia, small\",\"<b>Topic 0</b><br>Words: personalise, finally, day, wait, broken\",\"<b>Topic 0</b><br>Words: follow, sticker, official, fragile, expectation\",\"<b>Topic 0</b><br>Words: chance, submitted, start, october, respond\",\"<b>Topic 0</b><br>Words: successful, couple, emailed, complaint, reply\",\"<b>Topic 0</b><br>Words: option, send, webpage, went, replying\",\"<b>Topic 0</b><br>Words: hint, rough, team, handling, thousand\",\"<b>Topic 0</b><br>Words: ive, arrival, submitted, night, already\",\"<b>Topic 0</b><br>Words: uploaded, two, ago, complaint, month\",\"<b>Topic 0</b><br>Words: formal, revert, send, already, waiting\",\"<b>Topic 0</b><br>Words: information, quick, required, sent, thank\",\"<b>Topic 0</b><br>Words: email, affordable, fare, particular, link\",\"<b>Topic 0</b><br>Words: able, via, app, promptness, thank\",\"<b>Topic 0</b><br>Words: package, money, spoken, scammed, agent\",\"<b>Topic 0</b><br>Words: dm, check, please, complaint, reply\",\"<b>Topic 0</b><br>Words: crazy, resolve, wife, ever, regarding\",\"<b>Topic 0</b><br>Words: much, resolving, appreciated, issue, thank\",\"<b>Topic 0</b><br>Words: entire, responsive, addressing, concern, reservation\",\"<b>Topic 0</b><br>Words: scornful, expression, curt, doubt, wear\",\"<b>Topic 0</b><br>Words: mentioned, exactly, asked, complaint, reply\",\"<b>Topic 0</b><br>Words: completed, prior, resolution, done, already\",\"<b>Topic 0</b><br>Words: raised, disappointed, really, since, first\",\"<b>Topic 0</b><br>Words: much, resolving, appreciated, issue, thank\",\"<b>Topic 0</b><br>Words: considering, bit, late, may, back\",\"<b>Topic 0</b><br>Words: empathy, pushed, lack, tweet, done\",\"<b>Topic 0</b><br>Words: reply, reported, automated, stand, expect\",\"<b>Topic 0</b><br>Words: take, apologize, towards, thought, hahahaha\",\"<b>Topic 0</b><br>Words: feedback, via, resend, fine, shared\",\"<b>Topic 0</b><br>Words: together, shit, get, help, complaint\",\"<b>Topic 0</b><br>Words: reached, ridicule, assurance, aim, forget\",\"<b>Topic 0</b><br>Words: seeing, wrong, something, day, complaint\",\"<b>Topic 0</b><br>Words: delete, relation, waste, past, anything\",\"<b>Topic 0</b><br>Words: positive, forward, resolution, looking, done\",\"<b>Topic 0</b><br>Words: respond, courtesy, posted, status, timeline\",\"<b>Topic 0</b><br>Words: tedious, form, complaint, thank, reply\",\"<b>Topic 0</b><br>Words: sorted, may, think, night, last\",\"<b>Topic 0</b><br>Words: page, register, feedback, emailed, complain\",\"<b>Topic 0</b><br>Words: enquiry, initiate, information, needed, well\",\"<b>Topic 0</b><br>Words: gave, colleague, though, many, even\",\"<b>Topic 0</b><br>Words: nothing, complaint, heard, made, fly\",\"<b>Topic 0</b><br>Words: raised, cabin, complaint, escalated, marcus\",\"<b>Topic 0</b><br>Words: shall, send, via, complaint, reply\",\"<b>Topic 0</b><br>Words: ripped, happy, help, complaint, reply\",\"<b>Topic 0</b><br>Words: speedy, sure, hoping, done, response\",\"<b>Topic 0</b><br>Words: respond, hello, please, complaint, reply\",\"<b>Topic 0</b><br>Words: desired, gst, invoice, asap, via\",\"<b>Topic 0</b><br>Words: receipt, retort, except, social, medium\",\"<b>Topic 0</b><br>Words: level, higher, giving, else, acceptable\",\"<b>Topic 0</b><br>Words: synonym, communicate, definite, hearing, tired\",\"<b>Topic 0</b><br>Words: anyone, answer, thank, please, complaint\",\"<b>Topic 0</b><br>Words: noted, channel, automated, far, yes\",\"<b>Topic 0</b><br>Words: reply, left, without, people, someone\",\"<b>Topic 0</b><br>Words: six, sub, optimal, feedback, later\",\"<b>Topic 0</b><br>Words: earliest, hoping, news, dear, way\",\"<b>Topic 0</b><br>Words: enirates, disgrace, apology, closed, news\",\"<b>Topic 0</b><br>Words: follow, question, send, complaint, reply\",\"<b>Topic 0</b><br>Words: address, make, complaint, email, reply\",\"<b>Topic 0</b><br>Words: message, sent, thank, complaint, reply\",\"<b>Topic 0</b><br>Words: cut, wifi, wish, okay, every\",\"<b>Topic 0</b><br>Words: much, message, sent, thank, complaint\",\"<b>Topic 0</b><br>Words: amp, forth, proceed, honestly, mobile\",\"<b>Topic 0</b><br>Words: complete, waste, stand, feel, well\",\"<b>Topic 0</b><br>Words: needful, done, thanks, complaint, reply\",\"<b>Topic 0</b><br>Words: asap, respond, please, complaint, reply\",\"<b>Topic 0</b><br>Words: mechanical, complained, logic, human, explaining\",\"<b>Topic 0</b><br>Words: solution, got, thief, showed, supporting\",\"<b>Topic 0</b><br>Words: act, robbed, happen, try, company\",\"<b>Topic 0</b><br>Words: avoiding, public, solve, private, tweet\",\"<b>Topic 0</b><br>Words: monitoring, several, customer, unacceptable, service\",\"<b>Topic 0</b><br>Words: solution, offer, message, reply, complaint\",\"<b>Topic 0</b><br>Words: acting, stop, idiot, everyone, solution\",\"<b>Topic 0</b><br>Words: okay, quick, appreciate, thank, response\",\"<b>Topic 0</b><br>Words: alongwith, trust, track, photograph, complaint\",\"<b>Topic 0</b><br>Words: copy, check, please, complaint, reply\",\"<b>Topic 0</b><br>Words: relpy, kindly, message, thank, check\",\"<b>Topic 0</b><br>Words: though, question, thanks, complaint, reply\",\"<b>Topic 0</b><br>Words: inbox, kindly, thanks, check, complaint\",\"<b>Topic 0</b><br>Words: inbox, query, could, check, please\",\"<b>Topic 0</b><br>Words: emailed, detail, response, complaint, reply\",\"<b>Topic 0</b><br>Words: could, sent, detail, reply, thanks\",\"<b>Topic 0</b><br>Words: prompt, sent, response, thanks, complaint\",\"<b>Topic 0</b><br>Words: option, see, sent, complaint, reply\",\"<b>Topic 0</b><br>Words: yes, speak, able, help, complaint\",\"<b>Topic 0</b><br>Words: frustrating, received, response, complaint, reply\",\"<b>Topic 0</b><br>Words: unfair, need, help, complaint, reply\",\"<b>Topic 0</b><br>Words: anyone, available, help, please, complaint\",\"<b>Topic 0</b><br>Words: replied, yet, response, complaint, reply\",\"<b>Topic 0</b><br>Words: suggested, tier, email, three, colleague\",\"<b>Topic 0</b><br>Words: sign, liked, anyway, never, complaint\",\"<b>Topic 0</b><br>Words: complaint, dealing, tour, attention, dealt\",\"<b>Topic 0</b><br>Words: handling, effort, side, unprofessional, provided\",\"<b>Topic 0</b><br>Words: patheticemirates, raising, level, concern, resolution\",\"<b>Topic 0</b><br>Words: grab, preferably, rather, buy, taking\",\"<b>Topic 0</b><br>Words: real, reply, complaint, email, response\",\"<b>Topic 0</b><br>Words: account, zero, husband, different, feedback\",\"<b>Topic 0</b><br>Words: account, zero, husband, different, feedback\",\"<b>Topic 0</b><br>Words: anything, heard, back, complaint, reply\",\"<b>Topic 0</b><br>Words: sorting, ups, shamble, turned, ball\",\"<b>Topic 0</b><br>Words: hear, forward, looking, reply, thanks\",\"<b>Topic 0</b><br>Words: complaint, wonder, email, auto, day\",\"<b>Topic 0</b><br>Words: inbox, check, please, complaint, reply\",\"<b>Topic 0</b><br>Words: kindly, thank, check, please, complaint\",\"<b>Topic 0</b><br>Words: otherwise, legal, revert, immediately, action\",\"<b>Topic 0</b><br>Words: geneartion, invoce, support, get, complaint\"],\"marker\":{\"color\":\"#E69F00\"},\"mode\":\"lines\",\"name\":\"0_complaint_reply_email_response\",\"x\":[\"2022-10-06T01:48:35+00:00\",\"2022-10-06T02:34:23+00:00\",\"2022-10-06T04:37:50+00:00\",\"2022-10-06T10:23:40+00:00\",\"2022-10-06T14:46:09+00:00\",\"2022-10-06T15:12:38+00:00\",\"2022-10-06T18:24:47+00:00\",\"2022-10-07T02:21:56+00:00\",\"2022-10-07T02:26:54+00:00\",\"2022-10-07T02:47:19+00:00\",\"2022-10-07T04:34:45+00:00\",\"2022-10-07T08:25:53+00:00\",\"2022-10-07T08:29:08+00:00\",\"2022-10-07T09:11:01+00:00\",\"2022-10-07T10:32:11+00:00\",\"2022-10-07T17:47:16+00:00\",\"2022-10-07T18:22:31+00:00\",\"2022-10-07T20:45:24+00:00\",\"2022-10-08T09:28:42+00:00\",\"2022-10-08T09:30:47+00:00\",\"2022-10-08T10:26:40+00:00\",\"2022-10-08T14:30:59+00:00\",\"2022-10-08T17:05:47+00:00\",\"2022-10-08T17:07:40+00:00\",\"2022-10-08T17:13:13+00:00\",\"2022-10-08T17:23:35+00:00\",\"2022-10-08T17:36:49+00:00\",\"2022-10-08T17:38:09+00:00\",\"2022-10-09T11:42:31+00:00\",\"2022-10-10T06:31:31+00:00\",\"2022-10-10T09:58:41+00:00\",\"2022-10-10T16:43:36+00:00\",\"2022-10-10T17:13:02+00:00\",\"2022-10-10T17:49:46+00:00\",\"2022-10-11T06:00:02+00:00\",\"2022-10-11T06:27:45+00:00\",\"2022-10-11T08:35:31+00:00\",\"2022-10-11T09:56:20+00:00\",\"2022-10-11T16:29:25+00:00\",\"2022-10-12T01:15:09+00:00\",\"2022-10-12T06:07:29+00:00\",\"2022-10-12T08:38:48+00:00\",\"2022-10-12T08:48:27+00:00\",\"2022-10-12T11:14:33+00:00\",\"2022-10-12T11:17:35+00:00\",\"2022-10-12T18:12:17+00:00\",\"2022-10-13T05:18:55+00:00\",\"2022-10-13T06:26:55+00:00\",\"2022-10-13T08:45:33+00:00\",\"2022-10-13T11:29:31+00:00\",\"2022-10-13T16:26:42+00:00\",\"2022-10-13T19:25:11+00:00\",\"2022-10-14T03:33:24+00:00\",\"2022-10-14T04:07:52+00:00\",\"2022-10-14T08:57:08+00:00\",\"2022-10-14T10:35:22+00:00\",\"2022-10-14T11:21:20+00:00\",\"2022-10-14T12:32:59+00:00\",\"2022-10-14T14:31:40+00:00\",\"2022-10-14T16:08:22+00:00\",\"2022-10-14T17:32:31+00:00\",\"2022-10-15T11:29:55+00:00\",\"2022-10-15T13:53:50+00:00\",\"2022-10-16T07:49:11+00:00\",\"2022-10-16T14:51:59+00:00\",\"2022-10-16T17:28:19+00:00\",\"2022-10-16T17:57:12+00:00\",\"2022-10-17T01:52:28+00:00\",\"2022-10-17T07:10:38+00:00\",\"2022-10-17T08:24:19+00:00\",\"2022-10-17T17:01:06+00:00\",\"2022-10-17T21:59:55+00:00\",\"2022-10-17T23:07:36+00:00\",\"2022-10-18T08:08:37+00:00\",\"2022-10-18T08:12:56+00:00\",\"2022-10-18T08:27:51+00:00\",\"2022-10-18T09:43:31+00:00\",\"2022-10-18T14:39:27+00:00\",\"2022-10-18T17:55:34+00:00\",\"2022-10-19T04:34:30+00:00\",\"2022-10-19T11:39:17+00:00\",\"2022-10-19T16:34:26+00:00\",\"2022-10-20T03:59:06+00:00\",\"2022-10-20T11:56:17+00:00\",\"2022-10-21T05:59:24+00:00\",\"2022-10-21T08:41:03+00:00\",\"2022-10-21T13:46:37+00:00\",\"2022-10-22T09:51:06+00:00\",\"2022-10-22T12:59:23+00:00\",\"2022-10-22T21:17:13+00:00\",\"2022-10-23T07:38:10+00:00\",\"2022-10-23T11:03:12+00:00\",\"2022-10-23T13:16:52+00:00\",\"2022-10-23T18:14:47+00:00\",\"2022-10-24T03:52:06+00:00\",\"2022-10-24T08:51:12+00:00\",\"2022-10-24T17:40:42+00:00\",\"2022-10-25T05:35:21+00:00\",\"2022-10-25T05:48:29+00:00\",\"2022-10-25T06:12:28+00:00\",\"2022-10-25T06:24:22+00:00\",\"2022-10-25T07:20:36+00:00\",\"2022-10-25T08:12:07+00:00\",\"2022-10-25T08:32:03+00:00\",\"2022-10-25T10:13:16+00:00\",\"2022-10-25T13:26:08+00:00\",\"2022-10-25T16:08:27+00:00\",\"2022-10-25T21:16:41+00:00\",\"2022-10-27T13:52:30+00:00\",\"2022-10-28T01:51:43+00:00\",\"2022-10-28T07:16:52+00:00\",\"2022-10-28T11:10:39+00:00\",\"2022-10-28T12:48:47+00:00\",\"2022-10-28T20:23:35+00:00\",\"2022-10-29T02:45:03+00:00\",\"2022-10-29T03:10:08+00:00\",\"2022-10-29T18:52:00+00:00\",\"2022-10-29T23:19:00+00:00\",\"2022-10-29T23:19:24+00:00\",\"2022-10-30T05:42:02+00:00\",\"2022-10-30T05:53:53+00:00\",\"2022-10-30T18:53:43+00:00\",\"2022-10-30T19:54:53+00:00\",\"2022-10-30T23:36:18+00:00\",\"2022-10-31T01:46:10+00:00\",\"2022-10-31T03:22:30+00:00\",\"2022-10-31T14:08:45+00:00\",\"2022-10-31T18:19:56+00:00\",\"2022-11-01T03:43:27+00:00\",\"2022-11-01T03:43:55+00:00\",\"2022-11-01T08:59:00+00:00\",\"2022-11-01T16:42:08+00:00\",\"2022-11-01T17:30:01+00:00\",\"2022-11-01T18:49:32+00:00\",\"2022-11-01T19:03:26+00:00\",\"2022-11-02T08:26:53+00:00\",\"2022-11-02T18:24:39+00:00\",\"2022-11-03T06:20:11+00:00\"],\"y\":[1,1,1,1,1,1,1,1,1,1,1,1,1,1,1,1,1,1,1,1,1,1,1,1,1,1,1,1,1,1,1,1,1,1,1,1,1,1,1,1,1,2,1,1,1,1,1,1,1,1,1,1,1,1,1,1,1,1,1,1,1,1,1,1,1,1,1,1,1,1,1,1,1,1,1,1,1,1,1,1,1,1,1,1,1,1,1,1,1,1,2,2,1,1,1,1,1,1,1,1,1,1,1,1,1,1,1,1,1,1,1,1,1,1,1,1,1,1,1,1,1,1,1,1,1,1,1,1,1,1,1,1,1,1,1,1,1,1],\"type\":\"scatter\"},{\"hoverinfo\":\"text\",\"hovertext\":[\"<b>Topic 1</b><br>Words: collect, backpack, rome, told, fco\",\"<b>Topic 1</b><br>Words: happens, whats, evening, heard, yesterday\",\"<b>Topic 1</b><br>Words: driver, supposed, priority, pay, yet\",\"<b>Topic 1</b><br>Words: hold, amp, pram, gate, versa\",\"<b>Topic 1</b><br>Words: ek238, bos, cancelled, dubai, luggage\",\"<b>Topic 1</b><br>Words: jfk, complain, traveled, emirate, airline\",\"<b>Topic 1</b><br>Words: malaysia, mask, thursday, rule, wear\",\"<b>Topic 1</b><br>Words: airport, apply, leave, need, transit\",\"<b>Topic 1</b><br>Words: smart, needed, dxb, app, alhosn\",\"<b>Topic 1</b><br>Words: unusable, replace, bkk, afternoon, guess\",\"<b>Topic 1</b><br>Words: student, extra, offer, baggage, separately\",\"<b>Topic 1</b><br>Words: missing, funny, kabul, located, story\",\"<b>Topic 1</b><br>Words: visa, uaq, ftz, holder, partner\",\"<b>Topic 1</b><br>Words: ireland, wondering, chennai, per, charge\",\"<b>Topic 1</b><br>Words: transport, yangon, bangkok, pet, operated\",\"<b>Topic 1</b><br>Words: charger, inhouse, device, domestic, blanket\",\"<b>Topic 1</b><br>Words: promise, luxury, oldest, aircraft, experience\",\"<b>Topic 1</b><br>Words: charging, point, especially, disabled, known\",\"<b>Topic 1</b><br>Words: ireland, wondering, chennai, per, charge\",\"<b>Topic 1</b><br>Words: jakarta, heathrow, bring, onboard, dubai\",\"<b>Topic 1</b><br>Words: pir, missing, number, luggage, help\",\"<b>Topic 1</b><br>Words: stopover, mask, wear, looked, face\",\"<b>Topic 1</b><br>Words: purchase, used, advise, access, lounge\",\"<b>Topic 1</b><br>Words: premium, kind, update, lost, called\",\"<b>Topic 1</b><br>Words: unfit, badly, report, recent, damaged\",\"<b>Topic 1</b><br>Words: unforeseen, appears, longer, treatment, medical\",\"<b>Topic 1</b><br>Words: professionalism, increase, hour, giving, half\",\"<b>Topic 1</b><br>Words: amor, cape, town, attitude, gate\",\"<b>Topic 1</b><br>Words: blr, dubai, website, neither, starting\",\"<b>Topic 1</b><br>Words: contacting, partner, disappointing, uae, come\",\"<b>Topic 1</b><br>Words: important, update, belt, help, lost\",\"<b>Topic 1</b><br>Words: travelling, bag, cousin, economic, italy\",\"<b>Topic 1</b><br>Words: lighter, fuel, beg, suppose, liquid\",\"<b>Topic 1</b><br>Words: orlando, find, jfk, allocation, operated\",\"<b>Topic 1</b><br>Words: bali, arrive, asap, contact, luggage\",\"<b>Topic 1</b><br>Words: iad, ruh, routing, paper, logistics\",\"<b>Topic 1</b><br>Words: landing, disrupted, four, definite, amsterdam\",\"<b>Topic 1</b><br>Words: baklava, syrup, tia, honey, bring\",\"<b>Topic 1</b><br>Words: emirate, flew, belt, pnr, receive\",\"<b>Topic 1</b><br>Words: bought, bearing, compensate, travelled, along\",\"<b>Topic 1</b><br>Words: interim, relief, insensitive, survival, condition\",\"<b>Topic 1</b><br>Words: bag, baggage, mco, accessory, delivered\",\"<b>Topic 1</b><br>Words: tip, upgraded, friend, asking, get\",\"<b>Topic 1</b><br>Words: gold, ahead, tia, fee, card\",\"<b>Topic 1</b><br>Words: option, wer, shuttle, worthless, directly\",\"<b>Topic 1</b><br>Words: abv, tag, file, report, jetblue\",\"<b>Topic 1</b><br>Words: lagos, stopped, ghana, although, immigration\",\"<b>Topic 1</b><br>Words: understatement, row, heading, lhr, sat\",\"<b>Topic 1</b><br>Words: jfk, got, parent, diego, elder\",\"<b>Topic 1</b><br>Words: grateful, safely, singapore, airpods, took\",\"<b>Topic 1</b><br>Words: layover, long, airport, hour, dubai\",\"<b>Topic 1</b><br>Words: pound, hoped, blacklog, might, disgrace\",\"<b>Topic 1</b><br>Words: average, route, future, higher, complementary\",\"<b>Topic 1</b><br>Words: luggage, located, monday, thing, arrived\",\"<b>Topic 1</b><br>Words: usd, debit, fligh, allows, along\",\"<b>Topic 1</b><br>Words: beyond, item, effort, absolutely, frustrating\",\"<b>Topic 1</b><br>Words: item, frustrating, extremely, missing, flying\",\"<b>Topic 1</b><br>Words: whereabouts, inform, luggage, someone, dubai\",\"<b>Topic 1</b><br>Words: cardboard, carrying, restriction, box, checked\",\"<b>Topic 1</b><br>Words: usa, india, purse, one, allowed\",\"<b>Topic 1</b><br>Words: thankyou, admins, regarding, question, visa\",\"<b>Topic 1</b><br>Words: admins, regarding, transit, question, visa\",\"<b>Topic 1</b><br>Words: prix, gran, abu, dhabi, enable\",\"<b>Topic 1</b><br>Words: aviv, tel, bag, according, safari\",\"<b>Topic 1</b><br>Words: bag, understanding, country, airindia, helpless\",\"<b>Topic 1</b><br>Words: tourist, document, london, travelling, travel\",\"<b>Topic 1</b><br>Words: stolen, euro, filed, madrid, valuable\",\"<b>Topic 1</b><br>Words: madrid, valuable, checked, took, bag\",\"<b>Topic 1</b><br>Words: helpless, feeling, missed, bag, dubai\",\"<b>Topic 1</b><br>Words: airtags, apple, allowed, checked, luggage\",\"<b>Topic 1</b><br>Words: dubaiconnect, arrange, site, islamabad, instructed\",\"<b>Topic 1</b><br>Words: close, unprofessional, update, disappointing, information\",\"<b>Topic 1</b><br>Words: wifi, onboard, come, lot, charge\",\"<b>Topic 1</b><br>Words: allowance, let, child, flying, know\",\"<b>Topic 1</b><br>Words: baggage, note, clueless, important, medication\",\"<b>Topic 1</b><br>Words: dead, responds, calling, belt, find\",\"<b>Topic 1</b><br>Words: lounge, shower, terminal, including, recommend\",\"<b>Topic 1</b><br>Words: checked, luggage, bottle, liter, juice\",\"<b>Topic 1</b><br>Words: travel, wid, regrdlss, awaiting, aug\",\"<b>Topic 1</b><br>Words: loose, decline, overhead, screw, stuck\",\"<b>Topic 1</b><br>Words: frust, mum, emirtes, manchstr, aug\",\"<b>Topic 1</b><br>Words: number, baggage, confused, badly, damage\",\"<b>Topic 1</b><br>Words: internationally, travelled, catch, flown, brand\",\"<b>Topic 1</b><br>Words: suitcase, reimbursement, usable, damage, brand\",\"<b>Topic 1</b><br>Words: shared, executive, handled, image, behaviour\",\"<b>Topic 1</b><br>Words: netherlands, mam, insurance, sir, purchase\",\"<b>Topic 1</b><br>Words: thailand, transiting, soon, dubai, going\",\"<b>Topic 1</b><br>Words: bag, sling, addition, purse, economy\",\"<b>Topic 1</b><br>Words: uae, visiting, football, doha, holder\",\"<b>Topic 1</b><br>Words: plant, either, live, checked, carry\",\"<b>Topic 1</b><br>Words: full, ensure, cmon, value, treat\",\"<b>Topic 1</b><br>Words: apple, airtags, checked, due, morning\",\"<b>Topic 1</b><br>Words: amazing, pickup, messed, chauffer, pick\",\"<b>Topic 1</b><br>Words: carry, true, gown, huge, wedding\",\"<b>Topic 1</b><br>Words: amenity, kit, london, business, class\",\"<b>Topic 1</b><br>Words: period, day, air, yes, wait\",\"<b>Topic 1</b><br>Words: assist, reported, heathrow, regard, update\",\"<b>Topic 1</b><br>Words: germany, knitting, australia, allow, needle\"],\"marker\":{\"color\":\"#56B4E9\"},\"mode\":\"lines\",\"name\":\"1_dubai_luggage_baggage_bag\",\"x\":[\"2022-10-06T13:53:49+00:00\",\"2022-10-07T15:37:17+00:00\",\"2022-10-07T20:51:04+00:00\",\"2022-10-08T14:28:02+00:00\",\"2022-10-08T23:56:19+00:00\",\"2022-10-09T23:48:56+00:00\",\"2022-10-10T11:25:30+00:00\",\"2022-10-10T11:50:16+00:00\",\"2022-10-10T12:19:28+00:00\",\"2022-10-10T14:04:55+00:00\",\"2022-10-10T22:19:46+00:00\",\"2022-10-11T08:40:56+00:00\",\"2022-10-11T10:44:37+00:00\",\"2022-10-11T12:08:31+00:00\",\"2022-10-11T13:48:40+00:00\",\"2022-10-11T23:48:28+00:00\",\"2022-10-11T23:49:41+00:00\",\"2022-10-11T23:50:47+00:00\",\"2022-10-12T16:18:36+00:00\",\"2022-10-12T16:20:08+00:00\",\"2022-10-12T16:46:55+00:00\",\"2022-10-12T17:52:03+00:00\",\"2022-10-12T19:20:23+00:00\",\"2022-10-13T11:22:26+00:00\",\"2022-10-13T11:47:23+00:00\",\"2022-10-13T13:32:24+00:00\",\"2022-10-13T16:24:18+00:00\",\"2022-10-13T23:17:06+00:00\",\"2022-10-14T03:40:27+00:00\",\"2022-10-14T06:46:57+00:00\",\"2022-10-14T08:55:20+00:00\",\"2022-10-15T10:49:49+00:00\",\"2022-10-15T18:15:43+00:00\",\"2022-10-16T14:49:08+00:00\",\"2022-10-17T01:22:02+00:00\",\"2022-10-17T02:41:57+00:00\",\"2022-10-17T06:54:52+00:00\",\"2022-10-17T07:54:55+00:00\",\"2022-10-17T11:45:00+00:00\",\"2022-10-17T16:22:33+00:00\",\"2022-10-17T16:24:38+00:00\",\"2022-10-17T17:00:20+00:00\",\"2022-10-17T19:37:36+00:00\",\"2022-10-17T21:11:08+00:00\",\"2022-10-18T01:17:44+00:00\",\"2022-10-18T02:32:06+00:00\",\"2022-10-19T02:33:20+00:00\",\"2022-10-19T20:02:10+00:00\",\"2022-10-19T23:47:20+00:00\",\"2022-10-20T00:29:04+00:00\",\"2022-10-20T07:54:40+00:00\",\"2022-10-20T16:14:09+00:00\",\"2022-10-21T03:30:03+00:00\",\"2022-10-21T07:22:10+00:00\",\"2022-10-21T08:17:18+00:00\",\"2022-10-21T08:41:55+00:00\",\"2022-10-21T08:43:23+00:00\",\"2022-10-21T10:45:13+00:00\",\"2022-10-21T23:07:18+00:00\",\"2022-10-22T02:50:12+00:00\",\"2022-10-22T11:31:29+00:00\",\"2022-10-23T11:16:16+00:00\",\"2022-10-24T18:02:23+00:00\",\"2022-10-25T06:26:22+00:00\",\"2022-10-25T08:28:55+00:00\",\"2022-10-25T09:00:58+00:00\",\"2022-10-25T19:00:31+00:00\",\"2022-10-25T19:01:45+00:00\",\"2022-10-26T05:06:47+00:00\",\"2022-10-26T06:12:12+00:00\",\"2022-10-26T08:02:13+00:00\",\"2022-10-26T09:53:39+00:00\",\"2022-10-27T17:47:23+00:00\",\"2022-10-27T20:30:10+00:00\",\"2022-10-28T09:39:55+00:00\",\"2022-10-28T10:15:45+00:00\",\"2022-10-28T14:46:54+00:00\",\"2022-10-28T15:13:23+00:00\",\"2022-10-28T17:06:07+00:00\",\"2022-10-28T18:27:43+00:00\",\"2022-10-29T04:54:43+00:00\",\"2022-10-30T19:47:21+00:00\",\"2022-10-30T22:02:45+00:00\",\"2022-10-31T00:43:05+00:00\",\"2022-10-31T01:29:10+00:00\",\"2022-10-31T09:26:13+00:00\",\"2022-10-31T14:54:13+00:00\",\"2022-10-31T19:54:34+00:00\",\"2022-11-01T03:16:47+00:00\",\"2022-11-01T06:03:22+00:00\",\"2022-11-01T07:20:23+00:00\",\"2022-11-01T10:20:48+00:00\",\"2022-11-01T17:49:02+00:00\",\"2022-11-02T03:09:03+00:00\",\"2022-11-02T06:55:42+00:00\",\"2022-11-02T19:43:57+00:00\",\"2022-11-03T02:22:22+00:00\",\"2022-11-03T07:06:17+00:00\"],\"y\":[1,1,1,1,1,1,1,1,1,1,1,1,1,1,1,1,1,1,1,1,1,1,1,1,1,1,1,1,1,1,1,2,1,1,1,1,1,1,1,1,1,1,1,1,1,1,1,1,1,1,1,1,1,1,1,1,1,1,1,1,1,2,1,1,1,1,1,1,1,1,1,1,1,1,1,1,1,1,1,1,1,1,1,1,1,1,1,1,1,1,1,1,1,1,1,1,1,1],\"type\":\"scatter\"},{\"hoverinfo\":\"text\",\"hovertext\":[\"<b>Topic 2</b><br>Words: included, quote, room, advise, told\",\"<b>Topic 2</b><br>Words: helpline, need, urgent, morning, way\",\"<b>Topic 2</b><br>Words: amex, chargeback, believe, gor, original\",\"<b>Topic 2</b><br>Words: exceptionally, chauffeur, busy, line, phone\",\"<b>Topic 2</b><br>Words: sending, booking, need, help, ticket\",\"<b>Topic 2</b><br>Words: paid, company, appreciate, upgrade, ticket\",\"<b>Topic 2</b><br>Words: one, situation, appalling, resolve, talk\",\"<b>Topic 2</b><br>Words: contact, hanging, package, keep, line\",\"<b>Topic 2</b><br>Words: retrieve, held, booking, hour, ticket\",\"<b>Topic 2</b><br>Words: upgrade, working, trying, ticket, help\",\"<b>Topic 2</b><br>Words: word, amount, oct, cancelled, refund\",\"<b>Topic 2</b><br>Words: transaction, attempted, failed, showing, charged\",\"<b>Topic 2</b><br>Words: soon, nothing, tried, booking, could\",\"<b>Topic 2</b><br>Words: torture, unless, industry, precedent, advertising\",\"<b>Topic 2</b><br>Words: pending, covid, book, ticket, time\",\"<b>Topic 2</b><br>Words: informing, inboxed, processing, value, name\",\"<b>Topic 2</b><br>Words: wanted, yet, booked, booking, ticket\",\"<b>Topic 2</b><br>Words: quite, detail, sent, ticket, booking\",\"<b>Topic 2</b><br>Words: multiple, skyrewards, flown, time, register\",\"<b>Topic 2</b><br>Words: name, shorten, error, booking, long\",\"<b>Topic 2</b><br>Words: procedure, refund, ticket, booking, name\",\"<b>Topic 2</b><br>Words: selling, agency, ticket, travel, edreams\",\"<b>Topic 2</b><br>Words: surname, married, name, first, bracket\",\"<b>Topic 2</b><br>Words: bank, money, deceased, bounced, processed\",\"<b>Topic 2</b><br>Words: scheduled, chauffeur, pick, confirm, contact\",\"<b>Topic 2</b><br>Words: le, showing, around, advance, day\",\"<b>Topic 2</b><br>Words: showi, price, around, date, booking\",\"<b>Topic 2</b><br>Words: supervisor, sheer, treating, unbelievably, dot\",\"<b>Topic 2</b><br>Words: spent, sudden, spelling, death, misspelled\",\"<b>Topic 2</b><br>Words: name, middle, space, first, joining\",\"<b>Topic 2</b><br>Words: mvd, ticket, promo, active, code\",\"<b>Topic 2</b><br>Words: call, ticket, issued, straight, happening\",\"<b>Topic 2</b><br>Words: difficulty, rather, booking, currently, manage\",\"<b>Topic 2</b><br>Words: touch, booking, suggest, proper, get\",\"<b>Topic 2</b><br>Words: le, showing, around, advance, day\"],\"marker\":{\"color\":\"#009E73\"},\"mode\":\"lines\",\"name\":\"2_booking_ticket_name_booked\",\"x\":[\"2022-10-06T15:39:46+00:00\",\"2022-10-06T21:45:15+00:00\",\"2022-10-07T05:58:36+00:00\",\"2022-10-07T09:06:07+00:00\",\"2022-10-07T09:49:57+00:00\",\"2022-10-09T16:17:30+00:00\",\"2022-10-10T06:37:10+00:00\",\"2022-10-10T11:37:09+00:00\",\"2022-10-10T15:46:06+00:00\",\"2022-10-10T19:11:05+00:00\",\"2022-10-11T08:04:14+00:00\",\"2022-10-12T10:26:11+00:00\",\"2022-10-12T18:29:00+00:00\",\"2022-10-14T03:13:18+00:00\",\"2022-10-16T14:18:20+00:00\",\"2022-10-20T15:52:20+00:00\",\"2022-10-21T22:37:37+00:00\",\"2022-10-23T05:04:39+00:00\",\"2022-10-23T22:48:55+00:00\",\"2022-10-24T09:10:42+00:00\",\"2022-10-24T17:35:50+00:00\",\"2022-10-25T07:01:37+00:00\",\"2022-10-25T18:53:09+00:00\",\"2022-10-25T19:06:28+00:00\",\"2022-10-27T16:18:28+00:00\",\"2022-10-27T23:06:47+00:00\",\"2022-10-27T23:31:51+00:00\",\"2022-10-29T22:42:19+00:00\",\"2022-10-30T03:14:31+00:00\",\"2022-10-30T20:10:58+00:00\",\"2022-10-31T02:44:41+00:00\",\"2022-10-31T14:45:32+00:00\",\"2022-11-02T11:10:34+00:00\",\"2022-11-02T17:23:25+00:00\",\"2022-11-02T18:08:21+00:00\"],\"y\":[1,1,1,1,1,1,1,1,1,1,1,2,1,1,1,1,1,2,1,1,1,1,1,1,1,1,1,1,1,1,1,1,1,1,1],\"type\":\"scatter\"},{\"hoverinfo\":\"text\",\"hovertext\":[\"<b>Topic 3</b><br>Words: far, happy, schedule, joke, changed\",\"<b>Topic 3</b><br>Words: reviewed, belonging, usual, contempt, mail\",\"<b>Topic 3</b><br>Words: rip, concept, client, else, despite\",\"<b>Topic 3</b><br>Words: chennai, person, care, emirate, attended\",\"<b>Topic 3</b><br>Words: issuing, pas, october, new, emirate\",\"<b>Topic 3</b><br>Words: ground, emirate, staff, duty, ceo\",\"<b>Topic 3</b><br>Words: communication, perhaps, appalling, lack, rectify\",\"<b>Topic 3</b><br>Words: mail, responded, thereafter, reminder, end\",\"<b>Topic 3</b><br>Words: support, say, prestige, chairman, hospitality\",\"<b>Topic 3</b><br>Words: log, holiday, website, trying, emirate\",\"<b>Topic 3</b><br>Words: support, winning, several, giving, till\",\"<b>Topic 3</b><br>Words: kindly, respond, thank, emirate, please\",\"<b>Topic 3</b><br>Words: cheated, ashamed, sataliga, loyal, mary\",\"<b>Topic 3</b><br>Words: shun, embarrassment, premier, emirate, face\",\"<b>Topic 3</b><br>Words: conversation, conclusion, staff, started, lying\",\"<b>Topic 3</b><br>Words: plight, dm, expected, sad, never\",\"<b>Topic 3</b><br>Words: hear, waiting, issue, still, response\",\"<b>Topic 3</b><br>Words: broke, following, reply, worst, complain\",\"<b>Topic 3</b><br>Words: hearing, forward, looking, back, emirate\"],\"marker\":{\"color\":\"#F0E442\"},\"mode\":\"lines\",\"name\":\"3_emirate_ground_staff_customer\",\"x\":[\"2022-10-07T12:51:12+00:00\",\"2022-10-08T08:45:49+00:00\",\"2022-10-08T18:45:59+00:00\",\"2022-10-09T15:08:12+00:00\",\"2022-10-10T07:36:23+00:00\",\"2022-10-11T22:53:10+00:00\",\"2022-10-12T09:56:40+00:00\",\"2022-10-12T18:11:29+00:00\",\"2022-10-14T02:04:03+00:00\",\"2022-10-14T09:18:52+00:00\",\"2022-10-14T14:09:25+00:00\",\"2022-10-19T02:31:43+00:00\",\"2022-10-22T09:16:35+00:00\",\"2022-10-23T03:16:40+00:00\",\"2022-10-29T00:46:25+00:00\",\"2022-10-29T23:03:40+00:00\",\"2022-10-30T18:02:49+00:00\",\"2022-10-31T20:17:13+00:00\",\"2022-11-02T05:33:54+00:00\"],\"y\":[1,1,1,1,1,1,1,1,1,1,1,1,1,2,1,1,1,1,1],\"type\":\"scatter\"}],                        {\"template\":{\"data\":{\"barpolar\":[{\"marker\":{\"line\":{\"color\":\"white\",\"width\":0.5},\"pattern\":{\"fillmode\":\"overlay\",\"size\":10,\"solidity\":0.2}},\"type\":\"barpolar\"}],\"bar\":[{\"error_x\":{\"color\":\"rgb(36,36,36)\"},\"error_y\":{\"color\":\"rgb(36,36,36)\"},\"marker\":{\"line\":{\"color\":\"white\",\"width\":0.5},\"pattern\":{\"fillmode\":\"overlay\",\"size\":10,\"solidity\":0.2}},\"type\":\"bar\"}],\"carpet\":[{\"aaxis\":{\"endlinecolor\":\"rgb(36,36,36)\",\"gridcolor\":\"white\",\"linecolor\":\"white\",\"minorgridcolor\":\"white\",\"startlinecolor\":\"rgb(36,36,36)\"},\"baxis\":{\"endlinecolor\":\"rgb(36,36,36)\",\"gridcolor\":\"white\",\"linecolor\":\"white\",\"minorgridcolor\":\"white\",\"startlinecolor\":\"rgb(36,36,36)\"},\"type\":\"carpet\"}],\"choropleth\":[{\"colorbar\":{\"outlinewidth\":1,\"tickcolor\":\"rgb(36,36,36)\",\"ticks\":\"outside\"},\"type\":\"choropleth\"}],\"contourcarpet\":[{\"colorbar\":{\"outlinewidth\":1,\"tickcolor\":\"rgb(36,36,36)\",\"ticks\":\"outside\"},\"type\":\"contourcarpet\"}],\"contour\":[{\"colorbar\":{\"outlinewidth\":1,\"tickcolor\":\"rgb(36,36,36)\",\"ticks\":\"outside\"},\"colorscale\":[[0.0,\"#440154\"],[0.1111111111111111,\"#482878\"],[0.2222222222222222,\"#3e4989\"],[0.3333333333333333,\"#31688e\"],[0.4444444444444444,\"#26828e\"],[0.5555555555555556,\"#1f9e89\"],[0.6666666666666666,\"#35b779\"],[0.7777777777777778,\"#6ece58\"],[0.8888888888888888,\"#b5de2b\"],[1.0,\"#fde725\"]],\"type\":\"contour\"}],\"heatmapgl\":[{\"colorbar\":{\"outlinewidth\":1,\"tickcolor\":\"rgb(36,36,36)\",\"ticks\":\"outside\"},\"colorscale\":[[0.0,\"#440154\"],[0.1111111111111111,\"#482878\"],[0.2222222222222222,\"#3e4989\"],[0.3333333333333333,\"#31688e\"],[0.4444444444444444,\"#26828e\"],[0.5555555555555556,\"#1f9e89\"],[0.6666666666666666,\"#35b779\"],[0.7777777777777778,\"#6ece58\"],[0.8888888888888888,\"#b5de2b\"],[1.0,\"#fde725\"]],\"type\":\"heatmapgl\"}],\"heatmap\":[{\"colorbar\":{\"outlinewidth\":1,\"tickcolor\":\"rgb(36,36,36)\",\"ticks\":\"outside\"},\"colorscale\":[[0.0,\"#440154\"],[0.1111111111111111,\"#482878\"],[0.2222222222222222,\"#3e4989\"],[0.3333333333333333,\"#31688e\"],[0.4444444444444444,\"#26828e\"],[0.5555555555555556,\"#1f9e89\"],[0.6666666666666666,\"#35b779\"],[0.7777777777777778,\"#6ece58\"],[0.8888888888888888,\"#b5de2b\"],[1.0,\"#fde725\"]],\"type\":\"heatmap\"}],\"histogram2dcontour\":[{\"colorbar\":{\"outlinewidth\":1,\"tickcolor\":\"rgb(36,36,36)\",\"ticks\":\"outside\"},\"colorscale\":[[0.0,\"#440154\"],[0.1111111111111111,\"#482878\"],[0.2222222222222222,\"#3e4989\"],[0.3333333333333333,\"#31688e\"],[0.4444444444444444,\"#26828e\"],[0.5555555555555556,\"#1f9e89\"],[0.6666666666666666,\"#35b779\"],[0.7777777777777778,\"#6ece58\"],[0.8888888888888888,\"#b5de2b\"],[1.0,\"#fde725\"]],\"type\":\"histogram2dcontour\"}],\"histogram2d\":[{\"colorbar\":{\"outlinewidth\":1,\"tickcolor\":\"rgb(36,36,36)\",\"ticks\":\"outside\"},\"colorscale\":[[0.0,\"#440154\"],[0.1111111111111111,\"#482878\"],[0.2222222222222222,\"#3e4989\"],[0.3333333333333333,\"#31688e\"],[0.4444444444444444,\"#26828e\"],[0.5555555555555556,\"#1f9e89\"],[0.6666666666666666,\"#35b779\"],[0.7777777777777778,\"#6ece58\"],[0.8888888888888888,\"#b5de2b\"],[1.0,\"#fde725\"]],\"type\":\"histogram2d\"}],\"histogram\":[{\"marker\":{\"line\":{\"color\":\"white\",\"width\":0.6}},\"type\":\"histogram\"}],\"mesh3d\":[{\"colorbar\":{\"outlinewidth\":1,\"tickcolor\":\"rgb(36,36,36)\",\"ticks\":\"outside\"},\"type\":\"mesh3d\"}],\"parcoords\":[{\"line\":{\"colorbar\":{\"outlinewidth\":1,\"tickcolor\":\"rgb(36,36,36)\",\"ticks\":\"outside\"}},\"type\":\"parcoords\"}],\"pie\":[{\"automargin\":true,\"type\":\"pie\"}],\"scatter3d\":[{\"line\":{\"colorbar\":{\"outlinewidth\":1,\"tickcolor\":\"rgb(36,36,36)\",\"ticks\":\"outside\"}},\"marker\":{\"colorbar\":{\"outlinewidth\":1,\"tickcolor\":\"rgb(36,36,36)\",\"ticks\":\"outside\"}},\"type\":\"scatter3d\"}],\"scattercarpet\":[{\"marker\":{\"colorbar\":{\"outlinewidth\":1,\"tickcolor\":\"rgb(36,36,36)\",\"ticks\":\"outside\"}},\"type\":\"scattercarpet\"}],\"scattergeo\":[{\"marker\":{\"colorbar\":{\"outlinewidth\":1,\"tickcolor\":\"rgb(36,36,36)\",\"ticks\":\"outside\"}},\"type\":\"scattergeo\"}],\"scattergl\":[{\"marker\":{\"colorbar\":{\"outlinewidth\":1,\"tickcolor\":\"rgb(36,36,36)\",\"ticks\":\"outside\"}},\"type\":\"scattergl\"}],\"scattermapbox\":[{\"marker\":{\"colorbar\":{\"outlinewidth\":1,\"tickcolor\":\"rgb(36,36,36)\",\"ticks\":\"outside\"}},\"type\":\"scattermapbox\"}],\"scatterpolargl\":[{\"marker\":{\"colorbar\":{\"outlinewidth\":1,\"tickcolor\":\"rgb(36,36,36)\",\"ticks\":\"outside\"}},\"type\":\"scatterpolargl\"}],\"scatterpolar\":[{\"marker\":{\"colorbar\":{\"outlinewidth\":1,\"tickcolor\":\"rgb(36,36,36)\",\"ticks\":\"outside\"}},\"type\":\"scatterpolar\"}],\"scatter\":[{\"marker\":{\"colorbar\":{\"outlinewidth\":1,\"tickcolor\":\"rgb(36,36,36)\",\"ticks\":\"outside\"}},\"type\":\"scatter\"}],\"scatterternary\":[{\"marker\":{\"colorbar\":{\"outlinewidth\":1,\"tickcolor\":\"rgb(36,36,36)\",\"ticks\":\"outside\"}},\"type\":\"scatterternary\"}],\"surface\":[{\"colorbar\":{\"outlinewidth\":1,\"tickcolor\":\"rgb(36,36,36)\",\"ticks\":\"outside\"},\"colorscale\":[[0.0,\"#440154\"],[0.1111111111111111,\"#482878\"],[0.2222222222222222,\"#3e4989\"],[0.3333333333333333,\"#31688e\"],[0.4444444444444444,\"#26828e\"],[0.5555555555555556,\"#1f9e89\"],[0.6666666666666666,\"#35b779\"],[0.7777777777777778,\"#6ece58\"],[0.8888888888888888,\"#b5de2b\"],[1.0,\"#fde725\"]],\"type\":\"surface\"}],\"table\":[{\"cells\":{\"fill\":{\"color\":\"rgb(237,237,237)\"},\"line\":{\"color\":\"white\"}},\"header\":{\"fill\":{\"color\":\"rgb(217,217,217)\"},\"line\":{\"color\":\"white\"}},\"type\":\"table\"}]},\"layout\":{\"annotationdefaults\":{\"arrowhead\":0,\"arrowwidth\":1},\"autotypenumbers\":\"strict\",\"coloraxis\":{\"colorbar\":{\"outlinewidth\":1,\"tickcolor\":\"rgb(36,36,36)\",\"ticks\":\"outside\"}},\"colorscale\":{\"diverging\":[[0.0,\"rgb(103,0,31)\"],[0.1,\"rgb(178,24,43)\"],[0.2,\"rgb(214,96,77)\"],[0.3,\"rgb(244,165,130)\"],[0.4,\"rgb(253,219,199)\"],[0.5,\"rgb(247,247,247)\"],[0.6,\"rgb(209,229,240)\"],[0.7,\"rgb(146,197,222)\"],[0.8,\"rgb(67,147,195)\"],[0.9,\"rgb(33,102,172)\"],[1.0,\"rgb(5,48,97)\"]],\"sequential\":[[0.0,\"#440154\"],[0.1111111111111111,\"#482878\"],[0.2222222222222222,\"#3e4989\"],[0.3333333333333333,\"#31688e\"],[0.4444444444444444,\"#26828e\"],[0.5555555555555556,\"#1f9e89\"],[0.6666666666666666,\"#35b779\"],[0.7777777777777778,\"#6ece58\"],[0.8888888888888888,\"#b5de2b\"],[1.0,\"#fde725\"]],\"sequentialminus\":[[0.0,\"#440154\"],[0.1111111111111111,\"#482878\"],[0.2222222222222222,\"#3e4989\"],[0.3333333333333333,\"#31688e\"],[0.4444444444444444,\"#26828e\"],[0.5555555555555556,\"#1f9e89\"],[0.6666666666666666,\"#35b779\"],[0.7777777777777778,\"#6ece58\"],[0.8888888888888888,\"#b5de2b\"],[1.0,\"#fde725\"]]},\"colorway\":[\"#1F77B4\",\"#FF7F0E\",\"#2CA02C\",\"#D62728\",\"#9467BD\",\"#8C564B\",\"#E377C2\",\"#7F7F7F\",\"#BCBD22\",\"#17BECF\"],\"font\":{\"color\":\"rgb(36,36,36)\"},\"geo\":{\"bgcolor\":\"white\",\"lakecolor\":\"white\",\"landcolor\":\"white\",\"showlakes\":true,\"showland\":true,\"subunitcolor\":\"white\"},\"hoverlabel\":{\"align\":\"left\"},\"hovermode\":\"closest\",\"mapbox\":{\"style\":\"light\"},\"paper_bgcolor\":\"white\",\"plot_bgcolor\":\"white\",\"polar\":{\"angularaxis\":{\"gridcolor\":\"rgb(232,232,232)\",\"linecolor\":\"rgb(36,36,36)\",\"showgrid\":false,\"showline\":true,\"ticks\":\"outside\"},\"bgcolor\":\"white\",\"radialaxis\":{\"gridcolor\":\"rgb(232,232,232)\",\"linecolor\":\"rgb(36,36,36)\",\"showgrid\":false,\"showline\":true,\"ticks\":\"outside\"}},\"scene\":{\"xaxis\":{\"backgroundcolor\":\"white\",\"gridcolor\":\"rgb(232,232,232)\",\"gridwidth\":2,\"linecolor\":\"rgb(36,36,36)\",\"showbackground\":true,\"showgrid\":false,\"showline\":true,\"ticks\":\"outside\",\"zeroline\":false,\"zerolinecolor\":\"rgb(36,36,36)\"},\"yaxis\":{\"backgroundcolor\":\"white\",\"gridcolor\":\"rgb(232,232,232)\",\"gridwidth\":2,\"linecolor\":\"rgb(36,36,36)\",\"showbackground\":true,\"showgrid\":false,\"showline\":true,\"ticks\":\"outside\",\"zeroline\":false,\"zerolinecolor\":\"rgb(36,36,36)\"},\"zaxis\":{\"backgroundcolor\":\"white\",\"gridcolor\":\"rgb(232,232,232)\",\"gridwidth\":2,\"linecolor\":\"rgb(36,36,36)\",\"showbackground\":true,\"showgrid\":false,\"showline\":true,\"ticks\":\"outside\",\"zeroline\":false,\"zerolinecolor\":\"rgb(36,36,36)\"}},\"shapedefaults\":{\"fillcolor\":\"black\",\"line\":{\"width\":0},\"opacity\":0.3},\"ternary\":{\"aaxis\":{\"gridcolor\":\"rgb(232,232,232)\",\"linecolor\":\"rgb(36,36,36)\",\"showgrid\":false,\"showline\":true,\"ticks\":\"outside\"},\"baxis\":{\"gridcolor\":\"rgb(232,232,232)\",\"linecolor\":\"rgb(36,36,36)\",\"showgrid\":false,\"showline\":true,\"ticks\":\"outside\"},\"bgcolor\":\"white\",\"caxis\":{\"gridcolor\":\"rgb(232,232,232)\",\"linecolor\":\"rgb(36,36,36)\",\"showgrid\":false,\"showline\":true,\"ticks\":\"outside\"}},\"title\":{\"x\":0.05},\"xaxis\":{\"automargin\":true,\"gridcolor\":\"rgb(232,232,232)\",\"linecolor\":\"rgb(36,36,36)\",\"showgrid\":false,\"showline\":true,\"ticks\":\"outside\",\"title\":{\"standoff\":15},\"zeroline\":false,\"zerolinecolor\":\"rgb(36,36,36)\"},\"yaxis\":{\"automargin\":true,\"gridcolor\":\"rgb(232,232,232)\",\"linecolor\":\"rgb(36,36,36)\",\"showgrid\":false,\"showline\":true,\"ticks\":\"outside\",\"title\":{\"standoff\":15},\"zeroline\":false,\"zerolinecolor\":\"rgb(36,36,36)\"}}},\"xaxis\":{\"showgrid\":true},\"yaxis\":{\"showgrid\":true,\"title\":{\"text\":\"Frequency\"}},\"title\":{\"font\":{\"size\":22,\"color\":\"Black\"},\"text\":\"<b>Topics over Time\",\"y\":0.95,\"x\":0.4,\"xanchor\":\"center\",\"yanchor\":\"top\"},\"hoverlabel\":{\"font\":{\"size\":16,\"family\":\"Rockwell\"},\"bgcolor\":\"white\"},\"width\":1250,\"height\":450,\"legend\":{\"title\":{\"text\":\"<b>Global Topic Representation\"}}},                        {\"responsive\": true}                    ).then(function(){\n",
              "                            \n",
              "var gd = document.getElementById('4db50793-efca-4f32-8409-33ed95a3d674');\n",
              "var x = new MutationObserver(function (mutations, observer) {{\n",
              "        var display = window.getComputedStyle(gd).display;\n",
              "        if (!display || display === 'none') {{\n",
              "            console.log([gd, 'removed!']);\n",
              "            Plotly.purge(gd);\n",
              "            observer.disconnect();\n",
              "        }}\n",
              "}});\n",
              "\n",
              "// Listen for the removal of the full notebook cells\n",
              "var notebookContainer = gd.closest('#notebook-container');\n",
              "if (notebookContainer) {{\n",
              "    x.observe(notebookContainer, {childList: true});\n",
              "}}\n",
              "\n",
              "// Listen for the clearing of the current output cell\n",
              "var outputEl = gd.closest('.output');\n",
              "if (outputEl) {{\n",
              "    x.observe(outputEl, {childList: true});\n",
              "}}\n",
              "\n",
              "                        })                };                            </script>        </div>\n",
              "</body>\n",
              "</html>"
            ]
          },
          "metadata": {}
        }
      ]
    },
    {
      "cell_type": "code",
      "source": [
        "from sklearn.datasets import fetch_20newsgroups\n",
        "\n",
        "# Prepare data and classes\n",
        "data = fetch_20newsgroups(subset='all',  remove=('headers', 'footers', 'quotes'))"
      ],
      "metadata": {
        "id": "JL6vCAdT8Un1"
      },
      "execution_count": 36,
      "outputs": []
    },
    {
      "cell_type": "code",
      "source": [
        "docs = data[\"data\"]"
      ],
      "metadata": {
        "id": "g2wCqPH48V2a"
      },
      "execution_count": 38,
      "outputs": []
    }
  ],
  "metadata": {
    "kernelspec": {
      "display_name": "Python (notam1)",
      "language": "python",
      "name": "notam"
    },
    "language_info": {
      "codemirror_mode": {
        "name": "ipython",
        "version": 3
      },
      "file_extension": ".py",
      "mimetype": "text/x-python",
      "name": "python",
      "nbconvert_exporter": "python",
      "pygments_lexer": "ipython3",
      "version": "3.7.9"
    },
    "colab": {
      "provenance": [],
      "include_colab_link": true
    },
    "widgets": {
      "application/vnd.jupyter.widget-state+json": {
        "8ad7b67fdbef4d749f3f6986d46aae30": {
          "model_module": "@jupyter-widgets/controls",
          "model_name": "HBoxModel",
          "model_module_version": "1.5.0",
          "state": {
            "_dom_classes": [],
            "_model_module": "@jupyter-widgets/controls",
            "_model_module_version": "1.5.0",
            "_model_name": "HBoxModel",
            "_view_count": null,
            "_view_module": "@jupyter-widgets/controls",
            "_view_module_version": "1.5.0",
            "_view_name": "HBoxView",
            "box_style": "",
            "children": [
              "IPY_MODEL_a8fc36a5719c45a191eee02892c5a955",
              "IPY_MODEL_4eebb92c94d2499fbccd52e6a6a81014",
              "IPY_MODEL_9ffadc6279d74ae69190bdc00393feb6"
            ],
            "layout": "IPY_MODEL_1b981d7e1b5247638696e36c95f13b57"
          }
        },
        "a8fc36a5719c45a191eee02892c5a955": {
          "model_module": "@jupyter-widgets/controls",
          "model_name": "HTMLModel",
          "model_module_version": "1.5.0",
          "state": {
            "_dom_classes": [],
            "_model_module": "@jupyter-widgets/controls",
            "_model_module_version": "1.5.0",
            "_model_name": "HTMLModel",
            "_view_count": null,
            "_view_module": "@jupyter-widgets/controls",
            "_view_module_version": "1.5.0",
            "_view_name": "HTMLView",
            "description": "",
            "description_tooltip": null,
            "layout": "IPY_MODEL_afcc899b911449859b2efd57b34ff875",
            "placeholder": "​",
            "style": "IPY_MODEL_ec59a10ea9b44178828d811d29219de8",
            "value": "Batches: 100%"
          }
        },
        "4eebb92c94d2499fbccd52e6a6a81014": {
          "model_module": "@jupyter-widgets/controls",
          "model_name": "FloatProgressModel",
          "model_module_version": "1.5.0",
          "state": {
            "_dom_classes": [],
            "_model_module": "@jupyter-widgets/controls",
            "_model_module_version": "1.5.0",
            "_model_name": "FloatProgressModel",
            "_view_count": null,
            "_view_module": "@jupyter-widgets/controls",
            "_view_module_version": "1.5.0",
            "_view_name": "ProgressView",
            "bar_style": "success",
            "description": "",
            "description_tooltip": null,
            "layout": "IPY_MODEL_2c51e759112c41b69e99814d7d74dff5",
            "max": 12,
            "min": 0,
            "orientation": "horizontal",
            "style": "IPY_MODEL_ea5c8afbf686437d88ae715612e29e2c",
            "value": 12
          }
        },
        "9ffadc6279d74ae69190bdc00393feb6": {
          "model_module": "@jupyter-widgets/controls",
          "model_name": "HTMLModel",
          "model_module_version": "1.5.0",
          "state": {
            "_dom_classes": [],
            "_model_module": "@jupyter-widgets/controls",
            "_model_module_version": "1.5.0",
            "_model_name": "HTMLModel",
            "_view_count": null,
            "_view_module": "@jupyter-widgets/controls",
            "_view_module_version": "1.5.0",
            "_view_name": "HTMLView",
            "description": "",
            "description_tooltip": null,
            "layout": "IPY_MODEL_a892451c8d53475f8a4a6c7af25492b4",
            "placeholder": "​",
            "style": "IPY_MODEL_74f32d6b8f664b95b0b1a655a9c24227",
            "value": " 12/12 [00:24&lt;00:00,  1.19s/it]"
          }
        },
        "1b981d7e1b5247638696e36c95f13b57": {
          "model_module": "@jupyter-widgets/base",
          "model_name": "LayoutModel",
          "model_module_version": "1.2.0",
          "state": {
            "_model_module": "@jupyter-widgets/base",
            "_model_module_version": "1.2.0",
            "_model_name": "LayoutModel",
            "_view_count": null,
            "_view_module": "@jupyter-widgets/base",
            "_view_module_version": "1.2.0",
            "_view_name": "LayoutView",
            "align_content": null,
            "align_items": null,
            "align_self": null,
            "border": null,
            "bottom": null,
            "display": null,
            "flex": null,
            "flex_flow": null,
            "grid_area": null,
            "grid_auto_columns": null,
            "grid_auto_flow": null,
            "grid_auto_rows": null,
            "grid_column": null,
            "grid_gap": null,
            "grid_row": null,
            "grid_template_areas": null,
            "grid_template_columns": null,
            "grid_template_rows": null,
            "height": null,
            "justify_content": null,
            "justify_items": null,
            "left": null,
            "margin": null,
            "max_height": null,
            "max_width": null,
            "min_height": null,
            "min_width": null,
            "object_fit": null,
            "object_position": null,
            "order": null,
            "overflow": null,
            "overflow_x": null,
            "overflow_y": null,
            "padding": null,
            "right": null,
            "top": null,
            "visibility": null,
            "width": null
          }
        },
        "afcc899b911449859b2efd57b34ff875": {
          "model_module": "@jupyter-widgets/base",
          "model_name": "LayoutModel",
          "model_module_version": "1.2.0",
          "state": {
            "_model_module": "@jupyter-widgets/base",
            "_model_module_version": "1.2.0",
            "_model_name": "LayoutModel",
            "_view_count": null,
            "_view_module": "@jupyter-widgets/base",
            "_view_module_version": "1.2.0",
            "_view_name": "LayoutView",
            "align_content": null,
            "align_items": null,
            "align_self": null,
            "border": null,
            "bottom": null,
            "display": null,
            "flex": null,
            "flex_flow": null,
            "grid_area": null,
            "grid_auto_columns": null,
            "grid_auto_flow": null,
            "grid_auto_rows": null,
            "grid_column": null,
            "grid_gap": null,
            "grid_row": null,
            "grid_template_areas": null,
            "grid_template_columns": null,
            "grid_template_rows": null,
            "height": null,
            "justify_content": null,
            "justify_items": null,
            "left": null,
            "margin": null,
            "max_height": null,
            "max_width": null,
            "min_height": null,
            "min_width": null,
            "object_fit": null,
            "object_position": null,
            "order": null,
            "overflow": null,
            "overflow_x": null,
            "overflow_y": null,
            "padding": null,
            "right": null,
            "top": null,
            "visibility": null,
            "width": null
          }
        },
        "ec59a10ea9b44178828d811d29219de8": {
          "model_module": "@jupyter-widgets/controls",
          "model_name": "DescriptionStyleModel",
          "model_module_version": "1.5.0",
          "state": {
            "_model_module": "@jupyter-widgets/controls",
            "_model_module_version": "1.5.0",
            "_model_name": "DescriptionStyleModel",
            "_view_count": null,
            "_view_module": "@jupyter-widgets/base",
            "_view_module_version": "1.2.0",
            "_view_name": "StyleView",
            "description_width": ""
          }
        },
        "2c51e759112c41b69e99814d7d74dff5": {
          "model_module": "@jupyter-widgets/base",
          "model_name": "LayoutModel",
          "model_module_version": "1.2.0",
          "state": {
            "_model_module": "@jupyter-widgets/base",
            "_model_module_version": "1.2.0",
            "_model_name": "LayoutModel",
            "_view_count": null,
            "_view_module": "@jupyter-widgets/base",
            "_view_module_version": "1.2.0",
            "_view_name": "LayoutView",
            "align_content": null,
            "align_items": null,
            "align_self": null,
            "border": null,
            "bottom": null,
            "display": null,
            "flex": null,
            "flex_flow": null,
            "grid_area": null,
            "grid_auto_columns": null,
            "grid_auto_flow": null,
            "grid_auto_rows": null,
            "grid_column": null,
            "grid_gap": null,
            "grid_row": null,
            "grid_template_areas": null,
            "grid_template_columns": null,
            "grid_template_rows": null,
            "height": null,
            "justify_content": null,
            "justify_items": null,
            "left": null,
            "margin": null,
            "max_height": null,
            "max_width": null,
            "min_height": null,
            "min_width": null,
            "object_fit": null,
            "object_position": null,
            "order": null,
            "overflow": null,
            "overflow_x": null,
            "overflow_y": null,
            "padding": null,
            "right": null,
            "top": null,
            "visibility": null,
            "width": null
          }
        },
        "ea5c8afbf686437d88ae715612e29e2c": {
          "model_module": "@jupyter-widgets/controls",
          "model_name": "ProgressStyleModel",
          "model_module_version": "1.5.0",
          "state": {
            "_model_module": "@jupyter-widgets/controls",
            "_model_module_version": "1.5.0",
            "_model_name": "ProgressStyleModel",
            "_view_count": null,
            "_view_module": "@jupyter-widgets/base",
            "_view_module_version": "1.2.0",
            "_view_name": "StyleView",
            "bar_color": null,
            "description_width": ""
          }
        },
        "a892451c8d53475f8a4a6c7af25492b4": {
          "model_module": "@jupyter-widgets/base",
          "model_name": "LayoutModel",
          "model_module_version": "1.2.0",
          "state": {
            "_model_module": "@jupyter-widgets/base",
            "_model_module_version": "1.2.0",
            "_model_name": "LayoutModel",
            "_view_count": null,
            "_view_module": "@jupyter-widgets/base",
            "_view_module_version": "1.2.0",
            "_view_name": "LayoutView",
            "align_content": null,
            "align_items": null,
            "align_self": null,
            "border": null,
            "bottom": null,
            "display": null,
            "flex": null,
            "flex_flow": null,
            "grid_area": null,
            "grid_auto_columns": null,
            "grid_auto_flow": null,
            "grid_auto_rows": null,
            "grid_column": null,
            "grid_gap": null,
            "grid_row": null,
            "grid_template_areas": null,
            "grid_template_columns": null,
            "grid_template_rows": null,
            "height": null,
            "justify_content": null,
            "justify_items": null,
            "left": null,
            "margin": null,
            "max_height": null,
            "max_width": null,
            "min_height": null,
            "min_width": null,
            "object_fit": null,
            "object_position": null,
            "order": null,
            "overflow": null,
            "overflow_x": null,
            "overflow_y": null,
            "padding": null,
            "right": null,
            "top": null,
            "visibility": null,
            "width": null
          }
        },
        "74f32d6b8f664b95b0b1a655a9c24227": {
          "model_module": "@jupyter-widgets/controls",
          "model_name": "DescriptionStyleModel",
          "model_module_version": "1.5.0",
          "state": {
            "_model_module": "@jupyter-widgets/controls",
            "_model_module_version": "1.5.0",
            "_model_name": "DescriptionStyleModel",
            "_view_count": null,
            "_view_module": "@jupyter-widgets/base",
            "_view_module_version": "1.2.0",
            "_view_name": "StyleView",
            "description_width": ""
          }
        },
        "f67b25b1abee4a04a680e7a236c8e059": {
          "model_module": "@jupyter-widgets/controls",
          "model_name": "HBoxModel",
          "model_module_version": "1.5.0",
          "state": {
            "_dom_classes": [],
            "_model_module": "@jupyter-widgets/controls",
            "_model_module_version": "1.5.0",
            "_model_name": "HBoxModel",
            "_view_count": null,
            "_view_module": "@jupyter-widgets/controls",
            "_view_module_version": "1.5.0",
            "_view_name": "HBoxView",
            "box_style": "",
            "children": [
              "IPY_MODEL_b927c417bf744dd482b4f47ad78b86cc",
              "IPY_MODEL_847852584f024232b17721a28029a30a",
              "IPY_MODEL_53afa1224b5f4fd2b73a2a9e7501b9c0"
            ],
            "layout": "IPY_MODEL_c3c6be7b3b81488c917d5f58326c005d"
          }
        },
        "b927c417bf744dd482b4f47ad78b86cc": {
          "model_module": "@jupyter-widgets/controls",
          "model_name": "HTMLModel",
          "model_module_version": "1.5.0",
          "state": {
            "_dom_classes": [],
            "_model_module": "@jupyter-widgets/controls",
            "_model_module_version": "1.5.0",
            "_model_name": "HTMLModel",
            "_view_count": null,
            "_view_module": "@jupyter-widgets/controls",
            "_view_module_version": "1.5.0",
            "_view_name": "HTMLView",
            "description": "",
            "description_tooltip": null,
            "layout": "IPY_MODEL_89419824ac16421784edd7e65e0131b9",
            "placeholder": "​",
            "style": "IPY_MODEL_4a791e5fc5dc41a79ec32cd2d5bca925",
            "value": "Batches: 100%"
          }
        },
        "847852584f024232b17721a28029a30a": {
          "model_module": "@jupyter-widgets/controls",
          "model_name": "FloatProgressModel",
          "model_module_version": "1.5.0",
          "state": {
            "_dom_classes": [],
            "_model_module": "@jupyter-widgets/controls",
            "_model_module_version": "1.5.0",
            "_model_name": "FloatProgressModel",
            "_view_count": null,
            "_view_module": "@jupyter-widgets/controls",
            "_view_module_version": "1.5.0",
            "_view_name": "ProgressView",
            "bar_style": "success",
            "description": "",
            "description_tooltip": null,
            "layout": "IPY_MODEL_954755c122514f42bcd39960d708c482",
            "max": 18,
            "min": 0,
            "orientation": "horizontal",
            "style": "IPY_MODEL_c405517506f0419ba4f01f6411be764d",
            "value": 18
          }
        },
        "53afa1224b5f4fd2b73a2a9e7501b9c0": {
          "model_module": "@jupyter-widgets/controls",
          "model_name": "HTMLModel",
          "model_module_version": "1.5.0",
          "state": {
            "_dom_classes": [],
            "_model_module": "@jupyter-widgets/controls",
            "_model_module_version": "1.5.0",
            "_model_name": "HTMLModel",
            "_view_count": null,
            "_view_module": "@jupyter-widgets/controls",
            "_view_module_version": "1.5.0",
            "_view_name": "HTMLView",
            "description": "",
            "description_tooltip": null,
            "layout": "IPY_MODEL_fad8adfae553443ba023ccaee47a5ee1",
            "placeholder": "​",
            "style": "IPY_MODEL_25bf3097098a43099e175afaccac346c",
            "value": " 18/18 [00:03&lt;00:00, 10.26it/s]"
          }
        },
        "c3c6be7b3b81488c917d5f58326c005d": {
          "model_module": "@jupyter-widgets/base",
          "model_name": "LayoutModel",
          "model_module_version": "1.2.0",
          "state": {
            "_model_module": "@jupyter-widgets/base",
            "_model_module_version": "1.2.0",
            "_model_name": "LayoutModel",
            "_view_count": null,
            "_view_module": "@jupyter-widgets/base",
            "_view_module_version": "1.2.0",
            "_view_name": "LayoutView",
            "align_content": null,
            "align_items": null,
            "align_self": null,
            "border": null,
            "bottom": null,
            "display": null,
            "flex": null,
            "flex_flow": null,
            "grid_area": null,
            "grid_auto_columns": null,
            "grid_auto_flow": null,
            "grid_auto_rows": null,
            "grid_column": null,
            "grid_gap": null,
            "grid_row": null,
            "grid_template_areas": null,
            "grid_template_columns": null,
            "grid_template_rows": null,
            "height": null,
            "justify_content": null,
            "justify_items": null,
            "left": null,
            "margin": null,
            "max_height": null,
            "max_width": null,
            "min_height": null,
            "min_width": null,
            "object_fit": null,
            "object_position": null,
            "order": null,
            "overflow": null,
            "overflow_x": null,
            "overflow_y": null,
            "padding": null,
            "right": null,
            "top": null,
            "visibility": null,
            "width": null
          }
        },
        "89419824ac16421784edd7e65e0131b9": {
          "model_module": "@jupyter-widgets/base",
          "model_name": "LayoutModel",
          "model_module_version": "1.2.0",
          "state": {
            "_model_module": "@jupyter-widgets/base",
            "_model_module_version": "1.2.0",
            "_model_name": "LayoutModel",
            "_view_count": null,
            "_view_module": "@jupyter-widgets/base",
            "_view_module_version": "1.2.0",
            "_view_name": "LayoutView",
            "align_content": null,
            "align_items": null,
            "align_self": null,
            "border": null,
            "bottom": null,
            "display": null,
            "flex": null,
            "flex_flow": null,
            "grid_area": null,
            "grid_auto_columns": null,
            "grid_auto_flow": null,
            "grid_auto_rows": null,
            "grid_column": null,
            "grid_gap": null,
            "grid_row": null,
            "grid_template_areas": null,
            "grid_template_columns": null,
            "grid_template_rows": null,
            "height": null,
            "justify_content": null,
            "justify_items": null,
            "left": null,
            "margin": null,
            "max_height": null,
            "max_width": null,
            "min_height": null,
            "min_width": null,
            "object_fit": null,
            "object_position": null,
            "order": null,
            "overflow": null,
            "overflow_x": null,
            "overflow_y": null,
            "padding": null,
            "right": null,
            "top": null,
            "visibility": null,
            "width": null
          }
        },
        "4a791e5fc5dc41a79ec32cd2d5bca925": {
          "model_module": "@jupyter-widgets/controls",
          "model_name": "DescriptionStyleModel",
          "model_module_version": "1.5.0",
          "state": {
            "_model_module": "@jupyter-widgets/controls",
            "_model_module_version": "1.5.0",
            "_model_name": "DescriptionStyleModel",
            "_view_count": null,
            "_view_module": "@jupyter-widgets/base",
            "_view_module_version": "1.2.0",
            "_view_name": "StyleView",
            "description_width": ""
          }
        },
        "954755c122514f42bcd39960d708c482": {
          "model_module": "@jupyter-widgets/base",
          "model_name": "LayoutModel",
          "model_module_version": "1.2.0",
          "state": {
            "_model_module": "@jupyter-widgets/base",
            "_model_module_version": "1.2.0",
            "_model_name": "LayoutModel",
            "_view_count": null,
            "_view_module": "@jupyter-widgets/base",
            "_view_module_version": "1.2.0",
            "_view_name": "LayoutView",
            "align_content": null,
            "align_items": null,
            "align_self": null,
            "border": null,
            "bottom": null,
            "display": null,
            "flex": null,
            "flex_flow": null,
            "grid_area": null,
            "grid_auto_columns": null,
            "grid_auto_flow": null,
            "grid_auto_rows": null,
            "grid_column": null,
            "grid_gap": null,
            "grid_row": null,
            "grid_template_areas": null,
            "grid_template_columns": null,
            "grid_template_rows": null,
            "height": null,
            "justify_content": null,
            "justify_items": null,
            "left": null,
            "margin": null,
            "max_height": null,
            "max_width": null,
            "min_height": null,
            "min_width": null,
            "object_fit": null,
            "object_position": null,
            "order": null,
            "overflow": null,
            "overflow_x": null,
            "overflow_y": null,
            "padding": null,
            "right": null,
            "top": null,
            "visibility": null,
            "width": null
          }
        },
        "c405517506f0419ba4f01f6411be764d": {
          "model_module": "@jupyter-widgets/controls",
          "model_name": "ProgressStyleModel",
          "model_module_version": "1.5.0",
          "state": {
            "_model_module": "@jupyter-widgets/controls",
            "_model_module_version": "1.5.0",
            "_model_name": "ProgressStyleModel",
            "_view_count": null,
            "_view_module": "@jupyter-widgets/base",
            "_view_module_version": "1.2.0",
            "_view_name": "StyleView",
            "bar_color": null,
            "description_width": ""
          }
        },
        "fad8adfae553443ba023ccaee47a5ee1": {
          "model_module": "@jupyter-widgets/base",
          "model_name": "LayoutModel",
          "model_module_version": "1.2.0",
          "state": {
            "_model_module": "@jupyter-widgets/base",
            "_model_module_version": "1.2.0",
            "_model_name": "LayoutModel",
            "_view_count": null,
            "_view_module": "@jupyter-widgets/base",
            "_view_module_version": "1.2.0",
            "_view_name": "LayoutView",
            "align_content": null,
            "align_items": null,
            "align_self": null,
            "border": null,
            "bottom": null,
            "display": null,
            "flex": null,
            "flex_flow": null,
            "grid_area": null,
            "grid_auto_columns": null,
            "grid_auto_flow": null,
            "grid_auto_rows": null,
            "grid_column": null,
            "grid_gap": null,
            "grid_row": null,
            "grid_template_areas": null,
            "grid_template_columns": null,
            "grid_template_rows": null,
            "height": null,
            "justify_content": null,
            "justify_items": null,
            "left": null,
            "margin": null,
            "max_height": null,
            "max_width": null,
            "min_height": null,
            "min_width": null,
            "object_fit": null,
            "object_position": null,
            "order": null,
            "overflow": null,
            "overflow_x": null,
            "overflow_y": null,
            "padding": null,
            "right": null,
            "top": null,
            "visibility": null,
            "width": null
          }
        },
        "25bf3097098a43099e175afaccac346c": {
          "model_module": "@jupyter-widgets/controls",
          "model_name": "DescriptionStyleModel",
          "model_module_version": "1.5.0",
          "state": {
            "_model_module": "@jupyter-widgets/controls",
            "_model_module_version": "1.5.0",
            "_model_name": "DescriptionStyleModel",
            "_view_count": null,
            "_view_module": "@jupyter-widgets/base",
            "_view_module_version": "1.2.0",
            "_view_name": "StyleView",
            "description_width": ""
          }
        }
      }
    }
  },
  "nbformat": 4,
  "nbformat_minor": 0
}