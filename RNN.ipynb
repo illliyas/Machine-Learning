{
  "nbformat": 4,
  "nbformat_minor": 0,
  "metadata": {
    "colab": {
      "name": "RNN.ipynb",
      "provenance": [],
      "authorship_tag": "ABX9TyNJqrn/qddwTw1nrdqKAbne"
    },
    "kernelspec": {
      "name": "python3",
      "display_name": "Python 3"
    },
    "language_info": {
      "name": "python"
    }
  },
  "cells": [
    {
      "cell_type": "code",
      "execution_count": null,
      "metadata": {
        "id": "61ePRnyT8iqv"
      },
      "outputs": [],
      "source": [
        "import numpy as np\n",
        "import pandas as pd\n",
        "import matplotlib.pyplot as plt\n",
        "import seaborn as sns\n",
        "import tensorflow as tf\n",
        "from tensorflow.keras.models import Sequential\n",
        "from tensorflow.keras.layers import Dense,LSTM\n",
        "from sklearn.preprocessing import MinMaxScaler"
      ]
    },
    {
      "cell_type": "code",
      "source": [
        "!git clone https://github.com/illliyas/Machine-Learning.git"
      ],
      "metadata": {
        "id": "4uz_XhUu8bTD",
        "outputId": "1eb189eb-d7a8-4e2b-86cd-ac01976c9df0",
        "colab": {
          "base_uri": "https://localhost:8080/"
        }
      },
      "execution_count": null,
      "outputs": [
        {
          "output_type": "stream",
          "name": "stdout",
          "text": [
            "Cloning into 'Machine-Learning'...\n",
            "remote: Enumerating objects: 1613, done.\u001b[K\n",
            "remote: Counting objects: 100% (30/30), done.\u001b[K\n",
            "remote: Compressing objects: 100% (30/30), done.\u001b[K\n",
            "remote: Total 1613 (delta 15), reused 0 (delta 0), pack-reused 1583\u001b[K\n",
            "Receiving objects: 100% (1613/1613), 278.13 MiB | 25.61 MiB/s, done.\n",
            "Resolving deltas: 100% (39/39), done.\n",
            "Checking out files: 100% (1537/1537), done.\n"
          ]
        }
      ]
    },
    {
      "cell_type": "code",
      "source": [
        "data = pd.read_csv('Machine-Learning/AirPassengers.csv')\n",
        "data.head()"
      ],
      "metadata": {
        "id": "bmw50Wx-9Qb4",
        "outputId": "ab314950-eb50-4274-e120-5213cfecea0c",
        "colab": {
          "base_uri": "https://localhost:8080/",
          "height": 206
        }
      },
      "execution_count": 188,
      "outputs": [
        {
          "output_type": "execute_result",
          "data": {
            "text/plain": [
              "     Month  #Passengers\n",
              "0  1949-01          112\n",
              "1  1949-02          118\n",
              "2  1949-03          132\n",
              "3  1949-04          129\n",
              "4  1949-05          121"
            ],
            "text/html": [
              "\n",
              "  <div id=\"df-0547f913-e2da-4b8d-996d-a6cbd88af121\">\n",
              "    <div class=\"colab-df-container\">\n",
              "      <div>\n",
              "<style scoped>\n",
              "    .dataframe tbody tr th:only-of-type {\n",
              "        vertical-align: middle;\n",
              "    }\n",
              "\n",
              "    .dataframe tbody tr th {\n",
              "        vertical-align: top;\n",
              "    }\n",
              "\n",
              "    .dataframe thead th {\n",
              "        text-align: right;\n",
              "    }\n",
              "</style>\n",
              "<table border=\"1\" class=\"dataframe\">\n",
              "  <thead>\n",
              "    <tr style=\"text-align: right;\">\n",
              "      <th></th>\n",
              "      <th>Month</th>\n",
              "      <th>#Passengers</th>\n",
              "    </tr>\n",
              "  </thead>\n",
              "  <tbody>\n",
              "    <tr>\n",
              "      <th>0</th>\n",
              "      <td>1949-01</td>\n",
              "      <td>112</td>\n",
              "    </tr>\n",
              "    <tr>\n",
              "      <th>1</th>\n",
              "      <td>1949-02</td>\n",
              "      <td>118</td>\n",
              "    </tr>\n",
              "    <tr>\n",
              "      <th>2</th>\n",
              "      <td>1949-03</td>\n",
              "      <td>132</td>\n",
              "    </tr>\n",
              "    <tr>\n",
              "      <th>3</th>\n",
              "      <td>1949-04</td>\n",
              "      <td>129</td>\n",
              "    </tr>\n",
              "    <tr>\n",
              "      <th>4</th>\n",
              "      <td>1949-05</td>\n",
              "      <td>121</td>\n",
              "    </tr>\n",
              "  </tbody>\n",
              "</table>\n",
              "</div>\n",
              "      <button class=\"colab-df-convert\" onclick=\"convertToInteractive('df-0547f913-e2da-4b8d-996d-a6cbd88af121')\"\n",
              "              title=\"Convert this dataframe to an interactive table.\"\n",
              "              style=\"display:none;\">\n",
              "        \n",
              "  <svg xmlns=\"http://www.w3.org/2000/svg\" height=\"24px\"viewBox=\"0 0 24 24\"\n",
              "       width=\"24px\">\n",
              "    <path d=\"M0 0h24v24H0V0z\" fill=\"none\"/>\n",
              "    <path d=\"M18.56 5.44l.94 2.06.94-2.06 2.06-.94-2.06-.94-.94-2.06-.94 2.06-2.06.94zm-11 1L8.5 8.5l.94-2.06 2.06-.94-2.06-.94L8.5 2.5l-.94 2.06-2.06.94zm10 10l.94 2.06.94-2.06 2.06-.94-2.06-.94-.94-2.06-.94 2.06-2.06.94z\"/><path d=\"M17.41 7.96l-1.37-1.37c-.4-.4-.92-.59-1.43-.59-.52 0-1.04.2-1.43.59L10.3 9.45l-7.72 7.72c-.78.78-.78 2.05 0 2.83L4 21.41c.39.39.9.59 1.41.59.51 0 1.02-.2 1.41-.59l7.78-7.78 2.81-2.81c.8-.78.8-2.07 0-2.86zM5.41 20L4 18.59l7.72-7.72 1.47 1.35L5.41 20z\"/>\n",
              "  </svg>\n",
              "      </button>\n",
              "      \n",
              "  <style>\n",
              "    .colab-df-container {\n",
              "      display:flex;\n",
              "      flex-wrap:wrap;\n",
              "      gap: 12px;\n",
              "    }\n",
              "\n",
              "    .colab-df-convert {\n",
              "      background-color: #E8F0FE;\n",
              "      border: none;\n",
              "      border-radius: 50%;\n",
              "      cursor: pointer;\n",
              "      display: none;\n",
              "      fill: #1967D2;\n",
              "      height: 32px;\n",
              "      padding: 0 0 0 0;\n",
              "      width: 32px;\n",
              "    }\n",
              "\n",
              "    .colab-df-convert:hover {\n",
              "      background-color: #E2EBFA;\n",
              "      box-shadow: 0px 1px 2px rgba(60, 64, 67, 0.3), 0px 1px 3px 1px rgba(60, 64, 67, 0.15);\n",
              "      fill: #174EA6;\n",
              "    }\n",
              "\n",
              "    [theme=dark] .colab-df-convert {\n",
              "      background-color: #3B4455;\n",
              "      fill: #D2E3FC;\n",
              "    }\n",
              "\n",
              "    [theme=dark] .colab-df-convert:hover {\n",
              "      background-color: #434B5C;\n",
              "      box-shadow: 0px 1px 3px 1px rgba(0, 0, 0, 0.15);\n",
              "      filter: drop-shadow(0px 1px 2px rgba(0, 0, 0, 0.3));\n",
              "      fill: #FFFFFF;\n",
              "    }\n",
              "  </style>\n",
              "\n",
              "      <script>\n",
              "        const buttonEl =\n",
              "          document.querySelector('#df-0547f913-e2da-4b8d-996d-a6cbd88af121 button.colab-df-convert');\n",
              "        buttonEl.style.display =\n",
              "          google.colab.kernel.accessAllowed ? 'block' : 'none';\n",
              "\n",
              "        async function convertToInteractive(key) {\n",
              "          const element = document.querySelector('#df-0547f913-e2da-4b8d-996d-a6cbd88af121');\n",
              "          const dataTable =\n",
              "            await google.colab.kernel.invokeFunction('convertToInteractive',\n",
              "                                                     [key], {});\n",
              "          if (!dataTable) return;\n",
              "\n",
              "          const docLinkHtml = 'Like what you see? Visit the ' +\n",
              "            '<a target=\"_blank\" href=https://colab.research.google.com/notebooks/data_table.ipynb>data table notebook</a>'\n",
              "            + ' to learn more about interactive tables.';\n",
              "          element.innerHTML = '';\n",
              "          dataTable['output_type'] = 'display_data';\n",
              "          await google.colab.output.renderOutput(dataTable, element);\n",
              "          const docLink = document.createElement('div');\n",
              "          docLink.innerHTML = docLinkHtml;\n",
              "          element.appendChild(docLink);\n",
              "        }\n",
              "      </script>\n",
              "    </div>\n",
              "  </div>\n",
              "  "
            ]
          },
          "metadata": {},
          "execution_count": 188
        }
      ]
    },
    {
      "cell_type": "code",
      "source": [
        "data.info()"
      ],
      "metadata": {
        "id": "Dzg7hGUR_axf",
        "outputId": "8efbebc7-4b27-4509-84a1-6cc99ca5e93e",
        "colab": {
          "base_uri": "https://localhost:8080/"
        }
      },
      "execution_count": null,
      "outputs": [
        {
          "output_type": "stream",
          "name": "stdout",
          "text": [
            "<class 'pandas.core.frame.DataFrame'>\n",
            "RangeIndex: 144 entries, 0 to 143\n",
            "Data columns (total 2 columns):\n",
            " #   Column       Non-Null Count  Dtype \n",
            "---  ------       --------------  ----- \n",
            " 0   Month        144 non-null    object\n",
            " 1   #Passengers  144 non-null    int64 \n",
            "dtypes: int64(1), object(1)\n",
            "memory usage: 2.4+ KB\n"
          ]
        }
      ]
    },
    {
      "cell_type": "code",
      "source": [
        "data.describe()"
      ],
      "metadata": {
        "id": "TvOVccYh_3wy",
        "outputId": "ac6a177f-2f64-4c43-da49-ae908a19c352",
        "colab": {
          "base_uri": "https://localhost:8080/",
          "height": 300
        }
      },
      "execution_count": null,
      "outputs": [
        {
          "output_type": "execute_result",
          "data": {
            "text/plain": [
              "       #Passengers\n",
              "count   144.000000\n",
              "mean    280.298611\n",
              "std     119.966317\n",
              "min     104.000000\n",
              "25%     180.000000\n",
              "50%     265.500000\n",
              "75%     360.500000\n",
              "max     622.000000"
            ],
            "text/html": [
              "\n",
              "  <div id=\"df-1bacd6f4-4a03-4015-911a-c65e86cb9cf7\">\n",
              "    <div class=\"colab-df-container\">\n",
              "      <div>\n",
              "<style scoped>\n",
              "    .dataframe tbody tr th:only-of-type {\n",
              "        vertical-align: middle;\n",
              "    }\n",
              "\n",
              "    .dataframe tbody tr th {\n",
              "        vertical-align: top;\n",
              "    }\n",
              "\n",
              "    .dataframe thead th {\n",
              "        text-align: right;\n",
              "    }\n",
              "</style>\n",
              "<table border=\"1\" class=\"dataframe\">\n",
              "  <thead>\n",
              "    <tr style=\"text-align: right;\">\n",
              "      <th></th>\n",
              "      <th>#Passengers</th>\n",
              "    </tr>\n",
              "  </thead>\n",
              "  <tbody>\n",
              "    <tr>\n",
              "      <th>count</th>\n",
              "      <td>144.000000</td>\n",
              "    </tr>\n",
              "    <tr>\n",
              "      <th>mean</th>\n",
              "      <td>280.298611</td>\n",
              "    </tr>\n",
              "    <tr>\n",
              "      <th>std</th>\n",
              "      <td>119.966317</td>\n",
              "    </tr>\n",
              "    <tr>\n",
              "      <th>min</th>\n",
              "      <td>104.000000</td>\n",
              "    </tr>\n",
              "    <tr>\n",
              "      <th>25%</th>\n",
              "      <td>180.000000</td>\n",
              "    </tr>\n",
              "    <tr>\n",
              "      <th>50%</th>\n",
              "      <td>265.500000</td>\n",
              "    </tr>\n",
              "    <tr>\n",
              "      <th>75%</th>\n",
              "      <td>360.500000</td>\n",
              "    </tr>\n",
              "    <tr>\n",
              "      <th>max</th>\n",
              "      <td>622.000000</td>\n",
              "    </tr>\n",
              "  </tbody>\n",
              "</table>\n",
              "</div>\n",
              "      <button class=\"colab-df-convert\" onclick=\"convertToInteractive('df-1bacd6f4-4a03-4015-911a-c65e86cb9cf7')\"\n",
              "              title=\"Convert this dataframe to an interactive table.\"\n",
              "              style=\"display:none;\">\n",
              "        \n",
              "  <svg xmlns=\"http://www.w3.org/2000/svg\" height=\"24px\"viewBox=\"0 0 24 24\"\n",
              "       width=\"24px\">\n",
              "    <path d=\"M0 0h24v24H0V0z\" fill=\"none\"/>\n",
              "    <path d=\"M18.56 5.44l.94 2.06.94-2.06 2.06-.94-2.06-.94-.94-2.06-.94 2.06-2.06.94zm-11 1L8.5 8.5l.94-2.06 2.06-.94-2.06-.94L8.5 2.5l-.94 2.06-2.06.94zm10 10l.94 2.06.94-2.06 2.06-.94-2.06-.94-.94-2.06-.94 2.06-2.06.94z\"/><path d=\"M17.41 7.96l-1.37-1.37c-.4-.4-.92-.59-1.43-.59-.52 0-1.04.2-1.43.59L10.3 9.45l-7.72 7.72c-.78.78-.78 2.05 0 2.83L4 21.41c.39.39.9.59 1.41.59.51 0 1.02-.2 1.41-.59l7.78-7.78 2.81-2.81c.8-.78.8-2.07 0-2.86zM5.41 20L4 18.59l7.72-7.72 1.47 1.35L5.41 20z\"/>\n",
              "  </svg>\n",
              "      </button>\n",
              "      \n",
              "  <style>\n",
              "    .colab-df-container {\n",
              "      display:flex;\n",
              "      flex-wrap:wrap;\n",
              "      gap: 12px;\n",
              "    }\n",
              "\n",
              "    .colab-df-convert {\n",
              "      background-color: #E8F0FE;\n",
              "      border: none;\n",
              "      border-radius: 50%;\n",
              "      cursor: pointer;\n",
              "      display: none;\n",
              "      fill: #1967D2;\n",
              "      height: 32px;\n",
              "      padding: 0 0 0 0;\n",
              "      width: 32px;\n",
              "    }\n",
              "\n",
              "    .colab-df-convert:hover {\n",
              "      background-color: #E2EBFA;\n",
              "      box-shadow: 0px 1px 2px rgba(60, 64, 67, 0.3), 0px 1px 3px 1px rgba(60, 64, 67, 0.15);\n",
              "      fill: #174EA6;\n",
              "    }\n",
              "\n",
              "    [theme=dark] .colab-df-convert {\n",
              "      background-color: #3B4455;\n",
              "      fill: #D2E3FC;\n",
              "    }\n",
              "\n",
              "    [theme=dark] .colab-df-convert:hover {\n",
              "      background-color: #434B5C;\n",
              "      box-shadow: 0px 1px 3px 1px rgba(0, 0, 0, 0.15);\n",
              "      filter: drop-shadow(0px 1px 2px rgba(0, 0, 0, 0.3));\n",
              "      fill: #FFFFFF;\n",
              "    }\n",
              "  </style>\n",
              "\n",
              "      <script>\n",
              "        const buttonEl =\n",
              "          document.querySelector('#df-1bacd6f4-4a03-4015-911a-c65e86cb9cf7 button.colab-df-convert');\n",
              "        buttonEl.style.display =\n",
              "          google.colab.kernel.accessAllowed ? 'block' : 'none';\n",
              "\n",
              "        async function convertToInteractive(key) {\n",
              "          const element = document.querySelector('#df-1bacd6f4-4a03-4015-911a-c65e86cb9cf7');\n",
              "          const dataTable =\n",
              "            await google.colab.kernel.invokeFunction('convertToInteractive',\n",
              "                                                     [key], {});\n",
              "          if (!dataTable) return;\n",
              "\n",
              "          const docLinkHtml = 'Like what you see? Visit the ' +\n",
              "            '<a target=\"_blank\" href=https://colab.research.google.com/notebooks/data_table.ipynb>data table notebook</a>'\n",
              "            + ' to learn more about interactive tables.';\n",
              "          element.innerHTML = '';\n",
              "          dataTable['output_type'] = 'display_data';\n",
              "          await google.colab.output.renderOutput(dataTable, element);\n",
              "          const docLink = document.createElement('div');\n",
              "          docLink.innerHTML = docLinkHtml;\n",
              "          element.appendChild(docLink);\n",
              "        }\n",
              "      </script>\n",
              "    </div>\n",
              "  </div>\n",
              "  "
            ]
          },
          "metadata": {},
          "execution_count": 24
        }
      ]
    },
    {
      "cell_type": "code",
      "source": [
        "data.rename(columns={'#Passengers':'passengers'},inplace=True)\n",
        "data = data['passengers']\n",
        "data=np.array(data).reshape(-1,1)"
      ],
      "metadata": {
        "id": "7OGah7AB9a6O"
      },
      "execution_count": 189,
      "outputs": []
    },
    {
      "cell_type": "code",
      "source": [
        "plt.figure(figsize=(15,8))\n",
        "plt.plot(data)"
      ],
      "metadata": {
        "id": "1brMl2Yy9nLu",
        "outputId": "1cb6007e-d485-4460-b3ea-de0a153ec7ca",
        "colab": {
          "base_uri": "https://localhost:8080/",
          "height": 500
        }
      },
      "execution_count": 127,
      "outputs": [
        {
          "output_type": "execute_result",
          "data": {
            "text/plain": [
              "[<matplotlib.lines.Line2D at 0x7f1eec61b790>]"
            ]
          },
          "metadata": {},
          "execution_count": 127
        },
        {
          "output_type": "display_data",
          "data": {
            "text/plain": [
              "<Figure size 1080x576 with 1 Axes>"
            ],
            "image/png": "[encoded data removed]"
          },
          "metadata": {
            "needs_background": "light"
          }
        }
      ]
    },
    {
      "cell_type": "code",
      "source": [
        ""
      ],
      "metadata": {
        "id": "Fw30Xe37AAlI"
      },
      "execution_count": null,
      "outputs": []
    },
    {
      "cell_type": "markdown",
      "source": [
        "**Feature** **Scaling**"
      ],
      "metadata": {
        "id": "BLqAUaCxADIi"
      }
    },
    {
      "cell_type": "code",
      "source": [
        "scaler= MinMaxScaler()\n",
        "data=scaler.fit_transform(data)"
      ],
      "metadata": {
        "id": "8Gd479hLAK99"
      },
      "execution_count": 190,
      "outputs": []
    },
    {
      "cell_type": "code",
      "source": [
        "train_size = int(len(data)*0.50)\n",
        "test_size = len(data) - train_size\n",
        "train = data[0:train_size,:]\n",
        "test = data[train_size:len(data),:]\n",
        "print('train_size : {}, test_size : {}'.format(len(train),len(test)))"
      ],
      "metadata": {
        "id": "zlmtqgZpAXMC",
        "outputId": "f0af40a8-4696-403d-fc14-8c97553b495f",
        "colab": {
          "base_uri": "https://localhost:8080/"
        }
      },
      "execution_count": 191,
      "outputs": [
        {
          "output_type": "stream",
          "name": "stdout",
          "text": [
            "train_size : 72, test_size : 72\n"
          ]
        }
      ]
    },
    {
      "cell_type": "code",
      "source": [
        "train=data[0:train_size,:]\n",
        "test=data[train_size:,:]"
      ],
      "metadata": {
        "id": "H42G_wDsAcsB"
      },
      "execution_count": 173,
      "outputs": []
    },
    {
      "cell_type": "code",
      "source": [
        "train.shape"
      ],
      "metadata": {
        "id": "tk-hjTMQAdSM",
        "outputId": "b35edb22-22ae-45fc-f9c1-cd04cba9251c",
        "colab": {
          "base_uri": "https://localhost:8080/"
        }
      },
      "execution_count": 131,
      "outputs": [
        {
          "output_type": "execute_result",
          "data": {
            "text/plain": [
              "(100, 1)"
            ]
          },
          "metadata": {},
          "execution_count": 131
        }
      ]
    },
    {
      "cell_type": "code",
      "source": [
        "test.shape"
      ],
      "metadata": {
        "id": "zmZzL1ZHAdZK",
        "outputId": "857ab7b8-cac2-46dd-acf7-e02b0fe5ac4b",
        "colab": {
          "base_uri": "https://localhost:8080/"
        }
      },
      "execution_count": 132,
      "outputs": [
        {
          "output_type": "execute_result",
          "data": {
            "text/plain": [
              "(44, 1)"
            ]
          },
          "metadata": {},
          "execution_count": 132
        }
      ]
    },
    {
      "cell_type": "code",
      "source": [
        "def get_data(data, look_back):\n",
        "    dataX, dataY = [], []\n",
        "    for i in range(len(data)-look_back-1):\n",
        "        a = data[i:(i+look_back), 0]\n",
        "        dataX.append(a)\n",
        "        dataY.append(data[i+look_back, 0])\n",
        "    return np.array(dataX), np.array(dataY)"
      ],
      "metadata": {
        "id": "PoDDRoORAwwb"
      },
      "execution_count": 192,
      "outputs": []
    },
    {
      "cell_type": "code",
      "source": [
        "look_back = 10\n",
        "X_train, y_train = get_data(train, look_back)"
      ],
      "metadata": {
        "id": "OOIisZA9A0sm"
      },
      "execution_count": 208,
      "outputs": []
    },
    {
      "cell_type": "code",
      "source": [
        "X_test, y_test = get_data(test, look_back)"
      ],
      "metadata": {
        "id": "XpmAsgTUBlyG"
      },
      "execution_count": 209,
      "outputs": []
    },
    {
      "cell_type": "code",
      "source": [
        "X_train = np.reshape(X_train,(X_train.shape[0],1,X_train.shape[1]))\n",
        "X_test = np.reshape(X_test,(X_test.shape[0],1,X_test.shape[1]))"
      ],
      "metadata": {
        "id": "PoW4r2k8BmZO"
      },
      "execution_count": 210,
      "outputs": []
    },
    {
      "cell_type": "code",
      "source": [
        ""
      ],
      "metadata": {
        "id": "y8aEZsSNQOui"
      },
      "execution_count": null,
      "outputs": []
    },
    {
      "cell_type": "code",
      "source": [
        "X_train.shape"
      ],
      "metadata": {
        "id": "AFWqJiP0BmhK",
        "outputId": "f8c88e71-c080-4672-9dd9-9db9c60be629",
        "colab": {
          "base_uri": "https://localhost:8080/"
        }
      },
      "execution_count": 211,
      "outputs": [
        {
          "output_type": "execute_result",
          "data": {
            "text/plain": [
              "(61, 1, 10)"
            ]
          },
          "metadata": {},
          "execution_count": 211
        }
      ]
    },
    {
      "cell_type": "code",
      "source": [
        "97 = No of samples\n",
        "1 = feature\n",
        "2 = time steps\n"
      ],
      "metadata": {
        "id": "sAR5K3xFEHQo"
      },
      "execution_count": null,
      "outputs": []
    },
    {
      "cell_type": "code",
      "source": [
        "look_back"
      ],
      "metadata": {
        "id": "BBBmP45uESFn",
        "outputId": "5f8d3eda-9b0e-41b1-8488-f8e368be2c84",
        "colab": {
          "base_uri": "https://localhost:8080/"
        }
      },
      "execution_count": null,
      "outputs": [
        {
          "output_type": "execute_result",
          "data": {
            "text/plain": [
              "2"
            ]
          },
          "metadata": {},
          "execution_count": 52
        }
      ]
    },
    {
      "cell_type": "markdown",
      "source": [
        "**LSTM**"
      ],
      "metadata": {
        "id": "1Ys8SYOGETIh"
      }
    },
    {
      "cell_type": "code",
      "source": [
        "model = Sequential()\n",
        "model.add(LSTM(10, input_shape = (1, look_back)))\n",
        "model.add(Dense(1))\n",
        "model.compile(loss = 'mean_squared_error', optimizer = 'adam')"
      ],
      "metadata": {
        "id": "6gp55yuYEWqe"
      },
      "execution_count": 212,
      "outputs": []
    },
    {
      "cell_type": "code",
      "source": [
        "model.summary()"
      ],
      "metadata": {
        "id": "ZjAEi0p7Elhr",
        "outputId": "cb2ccff4-4c06-439c-e21f-fee536b60ba3",
        "colab": {
          "base_uri": "https://localhost:8080/"
        }
      },
      "execution_count": 198,
      "outputs": [
        {
          "output_type": "stream",
          "name": "stdout",
          "text": [
            "Model: \"sequential_12\"\n",
            "_________________________________________________________________\n",
            " Layer (type)                Output Shape              Param #   \n",
            "=================================================================\n",
            " lstm_12 (LSTM)              (None, 10)                840       \n",
            "                                                                 \n",
            " dense_12 (Dense)            (None, 1)                 11        \n",
            "                                                                 \n",
            "=================================================================\n",
            "Total params: 851\n",
            "Trainable params: 851\n",
            "Non-trainable params: 0\n",
            "_________________________________________________________________\n"
          ]
        }
      ]
    },
    {
      "cell_type": "code",
      "source": [
        "model.fit(X_train, y_train, epochs=50, batch_size=1)"
      ],
      "metadata": {
        "id": "jdR4gSPKEtym",
        "outputId": "a6e80e18-9dcf-42ed-dfe9-32cf6fbf6423",
        "colab": {
          "base_uri": "https://localhost:8080/"
        }
      },
      "execution_count": 213,
      "outputs": [
        {
          "output_type": "stream",
          "name": "stdout",
          "text": [
            "Epoch 1/50\n",
            "61/61 [==============================] - 1s 2ms/step - loss: 0.0291\n",
            "Epoch 2/50\n",
            "61/61 [==============================] - 0s 2ms/step - loss: 0.0064\n",
            "Epoch 3/50\n",
            "61/61 [==============================] - 0s 2ms/step - loss: 0.0049\n",
            "Epoch 4/50\n",
            "61/61 [==============================] - 0s 2ms/step - loss: 0.0044\n",
            "Epoch 5/50\n",
            "61/61 [==============================] - 0s 2ms/step - loss: 0.0041\n",
            "Epoch 6/50\n",
            "61/61 [==============================] - 0s 2ms/step - loss: 0.0037\n",
            "Epoch 7/50\n",
            "61/61 [==============================] - 0s 2ms/step - loss: 0.0035\n",
            "Epoch 8/50\n",
            "61/61 [==============================] - 0s 2ms/step - loss: 0.0034\n",
            "Epoch 9/50\n",
            "61/61 [==============================] - 0s 2ms/step - loss: 0.0031\n",
            "Epoch 10/50\n",
            "61/61 [==============================] - 0s 2ms/step - loss: 0.0030\n",
            "Epoch 11/50\n",
            "61/61 [==============================] - 0s 2ms/step - loss: 0.0029\n",
            "Epoch 12/50\n",
            "61/61 [==============================] - 0s 2ms/step - loss: 0.0027\n",
            "Epoch 13/50\n",
            "61/61 [==============================] - 0s 2ms/step - loss: 0.0026\n",
            "Epoch 14/50\n",
            "61/61 [==============================] - 0s 2ms/step - loss: 0.0025\n",
            "Epoch 15/50\n",
            "61/61 [==============================] - 0s 2ms/step - loss: 0.0024\n",
            "Epoch 16/50\n",
            "61/61 [==============================] - 0s 2ms/step - loss: 0.0025\n",
            "Epoch 17/50\n",
            "61/61 [==============================] - 0s 2ms/step - loss: 0.0023\n",
            "Epoch 18/50\n",
            "61/61 [==============================] - 0s 2ms/step - loss: 0.0022\n",
            "Epoch 19/50\n",
            "61/61 [==============================] - 0s 2ms/step - loss: 0.0021\n",
            "Epoch 20/50\n",
            "61/61 [==============================] - 0s 2ms/step - loss: 0.0020\n",
            "Epoch 21/50\n",
            "61/61 [==============================] - 0s 2ms/step - loss: 0.0021\n",
            "Epoch 22/50\n",
            "61/61 [==============================] - 0s 2ms/step - loss: 0.0019\n",
            "Epoch 23/50\n",
            "61/61 [==============================] - 0s 2ms/step - loss: 0.0020\n",
            "Epoch 24/50\n",
            "61/61 [==============================] - 0s 2ms/step - loss: 0.0019\n",
            "Epoch 25/50\n",
            "61/61 [==============================] - 0s 2ms/step - loss: 0.0019\n",
            "Epoch 26/50\n",
            "61/61 [==============================] - 0s 2ms/step - loss: 0.0017\n",
            "Epoch 27/50\n",
            "61/61 [==============================] - 0s 2ms/step - loss: 0.0017\n",
            "Epoch 28/50\n",
            "61/61 [==============================] - 0s 2ms/step - loss: 0.0016\n",
            "Epoch 29/50\n",
            "61/61 [==============================] - 0s 2ms/step - loss: 0.0015\n",
            "Epoch 30/50\n",
            "61/61 [==============================] - 0s 2ms/step - loss: 0.0015\n",
            "Epoch 31/50\n",
            "61/61 [==============================] - 0s 2ms/step - loss: 0.0014\n",
            "Epoch 32/50\n",
            "61/61 [==============================] - 0s 2ms/step - loss: 0.0015\n",
            "Epoch 33/50\n",
            "61/61 [==============================] - 0s 2ms/step - loss: 0.0013\n",
            "Epoch 34/50\n",
            "61/61 [==============================] - 0s 2ms/step - loss: 0.0014\n",
            "Epoch 35/50\n",
            "61/61 [==============================] - 0s 2ms/step - loss: 0.0013\n",
            "Epoch 36/50\n",
            "61/61 [==============================] - 0s 2ms/step - loss: 0.0013\n",
            "Epoch 37/50\n",
            "61/61 [==============================] - 0s 2ms/step - loss: 0.0014\n",
            "Epoch 38/50\n",
            "61/61 [==============================] - 0s 2ms/step - loss: 0.0013\n",
            "Epoch 39/50\n",
            "61/61 [==============================] - 0s 2ms/step - loss: 0.0012\n",
            "Epoch 40/50\n",
            "61/61 [==============================] - 0s 2ms/step - loss: 0.0012\n",
            "Epoch 41/50\n",
            "61/61 [==============================] - 0s 2ms/step - loss: 0.0012\n",
            "Epoch 42/50\n",
            "61/61 [==============================] - 0s 2ms/step - loss: 0.0011\n",
            "Epoch 43/50\n",
            "61/61 [==============================] - 0s 2ms/step - loss: 0.0011\n",
            "Epoch 44/50\n",
            "61/61 [==============================] - 0s 2ms/step - loss: 0.0011\n",
            "Epoch 45/50\n",
            "61/61 [==============================] - 0s 2ms/step - loss: 0.0011\n",
            "Epoch 46/50\n",
            "61/61 [==============================] - 0s 2ms/step - loss: 0.0012\n",
            "Epoch 47/50\n",
            "61/61 [==============================] - 0s 2ms/step - loss: 0.0011\n",
            "Epoch 48/50\n",
            "61/61 [==============================] - 0s 2ms/step - loss: 0.0011\n",
            "Epoch 49/50\n",
            "61/61 [==============================] - 0s 2ms/step - loss: 0.0011\n",
            "Epoch 50/50\n",
            "61/61 [==============================] - 0s 2ms/step - loss: 0.0012\n"
          ]
        },
        {
          "output_type": "execute_result",
          "data": {
            "text/plain": [
              "<keras.callbacks.History at 0x7f1eeafc3c90>"
            ]
          },
          "metadata": {},
          "execution_count": 213
        }
      ]
    },
    {
      "cell_type": "code",
      "source": [
        "y_pred = model.predict(X_test)"
      ],
      "metadata": {
        "id": "H7RoBZo2FiIe"
      },
      "execution_count": 214,
      "outputs": []
    },
    {
      "cell_type": "code",
      "source": [
        "scaler.scale_"
      ],
      "metadata": {
        "id": "F1dg1BkRFlcc",
        "outputId": "cb930522-18a7-4ad4-f570-b2d5d01bf906",
        "colab": {
          "base_uri": "https://localhost:8080/"
        }
      },
      "execution_count": 215,
      "outputs": [
        {
          "output_type": "execute_result",
          "data": {
            "text/plain": [
              "array([0.0019305])"
            ]
          },
          "metadata": {},
          "execution_count": 215
        }
      ]
    },
    {
      "cell_type": "code",
      "source": [
        "y_pred = scaler.inverse_transform(y_pred)"
      ],
      "metadata": {
        "id": "YDA9oy3AFosb"
      },
      "execution_count": 216,
      "outputs": []
    },
    {
      "cell_type": "code",
      "source": [
        "y_test = y_test.reshape(-1, 1)\n",
        "y_test = scaler.inverse_transform(y_test)"
      ],
      "metadata": {
        "id": "E5MAODYSFvGB"
      },
      "execution_count": 217,
      "outputs": []
    },
    {
      "cell_type": "code",
      "source": [
        "# plot baseline and predictions\n",
        "plt.figure(figsize=(14,5))\n",
        "plt.plot(y_test, label = 'real number of passengers')\n",
        "plt.plot(y_pred, label = 'predicted number of passengers')\n",
        "plt.ylabel('# passengers')\n",
        "plt.legend()\n",
        "plt.show()"
      ],
      "metadata": {
        "id": "w8XF2uVlFxjp",
        "outputId": "f9e53120-df1c-4bdd-8e33-29aacdcfeb95",
        "colab": {
          "base_uri": "https://localhost:8080/",
          "height": 320
        }
      },
      "execution_count": 218,
      "outputs": [
        {
          "output_type": "display_data",
          "data": {
            "text/plain": [
              "<Figure size 1008x360 with 1 Axes>"
            ],
            "image/png": "[encoded data removed]"
          },
          "metadata": {
            "needs_background": "light"
          }
        }
      ]
    },
    {
      "cell_type": "code",
      "source": [
        "testScore = math.sqrt(mean_squared_error(y_test, y_pred[:,0]))\n",
        "print('Test Score: %.2f RMSE' % (testScore))"
      ],
      "metadata": {
        "id": "4USCzXKdLh5p",
        "outputId": "c567934e-999b-4489-9d9f-413e9b0c3e34",
        "colab": {
          "base_uri": "https://localhost:8080/"
        }
      },
      "execution_count": 219,
      "outputs": [
        {
          "output_type": "stream",
          "name": "stdout",
          "text": [
            "Test Score: 39.37 RMSE\n"
          ]
        }
      ]
    },
    {
      "cell_type": "code",
      "source": [
        ""
      ],
      "metadata": {
        "id": "s-BCZFROORGL"
      },
      "execution_count": null,
      "outputs": []
    },
    {
      "cell_type": "code",
      "source": [
        ""
      ],
      "metadata": {
        "id": "WbZLZJLlQrqd"
      },
      "execution_count": null,
      "outputs": []
    },
    {
      "cell_type": "code",
      "source": [
        ""
      ],
      "metadata": {
        "id": "jd8Ai7CKQr3m"
      },
      "execution_count": null,
      "outputs": []
    },
    {
      "cell_type": "code",
      "source": [
        ""
      ],
      "metadata": {
        "id": "4wjeUWYsQsE6"
      },
      "execution_count": null,
      "outputs": []
    },
    {
      "cell_type": "code",
      "source": [
        ""
      ],
      "metadata": {
        "id": "Z3xFZpkcQsTT"
      },
      "execution_count": null,
      "outputs": []
    },
    {
      "cell_type": "code",
      "source": [
        "data = pd.read_csv('Machine-Learning/AirPassengers.csv')\n",
        "data.head()\n",
        "data.rename(columns={'#Passengers':'passengers'},inplace=True)\n",
        "data = data['passengers']\n",
        "data=np.array(data).reshape(-1,1)"
      ],
      "metadata": {
        "id": "iijOZR6mOmxq"
      },
      "execution_count": 202,
      "outputs": []
    },
    {
      "cell_type": "code",
      "source": [
        "scaler= MinMaxScaler()\n",
        "data=scaler.fit_transform(data)"
      ],
      "metadata": {
        "id": "p7X9pzCHNPAv"
      },
      "execution_count": 203,
      "outputs": []
    },
    {
      "cell_type": "code",
      "source": [
        "train_size = int(len(data)*0.50)\n",
        "test_size = len(data) - train_size\n",
        "train = data[0:train_size,:]\n",
        "test = data[train_size:len(data),:]\n",
        "print('train_size : {}, test_size : {}'.format(len(train),len(test)))"
      ],
      "metadata": {
        "id": "HgWhqUy9K05L",
        "outputId": "8896d691-71de-4b32-8ccb-e6235a6d012f",
        "colab": {
          "base_uri": "https://localhost:8080/"
        }
      },
      "execution_count": 204,
      "outputs": [
        {
          "output_type": "stream",
          "name": "stdout",
          "text": [
            "train_size : 72, test_size : 72\n"
          ]
        }
      ]
    },
    {
      "cell_type": "code",
      "source": [
        "timestamp=10\n",
        "dataX = []\n",
        "dataY = []\n",
        "for i in range(len(train)-timestamp-1):\n",
        "    a = train[i:(i+timestamp),0]\n",
        "    dataX.append(a)\n",
        "    dataY.append(train[i+timestamp,0])\n",
        "trainX = np.array(dataX)\n",
        "trainY = np.array(dataY)\n",
        "\n",
        "timestep=10\n",
        "dataX = []\n",
        "dataY = []\n",
        "for i in range(len(test)-timestamp-1):\n",
        "    a = test[i:(i+timestamp),0]\n",
        "    dataX.append(a)\n",
        "    dataY.append(test[i+timestamp,0])\n",
        "testX = np.array(dataX)\n",
        "testY = np.array(dataY)\n",
        "\n",
        "trainX = np.reshape(trainX,(trainX.shape[0],1,trainX.shape[1]))\n",
        "testX = np.reshape(testX,(testX.shape[0],1,testX.shape[1]))"
      ],
      "metadata": {
        "id": "vynQ1xNYLUhc"
      },
      "execution_count": 205,
      "outputs": []
    },
    {
      "cell_type": "code",
      "source": [
        "trainX.shape"
      ],
      "metadata": {
        "id": "cdYkW-y3P8--",
        "outputId": "e461194d-e885-435a-8fab-5fe175fe7652",
        "colab": {
          "base_uri": "https://localhost:8080/"
        }
      },
      "execution_count": 207,
      "outputs": [
        {
          "output_type": "execute_result",
          "data": {
            "text/plain": [
              "(61, 1, 10)"
            ]
          },
          "metadata": {},
          "execution_count": 207
        }
      ]
    },
    {
      "cell_type": "code",
      "source": [
        "# model\n",
        "model = Sequential()\n",
        "model.add(LSTM(10, input_shape=(1, timestamp))) # 10 lstm neuron(block)\n",
        "model.add(Dense(1))\n",
        "model.compile(loss='mean_squared_error', optimizer='adam')\n",
        "model.fit(trainX, trainY, epochs=50, batch_size=1)"
      ],
      "metadata": {
        "id": "FB3gS9_BLUwa",
        "outputId": "4d76d024-0172-4083-db9b-c5fc9f0a82c0",
        "colab": {
          "base_uri": "https://localhost:8080/"
        }
      },
      "execution_count": 166,
      "outputs": [
        {
          "output_type": "stream",
          "name": "stdout",
          "text": [
            "Epoch 1/50\n",
            "61/61 [==============================] - 1s 2ms/step - loss: 0.0086\n",
            "Epoch 2/50\n",
            "61/61 [==============================] - 0s 2ms/step - loss: 0.0037\n",
            "Epoch 3/50\n",
            "61/61 [==============================] - 0s 2ms/step - loss: 0.0035\n",
            "Epoch 4/50\n",
            "61/61 [==============================] - 0s 2ms/step - loss: 0.0034\n",
            "Epoch 5/50\n",
            "61/61 [==============================] - 0s 2ms/step - loss: 0.0032\n",
            "Epoch 6/50\n",
            "61/61 [==============================] - 0s 2ms/step - loss: 0.0031\n",
            "Epoch 7/50\n",
            "61/61 [==============================] - 0s 2ms/step - loss: 0.0031\n",
            "Epoch 8/50\n",
            "61/61 [==============================] - 0s 2ms/step - loss: 0.0029\n",
            "Epoch 9/50\n",
            "61/61 [==============================] - 0s 2ms/step - loss: 0.0028\n",
            "Epoch 10/50\n",
            "61/61 [==============================] - 0s 2ms/step - loss: 0.0028\n",
            "Epoch 11/50\n",
            "61/61 [==============================] - 0s 2ms/step - loss: 0.0026\n",
            "Epoch 12/50\n",
            "61/61 [==============================] - 0s 2ms/step - loss: 0.0026\n",
            "Epoch 13/50\n",
            "61/61 [==============================] - 0s 2ms/step - loss: 0.0025\n",
            "Epoch 14/50\n",
            "61/61 [==============================] - 0s 2ms/step - loss: 0.0025\n",
            "Epoch 15/50\n",
            "61/61 [==============================] - 0s 2ms/step - loss: 0.0024\n",
            "Epoch 16/50\n",
            "61/61 [==============================] - 0s 2ms/step - loss: 0.0023\n",
            "Epoch 17/50\n",
            "61/61 [==============================] - 0s 2ms/step - loss: 0.0024\n",
            "Epoch 18/50\n",
            "61/61 [==============================] - 0s 2ms/step - loss: 0.0023\n",
            "Epoch 19/50\n",
            "61/61 [==============================] - 0s 2ms/step - loss: 0.0021\n",
            "Epoch 20/50\n",
            "61/61 [==============================] - 0s 2ms/step - loss: 0.0021\n",
            "Epoch 21/50\n",
            "61/61 [==============================] - 0s 4ms/step - loss: 0.0022\n",
            "Epoch 22/50\n",
            "61/61 [==============================] - 0s 3ms/step - loss: 0.0019\n",
            "Epoch 23/50\n",
            "61/61 [==============================] - 0s 2ms/step - loss: 0.0019\n",
            "Epoch 24/50\n",
            "61/61 [==============================] - 0s 2ms/step - loss: 0.0019\n",
            "Epoch 25/50\n",
            "61/61 [==============================] - 0s 2ms/step - loss: 0.0018\n",
            "Epoch 26/50\n",
            "61/61 [==============================] - 0s 2ms/step - loss: 0.0018\n",
            "Epoch 27/50\n",
            "61/61 [==============================] - 0s 2ms/step - loss: 0.0018\n",
            "Epoch 28/50\n",
            "61/61 [==============================] - 0s 2ms/step - loss: 0.0019\n",
            "Epoch 29/50\n",
            "61/61 [==============================] - 0s 2ms/step - loss: 0.0018\n",
            "Epoch 30/50\n",
            "61/61 [==============================] - 0s 2ms/step - loss: 0.0017\n",
            "Epoch 31/50\n",
            "61/61 [==============================] - 0s 2ms/step - loss: 0.0017\n",
            "Epoch 32/50\n",
            "61/61 [==============================] - 0s 2ms/step - loss: 0.0016\n",
            "Epoch 33/50\n",
            "61/61 [==============================] - 0s 2ms/step - loss: 0.0016\n",
            "Epoch 34/50\n",
            "61/61 [==============================] - 0s 2ms/step - loss: 0.0016\n",
            "Epoch 35/50\n",
            "61/61 [==============================] - 0s 2ms/step - loss: 0.0016\n",
            "Epoch 36/50\n",
            "61/61 [==============================] - 0s 2ms/step - loss: 0.0015\n",
            "Epoch 37/50\n",
            "61/61 [==============================] - 0s 2ms/step - loss: 0.0015\n",
            "Epoch 38/50\n",
            "61/61 [==============================] - 0s 2ms/step - loss: 0.0016\n",
            "Epoch 39/50\n",
            "61/61 [==============================] - 0s 2ms/step - loss: 0.0015\n",
            "Epoch 40/50\n",
            "61/61 [==============================] - 0s 2ms/step - loss: 0.0014\n",
            "Epoch 41/50\n",
            "61/61 [==============================] - 0s 2ms/step - loss: 0.0015\n",
            "Epoch 42/50\n",
            "61/61 [==============================] - 0s 2ms/step - loss: 0.0013\n",
            "Epoch 43/50\n",
            "61/61 [==============================] - 0s 2ms/step - loss: 0.0013\n",
            "Epoch 44/50\n",
            "61/61 [==============================] - 0s 2ms/step - loss: 0.0014\n",
            "Epoch 45/50\n",
            "61/61 [==============================] - 0s 2ms/step - loss: 0.0014\n",
            "Epoch 46/50\n",
            "61/61 [==============================] - 0s 2ms/step - loss: 0.0013\n",
            "Epoch 47/50\n",
            "61/61 [==============================] - 0s 2ms/step - loss: 0.0013\n",
            "Epoch 48/50\n",
            "61/61 [==============================] - 0s 2ms/step - loss: 0.0013\n",
            "Epoch 49/50\n",
            "61/61 [==============================] - 0s 2ms/step - loss: 0.0013\n",
            "Epoch 50/50\n",
            "61/61 [==============================] - 0s 2ms/step - loss: 0.0013\n"
          ]
        },
        {
          "output_type": "execute_result",
          "data": {
            "text/plain": [
              "<keras.callbacks.History at 0x7f1ee9607790>"
            ]
          },
          "metadata": {},
          "execution_count": 166
        }
      ]
    },
    {
      "cell_type": "code",
      "source": [
        "trainPredict = model.predict(trainX)\n",
        "testPredict = model.predict(testX)\n",
        "\n",
        "trainPredict = scaler.inverse_transform(trainPredict)\n",
        "trainY = scaler.inverse_transform([trainY])\n",
        "testPredict = scaler.inverse_transform(testPredict)\n",
        "testY = scaler.inverse_transform([testY])\n",
        "\n",
        "trainScore = math.sqrt(mean_squared_error(trainY[0], trainPredict[:,0]))\n",
        "print('Train Score: %.2f RMSE' % (trainScore))\n",
        "testScore = math.sqrt(mean_squared_error(testY[0], testPredict[:,0]))\n",
        "print('Test Score: %.2f RMSE' % (testScore))"
      ],
      "metadata": {
        "id": "ramI98gvLU91",
        "outputId": "3917cbef-3550-42d9-bb89-13ab90f90c88",
        "colab": {
          "base_uri": "https://localhost:8080/"
        }
      },
      "execution_count": 167,
      "outputs": [
        {
          "output_type": "stream",
          "name": "stdout",
          "text": [
            "Train Score: 17.84 RMSE\n",
            "Test Score: 39.65 RMSE\n"
          ]
        }
      ]
    },
    {
      "cell_type": "code",
      "source": [
        "trainPredict = model.predict(trainX)\n",
        "testPredict = model.predict(testX)"
      ],
      "metadata": {
        "id": "_fCXiAy3N0tK"
      },
      "execution_count": 156,
      "outputs": []
    },
    {
      "cell_type": "code",
      "source": [
        "testPredict = scaler.inverse_transform(testPredict)"
      ],
      "metadata": {
        "id": "RyqPiwCdNvOu"
      },
      "execution_count": 158,
      "outputs": []
    },
    {
      "cell_type": "code",
      "source": [
        "testPredict"
      ],
      "metadata": {
        "id": "tF3nWiaUNnzV",
        "outputId": "decebe26-6307-484e-da8e-f9b839a7436f",
        "colab": {
          "base_uri": "https://localhost:8080/"
        }
      },
      "execution_count": 159,
      "outputs": [
        {
          "output_type": "execute_result",
          "data": {
            "text/plain": [
              "array([[0.3155898 ],\n",
              "       [0.24483618],\n",
              "       [0.34458295],\n",
              "       [0.3764259 ],\n",
              "       [0.34656775],\n",
              "       [0.45234358],\n",
              "       [0.5084677 ],\n",
              "       [0.4904091 ],\n",
              "       [0.5605159 ],\n",
              "       [0.5933876 ],\n",
              "       [0.53225046],\n",
              "       [0.47791538],\n",
              "       [0.37983462],\n",
              "       [0.31523138],\n",
              "       [0.42286348],\n",
              "       [0.4511436 ],\n",
              "       [0.41778785],\n",
              "       [0.55814964],\n",
              "       [0.60959935],\n",
              "       [0.5988079 ],\n",
              "       [0.6747466 ],\n",
              "       [0.70747656],\n",
              "       [0.6588619 ],\n",
              "       [0.5769648 ],\n",
              "       [0.45154965],\n",
              "       [0.36907166],\n",
              "       [0.4918745 ],\n",
              "       [0.50950694],\n",
              "       [0.46405768],\n",
              "       [0.5980761 ],\n",
              "       [0.647909  ],\n",
              "       [0.66300833],\n",
              "       [0.7415114 ],\n",
              "       [0.78805983],\n",
              "       [0.75673103],\n",
              "       [0.6036637 ],\n",
              "       [0.47648618],\n",
              "       [0.39346966],\n",
              "       [0.491371  ],\n",
              "       [0.5376155 ],\n",
              "       [0.51216614],\n",
              "       [0.6749476 ],\n",
              "       [0.7597022 ],\n",
              "       [0.7902031 ],\n",
              "       [0.8011343 ],\n",
              "       [0.882555  ],\n",
              "       [0.8466392 ],\n",
              "       [0.6850386 ],\n",
              "       [0.5507361 ],\n",
              "       [0.47410744],\n",
              "       [0.62357956],\n",
              "       [0.6692365 ],\n",
              "       [0.62419266],\n",
              "       [0.70880467],\n",
              "       [0.8936444 ],\n",
              "       [0.93405473],\n",
              "       [0.9448925 ],\n",
              "       [1.0358218 ],\n",
              "       [0.9583532 ],\n",
              "       [0.78802216],\n",
              "       [0.67726696]], dtype=float32)"
            ]
          },
          "metadata": {},
          "execution_count": 159
        }
      ]
    },
    {
      "cell_type": "code",
      "source": [
        "trainPredictPlot = np.empty_like(data)\n",
        "trainPredictPlot[:, :] = np.nan\n",
        "trainPredictPlot[timestamp:len(trainPredict)+timestamp, :] = trainPredict\n",
        "\n",
        "testPredictPlot = np.empty_like(data)\n",
        "testPredictPlot[:, :] = np.nan\n",
        "testPredictPlot[len(trainPredict)+(timestamp*2)+1:len(data)-1, :] = testPredict\n",
        "\n",
        "plt.plot(scaler.inverse_transform(data))\n",
        "plt.plot(trainPredictPlot)\n",
        "plt.plot(testPredictPlot)\n",
        "plt.show()"
      ],
      "metadata": {
        "id": "uwd_oex9LVMi",
        "outputId": "7e7b3515-5284-4cc1-e6ee-f8e33cb7ec3f",
        "colab": {
          "base_uri": "https://localhost:8080/",
          "height": 265
        }
      },
      "execution_count": 168,
      "outputs": [
        {
          "output_type": "display_data",
          "data": {
            "text/plain": [
              "<Figure size 432x288 with 1 Axes>"
            ],
            "image/png": "[encoded data removed]"
          },
          "metadata": {
            "needs_background": "light"
          }
        }
      ]
    }
  ]
}