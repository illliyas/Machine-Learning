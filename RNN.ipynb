{
  "nbformat": 4,
  "nbformat_minor": 0,
  "metadata": {
    "colab": {
      "name": "RNN.ipynb",
      "provenance": [],
      "authorship_tag": "ABX9TyPHR8q3A/4WelNRgJeUFWcS"
    },
    "kernelspec": {
      "name": "python3",
      "display_name": "Python 3"
    },
    "language_info": {
      "name": "python"
    }
  },
  "cells": [
    {
      "cell_type": "code",
      "execution_count": 8,
      "metadata": {
        "id": "61ePRnyT8iqv"
      },
      "outputs": [],
      "source": [
        "import numpy as np\n",
        "import pandas as pd\n",
        "import matplotlib.pyplot as plt\n",
        "import seaborn as sns\n",
        "import tensorflow as tf\n",
        "from tensorflow.keras.models import Sequential\n",
        "from tensorflow.keras.layers import Dense,LSTM\n",
        "from sklearn.preprocessing import MinMaxScaler"
      ]
    },
    {
      "cell_type": "code",
      "source": [
        "!git clone https://github.com/illliyas/Machine-Learning.git"
      ],
      "metadata": {
        "id": "4uz_XhUu8bTD",
        "outputId": "1eb189eb-d7a8-4e2b-86cd-ac01976c9df0",
        "colab": {
          "base_uri": "https://localhost:8080/"
        }
      },
      "execution_count": 2,
      "outputs": [
        {
          "output_type": "stream",
          "name": "stdout",
          "text": [
            "Cloning into 'Machine-Learning'...\n",
            "remote: Enumerating objects: 1613, done.\u001b[K\n",
            "remote: Counting objects: 100% (30/30), done.\u001b[K\n",
            "remote: Compressing objects: 100% (30/30), done.\u001b[K\n",
            "remote: Total 1613 (delta 15), reused 0 (delta 0), pack-reused 1583\u001b[K\n",
            "Receiving objects: 100% (1613/1613), 278.13 MiB | 25.61 MiB/s, done.\n",
            "Resolving deltas: 100% (39/39), done.\n",
            "Checking out files: 100% (1537/1537), done.\n"
          ]
        }
      ]
    },
    {
      "cell_type": "code",
      "source": [
        "data = pd.read_csv('Machine-Learning/AirPassengers.csv')\n",
        "data.head()"
      ],
      "metadata": {
        "id": "bmw50Wx-9Qb4",
        "outputId": "34a47bff-5e0d-42f0-d052-1923533a6e03",
        "colab": {
          "base_uri": "https://localhost:8080/",
          "height": 206
        }
      },
      "execution_count": 22,
      "outputs": [
        {
          "output_type": "execute_result",
          "data": {
            "text/plain": [
              "     Month  #Passengers\n",
              "0  1949-01          112\n",
              "1  1949-02          118\n",
              "2  1949-03          132\n",
              "3  1949-04          129\n",
              "4  1949-05          121"
            ],
            "text/html": [
              "\n",
              "  <div id=\"df-2bd40ada-7aa4-4c01-ac5a-0d6cf34f9c33\">\n",
              "    <div class=\"colab-df-container\">\n",
              "      <div>\n",
              "<style scoped>\n",
              "    .dataframe tbody tr th:only-of-type {\n",
              "        vertical-align: middle;\n",
              "    }\n",
              "\n",
              "    .dataframe tbody tr th {\n",
              "        vertical-align: top;\n",
              "    }\n",
              "\n",
              "    .dataframe thead th {\n",
              "        text-align: right;\n",
              "    }\n",
              "</style>\n",
              "<table border=\"1\" class=\"dataframe\">\n",
              "  <thead>\n",
              "    <tr style=\"text-align: right;\">\n",
              "      <th></th>\n",
              "      <th>Month</th>\n",
              "      <th>#Passengers</th>\n",
              "    </tr>\n",
              "  </thead>\n",
              "  <tbody>\n",
              "    <tr>\n",
              "      <th>0</th>\n",
              "      <td>1949-01</td>\n",
              "      <td>112</td>\n",
              "    </tr>\n",
              "    <tr>\n",
              "      <th>1</th>\n",
              "      <td>1949-02</td>\n",
              "      <td>118</td>\n",
              "    </tr>\n",
              "    <tr>\n",
              "      <th>2</th>\n",
              "      <td>1949-03</td>\n",
              "      <td>132</td>\n",
              "    </tr>\n",
              "    <tr>\n",
              "      <th>3</th>\n",
              "      <td>1949-04</td>\n",
              "      <td>129</td>\n",
              "    </tr>\n",
              "    <tr>\n",
              "      <th>4</th>\n",
              "      <td>1949-05</td>\n",
              "      <td>121</td>\n",
              "    </tr>\n",
              "  </tbody>\n",
              "</table>\n",
              "</div>\n",
              "      <button class=\"colab-df-convert\" onclick=\"convertToInteractive('df-2bd40ada-7aa4-4c01-ac5a-0d6cf34f9c33')\"\n",
              "              title=\"Convert this dataframe to an interactive table.\"\n",
              "              style=\"display:none;\">\n",
              "        \n",
              "  <svg xmlns=\"http://www.w3.org/2000/svg\" height=\"24px\"viewBox=\"0 0 24 24\"\n",
              "       width=\"24px\">\n",
              "    <path d=\"M0 0h24v24H0V0z\" fill=\"none\"/>\n",
              "    <path d=\"M18.56 5.44l.94 2.06.94-2.06 2.06-.94-2.06-.94-.94-2.06-.94 2.06-2.06.94zm-11 1L8.5 8.5l.94-2.06 2.06-.94-2.06-.94L8.5 2.5l-.94 2.06-2.06.94zm10 10l.94 2.06.94-2.06 2.06-.94-2.06-.94-.94-2.06-.94 2.06-2.06.94z\"/><path d=\"M17.41 7.96l-1.37-1.37c-.4-.4-.92-.59-1.43-.59-.52 0-1.04.2-1.43.59L10.3 9.45l-7.72 7.72c-.78.78-.78 2.05 0 2.83L4 21.41c.39.39.9.59 1.41.59.51 0 1.02-.2 1.41-.59l7.78-7.78 2.81-2.81c.8-.78.8-2.07 0-2.86zM5.41 20L4 18.59l7.72-7.72 1.47 1.35L5.41 20z\"/>\n",
              "  </svg>\n",
              "      </button>\n",
              "      \n",
              "  <style>\n",
              "    .colab-df-container {\n",
              "      display:flex;\n",
              "      flex-wrap:wrap;\n",
              "      gap: 12px;\n",
              "    }\n",
              "\n",
              "    .colab-df-convert {\n",
              "      background-color: #E8F0FE;\n",
              "      border: none;\n",
              "      border-radius: 50%;\n",
              "      cursor: pointer;\n",
              "      display: none;\n",
              "      fill: #1967D2;\n",
              "      height: 32px;\n",
              "      padding: 0 0 0 0;\n",
              "      width: 32px;\n",
              "    }\n",
              "\n",
              "    .colab-df-convert:hover {\n",
              "      background-color: #E2EBFA;\n",
              "      box-shadow: 0px 1px 2px rgba(60, 64, 67, 0.3), 0px 1px 3px 1px rgba(60, 64, 67, 0.15);\n",
              "      fill: #174EA6;\n",
              "    }\n",
              "\n",
              "    [theme=dark] .colab-df-convert {\n",
              "      background-color: #3B4455;\n",
              "      fill: #D2E3FC;\n",
              "    }\n",
              "\n",
              "    [theme=dark] .colab-df-convert:hover {\n",
              "      background-color: #434B5C;\n",
              "      box-shadow: 0px 1px 3px 1px rgba(0, 0, 0, 0.15);\n",
              "      filter: drop-shadow(0px 1px 2px rgba(0, 0, 0, 0.3));\n",
              "      fill: #FFFFFF;\n",
              "    }\n",
              "  </style>\n",
              "\n",
              "      <script>\n",
              "        const buttonEl =\n",
              "          document.querySelector('#df-2bd40ada-7aa4-4c01-ac5a-0d6cf34f9c33 button.colab-df-convert');\n",
              "        buttonEl.style.display =\n",
              "          google.colab.kernel.accessAllowed ? 'block' : 'none';\n",
              "\n",
              "        async function convertToInteractive(key) {\n",
              "          const element = document.querySelector('#df-2bd40ada-7aa4-4c01-ac5a-0d6cf34f9c33');\n",
              "          const dataTable =\n",
              "            await google.colab.kernel.invokeFunction('convertToInteractive',\n",
              "                                                     [key], {});\n",
              "          if (!dataTable) return;\n",
              "\n",
              "          const docLinkHtml = 'Like what you see? Visit the ' +\n",
              "            '<a target=\"_blank\" href=https://colab.research.google.com/notebooks/data_table.ipynb>data table notebook</a>'\n",
              "            + ' to learn more about interactive tables.';\n",
              "          element.innerHTML = '';\n",
              "          dataTable['output_type'] = 'display_data';\n",
              "          await google.colab.output.renderOutput(dataTable, element);\n",
              "          const docLink = document.createElement('div');\n",
              "          docLink.innerHTML = docLinkHtml;\n",
              "          element.appendChild(docLink);\n",
              "        }\n",
              "      </script>\n",
              "    </div>\n",
              "  </div>\n",
              "  "
            ]
          },
          "metadata": {},
          "execution_count": 22
        }
      ]
    },
    {
      "cell_type": "code",
      "source": [
        "data.info()"
      ],
      "metadata": {
        "id": "Dzg7hGUR_axf",
        "outputId": "8efbebc7-4b27-4509-84a1-6cc99ca5e93e",
        "colab": {
          "base_uri": "https://localhost:8080/"
        }
      },
      "execution_count": 23,
      "outputs": [
        {
          "output_type": "stream",
          "name": "stdout",
          "text": [
            "<class 'pandas.core.frame.DataFrame'>\n",
            "RangeIndex: 144 entries, 0 to 143\n",
            "Data columns (total 2 columns):\n",
            " #   Column       Non-Null Count  Dtype \n",
            "---  ------       --------------  ----- \n",
            " 0   Month        144 non-null    object\n",
            " 1   #Passengers  144 non-null    int64 \n",
            "dtypes: int64(1), object(1)\n",
            "memory usage: 2.4+ KB\n"
          ]
        }
      ]
    },
    {
      "cell_type": "code",
      "source": [
        "data.describe()"
      ],
      "metadata": {
        "id": "TvOVccYh_3wy",
        "outputId": "ac6a177f-2f64-4c43-da49-ae908a19c352",
        "colab": {
          "base_uri": "https://localhost:8080/",
          "height": 300
        }
      },
      "execution_count": 24,
      "outputs": [
        {
          "output_type": "execute_result",
          "data": {
            "text/plain": [
              "       #Passengers\n",
              "count   144.000000\n",
              "mean    280.298611\n",
              "std     119.966317\n",
              "min     104.000000\n",
              "25%     180.000000\n",
              "50%     265.500000\n",
              "75%     360.500000\n",
              "max     622.000000"
            ],
            "text/html": [
              "\n",
              "  <div id=\"df-1bacd6f4-4a03-4015-911a-c65e86cb9cf7\">\n",
              "    <div class=\"colab-df-container\">\n",
              "      <div>\n",
              "<style scoped>\n",
              "    .dataframe tbody tr th:only-of-type {\n",
              "        vertical-align: middle;\n",
              "    }\n",
              "\n",
              "    .dataframe tbody tr th {\n",
              "        vertical-align: top;\n",
              "    }\n",
              "\n",
              "    .dataframe thead th {\n",
              "        text-align: right;\n",
              "    }\n",
              "</style>\n",
              "<table border=\"1\" class=\"dataframe\">\n",
              "  <thead>\n",
              "    <tr style=\"text-align: right;\">\n",
              "      <th></th>\n",
              "      <th>#Passengers</th>\n",
              "    </tr>\n",
              "  </thead>\n",
              "  <tbody>\n",
              "    <tr>\n",
              "      <th>count</th>\n",
              "      <td>144.000000</td>\n",
              "    </tr>\n",
              "    <tr>\n",
              "      <th>mean</th>\n",
              "      <td>280.298611</td>\n",
              "    </tr>\n",
              "    <tr>\n",
              "      <th>std</th>\n",
              "      <td>119.966317</td>\n",
              "    </tr>\n",
              "    <tr>\n",
              "      <th>min</th>\n",
              "      <td>104.000000</td>\n",
              "    </tr>\n",
              "    <tr>\n",
              "      <th>25%</th>\n",
              "      <td>180.000000</td>\n",
              "    </tr>\n",
              "    <tr>\n",
              "      <th>50%</th>\n",
              "      <td>265.500000</td>\n",
              "    </tr>\n",
              "    <tr>\n",
              "      <th>75%</th>\n",
              "      <td>360.500000</td>\n",
              "    </tr>\n",
              "    <tr>\n",
              "      <th>max</th>\n",
              "      <td>622.000000</td>\n",
              "    </tr>\n",
              "  </tbody>\n",
              "</table>\n",
              "</div>\n",
              "      <button class=\"colab-df-convert\" onclick=\"convertToInteractive('df-1bacd6f4-4a03-4015-911a-c65e86cb9cf7')\"\n",
              "              title=\"Convert this dataframe to an interactive table.\"\n",
              "              style=\"display:none;\">\n",
              "        \n",
              "  <svg xmlns=\"http://www.w3.org/2000/svg\" height=\"24px\"viewBox=\"0 0 24 24\"\n",
              "       width=\"24px\">\n",
              "    <path d=\"M0 0h24v24H0V0z\" fill=\"none\"/>\n",
              "    <path d=\"M18.56 5.44l.94 2.06.94-2.06 2.06-.94-2.06-.94-.94-2.06-.94 2.06-2.06.94zm-11 1L8.5 8.5l.94-2.06 2.06-.94-2.06-.94L8.5 2.5l-.94 2.06-2.06.94zm10 10l.94 2.06.94-2.06 2.06-.94-2.06-.94-.94-2.06-.94 2.06-2.06.94z\"/><path d=\"M17.41 7.96l-1.37-1.37c-.4-.4-.92-.59-1.43-.59-.52 0-1.04.2-1.43.59L10.3 9.45l-7.72 7.72c-.78.78-.78 2.05 0 2.83L4 21.41c.39.39.9.59 1.41.59.51 0 1.02-.2 1.41-.59l7.78-7.78 2.81-2.81c.8-.78.8-2.07 0-2.86zM5.41 20L4 18.59l7.72-7.72 1.47 1.35L5.41 20z\"/>\n",
              "  </svg>\n",
              "      </button>\n",
              "      \n",
              "  <style>\n",
              "    .colab-df-container {\n",
              "      display:flex;\n",
              "      flex-wrap:wrap;\n",
              "      gap: 12px;\n",
              "    }\n",
              "\n",
              "    .colab-df-convert {\n",
              "      background-color: #E8F0FE;\n",
              "      border: none;\n",
              "      border-radius: 50%;\n",
              "      cursor: pointer;\n",
              "      display: none;\n",
              "      fill: #1967D2;\n",
              "      height: 32px;\n",
              "      padding: 0 0 0 0;\n",
              "      width: 32px;\n",
              "    }\n",
              "\n",
              "    .colab-df-convert:hover {\n",
              "      background-color: #E2EBFA;\n",
              "      box-shadow: 0px 1px 2px rgba(60, 64, 67, 0.3), 0px 1px 3px 1px rgba(60, 64, 67, 0.15);\n",
              "      fill: #174EA6;\n",
              "    }\n",
              "\n",
              "    [theme=dark] .colab-df-convert {\n",
              "      background-color: #3B4455;\n",
              "      fill: #D2E3FC;\n",
              "    }\n",
              "\n",
              "    [theme=dark] .colab-df-convert:hover {\n",
              "      background-color: #434B5C;\n",
              "      box-shadow: 0px 1px 3px 1px rgba(0, 0, 0, 0.15);\n",
              "      filter: drop-shadow(0px 1px 2px rgba(0, 0, 0, 0.3));\n",
              "      fill: #FFFFFF;\n",
              "    }\n",
              "  </style>\n",
              "\n",
              "      <script>\n",
              "        const buttonEl =\n",
              "          document.querySelector('#df-1bacd6f4-4a03-4015-911a-c65e86cb9cf7 button.colab-df-convert');\n",
              "        buttonEl.style.display =\n",
              "          google.colab.kernel.accessAllowed ? 'block' : 'none';\n",
              "\n",
              "        async function convertToInteractive(key) {\n",
              "          const element = document.querySelector('#df-1bacd6f4-4a03-4015-911a-c65e86cb9cf7');\n",
              "          const dataTable =\n",
              "            await google.colab.kernel.invokeFunction('convertToInteractive',\n",
              "                                                     [key], {});\n",
              "          if (!dataTable) return;\n",
              "\n",
              "          const docLinkHtml = 'Like what you see? Visit the ' +\n",
              "            '<a target=\"_blank\" href=https://colab.research.google.com/notebooks/data_table.ipynb>data table notebook</a>'\n",
              "            + ' to learn more about interactive tables.';\n",
              "          element.innerHTML = '';\n",
              "          dataTable['output_type'] = 'display_data';\n",
              "          await google.colab.output.renderOutput(dataTable, element);\n",
              "          const docLink = document.createElement('div');\n",
              "          docLink.innerHTML = docLinkHtml;\n",
              "          element.appendChild(docLink);\n",
              "        }\n",
              "      </script>\n",
              "    </div>\n",
              "  </div>\n",
              "  "
            ]
          },
          "metadata": {},
          "execution_count": 24
        }
      ]
    },
    {
      "cell_type": "code",
      "source": [
        "data.rename(columns={'#Passengers':'passengers'},inplace=True)\n",
        "data = data['passengers']\n",
        "data=np.array(data).reshape(-1,1)"
      ],
      "metadata": {
        "id": "7OGah7AB9a6O"
      },
      "execution_count": 25,
      "outputs": []
    },
    {
      "cell_type": "code",
      "source": [
        "plt.figure(figsize=(15,8))\n",
        "plt.plot(data)"
      ],
      "metadata": {
        "id": "1brMl2Yy9nLu",
        "outputId": "f7f01d03-4788-4b90-d182-f6b5ff985ca8",
        "colab": {
          "base_uri": "https://localhost:8080/",
          "height": 500
        }
      },
      "execution_count": 26,
      "outputs": [
        {
          "output_type": "execute_result",
          "data": {
            "text/plain": [
              "[<matplotlib.lines.Line2D at 0x7f1ef94fd590>]"
            ]
          },
          "metadata": {},
          "execution_count": 26
        },
        {
          "output_type": "display_data",
          "data": {
            "text/plain": [
              "<Figure size 1080x576 with 1 Axes>"
            ],
            "image/png": "[encoded data removed]"
          },
          "metadata": {
            "needs_background": "light"
          }
        }
      ]
    },
    {
      "cell_type": "code",
      "source": [
        ""
      ],
      "metadata": {
        "id": "Fw30Xe37AAlI"
      },
      "execution_count": null,
      "outputs": []
    },
    {
      "cell_type": "markdown",
      "source": [
        "**Feature** **Scaling**"
      ],
      "metadata": {
        "id": "BLqAUaCxADIi"
      }
    },
    {
      "cell_type": "code",
      "source": [
        "scaler= MinMaxScaler()\n",
        "data=scaler.fit_transform(data)"
      ],
      "metadata": {
        "id": "8Gd479hLAK99"
      },
      "execution_count": 27,
      "outputs": []
    },
    {
      "cell_type": "code",
      "source": [
        "train_size=100\n",
        "test_size=44"
      ],
      "metadata": {
        "id": "zlmtqgZpAXMC"
      },
      "execution_count": 29,
      "outputs": []
    },
    {
      "cell_type": "code",
      "source": [
        "train=data[0:train_size,:]\n",
        "test=data[train_size:,:]"
      ],
      "metadata": {
        "id": "H42G_wDsAcsB"
      },
      "execution_count": 30,
      "outputs": []
    },
    {
      "cell_type": "code",
      "source": [
        "train.shape"
      ],
      "metadata": {
        "id": "tk-hjTMQAdSM",
        "outputId": "ec143c64-4eb9-482b-bf46-0b2d4d4f4ad2",
        "colab": {
          "base_uri": "https://localhost:8080/"
        }
      },
      "execution_count": 31,
      "outputs": [
        {
          "output_type": "execute_result",
          "data": {
            "text/plain": [
              "(100, 1)"
            ]
          },
          "metadata": {},
          "execution_count": 31
        }
      ]
    },
    {
      "cell_type": "code",
      "source": [
        "test.shape"
      ],
      "metadata": {
        "id": "zmZzL1ZHAdZK",
        "outputId": "e018187c-ed2f-40eb-8530-6cb1eed9ff5e",
        "colab": {
          "base_uri": "https://localhost:8080/"
        }
      },
      "execution_count": 32,
      "outputs": [
        {
          "output_type": "execute_result",
          "data": {
            "text/plain": [
              "(44, 1)"
            ]
          },
          "metadata": {},
          "execution_count": 32
        }
      ]
    },
    {
      "cell_type": "code",
      "source": [
        "def get_data(data, look_back):\n",
        "    dataX, dataY = [], []\n",
        "    for i in range(len(data)-look_back-1):\n",
        "        a = data[i:(i+look_back), 0]\n",
        "        dataX.append(a)\n",
        "        dataY.append(data[i+look_back, 0])\n",
        "    return np.array(dataX), np.array(dataY)"
      ],
      "metadata": {
        "id": "PoDDRoORAwwb"
      },
      "execution_count": 33,
      "outputs": []
    },
    {
      "cell_type": "code",
      "source": [
        "train"
      ],
      "metadata": {
        "id": "DdY_BhjuA5TX",
        "outputId": "78ec1789-96eb-4791-8c86-955cf8f4c540",
        "colab": {
          "base_uri": "https://localhost:8080/"
        }
      },
      "execution_count": 34,
      "outputs": [
        {
          "output_type": "execute_result",
          "data": {
            "text/plain": [
              "array([[0.01544402],\n",
              "       [0.02702703],\n",
              "       [0.05405405],\n",
              "       [0.04826255],\n",
              "       [0.03281853],\n",
              "       [0.05984556],\n",
              "       [0.08494208],\n",
              "       [0.08494208],\n",
              "       [0.06177606],\n",
              "       [0.02895753],\n",
              "       [0.        ],\n",
              "       [0.02702703],\n",
              "       [0.02123552],\n",
              "       [0.04247104],\n",
              "       [0.07142857],\n",
              "       [0.05984556],\n",
              "       [0.04054054],\n",
              "       [0.08687259],\n",
              "       [0.12741313],\n",
              "       [0.12741313],\n",
              "       [0.1042471 ],\n",
              "       [0.05598456],\n",
              "       [0.01930502],\n",
              "       [0.06949807],\n",
              "       [0.07915058],\n",
              "       [0.08880309],\n",
              "       [0.14285714],\n",
              "       [0.11389961],\n",
              "       [0.13127413],\n",
              "       [0.14285714],\n",
              "       [0.18339768],\n",
              "       [0.18339768],\n",
              "       [0.15444015],\n",
              "       [0.11196911],\n",
              "       [0.08108108],\n",
              "       [0.11969112],\n",
              "       [0.12934363],\n",
              "       [0.14671815],\n",
              "       [0.17181467],\n",
              "       [0.14864865],\n",
              "       [0.15250965],\n",
              "       [0.22007722],\n",
              "       [0.24324324],\n",
              "       [0.26640927],\n",
              "       [0.2027027 ],\n",
              "       [0.16795367],\n",
              "       [0.13127413],\n",
              "       [0.17374517],\n",
              "       [0.17760618],\n",
              "       [0.17760618],\n",
              "       [0.25482625],\n",
              "       [0.25289575],\n",
              "       [0.24131274],\n",
              "       [0.26833977],\n",
              "       [0.30888031],\n",
              "       [0.32432432],\n",
              "       [0.25675676],\n",
              "       [0.20656371],\n",
              "       [0.14671815],\n",
              "       [0.18725869],\n",
              "       [0.19305019],\n",
              "       [0.16216216],\n",
              "       [0.25289575],\n",
              "       [0.23745174],\n",
              "       [0.25096525],\n",
              "       [0.30888031],\n",
              "       [0.38223938],\n",
              "       [0.36486486],\n",
              "       [0.2992278 ],\n",
              "       [0.24131274],\n",
              "       [0.19111969],\n",
              "       [0.24131274],\n",
              "       [0.26640927],\n",
              "       [0.24903475],\n",
              "       [0.31467181],\n",
              "       [0.31853282],\n",
              "       [0.32046332],\n",
              "       [0.40733591],\n",
              "       [0.5019305 ],\n",
              "       [0.46911197],\n",
              "       [0.4015444 ],\n",
              "       [0.32818533],\n",
              "       [0.25675676],\n",
              "       [0.33590734],\n",
              "       [0.34749035],\n",
              "       [0.33397683],\n",
              "       [0.41119691],\n",
              "       [0.4034749 ],\n",
              "       [0.41312741],\n",
              "       [0.52123552],\n",
              "       [0.5965251 ],\n",
              "       [0.58108108],\n",
              "       [0.48455598],\n",
              "       [0.38996139],\n",
              "       [0.32239382],\n",
              "       [0.38996139],\n",
              "       [0.40733591],\n",
              "       [0.38030888],\n",
              "       [0.48648649],\n",
              "       [0.47104247]])"
            ]
          },
          "metadata": {},
          "execution_count": 34
        }
      ]
    },
    {
      "cell_type": "code",
      "source": [
        "look_back = 2\n",
        "X_train, y_train = get_data(train, look_back)"
      ],
      "metadata": {
        "id": "OOIisZA9A0sm"
      },
      "execution_count": 41,
      "outputs": []
    },
    {
      "cell_type": "code",
      "source": [
        "X_train"
      ],
      "metadata": {
        "id": "NEd_tVQpA81e",
        "outputId": "6f7ea5c9-5bd8-4a8c-8fdf-58d9b1738c42",
        "colab": {
          "base_uri": "https://localhost:8080/"
        }
      },
      "execution_count": 42,
      "outputs": [
        {
          "output_type": "execute_result",
          "data": {
            "text/plain": [
              "array([[0.01544402, 0.02702703],\n",
              "       [0.02702703, 0.05405405],\n",
              "       [0.05405405, 0.04826255],\n",
              "       [0.04826255, 0.03281853],\n",
              "       [0.03281853, 0.05984556],\n",
              "       [0.05984556, 0.08494208],\n",
              "       [0.08494208, 0.08494208],\n",
              "       [0.08494208, 0.06177606],\n",
              "       [0.06177606, 0.02895753],\n",
              "       [0.02895753, 0.        ],\n",
              "       [0.        , 0.02702703],\n",
              "       [0.02702703, 0.02123552],\n",
              "       [0.02123552, 0.04247104],\n",
              "       [0.04247104, 0.07142857],\n",
              "       [0.07142857, 0.05984556],\n",
              "       [0.05984556, 0.04054054],\n",
              "       [0.04054054, 0.08687259],\n",
              "       [0.08687259, 0.12741313],\n",
              "       [0.12741313, 0.12741313],\n",
              "       [0.12741313, 0.1042471 ],\n",
              "       [0.1042471 , 0.05598456],\n",
              "       [0.05598456, 0.01930502],\n",
              "       [0.01930502, 0.06949807],\n",
              "       [0.06949807, 0.07915058],\n",
              "       [0.07915058, 0.08880309],\n",
              "       [0.08880309, 0.14285714],\n",
              "       [0.14285714, 0.11389961],\n",
              "       [0.11389961, 0.13127413],\n",
              "       [0.13127413, 0.14285714],\n",
              "       [0.14285714, 0.18339768],\n",
              "       [0.18339768, 0.18339768],\n",
              "       [0.18339768, 0.15444015],\n",
              "       [0.15444015, 0.11196911],\n",
              "       [0.11196911, 0.08108108],\n",
              "       [0.08108108, 0.11969112],\n",
              "       [0.11969112, 0.12934363],\n",
              "       [0.12934363, 0.14671815],\n",
              "       [0.14671815, 0.17181467],\n",
              "       [0.17181467, 0.14864865],\n",
              "       [0.14864865, 0.15250965],\n",
              "       [0.15250965, 0.22007722],\n",
              "       [0.22007722, 0.24324324],\n",
              "       [0.24324324, 0.26640927],\n",
              "       [0.26640927, 0.2027027 ],\n",
              "       [0.2027027 , 0.16795367],\n",
              "       [0.16795367, 0.13127413],\n",
              "       [0.13127413, 0.17374517],\n",
              "       [0.17374517, 0.17760618],\n",
              "       [0.17760618, 0.17760618],\n",
              "       [0.17760618, 0.25482625],\n",
              "       [0.25482625, 0.25289575],\n",
              "       [0.25289575, 0.24131274],\n",
              "       [0.24131274, 0.26833977],\n",
              "       [0.26833977, 0.30888031],\n",
              "       [0.30888031, 0.32432432],\n",
              "       [0.32432432, 0.25675676],\n",
              "       [0.25675676, 0.20656371],\n",
              "       [0.20656371, 0.14671815],\n",
              "       [0.14671815, 0.18725869],\n",
              "       [0.18725869, 0.19305019],\n",
              "       [0.19305019, 0.16216216],\n",
              "       [0.16216216, 0.25289575],\n",
              "       [0.25289575, 0.23745174],\n",
              "       [0.23745174, 0.25096525],\n",
              "       [0.25096525, 0.30888031],\n",
              "       [0.30888031, 0.38223938],\n",
              "       [0.38223938, 0.36486486],\n",
              "       [0.36486486, 0.2992278 ],\n",
              "       [0.2992278 , 0.24131274],\n",
              "       [0.24131274, 0.19111969],\n",
              "       [0.19111969, 0.24131274],\n",
              "       [0.24131274, 0.26640927],\n",
              "       [0.26640927, 0.24903475],\n",
              "       [0.24903475, 0.31467181],\n",
              "       [0.31467181, 0.31853282],\n",
              "       [0.31853282, 0.32046332],\n",
              "       [0.32046332, 0.40733591],\n",
              "       [0.40733591, 0.5019305 ],\n",
              "       [0.5019305 , 0.46911197],\n",
              "       [0.46911197, 0.4015444 ],\n",
              "       [0.4015444 , 0.32818533],\n",
              "       [0.32818533, 0.25675676],\n",
              "       [0.25675676, 0.33590734],\n",
              "       [0.33590734, 0.34749035],\n",
              "       [0.34749035, 0.33397683],\n",
              "       [0.33397683, 0.41119691],\n",
              "       [0.41119691, 0.4034749 ],\n",
              "       [0.4034749 , 0.41312741],\n",
              "       [0.41312741, 0.52123552],\n",
              "       [0.52123552, 0.5965251 ],\n",
              "       [0.5965251 , 0.58108108],\n",
              "       [0.58108108, 0.48455598],\n",
              "       [0.48455598, 0.38996139],\n",
              "       [0.38996139, 0.32239382],\n",
              "       [0.32239382, 0.38996139],\n",
              "       [0.38996139, 0.40733591],\n",
              "       [0.40733591, 0.38030888]])"
            ]
          },
          "metadata": {},
          "execution_count": 42
        }
      ]
    },
    {
      "cell_type": "code",
      "source": [
        "y_train"
      ],
      "metadata": {
        "id": "P2MxHh9dBAqH",
        "outputId": "28ceab0a-fc32-429c-a8cc-2603a854d28f",
        "colab": {
          "base_uri": "https://localhost:8080/"
        }
      },
      "execution_count": 43,
      "outputs": [
        {
          "output_type": "execute_result",
          "data": {
            "text/plain": [
              "array([0.05405405, 0.04826255, 0.03281853, 0.05984556, 0.08494208,\n",
              "       0.08494208, 0.06177606, 0.02895753, 0.        , 0.02702703,\n",
              "       0.02123552, 0.04247104, 0.07142857, 0.05984556, 0.04054054,\n",
              "       0.08687259, 0.12741313, 0.12741313, 0.1042471 , 0.05598456,\n",
              "       0.01930502, 0.06949807, 0.07915058, 0.08880309, 0.14285714,\n",
              "       0.11389961, 0.13127413, 0.14285714, 0.18339768, 0.18339768,\n",
              "       0.15444015, 0.11196911, 0.08108108, 0.11969112, 0.12934363,\n",
              "       0.14671815, 0.17181467, 0.14864865, 0.15250965, 0.22007722,\n",
              "       0.24324324, 0.26640927, 0.2027027 , 0.16795367, 0.13127413,\n",
              "       0.17374517, 0.17760618, 0.17760618, 0.25482625, 0.25289575,\n",
              "       0.24131274, 0.26833977, 0.30888031, 0.32432432, 0.25675676,\n",
              "       0.20656371, 0.14671815, 0.18725869, 0.19305019, 0.16216216,\n",
              "       0.25289575, 0.23745174, 0.25096525, 0.30888031, 0.38223938,\n",
              "       0.36486486, 0.2992278 , 0.24131274, 0.19111969, 0.24131274,\n",
              "       0.26640927, 0.24903475, 0.31467181, 0.31853282, 0.32046332,\n",
              "       0.40733591, 0.5019305 , 0.46911197, 0.4015444 , 0.32818533,\n",
              "       0.25675676, 0.33590734, 0.34749035, 0.33397683, 0.41119691,\n",
              "       0.4034749 , 0.41312741, 0.52123552, 0.5965251 , 0.58108108,\n",
              "       0.48455598, 0.38996139, 0.32239382, 0.38996139, 0.40733591,\n",
              "       0.38030888, 0.48648649])"
            ]
          },
          "metadata": {},
          "execution_count": 43
        }
      ]
    },
    {
      "cell_type": "code",
      "source": [
        "X_test, y_test = get_data(test, look_back)"
      ],
      "metadata": {
        "id": "XpmAsgTUBlyG"
      },
      "execution_count": 44,
      "outputs": []
    },
    {
      "cell_type": "code",
      "source": [
        "X_train = X_train.reshape(X_train.shape[0], X_train.shape[1], 1)\n",
        "X_test = X_test.reshape(X_test.shape[0], X_test.shape[1], 1)"
      ],
      "metadata": {
        "id": "PoW4r2k8BmZO"
      },
      "execution_count": 45,
      "outputs": []
    },
    {
      "cell_type": "code",
      "source": [
        "X_train.shape"
      ],
      "metadata": {
        "id": "AFWqJiP0BmhK",
        "outputId": "1183c18f-bfab-4d2c-af45-56b4483bcb8e",
        "colab": {
          "base_uri": "https://localhost:8080/"
        }
      },
      "execution_count": 46,
      "outputs": [
        {
          "output_type": "execute_result",
          "data": {
            "text/plain": [
              "(97, 2, 1)"
            ]
          },
          "metadata": {},
          "execution_count": 46
        }
      ]
    },
    {
      "cell_type": "code",
      "source": [
        "97 = No of samples\n",
        "2 = time steps\n",
        "1 = featue"
      ],
      "metadata": {
        "id": "sAR5K3xFEHQo"
      },
      "execution_count": null,
      "outputs": []
    },
    {
      "cell_type": "code",
      "source": [
        "look_back"
      ],
      "metadata": {
        "id": "BBBmP45uESFn",
        "outputId": "5f8d3eda-9b0e-41b1-8488-f8e368be2c84",
        "colab": {
          "base_uri": "https://localhost:8080/"
        }
      },
      "execution_count": 52,
      "outputs": [
        {
          "output_type": "execute_result",
          "data": {
            "text/plain": [
              "2"
            ]
          },
          "metadata": {},
          "execution_count": 52
        }
      ]
    },
    {
      "cell_type": "markdown",
      "source": [
        "**LSTM**"
      ],
      "metadata": {
        "id": "1Ys8SYOGETIh"
      }
    },
    {
      "cell_type": "code",
      "source": [
        "model = Sequential()\n",
        "model.add(LSTM(5, input_shape = (look_back, 1)))\n",
        "model.add(Dense(1))\n",
        "model.compile(loss = 'mean_squared_error', optimizer = 'adam')"
      ],
      "metadata": {
        "id": "6gp55yuYEWqe"
      },
      "execution_count": 50,
      "outputs": []
    },
    {
      "cell_type": "code",
      "source": [
        "model.summary()"
      ],
      "metadata": {
        "id": "ZjAEi0p7Elhr",
        "outputId": "f511f46f-2cee-4b75-95f4-ca62175de683",
        "colab": {
          "base_uri": "https://localhost:8080/"
        }
      },
      "execution_count": 51,
      "outputs": [
        {
          "output_type": "stream",
          "name": "stdout",
          "text": [
            "Model: \"sequential_1\"\n",
            "_________________________________________________________________\n",
            " Layer (type)                Output Shape              Param #   \n",
            "=================================================================\n",
            " lstm_1 (LSTM)               (None, 5)                 140       \n",
            "                                                                 \n",
            " dense_1 (Dense)             (None, 1)                 6         \n",
            "                                                                 \n",
            "=================================================================\n",
            "Total params: 146\n",
            "Trainable params: 146\n",
            "Non-trainable params: 0\n",
            "_________________________________________________________________\n"
          ]
        }
      ]
    },
    {
      "cell_type": "code",
      "source": [
        "model.fit(X_train, y_train, epochs=25, batch_size=1)"
      ],
      "metadata": {
        "id": "jdR4gSPKEtym",
        "outputId": "39250590-e310-44b7-a4ec-11c4b1fe4c85",
        "colab": {
          "base_uri": "https://localhost:8080/"
        }
      },
      "execution_count": 53,
      "outputs": [
        {
          "output_type": "stream",
          "name": "stdout",
          "text": [
            "Epoch 1/25\n",
            "97/97 [==============================] - 2s 2ms/step - loss: 0.0712\n",
            "Epoch 2/25\n",
            "97/97 [==============================] - 0s 2ms/step - loss: 0.0309\n",
            "Epoch 3/25\n",
            "97/97 [==============================] - 0s 2ms/step - loss: 0.0210\n",
            "Epoch 4/25\n",
            "97/97 [==============================] - 0s 2ms/step - loss: 0.0182\n",
            "Epoch 5/25\n",
            "97/97 [==============================] - 0s 2ms/step - loss: 0.0162\n",
            "Epoch 6/25\n",
            "97/97 [==============================] - 0s 2ms/step - loss: 0.0143\n",
            "Epoch 7/25\n",
            "97/97 [==============================] - 0s 2ms/step - loss: 0.0127\n",
            "Epoch 8/25\n",
            "97/97 [==============================] - 0s 2ms/step - loss: 0.0111\n",
            "Epoch 9/25\n",
            "97/97 [==============================] - 0s 2ms/step - loss: 0.0096\n",
            "Epoch 10/25\n",
            "97/97 [==============================] - 0s 2ms/step - loss: 0.0082\n",
            "Epoch 11/25\n",
            "97/97 [==============================] - 0s 2ms/step - loss: 0.0071\n",
            "Epoch 12/25\n",
            "97/97 [==============================] - 0s 2ms/step - loss: 0.0060\n",
            "Epoch 13/25\n",
            "97/97 [==============================] - 0s 2ms/step - loss: 0.0053\n",
            "Epoch 14/25\n",
            "97/97 [==============================] - 0s 2ms/step - loss: 0.0046\n",
            "Epoch 15/25\n",
            "97/97 [==============================] - 0s 2ms/step - loss: 0.0042\n",
            "Epoch 16/25\n",
            "97/97 [==============================] - 0s 2ms/step - loss: 0.0039\n",
            "Epoch 17/25\n",
            "97/97 [==============================] - 0s 2ms/step - loss: 0.0036\n",
            "Epoch 18/25\n",
            "97/97 [==============================] - 0s 2ms/step - loss: 0.0037\n",
            "Epoch 19/25\n",
            "97/97 [==============================] - 0s 2ms/step - loss: 0.0035\n",
            "Epoch 20/25\n",
            "97/97 [==============================] - 0s 2ms/step - loss: 0.0035\n",
            "Epoch 21/25\n",
            "97/97 [==============================] - 0s 2ms/step - loss: 0.0035\n",
            "Epoch 22/25\n",
            "97/97 [==============================] - 0s 2ms/step - loss: 0.0034\n",
            "Epoch 23/25\n",
            "97/97 [==============================] - 0s 2ms/step - loss: 0.0034\n",
            "Epoch 24/25\n",
            "97/97 [==============================] - 0s 2ms/step - loss: 0.0035\n",
            "Epoch 25/25\n",
            "97/97 [==============================] - 0s 2ms/step - loss: 0.0034\n"
          ]
        },
        {
          "output_type": "execute_result",
          "data": {
            "text/plain": [
              "<keras.callbacks.History at 0x7f1ef9b19690>"
            ]
          },
          "metadata": {},
          "execution_count": 53
        }
      ]
    },
    {
      "cell_type": "code",
      "source": [
        "y_pred = model.predict(X_test)"
      ],
      "metadata": {
        "id": "H7RoBZo2FiIe"
      },
      "execution_count": 54,
      "outputs": []
    },
    {
      "cell_type": "code",
      "source": [
        "scaler.scale_"
      ],
      "metadata": {
        "id": "F1dg1BkRFlcc",
        "outputId": "6f69c302-8b13-4551-e7c6-9898de8d5641",
        "colab": {
          "base_uri": "https://localhost:8080/"
        }
      },
      "execution_count": 55,
      "outputs": [
        {
          "output_type": "execute_result",
          "data": {
            "text/plain": [
              "array([0.0019305])"
            ]
          },
          "metadata": {},
          "execution_count": 55
        }
      ]
    },
    {
      "cell_type": "code",
      "source": [
        "y_pred = scaler.inverse_transform(y_pred)"
      ],
      "metadata": {
        "id": "YDA9oy3AFosb"
      },
      "execution_count": 56,
      "outputs": []
    },
    {
      "cell_type": "code",
      "source": [
        "y_test = y_test.reshape(-1, 1)\n",
        "y_test = scaler.inverse_transform(y_test)"
      ],
      "metadata": {
        "id": "E5MAODYSFvGB"
      },
      "execution_count": 57,
      "outputs": []
    },
    {
      "cell_type": "code",
      "source": [
        "# plot baseline and predictions\n",
        "plt.figure(figsize=(14,5))\n",
        "plt.plot(y_test, label = 'real number of passengers')\n",
        "plt.plot(y_pred, label = 'predicted number of passengers')\n",
        "plt.ylabel('# passengers')\n",
        "plt.legend()\n",
        "plt.show()"
      ],
      "metadata": {
        "id": "w8XF2uVlFxjp",
        "outputId": "f356cda7-bc88-4a89-c6f4-09a22bb1cac8",
        "colab": {
          "base_uri": "https://localhost:8080/",
          "height": 320
        }
      },
      "execution_count": 58,
      "outputs": [
        {
          "output_type": "display_data",
          "data": {
            "text/plain": [
              "<Figure size 1008x360 with 1 Axes>"
            ],
            "image/png": "[encoded data removed]"
          },
          "metadata": {
            "needs_background": "light"
          }
        }
      ]
    }
  ]
}