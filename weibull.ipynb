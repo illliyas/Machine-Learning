{
  "nbformat": 4,
  "nbformat_minor": 0,
  "metadata": {
    "colab": {
      "name": "RNN.ipynb",
      "provenance": [],
      "authorship_tag": "ABX9TyMkB8AlDkJlGUtOMgPeppKP"
    },
    "kernelspec": {
      "name": "python3",
      "display_name": "Python 3"
    },
    "language_info": {
      "name": "python"
    },
    "accelerator": "GPU"
  },
  "cells": [
    {
      "cell_type": "code",
      "source": [
        "!pip install lifelines"
      ],
      "metadata": {
        "id": "522v3hKyQqL6",
        "outputId": "4f5237f7-d36c-4841-917f-da513d177b4b",
        "colab": {
          "base_uri": "https://localhost:8080/"
        }
      },
      "execution_count": 2,
      "outputs": [
        {
          "output_type": "stream",
          "name": "stdout",
          "text": [
            "Collecting lifelines\n",
            "  Downloading lifelines-0.27.7-py3-none-any.whl (409 kB)\n",
            "\u001b[2K     \u001b[90m━━━━━━━━━━━━━━━━━━━━━━━━━━━━━━━━━━━━━━━\u001b[0m \u001b[32m409.4/409.4 kB\u001b[0m \u001b[31m5.5 MB/s\u001b[0m eta \u001b[36m0:00:00\u001b[0m\n",
            "\u001b[?25hRequirement already satisfied: numpy>=1.14.0 in /usr/local/lib/python3.10/dist-packages (from lifelines) (1.22.4)\n",
            "Requirement already satisfied: scipy>=1.2.0 in /usr/local/lib/python3.10/dist-packages (from lifelines) (1.10.1)\n",
            "Requirement already satisfied: pandas>=1.0.0 in /usr/local/lib/python3.10/dist-packages (from lifelines) (1.5.3)\n",
            "Requirement already satisfied: matplotlib>=3.0 in /usr/local/lib/python3.10/dist-packages (from lifelines) (3.7.1)\n",
            "Requirement already satisfied: autograd>=1.5 in /usr/local/lib/python3.10/dist-packages (from lifelines) (1.6.2)\n",
            "Collecting autograd-gamma>=0.3 (from lifelines)\n",
            "  Downloading autograd-gamma-0.5.0.tar.gz (4.0 kB)\n",
            "  Preparing metadata (setup.py) ... \u001b[?25l\u001b[?25hdone\n",
            "Collecting formulaic>=0.2.2 (from lifelines)\n",
            "  Downloading formulaic-0.6.4-py3-none-any.whl (88 kB)\n",
            "\u001b[2K     \u001b[90m━━━━━━━━━━━━━━━━━━━━━━━━━━━━━━━━━━━━━━━━\u001b[0m \u001b[32m88.9/88.9 kB\u001b[0m \u001b[31m10.1 MB/s\u001b[0m eta \u001b[36m0:00:00\u001b[0m\n",
            "\u001b[?25hRequirement already satisfied: future>=0.15.2 in /usr/local/lib/python3.10/dist-packages (from autograd>=1.5->lifelines) (0.18.3)\n",
            "Collecting astor>=0.8 (from formulaic>=0.2.2->lifelines)\n",
            "  Downloading astor-0.8.1-py2.py3-none-any.whl (27 kB)\n",
            "Collecting interface-meta>=1.2.0 (from formulaic>=0.2.2->lifelines)\n",
            "  Downloading interface_meta-1.3.0-py3-none-any.whl (14 kB)\n",
            "Requirement already satisfied: typing-extensions>=4.2.0 in /usr/local/lib/python3.10/dist-packages (from formulaic>=0.2.2->lifelines) (4.7.1)\n",
            "Requirement already satisfied: wrapt>=1.0 in /usr/local/lib/python3.10/dist-packages (from formulaic>=0.2.2->lifelines) (1.14.1)\n",
            "Requirement already satisfied: contourpy>=1.0.1 in /usr/local/lib/python3.10/dist-packages (from matplotlib>=3.0->lifelines) (1.1.0)\n",
            "Requirement already satisfied: cycler>=0.10 in /usr/local/lib/python3.10/dist-packages (from matplotlib>=3.0->lifelines) (0.11.0)\n",
            "Requirement already satisfied: fonttools>=4.22.0 in /usr/local/lib/python3.10/dist-packages (from matplotlib>=3.0->lifelines) (4.41.0)\n",
            "Requirement already satisfied: kiwisolver>=1.0.1 in /usr/local/lib/python3.10/dist-packages (from matplotlib>=3.0->lifelines) (1.4.4)\n",
            "Requirement already satisfied: packaging>=20.0 in /usr/local/lib/python3.10/dist-packages (from matplotlib>=3.0->lifelines) (23.1)\n",
            "Requirement already satisfied: pillow>=6.2.0 in /usr/local/lib/python3.10/dist-packages (from matplotlib>=3.0->lifelines) (8.4.0)\n",
            "Requirement already satisfied: pyparsing>=2.3.1 in /usr/local/lib/python3.10/dist-packages (from matplotlib>=3.0->lifelines) (3.1.0)\n",
            "Requirement already satisfied: python-dateutil>=2.7 in /usr/local/lib/python3.10/dist-packages (from matplotlib>=3.0->lifelines) (2.8.2)\n",
            "Requirement already satisfied: pytz>=2020.1 in /usr/local/lib/python3.10/dist-packages (from pandas>=1.0.0->lifelines) (2022.7.1)\n",
            "Requirement already satisfied: six>=1.5 in /usr/local/lib/python3.10/dist-packages (from python-dateutil>=2.7->matplotlib>=3.0->lifelines) (1.16.0)\n",
            "Building wheels for collected packages: autograd-gamma\n",
            "  Building wheel for autograd-gamma (setup.py) ... \u001b[?25l\u001b[?25hdone\n",
            "  Created wheel for autograd-gamma: filename=autograd_gamma-0.5.0-py3-none-any.whl size=4031 sha256=104d799076826bcdeb7f0f378ba06e52980619fd3fb5df6ff49d657a60c56f97\n",
            "  Stored in directory: /root/.cache/pip/wheels/25/cc/e0/ef2969164144c899fedb22b338f6703e2b9cf46eeebf254991\n",
            "Successfully built autograd-gamma\n",
            "Installing collected packages: interface-meta, astor, autograd-gamma, formulaic, lifelines\n",
            "Successfully installed astor-0.8.1 autograd-gamma-0.5.0 formulaic-0.6.4 interface-meta-1.3.0 lifelines-0.27.7\n"
          ]
        }
      ]
    },
    {
      "cell_type": "code",
      "source": [
        "from lifelines import WeibullFitter\n",
        "wb = WeibullFitter()\n",
        "wb.fit(durations=[120,170,190,220,230,300,340,350,410],event_observed=[1,1,1,1,1,1,1,1,1])"
      ],
      "metadata": {
        "id": "hK22rAVMQY3r",
        "outputId": "c6976e48-aa0b-48b6-a7ad-4795b934010b",
        "colab": {
          "base_uri": "https://localhost:8080/"
        }
      },
      "execution_count": 8,
      "outputs": [
        {
          "output_type": "execute_result",
          "data": {
            "text/plain": [
              "<lifelines.WeibullFitter:\"Weibull_estimate\", fitted with 9 total observations, 0 right-censored observations>"
            ]
          },
          "metadata": {},
          "execution_count": 8
        }
      ]
    },
    {
      "cell_type": "code",
      "source": [
        "wb.cumulative_density_.plot()"
      ],
      "metadata": {
        "id": "3zpTTXdpSfvP",
        "outputId": "866905a4-d54b-4f9d-dfa9-59daa6cbcd3d",
        "colab": {
          "base_uri": "https://localhost:8080/",
          "height": 447
        }
      },
      "execution_count": 10,
      "outputs": [
        {
          "output_type": "execute_result",
          "data": {
            "text/plain": [
              "<Axes: >"
            ]
          },
          "metadata": {},
          "execution_count": 10
        },
        {
          "output_type": "display_data",
          "data": {
            "text/plain": [
              "<Figure size 640x480 with 1 Axes>"
            ],
            "image/png": "[encoded data removed]"
          },
          "metadata": {}
        }
      ]
    },
    {
      "cell_type": "code",
      "source": [
        "wb.survival_function_.plot()"
      ],
      "metadata": {
        "id": "H8VxkeRkSAQX",
        "outputId": "46adcd8a-7e45-47e7-e5bb-4692f79db6e6",
        "colab": {
          "base_uri": "https://localhost:8080/",
          "height": 447
        }
      },
      "execution_count": 9,
      "outputs": [
        {
          "output_type": "execute_result",
          "data": {
            "text/plain": [
              "<Axes: >"
            ]
          },
          "metadata": {},
          "execution_count": 9
        },
        {
          "output_type": "display_data",
          "data": {
            "text/plain": [
              "<Figure size 640x480 with 1 Axes>"
            ],
            "image/png": "[encoded data removed]"
          },
          "metadata": {}
        }
      ]
    },
    {
      "cell_type": "code",
      "execution_count": null,
      "metadata": {
        "id": "61ePRnyT8iqv",
        "outputId": "84a01130-856c-4955-8467-f4adfde2e5f9",
        "colab": {
          "base_uri": "https://localhost:8080/"
        }
      },
      "outputs": [
        {
          "output_type": "stream",
          "name": "stdout",
          "text": [
            "[nltk_data] Downloading package wordnet to /root/nltk_data...\n",
            "[nltk_data]   Unzipping corpora/wordnet.zip.\n"
          ]
        }
      ],
      "source": [
        "import re\n",
        "import spacy\n",
        "import numpy as np\n",
        "import pandas as pd\n",
        "import en_core_web_sm\n",
        "import tensorflow as tf\n",
        "from nltk.stem import WordNetLemmatizer\n",
        "from tensorflow.keras.optimizers import Adam\n",
        "from tensorflow.keras.models import Sequential\n",
        "from spacy.lang.en.stop_words import STOP_WORDS\n",
        "from tensorflow.keras.preprocessing.text import Tokenizer\n",
        "from tensorflow.keras.preprocessing.sequence import pad_sequences\n",
        "from tensorflow.keras.layers.experimental.preprocessing import TextVectorization\n",
        "from tensorflow.keras.layers import Embedding, LSTM, Dense, Bidirectional, Dropout\n",
        "import nltk\n",
        "nltk.download('wordnet')\n",
        "nlp = en_core_web_sm.load()\n",
        "lemmatizer = WordNetLemmatizer()\n",
        "stopwords = STOP_WORDS\n",
        "EMOJI_PATTERN = re.compile(\n",
        "    \"[\"\n",
        "    u\"U0001F600-U0001F64F\"  # emoticons\n",
        "    u\"U0001F300-U0001F5FF\"  # symbols & pictographs\n",
        "    u\"U0001F680-U0001F6FF\"  # transport & map symbols\n",
        "    u\"U0001F1E0-U0001F1FF\"  # flags (iOS)\n",
        "    u\"U00002702-U000027B0\"\n",
        "    u\"U000024C2-U0001F251\"\n",
        "    \"]+\", flags=re.UNICODE\n",
        ")\n",
        "FILTERS = '!\"#$%&()*+,-/:;?@[\\]^_`{|}~tn'\n",
        "HTML_TAG_PATTERN = re.compile(r']*>')\n",
        "NUMBERING_PATTERN = re.compile('d+(?:st|[nr]d|th)')\n",
        "DISABLE_PIPELINES = [\"tok2vec\", \"parser\", \"ner\", \"textcat\", \"custom\", \"lemmatizer\"]"
      ]
    },
    {
      "cell_type": "code",
      "source": [
        "!git clone https://github.com/illliyas/Machine-Learning.git"
      ],
      "metadata": {
        "id": "4uz_XhUu8bTD",
        "outputId": "578a35cc-74ea-4f28-93d4-17a08ee0fcdc",
        "colab": {
          "base_uri": "https://localhost:8080/"
        }
      },
      "execution_count": null,
      "outputs": [
        {
          "output_type": "stream",
          "name": "stdout",
          "text": [
            "Cloning into 'Machine-Learning'...\n",
            "remote: Enumerating objects: 1637, done.\u001b[K\n",
            "remote: Counting objects: 100% (54/54), done.\u001b[K\n",
            "remote: Compressing objects: 100% (52/52), done.\u001b[K\n",
            "remote: Total 1637 (delta 26), reused 6 (delta 2), pack-reused 1583\u001b[K\n",
            "Receiving objects: 100% (1637/1637), 303.74 MiB | 11.69 MiB/s, done.\n",
            "Resolving deltas: 100% (50/50), done.\n",
            "Checking out files: 100% (1539/1539), done.\n"
          ]
        }
      ]
    },
    {
      "cell_type": "code",
      "source": [
        "imdb_data = pd.read_csv('Machine-Learning/RNN/IMDB Dataset.csv')\n",
        "imdb_data.head()"
      ],
      "metadata": {
        "id": "WOG_ghs6oF7w",
        "outputId": "4a4a8c81-9f34-438d-c465-3078634d58fb",
        "colab": {
          "base_uri": "https://localhost:8080/",
          "height": 206
        }
      },
      "execution_count": null,
      "outputs": [
        {
          "output_type": "execute_result",
          "data": {
            "text/plain": [
              "                                              review sentiment\n",
              "0  One of the other reviewers has mentioned that ...  positive\n",
              "1  A wonderful little production. <br /><br />The...  positive\n",
              "2  I thought this was a wonderful way to spend ti...  positive\n",
              "3  Basically there's a family where a little boy ...  negative\n",
              "4  Petter Mattei's \"Love in the Time of Money\" is...  positive"
            ],
            "text/html": [
              "\n",
              "  <div id=\"df-a363e6b3-88a9-4915-9dc0-181235af3983\">\n",
              "    <div class=\"colab-df-container\">\n",
              "      <div>\n",
              "<style scoped>\n",
              "    .dataframe tbody tr th:only-of-type {\n",
              "        vertical-align: middle;\n",
              "    }\n",
              "\n",
              "    .dataframe tbody tr th {\n",
              "        vertical-align: top;\n",
              "    }\n",
              "\n",
              "    .dataframe thead th {\n",
              "        text-align: right;\n",
              "    }\n",
              "</style>\n",
              "<table border=\"1\" class=\"dataframe\">\n",
              "  <thead>\n",
              "    <tr style=\"text-align: right;\">\n",
              "      <th></th>\n",
              "      <th>review</th>\n",
              "      <th>sentiment</th>\n",
              "    </tr>\n",
              "  </thead>\n",
              "  <tbody>\n",
              "    <tr>\n",
              "      <th>0</th>\n",
              "      <td>One of the other reviewers has mentioned that ...</td>\n",
              "      <td>positive</td>\n",
              "    </tr>\n",
              "    <tr>\n",
              "      <th>1</th>\n",
              "      <td>A wonderful little production. &lt;br /&gt;&lt;br /&gt;The...</td>\n",
              "      <td>positive</td>\n",
              "    </tr>\n",
              "    <tr>\n",
              "      <th>2</th>\n",
              "      <td>I thought this was a wonderful way to spend ti...</td>\n",
              "      <td>positive</td>\n",
              "    </tr>\n",
              "    <tr>\n",
              "      <th>3</th>\n",
              "      <td>Basically there's a family where a little boy ...</td>\n",
              "      <td>negative</td>\n",
              "    </tr>\n",
              "    <tr>\n",
              "      <th>4</th>\n",
              "      <td>Petter Mattei's \"Love in the Time of Money\" is...</td>\n",
              "      <td>positive</td>\n",
              "    </tr>\n",
              "  </tbody>\n",
              "</table>\n",
              "</div>\n",
              "      <button class=\"colab-df-convert\" onclick=\"convertToInteractive('df-a363e6b3-88a9-4915-9dc0-181235af3983')\"\n",
              "              title=\"Convert this dataframe to an interactive table.\"\n",
              "              style=\"display:none;\">\n",
              "        \n",
              "  <svg xmlns=\"http://www.w3.org/2000/svg\" height=\"24px\"viewBox=\"0 0 24 24\"\n",
              "       width=\"24px\">\n",
              "    <path d=\"M0 0h24v24H0V0z\" fill=\"none\"/>\n",
              "    <path d=\"M18.56 5.44l.94 2.06.94-2.06 2.06-.94-2.06-.94-.94-2.06-.94 2.06-2.06.94zm-11 1L8.5 8.5l.94-2.06 2.06-.94-2.06-.94L8.5 2.5l-.94 2.06-2.06.94zm10 10l.94 2.06.94-2.06 2.06-.94-2.06-.94-.94-2.06-.94 2.06-2.06.94z\"/><path d=\"M17.41 7.96l-1.37-1.37c-.4-.4-.92-.59-1.43-.59-.52 0-1.04.2-1.43.59L10.3 9.45l-7.72 7.72c-.78.78-.78 2.05 0 2.83L4 21.41c.39.39.9.59 1.41.59.51 0 1.02-.2 1.41-.59l7.78-7.78 2.81-2.81c.8-.78.8-2.07 0-2.86zM5.41 20L4 18.59l7.72-7.72 1.47 1.35L5.41 20z\"/>\n",
              "  </svg>\n",
              "      </button>\n",
              "      \n",
              "  <style>\n",
              "    .colab-df-container {\n",
              "      display:flex;\n",
              "      flex-wrap:wrap;\n",
              "      gap: 12px;\n",
              "    }\n",
              "\n",
              "    .colab-df-convert {\n",
              "      background-color: #E8F0FE;\n",
              "      border: none;\n",
              "      border-radius: 50%;\n",
              "      cursor: pointer;\n",
              "      display: none;\n",
              "      fill: #1967D2;\n",
              "      height: 32px;\n",
              "      padding: 0 0 0 0;\n",
              "      width: 32px;\n",
              "    }\n",
              "\n",
              "    .colab-df-convert:hover {\n",
              "      background-color: #E2EBFA;\n",
              "      box-shadow: 0px 1px 2px rgba(60, 64, 67, 0.3), 0px 1px 3px 1px rgba(60, 64, 67, 0.15);\n",
              "      fill: #174EA6;\n",
              "    }\n",
              "\n",
              "    [theme=dark] .colab-df-convert {\n",
              "      background-color: #3B4455;\n",
              "      fill: #D2E3FC;\n",
              "    }\n",
              "\n",
              "    [theme=dark] .colab-df-convert:hover {\n",
              "      background-color: #434B5C;\n",
              "      box-shadow: 0px 1px 3px 1px rgba(0, 0, 0, 0.15);\n",
              "      filter: drop-shadow(0px 1px 2px rgba(0, 0, 0, 0.3));\n",
              "      fill: #FFFFFF;\n",
              "    }\n",
              "  </style>\n",
              "\n",
              "      <script>\n",
              "        const buttonEl =\n",
              "          document.querySelector('#df-a363e6b3-88a9-4915-9dc0-181235af3983 button.colab-df-convert');\n",
              "        buttonEl.style.display =\n",
              "          google.colab.kernel.accessAllowed ? 'block' : 'none';\n",
              "\n",
              "        async function convertToInteractive(key) {\n",
              "          const element = document.querySelector('#df-a363e6b3-88a9-4915-9dc0-181235af3983');\n",
              "          const dataTable =\n",
              "            await google.colab.kernel.invokeFunction('convertToInteractive',\n",
              "                                                     [key], {});\n",
              "          if (!dataTable) return;\n",
              "\n",
              "          const docLinkHtml = 'Like what you see? Visit the ' +\n",
              "            '<a target=\"_blank\" href=https://colab.research.google.com/notebooks/data_table.ipynb>data table notebook</a>'\n",
              "            + ' to learn more about interactive tables.';\n",
              "          element.innerHTML = '';\n",
              "          dataTable['output_type'] = 'display_data';\n",
              "          await google.colab.output.renderOutput(dataTable, element);\n",
              "          const docLink = document.createElement('div');\n",
              "          docLink.innerHTML = docLinkHtml;\n",
              "          element.appendChild(docLink);\n",
              "        }\n",
              "      </script>\n",
              "    </div>\n",
              "  </div>\n",
              "  "
            ]
          },
          "metadata": {},
          "execution_count": 3
        }
      ]
    },
    {
      "cell_type": "code",
      "source": [
        "def initial_preprocessing(text):\n",
        "\n",
        "    \"\"\"\n",
        "\n",
        "    - Remove HTML tags\n",
        "\n",
        "    - Remove Emojis\n",
        "\n",
        "    - For numberings like 1st, 2nd\n",
        "\n",
        "    - Remove extra characters > 2 eg:\n",
        "\n",
        "    ohhhh to ohh\n",
        "\n",
        "    \"\"\"\n",
        "\n",
        "    tag_removed_text = HTML_TAG_PATTERN.sub('', text)\n",
        "\n",
        "    emoji_removed_text = EMOJI_PATTERN.sub(r'', tag_removed_text)\n",
        "\n",
        "    numberings_removed_text =  NUMBERING_PATTERN.sub('', emoji_removed_text)\n",
        "\n",
        "    extra_chars_removed_text = re.sub(\n",
        "\n",
        "        r\"(.)1{2,}\",  r'11', numberings_removed_text\n",
        "\n",
        "    )\n",
        "\n",
        "    return extra_chars_removed_text\n",
        "\n",
        "def preprocess_text(doc):\n",
        "\n",
        "    \"\"\"\n",
        "\n",
        "    Removes the\n",
        "\n",
        "    1. Spaces\n",
        "\n",
        "    2. Email\n",
        "\n",
        "    3. URLs\n",
        "\n",
        "    4. Stopwords\n",
        "\n",
        "    5. Punctuations\n",
        "\n",
        "    6. Numbers\n",
        "\n",
        "    \"\"\"\n",
        "\n",
        "    tokens = [\n",
        "\n",
        "        token\n",
        "\n",
        "        for token in doc\n",
        "\n",
        "        if not token.is_space and\n",
        "\n",
        "           not token.like_email and\n",
        "\n",
        "           not token.like_url and\n",
        "\n",
        "           not token.is_stop and\n",
        "\n",
        "           not token.is_punct and\n",
        "\n",
        "           not token.like_num\n",
        "\n",
        "    ]\n",
        "\n",
        "    \"\"\"\n",
        "\n",
        "    Remove special characters in tokens except dot\n",
        "\n",
        "    (would be useful for acronym handling)\n",
        "\n",
        "    \"\"\"\n",
        "\n",
        "    translation_table = str.maketrans('', '', FILTERS)\n",
        "\n",
        "    translated_tokens = [\n",
        "\n",
        "        token.text.lower().translate(translation_table)\n",
        "\n",
        "        for token in tokens\n",
        "\n",
        "    ]\n",
        "\n",
        "    \"\"\"\n",
        "\n",
        "    Remove integers if any after removing\n",
        "\n",
        "    special characters, remove single characters\n",
        "\n",
        "    and lemmatize\n",
        "\n",
        "    \"\"\"\n",
        "\n",
        "    lemmatized_tokens = [\n",
        "\n",
        "        lemmatizer.lemmatize(token)\n",
        "\n",
        "        for token in translated_tokens\n",
        "\n",
        "        if len(token) > 1\n",
        "\n",
        "    ]\n",
        "\n",
        "    return lemmatized_tokens\n",
        "\n",
        "labels = imdb_data['sentiment'].iloc[:10000]\n",
        "\n",
        "labels = labels.map(lambda x: 1 if x=='positive' else 0)\n",
        "\n",
        "\"\"\"\n",
        "\n",
        "Preprocess the text data\n",
        "\n",
        "\"\"\"\n",
        "\n",
        "data = imdb_data.iloc[:10000, :]\n",
        "\n",
        "column = 'review'\n",
        "\n",
        "not_null_data = data[data[column].notnull()]\n",
        "\n",
        "not_null_data[column] = not_null_data[column].apply(initial_preprocessing)\n",
        "\n",
        "texts = [\n",
        "\n",
        "    preprocess_text(doc)\n",
        "\n",
        "    for doc in nlp.pipe(not_null_data[column], disable=DISABLE_PIPELINES)\n",
        "\n",
        "]"
      ],
      "metadata": {
        "id": "gLnQ_3R7nsYh"
      },
      "execution_count": null,
      "outputs": []
    },
    {
      "cell_type": "markdown",
      "source": [
        "First of all, we are taking the first 10000 rows of data. The label/ target in this data is the column named ‘sentiment’. The sentiment column consists of two unique values namely ‘positive’ and ‘negative’ indicating the sentiment of the corresponding reviews. We are replacing the value ‘positive’ with integer 1 and the value ‘negative’ with integer 0.\n",
        "\n",
        "We are taking only the rows which are not null which means we are omitting the reviews with null values. After obtaining the not null reviews we are applying the initial preprocessing function defined above.\n",
        "\n",
        "The steps followed by the method initial preprocessing are,\n",
        "\n",
        "* Removing HTML tags like , and extracting the data defined inside the tag\n",
        "* Removing the emojis in the data\n",
        "* Removing the numbering patterns in the data like 1st, 2nd, 3rd, and etc.\n",
        "* Removing extra characters in the word. For example, the word ohhh is replaced with ohh.\n",
        "\n",
        "After applying the initial preprocessing steps we are using spacy to preprocess the data. The steps followed by the preprocess method are,\n",
        "\n",
        "* Removing spaces in the data.\n",
        "* Removing emails in the data.\n",
        "* Removing stopwords in the data.\n",
        "* Removing URLs in the data.\n",
        "* Removing punctuations in the data.\n",
        "* Removing numbers in the data.\n",
        "* Lemmatization.\n",
        "\n",
        "The function nlp.pipe will produce series of doc objects in spaCy. A doc in spaCy is a sequence of token objects. We used disable pipelines to speed up the preprocessing time.\n",
        "\n",
        "Lemmatization is the process of finding the root of the word. For example, the lemma of the word running would be run, which is the root of the word running. The purpose of doing lemmatization is to decrease the size of the vocabulary. To lemmatize the words we have used WordNetLemmatizer from the nltk package."
      ],
      "metadata": {
        "id": "752jdhyquR7C"
      }
    },
    {
      "cell_type": "code",
      "source": [
        "tokenizer = Tokenizer(\n",
        "    filters=FILTERS,\n",
        "    lower=True\n",
        ")\n",
        "padding = 'post'\n",
        "tokenizer.fit_on_texts(texts)\n",
        "vocab_size = len(tokenizer.word_index) + 1\n",
        "sequences = []\n",
        "max_sequence_len = 0\n",
        "for text in texts:\n",
        "    # convert texts to sequence\n",
        "    txt_to_seq = tokenizer.texts_to_sequences([text])[0]\n",
        "    sequences.append(txt_to_seq)\n",
        "    # find max_sequence_len for padding\n",
        "    txt_to_seq_len = len(txt_to_seq)\n",
        "    if txt_to_seq_len > max_sequence_len:\n",
        "        max_sequence_len = txt_to_seq_len\n",
        "# post padding\n",
        "padded_sequences = pad_sequences(\n",
        "    sequences,\n",
        "    maxlen=max_sequence_len,\n",
        "    padding=padding\n",
        ")"
      ],
      "metadata": {
        "id": "bmw50Wx-9Qb4"
      },
      "execution_count": null,
      "outputs": []
    },
    {
      "cell_type": "markdown",
      "source": [
        "After performing the preprocessing we are going to tokenize the data, convert the tokenized words to sequences, and pad the tokenized sentences. Tokenization is the process of breaking down a sentence into a sequence of words. For example, “I like apples” can be tokenized to [“I”, “like”, “apples”]. Converting the tokenized sentences into sequences would look like [1, 2, 3]. The words “i”, “like”, and “apples” are mapped to the numbers 1, 2, and 3. Then padding the sequences would look like [1, 2, 3, 0, 0, 0]. The three zeros after the number 3 are the padded sequences. This is also called post padding."
      ],
      "metadata": {
        "id": "wWYjInL8vDzp"
      }
    },
    {
      "cell_type": "code",
      "source": [
        "max_sequence_len"
      ],
      "metadata": {
        "id": "Imx81P3Gp1zY",
        "outputId": "2ba9a782-34ec-45a2-e952-4b37f54d4c5a",
        "colab": {
          "base_uri": "https://localhost:8080/"
        }
      },
      "execution_count": null,
      "outputs": [
        {
          "output_type": "execute_result",
          "data": {
            "text/plain": [
              "840"
            ]
          },
          "metadata": {},
          "execution_count": 16
        }
      ]
    },
    {
      "cell_type": "code",
      "source": [
        "model = Sequential()\n",
        "model.add(Embedding(vocab_size, 64, input_length=max_sequence_len))\n",
        "model.add(Bidirectional(LSTM(64, return_sequences=True, input_shape=(None, 1))))\n",
        "model.add(Dropout(0.2))\n",
        "model.add(Bidirectional(LSTM(32)))\n",
        "model.add(Dropout(0.2))\n",
        "model.add(Dense(64, activation='relu'))\n",
        "model.add(Dropout(0.1))\n",
        "model.add(Dense(1, activation='sigmoid'))\n",
        "adam = Adam(learning_rate=0.01)\n",
        "model.compile(\n",
        "    loss=tf.keras.losses.BinaryCrossentropy(from_logits=True),\n",
        "    optimizer=adam,\n",
        "    metrics=['accuracy']\n",
        ")\n",
        "model.summary()"
      ],
      "metadata": {
        "id": "Dzg7hGUR_axf",
        "outputId": "75c48dad-4366-4665-96bd-40e6547790cb",
        "colab": {
          "base_uri": "https://localhost:8080/"
        }
      },
      "execution_count": null,
      "outputs": [
        {
          "output_type": "stream",
          "name": "stdout",
          "text": [
            "Model: \"sequential\"\n",
            "_________________________________________________________________\n",
            " Layer (type)                Output Shape              Param #   \n",
            "=================================================================\n",
            " embedding (Embedding)       (None, 840, 64)           3222976   \n",
            "                                                                 \n",
            " bidirectional (Bidirectiona  (None, 840, 128)         66048     \n",
            " l)                                                              \n",
            "                                                                 \n",
            " dropout (Dropout)           (None, 840, 128)          0         \n",
            "                                                                 \n",
            " bidirectional_1 (Bidirectio  (None, 64)               41216     \n",
            " nal)                                                            \n",
            "                                                                 \n",
            " dropout_1 (Dropout)         (None, 64)                0         \n",
            "                                                                 \n",
            " dense (Dense)               (None, 64)                4160      \n",
            "                                                                 \n",
            " dropout_2 (Dropout)         (None, 64)                0         \n",
            "                                                                 \n",
            " dense_1 (Dense)             (None, 1)                 65        \n",
            "                                                                 \n",
            "=================================================================\n",
            "Total params: 3,334,465\n",
            "Trainable params: 3,334,465\n",
            "Non-trainable params: 0\n",
            "_________________________________________________________________\n"
          ]
        }
      ]
    },
    {
      "cell_type": "code",
      "source": [
        "padded_sequences.shape"
      ],
      "metadata": {
        "id": "FbHhHZ68pytY",
        "outputId": "7cdaed84-f698-4fe7-ba31-22d651f4d670",
        "colab": {
          "base_uri": "https://localhost:8080/"
        }
      },
      "execution_count": null,
      "outputs": [
        {
          "output_type": "execute_result",
          "data": {
            "text/plain": [
              "(10000, 840)"
            ]
          },
          "metadata": {},
          "execution_count": 7
        }
      ]
    },
    {
      "cell_type": "code",
      "source": [
        "history = model.fit(\n",
        "    padded_sequences,\n",
        "    labels.values,\n",
        "    epochs=10,\n",
        "    verbose=1,\n",
        "    batch_size=64\n",
        ")"
      ],
      "metadata": {
        "id": "TvOVccYh_3wy",
        "outputId": "15650f0e-a2e8-451a-c59d-83e67b6d0f46",
        "colab": {
          "base_uri": "https://localhost:8080/"
        }
      },
      "execution_count": null,
      "outputs": [
        {
          "output_type": "stream",
          "name": "stdout",
          "text": [
            "Epoch 1/10\n"
          ]
        },
        {
          "output_type": "stream",
          "name": "stderr",
          "text": [
            "/usr/local/lib/python3.7/dist-packages/tensorflow/python/util/dispatch.py:1082: UserWarning: \"`binary_crossentropy` received `from_logits=True`, but the `output` argument was produced by a sigmoid or softmax activation and thus does not represent logits. Was this intended?\"\n",
            "  return dispatch_target(*args, **kwargs)\n"
          ]
        },
        {
          "output_type": "stream",
          "name": "stdout",
          "text": [
            "157/157 [==============================] - 76s 399ms/step - loss: 0.6090 - accuracy: 0.6710\n",
            "Epoch 2/10\n",
            "157/157 [==============================] - 61s 385ms/step - loss: 0.3711 - accuracy: 0.8547\n",
            "Epoch 3/10\n",
            "157/157 [==============================] - 61s 388ms/step - loss: 0.1991 - accuracy: 0.9313\n",
            "Epoch 4/10\n",
            "157/157 [==============================] - 61s 388ms/step - loss: 0.1054 - accuracy: 0.9700\n",
            "Epoch 5/10\n",
            "157/157 [==============================] - 60s 383ms/step - loss: 0.0576 - accuracy: 0.9837\n",
            "Epoch 6/10\n",
            "157/157 [==============================] - 60s 385ms/step - loss: 0.0191 - accuracy: 0.9959\n",
            "Epoch 7/10\n",
            "157/157 [==============================] - 61s 386ms/step - loss: 0.0084 - accuracy: 0.9979\n",
            "Epoch 8/10\n",
            "157/157 [==============================] - 61s 391ms/step - loss: 0.0100 - accuracy: 0.9972\n",
            "Epoch 9/10\n",
            "157/157 [==============================] - 61s 391ms/step - loss: 0.0140 - accuracy: 0.9963\n",
            "Epoch 10/10\n",
            "157/157 [==============================] - 61s 390ms/step - loss: 0.0062 - accuracy: 0.9985\n"
          ]
        }
      ]
    },
    {
      "cell_type": "code",
      "source": [
        "import matplotlib.pyplot as plt\n",
        "fig = plt.plot(history.history['accuracy'])\n",
        "title = plt.title(\"History\")\n",
        "xlabel = plt.xlabel(\"Epochs\")\n",
        "ylabel = plt.ylabel(\"Accuracy\")"
      ],
      "metadata": {
        "id": "cilyuB6KwYuM",
        "outputId": "e38daa50-21f9-438b-f397-72a741931548",
        "colab": {
          "base_uri": "https://localhost:8080/",
          "height": 294
        }
      },
      "execution_count": null,
      "outputs": [
        {
          "output_type": "display_data",
          "data": {
            "text/plain": [
              "<Figure size 432x288 with 1 Axes>"
            ],
            "image/png": "[encoded data removed]"
          },
          "metadata": {
            "needs_background": "light"
          }
        }
      ]
    },
    {
      "cell_type": "code",
      "source": [
        "predictions = model.predict(padded_sequences[:4])\n",
        "for pred in predictions:\n",
        "    print(pred[0])"
      ],
      "metadata": {
        "id": "7OGah7AB9a6O",
        "outputId": "c4b0be1f-df1f-4cf8-86e5-add3acdfc6d5",
        "colab": {
          "base_uri": "https://localhost:8080/"
        }
      },
      "execution_count": null,
      "outputs": [
        {
          "output_type": "stream",
          "name": "stdout",
          "text": [
            "0.9999548\n",
            "0.9999728\n",
            "0.9999434\n",
            "1.0682146e-05\n"
          ]
        }
      ]
    },
    {
      "cell_type": "code",
      "source": [
        "data[:4]"
      ],
      "metadata": {
        "id": "lbT0vNVGvzby",
        "outputId": "6a605316-d566-4565-bd81-9a3afbecbc55",
        "colab": {
          "base_uri": "https://localhost:8080/",
          "height": 174
        }
      },
      "execution_count": null,
      "outputs": [
        {
          "output_type": "execute_result",
          "data": {
            "text/plain": [
              "                                              review sentiment\n",
              "0  One of the other reviewers has mentioned that ...  positive\n",
              "1  A wonderful little production. <br /><br />The...  positive\n",
              "2  I thought this was a wonderful way to spend ti...  positive\n",
              "3  Basically there's a family where a little boy ...  negative"
            ],
            "text/html": [
              "\n",
              "  <div id=\"df-8a72bd51-d500-49a2-8bc8-4049eee056bd\">\n",
              "    <div class=\"colab-df-container\">\n",
              "      <div>\n",
              "<style scoped>\n",
              "    .dataframe tbody tr th:only-of-type {\n",
              "        vertical-align: middle;\n",
              "    }\n",
              "\n",
              "    .dataframe tbody tr th {\n",
              "        vertical-align: top;\n",
              "    }\n",
              "\n",
              "    .dataframe thead th {\n",
              "        text-align: right;\n",
              "    }\n",
              "</style>\n",
              "<table border=\"1\" class=\"dataframe\">\n",
              "  <thead>\n",
              "    <tr style=\"text-align: right;\">\n",
              "      <th></th>\n",
              "      <th>review</th>\n",
              "      <th>sentiment</th>\n",
              "    </tr>\n",
              "  </thead>\n",
              "  <tbody>\n",
              "    <tr>\n",
              "      <th>0</th>\n",
              "      <td>One of the other reviewers has mentioned that ...</td>\n",
              "      <td>positive</td>\n",
              "    </tr>\n",
              "    <tr>\n",
              "      <th>1</th>\n",
              "      <td>A wonderful little production. &lt;br /&gt;&lt;br /&gt;The...</td>\n",
              "      <td>positive</td>\n",
              "    </tr>\n",
              "    <tr>\n",
              "      <th>2</th>\n",
              "      <td>I thought this was a wonderful way to spend ti...</td>\n",
              "      <td>positive</td>\n",
              "    </tr>\n",
              "    <tr>\n",
              "      <th>3</th>\n",
              "      <td>Basically there's a family where a little boy ...</td>\n",
              "      <td>negative</td>\n",
              "    </tr>\n",
              "  </tbody>\n",
              "</table>\n",
              "</div>\n",
              "      <button class=\"colab-df-convert\" onclick=\"convertToInteractive('df-8a72bd51-d500-49a2-8bc8-4049eee056bd')\"\n",
              "              title=\"Convert this dataframe to an interactive table.\"\n",
              "              style=\"display:none;\">\n",
              "        \n",
              "  <svg xmlns=\"http://www.w3.org/2000/svg\" height=\"24px\"viewBox=\"0 0 24 24\"\n",
              "       width=\"24px\">\n",
              "    <path d=\"M0 0h24v24H0V0z\" fill=\"none\"/>\n",
              "    <path d=\"M18.56 5.44l.94 2.06.94-2.06 2.06-.94-2.06-.94-.94-2.06-.94 2.06-2.06.94zm-11 1L8.5 8.5l.94-2.06 2.06-.94-2.06-.94L8.5 2.5l-.94 2.06-2.06.94zm10 10l.94 2.06.94-2.06 2.06-.94-2.06-.94-.94-2.06-.94 2.06-2.06.94z\"/><path d=\"M17.41 7.96l-1.37-1.37c-.4-.4-.92-.59-1.43-.59-.52 0-1.04.2-1.43.59L10.3 9.45l-7.72 7.72c-.78.78-.78 2.05 0 2.83L4 21.41c.39.39.9.59 1.41.59.51 0 1.02-.2 1.41-.59l7.78-7.78 2.81-2.81c.8-.78.8-2.07 0-2.86zM5.41 20L4 18.59l7.72-7.72 1.47 1.35L5.41 20z\"/>\n",
              "  </svg>\n",
              "      </button>\n",
              "      \n",
              "  <style>\n",
              "    .colab-df-container {\n",
              "      display:flex;\n",
              "      flex-wrap:wrap;\n",
              "      gap: 12px;\n",
              "    }\n",
              "\n",
              "    .colab-df-convert {\n",
              "      background-color: #E8F0FE;\n",
              "      border: none;\n",
              "      border-radius: 50%;\n",
              "      cursor: pointer;\n",
              "      display: none;\n",
              "      fill: #1967D2;\n",
              "      height: 32px;\n",
              "      padding: 0 0 0 0;\n",
              "      width: 32px;\n",
              "    }\n",
              "\n",
              "    .colab-df-convert:hover {\n",
              "      background-color: #E2EBFA;\n",
              "      box-shadow: 0px 1px 2px rgba(60, 64, 67, 0.3), 0px 1px 3px 1px rgba(60, 64, 67, 0.15);\n",
              "      fill: #174EA6;\n",
              "    }\n",
              "\n",
              "    [theme=dark] .colab-df-convert {\n",
              "      background-color: #3B4455;\n",
              "      fill: #D2E3FC;\n",
              "    }\n",
              "\n",
              "    [theme=dark] .colab-df-convert:hover {\n",
              "      background-color: #434B5C;\n",
              "      box-shadow: 0px 1px 3px 1px rgba(0, 0, 0, 0.15);\n",
              "      filter: drop-shadow(0px 1px 2px rgba(0, 0, 0, 0.3));\n",
              "      fill: #FFFFFF;\n",
              "    }\n",
              "  </style>\n",
              "\n",
              "      <script>\n",
              "        const buttonEl =\n",
              "          document.querySelector('#df-8a72bd51-d500-49a2-8bc8-4049eee056bd button.colab-df-convert');\n",
              "        buttonEl.style.display =\n",
              "          google.colab.kernel.accessAllowed ? 'block' : 'none';\n",
              "\n",
              "        async function convertToInteractive(key) {\n",
              "          const element = document.querySelector('#df-8a72bd51-d500-49a2-8bc8-4049eee056bd');\n",
              "          const dataTable =\n",
              "            await google.colab.kernel.invokeFunction('convertToInteractive',\n",
              "                                                     [key], {});\n",
              "          if (!dataTable) return;\n",
              "\n",
              "          const docLinkHtml = 'Like what you see? Visit the ' +\n",
              "            '<a target=\"_blank\" href=https://colab.research.google.com/notebooks/data_table.ipynb>data table notebook</a>'\n",
              "            + ' to learn more about interactive tables.';\n",
              "          element.innerHTML = '';\n",
              "          dataTable['output_type'] = 'display_data';\n",
              "          await google.colab.output.renderOutput(dataTable, element);\n",
              "          const docLink = document.createElement('div');\n",
              "          docLink.innerHTML = docLinkHtml;\n",
              "          element.appendChild(docLink);\n",
              "        }\n",
              "      </script>\n",
              "    </div>\n",
              "  </div>\n",
              "  "
            ]
          },
          "metadata": {},
          "execution_count": 14
        }
      ]
    }
  ]
}