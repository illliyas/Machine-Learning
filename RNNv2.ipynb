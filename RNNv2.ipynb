{
  "nbformat": 4,
  "nbformat_minor": 0,
  "metadata": {
    "colab": {
      "name": "RNN.ipynb",
      "provenance": [],
      "authorship_tag": "ABX9TyNKpQ9E643r53UrGLKHiEFt"
    },
    "kernelspec": {
      "name": "python3",
      "display_name": "Python 3"
    },
    "language_info": {
      "name": "python"
    }
  },
  "cells": [
    {
      "cell_type": "code",
      "execution_count": 62,
      "metadata": {
        "id": "61ePRnyT8iqv"
      },
      "outputs": [],
      "source": [
        "import numpy as np\n",
        "import pandas as pd\n",
        "import matplotlib.pyplot as plt\n",
        "import seaborn as sns\n",
        "import tensorflow as tf\n",
        "from tensorflow.keras.models import Sequential\n",
        "from tensorflow.keras.layers import Dense,LSTM\n",
        "from sklearn.preprocessing import MinMaxScaler\n",
        "import math\n",
        "from sklearn.metrics import mean_squared_error"
      ]
    },
    {
      "cell_type": "code",
      "source": [
        "!git clone https://github.com/illliyas/Machine-Learning.git"
      ],
      "metadata": {
        "colab": {
          "base_uri": "https://localhost:8080/"
        },
        "id": "4uz_XhUu8bTD",
        "outputId": "1eb189eb-d7a8-4e2b-86cd-ac01976c9df0"
      },
      "execution_count": 2,
      "outputs": [
        {
          "output_type": "stream",
          "name": "stdout",
          "text": [
            "Cloning into 'Machine-Learning'...\n",
            "remote: Enumerating objects: 1613, done.\u001b[K\n",
            "remote: Counting objects: 100% (30/30), done.\u001b[K\n",
            "remote: Compressing objects: 100% (30/30), done.\u001b[K\n",
            "remote: Total 1613 (delta 15), reused 0 (delta 0), pack-reused 1583\u001b[K\n",
            "Receiving objects: 100% (1613/1613), 278.13 MiB | 25.61 MiB/s, done.\n",
            "Resolving deltas: 100% (39/39), done.\n",
            "Checking out files: 100% (1537/1537), done.\n"
          ]
        }
      ]
    },
    {
      "cell_type": "code",
      "source": [
        "data = pd.read_csv('Machine-Learning/AirPassengers.csv')\n",
        "data.head()"
      ],
      "metadata": {
        "colab": {
          "base_uri": "https://localhost:8080/",
          "height": 206
        },
        "id": "bmw50Wx-9Qb4",
        "outputId": "05c333e4-b39b-4ff2-af51-66c705fd8c5e"
      },
      "execution_count": 85,
      "outputs": [
        {
          "output_type": "execute_result",
          "data": {
            "text/plain": [
              "     Month  #Passengers\n",
              "0  1949-01          112\n",
              "1  1949-02          118\n",
              "2  1949-03          132\n",
              "3  1949-04          129\n",
              "4  1949-05          121"
            ],
            "text/html": [
              "\n",
              "  <div id=\"df-e00c0924-adbf-4f78-a3de-5ea2897bf0c4\">\n",
              "    <div class=\"colab-df-container\">\n",
              "      <div>\n",
              "<style scoped>\n",
              "    .dataframe tbody tr th:only-of-type {\n",
              "        vertical-align: middle;\n",
              "    }\n",
              "\n",
              "    .dataframe tbody tr th {\n",
              "        vertical-align: top;\n",
              "    }\n",
              "\n",
              "    .dataframe thead th {\n",
              "        text-align: right;\n",
              "    }\n",
              "</style>\n",
              "<table border=\"1\" class=\"dataframe\">\n",
              "  <thead>\n",
              "    <tr style=\"text-align: right;\">\n",
              "      <th></th>\n",
              "      <th>Month</th>\n",
              "      <th>#Passengers</th>\n",
              "    </tr>\n",
              "  </thead>\n",
              "  <tbody>\n",
              "    <tr>\n",
              "      <th>0</th>\n",
              "      <td>1949-01</td>\n",
              "      <td>112</td>\n",
              "    </tr>\n",
              "    <tr>\n",
              "      <th>1</th>\n",
              "      <td>1949-02</td>\n",
              "      <td>118</td>\n",
              "    </tr>\n",
              "    <tr>\n",
              "      <th>2</th>\n",
              "      <td>1949-03</td>\n",
              "      <td>132</td>\n",
              "    </tr>\n",
              "    <tr>\n",
              "      <th>3</th>\n",
              "      <td>1949-04</td>\n",
              "      <td>129</td>\n",
              "    </tr>\n",
              "    <tr>\n",
              "      <th>4</th>\n",
              "      <td>1949-05</td>\n",
              "      <td>121</td>\n",
              "    </tr>\n",
              "  </tbody>\n",
              "</table>\n",
              "</div>\n",
              "      <button class=\"colab-df-convert\" onclick=\"convertToInteractive('df-e00c0924-adbf-4f78-a3de-5ea2897bf0c4')\"\n",
              "              title=\"Convert this dataframe to an interactive table.\"\n",
              "              style=\"display:none;\">\n",
              "        \n",
              "  <svg xmlns=\"http://www.w3.org/2000/svg\" height=\"24px\"viewBox=\"0 0 24 24\"\n",
              "       width=\"24px\">\n",
              "    <path d=\"M0 0h24v24H0V0z\" fill=\"none\"/>\n",
              "    <path d=\"M18.56 5.44l.94 2.06.94-2.06 2.06-.94-2.06-.94-.94-2.06-.94 2.06-2.06.94zm-11 1L8.5 8.5l.94-2.06 2.06-.94-2.06-.94L8.5 2.5l-.94 2.06-2.06.94zm10 10l.94 2.06.94-2.06 2.06-.94-2.06-.94-.94-2.06-.94 2.06-2.06.94z\"/><path d=\"M17.41 7.96l-1.37-1.37c-.4-.4-.92-.59-1.43-.59-.52 0-1.04.2-1.43.59L10.3 9.45l-7.72 7.72c-.78.78-.78 2.05 0 2.83L4 21.41c.39.39.9.59 1.41.59.51 0 1.02-.2 1.41-.59l7.78-7.78 2.81-2.81c.8-.78.8-2.07 0-2.86zM5.41 20L4 18.59l7.72-7.72 1.47 1.35L5.41 20z\"/>\n",
              "  </svg>\n",
              "      </button>\n",
              "      \n",
              "  <style>\n",
              "    .colab-df-container {\n",
              "      display:flex;\n",
              "      flex-wrap:wrap;\n",
              "      gap: 12px;\n",
              "    }\n",
              "\n",
              "    .colab-df-convert {\n",
              "      background-color: #E8F0FE;\n",
              "      border: none;\n",
              "      border-radius: 50%;\n",
              "      cursor: pointer;\n",
              "      display: none;\n",
              "      fill: #1967D2;\n",
              "      height: 32px;\n",
              "      padding: 0 0 0 0;\n",
              "      width: 32px;\n",
              "    }\n",
              "\n",
              "    .colab-df-convert:hover {\n",
              "      background-color: #E2EBFA;\n",
              "      box-shadow: 0px 1px 2px rgba(60, 64, 67, 0.3), 0px 1px 3px 1px rgba(60, 64, 67, 0.15);\n",
              "      fill: #174EA6;\n",
              "    }\n",
              "\n",
              "    [theme=dark] .colab-df-convert {\n",
              "      background-color: #3B4455;\n",
              "      fill: #D2E3FC;\n",
              "    }\n",
              "\n",
              "    [theme=dark] .colab-df-convert:hover {\n",
              "      background-color: #434B5C;\n",
              "      box-shadow: 0px 1px 3px 1px rgba(0, 0, 0, 0.15);\n",
              "      filter: drop-shadow(0px 1px 2px rgba(0, 0, 0, 0.3));\n",
              "      fill: #FFFFFF;\n",
              "    }\n",
              "  </style>\n",
              "\n",
              "      <script>\n",
              "        const buttonEl =\n",
              "          document.querySelector('#df-e00c0924-adbf-4f78-a3de-5ea2897bf0c4 button.colab-df-convert');\n",
              "        buttonEl.style.display =\n",
              "          google.colab.kernel.accessAllowed ? 'block' : 'none';\n",
              "\n",
              "        async function convertToInteractive(key) {\n",
              "          const element = document.querySelector('#df-e00c0924-adbf-4f78-a3de-5ea2897bf0c4');\n",
              "          const dataTable =\n",
              "            await google.colab.kernel.invokeFunction('convertToInteractive',\n",
              "                                                     [key], {});\n",
              "          if (!dataTable) return;\n",
              "\n",
              "          const docLinkHtml = 'Like what you see? Visit the ' +\n",
              "            '<a target=\"_blank\" href=https://colab.research.google.com/notebooks/data_table.ipynb>data table notebook</a>'\n",
              "            + ' to learn more about interactive tables.';\n",
              "          element.innerHTML = '';\n",
              "          dataTable['output_type'] = 'display_data';\n",
              "          await google.colab.output.renderOutput(dataTable, element);\n",
              "          const docLink = document.createElement('div');\n",
              "          docLink.innerHTML = docLinkHtml;\n",
              "          element.appendChild(docLink);\n",
              "        }\n",
              "      </script>\n",
              "    </div>\n",
              "  </div>\n",
              "  "
            ]
          },
          "metadata": {},
          "execution_count": 85
        }
      ]
    },
    {
      "cell_type": "code",
      "source": [
        "data.info()"
      ],
      "metadata": {
        "colab": {
          "base_uri": "https://localhost:8080/"
        },
        "id": "Dzg7hGUR_axf",
        "outputId": "8efbebc7-4b27-4509-84a1-6cc99ca5e93e"
      },
      "execution_count": 23,
      "outputs": [
        {
          "output_type": "stream",
          "name": "stdout",
          "text": [
            "<class 'pandas.core.frame.DataFrame'>\n",
            "RangeIndex: 144 entries, 0 to 143\n",
            "Data columns (total 2 columns):\n",
            " #   Column       Non-Null Count  Dtype \n",
            "---  ------       --------------  ----- \n",
            " 0   Month        144 non-null    object\n",
            " 1   #Passengers  144 non-null    int64 \n",
            "dtypes: int64(1), object(1)\n",
            "memory usage: 2.4+ KB\n"
          ]
        }
      ]
    },
    {
      "cell_type": "code",
      "source": [
        "data.describe()"
      ],
      "metadata": {
        "colab": {
          "base_uri": "https://localhost:8080/",
          "height": 300
        },
        "id": "TvOVccYh_3wy",
        "outputId": "ac6a177f-2f64-4c43-da49-ae908a19c352"
      },
      "execution_count": 24,
      "outputs": [
        {
          "output_type": "execute_result",
          "data": {
            "text/plain": [
              "       #Passengers\n",
              "count   144.000000\n",
              "mean    280.298611\n",
              "std     119.966317\n",
              "min     104.000000\n",
              "25%     180.000000\n",
              "50%     265.500000\n",
              "75%     360.500000\n",
              "max     622.000000"
            ],
            "text/html": [
              "\n",
              "  <div id=\"df-1bacd6f4-4a03-4015-911a-c65e86cb9cf7\">\n",
              "    <div class=\"colab-df-container\">\n",
              "      <div>\n",
              "<style scoped>\n",
              "    .dataframe tbody tr th:only-of-type {\n",
              "        vertical-align: middle;\n",
              "    }\n",
              "\n",
              "    .dataframe tbody tr th {\n",
              "        vertical-align: top;\n",
              "    }\n",
              "\n",
              "    .dataframe thead th {\n",
              "        text-align: right;\n",
              "    }\n",
              "</style>\n",
              "<table border=\"1\" class=\"dataframe\">\n",
              "  <thead>\n",
              "    <tr style=\"text-align: right;\">\n",
              "      <th></th>\n",
              "      <th>#Passengers</th>\n",
              "    </tr>\n",
              "  </thead>\n",
              "  <tbody>\n",
              "    <tr>\n",
              "      <th>count</th>\n",
              "      <td>144.000000</td>\n",
              "    </tr>\n",
              "    <tr>\n",
              "      <th>mean</th>\n",
              "      <td>280.298611</td>\n",
              "    </tr>\n",
              "    <tr>\n",
              "      <th>std</th>\n",
              "      <td>119.966317</td>\n",
              "    </tr>\n",
              "    <tr>\n",
              "      <th>min</th>\n",
              "      <td>104.000000</td>\n",
              "    </tr>\n",
              "    <tr>\n",
              "      <th>25%</th>\n",
              "      <td>180.000000</td>\n",
              "    </tr>\n",
              "    <tr>\n",
              "      <th>50%</th>\n",
              "      <td>265.500000</td>\n",
              "    </tr>\n",
              "    <tr>\n",
              "      <th>75%</th>\n",
              "      <td>360.500000</td>\n",
              "    </tr>\n",
              "    <tr>\n",
              "      <th>max</th>\n",
              "      <td>622.000000</td>\n",
              "    </tr>\n",
              "  </tbody>\n",
              "</table>\n",
              "</div>\n",
              "      <button class=\"colab-df-convert\" onclick=\"convertToInteractive('df-1bacd6f4-4a03-4015-911a-c65e86cb9cf7')\"\n",
              "              title=\"Convert this dataframe to an interactive table.\"\n",
              "              style=\"display:none;\">\n",
              "        \n",
              "  <svg xmlns=\"http://www.w3.org/2000/svg\" height=\"24px\"viewBox=\"0 0 24 24\"\n",
              "       width=\"24px\">\n",
              "    <path d=\"M0 0h24v24H0V0z\" fill=\"none\"/>\n",
              "    <path d=\"M18.56 5.44l.94 2.06.94-2.06 2.06-.94-2.06-.94-.94-2.06-.94 2.06-2.06.94zm-11 1L8.5 8.5l.94-2.06 2.06-.94-2.06-.94L8.5 2.5l-.94 2.06-2.06.94zm10 10l.94 2.06.94-2.06 2.06-.94-2.06-.94-.94-2.06-.94 2.06-2.06.94z\"/><path d=\"M17.41 7.96l-1.37-1.37c-.4-.4-.92-.59-1.43-.59-.52 0-1.04.2-1.43.59L10.3 9.45l-7.72 7.72c-.78.78-.78 2.05 0 2.83L4 21.41c.39.39.9.59 1.41.59.51 0 1.02-.2 1.41-.59l7.78-7.78 2.81-2.81c.8-.78.8-2.07 0-2.86zM5.41 20L4 18.59l7.72-7.72 1.47 1.35L5.41 20z\"/>\n",
              "  </svg>\n",
              "      </button>\n",
              "      \n",
              "  <style>\n",
              "    .colab-df-container {\n",
              "      display:flex;\n",
              "      flex-wrap:wrap;\n",
              "      gap: 12px;\n",
              "    }\n",
              "\n",
              "    .colab-df-convert {\n",
              "      background-color: #E8F0FE;\n",
              "      border: none;\n",
              "      border-radius: 50%;\n",
              "      cursor: pointer;\n",
              "      display: none;\n",
              "      fill: #1967D2;\n",
              "      height: 32px;\n",
              "      padding: 0 0 0 0;\n",
              "      width: 32px;\n",
              "    }\n",
              "\n",
              "    .colab-df-convert:hover {\n",
              "      background-color: #E2EBFA;\n",
              "      box-shadow: 0px 1px 2px rgba(60, 64, 67, 0.3), 0px 1px 3px 1px rgba(60, 64, 67, 0.15);\n",
              "      fill: #174EA6;\n",
              "    }\n",
              "\n",
              "    [theme=dark] .colab-df-convert {\n",
              "      background-color: #3B4455;\n",
              "      fill: #D2E3FC;\n",
              "    }\n",
              "\n",
              "    [theme=dark] .colab-df-convert:hover {\n",
              "      background-color: #434B5C;\n",
              "      box-shadow: 0px 1px 3px 1px rgba(0, 0, 0, 0.15);\n",
              "      filter: drop-shadow(0px 1px 2px rgba(0, 0, 0, 0.3));\n",
              "      fill: #FFFFFF;\n",
              "    }\n",
              "  </style>\n",
              "\n",
              "      <script>\n",
              "        const buttonEl =\n",
              "          document.querySelector('#df-1bacd6f4-4a03-4015-911a-c65e86cb9cf7 button.colab-df-convert');\n",
              "        buttonEl.style.display =\n",
              "          google.colab.kernel.accessAllowed ? 'block' : 'none';\n",
              "\n",
              "        async function convertToInteractive(key) {\n",
              "          const element = document.querySelector('#df-1bacd6f4-4a03-4015-911a-c65e86cb9cf7');\n",
              "          const dataTable =\n",
              "            await google.colab.kernel.invokeFunction('convertToInteractive',\n",
              "                                                     [key], {});\n",
              "          if (!dataTable) return;\n",
              "\n",
              "          const docLinkHtml = 'Like what you see? Visit the ' +\n",
              "            '<a target=\"_blank\" href=https://colab.research.google.com/notebooks/data_table.ipynb>data table notebook</a>'\n",
              "            + ' to learn more about interactive tables.';\n",
              "          element.innerHTML = '';\n",
              "          dataTable['output_type'] = 'display_data';\n",
              "          await google.colab.output.renderOutput(dataTable, element);\n",
              "          const docLink = document.createElement('div');\n",
              "          docLink.innerHTML = docLinkHtml;\n",
              "          element.appendChild(docLink);\n",
              "        }\n",
              "      </script>\n",
              "    </div>\n",
              "  </div>\n",
              "  "
            ]
          },
          "metadata": {},
          "execution_count": 24
        }
      ]
    },
    {
      "cell_type": "code",
      "source": [
        "data.rename(columns={'#Passengers':'passengers'},inplace=True)\n",
        "data = data['passengers']\n",
        "data=np.array(data).reshape(-1,1)"
      ],
      "metadata": {
        "id": "7OGah7AB9a6O"
      },
      "execution_count": 86,
      "outputs": []
    },
    {
      "cell_type": "code",
      "source": [
        "plt.figure(figsize=(15,8))\n",
        "plt.plot(data)"
      ],
      "metadata": {
        "colab": {
          "base_uri": "https://localhost:8080/",
          "height": 500
        },
        "id": "1brMl2Yy9nLu",
        "outputId": "f7f01d03-4788-4b90-d182-f6b5ff985ca8"
      },
      "execution_count": 26,
      "outputs": [
        {
          "output_type": "execute_result",
          "data": {
            "text/plain": [
              "[<matplotlib.lines.Line2D at 0x7f1ef94fd590>]"
            ]
          },
          "metadata": {},
          "execution_count": 26
        },
        {
          "output_type": "display_data",
          "data": {
            "text/plain": [
              "<Figure size 1080x576 with 1 Axes>"
            ],
            "image/png": "[encoded data removed]"
          },
          "metadata": {
            "needs_background": "light"
          }
        }
      ]
    },
    {
      "cell_type": "code",
      "source": [
        ""
      ],
      "metadata": {
        "id": "Fw30Xe37AAlI"
      },
      "execution_count": null,
      "outputs": []
    },
    {
      "cell_type": "markdown",
      "source": [
        "**Feature** **Scaling**"
      ],
      "metadata": {
        "id": "BLqAUaCxADIi"
      }
    },
    {
      "cell_type": "code",
      "source": [
        "scaler= MinMaxScaler()\n",
        "data=scaler.fit_transform(data)"
      ],
      "metadata": {
        "id": "8Gd479hLAK99"
      },
      "execution_count": 96,
      "outputs": []
    },
    {
      "cell_type": "code",
      "source": [
        "train_size=100\n",
        "test_size=44"
      ],
      "metadata": {
        "id": "zlmtqgZpAXMC"
      },
      "execution_count": 97,
      "outputs": []
    },
    {
      "cell_type": "code",
      "source": [
        "train=data[0:train_size,:]\n",
        "test=data[train_size:,:]"
      ],
      "metadata": {
        "id": "H42G_wDsAcsB"
      },
      "execution_count": 98,
      "outputs": []
    },
    {
      "cell_type": "code",
      "source": [
        "train.shape"
      ],
      "metadata": {
        "colab": {
          "base_uri": "https://localhost:8080/"
        },
        "id": "tk-hjTMQAdSM",
        "outputId": "f80dec6c-1d0e-484c-d771-ffbda2a57ea2"
      },
      "execution_count": 90,
      "outputs": [
        {
          "output_type": "execute_result",
          "data": {
            "text/plain": [
              "(71, 1)"
            ]
          },
          "metadata": {},
          "execution_count": 90
        }
      ]
    },
    {
      "cell_type": "code",
      "source": [
        "test.shape"
      ],
      "metadata": {
        "colab": {
          "base_uri": "https://localhost:8080/"
        },
        "id": "zmZzL1ZHAdZK",
        "outputId": "94127610-5401-4bf5-a689-cf565db2d882"
      },
      "execution_count": 91,
      "outputs": [
        {
          "output_type": "execute_result",
          "data": {
            "text/plain": [
              "(73, 1)"
            ]
          },
          "metadata": {},
          "execution_count": 91
        }
      ]
    },
    {
      "cell_type": "code",
      "source": [
        "def get_data(data, look_back):\n",
        "    dataX, dataY = [], []\n",
        "    for i in range(len(data)-look_back-1):\n",
        "        a = data[i:(i+look_back), 0]\n",
        "        dataX.append(a)\n",
        "        dataY.append(data[i+look_back, 0])\n",
        "    return np.array(dataX), np.array(dataY)"
      ],
      "metadata": {
        "id": "PoDDRoORAwwb"
      },
      "execution_count": 99,
      "outputs": []
    },
    {
      "cell_type": "code",
      "source": [
        "train"
      ],
      "metadata": {
        "colab": {
          "base_uri": "https://localhost:8080/"
        },
        "id": "DdY_BhjuA5TX",
        "outputId": "78ec1789-96eb-4791-8c86-955cf8f4c540"
      },
      "execution_count": 34,
      "outputs": [
        {
          "output_type": "execute_result",
          "data": {
            "text/plain": [
              "array([[0.01544402],\n",
              "       [0.02702703],\n",
              "       [0.05405405],\n",
              "       [0.04826255],\n",
              "       [0.03281853],\n",
              "       [0.05984556],\n",
              "       [0.08494208],\n",
              "       [0.08494208],\n",
              "       [0.06177606],\n",
              "       [0.02895753],\n",
              "       [0.        ],\n",
              "       [0.02702703],\n",
              "       [0.02123552],\n",
              "       [0.04247104],\n",
              "       [0.07142857],\n",
              "       [0.05984556],\n",
              "       [0.04054054],\n",
              "       [0.08687259],\n",
              "       [0.12741313],\n",
              "       [0.12741313],\n",
              "       [0.1042471 ],\n",
              "       [0.05598456],\n",
              "       [0.01930502],\n",
              "       [0.06949807],\n",
              "       [0.07915058],\n",
              "       [0.08880309],\n",
              "       [0.14285714],\n",
              "       [0.11389961],\n",
              "       [0.13127413],\n",
              "       [0.14285714],\n",
              "       [0.18339768],\n",
              "       [0.18339768],\n",
              "       [0.15444015],\n",
              "       [0.11196911],\n",
              "       [0.08108108],\n",
              "       [0.11969112],\n",
              "       [0.12934363],\n",
              "       [0.14671815],\n",
              "       [0.17181467],\n",
              "       [0.14864865],\n",
              "       [0.15250965],\n",
              "       [0.22007722],\n",
              "       [0.24324324],\n",
              "       [0.26640927],\n",
              "       [0.2027027 ],\n",
              "       [0.16795367],\n",
              "       [0.13127413],\n",
              "       [0.17374517],\n",
              "       [0.17760618],\n",
              "       [0.17760618],\n",
              "       [0.25482625],\n",
              "       [0.25289575],\n",
              "       [0.24131274],\n",
              "       [0.26833977],\n",
              "       [0.30888031],\n",
              "       [0.32432432],\n",
              "       [0.25675676],\n",
              "       [0.20656371],\n",
              "       [0.14671815],\n",
              "       [0.18725869],\n",
              "       [0.19305019],\n",
              "       [0.16216216],\n",
              "       [0.25289575],\n",
              "       [0.23745174],\n",
              "       [0.25096525],\n",
              "       [0.30888031],\n",
              "       [0.38223938],\n",
              "       [0.36486486],\n",
              "       [0.2992278 ],\n",
              "       [0.24131274],\n",
              "       [0.19111969],\n",
              "       [0.24131274],\n",
              "       [0.26640927],\n",
              "       [0.24903475],\n",
              "       [0.31467181],\n",
              "       [0.31853282],\n",
              "       [0.32046332],\n",
              "       [0.40733591],\n",
              "       [0.5019305 ],\n",
              "       [0.46911197],\n",
              "       [0.4015444 ],\n",
              "       [0.32818533],\n",
              "       [0.25675676],\n",
              "       [0.33590734],\n",
              "       [0.34749035],\n",
              "       [0.33397683],\n",
              "       [0.41119691],\n",
              "       [0.4034749 ],\n",
              "       [0.41312741],\n",
              "       [0.52123552],\n",
              "       [0.5965251 ],\n",
              "       [0.58108108],\n",
              "       [0.48455598],\n",
              "       [0.38996139],\n",
              "       [0.32239382],\n",
              "       [0.38996139],\n",
              "       [0.40733591],\n",
              "       [0.38030888],\n",
              "       [0.48648649],\n",
              "       [0.47104247]])"
            ]
          },
          "metadata": {},
          "execution_count": 34
        }
      ]
    },
    {
      "cell_type": "code",
      "source": [
        "look_back = 10\n",
        "X_train, y_train = get_data(train, look_back)"
      ],
      "metadata": {
        "id": "OOIisZA9A0sm"
      },
      "execution_count": 100,
      "outputs": []
    },
    {
      "cell_type": "code",
      "source": [
        "X_train"
      ],
      "metadata": {
        "colab": {
          "base_uri": "https://localhost:8080/"
        },
        "id": "NEd_tVQpA81e",
        "outputId": "734c1ffb-d69a-458d-c0df-d06220fe19d5"
      },
      "execution_count": 70,
      "outputs": [
        {
          "output_type": "execute_result",
          "data": {
            "text/plain": [
              "array([[0.01544402, 0.02702703, 0.05405405, 0.04826255, 0.03281853,\n",
              "        0.05984556, 0.08494208, 0.08494208, 0.06177606, 0.02895753],\n",
              "       [0.02702703, 0.05405405, 0.04826255, 0.03281853, 0.05984556,\n",
              "        0.08494208, 0.08494208, 0.06177606, 0.02895753, 0.        ],\n",
              "       [0.05405405, 0.04826255, 0.03281853, 0.05984556, 0.08494208,\n",
              "        0.08494208, 0.06177606, 0.02895753, 0.        , 0.02702703],\n",
              "       [0.04826255, 0.03281853, 0.05984556, 0.08494208, 0.08494208,\n",
              "        0.06177606, 0.02895753, 0.        , 0.02702703, 0.02123552],\n",
              "       [0.03281853, 0.05984556, 0.08494208, 0.08494208, 0.06177606,\n",
              "        0.02895753, 0.        , 0.02702703, 0.02123552, 0.04247104],\n",
              "       [0.05984556, 0.08494208, 0.08494208, 0.06177606, 0.02895753,\n",
              "        0.        , 0.02702703, 0.02123552, 0.04247104, 0.07142857],\n",
              "       [0.08494208, 0.08494208, 0.06177606, 0.02895753, 0.        ,\n",
              "        0.02702703, 0.02123552, 0.04247104, 0.07142857, 0.05984556],\n",
              "       [0.08494208, 0.06177606, 0.02895753, 0.        , 0.02702703,\n",
              "        0.02123552, 0.04247104, 0.07142857, 0.05984556, 0.04054054],\n",
              "       [0.06177606, 0.02895753, 0.        , 0.02702703, 0.02123552,\n",
              "        0.04247104, 0.07142857, 0.05984556, 0.04054054, 0.08687259],\n",
              "       [0.02895753, 0.        , 0.02702703, 0.02123552, 0.04247104,\n",
              "        0.07142857, 0.05984556, 0.04054054, 0.08687259, 0.12741313],\n",
              "       [0.        , 0.02702703, 0.02123552, 0.04247104, 0.07142857,\n",
              "        0.05984556, 0.04054054, 0.08687259, 0.12741313, 0.12741313],\n",
              "       [0.02702703, 0.02123552, 0.04247104, 0.07142857, 0.05984556,\n",
              "        0.04054054, 0.08687259, 0.12741313, 0.12741313, 0.1042471 ],\n",
              "       [0.02123552, 0.04247104, 0.07142857, 0.05984556, 0.04054054,\n",
              "        0.08687259, 0.12741313, 0.12741313, 0.1042471 , 0.05598456],\n",
              "       [0.04247104, 0.07142857, 0.05984556, 0.04054054, 0.08687259,\n",
              "        0.12741313, 0.12741313, 0.1042471 , 0.05598456, 0.01930502],\n",
              "       [0.07142857, 0.05984556, 0.04054054, 0.08687259, 0.12741313,\n",
              "        0.12741313, 0.1042471 , 0.05598456, 0.01930502, 0.06949807],\n",
              "       [0.05984556, 0.04054054, 0.08687259, 0.12741313, 0.12741313,\n",
              "        0.1042471 , 0.05598456, 0.01930502, 0.06949807, 0.07915058],\n",
              "       [0.04054054, 0.08687259, 0.12741313, 0.12741313, 0.1042471 ,\n",
              "        0.05598456, 0.01930502, 0.06949807, 0.07915058, 0.08880309],\n",
              "       [0.08687259, 0.12741313, 0.12741313, 0.1042471 , 0.05598456,\n",
              "        0.01930502, 0.06949807, 0.07915058, 0.08880309, 0.14285714],\n",
              "       [0.12741313, 0.12741313, 0.1042471 , 0.05598456, 0.01930502,\n",
              "        0.06949807, 0.07915058, 0.08880309, 0.14285714, 0.11389961],\n",
              "       [0.12741313, 0.1042471 , 0.05598456, 0.01930502, 0.06949807,\n",
              "        0.07915058, 0.08880309, 0.14285714, 0.11389961, 0.13127413],\n",
              "       [0.1042471 , 0.05598456, 0.01930502, 0.06949807, 0.07915058,\n",
              "        0.08880309, 0.14285714, 0.11389961, 0.13127413, 0.14285714],\n",
              "       [0.05598456, 0.01930502, 0.06949807, 0.07915058, 0.08880309,\n",
              "        0.14285714, 0.11389961, 0.13127413, 0.14285714, 0.18339768],\n",
              "       [0.01930502, 0.06949807, 0.07915058, 0.08880309, 0.14285714,\n",
              "        0.11389961, 0.13127413, 0.14285714, 0.18339768, 0.18339768],\n",
              "       [0.06949807, 0.07915058, 0.08880309, 0.14285714, 0.11389961,\n",
              "        0.13127413, 0.14285714, 0.18339768, 0.18339768, 0.15444015],\n",
              "       [0.07915058, 0.08880309, 0.14285714, 0.11389961, 0.13127413,\n",
              "        0.14285714, 0.18339768, 0.18339768, 0.15444015, 0.11196911],\n",
              "       [0.08880309, 0.14285714, 0.11389961, 0.13127413, 0.14285714,\n",
              "        0.18339768, 0.18339768, 0.15444015, 0.11196911, 0.08108108],\n",
              "       [0.14285714, 0.11389961, 0.13127413, 0.14285714, 0.18339768,\n",
              "        0.18339768, 0.15444015, 0.11196911, 0.08108108, 0.11969112],\n",
              "       [0.11389961, 0.13127413, 0.14285714, 0.18339768, 0.18339768,\n",
              "        0.15444015, 0.11196911, 0.08108108, 0.11969112, 0.12934363],\n",
              "       [0.13127413, 0.14285714, 0.18339768, 0.18339768, 0.15444015,\n",
              "        0.11196911, 0.08108108, 0.11969112, 0.12934363, 0.14671815],\n",
              "       [0.14285714, 0.18339768, 0.18339768, 0.15444015, 0.11196911,\n",
              "        0.08108108, 0.11969112, 0.12934363, 0.14671815, 0.17181467],\n",
              "       [0.18339768, 0.18339768, 0.15444015, 0.11196911, 0.08108108,\n",
              "        0.11969112, 0.12934363, 0.14671815, 0.17181467, 0.14864865],\n",
              "       [0.18339768, 0.15444015, 0.11196911, 0.08108108, 0.11969112,\n",
              "        0.12934363, 0.14671815, 0.17181467, 0.14864865, 0.15250965],\n",
              "       [0.15444015, 0.11196911, 0.08108108, 0.11969112, 0.12934363,\n",
              "        0.14671815, 0.17181467, 0.14864865, 0.15250965, 0.22007722],\n",
              "       [0.11196911, 0.08108108, 0.11969112, 0.12934363, 0.14671815,\n",
              "        0.17181467, 0.14864865, 0.15250965, 0.22007722, 0.24324324],\n",
              "       [0.08108108, 0.11969112, 0.12934363, 0.14671815, 0.17181467,\n",
              "        0.14864865, 0.15250965, 0.22007722, 0.24324324, 0.26640927],\n",
              "       [0.11969112, 0.12934363, 0.14671815, 0.17181467, 0.14864865,\n",
              "        0.15250965, 0.22007722, 0.24324324, 0.26640927, 0.2027027 ],\n",
              "       [0.12934363, 0.14671815, 0.17181467, 0.14864865, 0.15250965,\n",
              "        0.22007722, 0.24324324, 0.26640927, 0.2027027 , 0.16795367],\n",
              "       [0.14671815, 0.17181467, 0.14864865, 0.15250965, 0.22007722,\n",
              "        0.24324324, 0.26640927, 0.2027027 , 0.16795367, 0.13127413],\n",
              "       [0.17181467, 0.14864865, 0.15250965, 0.22007722, 0.24324324,\n",
              "        0.26640927, 0.2027027 , 0.16795367, 0.13127413, 0.17374517],\n",
              "       [0.14864865, 0.15250965, 0.22007722, 0.24324324, 0.26640927,\n",
              "        0.2027027 , 0.16795367, 0.13127413, 0.17374517, 0.17760618],\n",
              "       [0.15250965, 0.22007722, 0.24324324, 0.26640927, 0.2027027 ,\n",
              "        0.16795367, 0.13127413, 0.17374517, 0.17760618, 0.17760618],\n",
              "       [0.22007722, 0.24324324, 0.26640927, 0.2027027 , 0.16795367,\n",
              "        0.13127413, 0.17374517, 0.17760618, 0.17760618, 0.25482625],\n",
              "       [0.24324324, 0.26640927, 0.2027027 , 0.16795367, 0.13127413,\n",
              "        0.17374517, 0.17760618, 0.17760618, 0.25482625, 0.25289575],\n",
              "       [0.26640927, 0.2027027 , 0.16795367, 0.13127413, 0.17374517,\n",
              "        0.17760618, 0.17760618, 0.25482625, 0.25289575, 0.24131274],\n",
              "       [0.2027027 , 0.16795367, 0.13127413, 0.17374517, 0.17760618,\n",
              "        0.17760618, 0.25482625, 0.25289575, 0.24131274, 0.26833977],\n",
              "       [0.16795367, 0.13127413, 0.17374517, 0.17760618, 0.17760618,\n",
              "        0.25482625, 0.25289575, 0.24131274, 0.26833977, 0.30888031],\n",
              "       [0.13127413, 0.17374517, 0.17760618, 0.17760618, 0.25482625,\n",
              "        0.25289575, 0.24131274, 0.26833977, 0.30888031, 0.32432432],\n",
              "       [0.17374517, 0.17760618, 0.17760618, 0.25482625, 0.25289575,\n",
              "        0.24131274, 0.26833977, 0.30888031, 0.32432432, 0.25675676],\n",
              "       [0.17760618, 0.17760618, 0.25482625, 0.25289575, 0.24131274,\n",
              "        0.26833977, 0.30888031, 0.32432432, 0.25675676, 0.20656371],\n",
              "       [0.17760618, 0.25482625, 0.25289575, 0.24131274, 0.26833977,\n",
              "        0.30888031, 0.32432432, 0.25675676, 0.20656371, 0.14671815],\n",
              "       [0.25482625, 0.25289575, 0.24131274, 0.26833977, 0.30888031,\n",
              "        0.32432432, 0.25675676, 0.20656371, 0.14671815, 0.18725869],\n",
              "       [0.25289575, 0.24131274, 0.26833977, 0.30888031, 0.32432432,\n",
              "        0.25675676, 0.20656371, 0.14671815, 0.18725869, 0.19305019],\n",
              "       [0.24131274, 0.26833977, 0.30888031, 0.32432432, 0.25675676,\n",
              "        0.20656371, 0.14671815, 0.18725869, 0.19305019, 0.16216216],\n",
              "       [0.26833977, 0.30888031, 0.32432432, 0.25675676, 0.20656371,\n",
              "        0.14671815, 0.18725869, 0.19305019, 0.16216216, 0.25289575],\n",
              "       [0.30888031, 0.32432432, 0.25675676, 0.20656371, 0.14671815,\n",
              "        0.18725869, 0.19305019, 0.16216216, 0.25289575, 0.23745174],\n",
              "       [0.32432432, 0.25675676, 0.20656371, 0.14671815, 0.18725869,\n",
              "        0.19305019, 0.16216216, 0.25289575, 0.23745174, 0.25096525],\n",
              "       [0.25675676, 0.20656371, 0.14671815, 0.18725869, 0.19305019,\n",
              "        0.16216216, 0.25289575, 0.23745174, 0.25096525, 0.30888031],\n",
              "       [0.20656371, 0.14671815, 0.18725869, 0.19305019, 0.16216216,\n",
              "        0.25289575, 0.23745174, 0.25096525, 0.30888031, 0.38223938],\n",
              "       [0.14671815, 0.18725869, 0.19305019, 0.16216216, 0.25289575,\n",
              "        0.23745174, 0.25096525, 0.30888031, 0.38223938, 0.36486486],\n",
              "       [0.18725869, 0.19305019, 0.16216216, 0.25289575, 0.23745174,\n",
              "        0.25096525, 0.30888031, 0.38223938, 0.36486486, 0.2992278 ],\n",
              "       [0.19305019, 0.16216216, 0.25289575, 0.23745174, 0.25096525,\n",
              "        0.30888031, 0.38223938, 0.36486486, 0.2992278 , 0.24131274],\n",
              "       [0.16216216, 0.25289575, 0.23745174, 0.25096525, 0.30888031,\n",
              "        0.38223938, 0.36486486, 0.2992278 , 0.24131274, 0.19111969],\n",
              "       [0.25289575, 0.23745174, 0.25096525, 0.30888031, 0.38223938,\n",
              "        0.36486486, 0.2992278 , 0.24131274, 0.19111969, 0.24131274],\n",
              "       [0.23745174, 0.25096525, 0.30888031, 0.38223938, 0.36486486,\n",
              "        0.2992278 , 0.24131274, 0.19111969, 0.24131274, 0.26640927],\n",
              "       [0.25096525, 0.30888031, 0.38223938, 0.36486486, 0.2992278 ,\n",
              "        0.24131274, 0.19111969, 0.24131274, 0.26640927, 0.24903475],\n",
              "       [0.30888031, 0.38223938, 0.36486486, 0.2992278 , 0.24131274,\n",
              "        0.19111969, 0.24131274, 0.26640927, 0.24903475, 0.31467181],\n",
              "       [0.38223938, 0.36486486, 0.2992278 , 0.24131274, 0.19111969,\n",
              "        0.24131274, 0.26640927, 0.24903475, 0.31467181, 0.31853282],\n",
              "       [0.36486486, 0.2992278 , 0.24131274, 0.19111969, 0.24131274,\n",
              "        0.26640927, 0.24903475, 0.31467181, 0.31853282, 0.32046332],\n",
              "       [0.2992278 , 0.24131274, 0.19111969, 0.24131274, 0.26640927,\n",
              "        0.24903475, 0.31467181, 0.31853282, 0.32046332, 0.40733591],\n",
              "       [0.24131274, 0.19111969, 0.24131274, 0.26640927, 0.24903475,\n",
              "        0.31467181, 0.31853282, 0.32046332, 0.40733591, 0.5019305 ],\n",
              "       [0.19111969, 0.24131274, 0.26640927, 0.24903475, 0.31467181,\n",
              "        0.31853282, 0.32046332, 0.40733591, 0.5019305 , 0.46911197],\n",
              "       [0.24131274, 0.26640927, 0.24903475, 0.31467181, 0.31853282,\n",
              "        0.32046332, 0.40733591, 0.5019305 , 0.46911197, 0.4015444 ],\n",
              "       [0.26640927, 0.24903475, 0.31467181, 0.31853282, 0.32046332,\n",
              "        0.40733591, 0.5019305 , 0.46911197, 0.4015444 , 0.32818533],\n",
              "       [0.24903475, 0.31467181, 0.31853282, 0.32046332, 0.40733591,\n",
              "        0.5019305 , 0.46911197, 0.4015444 , 0.32818533, 0.25675676],\n",
              "       [0.31467181, 0.31853282, 0.32046332, 0.40733591, 0.5019305 ,\n",
              "        0.46911197, 0.4015444 , 0.32818533, 0.25675676, 0.33590734],\n",
              "       [0.31853282, 0.32046332, 0.40733591, 0.5019305 , 0.46911197,\n",
              "        0.4015444 , 0.32818533, 0.25675676, 0.33590734, 0.34749035],\n",
              "       [0.32046332, 0.40733591, 0.5019305 , 0.46911197, 0.4015444 ,\n",
              "        0.32818533, 0.25675676, 0.33590734, 0.34749035, 0.33397683],\n",
              "       [0.40733591, 0.5019305 , 0.46911197, 0.4015444 , 0.32818533,\n",
              "        0.25675676, 0.33590734, 0.34749035, 0.33397683, 0.41119691],\n",
              "       [0.5019305 , 0.46911197, 0.4015444 , 0.32818533, 0.25675676,\n",
              "        0.33590734, 0.34749035, 0.33397683, 0.41119691, 0.4034749 ],\n",
              "       [0.46911197, 0.4015444 , 0.32818533, 0.25675676, 0.33590734,\n",
              "        0.34749035, 0.33397683, 0.41119691, 0.4034749 , 0.41312741],\n",
              "       [0.4015444 , 0.32818533, 0.25675676, 0.33590734, 0.34749035,\n",
              "        0.33397683, 0.41119691, 0.4034749 , 0.41312741, 0.52123552],\n",
              "       [0.32818533, 0.25675676, 0.33590734, 0.34749035, 0.33397683,\n",
              "        0.41119691, 0.4034749 , 0.41312741, 0.52123552, 0.5965251 ],\n",
              "       [0.25675676, 0.33590734, 0.34749035, 0.33397683, 0.41119691,\n",
              "        0.4034749 , 0.41312741, 0.52123552, 0.5965251 , 0.58108108],\n",
              "       [0.33590734, 0.34749035, 0.33397683, 0.41119691, 0.4034749 ,\n",
              "        0.41312741, 0.52123552, 0.5965251 , 0.58108108, 0.48455598],\n",
              "       [0.34749035, 0.33397683, 0.41119691, 0.4034749 , 0.41312741,\n",
              "        0.52123552, 0.5965251 , 0.58108108, 0.48455598, 0.38996139],\n",
              "       [0.33397683, 0.41119691, 0.4034749 , 0.41312741, 0.52123552,\n",
              "        0.5965251 , 0.58108108, 0.48455598, 0.38996139, 0.32239382],\n",
              "       [0.41119691, 0.4034749 , 0.41312741, 0.52123552, 0.5965251 ,\n",
              "        0.58108108, 0.48455598, 0.38996139, 0.32239382, 0.38996139],\n",
              "       [0.4034749 , 0.41312741, 0.52123552, 0.5965251 , 0.58108108,\n",
              "        0.48455598, 0.38996139, 0.32239382, 0.38996139, 0.40733591],\n",
              "       [0.41312741, 0.52123552, 0.5965251 , 0.58108108, 0.48455598,\n",
              "        0.38996139, 0.32239382, 0.38996139, 0.40733591, 0.38030888]])"
            ]
          },
          "metadata": {},
          "execution_count": 70
        }
      ]
    },
    {
      "cell_type": "code",
      "source": [
        "y_train"
      ],
      "metadata": {
        "colab": {
          "base_uri": "https://localhost:8080/"
        },
        "id": "P2MxHh9dBAqH",
        "outputId": "f5b0d07e-74c3-46b3-ae63-798434264e89"
      },
      "execution_count": 71,
      "outputs": [
        {
          "output_type": "execute_result",
          "data": {
            "text/plain": [
              "array([0.        , 0.02702703, 0.02123552, 0.04247104, 0.07142857,\n",
              "       0.05984556, 0.04054054, 0.08687259, 0.12741313, 0.12741313,\n",
              "       0.1042471 , 0.05598456, 0.01930502, 0.06949807, 0.07915058,\n",
              "       0.08880309, 0.14285714, 0.11389961, 0.13127413, 0.14285714,\n",
              "       0.18339768, 0.18339768, 0.15444015, 0.11196911, 0.08108108,\n",
              "       0.11969112, 0.12934363, 0.14671815, 0.17181467, 0.14864865,\n",
              "       0.15250965, 0.22007722, 0.24324324, 0.26640927, 0.2027027 ,\n",
              "       0.16795367, 0.13127413, 0.17374517, 0.17760618, 0.17760618,\n",
              "       0.25482625, 0.25289575, 0.24131274, 0.26833977, 0.30888031,\n",
              "       0.32432432, 0.25675676, 0.20656371, 0.14671815, 0.18725869,\n",
              "       0.19305019, 0.16216216, 0.25289575, 0.23745174, 0.25096525,\n",
              "       0.30888031, 0.38223938, 0.36486486, 0.2992278 , 0.24131274,\n",
              "       0.19111969, 0.24131274, 0.26640927, 0.24903475, 0.31467181,\n",
              "       0.31853282, 0.32046332, 0.40733591, 0.5019305 , 0.46911197,\n",
              "       0.4015444 , 0.32818533, 0.25675676, 0.33590734, 0.34749035,\n",
              "       0.33397683, 0.41119691, 0.4034749 , 0.41312741, 0.52123552,\n",
              "       0.5965251 , 0.58108108, 0.48455598, 0.38996139, 0.32239382,\n",
              "       0.38996139, 0.40733591, 0.38030888, 0.48648649])"
            ]
          },
          "metadata": {},
          "execution_count": 71
        }
      ]
    },
    {
      "cell_type": "code",
      "source": [
        "X_test, y_test = get_data(test, look_back)"
      ],
      "metadata": {
        "id": "XpmAsgTUBlyG"
      },
      "execution_count": 101,
      "outputs": []
    },
    {
      "cell_type": "code",
      "source": [
        "X_train = X_train.reshape(X_train.shape[0], X_train.shape[1], 1)\n",
        "X_test = X_test.reshape(X_test.shape[0], X_test.shape[1], 1)"
      ],
      "metadata": {
        "id": "PoW4r2k8BmZO"
      },
      "execution_count": 102,
      "outputs": []
    },
    {
      "cell_type": "code",
      "source": [
        "X_train.shape"
      ],
      "metadata": {
        "colab": {
          "base_uri": "https://localhost:8080/"
        },
        "id": "AFWqJiP0BmhK",
        "outputId": "78df5a07-c72a-48e4-c156-03c00ba67b18"
      },
      "execution_count": 103,
      "outputs": [
        {
          "output_type": "execute_result",
          "data": {
            "text/plain": [
              "(89, 10, 1)"
            ]
          },
          "metadata": {},
          "execution_count": 103
        }
      ]
    },
    {
      "cell_type": "code",
      "source": [
        "97 = No of samples\n",
        "2 = time steps\n",
        "1 = featue"
      ],
      "metadata": {
        "id": "sAR5K3xFEHQo"
      },
      "execution_count": null,
      "outputs": []
    },
    {
      "cell_type": "code",
      "source": [
        "look_back"
      ],
      "metadata": {
        "colab": {
          "base_uri": "https://localhost:8080/"
        },
        "id": "BBBmP45uESFn",
        "outputId": "107b527a-417d-45f4-95c5-cb3f0635e25a"
      },
      "execution_count": 75,
      "outputs": [
        {
          "output_type": "execute_result",
          "data": {
            "text/plain": [
              "10"
            ]
          },
          "metadata": {},
          "execution_count": 75
        }
      ]
    },
    {
      "cell_type": "markdown",
      "source": [
        "**LSTM**"
      ],
      "metadata": {
        "id": "1Ys8SYOGETIh"
      }
    },
    {
      "cell_type": "code",
      "source": [
        "model = Sequential()\n",
        "model.add(LSTM(10, input_shape = (look_back, 1)))\n",
        "model.add(Dense(1))\n",
        "model.compile(loss = 'mean_squared_error', optimizer = 'adam')"
      ],
      "metadata": {
        "id": "6gp55yuYEWqe"
      },
      "execution_count": 104,
      "outputs": []
    },
    {
      "cell_type": "code",
      "source": [
        "model.summary()"
      ],
      "metadata": {
        "colab": {
          "base_uri": "https://localhost:8080/"
        },
        "id": "ZjAEi0p7Elhr",
        "outputId": "f619eeb8-c029-42a7-d114-a449c7a4102f"
      },
      "execution_count": 105,
      "outputs": [
        {
          "output_type": "stream",
          "name": "stdout",
          "text": [
            "Model: \"sequential_5\"\n",
            "_________________________________________________________________\n",
            " Layer (type)                Output Shape              Param #   \n",
            "=================================================================\n",
            " lstm_5 (LSTM)               (None, 10)                480       \n",
            "                                                                 \n",
            " dense_5 (Dense)             (None, 1)                 11        \n",
            "                                                                 \n",
            "=================================================================\n",
            "Total params: 491\n",
            "Trainable params: 491\n",
            "Non-trainable params: 0\n",
            "_________________________________________________________________\n"
          ]
        }
      ]
    },
    {
      "cell_type": "code",
      "source": [
        "model.fit(X_train, y_train, epochs=50, batch_size=1)"
      ],
      "metadata": {
        "colab": {
          "base_uri": "https://localhost:8080/"
        },
        "id": "jdR4gSPKEtym",
        "outputId": "3c836e97-4b07-45ff-b8f2-dcfeadd36254"
      },
      "execution_count": 106,
      "outputs": [
        {
          "output_type": "stream",
          "name": "stdout",
          "text": [
            "Epoch 1/50\n",
            "89/89 [==============================] - 2s 3ms/step - loss: 0.0283\n",
            "Epoch 2/50\n",
            "89/89 [==============================] - 0s 3ms/step - loss: 0.0087\n",
            "Epoch 3/50\n",
            "89/89 [==============================] - 0s 3ms/step - loss: 0.0068\n",
            "Epoch 4/50\n",
            "89/89 [==============================] - 0s 3ms/step - loss: 0.0060\n",
            "Epoch 5/50\n",
            "89/89 [==============================] - 0s 3ms/step - loss: 0.0051\n",
            "Epoch 6/50\n",
            "89/89 [==============================] - 0s 3ms/step - loss: 0.0053\n",
            "Epoch 7/50\n",
            "89/89 [==============================] - 0s 3ms/step - loss: 0.0053\n",
            "Epoch 8/50\n",
            "89/89 [==============================] - 0s 3ms/step - loss: 0.0052\n",
            "Epoch 9/50\n",
            "89/89 [==============================] - 0s 3ms/step - loss: 0.0051\n",
            "Epoch 10/50\n",
            "89/89 [==============================] - 0s 3ms/step - loss: 0.0048\n",
            "Epoch 11/50\n",
            "89/89 [==============================] - 0s 3ms/step - loss: 0.0050\n",
            "Epoch 12/50\n",
            "89/89 [==============================] - 0s 3ms/step - loss: 0.0050\n",
            "Epoch 13/50\n",
            "89/89 [==============================] - 0s 3ms/step - loss: 0.0047\n",
            "Epoch 14/50\n",
            "89/89 [==============================] - 0s 3ms/step - loss: 0.0046\n",
            "Epoch 15/50\n",
            "89/89 [==============================] - 0s 3ms/step - loss: 0.0049\n",
            "Epoch 16/50\n",
            "89/89 [==============================] - 0s 3ms/step - loss: 0.0047\n",
            "Epoch 17/50\n",
            "89/89 [==============================] - 0s 3ms/step - loss: 0.0046\n",
            "Epoch 18/50\n",
            "89/89 [==============================] - 0s 3ms/step - loss: 0.0051\n",
            "Epoch 19/50\n",
            "89/89 [==============================] - 0s 3ms/step - loss: 0.0046\n",
            "Epoch 20/50\n",
            "89/89 [==============================] - 0s 3ms/step - loss: 0.0043\n",
            "Epoch 21/50\n",
            "89/89 [==============================] - 0s 3ms/step - loss: 0.0044\n",
            "Epoch 22/50\n",
            "89/89 [==============================] - 0s 3ms/step - loss: 0.0043\n",
            "Epoch 23/50\n",
            "89/89 [==============================] - 0s 3ms/step - loss: 0.0045\n",
            "Epoch 24/50\n",
            "89/89 [==============================] - 0s 3ms/step - loss: 0.0043\n",
            "Epoch 25/50\n",
            "89/89 [==============================] - 0s 3ms/step - loss: 0.0042\n",
            "Epoch 26/50\n",
            "89/89 [==============================] - 0s 3ms/step - loss: 0.0042\n",
            "Epoch 27/50\n",
            "89/89 [==============================] - 0s 3ms/step - loss: 0.0043\n",
            "Epoch 28/50\n",
            "89/89 [==============================] - 0s 3ms/step - loss: 0.0042\n",
            "Epoch 29/50\n",
            "89/89 [==============================] - 0s 3ms/step - loss: 0.0042\n",
            "Epoch 30/50\n",
            "89/89 [==============================] - 0s 3ms/step - loss: 0.0042\n",
            "Epoch 31/50\n",
            "89/89 [==============================] - 0s 3ms/step - loss: 0.0039\n",
            "Epoch 32/50\n",
            "89/89 [==============================] - 0s 3ms/step - loss: 0.0042\n",
            "Epoch 33/50\n",
            "89/89 [==============================] - 0s 3ms/step - loss: 0.0042\n",
            "Epoch 34/50\n",
            "89/89 [==============================] - 0s 3ms/step - loss: 0.0041\n",
            "Epoch 35/50\n",
            "89/89 [==============================] - 0s 3ms/step - loss: 0.0041\n",
            "Epoch 36/50\n",
            "89/89 [==============================] - 0s 3ms/step - loss: 0.0040\n",
            "Epoch 37/50\n",
            "89/89 [==============================] - 0s 3ms/step - loss: 0.0038\n",
            "Epoch 38/50\n",
            "89/89 [==============================] - 0s 3ms/step - loss: 0.0040\n",
            "Epoch 39/50\n",
            "89/89 [==============================] - 0s 3ms/step - loss: 0.0038\n",
            "Epoch 40/50\n",
            "89/89 [==============================] - 0s 3ms/step - loss: 0.0039\n",
            "Epoch 41/50\n",
            "89/89 [==============================] - 0s 3ms/step - loss: 0.0038\n",
            "Epoch 42/50\n",
            "89/89 [==============================] - 0s 3ms/step - loss: 0.0036\n",
            "Epoch 43/50\n",
            "89/89 [==============================] - 0s 3ms/step - loss: 0.0039\n",
            "Epoch 44/50\n",
            "89/89 [==============================] - 0s 3ms/step - loss: 0.0036\n",
            "Epoch 45/50\n",
            "89/89 [==============================] - 0s 3ms/step - loss: 0.0036\n",
            "Epoch 46/50\n",
            "89/89 [==============================] - 0s 3ms/step - loss: 0.0035\n",
            "Epoch 47/50\n",
            "89/89 [==============================] - 0s 3ms/step - loss: 0.0035\n",
            "Epoch 48/50\n",
            "89/89 [==============================] - 0s 3ms/step - loss: 0.0035\n",
            "Epoch 49/50\n",
            "89/89 [==============================] - 0s 3ms/step - loss: 0.0036\n",
            "Epoch 50/50\n",
            "89/89 [==============================] - 0s 3ms/step - loss: 0.0037\n"
          ]
        },
        {
          "output_type": "execute_result",
          "data": {
            "text/plain": [
              "<keras.callbacks.History at 0x7f1ef3bf78d0>"
            ]
          },
          "metadata": {},
          "execution_count": 106
        }
      ]
    },
    {
      "cell_type": "code",
      "source": [
        "y_pred = model.predict(X_test)"
      ],
      "metadata": {
        "id": "H7RoBZo2FiIe"
      },
      "execution_count": 107,
      "outputs": []
    },
    {
      "cell_type": "code",
      "source": [
        "scaler.scale_"
      ],
      "metadata": {
        "colab": {
          "base_uri": "https://localhost:8080/"
        },
        "id": "F1dg1BkRFlcc",
        "outputId": "29958f12-35f0-4c2b-dd5f-5ab4f67d9d19"
      },
      "execution_count": 108,
      "outputs": [
        {
          "output_type": "execute_result",
          "data": {
            "text/plain": [
              "array([1.])"
            ]
          },
          "metadata": {},
          "execution_count": 108
        }
      ]
    },
    {
      "cell_type": "code",
      "source": [
        "y_pred = scaler.inverse_transform(y_pred)"
      ],
      "metadata": {
        "id": "YDA9oy3AFosb"
      },
      "execution_count": 109,
      "outputs": []
    },
    {
      "cell_type": "code",
      "source": [
        "y_test = y_test.reshape(-1, 1)\n",
        "y_test = scaler.inverse_transform(y_test)"
      ],
      "metadata": {
        "id": "E5MAODYSFvGB"
      },
      "execution_count": 110,
      "outputs": []
    },
    {
      "cell_type": "code",
      "source": [
        "# plot baseline and predictions\n",
        "plt.figure(figsize=(14,5))\n",
        "plt.plot(y_test, label = 'real number of passengers')\n",
        "plt.plot(y_pred, label = 'predicted number of passengers')\n",
        "plt.ylabel('# passengers')\n",
        "plt.legend()\n",
        "plt.show()"
      ],
      "metadata": {
        "colab": {
          "base_uri": "https://localhost:8080/",
          "height": 320
        },
        "id": "w8XF2uVlFxjp",
        "outputId": "e0dfc926-8a45-459c-bdd4-ad03e6b28720"
      },
      "execution_count": 111,
      "outputs": [
        {
          "output_type": "display_data",
          "data": {
            "text/plain": [
              "<Figure size 1008x360 with 1 Axes>"
            ],
            "image/png": "[encoded data removed]"
          },
          "metadata": {
            "needs_background": "light"
          }
        }
      ]
    },
    {
      "cell_type": "code",
      "source": [
        "y_pred[:,0]"
      ],
      "metadata": {
        "id": "3o8HqFryHFY4",
        "outputId": "67b1b4b3-f548-4bc7-f0b6-f763addd2b22",
        "colab": {
          "base_uri": "https://localhost:8080/"
        }
      },
      "execution_count": 112,
      "outputs": [
        {
          "output_type": "execute_result",
          "data": {
            "text/plain": [
              "array([0.44538152, 0.47106528, 0.46603343, 0.4747325 , 0.52792174,\n",
              "       0.5880001 , 0.6254853 , 0.57356304, 0.52931726, 0.4756928 ,\n",
              "       0.4737638 , 0.48344588, 0.47221208, 0.51610637, 0.5211054 ,\n",
              "       0.54185253, 0.58558494, 0.65802985, 0.6956931 , 0.64856464,\n",
              "       0.59920394, 0.5480803 , 0.55930406, 0.56525135, 0.5479024 ,\n",
              "       0.56358105, 0.59714067, 0.61495554, 0.66757107, 0.7484492 ,\n",
              "       0.7686953 , 0.71528083, 0.6696871 ], dtype=float32)"
            ]
          },
          "metadata": {},
          "execution_count": 112
        }
      ]
    },
    {
      "cell_type": "code",
      "source": [
        "trainScore = math.sqrt(mean_squared_error(y_test, y_pred[:,0]))\n",
        "print('Train Score: %.2f RMSE' % (trainScore))\n",
        "testScore = math.sqrt(mean_squared_error(y_test, y_pred[:,0]))\n",
        "print('Test Score: %.2f RMSE' % (testScore))"
      ],
      "metadata": {
        "id": "QhnnPYy4GpGz",
        "outputId": "6c798ae3-56d2-4c89-edc4-7c78f2bdf12a",
        "colab": {
          "base_uri": "https://localhost:8080/"
        }
      },
      "execution_count": 113,
      "outputs": [
        {
          "output_type": "stream",
          "name": "stdout",
          "text": [
            "Train Score: 0.13 RMSE\n",
            "Test Score: 0.13 RMSE\n"
          ]
        }
      ]
    }
  ]
}